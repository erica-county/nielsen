{
 "cells": [
  {
   "cell_type": "markdown",
   "metadata": {
    "slideshow": {
     "slide_type": "slide"
    }
   },
   "source": [
    "# Introduction to UNIX\n",
    "\n",
    "<center>\n",
    "    <img src = https://upload.wikimedia.org/wikipedia/commons/thumb/8/8f/Ken_Thompson_%28sitting%29_and_Dennis_Ritchie_at_PDP-11_%282876612463%29.jpg/440px-Ken_Thompson_%28sitting%29_and_Dennis_Ritchie_at_PDP-11_%282876612463%29.jpg\n",
    "        width = 80% />\n",
    "    </center>"
   ]
  },
  {
   "cell_type": "markdown",
   "metadata": {
    "slideshow": {
     "slide_type": "slide"
    }
   },
   "source": [
    "### Today\n",
    "\n",
    "```\n",
    "- Introduce the terminal and why we care to use it.\n",
    "- Differentiate between files and directories\n",
    "- Use absolute and relative paths to identify files \n",
    "- Navigate between directories using basic shell commands\n",
    "- Use options and arguments to alter shell command behaviours\n",
    "- Create, Copy, and Delete files and directories in shell\n",
    "- Create and Edit files in shell\n",
    "- Use pipes to direct output to files\n",
    "- Build pipelines with multiple operations\n",
    "- Write loops to apply functions to multiple files\n",
    "- Use history to examine recently executed commands\n",
    "- Use `grep` and `find` to select files and their contents\n",
    "- Write a basic shell script \n",
    "```"
   ]
  },
  {
   "cell_type": "markdown",
   "metadata": {
    "slideshow": {
     "slide_type": "slide"
    }
   },
   "source": [
    "### Scenario\n",
    "\n",
    "<center>\n",
    "    <img src = https://upload.wikimedia.org/wikipedia/commons/6/64/North_Pacific_Gyre_World_Map.png />\n",
    "    </center>\n"
   ]
  },
  {
   "cell_type": "markdown",
   "metadata": {
    "slideshow": {
     "slide_type": "slide"
    }
   },
   "source": [
    "### Where are we?\n",
    "\n",
    "`$pwd`\n",
    "\n",
    "<center>\n",
    "<img src = 'http://bioinformatics-core-shared-training.github.io/shell-novice/fig/filesystem.svg' />\n",
    "</center>"
   ]
  },
  {
   "cell_type": "markdown",
   "metadata": {
    "slideshow": {
     "slide_type": "subslide"
    }
   },
   "source": [
    "<center>\n",
    "    <img src = http://bioinformatics-core-shared-training.github.io/shell-novice/fig/home-directories.svg />\n",
    "    </center>"
   ]
  },
  {
   "cell_type": "markdown",
   "metadata": {
    "slideshow": {
     "slide_type": "skip"
    }
   },
   "source": [
    "- `ls`"
   ]
  },
  {
   "cell_type": "markdown",
   "metadata": {
    "slideshow": {
     "slide_type": "skip"
    }
   },
   "source": [
    "- `ls -F`"
   ]
  },
  {
   "cell_type": "markdown",
   "metadata": {
    "slideshow": {
     "slide_type": "slide"
    }
   },
   "source": [
    "<center>\n",
    "    <img src = http://bioinformatics-core-shared-training.github.io/shell-novice/fig/homedir.svg />\n",
    "    </center>"
   ]
  },
  {
   "cell_type": "markdown",
   "metadata": {
    "slideshow": {
     "slide_type": "slide"
    }
   },
   "source": [
    "`cd data`"
   ]
  },
  {
   "cell_type": "markdown",
   "metadata": {
    "slideshow": {
     "slide_type": "fragment"
    }
   },
   "source": [
    "`pwd`"
   ]
  },
  {
   "cell_type": "markdown",
   "metadata": {
    "slideshow": {
     "slide_type": "fragment"
    }
   },
   "source": [
    "`ls -F`"
   ]
  },
  {
   "cell_type": "markdown",
   "metadata": {
    "slideshow": {
     "slide_type": "fragment"
    }
   },
   "source": [
    "`cd ..`"
   ]
  },
  {
   "cell_type": "markdown",
   "metadata": {
    "slideshow": {
     "slide_type": "fragment"
    }
   },
   "source": [
    "`ls -F -a`"
   ]
  },
  {
   "cell_type": "markdown",
   "metadata": {
    "slideshow": {
     "slide_type": "slide"
    }
   },
   "source": [
    "### Directories and Files\n",
    "\n",
    "- `ls`\n",
    "- `ls -F`\n",
    "- `ls -F /`\n",
    "- `ls -s`\n",
    "- `ls -S`\n",
    "- `ls --help`\n",
    "- `man ls`"
   ]
  },
  {
   "cell_type": "markdown",
   "metadata": {
    "slideshow": {
     "slide_type": "slide"
    }
   },
   "source": [
    "### Questions\n",
    "\n",
    "<center>\n",
    "    <img src = http://bioinformatics-core-shared-training.github.io/shell-novice/fig/filesystem-challenge.svg />\n",
    "    </center>"
   ]
  },
  {
   "cell_type": "markdown",
   "metadata": {
    "slideshow": {
     "slide_type": "slide"
    }
   },
   "source": [
    "### Create Files and Directories\n",
    "\n",
    "- `mkdir`\n",
    "- `nano`\n",
    "- `touch`\n",
    "- `mv`\n",
    "- `cp`\n",
    "- `cp -r`\n",
    "- `rm`\n",
    "- `rm -r`\n",
    "- wildcard `*`"
   ]
  },
  {
   "cell_type": "markdown",
   "metadata": {
    "slideshow": {
     "slide_type": "slide"
    }
   },
   "source": [
    "### Pipes and Filters\n",
    "\n",
    "- `cat`\n",
    "- `wc`\n",
    "- `wc *`\n",
    "- `wc -l`\n",
    "- `>`\n",
    "- `sort`\n",
    "- `sort -n`\n",
    "- `>>`\n",
    "- `echo`\n",
    "- `head`\n",
    "- `tail`\n",
    "- `|`\n",
    "- `cut`\n"
   ]
  },
  {
   "cell_type": "markdown",
   "metadata": {
    "slideshow": {
     "slide_type": "slide"
    }
   },
   "source": [
    "### For Loops\n",
    "\n",
    "- `for`\n",
    "- `$name`\n",
    "- `history`"
   ]
  },
  {
   "cell_type": "markdown",
   "metadata": {
    "slideshow": {
     "slide_type": "slide"
    }
   },
   "source": [
    "### Writing a Script"
   ]
  }
 ],
 "metadata": {
  "celltoolbar": "Slideshow",
  "kernelspec": {
   "display_name": "Python 3",
   "language": "python",
   "name": "python3"
  },
  "language_info": {
   "codemirror_mode": {
    "name": "ipython",
    "version": 3
   },
   "file_extension": ".py",
   "mimetype": "text/x-python",
   "name": "python",
   "nbconvert_exporter": "python",
   "pygments_lexer": "ipython3",
   "version": "3.7.4"
  }
 },
 "nbformat": 4,
 "nbformat_minor": 4
}
