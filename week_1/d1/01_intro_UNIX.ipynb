{
 "cells": [
  {
   "cell_type": "markdown",
   "metadata": {
    "slideshow": {
     "slide_type": "slide"
    }
   },
   "source": [
    "# Introduction to UNIX\n",
    "\n",
    "<center>\n",
    "    <img src = https://upload.wikimedia.org/wikipedia/commons/thumb/8/8f/Ken_Thompson_%28sitting%29_and_Dennis_Ritchie_at_PDP-11_%282876612463%29.jpg/440px-Ken_Thompson_%28sitting%29_and_Dennis_Ritchie_at_PDP-11_%282876612463%29.jpg\n",
    "        width = 80% />\n",
    "    </center>"
   ]
  },
  {
   "cell_type": "markdown",
   "metadata": {
    "slideshow": {
     "slide_type": "slide"
    }
   },
   "source": [
    "## Course Outline\n",
    "\n",
    "| **Class Number** | **Date** | **Description** |\n",
    "| --------------- | --------- | -------------  |\n",
    "| 1 | 2.11.20  |  [Introduction to UNIX](week_1/d1/README.md) |\n",
    "| 2 | 2.13.20   |   [Introduction to git](week_1/d2/README.md) |\n",
    "| 3| 2.18.20  |  [Introduction to Python I](week_2/d1/README.md) |\n",
    "| 4 | 2.20.20  | [Introduction to Python II](week_2/d2/README.md) |\n",
    "| 5 |  2.25.20 | [Python and Pandas I](week_3/d1/README.md) |\n",
    "| 6 | 2.27.20 | [Python and Pandas II](week_3/d2/README.md) |\n",
    "| 7 | 3.3.20 | [Data Visualization with Python I](week_4/d1/README.md) |\n",
    "| 8 | 3.10.20 | [Data Visualization with Python II](week_4/d2/README.md) |\n",
    "| 9 | 3.12.20 | [SQL I](week_5/d1/README.md) |\n",
    "| 10 | 3.17.20 | [SQL II](week_5/d2/README.md) |\n",
    "| 11 | 3.19.20 | [SQL and Python I]() | \n",
    "| 12 | 3.24.20 | [SQL and Python II]() |\n",
    "\n"
   ]
  },
  {
   "cell_type": "markdown",
   "metadata": {
    "slideshow": {
     "slide_type": "slide"
    }
   },
   "source": [
    "### Today\n",
    "\n",
    "```\n",
    "- Introduce the terminal and why we care to use it.\n",
    "- Differentiate between files and directories\n",
    "- Use absolute and relative paths to identify files \n",
    "- Navigate between directories using basic shell commands\n",
    "- Use options and arguments to alter shell command behaviours\n",
    "- Create, Copy, and Delete files and directories in shell\n",
    "- Create and Edit files in shell\n",
    "- Use pipes to direct output to files\n",
    "- Build pipelines with multiple operations\n",
    "- Write loops to apply functions to multiple files\n",
    "- Use history to examine recently executed commands\n",
    "- Use `grep` and `find` to select files and their contents\n",
    "- Write a basic shell script \n",
    "```"
   ]
  },
  {
   "cell_type": "markdown",
   "metadata": {
    "slideshow": {
     "slide_type": "slide"
    }
   },
   "source": [
    "### Scenario\n",
    "\n",
    "<center>\n",
    "    <img src = https://upload.wikimedia.org/wikipedia/commons/6/64/North_Pacific_Gyre_World_Map.png />\n",
    "    </center>\n"
   ]
  },
  {
   "cell_type": "markdown",
   "metadata": {
    "slideshow": {
     "slide_type": "slide"
    }
   },
   "source": [
    "### Where are we?\n",
    "\n",
    "`$pwd`\n",
    "\n",
    "<center>\n",
    "<img src = 'http://bioinformatics-core-shared-training.github.io/shell-novice/fig/filesystem.svg' />\n",
    "</center>"
   ]
  },
  {
   "cell_type": "markdown",
   "metadata": {
    "slideshow": {
     "slide_type": "subslide"
    }
   },
   "source": [
    "<center>\n",
    "    <img src = http://bioinformatics-core-shared-training.github.io/shell-novice/fig/home-directories.svg />\n",
    "    </center>"
   ]
  },
  {
   "cell_type": "markdown",
   "metadata": {
    "slideshow": {
     "slide_type": "skip"
    }
   },
   "source": [
    "- `ls`"
   ]
  },
  {
   "cell_type": "markdown",
   "metadata": {
    "slideshow": {
     "slide_type": "skip"
    }
   },
   "source": [
    "- `ls -F`"
   ]
  },
  {
   "cell_type": "markdown",
   "metadata": {
    "slideshow": {
     "slide_type": "slide"
    }
   },
   "source": [
    "<center>\n",
    "    <img src = http://bioinformatics-core-shared-training.github.io/shell-novice/fig/homedir.svg />\n",
    "    </center>"
   ]
  },
  {
   "cell_type": "markdown",
   "metadata": {
    "slideshow": {
     "slide_type": "slide"
    }
   },
   "source": [
    "`cd data`"
   ]
  },
  {
   "cell_type": "markdown",
   "metadata": {
    "slideshow": {
     "slide_type": "fragment"
    }
   },
   "source": [
    "`pwd`"
   ]
  },
  {
   "cell_type": "markdown",
   "metadata": {
    "slideshow": {
     "slide_type": "fragment"
    }
   },
   "source": [
    "`ls -F`"
   ]
  },
  {
   "cell_type": "markdown",
   "metadata": {
    "slideshow": {
     "slide_type": "fragment"
    }
   },
   "source": [
    "`cd ..`"
   ]
  },
  {
   "cell_type": "markdown",
   "metadata": {
    "slideshow": {
     "slide_type": "fragment"
    }
   },
   "source": [
    "`ls -F -a`"
   ]
  },
  {
   "cell_type": "markdown",
   "metadata": {
    "slideshow": {
     "slide_type": "slide"
    }
   },
   "source": [
    "### Directories and Files\n",
    "\n",
    "- `ls`\n",
    "- `ls -F`\n",
    "- `ls -F /`\n",
    "- `ls -s`\n",
    "- `ls -S`\n",
    "- `ls --help`\n",
    "- `man ls`"
   ]
  },
  {
   "cell_type": "markdown",
   "metadata": {
    "slideshow": {
     "slide_type": "slide"
    }
   },
   "source": [
    "### Questions\n",
    "\n",
    "<center>\n",
    "    <img src = http://bioinformatics-core-shared-training.github.io/shell-novice/fig/filesystem-challenge.svg />\n",
    "    </center>"
   ]
  },
  {
   "cell_type": "markdown",
   "metadata": {
    "slideshow": {
     "slide_type": "slide"
    }
   },
   "source": [
    "### Create Files and Directories\n",
    "\n",
    "- `mkdir`\n",
    "- `nano`\n",
    "- `touch`\n",
    "- `mv`\n",
    "- `cp`\n",
    "- `cp -r`\n",
    "- `rm`\n",
    "- `rm -r`\n",
    "- wildcard `*`"
   ]
  },
  {
   "cell_type": "markdown",
   "metadata": {
    "slideshow": {
     "slide_type": "slide"
    }
   },
   "source": [
    "### Pipes and Filters\n",
    "\n",
    "- `cat`\n",
    "- `wc`\n",
    "- `wc *`\n",
    "- `wc -l`\n",
    "- `>`\n",
    "- `sort`\n",
    "- `sort -n`\n",
    "- `>>`\n",
    "- `echo`\n",
    "- `head`\n",
    "- `tail`\n",
    "- `|`\n",
    "- `cut`\n"
   ]
  },
  {
   "cell_type": "markdown",
   "metadata": {
    "slideshow": {
     "slide_type": "slide"
    }
   },
   "source": [
    "### For Loops\n",
    "\n",
    "- `for`\n",
    "- `$name`\n",
    "- `history`"
   ]
  },
  {
   "cell_type": "markdown",
   "metadata": {
    "slideshow": {
     "slide_type": "slide"
    }
   },
   "source": [
    "### Writing a Script"
   ]
  }
 ],
 "metadata": {
  "celltoolbar": "Slideshow",
  "kernelspec": {
   "display_name": "Python 3",
   "language": "python",
   "name": "python3"
  },
  "language_info": {
   "codemirror_mode": {
    "name": "ipython",
    "version": 3
   },
   "file_extension": ".py",
   "mimetype": "text/x-python",
   "name": "python",
   "nbconvert_exporter": "python",
   "pygments_lexer": "ipython3",
   "version": "3.7.4"
  }
 },
 "nbformat": 4,
 "nbformat_minor": 4
}
