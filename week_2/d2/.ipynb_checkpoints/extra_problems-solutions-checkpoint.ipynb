{
 "cells": [
  {
   "cell_type": "markdown",
   "metadata": {
    "nbgrader": {
     "grade": false,
     "locked": true,
     "solution": false
    }
   },
   "source": [
    "<a id = \"functions\"></a>\n",
    "\n",
    "\n",
    "#### Question 1"
   ]
  },
  {
   "cell_type": "code",
   "execution_count": 1,
   "metadata": {
    "nbgrader": {
     "grade": false,
     "grade_id": "func1",
     "locked": false,
     "points": "5",
     "solution": false
    }
   },
   "outputs": [
    {
     "name": "stdout",
     "output_type": "stream",
     "text": [
      "4\n",
      "-2\n",
      "0\n",
      "hihi\n"
     ]
    }
   ],
   "source": [
    "### GRADED\n",
    "### Example\n",
    "### Build a function called \"mult_by_two\"\n",
    "### ACCEPT one input either numeric or a string\n",
    "### RETURN that input multiplied by 2\n",
    "\n",
    "### YOUR ANSWER BELOW\n",
    "\n",
    "def mult_by_two(x):\n",
    "    return x*2\n",
    "\n",
    "### test the function to check functionality\n",
    "print(mult_by_two(2))\n",
    "print(mult_by_two(-1))\n",
    "print(mult_by_two(0))\n",
    "print(mult_by_two(\"hi\"))"
   ]
  },
  {
   "cell_type": "markdown",
   "metadata": {},
   "source": [
    "### Question 2"
   ]
  },
  {
   "cell_type": "code",
   "execution_count": 2,
   "metadata": {},
   "outputs": [],
   "source": [
    "### Build a function called 'cap_first'\n",
    "### ACCEPT a non-empty string input.\n",
    "### RETURN that same string, with first letter capitalized,\n",
    "### ### and all subsequent letters in lower-case.\n",
    "\n",
    "\n",
    "### YOUR ANSWER BELOW\n",
    "\n",
    "def cap_first( input_string ):\n",
    "    return input_string.capitalize()"
   ]
  },
  {
   "cell_type": "code",
   "execution_count": 4,
   "metadata": {},
   "outputs": [
    {
     "data": {
      "text/plain": [
       "'Dog is here'"
      ]
     },
     "execution_count": 4,
     "metadata": {},
     "output_type": "execute_result"
    }
   ],
   "source": [
    "cap_first('dog is here')"
   ]
  },
  {
   "cell_type": "markdown",
   "metadata": {
    "nbgrader": {
     "grade": false,
     "locked": true,
     "solution": false
    }
   },
   "source": [
    "#### Question 3"
   ]
  },
  {
   "cell_type": "code",
   "execution_count": 5,
   "metadata": {},
   "outputs": [],
   "source": [
    "### Code a function called \"add_three\"\n",
    "### ACCEPT  three inputs, all numbers (floats or ints)\n",
    "### RETURN the sum of the three numbers added together.\n",
    "\n",
    "### YOUR ANSWER BELOW\n",
    "\n",
    "def add_three( num1, num2, num3):\n",
    "    return num1 + num2 + num3"
   ]
  },
  {
   "cell_type": "code",
   "execution_count": 6,
   "metadata": {},
   "outputs": [
    {
     "data": {
      "text/plain": [
       "13"
      ]
     },
     "execution_count": 6,
     "metadata": {},
     "output_type": "execute_result"
    }
   ],
   "source": [
    "add_three(4, 3, 6)"
   ]
  },
  {
   "cell_type": "markdown",
   "metadata": {
    "nbgrader": {
     "grade": false,
     "locked": true,
     "solution": false
    }
   },
   "source": [
    "#### Question 4:"
   ]
  },
  {
   "cell_type": "code",
   "execution_count": 7,
   "metadata": {},
   "outputs": [],
   "source": [
    "### Code a function called 'every_other'\n",
    "### ACCEPT a non-empty string as input\n",
    "### RETURN a string that contains every other character of that input string.\n",
    "\n",
    "### YOUR ANSWER BELOW\n",
    "\n",
    "def every_other( input_string ):\n",
    "    return input_string[::2]"
   ]
  },
  {
   "cell_type": "code",
   "execution_count": 8,
   "metadata": {},
   "outputs": [
    {
     "data": {
      "text/plain": [
       "'dgi ee'"
      ]
     },
     "execution_count": 8,
     "metadata": {},
     "output_type": "execute_result"
    }
   ],
   "source": [
    "every_other('dog is here')"
   ]
  },
  {
   "cell_type": "markdown",
   "metadata": {
    "nbgrader": {
     "grade": false,
     "locked": true,
     "solution": false
    }
   },
   "source": [
    "### If/Else Questions\n",
    "#### Question 5:"
   ]
  },
  {
   "cell_type": "code",
   "execution_count": 11,
   "metadata": {},
   "outputs": [],
   "source": [
    "### Code a function called 'pos_neg'\n",
    "### ACCEPT a number (float or int) as input\n",
    "### RETURN the string \"neg\" if the integer is less than zero;\n",
    "### ### string \"zero\" if the integer is zero;\n",
    "### ### or string \"pos\" if the integer is greater than zero.\n",
    "\n",
    "\n",
    "### YOUR CODE BELOW\n",
    "\n",
    "def pos_neg( num1 ):\n",
    "    if num1 > 0:\n",
    "        return 'pos'\n",
    "    elif num1 == 0:\n",
    "        return 'zero'\n",
    "    else:\n",
    "        return 'neg'"
   ]
  },
  {
   "cell_type": "code",
   "execution_count": 12,
   "metadata": {},
   "outputs": [
    {
     "name": "stdout",
     "output_type": "stream",
     "text": [
      "neg\n",
      "zero\n",
      "pos\n"
     ]
    }
   ],
   "source": [
    "for i in [-3, 0, 8]:\n",
    "    print(pos_neg(i))"
   ]
  },
  {
   "cell_type": "markdown",
   "metadata": {
    "nbgrader": {
     "grade": false,
     "locked": true,
     "solution": false
    }
   },
   "source": [
    "#### Question 6:"
   ]
  },
  {
   "cell_type": "code",
   "execution_count": 13,
   "metadata": {},
   "outputs": [],
   "source": [
    "### Code a function called \"intro\"\n",
    "### ACCEPT two inputs: a string and a number\n",
    "### RETURN the string \"<string input> was born in ####\" where #### is the 2020 minus the integer.\n",
    "### HOWEVER, if the string is empty (\"\") OR the number is negative, RETURN the string \"invalid input\"\n",
    "\n",
    "### NB: Be aware of spaces\n",
    "### YOUR CODE BELOW\n",
    "\n",
    "def intro( name, age):\n",
    "    year = 2020 - age\n",
    "    return f'{name} was born in {year}'"
   ]
  },
  {
   "cell_type": "code",
   "execution_count": 15,
   "metadata": {},
   "outputs": [
    {
     "data": {
      "text/plain": [
       "'Jacob was born in 1990'"
      ]
     },
     "execution_count": 15,
     "metadata": {},
     "output_type": "execute_result"
    }
   ],
   "source": [
    "intro('Jacob', 30)"
   ]
  }
 ],
 "metadata": {
  "kernelspec": {
   "display_name": "Python 3",
   "language": "python",
   "name": "python3"
  },
  "language_info": {
   "codemirror_mode": {
    "name": "ipython",
    "version": 3
   },
   "file_extension": ".py",
   "mimetype": "text/x-python",
   "name": "python",
   "nbconvert_exporter": "python",
   "pygments_lexer": "ipython3",
   "version": "3.7.4"
  },
  "widgets": {
   "application/vnd.jupyter.widget-state+json": {
    "state": {},
    "version_major": 2,
    "version_minor": 0
   }
  }
 },
 "nbformat": 4,
 "nbformat_minor": 4
}
