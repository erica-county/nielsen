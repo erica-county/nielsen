{
 "cells": [
  {
   "cell_type": "markdown",
   "metadata": {},
   "source": [
    "# Intro to Pandas I\n",
    "\n",
    "<center>\n",
    "    <img src = https://miro.medium.com/max/3452/1*6p6nF4_5XpHgcrYRrLYVAw.png />\n",
    "    </center>"
   ]
  },
  {
   "cell_type": "code",
   "execution_count": 1,
   "metadata": {},
   "outputs": [],
   "source": [
    "import pandas as pd"
   ]
  },
  {
   "cell_type": "markdown",
   "metadata": {},
   "source": [
    "### Classes\n",
    "\n",
    "A `DataFrame` is a class."
   ]
  },
  {
   "cell_type": "code",
   "execution_count": 12,
   "metadata": {},
   "outputs": [],
   "source": [
    "class MyClass:\n",
    "    a = 13\n",
    "    \n",
    "    def f(self):\n",
    "        return 'Hello World!'"
   ]
  },
  {
   "cell_type": "code",
   "execution_count": 13,
   "metadata": {},
   "outputs": [],
   "source": [
    "x = MyClass()"
   ]
  },
  {
   "cell_type": "code",
   "execution_count": 14,
   "metadata": {},
   "outputs": [],
   "source": [
    "def __init__(self):\n",
    "    self.data = []"
   ]
  },
  {
   "cell_type": "code",
   "execution_count": 15,
   "metadata": {},
   "outputs": [],
   "source": [
    "class Dog:\n",
    "    def __init__(self, name, breed):\n",
    "        self.name = name\n",
    "        self.breed = breed\n",
    "        \n",
    "        "
   ]
  },
  {
   "cell_type": "code",
   "execution_count": 16,
   "metadata": {},
   "outputs": [],
   "source": [
    "dog_1 = Dog('steve', 'mutt')"
   ]
  },
  {
   "cell_type": "code",
   "execution_count": 17,
   "metadata": {},
   "outputs": [
    {
     "data": {
      "text/plain": [
       "'steve'"
      ]
     },
     "execution_count": 17,
     "metadata": {},
     "output_type": "execute_result"
    }
   ],
   "source": [
    "dog_1.name"
   ]
  },
  {
   "cell_type": "code",
   "execution_count": 18,
   "metadata": {},
   "outputs": [
    {
     "data": {
      "text/plain": [
       "'mutt'"
      ]
     },
     "execution_count": 18,
     "metadata": {},
     "output_type": "execute_result"
    }
   ],
   "source": [
    "dog_1.breed"
   ]
  },
  {
   "cell_type": "code",
   "execution_count": 19,
   "metadata": {},
   "outputs": [],
   "source": [
    "class Dog:\n",
    "    def __init__(self, name, breed):\n",
    "        self.name = name\n",
    "        self.breed = breed\n",
    "        self.tricks = []\n",
    "        \n",
    "    def add_trick(self, trick):\n",
    "        self.tricks.append(trick)"
   ]
  },
  {
   "cell_type": "code",
   "execution_count": 20,
   "metadata": {},
   "outputs": [],
   "source": [
    "dog_2 = Dog('maria', 'schnauser')"
   ]
  },
  {
   "cell_type": "code",
   "execution_count": 21,
   "metadata": {},
   "outputs": [],
   "source": [
    "dog_2.add_trick('roll over')"
   ]
  },
  {
   "cell_type": "code",
   "execution_count": 22,
   "metadata": {},
   "outputs": [
    {
     "data": {
      "text/plain": [
       "['roll over']"
      ]
     },
     "execution_count": 22,
     "metadata": {},
     "output_type": "execute_result"
    }
   ],
   "source": [
    "dog_2.tricks"
   ]
  },
  {
   "cell_type": "markdown",
   "metadata": {},
   "source": [
    "##### PROBLEM\n",
    "\n",
    "Create a `class` called `PugDog`.  This class should initialize with the name, weight and age of the pug, and contain methods for adding snacks to a snack list.  \n",
    "\n",
    "Instantiate the class and add `kale` and `seitan` to your snack list."
   ]
  },
  {
   "cell_type": "code",
   "execution_count": null,
   "metadata": {},
   "outputs": [],
   "source": []
  },
  {
   "cell_type": "code",
   "execution_count": null,
   "metadata": {},
   "outputs": [],
   "source": []
  },
  {
   "cell_type": "code",
   "execution_count": null,
   "metadata": {},
   "outputs": [],
   "source": []
  },
  {
   "cell_type": "code",
   "execution_count": null,
   "metadata": {},
   "outputs": [],
   "source": []
  },
  {
   "cell_type": "markdown",
   "metadata": {},
   "source": [
    "### The Series"
   ]
  },
  {
   "cell_type": "code",
   "execution_count": 2,
   "metadata": {},
   "outputs": [],
   "source": [
    "data = pd.Series([5, 3, 0, -2])"
   ]
  },
  {
   "cell_type": "code",
   "execution_count": 3,
   "metadata": {},
   "outputs": [
    {
     "data": {
      "text/plain": [
       "0    5\n",
       "1    3\n",
       "2    0\n",
       "3   -2\n",
       "dtype: int64"
      ]
     },
     "execution_count": 3,
     "metadata": {},
     "output_type": "execute_result"
    }
   ],
   "source": [
    "data"
   ]
  },
  {
   "cell_type": "code",
   "execution_count": 4,
   "metadata": {},
   "outputs": [
    {
     "data": {
      "text/plain": [
       "pandas.core.series.Series"
      ]
     },
     "execution_count": 4,
     "metadata": {},
     "output_type": "execute_result"
    }
   ],
   "source": [
    "type(data)"
   ]
  },
  {
   "cell_type": "code",
   "execution_count": 5,
   "metadata": {},
   "outputs": [
    {
     "data": {
      "text/plain": [
       "RangeIndex(start=0, stop=4, step=1)"
      ]
     },
     "execution_count": 5,
     "metadata": {},
     "output_type": "execute_result"
    }
   ],
   "source": [
    "data.index"
   ]
  },
  {
   "cell_type": "code",
   "execution_count": 6,
   "metadata": {},
   "outputs": [
    {
     "data": {
      "text/plain": [
       "array([ 5,  3,  0, -2])"
      ]
     },
     "execution_count": 6,
     "metadata": {},
     "output_type": "execute_result"
    }
   ],
   "source": [
    "data.values"
   ]
  },
  {
   "cell_type": "code",
   "execution_count": 23,
   "metadata": {},
   "outputs": [
    {
     "data": {
      "text/plain": [
       "0    False\n",
       "1    False\n",
       "2    False\n",
       "3    False\n",
       "dtype: bool"
      ]
     },
     "execution_count": 23,
     "metadata": {},
     "output_type": "execute_result"
    }
   ],
   "source": [
    "data.isnull()"
   ]
  },
  {
   "cell_type": "code",
   "execution_count": 24,
   "metadata": {},
   "outputs": [],
   "source": [
    "data.index = ['a', 'b', 'c', 'd']"
   ]
  },
  {
   "cell_type": "code",
   "execution_count": 25,
   "metadata": {},
   "outputs": [
    {
     "data": {
      "text/plain": [
       "a    5\n",
       "b    3\n",
       "c    0\n",
       "d   -2\n",
       "dtype: int64"
      ]
     },
     "execution_count": 25,
     "metadata": {},
     "output_type": "execute_result"
    }
   ],
   "source": [
    "data"
   ]
  },
  {
   "cell_type": "markdown",
   "metadata": {},
   "source": [
    "### The `DataFrame`"
   ]
  },
  {
   "cell_type": "code",
   "execution_count": 26,
   "metadata": {},
   "outputs": [],
   "source": [
    "data = {'state': ['New York', 'New York', 'New York', 'Florida', 'Florida'],\n",
    "       'year': [2008, 2010, 2011, 2008, 2010],\n",
    "       'pop': [20.1, 19.4, 18.7, 10, 11]}"
   ]
  },
  {
   "cell_type": "code",
   "execution_count": 27,
   "metadata": {},
   "outputs": [],
   "source": [
    "frame = pd.DataFrame(data)"
   ]
  },
  {
   "cell_type": "code",
   "execution_count": 28,
   "metadata": {},
   "outputs": [
    {
     "data": {
      "text/html": [
       "<div>\n",
       "<style scoped>\n",
       "    .dataframe tbody tr th:only-of-type {\n",
       "        vertical-align: middle;\n",
       "    }\n",
       "\n",
       "    .dataframe tbody tr th {\n",
       "        vertical-align: top;\n",
       "    }\n",
       "\n",
       "    .dataframe thead th {\n",
       "        text-align: right;\n",
       "    }\n",
       "</style>\n",
       "<table border=\"1\" class=\"dataframe\">\n",
       "  <thead>\n",
       "    <tr style=\"text-align: right;\">\n",
       "      <th></th>\n",
       "      <th>state</th>\n",
       "      <th>year</th>\n",
       "      <th>pop</th>\n",
       "    </tr>\n",
       "  </thead>\n",
       "  <tbody>\n",
       "    <tr>\n",
       "      <td>0</td>\n",
       "      <td>New York</td>\n",
       "      <td>2008</td>\n",
       "      <td>20.1</td>\n",
       "    </tr>\n",
       "    <tr>\n",
       "      <td>1</td>\n",
       "      <td>New York</td>\n",
       "      <td>2010</td>\n",
       "      <td>19.4</td>\n",
       "    </tr>\n",
       "    <tr>\n",
       "      <td>2</td>\n",
       "      <td>New York</td>\n",
       "      <td>2011</td>\n",
       "      <td>18.7</td>\n",
       "    </tr>\n",
       "    <tr>\n",
       "      <td>3</td>\n",
       "      <td>Florida</td>\n",
       "      <td>2008</td>\n",
       "      <td>10.0</td>\n",
       "    </tr>\n",
       "    <tr>\n",
       "      <td>4</td>\n",
       "      <td>Florida</td>\n",
       "      <td>2010</td>\n",
       "      <td>11.0</td>\n",
       "    </tr>\n",
       "  </tbody>\n",
       "</table>\n",
       "</div>"
      ],
      "text/plain": [
       "      state  year   pop\n",
       "0  New York  2008  20.1\n",
       "1  New York  2010  19.4\n",
       "2  New York  2011  18.7\n",
       "3   Florida  2008  10.0\n",
       "4   Florida  2010  11.0"
      ]
     },
     "execution_count": 28,
     "metadata": {},
     "output_type": "execute_result"
    }
   ],
   "source": [
    "frame"
   ]
  },
  {
   "cell_type": "code",
   "execution_count": 29,
   "metadata": {},
   "outputs": [],
   "source": [
    "frame = pd.DataFrame(data, columns = ['year', 'state', 'pop'])"
   ]
  },
  {
   "cell_type": "code",
   "execution_count": 30,
   "metadata": {},
   "outputs": [
    {
     "data": {
      "text/html": [
       "<div>\n",
       "<style scoped>\n",
       "    .dataframe tbody tr th:only-of-type {\n",
       "        vertical-align: middle;\n",
       "    }\n",
       "\n",
       "    .dataframe tbody tr th {\n",
       "        vertical-align: top;\n",
       "    }\n",
       "\n",
       "    .dataframe thead th {\n",
       "        text-align: right;\n",
       "    }\n",
       "</style>\n",
       "<table border=\"1\" class=\"dataframe\">\n",
       "  <thead>\n",
       "    <tr style=\"text-align: right;\">\n",
       "      <th></th>\n",
       "      <th>year</th>\n",
       "      <th>state</th>\n",
       "      <th>pop</th>\n",
       "    </tr>\n",
       "  </thead>\n",
       "  <tbody>\n",
       "    <tr>\n",
       "      <td>0</td>\n",
       "      <td>2008</td>\n",
       "      <td>New York</td>\n",
       "      <td>20.1</td>\n",
       "    </tr>\n",
       "    <tr>\n",
       "      <td>1</td>\n",
       "      <td>2010</td>\n",
       "      <td>New York</td>\n",
       "      <td>19.4</td>\n",
       "    </tr>\n",
       "    <tr>\n",
       "      <td>2</td>\n",
       "      <td>2011</td>\n",
       "      <td>New York</td>\n",
       "      <td>18.7</td>\n",
       "    </tr>\n",
       "    <tr>\n",
       "      <td>3</td>\n",
       "      <td>2008</td>\n",
       "      <td>Florida</td>\n",
       "      <td>10.0</td>\n",
       "    </tr>\n",
       "    <tr>\n",
       "      <td>4</td>\n",
       "      <td>2010</td>\n",
       "      <td>Florida</td>\n",
       "      <td>11.0</td>\n",
       "    </tr>\n",
       "  </tbody>\n",
       "</table>\n",
       "</div>"
      ],
      "text/plain": [
       "   year     state   pop\n",
       "0  2008  New York  20.1\n",
       "1  2010  New York  19.4\n",
       "2  2011  New York  18.7\n",
       "3  2008   Florida  10.0\n",
       "4  2010   Florida  11.0"
      ]
     },
     "execution_count": 30,
     "metadata": {},
     "output_type": "execute_result"
    }
   ],
   "source": [
    "frame"
   ]
  },
  {
   "cell_type": "code",
   "execution_count": 31,
   "metadata": {},
   "outputs": [
    {
     "data": {
      "text/plain": [
       "0    2008\n",
       "1    2010\n",
       "2    2011\n",
       "3    2008\n",
       "4    2010\n",
       "Name: year, dtype: int64"
      ]
     },
     "execution_count": 31,
     "metadata": {},
     "output_type": "execute_result"
    }
   ],
   "source": [
    "frame['year']"
   ]
  },
  {
   "cell_type": "code",
   "execution_count": 32,
   "metadata": {},
   "outputs": [
    {
     "data": {
      "text/plain": [
       "0    2008\n",
       "1    2010\n",
       "2    2011\n",
       "3    2008\n",
       "4    2010\n",
       "Name: year, dtype: int64"
      ]
     },
     "execution_count": 32,
     "metadata": {},
     "output_type": "execute_result"
    }
   ],
   "source": [
    "frame.year"
   ]
  },
  {
   "cell_type": "code",
   "execution_count": 37,
   "metadata": {},
   "outputs": [],
   "source": [
    "frame = pd.DataFrame(data, index = ['a', 'b', 'c', 'd', 'e'])"
   ]
  },
  {
   "cell_type": "code",
   "execution_count": 38,
   "metadata": {},
   "outputs": [
    {
     "data": {
      "text/html": [
       "<div>\n",
       "<style scoped>\n",
       "    .dataframe tbody tr th:only-of-type {\n",
       "        vertical-align: middle;\n",
       "    }\n",
       "\n",
       "    .dataframe tbody tr th {\n",
       "        vertical-align: top;\n",
       "    }\n",
       "\n",
       "    .dataframe thead th {\n",
       "        text-align: right;\n",
       "    }\n",
       "</style>\n",
       "<table border=\"1\" class=\"dataframe\">\n",
       "  <thead>\n",
       "    <tr style=\"text-align: right;\">\n",
       "      <th></th>\n",
       "      <th>state</th>\n",
       "      <th>year</th>\n",
       "      <th>pop</th>\n",
       "    </tr>\n",
       "  </thead>\n",
       "  <tbody>\n",
       "    <tr>\n",
       "      <td>a</td>\n",
       "      <td>New York</td>\n",
       "      <td>2008</td>\n",
       "      <td>20.1</td>\n",
       "    </tr>\n",
       "    <tr>\n",
       "      <td>b</td>\n",
       "      <td>New York</td>\n",
       "      <td>2010</td>\n",
       "      <td>19.4</td>\n",
       "    </tr>\n",
       "    <tr>\n",
       "      <td>c</td>\n",
       "      <td>New York</td>\n",
       "      <td>2011</td>\n",
       "      <td>18.7</td>\n",
       "    </tr>\n",
       "    <tr>\n",
       "      <td>d</td>\n",
       "      <td>Florida</td>\n",
       "      <td>2008</td>\n",
       "      <td>10.0</td>\n",
       "    </tr>\n",
       "    <tr>\n",
       "      <td>e</td>\n",
       "      <td>Florida</td>\n",
       "      <td>2010</td>\n",
       "      <td>11.0</td>\n",
       "    </tr>\n",
       "  </tbody>\n",
       "</table>\n",
       "</div>"
      ],
      "text/plain": [
       "      state  year   pop\n",
       "a  New York  2008  20.1\n",
       "b  New York  2010  19.4\n",
       "c  New York  2011  18.7\n",
       "d   Florida  2008  10.0\n",
       "e   Florida  2010  11.0"
      ]
     },
     "execution_count": 38,
     "metadata": {},
     "output_type": "execute_result"
    }
   ],
   "source": [
    "frame"
   ]
  },
  {
   "cell_type": "markdown",
   "metadata": {},
   "source": [
    "### Creating DataFrames\n"
   ]
  },
  {
   "cell_type": "code",
   "execution_count": 39,
   "metadata": {},
   "outputs": [],
   "source": [
    "#from Python objects\n",
    "df = pd.DataFrame(data)"
   ]
  },
  {
   "cell_type": "code",
   "execution_count": 40,
   "metadata": {},
   "outputs": [],
   "source": [
    "#from local files: .csv\n",
    "gap_all = pd.read_csv('data/gapminder_all.csv')"
   ]
  },
  {
   "cell_type": "markdown",
   "metadata": {},
   "source": [
    "https://data.cityofnewyork.us/Public-Safety/NYPD-Complaint-Data-Historic/qgea-i56i"
   ]
  },
  {
   "cell_type": "code",
   "execution_count": 41,
   "metadata": {},
   "outputs": [],
   "source": [
    "#from urls \n",
    "nypd = pd.read_json('https://data.cityofnewyork.us/resource/qgea-i56i.json')"
   ]
  },
  {
   "cell_type": "code",
   "execution_count": 42,
   "metadata": {},
   "outputs": [],
   "source": [
    "#from html tables\n",
    "vmars = pd.read_html('https://en.wikipedia.org/wiki/List_of_Veronica_Mars_episodes')"
   ]
  },
  {
   "cell_type": "code",
   "execution_count": 43,
   "metadata": {},
   "outputs": [
    {
     "data": {
      "text/plain": [
       "7"
      ]
     },
     "execution_count": 43,
     "metadata": {},
     "output_type": "execute_result"
    }
   ],
   "source": [
    "len(vmars)"
   ]
  },
  {
   "cell_type": "markdown",
   "metadata": {},
   "source": [
    "##### PROBLEM\n",
    "\n",
    "- Create a DataFrame named `happy_2019` from the `2019.csv` file located in the `data` folder.  \n",
    "\n",
    "- Create a DataFrame named `nyc_311` from the data located here: https://data.cityofnewyork.us/Social-Services/311-Service-Requests-from-2010-to-Present/erm2-nwe9\n",
    "\n",
    "- Create a DataFrame named `del` based on Del the Funky Homosapien's discography found here: https://en.wikipedia.org/wiki/Del_the_Funky_Homosapien_discography"
   ]
  },
  {
   "cell_type": "code",
   "execution_count": null,
   "metadata": {},
   "outputs": [],
   "source": []
  },
  {
   "cell_type": "code",
   "execution_count": null,
   "metadata": {},
   "outputs": [],
   "source": []
  },
  {
   "cell_type": "code",
   "execution_count": null,
   "metadata": {},
   "outputs": [],
   "source": []
  },
  {
   "cell_type": "code",
   "execution_count": null,
   "metadata": {},
   "outputs": [],
   "source": []
  },
  {
   "cell_type": "code",
   "execution_count": null,
   "metadata": {},
   "outputs": [],
   "source": []
  },
  {
   "cell_type": "markdown",
   "metadata": {},
   "source": [
    "##### Cleaning \n",
    "\n",
    "<center>\n",
    "    <img src = https://upload.wikimedia.org/wikipedia/commons/thumb/2/28/Veronica_Mars_2004_logo.svg/600px-Veronica_Mars_2004_logo.svg.png width = 50%/>\n",
    "    </center>"
   ]
  },
  {
   "cell_type": "code",
   "execution_count": 48,
   "metadata": {},
   "outputs": [],
   "source": [
    "#season 1 episodes\n",
    "season_1 = vmars[1]"
   ]
  },
  {
   "cell_type": "code",
   "execution_count": 50,
   "metadata": {},
   "outputs": [],
   "source": [
    "#season 2 episodes\n",
    "season_2 = vmars[2]"
   ]
  },
  {
   "cell_type": "markdown",
   "metadata": {},
   "source": [
    "### Examining the `DataFrame`"
   ]
  },
  {
   "cell_type": "code",
   "execution_count": 53,
   "metadata": {},
   "outputs": [
    {
     "data": {
      "text/plain": [
       "(22, 8)"
      ]
     },
     "execution_count": 53,
     "metadata": {},
     "output_type": "execute_result"
    }
   ],
   "source": [
    "season_1.shape"
   ]
  },
  {
   "cell_type": "code",
   "execution_count": 54,
   "metadata": {},
   "outputs": [
    {
     "name": "stdout",
     "output_type": "stream",
     "text": [
      "<class 'pandas.core.frame.DataFrame'>\n",
      "RangeIndex: 22 entries, 0 to 21\n",
      "Data columns (total 8 columns):\n",
      "No.overall                22 non-null int64\n",
      "No. inseason              22 non-null int64\n",
      "Title                     22 non-null object\n",
      "Directed by               22 non-null object\n",
      "Written by                22 non-null object\n",
      "Original air date         22 non-null object\n",
      "Prod.code                 22 non-null object\n",
      "U.S. viewers(millions)    22 non-null object\n",
      "dtypes: int64(2), object(6)\n",
      "memory usage: 1.5+ KB\n"
     ]
    }
   ],
   "source": [
    "season_1.info()"
   ]
  },
  {
   "cell_type": "code",
   "execution_count": 55,
   "metadata": {},
   "outputs": [
    {
     "data": {
      "text/html": [
       "<div>\n",
       "<style scoped>\n",
       "    .dataframe tbody tr th:only-of-type {\n",
       "        vertical-align: middle;\n",
       "    }\n",
       "\n",
       "    .dataframe tbody tr th {\n",
       "        vertical-align: top;\n",
       "    }\n",
       "\n",
       "    .dataframe thead th {\n",
       "        text-align: right;\n",
       "    }\n",
       "</style>\n",
       "<table border=\"1\" class=\"dataframe\">\n",
       "  <thead>\n",
       "    <tr style=\"text-align: right;\">\n",
       "      <th></th>\n",
       "      <th>No.overall</th>\n",
       "      <th>No. inseason</th>\n",
       "      <th>Title</th>\n",
       "      <th>Directed by</th>\n",
       "      <th>Written by</th>\n",
       "      <th>Original air date</th>\n",
       "      <th>Prod.code</th>\n",
       "      <th>U.S. viewers(millions)</th>\n",
       "    </tr>\n",
       "  </thead>\n",
       "  <tbody>\n",
       "    <tr>\n",
       "      <td>0</td>\n",
       "      <td>1</td>\n",
       "      <td>1</td>\n",
       "      <td>\"Pilot\"</td>\n",
       "      <td>Mark Piznarski</td>\n",
       "      <td>Rob Thomas</td>\n",
       "      <td>September 22, 2004</td>\n",
       "      <td>475258</td>\n",
       "      <td>2.49[15]</td>\n",
       "    </tr>\n",
       "    <tr>\n",
       "      <td>1</td>\n",
       "      <td>2</td>\n",
       "      <td>2</td>\n",
       "      <td>\"Credit Where Credit's Due\"</td>\n",
       "      <td>Mark Piznarski</td>\n",
       "      <td>Rob Thomas</td>\n",
       "      <td>September 28, 2004</td>\n",
       "      <td>2T5701</td>\n",
       "      <td>2.21[16]</td>\n",
       "    </tr>\n",
       "    <tr>\n",
       "      <td>2</td>\n",
       "      <td>3</td>\n",
       "      <td>3</td>\n",
       "      <td>\"Meet John Smith\"</td>\n",
       "      <td>Harry Winer</td>\n",
       "      <td>Jed Seidel</td>\n",
       "      <td>October 12, 2004</td>\n",
       "      <td>2T5702</td>\n",
       "      <td>2.71[17]</td>\n",
       "    </tr>\n",
       "    <tr>\n",
       "      <td>3</td>\n",
       "      <td>4</td>\n",
       "      <td>4</td>\n",
       "      <td>\"The Wrath of Con\"</td>\n",
       "      <td>Michael Fields</td>\n",
       "      <td>Diane Ruggiero</td>\n",
       "      <td>October 19, 2004</td>\n",
       "      <td>2T5703</td>\n",
       "      <td>3.12[18]</td>\n",
       "    </tr>\n",
       "    <tr>\n",
       "      <td>4</td>\n",
       "      <td>5</td>\n",
       "      <td>5</td>\n",
       "      <td>\"You Think You Know Somebody\"</td>\n",
       "      <td>Nick Gomez</td>\n",
       "      <td>Dayna Lynne North</td>\n",
       "      <td>October 26, 2004</td>\n",
       "      <td>2T5704</td>\n",
       "      <td>2.73[19]</td>\n",
       "    </tr>\n",
       "  </tbody>\n",
       "</table>\n",
       "</div>"
      ],
      "text/plain": [
       "   No.overall  No. inseason                          Title     Directed by  \\\n",
       "0           1             1                        \"Pilot\"  Mark Piznarski   \n",
       "1           2             2    \"Credit Where Credit's Due\"  Mark Piznarski   \n",
       "2           3             3              \"Meet John Smith\"     Harry Winer   \n",
       "3           4             4             \"The Wrath of Con\"  Michael Fields   \n",
       "4           5             5  \"You Think You Know Somebody\"      Nick Gomez   \n",
       "\n",
       "          Written by   Original air date Prod.code U.S. viewers(millions)  \n",
       "0         Rob Thomas  September 22, 2004    475258               2.49[15]  \n",
       "1         Rob Thomas  September 28, 2004    2T5701               2.21[16]  \n",
       "2         Jed Seidel    October 12, 2004    2T5702               2.71[17]  \n",
       "3     Diane Ruggiero    October 19, 2004    2T5703               3.12[18]  \n",
       "4  Dayna Lynne North    October 26, 2004    2T5704               2.73[19]  "
      ]
     },
     "execution_count": 55,
     "metadata": {},
     "output_type": "execute_result"
    }
   ],
   "source": [
    "season_1.head()"
   ]
  },
  {
   "cell_type": "code",
   "execution_count": 56,
   "metadata": {},
   "outputs": [
    {
     "data": {
      "text/plain": [
       "0     2.49[15]\n",
       "1     2.21[16]\n",
       "2     2.71[17]\n",
       "3     3.12[18]\n",
       "4     2.73[19]\n",
       "5     2.86[20]\n",
       "6     2.74[21]\n",
       "7     2.76[22]\n",
       "8     2.40[23]\n",
       "9     1.90[24]\n",
       "10    2.84[25]\n",
       "11    2.91[26]\n",
       "12    2.97[27]\n",
       "13    2.70[28]\n",
       "14    2.34[29]\n",
       "15    2.33[30]\n",
       "16    2.78[31]\n",
       "17    2.30[32]\n",
       "18    2.48[33]\n",
       "19    3.04[34]\n",
       "20    2.85[35]\n",
       "21    2.99[36]\n",
       "Name: U.S. viewers(millions), dtype: object"
      ]
     },
     "execution_count": 56,
     "metadata": {},
     "output_type": "execute_result"
    }
   ],
   "source": [
    "#select column\n",
    "season_1['U.S. viewers(millions)']"
   ]
  },
  {
   "cell_type": "code",
   "execution_count": 59,
   "metadata": {},
   "outputs": [
    {
     "data": {
      "text/plain": [
       "0     2.49\n",
       "1     2.21\n",
       "2     2.71\n",
       "3     3.12\n",
       "4     2.73\n",
       "5     2.86\n",
       "6     2.74\n",
       "7     2.76\n",
       "8     2.40\n",
       "9     1.90\n",
       "10    2.84\n",
       "11    2.91\n",
       "12    2.97\n",
       "13    2.70\n",
       "14    2.34\n",
       "15    2.33\n",
       "16    2.78\n",
       "17    2.30\n",
       "18    2.48\n",
       "19    3.04\n",
       "20    2.85\n",
       "21    2.99\n",
       "Name: U.S. viewers(millions), dtype: object"
      ]
     },
     "execution_count": 59,
     "metadata": {},
     "output_type": "execute_result"
    }
   ],
   "source": [
    "#fix this!\n",
    "season_1['U.S. viewers(millions)'].str[:4]"
   ]
  },
  {
   "cell_type": "code",
   "execution_count": 60,
   "metadata": {},
   "outputs": [],
   "source": [
    "season_1['U.S. viewers(millions)'] = season_1['U.S. viewers(millions)'].str[:4]"
   ]
  },
  {
   "cell_type": "code",
   "execution_count": 61,
   "metadata": {},
   "outputs": [
    {
     "data": {
      "text/html": [
       "<div>\n",
       "<style scoped>\n",
       "    .dataframe tbody tr th:only-of-type {\n",
       "        vertical-align: middle;\n",
       "    }\n",
       "\n",
       "    .dataframe tbody tr th {\n",
       "        vertical-align: top;\n",
       "    }\n",
       "\n",
       "    .dataframe thead th {\n",
       "        text-align: right;\n",
       "    }\n",
       "</style>\n",
       "<table border=\"1\" class=\"dataframe\">\n",
       "  <thead>\n",
       "    <tr style=\"text-align: right;\">\n",
       "      <th></th>\n",
       "      <th>No.overall</th>\n",
       "      <th>No. inseason</th>\n",
       "      <th>Title</th>\n",
       "      <th>Directed by</th>\n",
       "      <th>Written by</th>\n",
       "      <th>Original air date</th>\n",
       "      <th>Prod.code</th>\n",
       "      <th>U.S. viewers(millions)</th>\n",
       "    </tr>\n",
       "  </thead>\n",
       "  <tbody>\n",
       "    <tr>\n",
       "      <td>0</td>\n",
       "      <td>1</td>\n",
       "      <td>1</td>\n",
       "      <td>\"Pilot\"</td>\n",
       "      <td>Mark Piznarski</td>\n",
       "      <td>Rob Thomas</td>\n",
       "      <td>September 22, 2004</td>\n",
       "      <td>475258</td>\n",
       "      <td>2.49</td>\n",
       "    </tr>\n",
       "    <tr>\n",
       "      <td>1</td>\n",
       "      <td>2</td>\n",
       "      <td>2</td>\n",
       "      <td>\"Credit Where Credit's Due\"</td>\n",
       "      <td>Mark Piznarski</td>\n",
       "      <td>Rob Thomas</td>\n",
       "      <td>September 28, 2004</td>\n",
       "      <td>2T5701</td>\n",
       "      <td>2.21</td>\n",
       "    </tr>\n",
       "  </tbody>\n",
       "</table>\n",
       "</div>"
      ],
      "text/plain": [
       "   No.overall  No. inseason                        Title     Directed by  \\\n",
       "0           1             1                      \"Pilot\"  Mark Piznarski   \n",
       "1           2             2  \"Credit Where Credit's Due\"  Mark Piznarski   \n",
       "\n",
       "   Written by   Original air date Prod.code U.S. viewers(millions)  \n",
       "0  Rob Thomas  September 22, 2004    475258                   2.49  \n",
       "1  Rob Thomas  September 28, 2004    2T5701                   2.21  "
      ]
     },
     "execution_count": 61,
     "metadata": {},
     "output_type": "execute_result"
    }
   ],
   "source": [
    "season_1.head(2)"
   ]
  },
  {
   "cell_type": "code",
   "execution_count": 62,
   "metadata": {},
   "outputs": [],
   "source": [
    "season_1.columns = ['num_overall', 'num_inseason', 'title', 'director', 'writer', 'air_date', 'pcode', 'us_viewers']"
   ]
  },
  {
   "cell_type": "code",
   "execution_count": 63,
   "metadata": {},
   "outputs": [
    {
     "data": {
      "text/html": [
       "<div>\n",
       "<style scoped>\n",
       "    .dataframe tbody tr th:only-of-type {\n",
       "        vertical-align: middle;\n",
       "    }\n",
       "\n",
       "    .dataframe tbody tr th {\n",
       "        vertical-align: top;\n",
       "    }\n",
       "\n",
       "    .dataframe thead th {\n",
       "        text-align: right;\n",
       "    }\n",
       "</style>\n",
       "<table border=\"1\" class=\"dataframe\">\n",
       "  <thead>\n",
       "    <tr style=\"text-align: right;\">\n",
       "      <th></th>\n",
       "      <th>num_overall</th>\n",
       "      <th>num_inseason</th>\n",
       "      <th>title</th>\n",
       "      <th>director</th>\n",
       "      <th>writer</th>\n",
       "      <th>air_date</th>\n",
       "      <th>pcode</th>\n",
       "      <th>us_viewers</th>\n",
       "    </tr>\n",
       "  </thead>\n",
       "  <tbody>\n",
       "    <tr>\n",
       "      <td>0</td>\n",
       "      <td>1</td>\n",
       "      <td>1</td>\n",
       "      <td>\"Pilot\"</td>\n",
       "      <td>Mark Piznarski</td>\n",
       "      <td>Rob Thomas</td>\n",
       "      <td>September 22, 2004</td>\n",
       "      <td>475258</td>\n",
       "      <td>2.49</td>\n",
       "    </tr>\n",
       "    <tr>\n",
       "      <td>1</td>\n",
       "      <td>2</td>\n",
       "      <td>2</td>\n",
       "      <td>\"Credit Where Credit's Due\"</td>\n",
       "      <td>Mark Piznarski</td>\n",
       "      <td>Rob Thomas</td>\n",
       "      <td>September 28, 2004</td>\n",
       "      <td>2T5701</td>\n",
       "      <td>2.21</td>\n",
       "    </tr>\n",
       "    <tr>\n",
       "      <td>2</td>\n",
       "      <td>3</td>\n",
       "      <td>3</td>\n",
       "      <td>\"Meet John Smith\"</td>\n",
       "      <td>Harry Winer</td>\n",
       "      <td>Jed Seidel</td>\n",
       "      <td>October 12, 2004</td>\n",
       "      <td>2T5702</td>\n",
       "      <td>2.71</td>\n",
       "    </tr>\n",
       "    <tr>\n",
       "      <td>3</td>\n",
       "      <td>4</td>\n",
       "      <td>4</td>\n",
       "      <td>\"The Wrath of Con\"</td>\n",
       "      <td>Michael Fields</td>\n",
       "      <td>Diane Ruggiero</td>\n",
       "      <td>October 19, 2004</td>\n",
       "      <td>2T5703</td>\n",
       "      <td>3.12</td>\n",
       "    </tr>\n",
       "    <tr>\n",
       "      <td>4</td>\n",
       "      <td>5</td>\n",
       "      <td>5</td>\n",
       "      <td>\"You Think You Know Somebody\"</td>\n",
       "      <td>Nick Gomez</td>\n",
       "      <td>Dayna Lynne North</td>\n",
       "      <td>October 26, 2004</td>\n",
       "      <td>2T5704</td>\n",
       "      <td>2.73</td>\n",
       "    </tr>\n",
       "  </tbody>\n",
       "</table>\n",
       "</div>"
      ],
      "text/plain": [
       "   num_overall  num_inseason                          title        director  \\\n",
       "0            1             1                        \"Pilot\"  Mark Piznarski   \n",
       "1            2             2    \"Credit Where Credit's Due\"  Mark Piznarski   \n",
       "2            3             3              \"Meet John Smith\"     Harry Winer   \n",
       "3            4             4             \"The Wrath of Con\"  Michael Fields   \n",
       "4            5             5  \"You Think You Know Somebody\"      Nick Gomez   \n",
       "\n",
       "              writer            air_date   pcode us_viewers  \n",
       "0         Rob Thomas  September 22, 2004  475258       2.49  \n",
       "1         Rob Thomas  September 28, 2004  2T5701       2.21  \n",
       "2         Jed Seidel    October 12, 2004  2T5702       2.71  \n",
       "3     Diane Ruggiero    October 19, 2004  2T5703       3.12  \n",
       "4  Dayna Lynne North    October 26, 2004  2T5704       2.73  "
      ]
     },
     "execution_count": 63,
     "metadata": {},
     "output_type": "execute_result"
    }
   ],
   "source": [
    "season_1.head()"
   ]
  },
  {
   "cell_type": "code",
   "execution_count": 64,
   "metadata": {},
   "outputs": [
    {
     "data": {
      "text/plain": [
       "0     2.49\n",
       "1     2.21\n",
       "2     2.71\n",
       "3     3.12\n",
       "4     2.73\n",
       "5     2.86\n",
       "6     2.74\n",
       "7     2.76\n",
       "8     2.40\n",
       "9     1.90\n",
       "10    2.84\n",
       "11    2.91\n",
       "12    2.97\n",
       "13    2.70\n",
       "14    2.34\n",
       "15    2.33\n",
       "16    2.78\n",
       "17    2.30\n",
       "18    2.48\n",
       "19    3.04\n",
       "20    2.85\n",
       "21    2.99\n",
       "Name: us_viewers, dtype: float64"
      ]
     },
     "execution_count": 64,
     "metadata": {},
     "output_type": "execute_result"
    }
   ],
   "source": [
    "season_1['us_viewers'].astype('float')"
   ]
  },
  {
   "cell_type": "code",
   "execution_count": 65,
   "metadata": {},
   "outputs": [],
   "source": [
    "season_1['us_viewers'] = season_1['us_viewers'].astype('float')"
   ]
  },
  {
   "cell_type": "code",
   "execution_count": 66,
   "metadata": {},
   "outputs": [
    {
     "name": "stdout",
     "output_type": "stream",
     "text": [
      "<class 'pandas.core.frame.DataFrame'>\n",
      "RangeIndex: 22 entries, 0 to 21\n",
      "Data columns (total 8 columns):\n",
      "num_overall     22 non-null int64\n",
      "num_inseason    22 non-null int64\n",
      "title           22 non-null object\n",
      "director        22 non-null object\n",
      "writer          22 non-null object\n",
      "air_date        22 non-null object\n",
      "pcode           22 non-null object\n",
      "us_viewers      22 non-null float64\n",
      "dtypes: float64(1), int64(2), object(5)\n",
      "memory usage: 1.5+ KB\n"
     ]
    }
   ],
   "source": [
    "season_1.info()"
   ]
  },
  {
   "cell_type": "markdown",
   "metadata": {},
   "source": [
    "### Dates in Pandas"
   ]
  },
  {
   "cell_type": "code",
   "execution_count": 67,
   "metadata": {},
   "outputs": [],
   "source": [
    "import datetime"
   ]
  },
  {
   "cell_type": "code",
   "execution_count": 68,
   "metadata": {},
   "outputs": [
    {
     "data": {
      "text/plain": [
       "datetime.datetime(2020, 2, 25, 9, 59, 41, 867685)"
      ]
     },
     "execution_count": 68,
     "metadata": {},
     "output_type": "execute_result"
    }
   ],
   "source": [
    "datetime.datetime.now()"
   ]
  },
  {
   "cell_type": "code",
   "execution_count": 69,
   "metadata": {},
   "outputs": [],
   "source": [
    "now = datetime.datetime.now()"
   ]
  },
  {
   "cell_type": "code",
   "execution_count": 70,
   "metadata": {},
   "outputs": [
    {
     "data": {
      "text/plain": [
       "datetime.datetime"
      ]
     },
     "execution_count": 70,
     "metadata": {},
     "output_type": "execute_result"
    }
   ],
   "source": [
    "type(now)"
   ]
  },
  {
   "cell_type": "code",
   "execution_count": 71,
   "metadata": {},
   "outputs": [
    {
     "data": {
      "text/plain": [
       "2020"
      ]
     },
     "execution_count": 71,
     "metadata": {},
     "output_type": "execute_result"
    }
   ],
   "source": [
    "now.year"
   ]
  },
  {
   "cell_type": "code",
   "execution_count": 72,
   "metadata": {},
   "outputs": [
    {
     "data": {
      "text/plain": [
       "59"
      ]
     },
     "execution_count": 72,
     "metadata": {},
     "output_type": "execute_result"
    }
   ],
   "source": [
    "now.minute"
   ]
  },
  {
   "cell_type": "code",
   "execution_count": 73,
   "metadata": {},
   "outputs": [
    {
     "data": {
      "text/plain": [
       "9"
      ]
     },
     "execution_count": 73,
     "metadata": {},
     "output_type": "execute_result"
    }
   ],
   "source": [
    "now.hour"
   ]
  },
  {
   "cell_type": "code",
   "execution_count": 75,
   "metadata": {},
   "outputs": [
    {
     "data": {
      "text/plain": [
       "Timestamp('2020-11-05 00:00:00')"
      ]
     },
     "execution_count": 75,
     "metadata": {},
     "output_type": "execute_result"
    }
   ],
   "source": [
    "pd.to_datetime('11-05-2020')"
   ]
  },
  {
   "cell_type": "code",
   "execution_count": 76,
   "metadata": {},
   "outputs": [
    {
     "data": {
      "text/plain": [
       "0    2004-09-22\n",
       "1    2004-09-28\n",
       "2    2004-10-12\n",
       "3    2004-10-19\n",
       "4    2004-10-26\n",
       "5    2004-11-02\n",
       "6    2004-11-09\n",
       "7    2004-11-23\n",
       "8    2004-11-30\n",
       "9    2004-12-14\n",
       "10   2005-01-04\n",
       "11   2005-01-11\n",
       "12   2005-02-08\n",
       "13   2005-02-15\n",
       "14   2005-02-22\n",
       "15   2005-03-29\n",
       "16   2005-04-05\n",
       "17   2005-04-12\n",
       "18   2005-04-19\n",
       "19   2005-04-26\n",
       "20   2005-05-03\n",
       "21   2005-05-10\n",
       "Name: air_date, dtype: datetime64[ns]"
      ]
     },
     "execution_count": 76,
     "metadata": {},
     "output_type": "execute_result"
    }
   ],
   "source": [
    "pd.to_datetime(season_1['air_date'])"
   ]
  },
  {
   "cell_type": "code",
   "execution_count": 77,
   "metadata": {},
   "outputs": [],
   "source": [
    "season_1['air_date'] = pd.to_datetime(season_1['air_date'])"
   ]
  },
  {
   "cell_type": "code",
   "execution_count": 78,
   "metadata": {},
   "outputs": [
    {
     "name": "stdout",
     "output_type": "stream",
     "text": [
      "<class 'pandas.core.frame.DataFrame'>\n",
      "RangeIndex: 22 entries, 0 to 21\n",
      "Data columns (total 8 columns):\n",
      "num_overall     22 non-null int64\n",
      "num_inseason    22 non-null int64\n",
      "title           22 non-null object\n",
      "director        22 non-null object\n",
      "writer          22 non-null object\n",
      "air_date        22 non-null datetime64[ns]\n",
      "pcode           22 non-null object\n",
      "us_viewers      22 non-null float64\n",
      "dtypes: datetime64[ns](1), float64(1), int64(2), object(4)\n",
      "memory usage: 1.5+ KB\n"
     ]
    }
   ],
   "source": [
    "season_1.info()"
   ]
  },
  {
   "cell_type": "code",
   "execution_count": 79,
   "metadata": {},
   "outputs": [],
   "source": [
    "months = season_1['air_date'].dt.month"
   ]
  },
  {
   "cell_type": "code",
   "execution_count": 80,
   "metadata": {},
   "outputs": [
    {
     "data": {
      "text/plain": [
       "0      9\n",
       "1      9\n",
       "2     10\n",
       "3     10\n",
       "4     10\n",
       "5     11\n",
       "6     11\n",
       "7     11\n",
       "8     11\n",
       "9     12\n",
       "10     1\n",
       "11     1\n",
       "12     2\n",
       "13     2\n",
       "14     2\n",
       "15     3\n",
       "16     4\n",
       "17     4\n",
       "18     4\n",
       "19     4\n",
       "20     5\n",
       "21     5\n",
       "Name: air_date, dtype: int64"
      ]
     },
     "execution_count": 80,
     "metadata": {},
     "output_type": "execute_result"
    }
   ],
   "source": [
    "months"
   ]
  },
  {
   "cell_type": "code",
   "execution_count": 81,
   "metadata": {},
   "outputs": [
    {
     "name": "stdout",
     "output_type": "stream",
     "text": [
      "<class 'pandas.core.frame.DataFrame'>\n",
      "RangeIndex: 22 entries, 0 to 21\n",
      "Data columns (total 8 columns):\n",
      "No.overall                22 non-null int64\n",
      "No. inseason              22 non-null int64\n",
      "Title                     22 non-null object\n",
      "Directed by               22 non-null object\n",
      "Written by                22 non-null object\n",
      "Original air date         22 non-null object\n",
      "Prod.code                 22 non-null object\n",
      "U.S. viewers(millions)    22 non-null object\n",
      "dtypes: int64(2), object(6)\n",
      "memory usage: 1.5+ KB\n"
     ]
    }
   ],
   "source": [
    "season_2.info()"
   ]
  },
  {
   "cell_type": "markdown",
   "metadata": {},
   "source": [
    "### PROBLEMS"
   ]
  },
  {
   "cell_type": "markdown",
   "metadata": {},
   "source": [
    "- Rename the columns for season 2 to be consistent with season 1\n",
    "- Clean up the viewer column\n",
    "- Convert the dates\n",
    "- Add a column to season 1 named `season` with value 1, do the same for season 2.\n",
    "- Explore the help for the `pd.concat` function.  Use this to create a single `DataFrame` containing season 1 and season 2."
   ]
  },
  {
   "cell_type": "code",
   "execution_count": 82,
   "metadata": {},
   "outputs": [],
   "source": [
    "#rename the columns\n"
   ]
  },
  {
   "cell_type": "code",
   "execution_count": 83,
   "metadata": {},
   "outputs": [],
   "source": [
    "#clean up viewer\n"
   ]
  },
  {
   "cell_type": "code",
   "execution_count": 84,
   "metadata": {},
   "outputs": [],
   "source": [
    "#convert the dates\n"
   ]
  },
  {
   "cell_type": "code",
   "execution_count": 85,
   "metadata": {},
   "outputs": [],
   "source": [
    "#add season columns\n"
   ]
  },
  {
   "cell_type": "code",
   "execution_count": 86,
   "metadata": {},
   "outputs": [],
   "source": [
    "#explore concat\n"
   ]
  },
  {
   "cell_type": "code",
   "execution_count": 87,
   "metadata": {},
   "outputs": [],
   "source": [
    "#create single frame\n"
   ]
  },
  {
   "cell_type": "code",
   "execution_count": null,
   "metadata": {},
   "outputs": [],
   "source": []
  }
 ],
 "metadata": {
  "kernelspec": {
   "display_name": "Python 3",
   "language": "python",
   "name": "python3"
  },
  "language_info": {
   "codemirror_mode": {
    "name": "ipython",
    "version": 3
   },
   "file_extension": ".py",
   "mimetype": "text/x-python",
   "name": "python",
   "nbconvert_exporter": "python",
   "pygments_lexer": "ipython3",
   "version": "3.7.4"
  },
  "widgets": {
   "application/vnd.jupyter.widget-state+json": {
    "state": {},
    "version_major": 2,
    "version_minor": 0
   }
  }
 },
 "nbformat": 4,
 "nbformat_minor": 4
}
