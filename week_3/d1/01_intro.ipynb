{
 "cells": [
  {
   "cell_type": "markdown",
   "metadata": {},
   "source": [
    "# Intro to Pandas I\n",
    "\n",
    "<center>\n",
    "    <img src = https://miro.medium.com/max/3452/1*6p6nF4_5XpHgcrYRrLYVAw.png />\n",
    "    </center>"
   ]
  },
  {
   "cell_type": "code",
   "execution_count": 1,
   "metadata": {},
   "outputs": [],
   "source": [
    "import pandas as pd"
   ]
  },
  {
   "cell_type": "markdown",
   "metadata": {},
   "source": [
    "### Classes\n",
    "\n",
    "A `DataFrame` is a class."
   ]
  },
  {
   "cell_type": "code",
   "execution_count": 2,
   "metadata": {},
   "outputs": [],
   "source": [
    "class MyClass:\n",
    "    a = 13\n",
    "    \n",
    "    def f(self):\n",
    "        return 'Hello World!'"
   ]
  },
  {
   "cell_type": "code",
   "execution_count": 3,
   "metadata": {},
   "outputs": [],
   "source": [
    "x = MyClass()"
   ]
  },
  {
   "cell_type": "code",
   "execution_count": 4,
   "metadata": {},
   "outputs": [
    {
     "data": {
      "text/plain": [
       "13"
      ]
     },
     "execution_count": 4,
     "metadata": {},
     "output_type": "execute_result"
    }
   ],
   "source": [
    "x.a"
   ]
  },
  {
   "cell_type": "code",
   "execution_count": 5,
   "metadata": {},
   "outputs": [
    {
     "data": {
      "text/plain": [
       "'Hello World!'"
      ]
     },
     "execution_count": 5,
     "metadata": {},
     "output_type": "execute_result"
    }
   ],
   "source": [
    "x.f()"
   ]
  },
  {
   "cell_type": "code",
   "execution_count": 14,
   "metadata": {},
   "outputs": [],
   "source": [
    "def __init__(self):\n",
    "    self.data = []"
   ]
  },
  {
   "cell_type": "code",
   "execution_count": 6,
   "metadata": {},
   "outputs": [],
   "source": [
    "class Dog:\n",
    "    def __init__(self, name, breed):\n",
    "        self.name = name\n",
    "        self.breed = breed\n",
    "        \n",
    "        "
   ]
  },
  {
   "cell_type": "code",
   "execution_count": 7,
   "metadata": {},
   "outputs": [],
   "source": [
    "dog_1 = Dog('steve', 'mutt')"
   ]
  },
  {
   "cell_type": "code",
   "execution_count": 8,
   "metadata": {},
   "outputs": [
    {
     "data": {
      "text/plain": [
       "'steve'"
      ]
     },
     "execution_count": 8,
     "metadata": {},
     "output_type": "execute_result"
    }
   ],
   "source": [
    "dog_1.name"
   ]
  },
  {
   "cell_type": "code",
   "execution_count": 9,
   "metadata": {},
   "outputs": [
    {
     "data": {
      "text/plain": [
       "'mutt'"
      ]
     },
     "execution_count": 9,
     "metadata": {},
     "output_type": "execute_result"
    }
   ],
   "source": [
    "dog_1.breed"
   ]
  },
  {
   "cell_type": "code",
   "execution_count": 10,
   "metadata": {},
   "outputs": [],
   "source": [
    "dog_2 = Dog('mary', 'pug')"
   ]
  },
  {
   "cell_type": "code",
   "execution_count": 11,
   "metadata": {},
   "outputs": [
    {
     "data": {
      "text/plain": [
       "'mary'"
      ]
     },
     "execution_count": 11,
     "metadata": {},
     "output_type": "execute_result"
    }
   ],
   "source": [
    "dog_2.name"
   ]
  },
  {
   "cell_type": "code",
   "execution_count": 12,
   "metadata": {},
   "outputs": [
    {
     "data": {
      "text/plain": [
       "'pug'"
      ]
     },
     "execution_count": 12,
     "metadata": {},
     "output_type": "execute_result"
    }
   ],
   "source": [
    "dog_2.breed"
   ]
  },
  {
   "cell_type": "code",
   "execution_count": null,
   "metadata": {},
   "outputs": [],
   "source": []
  },
  {
   "cell_type": "code",
   "execution_count": 17,
   "metadata": {},
   "outputs": [],
   "source": [
    "class Dog:\n",
    "    def __init__(self, name, breed):\n",
    "        self.name = name\n",
    "        self.breed = breed\n",
    "        self.tricks = []\n",
    "        \n",
    "    def add_trick(self, trick):\n",
    "        self.tricks.append(trick)\n",
    "        \n",
    "    def bark(self, times):\n",
    "        return 'woof '*times"
   ]
  },
  {
   "cell_type": "code",
   "execution_count": 18,
   "metadata": {},
   "outputs": [],
   "source": [
    "dog_2 = Dog('maria', 'schnauser')"
   ]
  },
  {
   "cell_type": "code",
   "execution_count": 19,
   "metadata": {},
   "outputs": [],
   "source": [
    "dog_2.add_trick('roll over')"
   ]
  },
  {
   "cell_type": "code",
   "execution_count": 20,
   "metadata": {},
   "outputs": [
    {
     "data": {
      "text/plain": [
       "['roll over']"
      ]
     },
     "execution_count": 20,
     "metadata": {},
     "output_type": "execute_result"
    }
   ],
   "source": [
    "dog_2.tricks"
   ]
  },
  {
   "cell_type": "code",
   "execution_count": 21,
   "metadata": {},
   "outputs": [
    {
     "data": {
      "text/plain": [
       "'woof woof woof woof woof '"
      ]
     },
     "execution_count": 21,
     "metadata": {},
     "output_type": "execute_result"
    }
   ],
   "source": [
    "dog_2.bark(5)"
   ]
  },
  {
   "cell_type": "markdown",
   "metadata": {},
   "source": [
    "##### PROBLEM\n",
    "\n",
    "Create a `class` called `PugDog`.  This class should initialize with the name, weight and age of the pug, and contain methods for adding snacks to a snack list.  \n",
    "\n",
    "Instantiate the class and add `kale` and `seitan` to your snack list."
   ]
  },
  {
   "cell_type": "code",
   "execution_count": 22,
   "metadata": {},
   "outputs": [],
   "source": [
    "class PugDog:\n",
    "    \n",
    "    def __init__(self, name, weight, age):\n",
    "        self.name = name\n",
    "        self.weight = weight\n",
    "        self.age = age\n",
    "        self.snacks = []\n",
    "        \n",
    "        \n",
    "    def add_snack(self, snack):\n",
    "        self.snacks.append(snack)\n",
    "        "
   ]
  },
  {
   "cell_type": "code",
   "execution_count": 23,
   "metadata": {},
   "outputs": [],
   "source": [
    "pug_1 = PugDog('gizmo', 40, 13)"
   ]
  },
  {
   "cell_type": "code",
   "execution_count": 24,
   "metadata": {},
   "outputs": [],
   "source": [
    "pug_1.add_snack('kale')"
   ]
  },
  {
   "cell_type": "code",
   "execution_count": 25,
   "metadata": {},
   "outputs": [],
   "source": [
    "pug_1.add_snack('seitan')"
   ]
  },
  {
   "cell_type": "code",
   "execution_count": 27,
   "metadata": {},
   "outputs": [
    {
     "ename": "AttributeError",
     "evalue": "'PugDog' object has no attribute '__attrs__'",
     "output_type": "error",
     "traceback": [
      "\u001b[0;31m---------------------------------------------------------------------------\u001b[0m",
      "\u001b[0;31mAttributeError\u001b[0m                            Traceback (most recent call last)",
      "\u001b[0;32m<ipython-input-27-02dc5162a8c4>\u001b[0m in \u001b[0;36m<module>\u001b[0;34m\u001b[0m\n\u001b[0;32m----> 1\u001b[0;31m \u001b[0mpug_1\u001b[0m\u001b[0;34m.\u001b[0m\u001b[0m__attrs__\u001b[0m\u001b[0;34m\u001b[0m\u001b[0;34m\u001b[0m\u001b[0m\n\u001b[0m",
      "\u001b[0;31mAttributeError\u001b[0m: 'PugDog' object has no attribute '__attrs__'"
     ]
    }
   ],
   "source": [
    "pug_1."
   ]
  },
  {
   "cell_type": "code",
   "execution_count": 26,
   "metadata": {},
   "outputs": [
    {
     "data": {
      "text/plain": [
       "['kale', 'seitan']"
      ]
     },
     "execution_count": 26,
     "metadata": {},
     "output_type": "execute_result"
    }
   ],
   "source": [
    "pug_1.snacks"
   ]
  },
  {
   "cell_type": "markdown",
   "metadata": {},
   "source": [
    "### The Series"
   ]
  },
  {
   "cell_type": "code",
   "execution_count": 28,
   "metadata": {},
   "outputs": [],
   "source": [
    "data = pd.Series([5, 3, 0, -2])"
   ]
  },
  {
   "cell_type": "code",
   "execution_count": 29,
   "metadata": {},
   "outputs": [
    {
     "data": {
      "text/plain": [
       "0    5\n",
       "1    3\n",
       "2    0\n",
       "3   -2\n",
       "dtype: int64"
      ]
     },
     "execution_count": 29,
     "metadata": {},
     "output_type": "execute_result"
    }
   ],
   "source": [
    "data"
   ]
  },
  {
   "cell_type": "code",
   "execution_count": 30,
   "metadata": {},
   "outputs": [
    {
     "data": {
      "text/plain": [
       "pandas.core.series.Series"
      ]
     },
     "execution_count": 30,
     "metadata": {},
     "output_type": "execute_result"
    }
   ],
   "source": [
    "type(data)"
   ]
  },
  {
   "cell_type": "code",
   "execution_count": 31,
   "metadata": {},
   "outputs": [
    {
     "data": {
      "text/plain": [
       "RangeIndex(start=0, stop=4, step=1)"
      ]
     },
     "execution_count": 31,
     "metadata": {},
     "output_type": "execute_result"
    }
   ],
   "source": [
    "data.index"
   ]
  },
  {
   "cell_type": "code",
   "execution_count": 6,
   "metadata": {},
   "outputs": [
    {
     "data": {
      "text/plain": [
       "array([ 5,  3,  0, -2])"
      ]
     },
     "execution_count": 6,
     "metadata": {},
     "output_type": "execute_result"
    }
   ],
   "source": [
    "data.values"
   ]
  },
  {
   "cell_type": "code",
   "execution_count": 23,
   "metadata": {},
   "outputs": [
    {
     "data": {
      "text/plain": [
       "0    False\n",
       "1    False\n",
       "2    False\n",
       "3    False\n",
       "dtype: bool"
      ]
     },
     "execution_count": 23,
     "metadata": {},
     "output_type": "execute_result"
    }
   ],
   "source": [
    "data.isnull()"
   ]
  },
  {
   "cell_type": "code",
   "execution_count": 32,
   "metadata": {},
   "outputs": [],
   "source": [
    "data.index = ['a', 'b', 'c', 'd']"
   ]
  },
  {
   "cell_type": "code",
   "execution_count": 33,
   "metadata": {},
   "outputs": [
    {
     "data": {
      "text/plain": [
       "a    5\n",
       "b    3\n",
       "c    0\n",
       "d   -2\n",
       "dtype: int64"
      ]
     },
     "execution_count": 33,
     "metadata": {},
     "output_type": "execute_result"
    }
   ],
   "source": [
    "data"
   ]
  },
  {
   "cell_type": "markdown",
   "metadata": {},
   "source": [
    "### The `DataFrame`"
   ]
  },
  {
   "cell_type": "code",
   "execution_count": 34,
   "metadata": {},
   "outputs": [],
   "source": [
    "data = {'state': ['New York', 'New York', 'New York', 'Florida', 'Florida'],\n",
    "       'year': [2008, 2010, 2011, 2008, 2010],\n",
    "       'pop': [20.1, 19.4, 18.7, 10, 11]}"
   ]
  },
  {
   "cell_type": "code",
   "execution_count": 35,
   "metadata": {},
   "outputs": [],
   "source": [
    "frame = pd.DataFrame(data)"
   ]
  },
  {
   "cell_type": "code",
   "execution_count": 36,
   "metadata": {},
   "outputs": [
    {
     "data": {
      "text/html": [
       "<div>\n",
       "<style scoped>\n",
       "    .dataframe tbody tr th:only-of-type {\n",
       "        vertical-align: middle;\n",
       "    }\n",
       "\n",
       "    .dataframe tbody tr th {\n",
       "        vertical-align: top;\n",
       "    }\n",
       "\n",
       "    .dataframe thead th {\n",
       "        text-align: right;\n",
       "    }\n",
       "</style>\n",
       "<table border=\"1\" class=\"dataframe\">\n",
       "  <thead>\n",
       "    <tr style=\"text-align: right;\">\n",
       "      <th></th>\n",
       "      <th>state</th>\n",
       "      <th>year</th>\n",
       "      <th>pop</th>\n",
       "    </tr>\n",
       "  </thead>\n",
       "  <tbody>\n",
       "    <tr>\n",
       "      <td>0</td>\n",
       "      <td>New York</td>\n",
       "      <td>2008</td>\n",
       "      <td>20.1</td>\n",
       "    </tr>\n",
       "    <tr>\n",
       "      <td>1</td>\n",
       "      <td>New York</td>\n",
       "      <td>2010</td>\n",
       "      <td>19.4</td>\n",
       "    </tr>\n",
       "    <tr>\n",
       "      <td>2</td>\n",
       "      <td>New York</td>\n",
       "      <td>2011</td>\n",
       "      <td>18.7</td>\n",
       "    </tr>\n",
       "    <tr>\n",
       "      <td>3</td>\n",
       "      <td>Florida</td>\n",
       "      <td>2008</td>\n",
       "      <td>10.0</td>\n",
       "    </tr>\n",
       "    <tr>\n",
       "      <td>4</td>\n",
       "      <td>Florida</td>\n",
       "      <td>2010</td>\n",
       "      <td>11.0</td>\n",
       "    </tr>\n",
       "  </tbody>\n",
       "</table>\n",
       "</div>"
      ],
      "text/plain": [
       "      state  year   pop\n",
       "0  New York  2008  20.1\n",
       "1  New York  2010  19.4\n",
       "2  New York  2011  18.7\n",
       "3   Florida  2008  10.0\n",
       "4   Florida  2010  11.0"
      ]
     },
     "execution_count": 36,
     "metadata": {},
     "output_type": "execute_result"
    }
   ],
   "source": [
    "frame"
   ]
  },
  {
   "cell_type": "code",
   "execution_count": 37,
   "metadata": {},
   "outputs": [],
   "source": [
    "frame = pd.DataFrame(data, columns = ['year', 'state', 'pop'])"
   ]
  },
  {
   "cell_type": "code",
   "execution_count": 38,
   "metadata": {},
   "outputs": [
    {
     "data": {
      "text/html": [
       "<div>\n",
       "<style scoped>\n",
       "    .dataframe tbody tr th:only-of-type {\n",
       "        vertical-align: middle;\n",
       "    }\n",
       "\n",
       "    .dataframe tbody tr th {\n",
       "        vertical-align: top;\n",
       "    }\n",
       "\n",
       "    .dataframe thead th {\n",
       "        text-align: right;\n",
       "    }\n",
       "</style>\n",
       "<table border=\"1\" class=\"dataframe\">\n",
       "  <thead>\n",
       "    <tr style=\"text-align: right;\">\n",
       "      <th></th>\n",
       "      <th>year</th>\n",
       "      <th>state</th>\n",
       "      <th>pop</th>\n",
       "    </tr>\n",
       "  </thead>\n",
       "  <tbody>\n",
       "    <tr>\n",
       "      <td>0</td>\n",
       "      <td>2008</td>\n",
       "      <td>New York</td>\n",
       "      <td>20.1</td>\n",
       "    </tr>\n",
       "    <tr>\n",
       "      <td>1</td>\n",
       "      <td>2010</td>\n",
       "      <td>New York</td>\n",
       "      <td>19.4</td>\n",
       "    </tr>\n",
       "    <tr>\n",
       "      <td>2</td>\n",
       "      <td>2011</td>\n",
       "      <td>New York</td>\n",
       "      <td>18.7</td>\n",
       "    </tr>\n",
       "    <tr>\n",
       "      <td>3</td>\n",
       "      <td>2008</td>\n",
       "      <td>Florida</td>\n",
       "      <td>10.0</td>\n",
       "    </tr>\n",
       "    <tr>\n",
       "      <td>4</td>\n",
       "      <td>2010</td>\n",
       "      <td>Florida</td>\n",
       "      <td>11.0</td>\n",
       "    </tr>\n",
       "  </tbody>\n",
       "</table>\n",
       "</div>"
      ],
      "text/plain": [
       "   year     state   pop\n",
       "0  2008  New York  20.1\n",
       "1  2010  New York  19.4\n",
       "2  2011  New York  18.7\n",
       "3  2008   Florida  10.0\n",
       "4  2010   Florida  11.0"
      ]
     },
     "execution_count": 38,
     "metadata": {},
     "output_type": "execute_result"
    }
   ],
   "source": [
    "frame"
   ]
  },
  {
   "cell_type": "code",
   "execution_count": 31,
   "metadata": {},
   "outputs": [
    {
     "data": {
      "text/plain": [
       "0    2008\n",
       "1    2010\n",
       "2    2011\n",
       "3    2008\n",
       "4    2010\n",
       "Name: year, dtype: int64"
      ]
     },
     "execution_count": 31,
     "metadata": {},
     "output_type": "execute_result"
    }
   ],
   "source": [
    "frame['year']"
   ]
  },
  {
   "cell_type": "code",
   "execution_count": 32,
   "metadata": {},
   "outputs": [
    {
     "data": {
      "text/plain": [
       "0    2008\n",
       "1    2010\n",
       "2    2011\n",
       "3    2008\n",
       "4    2010\n",
       "Name: year, dtype: int64"
      ]
     },
     "execution_count": 32,
     "metadata": {},
     "output_type": "execute_result"
    }
   ],
   "source": [
    "frame.year"
   ]
  },
  {
   "cell_type": "code",
   "execution_count": 39,
   "metadata": {},
   "outputs": [],
   "source": [
    "frame = pd.DataFrame(data, index = ['a', 'b', 'c', 'd', 'e'])"
   ]
  },
  {
   "cell_type": "code",
   "execution_count": 40,
   "metadata": {},
   "outputs": [
    {
     "data": {
      "text/html": [
       "<div>\n",
       "<style scoped>\n",
       "    .dataframe tbody tr th:only-of-type {\n",
       "        vertical-align: middle;\n",
       "    }\n",
       "\n",
       "    .dataframe tbody tr th {\n",
       "        vertical-align: top;\n",
       "    }\n",
       "\n",
       "    .dataframe thead th {\n",
       "        text-align: right;\n",
       "    }\n",
       "</style>\n",
       "<table border=\"1\" class=\"dataframe\">\n",
       "  <thead>\n",
       "    <tr style=\"text-align: right;\">\n",
       "      <th></th>\n",
       "      <th>state</th>\n",
       "      <th>year</th>\n",
       "      <th>pop</th>\n",
       "    </tr>\n",
       "  </thead>\n",
       "  <tbody>\n",
       "    <tr>\n",
       "      <td>a</td>\n",
       "      <td>New York</td>\n",
       "      <td>2008</td>\n",
       "      <td>20.1</td>\n",
       "    </tr>\n",
       "    <tr>\n",
       "      <td>b</td>\n",
       "      <td>New York</td>\n",
       "      <td>2010</td>\n",
       "      <td>19.4</td>\n",
       "    </tr>\n",
       "    <tr>\n",
       "      <td>c</td>\n",
       "      <td>New York</td>\n",
       "      <td>2011</td>\n",
       "      <td>18.7</td>\n",
       "    </tr>\n",
       "    <tr>\n",
       "      <td>d</td>\n",
       "      <td>Florida</td>\n",
       "      <td>2008</td>\n",
       "      <td>10.0</td>\n",
       "    </tr>\n",
       "    <tr>\n",
       "      <td>e</td>\n",
       "      <td>Florida</td>\n",
       "      <td>2010</td>\n",
       "      <td>11.0</td>\n",
       "    </tr>\n",
       "  </tbody>\n",
       "</table>\n",
       "</div>"
      ],
      "text/plain": [
       "      state  year   pop\n",
       "a  New York  2008  20.1\n",
       "b  New York  2010  19.4\n",
       "c  New York  2011  18.7\n",
       "d   Florida  2008  10.0\n",
       "e   Florida  2010  11.0"
      ]
     },
     "execution_count": 40,
     "metadata": {},
     "output_type": "execute_result"
    }
   ],
   "source": [
    "frame"
   ]
  },
  {
   "cell_type": "markdown",
   "metadata": {},
   "source": [
    "### Creating DataFrames\n"
   ]
  },
  {
   "cell_type": "code",
   "execution_count": 39,
   "metadata": {},
   "outputs": [],
   "source": [
    "#from Python objects\n",
    "df = pd.DataFrame(data)"
   ]
  },
  {
   "cell_type": "code",
   "execution_count": 40,
   "metadata": {},
   "outputs": [],
   "source": [
    "#from local files: .csv\n",
    "gap_all = pd.read_csv('data/gapminder_all.csv')"
   ]
  },
  {
   "cell_type": "markdown",
   "metadata": {},
   "source": [
    "https://data.cityofnewyork.us/Public-Safety/NYPD-Complaint-Data-Historic/qgea-i56i"
   ]
  },
  {
   "cell_type": "code",
   "execution_count": 41,
   "metadata": {},
   "outputs": [],
   "source": [
    "#from urls \n",
    "nypd = pd.read_json('https://data.cityofnewyork.us/resource/qgea-i56i.json')"
   ]
  },
  {
   "cell_type": "code",
   "execution_count": 45,
   "metadata": {},
   "outputs": [],
   "source": [
    "#from html tables\n",
    "vmars = pd.read_html('https://en.wikipedia.org/wiki/List_of_Veronica_Mars_episodes')"
   ]
  },
  {
   "cell_type": "code",
   "execution_count": 43,
   "metadata": {},
   "outputs": [
    {
     "data": {
      "text/plain": [
       "7"
      ]
     },
     "execution_count": 43,
     "metadata": {},
     "output_type": "execute_result"
    }
   ],
   "source": [
    "len(vmars)"
   ]
  },
  {
   "cell_type": "markdown",
   "metadata": {},
   "source": [
    "##### PROBLEM\n",
    "\n",
    "- Create a DataFrame named `happy_2019` from the `2019.csv` file located in the `data` folder.  \n",
    "\n",
    "- Create a DataFrame named `nyc_311` from the data located here: https://data.cityofnewyork.us/Social-Services/311-Service-Requests-from-2010-to-Present/erm2-nwe9\n",
    "\n",
    "- Create a DataFrame named `del_the` based on Del the Funky Homosapien's discography found here: https://en.wikipedia.org/wiki/Del_the_Funky_Homosapien_discography"
   ]
  },
  {
   "cell_type": "code",
   "execution_count": 42,
   "metadata": {},
   "outputs": [],
   "source": [
    "happy_2019 = pd.read_csv('data/2019.csv')\n",
    "nyc_311 = pd.read_json('https://data.cityofnewyork.us/resource/erm2-nwe9.json')\n",
    "del_the = pd.read_html('https://en.wikipedia.org/wiki/Del_the_Funky_Homosapien_discography')"
   ]
  },
  {
   "cell_type": "code",
   "execution_count": null,
   "metadata": {},
   "outputs": [],
   "source": []
  },
  {
   "cell_type": "code",
   "execution_count": null,
   "metadata": {},
   "outputs": [],
   "source": []
  },
  {
   "cell_type": "code",
   "execution_count": null,
   "metadata": {},
   "outputs": [],
   "source": []
  },
  {
   "cell_type": "code",
   "execution_count": null,
   "metadata": {},
   "outputs": [],
   "source": []
  },
  {
   "cell_type": "markdown",
   "metadata": {},
   "source": [
    "##### Cleaning \n",
    "\n",
    "<center>\n",
    "    <img src = https://upload.wikimedia.org/wikipedia/commons/thumb/2/28/Veronica_Mars_2004_logo.svg/600px-Veronica_Mars_2004_logo.svg.png width = 50%/>\n",
    "    </center>"
   ]
  },
  {
   "cell_type": "code",
   "execution_count": 60,
   "metadata": {},
   "outputs": [],
   "source": [
    "#season 1 episodes\n",
    "season_1 = vmars[1]"
   ]
  },
  {
   "cell_type": "code",
   "execution_count": 61,
   "metadata": {},
   "outputs": [],
   "source": [
    "#season 2 episodes\n",
    "season_2 = vmars[2]"
   ]
  },
  {
   "cell_type": "code",
   "execution_count": 48,
   "metadata": {},
   "outputs": [
    {
     "data": {
      "text/plain": [
       "7"
      ]
     },
     "execution_count": 48,
     "metadata": {},
     "output_type": "execute_result"
    }
   ],
   "source": [
    "len(vmars)"
   ]
  },
  {
   "cell_type": "code",
   "execution_count": 50,
   "metadata": {},
   "outputs": [
    {
     "data": {
      "text/html": [
       "<div>\n",
       "<style scoped>\n",
       "    .dataframe tbody tr th:only-of-type {\n",
       "        vertical-align: middle;\n",
       "    }\n",
       "\n",
       "    .dataframe tbody tr th {\n",
       "        vertical-align: top;\n",
       "    }\n",
       "\n",
       "    .dataframe thead th {\n",
       "        text-align: right;\n",
       "    }\n",
       "</style>\n",
       "<table border=\"1\" class=\"dataframe\">\n",
       "  <thead>\n",
       "    <tr style=\"text-align: right;\">\n",
       "      <th></th>\n",
       "      <th>No.overall</th>\n",
       "      <th>No. inseason</th>\n",
       "      <th>Title</th>\n",
       "      <th>Directed by</th>\n",
       "      <th>Written by</th>\n",
       "      <th>Original air date</th>\n",
       "      <th>Prod.code</th>\n",
       "      <th>U.S. viewers(millions)</th>\n",
       "    </tr>\n",
       "  </thead>\n",
       "  <tbody>\n",
       "    <tr>\n",
       "      <td>0</td>\n",
       "      <td>1</td>\n",
       "      <td>1</td>\n",
       "      <td>\"Pilot\"</td>\n",
       "      <td>Mark Piznarski</td>\n",
       "      <td>Rob Thomas</td>\n",
       "      <td>September 22, 2004</td>\n",
       "      <td>475258</td>\n",
       "      <td>2.49[15]</td>\n",
       "    </tr>\n",
       "    <tr>\n",
       "      <td>1</td>\n",
       "      <td>2</td>\n",
       "      <td>2</td>\n",
       "      <td>\"Credit Where Credit's Due\"</td>\n",
       "      <td>Mark Piznarski</td>\n",
       "      <td>Rob Thomas</td>\n",
       "      <td>September 28, 2004</td>\n",
       "      <td>2T5701</td>\n",
       "      <td>2.21[16]</td>\n",
       "    </tr>\n",
       "    <tr>\n",
       "      <td>2</td>\n",
       "      <td>3</td>\n",
       "      <td>3</td>\n",
       "      <td>\"Meet John Smith\"</td>\n",
       "      <td>Harry Winer</td>\n",
       "      <td>Jed Seidel</td>\n",
       "      <td>October 12, 2004</td>\n",
       "      <td>2T5702</td>\n",
       "      <td>2.71[17]</td>\n",
       "    </tr>\n",
       "    <tr>\n",
       "      <td>3</td>\n",
       "      <td>4</td>\n",
       "      <td>4</td>\n",
       "      <td>\"The Wrath of Con\"</td>\n",
       "      <td>Michael Fields</td>\n",
       "      <td>Diane Ruggiero</td>\n",
       "      <td>October 19, 2004</td>\n",
       "      <td>2T5703</td>\n",
       "      <td>3.12[18]</td>\n",
       "    </tr>\n",
       "    <tr>\n",
       "      <td>4</td>\n",
       "      <td>5</td>\n",
       "      <td>5</td>\n",
       "      <td>\"You Think You Know Somebody\"</td>\n",
       "      <td>Nick Gomez</td>\n",
       "      <td>Dayna Lynne North</td>\n",
       "      <td>October 26, 2004</td>\n",
       "      <td>2T5704</td>\n",
       "      <td>2.73[19]</td>\n",
       "    </tr>\n",
       "    <tr>\n",
       "      <td>5</td>\n",
       "      <td>6</td>\n",
       "      <td>6</td>\n",
       "      <td>\"Return of the Kane\"</td>\n",
       "      <td>Sarah Pia Anderson</td>\n",
       "      <td>Story by : Rob Thomas Teleplay by : Phil Klemmer</td>\n",
       "      <td>November 2, 2004</td>\n",
       "      <td>2T5705</td>\n",
       "      <td>2.86[20]</td>\n",
       "    </tr>\n",
       "    <tr>\n",
       "      <td>6</td>\n",
       "      <td>7</td>\n",
       "      <td>7</td>\n",
       "      <td>\"The Girl Next Door\"</td>\n",
       "      <td>Nick Marck</td>\n",
       "      <td>Story by : Jed Seidel Teleplay by : Jed Seidel...</td>\n",
       "      <td>November 9, 2004</td>\n",
       "      <td>2T5706</td>\n",
       "      <td>2.74[21]</td>\n",
       "    </tr>\n",
       "    <tr>\n",
       "      <td>7</td>\n",
       "      <td>8</td>\n",
       "      <td>8</td>\n",
       "      <td>\"Like a Virgin\"</td>\n",
       "      <td>Guy Bee</td>\n",
       "      <td>Aury Wallington</td>\n",
       "      <td>November 23, 2004</td>\n",
       "      <td>2T5707</td>\n",
       "      <td>2.76[22]</td>\n",
       "    </tr>\n",
       "    <tr>\n",
       "      <td>8</td>\n",
       "      <td>9</td>\n",
       "      <td>9</td>\n",
       "      <td>\"Drinking the Kool-Aid\"</td>\n",
       "      <td>Marcos Siega</td>\n",
       "      <td>Story by : Rob Thomas Teleplay by : Russell Smith</td>\n",
       "      <td>November 30, 2004</td>\n",
       "      <td>2T5708</td>\n",
       "      <td>2.40[23]</td>\n",
       "    </tr>\n",
       "    <tr>\n",
       "      <td>9</td>\n",
       "      <td>10</td>\n",
       "      <td>10</td>\n",
       "      <td>\"An Echolls Family Christmas\"</td>\n",
       "      <td>Nick Marck</td>\n",
       "      <td>Diane Ruggiero</td>\n",
       "      <td>December 14, 2004</td>\n",
       "      <td>2T5710</td>\n",
       "      <td>1.90[24]</td>\n",
       "    </tr>\n",
       "    <tr>\n",
       "      <td>10</td>\n",
       "      <td>11</td>\n",
       "      <td>11</td>\n",
       "      <td>\"Silence of the Lamb\"</td>\n",
       "      <td>John Kretchmer</td>\n",
       "      <td>Jed Seidel &amp; Dayna Lynne North</td>\n",
       "      <td>January 4, 2005</td>\n",
       "      <td>2T5709</td>\n",
       "      <td>2.84[25]</td>\n",
       "    </tr>\n",
       "    <tr>\n",
       "      <td>11</td>\n",
       "      <td>12</td>\n",
       "      <td>12</td>\n",
       "      <td>\"Clash of the Tritons\"</td>\n",
       "      <td>David Barrett</td>\n",
       "      <td>Phil Klemmer &amp; Aury Wallington</td>\n",
       "      <td>January 11, 2005</td>\n",
       "      <td>2T5711</td>\n",
       "      <td>2.91[26]</td>\n",
       "    </tr>\n",
       "    <tr>\n",
       "      <td>12</td>\n",
       "      <td>13</td>\n",
       "      <td>13</td>\n",
       "      <td>\"Lord of the Bling\"</td>\n",
       "      <td>Steve Gomer</td>\n",
       "      <td>John Enbom</td>\n",
       "      <td>February 8, 2005</td>\n",
       "      <td>2T5712</td>\n",
       "      <td>2.97[27]</td>\n",
       "    </tr>\n",
       "    <tr>\n",
       "      <td>13</td>\n",
       "      <td>14</td>\n",
       "      <td>14</td>\n",
       "      <td>\"Mars vs. Mars\"</td>\n",
       "      <td>Marcos Siega</td>\n",
       "      <td>Story by : Rob Thomas Teleplay by : Jed Seidel...</td>\n",
       "      <td>February 15, 2005</td>\n",
       "      <td>2T5713</td>\n",
       "      <td>2.70[28]</td>\n",
       "    </tr>\n",
       "    <tr>\n",
       "      <td>14</td>\n",
       "      <td>15</td>\n",
       "      <td>15</td>\n",
       "      <td>\"Ruskie Business\"</td>\n",
       "      <td>Guy Bee</td>\n",
       "      <td>Phil Klemmer &amp; John Enbom</td>\n",
       "      <td>February 22, 2005</td>\n",
       "      <td>2T5714</td>\n",
       "      <td>2.34[29]</td>\n",
       "    </tr>\n",
       "    <tr>\n",
       "      <td>15</td>\n",
       "      <td>16</td>\n",
       "      <td>16</td>\n",
       "      <td>\"Betty and Veronica\"</td>\n",
       "      <td>Michael Fields</td>\n",
       "      <td>Diane Ruggiero</td>\n",
       "      <td>March 29, 2005</td>\n",
       "      <td>2T5715</td>\n",
       "      <td>2.33[30]</td>\n",
       "    </tr>\n",
       "    <tr>\n",
       "      <td>16</td>\n",
       "      <td>17</td>\n",
       "      <td>17</td>\n",
       "      <td>\"Kanes and Abel's\"</td>\n",
       "      <td>Nick Marck</td>\n",
       "      <td>Carolyn Murray</td>\n",
       "      <td>April 5, 2005</td>\n",
       "      <td>2T5716</td>\n",
       "      <td>2.78[31]</td>\n",
       "    </tr>\n",
       "    <tr>\n",
       "      <td>17</td>\n",
       "      <td>18</td>\n",
       "      <td>18</td>\n",
       "      <td>\"Weapons of Class Destruction\"</td>\n",
       "      <td>John Kretchmer</td>\n",
       "      <td>Jed Seidel</td>\n",
       "      <td>April 12, 2005</td>\n",
       "      <td>2T5717</td>\n",
       "      <td>2.30[32]</td>\n",
       "    </tr>\n",
       "    <tr>\n",
       "      <td>18</td>\n",
       "      <td>19</td>\n",
       "      <td>19</td>\n",
       "      <td>\"Hot Dogs\"</td>\n",
       "      <td>Nick Marck</td>\n",
       "      <td>Dayna Lynne North</td>\n",
       "      <td>April 19, 2005</td>\n",
       "      <td>2T5718</td>\n",
       "      <td>2.48[33]</td>\n",
       "    </tr>\n",
       "    <tr>\n",
       "      <td>19</td>\n",
       "      <td>20</td>\n",
       "      <td>20</td>\n",
       "      <td>\"M.A.D.\"</td>\n",
       "      <td>John Kretchmer</td>\n",
       "      <td>Phil Klemmer &amp; John Enbom</td>\n",
       "      <td>April 26, 2005</td>\n",
       "      <td>2T5719</td>\n",
       "      <td>3.04[34]</td>\n",
       "    </tr>\n",
       "    <tr>\n",
       "      <td>20</td>\n",
       "      <td>21</td>\n",
       "      <td>21</td>\n",
       "      <td>\"A Trip to the Dentist\"</td>\n",
       "      <td>Marcos Siega</td>\n",
       "      <td>Diane Ruggiero</td>\n",
       "      <td>May 3, 2005</td>\n",
       "      <td>2T5720</td>\n",
       "      <td>2.85[35]</td>\n",
       "    </tr>\n",
       "    <tr>\n",
       "      <td>21</td>\n",
       "      <td>22</td>\n",
       "      <td>22</td>\n",
       "      <td>\"Leave It to Beaver\"</td>\n",
       "      <td>Michael Fields</td>\n",
       "      <td>Story by : Rob Thomas Teleplay by : Rob Thomas...</td>\n",
       "      <td>May 10, 2005</td>\n",
       "      <td>2T5721</td>\n",
       "      <td>2.99[36]</td>\n",
       "    </tr>\n",
       "  </tbody>\n",
       "</table>\n",
       "</div>"
      ],
      "text/plain": [
       "    No.overall  No. inseason                           Title  \\\n",
       "0            1             1                         \"Pilot\"   \n",
       "1            2             2     \"Credit Where Credit's Due\"   \n",
       "2            3             3               \"Meet John Smith\"   \n",
       "3            4             4              \"The Wrath of Con\"   \n",
       "4            5             5   \"You Think You Know Somebody\"   \n",
       "5            6             6            \"Return of the Kane\"   \n",
       "6            7             7            \"The Girl Next Door\"   \n",
       "7            8             8                 \"Like a Virgin\"   \n",
       "8            9             9         \"Drinking the Kool-Aid\"   \n",
       "9           10            10   \"An Echolls Family Christmas\"   \n",
       "10          11            11           \"Silence of the Lamb\"   \n",
       "11          12            12          \"Clash of the Tritons\"   \n",
       "12          13            13             \"Lord of the Bling\"   \n",
       "13          14            14                 \"Mars vs. Mars\"   \n",
       "14          15            15               \"Ruskie Business\"   \n",
       "15          16            16            \"Betty and Veronica\"   \n",
       "16          17            17              \"Kanes and Abel's\"   \n",
       "17          18            18  \"Weapons of Class Destruction\"   \n",
       "18          19            19                      \"Hot Dogs\"   \n",
       "19          20            20                        \"M.A.D.\"   \n",
       "20          21            21         \"A Trip to the Dentist\"   \n",
       "21          22            22            \"Leave It to Beaver\"   \n",
       "\n",
       "           Directed by                                         Written by  \\\n",
       "0       Mark Piznarski                                         Rob Thomas   \n",
       "1       Mark Piznarski                                         Rob Thomas   \n",
       "2          Harry Winer                                         Jed Seidel   \n",
       "3       Michael Fields                                     Diane Ruggiero   \n",
       "4           Nick Gomez                                  Dayna Lynne North   \n",
       "5   Sarah Pia Anderson   Story by : Rob Thomas Teleplay by : Phil Klemmer   \n",
       "6           Nick Marck  Story by : Jed Seidel Teleplay by : Jed Seidel...   \n",
       "7              Guy Bee                                    Aury Wallington   \n",
       "8         Marcos Siega  Story by : Rob Thomas Teleplay by : Russell Smith   \n",
       "9           Nick Marck                                     Diane Ruggiero   \n",
       "10      John Kretchmer                     Jed Seidel & Dayna Lynne North   \n",
       "11       David Barrett                     Phil Klemmer & Aury Wallington   \n",
       "12         Steve Gomer                                         John Enbom   \n",
       "13        Marcos Siega  Story by : Rob Thomas Teleplay by : Jed Seidel...   \n",
       "14             Guy Bee                          Phil Klemmer & John Enbom   \n",
       "15      Michael Fields                                     Diane Ruggiero   \n",
       "16          Nick Marck                                     Carolyn Murray   \n",
       "17      John Kretchmer                                         Jed Seidel   \n",
       "18          Nick Marck                                  Dayna Lynne North   \n",
       "19      John Kretchmer                          Phil Klemmer & John Enbom   \n",
       "20        Marcos Siega                                     Diane Ruggiero   \n",
       "21      Michael Fields  Story by : Rob Thomas Teleplay by : Rob Thomas...   \n",
       "\n",
       "     Original air date Prod.code U.S. viewers(millions)  \n",
       "0   September 22, 2004    475258               2.49[15]  \n",
       "1   September 28, 2004    2T5701               2.21[16]  \n",
       "2     October 12, 2004    2T5702               2.71[17]  \n",
       "3     October 19, 2004    2T5703               3.12[18]  \n",
       "4     October 26, 2004    2T5704               2.73[19]  \n",
       "5     November 2, 2004    2T5705               2.86[20]  \n",
       "6     November 9, 2004    2T5706               2.74[21]  \n",
       "7    November 23, 2004    2T5707               2.76[22]  \n",
       "8    November 30, 2004    2T5708               2.40[23]  \n",
       "9    December 14, 2004    2T5710               1.90[24]  \n",
       "10     January 4, 2005    2T5709               2.84[25]  \n",
       "11    January 11, 2005    2T5711               2.91[26]  \n",
       "12    February 8, 2005    2T5712               2.97[27]  \n",
       "13   February 15, 2005    2T5713               2.70[28]  \n",
       "14   February 22, 2005    2T5714               2.34[29]  \n",
       "15      March 29, 2005    2T5715               2.33[30]  \n",
       "16       April 5, 2005    2T5716               2.78[31]  \n",
       "17      April 12, 2005    2T5717               2.30[32]  \n",
       "18      April 19, 2005    2T5718               2.48[33]  \n",
       "19      April 26, 2005    2T5719               3.04[34]  \n",
       "20         May 3, 2005    2T5720               2.85[35]  \n",
       "21        May 10, 2005    2T5721               2.99[36]  "
      ]
     },
     "execution_count": 50,
     "metadata": {},
     "output_type": "execute_result"
    }
   ],
   "source": [
    "vmars[1]"
   ]
  },
  {
   "cell_type": "code",
   "execution_count": null,
   "metadata": {},
   "outputs": [],
   "source": []
  },
  {
   "cell_type": "code",
   "execution_count": null,
   "metadata": {},
   "outputs": [],
   "source": []
  },
  {
   "cell_type": "markdown",
   "metadata": {},
   "source": [
    "### Examining the `DataFrame`"
   ]
  },
  {
   "cell_type": "code",
   "execution_count": 51,
   "metadata": {},
   "outputs": [
    {
     "data": {
      "text/plain": [
       "(22, 8)"
      ]
     },
     "execution_count": 51,
     "metadata": {},
     "output_type": "execute_result"
    }
   ],
   "source": [
    "season_1.shape"
   ]
  },
  {
   "cell_type": "code",
   "execution_count": 54,
   "metadata": {},
   "outputs": [
    {
     "name": "stdout",
     "output_type": "stream",
     "text": [
      "<class 'pandas.core.frame.DataFrame'>\n",
      "RangeIndex: 22 entries, 0 to 21\n",
      "Data columns (total 8 columns):\n",
      "No.overall                22 non-null int64\n",
      "No. inseason              22 non-null int64\n",
      "Title                     22 non-null object\n",
      "Directed by               22 non-null object\n",
      "Written by                22 non-null object\n",
      "Original air date         22 non-null object\n",
      "Prod.code                 22 non-null object\n",
      "U.S. viewers(millions)    22 non-null object\n",
      "dtypes: int64(2), object(6)\n",
      "memory usage: 1.5+ KB\n"
     ]
    }
   ],
   "source": [
    "season_1.info()"
   ]
  },
  {
   "cell_type": "code",
   "execution_count": 62,
   "metadata": {},
   "outputs": [
    {
     "data": {
      "text/plain": [
       "0     2.49\n",
       "1     2.21\n",
       "2     2.71\n",
       "3     3.12\n",
       "4     2.73\n",
       "5     2.86\n",
       "6     2.74\n",
       "7     2.76\n",
       "8     2.40\n",
       "9     1.90\n",
       "10    2.84\n",
       "11    2.91\n",
       "12    2.97\n",
       "13    2.70\n",
       "14    2.34\n",
       "15    2.33\n",
       "16    2.78\n",
       "17    2.30\n",
       "18    2.48\n",
       "19    3.04\n",
       "20    2.85\n",
       "21    2.99\n",
       "Name: U.S. viewers(millions), dtype: object"
      ]
     },
     "execution_count": 62,
     "metadata": {},
     "output_type": "execute_result"
    }
   ],
   "source": [
    "#fix this!\n",
    "season_1['U.S. viewers(millions)'].str[:-4]"
   ]
  },
  {
   "cell_type": "code",
   "execution_count": null,
   "metadata": {},
   "outputs": [],
   "source": []
  },
  {
   "cell_type": "code",
   "execution_count": 63,
   "metadata": {},
   "outputs": [],
   "source": [
    "season_1['U.S. viewers(millions)'] = season_1['U.S. viewers(millions)'].str[:4]"
   ]
  },
  {
   "cell_type": "code",
   "execution_count": 64,
   "metadata": {},
   "outputs": [
    {
     "data": {
      "text/html": [
       "<div>\n",
       "<style scoped>\n",
       "    .dataframe tbody tr th:only-of-type {\n",
       "        vertical-align: middle;\n",
       "    }\n",
       "\n",
       "    .dataframe tbody tr th {\n",
       "        vertical-align: top;\n",
       "    }\n",
       "\n",
       "    .dataframe thead th {\n",
       "        text-align: right;\n",
       "    }\n",
       "</style>\n",
       "<table border=\"1\" class=\"dataframe\">\n",
       "  <thead>\n",
       "    <tr style=\"text-align: right;\">\n",
       "      <th></th>\n",
       "      <th>No.overall</th>\n",
       "      <th>No. inseason</th>\n",
       "      <th>Title</th>\n",
       "      <th>Directed by</th>\n",
       "      <th>Written by</th>\n",
       "      <th>Original air date</th>\n",
       "      <th>Prod.code</th>\n",
       "      <th>U.S. viewers(millions)</th>\n",
       "    </tr>\n",
       "  </thead>\n",
       "  <tbody>\n",
       "    <tr>\n",
       "      <td>0</td>\n",
       "      <td>1</td>\n",
       "      <td>1</td>\n",
       "      <td>\"Pilot\"</td>\n",
       "      <td>Mark Piznarski</td>\n",
       "      <td>Rob Thomas</td>\n",
       "      <td>September 22, 2004</td>\n",
       "      <td>475258</td>\n",
       "      <td>2.49</td>\n",
       "    </tr>\n",
       "    <tr>\n",
       "      <td>1</td>\n",
       "      <td>2</td>\n",
       "      <td>2</td>\n",
       "      <td>\"Credit Where Credit's Due\"</td>\n",
       "      <td>Mark Piznarski</td>\n",
       "      <td>Rob Thomas</td>\n",
       "      <td>September 28, 2004</td>\n",
       "      <td>2T5701</td>\n",
       "      <td>2.21</td>\n",
       "    </tr>\n",
       "  </tbody>\n",
       "</table>\n",
       "</div>"
      ],
      "text/plain": [
       "   No.overall  No. inseason                        Title     Directed by  \\\n",
       "0           1             1                      \"Pilot\"  Mark Piznarski   \n",
       "1           2             2  \"Credit Where Credit's Due\"  Mark Piznarski   \n",
       "\n",
       "   Written by   Original air date Prod.code U.S. viewers(millions)  \n",
       "0  Rob Thomas  September 22, 2004    475258                   2.49  \n",
       "1  Rob Thomas  September 28, 2004    2T5701                   2.21  "
      ]
     },
     "execution_count": 64,
     "metadata": {},
     "output_type": "execute_result"
    }
   ],
   "source": [
    "season_1.head(2)"
   ]
  },
  {
   "cell_type": "code",
   "execution_count": 65,
   "metadata": {},
   "outputs": [],
   "source": [
    "season_1.columns = ['num_overall', 'num_inseason', 'title', 'director', 'writer', 'air_date', 'pcode', 'us_viewers']"
   ]
  },
  {
   "cell_type": "code",
   "execution_count": 66,
   "metadata": {},
   "outputs": [
    {
     "data": {
      "text/html": [
       "<div>\n",
       "<style scoped>\n",
       "    .dataframe tbody tr th:only-of-type {\n",
       "        vertical-align: middle;\n",
       "    }\n",
       "\n",
       "    .dataframe tbody tr th {\n",
       "        vertical-align: top;\n",
       "    }\n",
       "\n",
       "    .dataframe thead th {\n",
       "        text-align: right;\n",
       "    }\n",
       "</style>\n",
       "<table border=\"1\" class=\"dataframe\">\n",
       "  <thead>\n",
       "    <tr style=\"text-align: right;\">\n",
       "      <th></th>\n",
       "      <th>num_overall</th>\n",
       "      <th>num_inseason</th>\n",
       "      <th>title</th>\n",
       "      <th>director</th>\n",
       "      <th>writer</th>\n",
       "      <th>air_date</th>\n",
       "      <th>pcode</th>\n",
       "      <th>us_viewers</th>\n",
       "    </tr>\n",
       "  </thead>\n",
       "  <tbody>\n",
       "    <tr>\n",
       "      <td>0</td>\n",
       "      <td>1</td>\n",
       "      <td>1</td>\n",
       "      <td>\"Pilot\"</td>\n",
       "      <td>Mark Piznarski</td>\n",
       "      <td>Rob Thomas</td>\n",
       "      <td>September 22, 2004</td>\n",
       "      <td>475258</td>\n",
       "      <td>2.49</td>\n",
       "    </tr>\n",
       "    <tr>\n",
       "      <td>1</td>\n",
       "      <td>2</td>\n",
       "      <td>2</td>\n",
       "      <td>\"Credit Where Credit's Due\"</td>\n",
       "      <td>Mark Piznarski</td>\n",
       "      <td>Rob Thomas</td>\n",
       "      <td>September 28, 2004</td>\n",
       "      <td>2T5701</td>\n",
       "      <td>2.21</td>\n",
       "    </tr>\n",
       "    <tr>\n",
       "      <td>2</td>\n",
       "      <td>3</td>\n",
       "      <td>3</td>\n",
       "      <td>\"Meet John Smith\"</td>\n",
       "      <td>Harry Winer</td>\n",
       "      <td>Jed Seidel</td>\n",
       "      <td>October 12, 2004</td>\n",
       "      <td>2T5702</td>\n",
       "      <td>2.71</td>\n",
       "    </tr>\n",
       "    <tr>\n",
       "      <td>3</td>\n",
       "      <td>4</td>\n",
       "      <td>4</td>\n",
       "      <td>\"The Wrath of Con\"</td>\n",
       "      <td>Michael Fields</td>\n",
       "      <td>Diane Ruggiero</td>\n",
       "      <td>October 19, 2004</td>\n",
       "      <td>2T5703</td>\n",
       "      <td>3.12</td>\n",
       "    </tr>\n",
       "    <tr>\n",
       "      <td>4</td>\n",
       "      <td>5</td>\n",
       "      <td>5</td>\n",
       "      <td>\"You Think You Know Somebody\"</td>\n",
       "      <td>Nick Gomez</td>\n",
       "      <td>Dayna Lynne North</td>\n",
       "      <td>October 26, 2004</td>\n",
       "      <td>2T5704</td>\n",
       "      <td>2.73</td>\n",
       "    </tr>\n",
       "  </tbody>\n",
       "</table>\n",
       "</div>"
      ],
      "text/plain": [
       "   num_overall  num_inseason                          title        director  \\\n",
       "0            1             1                        \"Pilot\"  Mark Piznarski   \n",
       "1            2             2    \"Credit Where Credit's Due\"  Mark Piznarski   \n",
       "2            3             3              \"Meet John Smith\"     Harry Winer   \n",
       "3            4             4             \"The Wrath of Con\"  Michael Fields   \n",
       "4            5             5  \"You Think You Know Somebody\"      Nick Gomez   \n",
       "\n",
       "              writer            air_date   pcode us_viewers  \n",
       "0         Rob Thomas  September 22, 2004  475258       2.49  \n",
       "1         Rob Thomas  September 28, 2004  2T5701       2.21  \n",
       "2         Jed Seidel    October 12, 2004  2T5702       2.71  \n",
       "3     Diane Ruggiero    October 19, 2004  2T5703       3.12  \n",
       "4  Dayna Lynne North    October 26, 2004  2T5704       2.73  "
      ]
     },
     "execution_count": 66,
     "metadata": {},
     "output_type": "execute_result"
    }
   ],
   "source": [
    "season_1.head()"
   ]
  },
  {
   "cell_type": "code",
   "execution_count": 64,
   "metadata": {},
   "outputs": [
    {
     "data": {
      "text/plain": [
       "0     2.49\n",
       "1     2.21\n",
       "2     2.71\n",
       "3     3.12\n",
       "4     2.73\n",
       "5     2.86\n",
       "6     2.74\n",
       "7     2.76\n",
       "8     2.40\n",
       "9     1.90\n",
       "10    2.84\n",
       "11    2.91\n",
       "12    2.97\n",
       "13    2.70\n",
       "14    2.34\n",
       "15    2.33\n",
       "16    2.78\n",
       "17    2.30\n",
       "18    2.48\n",
       "19    3.04\n",
       "20    2.85\n",
       "21    2.99\n",
       "Name: us_viewers, dtype: float64"
      ]
     },
     "execution_count": 64,
     "metadata": {},
     "output_type": "execute_result"
    }
   ],
   "source": [
    "season_1['us_viewers'].astype('float')"
   ]
  },
  {
   "cell_type": "code",
   "execution_count": 70,
   "metadata": {},
   "outputs": [],
   "source": [
    "season_1['us_viewers'] = season_1['us_viewers'].astype('float')\n",
    "import numpy as np\n"
   ]
  },
  {
   "cell_type": "code",
   "execution_count": 71,
   "metadata": {},
   "outputs": [
    {
     "name": "stdout",
     "output_type": "stream",
     "text": [
      "<class 'pandas.core.frame.DataFrame'>\n",
      "RangeIndex: 22 entries, 0 to 21\n",
      "Data columns (total 8 columns):\n",
      "num_overall     22 non-null int64\n",
      "num_inseason    22 non-null int64\n",
      "title           22 non-null object\n",
      "director        22 non-null object\n",
      "writer          22 non-null object\n",
      "air_date        22 non-null object\n",
      "pcode           22 non-null object\n",
      "us_viewers      22 non-null float64\n",
      "dtypes: float64(1), int64(2), object(5)\n",
      "memory usage: 1.5+ KB\n"
     ]
    }
   ],
   "source": [
    "season_1.info()"
   ]
  },
  {
   "cell_type": "markdown",
   "metadata": {},
   "source": [
    "### Dates in Pandas"
   ]
  },
  {
   "cell_type": "code",
   "execution_count": 72,
   "metadata": {},
   "outputs": [],
   "source": [
    "import datetime"
   ]
  },
  {
   "cell_type": "code",
   "execution_count": 73,
   "metadata": {},
   "outputs": [
    {
     "data": {
      "text/plain": [
       "datetime.datetime(2020, 2, 25, 16, 13, 49, 667661)"
      ]
     },
     "execution_count": 73,
     "metadata": {},
     "output_type": "execute_result"
    }
   ],
   "source": [
    "datetime.datetime.now()"
   ]
  },
  {
   "cell_type": "code",
   "execution_count": 74,
   "metadata": {},
   "outputs": [],
   "source": [
    "now = datetime.datetime.now()"
   ]
  },
  {
   "cell_type": "code",
   "execution_count": 75,
   "metadata": {},
   "outputs": [
    {
     "data": {
      "text/plain": [
       "datetime.datetime"
      ]
     },
     "execution_count": 75,
     "metadata": {},
     "output_type": "execute_result"
    }
   ],
   "source": [
    "type(now)"
   ]
  },
  {
   "cell_type": "code",
   "execution_count": 76,
   "metadata": {},
   "outputs": [
    {
     "data": {
      "text/plain": [
       "2020"
      ]
     },
     "execution_count": 76,
     "metadata": {},
     "output_type": "execute_result"
    }
   ],
   "source": [
    "now.year"
   ]
  },
  {
   "cell_type": "code",
   "execution_count": 77,
   "metadata": {},
   "outputs": [
    {
     "data": {
      "text/plain": [
       "14"
      ]
     },
     "execution_count": 77,
     "metadata": {},
     "output_type": "execute_result"
    }
   ],
   "source": [
    "now.minute"
   ]
  },
  {
   "cell_type": "code",
   "execution_count": 78,
   "metadata": {},
   "outputs": [
    {
     "data": {
      "text/plain": [
       "16"
      ]
     },
     "execution_count": 78,
     "metadata": {},
     "output_type": "execute_result"
    }
   ],
   "source": [
    "now.hour"
   ]
  },
  {
   "cell_type": "code",
   "execution_count": 79,
   "metadata": {},
   "outputs": [
    {
     "data": {
      "text/plain": [
       "Timestamp('2020-11-05 00:00:00')"
      ]
     },
     "execution_count": 79,
     "metadata": {},
     "output_type": "execute_result"
    }
   ],
   "source": [
    "pd.to_datetime('11-05-2020')"
   ]
  },
  {
   "cell_type": "code",
   "execution_count": 80,
   "metadata": {},
   "outputs": [
    {
     "data": {
      "text/plain": [
       "0    2004-09-22\n",
       "1    2004-09-28\n",
       "2    2004-10-12\n",
       "3    2004-10-19\n",
       "4    2004-10-26\n",
       "5    2004-11-02\n",
       "6    2004-11-09\n",
       "7    2004-11-23\n",
       "8    2004-11-30\n",
       "9    2004-12-14\n",
       "10   2005-01-04\n",
       "11   2005-01-11\n",
       "12   2005-02-08\n",
       "13   2005-02-15\n",
       "14   2005-02-22\n",
       "15   2005-03-29\n",
       "16   2005-04-05\n",
       "17   2005-04-12\n",
       "18   2005-04-19\n",
       "19   2005-04-26\n",
       "20   2005-05-03\n",
       "21   2005-05-10\n",
       "Name: air_date, dtype: datetime64[ns]"
      ]
     },
     "execution_count": 80,
     "metadata": {},
     "output_type": "execute_result"
    }
   ],
   "source": [
    "pd.to_datetime(season_1['air_date'])"
   ]
  },
  {
   "cell_type": "code",
   "execution_count": 81,
   "metadata": {},
   "outputs": [],
   "source": [
    "season_1['air_date'] = pd.to_datetime(season_1['air_date'])"
   ]
  },
  {
   "cell_type": "code",
   "execution_count": 82,
   "metadata": {},
   "outputs": [
    {
     "name": "stdout",
     "output_type": "stream",
     "text": [
      "<class 'pandas.core.frame.DataFrame'>\n",
      "RangeIndex: 22 entries, 0 to 21\n",
      "Data columns (total 8 columns):\n",
      "num_overall     22 non-null int64\n",
      "num_inseason    22 non-null int64\n",
      "title           22 non-null object\n",
      "director        22 non-null object\n",
      "writer          22 non-null object\n",
      "air_date        22 non-null datetime64[ns]\n",
      "pcode           22 non-null object\n",
      "us_viewers      22 non-null float64\n",
      "dtypes: datetime64[ns](1), float64(1), int64(2), object(4)\n",
      "memory usage: 1.5+ KB\n"
     ]
    }
   ],
   "source": [
    "season_1.info()"
   ]
  },
  {
   "cell_type": "code",
   "execution_count": 83,
   "metadata": {},
   "outputs": [],
   "source": [
    "months = season_1['air_date'].dt.month"
   ]
  },
  {
   "cell_type": "code",
   "execution_count": 84,
   "metadata": {},
   "outputs": [
    {
     "data": {
      "text/plain": [
       "0      9\n",
       "1      9\n",
       "2     10\n",
       "3     10\n",
       "4     10\n",
       "5     11\n",
       "6     11\n",
       "7     11\n",
       "8     11\n",
       "9     12\n",
       "10     1\n",
       "11     1\n",
       "12     2\n",
       "13     2\n",
       "14     2\n",
       "15     3\n",
       "16     4\n",
       "17     4\n",
       "18     4\n",
       "19     4\n",
       "20     5\n",
       "21     5\n",
       "Name: air_date, dtype: int64"
      ]
     },
     "execution_count": 84,
     "metadata": {},
     "output_type": "execute_result"
    }
   ],
   "source": [
    "months"
   ]
  },
  {
   "cell_type": "code",
   "execution_count": 85,
   "metadata": {},
   "outputs": [
    {
     "name": "stdout",
     "output_type": "stream",
     "text": [
      "<class 'pandas.core.frame.DataFrame'>\n",
      "RangeIndex: 22 entries, 0 to 21\n",
      "Data columns (total 8 columns):\n",
      "No.overall                22 non-null int64\n",
      "No. inseason              22 non-null int64\n",
      "Title                     22 non-null object\n",
      "Directed by               22 non-null object\n",
      "Written by                22 non-null object\n",
      "Original air date         22 non-null object\n",
      "Prod.code                 22 non-null object\n",
      "U.S. viewers(millions)    22 non-null object\n",
      "dtypes: int64(2), object(6)\n",
      "memory usage: 1.5+ KB\n"
     ]
    }
   ],
   "source": [
    "season_2.info()"
   ]
  },
  {
   "cell_type": "markdown",
   "metadata": {},
   "source": [
    "### PROBLEMS"
   ]
  },
  {
   "cell_type": "markdown",
   "metadata": {},
   "source": [
    "- Rename the columns for season 2 to be consistent with season 1\n",
    "- Clean up the viewer column\n",
    "- Convert the dates\n",
    "- Add a column to season 1 named `season` with value 1, do the same for season 2.\n",
    "- Explore the help for the `pd.concat` function.  Use this to create a single `DataFrame` containing season 1 and season 2."
   ]
  },
  {
   "cell_type": "code",
   "execution_count": 97,
   "metadata": {},
   "outputs": [],
   "source": [
    "#rename the columns\n",
    "season_2.columns = season_1.columns"
   ]
  },
  {
   "cell_type": "code",
   "execution_count": 98,
   "metadata": {},
   "outputs": [
    {
     "data": {
      "text/plain": [
       "Index(['num_overall', 'num_inseason', 'title', 'director', 'writer',\n",
       "       'air_date', 'pcode', 'us_viewers', 'season'],\n",
       "      dtype='object')"
      ]
     },
     "execution_count": 98,
     "metadata": {},
     "output_type": "execute_result"
    }
   ],
   "source": [
    "season_1.columns"
   ]
  },
  {
   "cell_type": "code",
   "execution_count": 99,
   "metadata": {},
   "outputs": [],
   "source": [
    "season_1.columns = ['season', 'num_overall', 'num_inseason', 'title', 'director', 'writer',\n",
    "       'air_date', 'pcode', 'us_viewers']"
   ]
  },
  {
   "cell_type": "code",
   "execution_count": 100,
   "metadata": {},
   "outputs": [
    {
     "data": {
      "text/html": [
       "<div>\n",
       "<style scoped>\n",
       "    .dataframe tbody tr th:only-of-type {\n",
       "        vertical-align: middle;\n",
       "    }\n",
       "\n",
       "    .dataframe tbody tr th {\n",
       "        vertical-align: top;\n",
       "    }\n",
       "\n",
       "    .dataframe thead th {\n",
       "        text-align: right;\n",
       "    }\n",
       "</style>\n",
       "<table border=\"1\" class=\"dataframe\">\n",
       "  <thead>\n",
       "    <tr style=\"text-align: right;\">\n",
       "      <th></th>\n",
       "      <th>season</th>\n",
       "      <th>num_overall</th>\n",
       "      <th>num_inseason</th>\n",
       "      <th>title</th>\n",
       "      <th>director</th>\n",
       "      <th>writer</th>\n",
       "      <th>air_date</th>\n",
       "      <th>pcode</th>\n",
       "      <th>us_viewers</th>\n",
       "    </tr>\n",
       "  </thead>\n",
       "  <tbody>\n",
       "    <tr>\n",
       "      <td>0</td>\n",
       "      <td>1</td>\n",
       "      <td>1</td>\n",
       "      <td>\"Pilot\"</td>\n",
       "      <td>Mark Piznarski</td>\n",
       "      <td>Rob Thomas</td>\n",
       "      <td>2004-09-22</td>\n",
       "      <td>475258</td>\n",
       "      <td>2.49</td>\n",
       "      <td>1</td>\n",
       "    </tr>\n",
       "    <tr>\n",
       "      <td>1</td>\n",
       "      <td>2</td>\n",
       "      <td>2</td>\n",
       "      <td>\"Credit Where Credit's Due\"</td>\n",
       "      <td>Mark Piznarski</td>\n",
       "      <td>Rob Thomas</td>\n",
       "      <td>2004-09-28</td>\n",
       "      <td>2T5701</td>\n",
       "      <td>2.21</td>\n",
       "      <td>1</td>\n",
       "    </tr>\n",
       "    <tr>\n",
       "      <td>2</td>\n",
       "      <td>3</td>\n",
       "      <td>3</td>\n",
       "      <td>\"Meet John Smith\"</td>\n",
       "      <td>Harry Winer</td>\n",
       "      <td>Jed Seidel</td>\n",
       "      <td>2004-10-12</td>\n",
       "      <td>2T5702</td>\n",
       "      <td>2.71</td>\n",
       "      <td>1</td>\n",
       "    </tr>\n",
       "    <tr>\n",
       "      <td>3</td>\n",
       "      <td>4</td>\n",
       "      <td>4</td>\n",
       "      <td>\"The Wrath of Con\"</td>\n",
       "      <td>Michael Fields</td>\n",
       "      <td>Diane Ruggiero</td>\n",
       "      <td>2004-10-19</td>\n",
       "      <td>2T5703</td>\n",
       "      <td>3.12</td>\n",
       "      <td>1</td>\n",
       "    </tr>\n",
       "    <tr>\n",
       "      <td>4</td>\n",
       "      <td>5</td>\n",
       "      <td>5</td>\n",
       "      <td>\"You Think You Know Somebody\"</td>\n",
       "      <td>Nick Gomez</td>\n",
       "      <td>Dayna Lynne North</td>\n",
       "      <td>2004-10-26</td>\n",
       "      <td>2T5704</td>\n",
       "      <td>2.73</td>\n",
       "      <td>1</td>\n",
       "    </tr>\n",
       "  </tbody>\n",
       "</table>\n",
       "</div>"
      ],
      "text/plain": [
       "   season  num_overall                   num_inseason           title  \\\n",
       "0       1            1                        \"Pilot\"  Mark Piznarski   \n",
       "1       2            2    \"Credit Where Credit's Due\"  Mark Piznarski   \n",
       "2       3            3              \"Meet John Smith\"     Harry Winer   \n",
       "3       4            4             \"The Wrath of Con\"  Michael Fields   \n",
       "4       5            5  \"You Think You Know Somebody\"      Nick Gomez   \n",
       "\n",
       "            director     writer air_date  pcode  us_viewers  \n",
       "0         Rob Thomas 2004-09-22   475258   2.49           1  \n",
       "1         Rob Thomas 2004-09-28   2T5701   2.21           1  \n",
       "2         Jed Seidel 2004-10-12   2T5702   2.71           1  \n",
       "3     Diane Ruggiero 2004-10-19   2T5703   3.12           1  \n",
       "4  Dayna Lynne North 2004-10-26   2T5704   2.73           1  "
      ]
     },
     "execution_count": 100,
     "metadata": {},
     "output_type": "execute_result"
    }
   ],
   "source": [
    "season_1.head()"
   ]
  },
  {
   "cell_type": "code",
   "execution_count": 87,
   "metadata": {},
   "outputs": [],
   "source": [
    "#clean up viewer\n",
    "season_2['us_viewers'] = season_2['us_viewers'].str[:-4].astype('float')"
   ]
  },
  {
   "cell_type": "code",
   "execution_count": 88,
   "metadata": {},
   "outputs": [],
   "source": [
    "#convert the dates\n",
    "season_2['air_date'] = pd.to_datetime(season_2['air_date'])"
   ]
  },
  {
   "cell_type": "code",
   "execution_count": 89,
   "metadata": {},
   "outputs": [],
   "source": [
    "#add season columns\n",
    "season_1['season'] = 1\n",
    "season_2['season'] = 2"
   ]
  },
  {
   "cell_type": "code",
   "execution_count": 104,
   "metadata": {},
   "outputs": [
    {
     "name": "stderr",
     "output_type": "stream",
     "text": [
      "/Users/jacobkoehler/opt/anaconda3/lib/python3.7/site-packages/ipykernel_launcher.py:3: FutureWarning: Sorting because non-concatenation axis is not aligned. A future version\n",
      "of pandas will change to not sort by default.\n",
      "\n",
      "To accept the future behavior, pass 'sort=False'.\n",
      "\n",
      "To retain the current behavior and silence the warning, pass 'sort=True'.\n",
      "\n",
      "  This is separate from the ipykernel package so we can avoid doing imports until\n"
     ]
    },
    {
     "data": {
      "text/html": [
       "<div>\n",
       "<style scoped>\n",
       "    .dataframe tbody tr th:only-of-type {\n",
       "        vertical-align: middle;\n",
       "    }\n",
       "\n",
       "    .dataframe tbody tr th {\n",
       "        vertical-align: top;\n",
       "    }\n",
       "\n",
       "    .dataframe thead th {\n",
       "        text-align: right;\n",
       "    }\n",
       "</style>\n",
       "<table border=\"1\" class=\"dataframe\">\n",
       "  <thead>\n",
       "    <tr style=\"text-align: right;\">\n",
       "      <th></th>\n",
       "      <th>air_date</th>\n",
       "      <th>director</th>\n",
       "      <th>num_inseason</th>\n",
       "      <th>num_overall</th>\n",
       "      <th>pcode</th>\n",
       "      <th>season</th>\n",
       "      <th>title</th>\n",
       "      <th>us_viewers</th>\n",
       "      <th>writer</th>\n",
       "    </tr>\n",
       "  </thead>\n",
       "  <tbody>\n",
       "    <tr>\n",
       "      <td>0</td>\n",
       "      <td>475258</td>\n",
       "      <td>Rob Thomas</td>\n",
       "      <td>\"Pilot\"</td>\n",
       "      <td>1</td>\n",
       "      <td>2.49</td>\n",
       "      <td>1</td>\n",
       "      <td>Mark Piznarski</td>\n",
       "      <td>1.00</td>\n",
       "      <td>2004-09-22 00:00:00</td>\n",
       "    </tr>\n",
       "    <tr>\n",
       "      <td>1</td>\n",
       "      <td>2T5701</td>\n",
       "      <td>Rob Thomas</td>\n",
       "      <td>\"Credit Where Credit's Due\"</td>\n",
       "      <td>2</td>\n",
       "      <td>2.21</td>\n",
       "      <td>2</td>\n",
       "      <td>Mark Piznarski</td>\n",
       "      <td>1.00</td>\n",
       "      <td>2004-09-28 00:00:00</td>\n",
       "    </tr>\n",
       "    <tr>\n",
       "      <td>2</td>\n",
       "      <td>2T5702</td>\n",
       "      <td>Jed Seidel</td>\n",
       "      <td>\"Meet John Smith\"</td>\n",
       "      <td>3</td>\n",
       "      <td>2.71</td>\n",
       "      <td>3</td>\n",
       "      <td>Harry Winer</td>\n",
       "      <td>1.00</td>\n",
       "      <td>2004-10-12 00:00:00</td>\n",
       "    </tr>\n",
       "    <tr>\n",
       "      <td>3</td>\n",
       "      <td>2T5703</td>\n",
       "      <td>Diane Ruggiero</td>\n",
       "      <td>\"The Wrath of Con\"</td>\n",
       "      <td>4</td>\n",
       "      <td>3.12</td>\n",
       "      <td>4</td>\n",
       "      <td>Michael Fields</td>\n",
       "      <td>1.00</td>\n",
       "      <td>2004-10-19 00:00:00</td>\n",
       "    </tr>\n",
       "    <tr>\n",
       "      <td>4</td>\n",
       "      <td>2T5704</td>\n",
       "      <td>Dayna Lynne North</td>\n",
       "      <td>\"You Think You Know Somebody\"</td>\n",
       "      <td>5</td>\n",
       "      <td>2.73</td>\n",
       "      <td>5</td>\n",
       "      <td>Nick Gomez</td>\n",
       "      <td>1.00</td>\n",
       "      <td>2004-10-26 00:00:00</td>\n",
       "    </tr>\n",
       "    <tr>\n",
       "      <td>5</td>\n",
       "      <td>2T5705</td>\n",
       "      <td>Story by : Rob Thomas Teleplay by : Phil Klemmer</td>\n",
       "      <td>\"Return of the Kane\"</td>\n",
       "      <td>6</td>\n",
       "      <td>2.86</td>\n",
       "      <td>6</td>\n",
       "      <td>Sarah Pia Anderson</td>\n",
       "      <td>1.00</td>\n",
       "      <td>2004-11-02 00:00:00</td>\n",
       "    </tr>\n",
       "    <tr>\n",
       "      <td>6</td>\n",
       "      <td>2T5706</td>\n",
       "      <td>Story by : Jed Seidel Teleplay by : Jed Seidel...</td>\n",
       "      <td>\"The Girl Next Door\"</td>\n",
       "      <td>7</td>\n",
       "      <td>2.74</td>\n",
       "      <td>7</td>\n",
       "      <td>Nick Marck</td>\n",
       "      <td>1.00</td>\n",
       "      <td>2004-11-09 00:00:00</td>\n",
       "    </tr>\n",
       "    <tr>\n",
       "      <td>7</td>\n",
       "      <td>2T5707</td>\n",
       "      <td>Aury Wallington</td>\n",
       "      <td>\"Like a Virgin\"</td>\n",
       "      <td>8</td>\n",
       "      <td>2.76</td>\n",
       "      <td>8</td>\n",
       "      <td>Guy Bee</td>\n",
       "      <td>1.00</td>\n",
       "      <td>2004-11-23 00:00:00</td>\n",
       "    </tr>\n",
       "    <tr>\n",
       "      <td>8</td>\n",
       "      <td>2T5708</td>\n",
       "      <td>Story by : Rob Thomas Teleplay by : Russell Smith</td>\n",
       "      <td>\"Drinking the Kool-Aid\"</td>\n",
       "      <td>9</td>\n",
       "      <td>2.4</td>\n",
       "      <td>9</td>\n",
       "      <td>Marcos Siega</td>\n",
       "      <td>1.00</td>\n",
       "      <td>2004-11-30 00:00:00</td>\n",
       "    </tr>\n",
       "    <tr>\n",
       "      <td>9</td>\n",
       "      <td>2T5710</td>\n",
       "      <td>Diane Ruggiero</td>\n",
       "      <td>\"An Echolls Family Christmas\"</td>\n",
       "      <td>10</td>\n",
       "      <td>1.9</td>\n",
       "      <td>10</td>\n",
       "      <td>Nick Marck</td>\n",
       "      <td>1.00</td>\n",
       "      <td>2004-12-14 00:00:00</td>\n",
       "    </tr>\n",
       "    <tr>\n",
       "      <td>10</td>\n",
       "      <td>2T5709</td>\n",
       "      <td>Jed Seidel &amp; Dayna Lynne North</td>\n",
       "      <td>\"Silence of the Lamb\"</td>\n",
       "      <td>11</td>\n",
       "      <td>2.84</td>\n",
       "      <td>11</td>\n",
       "      <td>John Kretchmer</td>\n",
       "      <td>1.00</td>\n",
       "      <td>2005-01-04 00:00:00</td>\n",
       "    </tr>\n",
       "    <tr>\n",
       "      <td>11</td>\n",
       "      <td>2T5711</td>\n",
       "      <td>Phil Klemmer &amp; Aury Wallington</td>\n",
       "      <td>\"Clash of the Tritons\"</td>\n",
       "      <td>12</td>\n",
       "      <td>2.91</td>\n",
       "      <td>12</td>\n",
       "      <td>David Barrett</td>\n",
       "      <td>1.00</td>\n",
       "      <td>2005-01-11 00:00:00</td>\n",
       "    </tr>\n",
       "    <tr>\n",
       "      <td>12</td>\n",
       "      <td>2T5712</td>\n",
       "      <td>John Enbom</td>\n",
       "      <td>\"Lord of the Bling\"</td>\n",
       "      <td>13</td>\n",
       "      <td>2.97</td>\n",
       "      <td>13</td>\n",
       "      <td>Steve Gomer</td>\n",
       "      <td>1.00</td>\n",
       "      <td>2005-02-08 00:00:00</td>\n",
       "    </tr>\n",
       "    <tr>\n",
       "      <td>13</td>\n",
       "      <td>2T5713</td>\n",
       "      <td>Story by : Rob Thomas Teleplay by : Jed Seidel...</td>\n",
       "      <td>\"Mars vs. Mars\"</td>\n",
       "      <td>14</td>\n",
       "      <td>2.7</td>\n",
       "      <td>14</td>\n",
       "      <td>Marcos Siega</td>\n",
       "      <td>1.00</td>\n",
       "      <td>2005-02-15 00:00:00</td>\n",
       "    </tr>\n",
       "    <tr>\n",
       "      <td>14</td>\n",
       "      <td>2T5714</td>\n",
       "      <td>Phil Klemmer &amp; John Enbom</td>\n",
       "      <td>\"Ruskie Business\"</td>\n",
       "      <td>15</td>\n",
       "      <td>2.34</td>\n",
       "      <td>15</td>\n",
       "      <td>Guy Bee</td>\n",
       "      <td>1.00</td>\n",
       "      <td>2005-02-22 00:00:00</td>\n",
       "    </tr>\n",
       "    <tr>\n",
       "      <td>15</td>\n",
       "      <td>2T5715</td>\n",
       "      <td>Diane Ruggiero</td>\n",
       "      <td>\"Betty and Veronica\"</td>\n",
       "      <td>16</td>\n",
       "      <td>2.33</td>\n",
       "      <td>16</td>\n",
       "      <td>Michael Fields</td>\n",
       "      <td>1.00</td>\n",
       "      <td>2005-03-29 00:00:00</td>\n",
       "    </tr>\n",
       "    <tr>\n",
       "      <td>16</td>\n",
       "      <td>2T5716</td>\n",
       "      <td>Carolyn Murray</td>\n",
       "      <td>\"Kanes and Abel's\"</td>\n",
       "      <td>17</td>\n",
       "      <td>2.78</td>\n",
       "      <td>17</td>\n",
       "      <td>Nick Marck</td>\n",
       "      <td>1.00</td>\n",
       "      <td>2005-04-05 00:00:00</td>\n",
       "    </tr>\n",
       "    <tr>\n",
       "      <td>17</td>\n",
       "      <td>2T5717</td>\n",
       "      <td>Jed Seidel</td>\n",
       "      <td>\"Weapons of Class Destruction\"</td>\n",
       "      <td>18</td>\n",
       "      <td>2.3</td>\n",
       "      <td>18</td>\n",
       "      <td>John Kretchmer</td>\n",
       "      <td>1.00</td>\n",
       "      <td>2005-04-12 00:00:00</td>\n",
       "    </tr>\n",
       "    <tr>\n",
       "      <td>18</td>\n",
       "      <td>2T5718</td>\n",
       "      <td>Dayna Lynne North</td>\n",
       "      <td>\"Hot Dogs\"</td>\n",
       "      <td>19</td>\n",
       "      <td>2.48</td>\n",
       "      <td>19</td>\n",
       "      <td>Nick Marck</td>\n",
       "      <td>1.00</td>\n",
       "      <td>2005-04-19 00:00:00</td>\n",
       "    </tr>\n",
       "    <tr>\n",
       "      <td>19</td>\n",
       "      <td>2T5719</td>\n",
       "      <td>Phil Klemmer &amp; John Enbom</td>\n",
       "      <td>\"M.A.D.\"</td>\n",
       "      <td>20</td>\n",
       "      <td>3.04</td>\n",
       "      <td>20</td>\n",
       "      <td>John Kretchmer</td>\n",
       "      <td>1.00</td>\n",
       "      <td>2005-04-26 00:00:00</td>\n",
       "    </tr>\n",
       "    <tr>\n",
       "      <td>20</td>\n",
       "      <td>2T5720</td>\n",
       "      <td>Diane Ruggiero</td>\n",
       "      <td>\"A Trip to the Dentist\"</td>\n",
       "      <td>21</td>\n",
       "      <td>2.85</td>\n",
       "      <td>21</td>\n",
       "      <td>Marcos Siega</td>\n",
       "      <td>1.00</td>\n",
       "      <td>2005-05-03 00:00:00</td>\n",
       "    </tr>\n",
       "    <tr>\n",
       "      <td>21</td>\n",
       "      <td>2T5721</td>\n",
       "      <td>Story by : Rob Thomas Teleplay by : Rob Thomas...</td>\n",
       "      <td>\"Leave It to Beaver\"</td>\n",
       "      <td>22</td>\n",
       "      <td>2.99</td>\n",
       "      <td>22</td>\n",
       "      <td>Michael Fields</td>\n",
       "      <td>1.00</td>\n",
       "      <td>2005-05-10 00:00:00</td>\n",
       "    </tr>\n",
       "    <tr>\n",
       "      <td>0</td>\n",
       "      <td>2005-09-28 00:00:00</td>\n",
       "      <td>John Kretchmer</td>\n",
       "      <td>1</td>\n",
       "      <td>23</td>\n",
       "      <td>2T7201</td>\n",
       "      <td>2</td>\n",
       "      <td>\"Normal Is the Watchword\"</td>\n",
       "      <td>3.29</td>\n",
       "      <td>Rob Thomas</td>\n",
       "    </tr>\n",
       "    <tr>\n",
       "      <td>1</td>\n",
       "      <td>2005-10-05 00:00:00</td>\n",
       "      <td>Nick Marck</td>\n",
       "      <td>2</td>\n",
       "      <td>24</td>\n",
       "      <td>2T7202</td>\n",
       "      <td>2</td>\n",
       "      <td>\"Driver Ed\"</td>\n",
       "      <td>2.73</td>\n",
       "      <td>Diane Ruggiero</td>\n",
       "    </tr>\n",
       "    <tr>\n",
       "      <td>2</td>\n",
       "      <td>2005-10-12 00:00:00</td>\n",
       "      <td>John Kretchmer</td>\n",
       "      <td>3</td>\n",
       "      <td>25</td>\n",
       "      <td>2T7203</td>\n",
       "      <td>2</td>\n",
       "      <td>\"Cheatty Cheatty Bang Bang\"</td>\n",
       "      <td>3.03</td>\n",
       "      <td>Phil Klemmer &amp; John Enbom</td>\n",
       "    </tr>\n",
       "    <tr>\n",
       "      <td>3</td>\n",
       "      <td>2005-10-19 00:00:00</td>\n",
       "      <td>Jason Bloom</td>\n",
       "      <td>4</td>\n",
       "      <td>26</td>\n",
       "      <td>2T7204</td>\n",
       "      <td>2</td>\n",
       "      <td>\"Green-Eyed Monster\"</td>\n",
       "      <td>3.05</td>\n",
       "      <td>Dayna Lynne North</td>\n",
       "    </tr>\n",
       "    <tr>\n",
       "      <td>4</td>\n",
       "      <td>2005-10-26 00:00:00</td>\n",
       "      <td>Harry Winer</td>\n",
       "      <td>5</td>\n",
       "      <td>27</td>\n",
       "      <td>2T7205</td>\n",
       "      <td>2</td>\n",
       "      <td>\"Blast from the Past\"</td>\n",
       "      <td>3.58</td>\n",
       "      <td>Phil Klemmer &amp; Cathy Belben</td>\n",
       "    </tr>\n",
       "    <tr>\n",
       "      <td>5</td>\n",
       "      <td>2005-11-09 00:00:00</td>\n",
       "      <td>Kevin Bray</td>\n",
       "      <td>6</td>\n",
       "      <td>28</td>\n",
       "      <td>2T7206</td>\n",
       "      <td>2</td>\n",
       "      <td>\"Rat Saw God\"</td>\n",
       "      <td>3.07</td>\n",
       "      <td>John Enbom &amp; Phil Klemmer</td>\n",
       "    </tr>\n",
       "    <tr>\n",
       "      <td>6</td>\n",
       "      <td>2005-11-16 00:00:00</td>\n",
       "      <td>Nick Marck</td>\n",
       "      <td>7</td>\n",
       "      <td>29</td>\n",
       "      <td>2T7207</td>\n",
       "      <td>2</td>\n",
       "      <td>\"Nobody Puts Baby in a Corner\"</td>\n",
       "      <td>2.94</td>\n",
       "      <td>Diane Ruggiero</td>\n",
       "    </tr>\n",
       "    <tr>\n",
       "      <td>7</td>\n",
       "      <td>2005-11-23 00:00:00</td>\n",
       "      <td>Steve Gomer</td>\n",
       "      <td>8</td>\n",
       "      <td>30</td>\n",
       "      <td>2T7208</td>\n",
       "      <td>2</td>\n",
       "      <td>\"Ahoy, Mateys!\"</td>\n",
       "      <td>2.50</td>\n",
       "      <td>John Enbom &amp; Cathy Belben</td>\n",
       "    </tr>\n",
       "    <tr>\n",
       "      <td>8</td>\n",
       "      <td>2005-11-30 00:00:00</td>\n",
       "      <td>Nick Marck</td>\n",
       "      <td>9</td>\n",
       "      <td>31</td>\n",
       "      <td>2T7209</td>\n",
       "      <td>2</td>\n",
       "      <td>\"My Mother, the Fiend\"</td>\n",
       "      <td>2.82</td>\n",
       "      <td>Phil Klemmer &amp; Dayna Lynne North</td>\n",
       "    </tr>\n",
       "    <tr>\n",
       "      <td>9</td>\n",
       "      <td>2005-12-07 00:00:00</td>\n",
       "      <td>John Kretchmer</td>\n",
       "      <td>10</td>\n",
       "      <td>32</td>\n",
       "      <td>2T7210</td>\n",
       "      <td>2</td>\n",
       "      <td>\"One Angry Veronica\"</td>\n",
       "      <td>3.42</td>\n",
       "      <td>Russell Smith</td>\n",
       "    </tr>\n",
       "    <tr>\n",
       "      <td>10</td>\n",
       "      <td>2006-01-25 00:00:00</td>\n",
       "      <td>Rob Thomas</td>\n",
       "      <td>11</td>\n",
       "      <td>33</td>\n",
       "      <td>2T7211</td>\n",
       "      <td>2</td>\n",
       "      <td>\"Donut Run\"</td>\n",
       "      <td>1.62</td>\n",
       "      <td>Rob Thomas</td>\n",
       "    </tr>\n",
       "    <tr>\n",
       "      <td>11</td>\n",
       "      <td>2006-02-01 00:00:00</td>\n",
       "      <td>John Kretchmer</td>\n",
       "      <td>12</td>\n",
       "      <td>34</td>\n",
       "      <td>2T7212</td>\n",
       "      <td>2</td>\n",
       "      <td>\"Rashard and Wallace Go to White Castle\"</td>\n",
       "      <td>2.12</td>\n",
       "      <td>John Enbom</td>\n",
       "    </tr>\n",
       "    <tr>\n",
       "      <td>12</td>\n",
       "      <td>2006-02-08 00:00:00</td>\n",
       "      <td>Guy Bee</td>\n",
       "      <td>13</td>\n",
       "      <td>35</td>\n",
       "      <td>2T7213</td>\n",
       "      <td>2</td>\n",
       "      <td>\"Ain't No Magic Mountain High Enough\"</td>\n",
       "      <td>2.05</td>\n",
       "      <td>Diane Ruggiero</td>\n",
       "    </tr>\n",
       "    <tr>\n",
       "      <td>13</td>\n",
       "      <td>2006-03-15 00:00:00</td>\n",
       "      <td>Sarah Pia Anderson</td>\n",
       "      <td>14</td>\n",
       "      <td>36</td>\n",
       "      <td>2T7214</td>\n",
       "      <td>2</td>\n",
       "      <td>\"Versatile Toppings\"</td>\n",
       "      <td>2.73</td>\n",
       "      <td>Phil Klemmer</td>\n",
       "    </tr>\n",
       "    <tr>\n",
       "      <td>14</td>\n",
       "      <td>2006-03-22 00:00:00</td>\n",
       "      <td>Rick Rosenthal</td>\n",
       "      <td>15</td>\n",
       "      <td>37</td>\n",
       "      <td>2T7215</td>\n",
       "      <td>2</td>\n",
       "      <td>\"The Quick and the Wed\"</td>\n",
       "      <td>2.34</td>\n",
       "      <td>John Serge</td>\n",
       "    </tr>\n",
       "    <tr>\n",
       "      <td>15</td>\n",
       "      <td>2006-03-29 00:00:00</td>\n",
       "      <td>Michael Fields</td>\n",
       "      <td>16</td>\n",
       "      <td>38</td>\n",
       "      <td>2T7216</td>\n",
       "      <td>2</td>\n",
       "      <td>\"The Rapes of Graff\"</td>\n",
       "      <td>2.15</td>\n",
       "      <td>John Enbom</td>\n",
       "    </tr>\n",
       "    <tr>\n",
       "      <td>16</td>\n",
       "      <td>2006-04-05 00:00:00</td>\n",
       "      <td>John Kretchmer</td>\n",
       "      <td>17</td>\n",
       "      <td>39</td>\n",
       "      <td>2T7217</td>\n",
       "      <td>2</td>\n",
       "      <td>\"Plan B\"</td>\n",
       "      <td>2.85</td>\n",
       "      <td>Dayna Lynne North</td>\n",
       "    </tr>\n",
       "    <tr>\n",
       "      <td>17</td>\n",
       "      <td>2006-04-11 00:00:00</td>\n",
       "      <td>Martha Mitchell</td>\n",
       "      <td>18</td>\n",
       "      <td>40</td>\n",
       "      <td>2T7218</td>\n",
       "      <td>2</td>\n",
       "      <td>\"I Am God\"</td>\n",
       "      <td>1.76</td>\n",
       "      <td>Diane Ruggiero &amp; Cathy Belben</td>\n",
       "    </tr>\n",
       "    <tr>\n",
       "      <td>18</td>\n",
       "      <td>2006-04-18 00:00:00</td>\n",
       "      <td>Jason Bloom</td>\n",
       "      <td>19</td>\n",
       "      <td>41</td>\n",
       "      <td>2T7219</td>\n",
       "      <td>2</td>\n",
       "      <td>\"Nevermind the Buttocks\"</td>\n",
       "      <td>1.91</td>\n",
       "      <td>Phil Klemmer</td>\n",
       "    </tr>\n",
       "    <tr>\n",
       "      <td>19</td>\n",
       "      <td>2006-04-25 00:00:00</td>\n",
       "      <td>Michael Fields</td>\n",
       "      <td>20</td>\n",
       "      <td>42</td>\n",
       "      <td>2T7220</td>\n",
       "      <td>2</td>\n",
       "      <td>\"Look Who's Stalking\"</td>\n",
       "      <td>1.85</td>\n",
       "      <td>John Enbom</td>\n",
       "    </tr>\n",
       "    <tr>\n",
       "      <td>20</td>\n",
       "      <td>2006-05-02 00:00:00</td>\n",
       "      <td>Steve Gomer</td>\n",
       "      <td>21</td>\n",
       "      <td>43</td>\n",
       "      <td>2T7221</td>\n",
       "      <td>2</td>\n",
       "      <td>\"Happy Go Lucky\"</td>\n",
       "      <td>2.09</td>\n",
       "      <td>Diane Ruggiero</td>\n",
       "    </tr>\n",
       "    <tr>\n",
       "      <td>21</td>\n",
       "      <td>2006-05-09 00:00:00</td>\n",
       "      <td>John Kretchmer</td>\n",
       "      <td>22</td>\n",
       "      <td>44</td>\n",
       "      <td>2T7222</td>\n",
       "      <td>2</td>\n",
       "      <td>\"Not Pictured\"</td>\n",
       "      <td>2.42</td>\n",
       "      <td>Story by : Rob Thomas Teleplay by : Rob Thomas...</td>\n",
       "    </tr>\n",
       "  </tbody>\n",
       "</table>\n",
       "</div>"
      ],
      "text/plain": [
       "               air_date                                           director  \\\n",
       "0                475258                                         Rob Thomas   \n",
       "1                2T5701                                         Rob Thomas   \n",
       "2                2T5702                                         Jed Seidel   \n",
       "3                2T5703                                     Diane Ruggiero   \n",
       "4                2T5704                                  Dayna Lynne North   \n",
       "5                2T5705   Story by : Rob Thomas Teleplay by : Phil Klemmer   \n",
       "6                2T5706  Story by : Jed Seidel Teleplay by : Jed Seidel...   \n",
       "7                2T5707                                    Aury Wallington   \n",
       "8                2T5708  Story by : Rob Thomas Teleplay by : Russell Smith   \n",
       "9                2T5710                                     Diane Ruggiero   \n",
       "10               2T5709                     Jed Seidel & Dayna Lynne North   \n",
       "11               2T5711                     Phil Klemmer & Aury Wallington   \n",
       "12               2T5712                                         John Enbom   \n",
       "13               2T5713  Story by : Rob Thomas Teleplay by : Jed Seidel...   \n",
       "14               2T5714                          Phil Klemmer & John Enbom   \n",
       "15               2T5715                                     Diane Ruggiero   \n",
       "16               2T5716                                     Carolyn Murray   \n",
       "17               2T5717                                         Jed Seidel   \n",
       "18               2T5718                                  Dayna Lynne North   \n",
       "19               2T5719                          Phil Klemmer & John Enbom   \n",
       "20               2T5720                                     Diane Ruggiero   \n",
       "21               2T5721  Story by : Rob Thomas Teleplay by : Rob Thomas...   \n",
       "0   2005-09-28 00:00:00                                     John Kretchmer   \n",
       "1   2005-10-05 00:00:00                                         Nick Marck   \n",
       "2   2005-10-12 00:00:00                                     John Kretchmer   \n",
       "3   2005-10-19 00:00:00                                        Jason Bloom   \n",
       "4   2005-10-26 00:00:00                                        Harry Winer   \n",
       "5   2005-11-09 00:00:00                                         Kevin Bray   \n",
       "6   2005-11-16 00:00:00                                         Nick Marck   \n",
       "7   2005-11-23 00:00:00                                        Steve Gomer   \n",
       "8   2005-11-30 00:00:00                                         Nick Marck   \n",
       "9   2005-12-07 00:00:00                                     John Kretchmer   \n",
       "10  2006-01-25 00:00:00                                         Rob Thomas   \n",
       "11  2006-02-01 00:00:00                                     John Kretchmer   \n",
       "12  2006-02-08 00:00:00                                            Guy Bee   \n",
       "13  2006-03-15 00:00:00                                 Sarah Pia Anderson   \n",
       "14  2006-03-22 00:00:00                                     Rick Rosenthal   \n",
       "15  2006-03-29 00:00:00                                     Michael Fields   \n",
       "16  2006-04-05 00:00:00                                     John Kretchmer   \n",
       "17  2006-04-11 00:00:00                                    Martha Mitchell   \n",
       "18  2006-04-18 00:00:00                                        Jason Bloom   \n",
       "19  2006-04-25 00:00:00                                     Michael Fields   \n",
       "20  2006-05-02 00:00:00                                        Steve Gomer   \n",
       "21  2006-05-09 00:00:00                                     John Kretchmer   \n",
       "\n",
       "                      num_inseason  num_overall   pcode  season  \\\n",
       "0                          \"Pilot\"            1    2.49       1   \n",
       "1      \"Credit Where Credit's Due\"            2    2.21       2   \n",
       "2                \"Meet John Smith\"            3    2.71       3   \n",
       "3               \"The Wrath of Con\"            4    3.12       4   \n",
       "4    \"You Think You Know Somebody\"            5    2.73       5   \n",
       "5             \"Return of the Kane\"            6    2.86       6   \n",
       "6             \"The Girl Next Door\"            7    2.74       7   \n",
       "7                  \"Like a Virgin\"            8    2.76       8   \n",
       "8          \"Drinking the Kool-Aid\"            9     2.4       9   \n",
       "9    \"An Echolls Family Christmas\"           10     1.9      10   \n",
       "10           \"Silence of the Lamb\"           11    2.84      11   \n",
       "11          \"Clash of the Tritons\"           12    2.91      12   \n",
       "12             \"Lord of the Bling\"           13    2.97      13   \n",
       "13                 \"Mars vs. Mars\"           14     2.7      14   \n",
       "14               \"Ruskie Business\"           15    2.34      15   \n",
       "15            \"Betty and Veronica\"           16    2.33      16   \n",
       "16              \"Kanes and Abel's\"           17    2.78      17   \n",
       "17  \"Weapons of Class Destruction\"           18     2.3      18   \n",
       "18                      \"Hot Dogs\"           19    2.48      19   \n",
       "19                        \"M.A.D.\"           20    3.04      20   \n",
       "20         \"A Trip to the Dentist\"           21    2.85      21   \n",
       "21            \"Leave It to Beaver\"           22    2.99      22   \n",
       "0                                1           23  2T7201       2   \n",
       "1                                2           24  2T7202       2   \n",
       "2                                3           25  2T7203       2   \n",
       "3                                4           26  2T7204       2   \n",
       "4                                5           27  2T7205       2   \n",
       "5                                6           28  2T7206       2   \n",
       "6                                7           29  2T7207       2   \n",
       "7                                8           30  2T7208       2   \n",
       "8                                9           31  2T7209       2   \n",
       "9                               10           32  2T7210       2   \n",
       "10                              11           33  2T7211       2   \n",
       "11                              12           34  2T7212       2   \n",
       "12                              13           35  2T7213       2   \n",
       "13                              14           36  2T7214       2   \n",
       "14                              15           37  2T7215       2   \n",
       "15                              16           38  2T7216       2   \n",
       "16                              17           39  2T7217       2   \n",
       "17                              18           40  2T7218       2   \n",
       "18                              19           41  2T7219       2   \n",
       "19                              20           42  2T7220       2   \n",
       "20                              21           43  2T7221       2   \n",
       "21                              22           44  2T7222       2   \n",
       "\n",
       "                                       title  us_viewers  \\\n",
       "0                             Mark Piznarski        1.00   \n",
       "1                             Mark Piznarski        1.00   \n",
       "2                                Harry Winer        1.00   \n",
       "3                             Michael Fields        1.00   \n",
       "4                                 Nick Gomez        1.00   \n",
       "5                         Sarah Pia Anderson        1.00   \n",
       "6                                 Nick Marck        1.00   \n",
       "7                                    Guy Bee        1.00   \n",
       "8                               Marcos Siega        1.00   \n",
       "9                                 Nick Marck        1.00   \n",
       "10                            John Kretchmer        1.00   \n",
       "11                             David Barrett        1.00   \n",
       "12                               Steve Gomer        1.00   \n",
       "13                              Marcos Siega        1.00   \n",
       "14                                   Guy Bee        1.00   \n",
       "15                            Michael Fields        1.00   \n",
       "16                                Nick Marck        1.00   \n",
       "17                            John Kretchmer        1.00   \n",
       "18                                Nick Marck        1.00   \n",
       "19                            John Kretchmer        1.00   \n",
       "20                              Marcos Siega        1.00   \n",
       "21                            Michael Fields        1.00   \n",
       "0                  \"Normal Is the Watchword\"        3.29   \n",
       "1                                \"Driver Ed\"        2.73   \n",
       "2                \"Cheatty Cheatty Bang Bang\"        3.03   \n",
       "3                       \"Green-Eyed Monster\"        3.05   \n",
       "4                      \"Blast from the Past\"        3.58   \n",
       "5                              \"Rat Saw God\"        3.07   \n",
       "6             \"Nobody Puts Baby in a Corner\"        2.94   \n",
       "7                            \"Ahoy, Mateys!\"        2.50   \n",
       "8                     \"My Mother, the Fiend\"        2.82   \n",
       "9                       \"One Angry Veronica\"        3.42   \n",
       "10                               \"Donut Run\"        1.62   \n",
       "11  \"Rashard and Wallace Go to White Castle\"        2.12   \n",
       "12     \"Ain't No Magic Mountain High Enough\"        2.05   \n",
       "13                      \"Versatile Toppings\"        2.73   \n",
       "14                   \"The Quick and the Wed\"        2.34   \n",
       "15                      \"The Rapes of Graff\"        2.15   \n",
       "16                                  \"Plan B\"        2.85   \n",
       "17                                \"I Am God\"        1.76   \n",
       "18                  \"Nevermind the Buttocks\"        1.91   \n",
       "19                     \"Look Who's Stalking\"        1.85   \n",
       "20                          \"Happy Go Lucky\"        2.09   \n",
       "21                            \"Not Pictured\"        2.42   \n",
       "\n",
       "                                               writer  \n",
       "0                                 2004-09-22 00:00:00  \n",
       "1                                 2004-09-28 00:00:00  \n",
       "2                                 2004-10-12 00:00:00  \n",
       "3                                 2004-10-19 00:00:00  \n",
       "4                                 2004-10-26 00:00:00  \n",
       "5                                 2004-11-02 00:00:00  \n",
       "6                                 2004-11-09 00:00:00  \n",
       "7                                 2004-11-23 00:00:00  \n",
       "8                                 2004-11-30 00:00:00  \n",
       "9                                 2004-12-14 00:00:00  \n",
       "10                                2005-01-04 00:00:00  \n",
       "11                                2005-01-11 00:00:00  \n",
       "12                                2005-02-08 00:00:00  \n",
       "13                                2005-02-15 00:00:00  \n",
       "14                                2005-02-22 00:00:00  \n",
       "15                                2005-03-29 00:00:00  \n",
       "16                                2005-04-05 00:00:00  \n",
       "17                                2005-04-12 00:00:00  \n",
       "18                                2005-04-19 00:00:00  \n",
       "19                                2005-04-26 00:00:00  \n",
       "20                                2005-05-03 00:00:00  \n",
       "21                                2005-05-10 00:00:00  \n",
       "0                                          Rob Thomas  \n",
       "1                                      Diane Ruggiero  \n",
       "2                           Phil Klemmer & John Enbom  \n",
       "3                                   Dayna Lynne North  \n",
       "4                         Phil Klemmer & Cathy Belben  \n",
       "5                           John Enbom & Phil Klemmer  \n",
       "6                                      Diane Ruggiero  \n",
       "7                           John Enbom & Cathy Belben  \n",
       "8                    Phil Klemmer & Dayna Lynne North  \n",
       "9                                       Russell Smith  \n",
       "10                                         Rob Thomas  \n",
       "11                                         John Enbom  \n",
       "12                                     Diane Ruggiero  \n",
       "13                                       Phil Klemmer  \n",
       "14                                         John Serge  \n",
       "15                                         John Enbom  \n",
       "16                                  Dayna Lynne North  \n",
       "17                      Diane Ruggiero & Cathy Belben  \n",
       "18                                       Phil Klemmer  \n",
       "19                                         John Enbom  \n",
       "20                                     Diane Ruggiero  \n",
       "21  Story by : Rob Thomas Teleplay by : Rob Thomas...  "
      ]
     },
     "execution_count": 104,
     "metadata": {},
     "output_type": "execute_result"
    }
   ],
   "source": [
    "#explore concat\n",
    "#pd.concat?\n",
    "pd.concat([season_1, season_2], axis = 0)"
   ]
  },
  {
   "cell_type": "code",
   "execution_count": 87,
   "metadata": {},
   "outputs": [],
   "source": [
    "#create single frame\n"
   ]
  },
  {
   "cell_type": "code",
   "execution_count": null,
   "metadata": {},
   "outputs": [],
   "source": []
  }
 ],
 "metadata": {
  "kernelspec": {
   "display_name": "Python 3",
   "language": "python",
   "name": "python3"
  },
  "language_info": {
   "codemirror_mode": {
    "name": "ipython",
    "version": 3
   },
   "file_extension": ".py",
   "mimetype": "text/x-python",
   "name": "python",
   "nbconvert_exporter": "python",
   "pygments_lexer": "ipython3",
   "version": "3.7.4"
  },
  "widgets": {
   "application/vnd.jupyter.widget-state+json": {
    "state": {},
    "version_major": 2,
    "version_minor": 0
   }
  }
 },
 "nbformat": 4,
 "nbformat_minor": 4
}
