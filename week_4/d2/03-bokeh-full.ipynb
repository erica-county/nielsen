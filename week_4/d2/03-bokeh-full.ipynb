{
 "cells": [
  {
   "cell_type": "code",
   "execution_count": 1,
   "metadata": {},
   "outputs": [],
   "source": [
    "#!pip install bokeh"
   ]
  },
  {
   "cell_type": "markdown",
   "metadata": {},
   "source": [
    "# Bokeh"
   ]
  },
  {
   "cell_type": "code",
   "execution_count": 62,
   "metadata": {},
   "outputs": [],
   "source": [
    "import pandas as pd\n",
    "import numpy as np\n",
    "import bokeh\n",
    "#bokeh.sampledata.download()"
   ]
  },
  {
   "cell_type": "code",
   "execution_count": 63,
   "metadata": {},
   "outputs": [],
   "source": [
    "from bokeh.plotting import figure, output_notebook, show"
   ]
  },
  {
   "cell_type": "code",
   "execution_count": 64,
   "metadata": {},
   "outputs": [
    {
     "data": {
      "text/html": [
       "\n",
       "    <div class=\"bk-root\">\n",
       "        <a href=\"https://bokeh.pydata.org\" target=\"_blank\" class=\"bk-logo bk-logo-small bk-logo-notebook\"></a>\n",
       "        <span id=\"10705\">Loading BokehJS ...</span>\n",
       "    </div>"
      ]
     },
     "metadata": {},
     "output_type": "display_data"
    },
    {
     "data": {
      "application/javascript": [
       "\n",
       "(function(root) {\n",
       "  function now() {\n",
       "    return new Date();\n",
       "  }\n",
       "\n",
       "  var force = true;\n",
       "\n",
       "  if (typeof root._bokeh_onload_callbacks === \"undefined\" || force === true) {\n",
       "    root._bokeh_onload_callbacks = [];\n",
       "    root._bokeh_is_loading = undefined;\n",
       "  }\n",
       "\n",
       "  var JS_MIME_TYPE = 'application/javascript';\n",
       "  var HTML_MIME_TYPE = 'text/html';\n",
       "  var EXEC_MIME_TYPE = 'application/vnd.bokehjs_exec.v0+json';\n",
       "  var CLASS_NAME = 'output_bokeh rendered_html';\n",
       "\n",
       "  /**\n",
       "   * Render data to the DOM node\n",
       "   */\n",
       "  function render(props, node) {\n",
       "    var script = document.createElement(\"script\");\n",
       "    node.appendChild(script);\n",
       "  }\n",
       "\n",
       "  /**\n",
       "   * Handle when an output is cleared or removed\n",
       "   */\n",
       "  function handleClearOutput(event, handle) {\n",
       "    var cell = handle.cell;\n",
       "\n",
       "    var id = cell.output_area._bokeh_element_id;\n",
       "    var server_id = cell.output_area._bokeh_server_id;\n",
       "    // Clean up Bokeh references\n",
       "    if (id != null && id in Bokeh.index) {\n",
       "      Bokeh.index[id].model.document.clear();\n",
       "      delete Bokeh.index[id];\n",
       "    }\n",
       "\n",
       "    if (server_id !== undefined) {\n",
       "      // Clean up Bokeh references\n",
       "      var cmd = \"from bokeh.io.state import curstate; print(curstate().uuid_to_server['\" + server_id + \"'].get_sessions()[0].document.roots[0]._id)\";\n",
       "      cell.notebook.kernel.execute(cmd, {\n",
       "        iopub: {\n",
       "          output: function(msg) {\n",
       "            var id = msg.content.text.trim();\n",
       "            if (id in Bokeh.index) {\n",
       "              Bokeh.index[id].model.document.clear();\n",
       "              delete Bokeh.index[id];\n",
       "            }\n",
       "          }\n",
       "        }\n",
       "      });\n",
       "      // Destroy server and session\n",
       "      var cmd = \"import bokeh.io.notebook as ion; ion.destroy_server('\" + server_id + \"')\";\n",
       "      cell.notebook.kernel.execute(cmd);\n",
       "    }\n",
       "  }\n",
       "\n",
       "  /**\n",
       "   * Handle when a new output is added\n",
       "   */\n",
       "  function handleAddOutput(event, handle) {\n",
       "    var output_area = handle.output_area;\n",
       "    var output = handle.output;\n",
       "\n",
       "    // limit handleAddOutput to display_data with EXEC_MIME_TYPE content only\n",
       "    if ((output.output_type != \"display_data\") || (!output.data.hasOwnProperty(EXEC_MIME_TYPE))) {\n",
       "      return\n",
       "    }\n",
       "\n",
       "    var toinsert = output_area.element.find(\".\" + CLASS_NAME.split(' ')[0]);\n",
       "\n",
       "    if (output.metadata[EXEC_MIME_TYPE][\"id\"] !== undefined) {\n",
       "      toinsert[toinsert.length - 1].firstChild.textContent = output.data[JS_MIME_TYPE];\n",
       "      // store reference to embed id on output_area\n",
       "      output_area._bokeh_element_id = output.metadata[EXEC_MIME_TYPE][\"id\"];\n",
       "    }\n",
       "    if (output.metadata[EXEC_MIME_TYPE][\"server_id\"] !== undefined) {\n",
       "      var bk_div = document.createElement(\"div\");\n",
       "      bk_div.innerHTML = output.data[HTML_MIME_TYPE];\n",
       "      var script_attrs = bk_div.children[0].attributes;\n",
       "      for (var i = 0; i < script_attrs.length; i++) {\n",
       "        toinsert[toinsert.length - 1].firstChild.setAttribute(script_attrs[i].name, script_attrs[i].value);\n",
       "      }\n",
       "      // store reference to server id on output_area\n",
       "      output_area._bokeh_server_id = output.metadata[EXEC_MIME_TYPE][\"server_id\"];\n",
       "    }\n",
       "  }\n",
       "\n",
       "  function register_renderer(events, OutputArea) {\n",
       "\n",
       "    function append_mime(data, metadata, element) {\n",
       "      // create a DOM node to render to\n",
       "      var toinsert = this.create_output_subarea(\n",
       "        metadata,\n",
       "        CLASS_NAME,\n",
       "        EXEC_MIME_TYPE\n",
       "      );\n",
       "      this.keyboard_manager.register_events(toinsert);\n",
       "      // Render to node\n",
       "      var props = {data: data, metadata: metadata[EXEC_MIME_TYPE]};\n",
       "      render(props, toinsert[toinsert.length - 1]);\n",
       "      element.append(toinsert);\n",
       "      return toinsert\n",
       "    }\n",
       "\n",
       "    /* Handle when an output is cleared or removed */\n",
       "    events.on('clear_output.CodeCell', handleClearOutput);\n",
       "    events.on('delete.Cell', handleClearOutput);\n",
       "\n",
       "    /* Handle when a new output is added */\n",
       "    events.on('output_added.OutputArea', handleAddOutput);\n",
       "\n",
       "    /**\n",
       "     * Register the mime type and append_mime function with output_area\n",
       "     */\n",
       "    OutputArea.prototype.register_mime_type(EXEC_MIME_TYPE, append_mime, {\n",
       "      /* Is output safe? */\n",
       "      safe: true,\n",
       "      /* Index of renderer in `output_area.display_order` */\n",
       "      index: 0\n",
       "    });\n",
       "  }\n",
       "\n",
       "  // register the mime type if in Jupyter Notebook environment and previously unregistered\n",
       "  if (root.Jupyter !== undefined) {\n",
       "    var events = require('base/js/events');\n",
       "    var OutputArea = require('notebook/js/outputarea').OutputArea;\n",
       "\n",
       "    if (OutputArea.prototype.mime_types().indexOf(EXEC_MIME_TYPE) == -1) {\n",
       "      register_renderer(events, OutputArea);\n",
       "    }\n",
       "  }\n",
       "\n",
       "  \n",
       "  if (typeof (root._bokeh_timeout) === \"undefined\" || force === true) {\n",
       "    root._bokeh_timeout = Date.now() + 5000;\n",
       "    root._bokeh_failed_load = false;\n",
       "  }\n",
       "\n",
       "  var NB_LOAD_WARNING = {'data': {'text/html':\n",
       "     \"<div style='background-color: #fdd'>\\n\"+\n",
       "     \"<p>\\n\"+\n",
       "     \"BokehJS does not appear to have successfully loaded. If loading BokehJS from CDN, this \\n\"+\n",
       "     \"may be due to a slow or bad network connection. Possible fixes:\\n\"+\n",
       "     \"</p>\\n\"+\n",
       "     \"<ul>\\n\"+\n",
       "     \"<li>re-rerun `output_notebook()` to attempt to load from CDN again, or</li>\\n\"+\n",
       "     \"<li>use INLINE resources instead, as so:</li>\\n\"+\n",
       "     \"</ul>\\n\"+\n",
       "     \"<code>\\n\"+\n",
       "     \"from bokeh.resources import INLINE\\n\"+\n",
       "     \"output_notebook(resources=INLINE)\\n\"+\n",
       "     \"</code>\\n\"+\n",
       "     \"</div>\"}};\n",
       "\n",
       "  function display_loaded() {\n",
       "    var el = document.getElementById(\"10705\");\n",
       "    if (el != null) {\n",
       "      el.textContent = \"BokehJS is loading...\";\n",
       "    }\n",
       "    if (root.Bokeh !== undefined) {\n",
       "      if (el != null) {\n",
       "        el.textContent = \"BokehJS \" + root.Bokeh.version + \" successfully loaded.\";\n",
       "      }\n",
       "    } else if (Date.now() < root._bokeh_timeout) {\n",
       "      setTimeout(display_loaded, 100)\n",
       "    }\n",
       "  }\n",
       "\n",
       "\n",
       "  function run_callbacks() {\n",
       "    try {\n",
       "      root._bokeh_onload_callbacks.forEach(function(callback) {\n",
       "        if (callback != null)\n",
       "          callback();\n",
       "      });\n",
       "    } finally {\n",
       "      delete root._bokeh_onload_callbacks\n",
       "    }\n",
       "    console.debug(\"Bokeh: all callbacks have finished\");\n",
       "  }\n",
       "\n",
       "  function load_libs(css_urls, js_urls, callback) {\n",
       "    if (css_urls == null) css_urls = [];\n",
       "    if (js_urls == null) js_urls = [];\n",
       "\n",
       "    root._bokeh_onload_callbacks.push(callback);\n",
       "    if (root._bokeh_is_loading > 0) {\n",
       "      console.debug(\"Bokeh: BokehJS is being loaded, scheduling callback at\", now());\n",
       "      return null;\n",
       "    }\n",
       "    if (js_urls == null || js_urls.length === 0) {\n",
       "      run_callbacks();\n",
       "      return null;\n",
       "    }\n",
       "    console.debug(\"Bokeh: BokehJS not loaded, scheduling load and callback at\", now());\n",
       "    root._bokeh_is_loading = css_urls.length + js_urls.length;\n",
       "\n",
       "    function on_load() {\n",
       "      root._bokeh_is_loading--;\n",
       "      if (root._bokeh_is_loading === 0) {\n",
       "        console.debug(\"Bokeh: all BokehJS libraries/stylesheets loaded\");\n",
       "        run_callbacks()\n",
       "      }\n",
       "    }\n",
       "\n",
       "    function on_error() {\n",
       "      console.error(\"failed to load \" + url);\n",
       "    }\n",
       "\n",
       "    for (var i = 0; i < css_urls.length; i++) {\n",
       "      var url = css_urls[i];\n",
       "      const element = document.createElement(\"link\");\n",
       "      element.onload = on_load;\n",
       "      element.onerror = on_error;\n",
       "      element.rel = \"stylesheet\";\n",
       "      element.type = \"text/css\";\n",
       "      element.href = url;\n",
       "      console.debug(\"Bokeh: injecting link tag for BokehJS stylesheet: \", url);\n",
       "      document.body.appendChild(element);\n",
       "    }\n",
       "\n",
       "    for (var i = 0; i < js_urls.length; i++) {\n",
       "      var url = js_urls[i];\n",
       "      var element = document.createElement('script');\n",
       "      element.onload = on_load;\n",
       "      element.onerror = on_error;\n",
       "      element.async = false;\n",
       "      element.src = url;\n",
       "      console.debug(\"Bokeh: injecting script tag for BokehJS library: \", url);\n",
       "      document.head.appendChild(element);\n",
       "    }\n",
       "  };var element = document.getElementById(\"10705\");\n",
       "  if (element == null) {\n",
       "    console.error(\"Bokeh: ERROR: autoload.js configured with elementid '10705' but no matching script tag was found. \")\n",
       "    return false;\n",
       "  }\n",
       "\n",
       "  function inject_raw_css(css) {\n",
       "    const element = document.createElement(\"style\");\n",
       "    element.appendChild(document.createTextNode(css));\n",
       "    document.body.appendChild(element);\n",
       "  }\n",
       "\n",
       "  var js_urls = [\"https://cdn.pydata.org/bokeh/release/bokeh-1.3.4.min.js\", \"https://cdn.pydata.org/bokeh/release/bokeh-widgets-1.3.4.min.js\", \"https://cdn.pydata.org/bokeh/release/bokeh-tables-1.3.4.min.js\", \"https://cdn.pydata.org/bokeh/release/bokeh-gl-1.3.4.min.js\"];\n",
       "  var css_urls = [];\n",
       "\n",
       "  var inline_js = [\n",
       "    function(Bokeh) {\n",
       "      Bokeh.set_log_level(\"info\");\n",
       "    },\n",
       "    \n",
       "    function(Bokeh) {\n",
       "      \n",
       "    },\n",
       "    function(Bokeh) {} // ensure no trailing comma for IE\n",
       "  ];\n",
       "\n",
       "  function run_inline_js() {\n",
       "    \n",
       "    if ((root.Bokeh !== undefined) || (force === true)) {\n",
       "      for (var i = 0; i < inline_js.length; i++) {\n",
       "        inline_js[i].call(root, root.Bokeh);\n",
       "      }if (force === true) {\n",
       "        display_loaded();\n",
       "      }} else if (Date.now() < root._bokeh_timeout) {\n",
       "      setTimeout(run_inline_js, 100);\n",
       "    } else if (!root._bokeh_failed_load) {\n",
       "      console.log(\"Bokeh: BokehJS failed to load within specified timeout.\");\n",
       "      root._bokeh_failed_load = true;\n",
       "    } else if (force !== true) {\n",
       "      var cell = $(document.getElementById(\"10705\")).parents('.cell').data().cell;\n",
       "      cell.output_area.append_execute_result(NB_LOAD_WARNING)\n",
       "    }\n",
       "\n",
       "  }\n",
       "\n",
       "  if (root._bokeh_is_loading === 0) {\n",
       "    console.debug(\"Bokeh: BokehJS loaded, going straight to plotting\");\n",
       "    run_inline_js();\n",
       "  } else {\n",
       "    load_libs(css_urls, js_urls, function() {\n",
       "      console.debug(\"Bokeh: BokehJS plotting callback run at\", now());\n",
       "      run_inline_js();\n",
       "    });\n",
       "  }\n",
       "}(window));"
      ],
      "application/vnd.bokehjs_load.v0+json": "\n(function(root) {\n  function now() {\n    return new Date();\n  }\n\n  var force = true;\n\n  if (typeof root._bokeh_onload_callbacks === \"undefined\" || force === true) {\n    root._bokeh_onload_callbacks = [];\n    root._bokeh_is_loading = undefined;\n  }\n\n  \n\n  \n  if (typeof (root._bokeh_timeout) === \"undefined\" || force === true) {\n    root._bokeh_timeout = Date.now() + 5000;\n    root._bokeh_failed_load = false;\n  }\n\n  var NB_LOAD_WARNING = {'data': {'text/html':\n     \"<div style='background-color: #fdd'>\\n\"+\n     \"<p>\\n\"+\n     \"BokehJS does not appear to have successfully loaded. If loading BokehJS from CDN, this \\n\"+\n     \"may be due to a slow or bad network connection. Possible fixes:\\n\"+\n     \"</p>\\n\"+\n     \"<ul>\\n\"+\n     \"<li>re-rerun `output_notebook()` to attempt to load from CDN again, or</li>\\n\"+\n     \"<li>use INLINE resources instead, as so:</li>\\n\"+\n     \"</ul>\\n\"+\n     \"<code>\\n\"+\n     \"from bokeh.resources import INLINE\\n\"+\n     \"output_notebook(resources=INLINE)\\n\"+\n     \"</code>\\n\"+\n     \"</div>\"}};\n\n  function display_loaded() {\n    var el = document.getElementById(\"10705\");\n    if (el != null) {\n      el.textContent = \"BokehJS is loading...\";\n    }\n    if (root.Bokeh !== undefined) {\n      if (el != null) {\n        el.textContent = \"BokehJS \" + root.Bokeh.version + \" successfully loaded.\";\n      }\n    } else if (Date.now() < root._bokeh_timeout) {\n      setTimeout(display_loaded, 100)\n    }\n  }\n\n\n  function run_callbacks() {\n    try {\n      root._bokeh_onload_callbacks.forEach(function(callback) {\n        if (callback != null)\n          callback();\n      });\n    } finally {\n      delete root._bokeh_onload_callbacks\n    }\n    console.debug(\"Bokeh: all callbacks have finished\");\n  }\n\n  function load_libs(css_urls, js_urls, callback) {\n    if (css_urls == null) css_urls = [];\n    if (js_urls == null) js_urls = [];\n\n    root._bokeh_onload_callbacks.push(callback);\n    if (root._bokeh_is_loading > 0) {\n      console.debug(\"Bokeh: BokehJS is being loaded, scheduling callback at\", now());\n      return null;\n    }\n    if (js_urls == null || js_urls.length === 0) {\n      run_callbacks();\n      return null;\n    }\n    console.debug(\"Bokeh: BokehJS not loaded, scheduling load and callback at\", now());\n    root._bokeh_is_loading = css_urls.length + js_urls.length;\n\n    function on_load() {\n      root._bokeh_is_loading--;\n      if (root._bokeh_is_loading === 0) {\n        console.debug(\"Bokeh: all BokehJS libraries/stylesheets loaded\");\n        run_callbacks()\n      }\n    }\n\n    function on_error() {\n      console.error(\"failed to load \" + url);\n    }\n\n    for (var i = 0; i < css_urls.length; i++) {\n      var url = css_urls[i];\n      const element = document.createElement(\"link\");\n      element.onload = on_load;\n      element.onerror = on_error;\n      element.rel = \"stylesheet\";\n      element.type = \"text/css\";\n      element.href = url;\n      console.debug(\"Bokeh: injecting link tag for BokehJS stylesheet: \", url);\n      document.body.appendChild(element);\n    }\n\n    for (var i = 0; i < js_urls.length; i++) {\n      var url = js_urls[i];\n      var element = document.createElement('script');\n      element.onload = on_load;\n      element.onerror = on_error;\n      element.async = false;\n      element.src = url;\n      console.debug(\"Bokeh: injecting script tag for BokehJS library: \", url);\n      document.head.appendChild(element);\n    }\n  };var element = document.getElementById(\"10705\");\n  if (element == null) {\n    console.error(\"Bokeh: ERROR: autoload.js configured with elementid '10705' but no matching script tag was found. \")\n    return false;\n  }\n\n  function inject_raw_css(css) {\n    const element = document.createElement(\"style\");\n    element.appendChild(document.createTextNode(css));\n    document.body.appendChild(element);\n  }\n\n  var js_urls = [\"https://cdn.pydata.org/bokeh/release/bokeh-1.3.4.min.js\", \"https://cdn.pydata.org/bokeh/release/bokeh-widgets-1.3.4.min.js\", \"https://cdn.pydata.org/bokeh/release/bokeh-tables-1.3.4.min.js\", \"https://cdn.pydata.org/bokeh/release/bokeh-gl-1.3.4.min.js\"];\n  var css_urls = [];\n\n  var inline_js = [\n    function(Bokeh) {\n      Bokeh.set_log_level(\"info\");\n    },\n    \n    function(Bokeh) {\n      \n    },\n    function(Bokeh) {} // ensure no trailing comma for IE\n  ];\n\n  function run_inline_js() {\n    \n    if ((root.Bokeh !== undefined) || (force === true)) {\n      for (var i = 0; i < inline_js.length; i++) {\n        inline_js[i].call(root, root.Bokeh);\n      }if (force === true) {\n        display_loaded();\n      }} else if (Date.now() < root._bokeh_timeout) {\n      setTimeout(run_inline_js, 100);\n    } else if (!root._bokeh_failed_load) {\n      console.log(\"Bokeh: BokehJS failed to load within specified timeout.\");\n      root._bokeh_failed_load = true;\n    } else if (force !== true) {\n      var cell = $(document.getElementById(\"10705\")).parents('.cell').data().cell;\n      cell.output_area.append_execute_result(NB_LOAD_WARNING)\n    }\n\n  }\n\n  if (root._bokeh_is_loading === 0) {\n    console.debug(\"Bokeh: BokehJS loaded, going straight to plotting\");\n    run_inline_js();\n  } else {\n    load_libs(css_urls, js_urls, function() {\n      console.debug(\"Bokeh: BokehJS plotting callback run at\", now());\n      run_inline_js();\n    });\n  }\n}(window));"
     },
     "metadata": {},
     "output_type": "display_data"
    }
   ],
   "source": [
    "output_notebook()"
   ]
  },
  {
   "cell_type": "code",
   "execution_count": 65,
   "metadata": {},
   "outputs": [],
   "source": [
    "imdb = pd.read_csv('data/imdb_1000.csv')"
   ]
  },
  {
   "cell_type": "code",
   "execution_count": 66,
   "metadata": {},
   "outputs": [
    {
     "data": {
      "text/html": [
       "<div>\n",
       "<style scoped>\n",
       "    .dataframe tbody tr th:only-of-type {\n",
       "        vertical-align: middle;\n",
       "    }\n",
       "\n",
       "    .dataframe tbody tr th {\n",
       "        vertical-align: top;\n",
       "    }\n",
       "\n",
       "    .dataframe thead th {\n",
       "        text-align: right;\n",
       "    }\n",
       "</style>\n",
       "<table border=\"1\" class=\"dataframe\">\n",
       "  <thead>\n",
       "    <tr style=\"text-align: right;\">\n",
       "      <th></th>\n",
       "      <th>star_rating</th>\n",
       "      <th>title</th>\n",
       "      <th>content_rating</th>\n",
       "      <th>genre</th>\n",
       "      <th>duration</th>\n",
       "      <th>actors_list</th>\n",
       "    </tr>\n",
       "  </thead>\n",
       "  <tbody>\n",
       "    <tr>\n",
       "      <td>0</td>\n",
       "      <td>9.3</td>\n",
       "      <td>The Shawshank Redemption</td>\n",
       "      <td>R</td>\n",
       "      <td>Crime</td>\n",
       "      <td>142</td>\n",
       "      <td>[u'Tim Robbins', u'Morgan Freeman', u'Bob Gunt...</td>\n",
       "    </tr>\n",
       "    <tr>\n",
       "      <td>1</td>\n",
       "      <td>9.2</td>\n",
       "      <td>The Godfather</td>\n",
       "      <td>R</td>\n",
       "      <td>Crime</td>\n",
       "      <td>175</td>\n",
       "      <td>[u'Marlon Brando', u'Al Pacino', u'James Caan']</td>\n",
       "    </tr>\n",
       "  </tbody>\n",
       "</table>\n",
       "</div>"
      ],
      "text/plain": [
       "   star_rating                     title content_rating  genre  duration  \\\n",
       "0          9.3  The Shawshank Redemption              R  Crime       142   \n",
       "1          9.2             The Godfather              R  Crime       175   \n",
       "\n",
       "                                         actors_list  \n",
       "0  [u'Tim Robbins', u'Morgan Freeman', u'Bob Gunt...  \n",
       "1    [u'Marlon Brando', u'Al Pacino', u'James Caan']  "
      ]
     },
     "execution_count": 66,
     "metadata": {},
     "output_type": "execute_result"
    }
   ],
   "source": [
    "imdb.head(2)"
   ]
  },
  {
   "cell_type": "code",
   "execution_count": 67,
   "metadata": {},
   "outputs": [
    {
     "data": {
      "text/html": [
       "\n",
       "\n",
       "\n",
       "\n",
       "\n",
       "\n",
       "  <div class=\"bk-root\" id=\"83bd0134-151e-41ca-a527-31fde1e3e703\" data-root-id=\"10706\"></div>\n"
      ]
     },
     "metadata": {},
     "output_type": "display_data"
    },
    {
     "data": {
      "application/javascript": [
       "(function(root) {\n",
       "  function embed_document(root) {\n",
       "    \n",
       "  var docs_json = {\"fb858ecd-8e19-4e59-8d47-c88385724218\":{\"roots\":{\"references\":[{\"attributes\":{\"below\":[{\"id\":\"10715\",\"type\":\"LinearAxis\"}],\"center\":[{\"id\":\"10719\",\"type\":\"Grid\"},{\"id\":\"10724\",\"type\":\"Grid\"}],\"left\":[{\"id\":\"10720\",\"type\":\"LinearAxis\"}],\"renderers\":[{\"id\":\"10741\",\"type\":\"GlyphRenderer\"}],\"title\":{\"id\":\"11098\",\"type\":\"Title\"},\"toolbar\":{\"id\":\"10731\",\"type\":\"Toolbar\"},\"x_range\":{\"id\":\"10707\",\"type\":\"DataRange1d\"},\"x_scale\":{\"id\":\"10711\",\"type\":\"LinearScale\"},\"y_range\":{\"id\":\"10709\",\"type\":\"DataRange1d\"},\"y_scale\":{\"id\":\"10713\",\"type\":\"LinearScale\"}},\"id\":\"10706\",\"subtype\":\"Figure\",\"type\":\"Plot\"},{\"attributes\":{\"text\":\"\"},\"id\":\"11098\",\"type\":\"Title\"},{\"attributes\":{},\"id\":\"10711\",\"type\":\"LinearScale\"},{\"attributes\":{\"callback\":null},\"id\":\"10709\",\"type\":\"DataRange1d\"},{\"attributes\":{},\"id\":\"10713\",\"type\":\"LinearScale\"},{\"attributes\":{\"ticker\":{\"id\":\"10716\",\"type\":\"BasicTicker\"}},\"id\":\"10719\",\"type\":\"Grid\"},{\"attributes\":{},\"id\":\"11100\",\"type\":\"BasicTickFormatter\"},{\"attributes\":{},\"id\":\"11102\",\"type\":\"BasicTickFormatter\"},{\"attributes\":{\"callback\":null,\"data\":{\"x\":{\"__ndarray__\":\"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\",\"dtype\":\"float64\",\"shape\":[979]},\"y\":[142,175,200,152,154,96,161,201,195,139,178,148,124,142,179,169,133,207,146,121,136,130,130,106,127,116,175,118,110,87,125,112,102,107,119,87,169,115,112,109,189,110,150,165,155,137,113,165,95,151,155,153,125,130,116,89,137,117,88,165,170,89,146,99,98,116,156,122,149,134,122,136,157,123,119,137,128,120,229,107,134,103,177,129,102,216,136,93,68,189,99,108,113,181,103,138,110,129,88,160,126,91,116,125,143,93,102,132,153,183,160,120,138,140,153,170,129,81,127,131,172,115,108,107,129,156,96,91,95,162,130,86,186,151,96,170,118,161,131,126,131,129,224,180,105,117,140,119,124,130,139,107,132,117,126,122,178,238,149,172,98,116,116,123,148,123,182,92,93,100,135,105,94,140,83,95,98,143,99,98,121,163,121,167,188,121,109,110,129,127,94,107,100,117,129,120,121,133,111,122,101,134,165,138,212,154,89,134,93,114,88,130,101,158,99,108,124,132,113,131,191,167,130,147,102,88,165,132,118,101,108,174,98,92,98,106,85,101,105,115,115,124,105,103,138,184,120,99,131,138,98,123,118,114,118,112,124,160,67,146,125,115,134,141,129,104,94,124,150,119,128,143,85,151,118,101,99,92,125,102,106,107,91,80,122,102,112,92,135,136,153,105,126,68,84,103,145,80,106,127,178,137,172,76,130,96,82,115,95,143,125,120,127,112,104,113,189,127,188,96,113,132,122,126,140,133,112,102,93,109,81,108,111,119,96,197,127,138,66,181,141,144,128,83,121,98,117,94,174,112,108,70,99,96,137,136,100,90,96,161,115,181,169,98,136,138,119,123,112,120,103,97,109,165,156,147,100,126,115,105,144,102,107,119,90,197,86,113,133,64,141,113,122,105,119,102,122,123,113,97,117,111,85,99,134,75,109,117,91,128,111,119,100,114,92,141,101,115,127,96,129,135,109,157,193,94,155,113,130,117,159,141,112,162,126,120,144,120,109,97,108,115,136,90,170,220,116,134,124,91,103,96,119,98,101,93,179,155,121,103,127,103,107,100,92,94,158,86,115,130,107,100,108,124,131,122,242,127,141,126,89,113,152,107,92,145,84,126,132,78,117,128,100,128,100,143,107,100,125,106,157,94,104,94,153,123,120,105,166,112,94,111,87,80,108,102,105,136,101,100,108,101,106,105,88,129,138,129,118,139,123,150,132,80,178,79,163,114,144,130,154,81,95,101,120,93,115,106,120,110,123,142,99,112,120,122,130,139,129,141,127,130,118,110,115,101,112,108,143,152,117,121,119,114,122,105,110,116,139,121,109,146,113,100,121,113,113,117,93,101,90,131,98,93,121,82,124,100,117,99,116,123,114,133,105,127,144,90,118,122,102,187,87,154,89,88,129,95,118,98,194,114,80,130,135,101,105,129,134,143,202,89,106,92,137,124,122,113,112,110,135,88,146,104,125,131,91,142,129,158,102,99,101,104,119,103,88,100,146,150,140,140,110,97,102,152,100,94,85,104,112,191,119,111,94,103,134,157,158,127,101,109,98,134,168,93,145,111,88,123,121,144,116,124,147,106,113,129,94,126,128,111,146,85,105,132,130,162,113,110,113,162,110,78,92,95,138,102,128,96,164,126,110,109,122,124,128,157,120,102,152,170,102,116,164,85,104,99,81,131,101,121,69,92,94,141,116,98,135,121,108,114,102,112,140,157,128,108,139,83,131,113,136,96,118,108,83,205,124,111,137,104,109,115,99,114,133,131,131,123,126,97,126,89,122,121,125,105,118,81,115,126,113,107,126,111,85,120,93,100,107,126,131,116,143,93,96,160,137,119,114,98,111,138,144,107,114,125,146,113,85,97,93,113,128,114,147,127,167,124,109,124,102,130,125,98,154,97,128,98,101,147,172,125,88,125,121,112,120,133,110,135,110,80,135,101,112,124,129,104,96,105,109,117,78,138,106,90,106,91,112,134,112,104,101,120,123,133,110,129,120,83,88,96,139,113,84,106,170,144,104,153,85,130,93,148,115,102,125,106,121,143,116,99,116,128,119,104,114,152,129,103,112,92,141,106,109,104,122,111,112,116,130,133,134,92,104,110,97,100,118,112,138,92,118,140,128,101,75,97,111,175,94,97,132,120,107,89,86,103,108,105,117,102,104,157,104,98,109,96,103,114,99,118,150,105,87,136,162,109,107,90,112,126,116,118,138,114,126]},\"selected\":{\"id\":\"11105\",\"type\":\"Selection\"},\"selection_policy\":{\"id\":\"11104\",\"type\":\"UnionRenderers\"}},\"id\":\"10738\",\"type\":\"ColumnDataSource\"},{\"attributes\":{\"active_drag\":\"auto\",\"active_inspect\":\"auto\",\"active_multi\":null,\"active_scroll\":\"auto\",\"active_tap\":\"auto\",\"tools\":[{\"id\":\"10725\",\"type\":\"PanTool\"},{\"id\":\"10726\",\"type\":\"WheelZoomTool\"},{\"id\":\"10727\",\"type\":\"BoxZoomTool\"},{\"id\":\"10728\",\"type\":\"SaveTool\"},{\"id\":\"10729\",\"type\":\"ResetTool\"},{\"id\":\"10730\",\"type\":\"HelpTool\"}]},\"id\":\"10731\",\"type\":\"Toolbar\"},{\"attributes\":{},\"id\":\"11105\",\"type\":\"Selection\"},{\"attributes\":{\"data_source\":{\"id\":\"10738\",\"type\":\"ColumnDataSource\"},\"glyph\":{\"id\":\"10739\",\"type\":\"Circle\"},\"hover_glyph\":null,\"muted_glyph\":null,\"nonselection_glyph\":{\"id\":\"10740\",\"type\":\"Circle\"},\"selection_glyph\":null,\"view\":{\"id\":\"10742\",\"type\":\"CDSView\"}},\"id\":\"10741\",\"type\":\"GlyphRenderer\"},{\"attributes\":{\"fill_color\":{\"value\":\"#1f77b4\"},\"line_color\":{\"value\":\"#1f77b4\"},\"x\":{\"field\":\"x\"},\"y\":{\"field\":\"y\"}},\"id\":\"10739\",\"type\":\"Circle\"},{\"attributes\":{},\"id\":\"10725\",\"type\":\"PanTool\"},{\"attributes\":{},\"id\":\"10726\",\"type\":\"WheelZoomTool\"},{\"attributes\":{\"dimension\":1,\"ticker\":{\"id\":\"10721\",\"type\":\"BasicTicker\"}},\"id\":\"10724\",\"type\":\"Grid\"},{\"attributes\":{},\"id\":\"11104\",\"type\":\"UnionRenderers\"},{\"attributes\":{\"overlay\":{\"id\":\"11106\",\"type\":\"BoxAnnotation\"}},\"id\":\"10727\",\"type\":\"BoxZoomTool\"},{\"attributes\":{\"fill_alpha\":{\"value\":0.1},\"fill_color\":{\"value\":\"#1f77b4\"},\"line_alpha\":{\"value\":0.1},\"line_color\":{\"value\":\"#1f77b4\"},\"x\":{\"field\":\"x\"},\"y\":{\"field\":\"y\"}},\"id\":\"10740\",\"type\":\"Circle\"},{\"attributes\":{},\"id\":\"10728\",\"type\":\"SaveTool\"},{\"attributes\":{\"bottom_units\":\"screen\",\"fill_alpha\":{\"value\":0.5},\"fill_color\":{\"value\":\"lightgrey\"},\"left_units\":\"screen\",\"level\":\"overlay\",\"line_alpha\":{\"value\":1.0},\"line_color\":{\"value\":\"black\"},\"line_dash\":[4,4],\"line_width\":{\"value\":2},\"render_mode\":\"css\",\"right_units\":\"screen\",\"top_units\":\"screen\"},\"id\":\"11106\",\"type\":\"BoxAnnotation\"},{\"attributes\":{\"formatter\":{\"id\":\"11100\",\"type\":\"BasicTickFormatter\"},\"ticker\":{\"id\":\"10721\",\"type\":\"BasicTicker\"}},\"id\":\"10720\",\"type\":\"LinearAxis\"},{\"attributes\":{\"source\":{\"id\":\"10738\",\"type\":\"ColumnDataSource\"}},\"id\":\"10742\",\"type\":\"CDSView\"},{\"attributes\":{},\"id\":\"10729\",\"type\":\"ResetTool\"},{\"attributes\":{},\"id\":\"10721\",\"type\":\"BasicTicker\"},{\"attributes\":{\"formatter\":{\"id\":\"11102\",\"type\":\"BasicTickFormatter\"},\"ticker\":{\"id\":\"10716\",\"type\":\"BasicTicker\"}},\"id\":\"10715\",\"type\":\"LinearAxis\"},{\"attributes\":{},\"id\":\"10730\",\"type\":\"HelpTool\"},{\"attributes\":{\"callback\":null},\"id\":\"10707\",\"type\":\"DataRange1d\"},{\"attributes\":{},\"id\":\"10716\",\"type\":\"BasicTicker\"}],\"root_ids\":[\"10706\"]},\"title\":\"Bokeh Application\",\"version\":\"1.3.4\"}};\n",
       "  var render_items = [{\"docid\":\"fb858ecd-8e19-4e59-8d47-c88385724218\",\"roots\":{\"10706\":\"83bd0134-151e-41ca-a527-31fde1e3e703\"}}];\n",
       "  root.Bokeh.embed.embed_items_notebook(docs_json, render_items);\n",
       "\n",
       "  }\n",
       "  if (root.Bokeh !== undefined) {\n",
       "    embed_document(root);\n",
       "  } else {\n",
       "    var attempts = 0;\n",
       "    var timer = setInterval(function(root) {\n",
       "      if (root.Bokeh !== undefined) {\n",
       "        embed_document(root);\n",
       "        clearInterval(timer);\n",
       "      }\n",
       "      attempts++;\n",
       "      if (attempts > 100) {\n",
       "        console.log(\"Bokeh: ERROR: Unable to run BokehJS code because BokehJS library is missing\");\n",
       "        clearInterval(timer);\n",
       "      }\n",
       "    }, 10, root)\n",
       "  }\n",
       "})(window);"
      ],
      "application/vnd.bokehjs_exec.v0+json": ""
     },
     "metadata": {
      "application/vnd.bokehjs_exec.v0+json": {
       "id": "10706"
      }
     },
     "output_type": "display_data"
    }
   ],
   "source": [
    "#create a figure\n",
    "p = figure()\n",
    "#add objects to figure\n",
    "p.circle(imdb.star_rating, imdb.duration)\n",
    "#show the plot\n",
    "show(p)"
   ]
  },
  {
   "cell_type": "code",
   "execution_count": 68,
   "metadata": {},
   "outputs": [
    {
     "data": {
      "text/html": [
       "\n",
       "\n",
       "\n",
       "\n",
       "\n",
       "\n",
       "  <div class=\"bk-root\" id=\"54067552-48c7-48b0-9eed-b8a1c1eb1966\" data-root-id=\"11161\"></div>\n"
      ]
     },
     "metadata": {},
     "output_type": "display_data"
    },
    {
     "data": {
      "application/javascript": [
       "(function(root) {\n",
       "  function embed_document(root) {\n",
       "    \n",
       "  var docs_json = {\"7e7c6a5d-8147-4a25-b193-9ac6d06e7515\":{\"roots\":{\"references\":[{\"attributes\":{\"below\":[{\"id\":\"11172\",\"type\":\"LinearAxis\"}],\"center\":[{\"id\":\"11176\",\"type\":\"Grid\"},{\"id\":\"11181\",\"type\":\"Grid\"}],\"left\":[{\"id\":\"11177\",\"type\":\"LinearAxis\"}],\"plot_height\":200,\"plot_width\":500,\"renderers\":[{\"id\":\"11198\",\"type\":\"GlyphRenderer\"}],\"title\":{\"id\":\"11162\",\"type\":\"Title\"},\"toolbar\":{\"id\":\"11188\",\"type\":\"Toolbar\"},\"x_range\":{\"id\":\"11164\",\"type\":\"DataRange1d\"},\"x_scale\":{\"id\":\"11168\",\"type\":\"LinearScale\"},\"y_range\":{\"id\":\"11166\",\"type\":\"DataRange1d\"},\"y_scale\":{\"id\":\"11170\",\"type\":\"LinearScale\"}},\"id\":\"11161\",\"subtype\":\"Figure\",\"type\":\"Plot\"},{\"attributes\":{},\"id\":\"11187\",\"type\":\"HelpTool\"},{\"attributes\":{},\"id\":\"11170\",\"type\":\"LinearScale\"},{\"attributes\":{\"callback\":null,\"data\":{\"x\":{\"__ndarray__\":\"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\",\"dtype\":\"float64\",\"shape\":[979]},\"y\":[142,175,200,152,154,96,161,201,195,139,178,148,124,142,179,169,133,207,146,121,136,130,130,106,127,116,175,118,110,87,125,112,102,107,119,87,169,115,112,109,189,110,150,165,155,137,113,165,95,151,155,153,125,130,116,89,137,117,88,165,170,89,146,99,98,116,156,122,149,134,122,136,157,123,119,137,128,120,229,107,134,103,177,129,102,216,136,93,68,189,99,108,113,181,103,138,110,129,88,160,126,91,116,125,143,93,102,132,153,183,160,120,138,140,153,170,129,81,127,131,172,115,108,107,129,156,96,91,95,162,130,86,186,151,96,170,118,161,131,126,131,129,224,180,105,117,140,119,124,130,139,107,132,117,126,122,178,238,149,172,98,116,116,123,148,123,182,92,93,100,135,105,94,140,83,95,98,143,99,98,121,163,121,167,188,121,109,110,129,127,94,107,100,117,129,120,121,133,111,122,101,134,165,138,212,154,89,134,93,114,88,130,101,158,99,108,124,132,113,131,191,167,130,147,102,88,165,132,118,101,108,174,98,92,98,106,85,101,105,115,115,124,105,103,138,184,120,99,131,138,98,123,118,114,118,112,124,160,67,146,125,115,134,141,129,104,94,124,150,119,128,143,85,151,118,101,99,92,125,102,106,107,91,80,122,102,112,92,135,136,153,105,126,68,84,103,145,80,106,127,178,137,172,76,130,96,82,115,95,143,125,120,127,112,104,113,189,127,188,96,113,132,122,126,140,133,112,102,93,109,81,108,111,119,96,197,127,138,66,181,141,144,128,83,121,98,117,94,174,112,108,70,99,96,137,136,100,90,96,161,115,181,169,98,136,138,119,123,112,120,103,97,109,165,156,147,100,126,115,105,144,102,107,119,90,197,86,113,133,64,141,113,122,105,119,102,122,123,113,97,117,111,85,99,134,75,109,117,91,128,111,119,100,114,92,141,101,115,127,96,129,135,109,157,193,94,155,113,130,117,159,141,112,162,126,120,144,120,109,97,108,115,136,90,170,220,116,134,124,91,103,96,119,98,101,93,179,155,121,103,127,103,107,100,92,94,158,86,115,130,107,100,108,124,131,122,242,127,141,126,89,113,152,107,92,145,84,126,132,78,117,128,100,128,100,143,107,100,125,106,157,94,104,94,153,123,120,105,166,112,94,111,87,80,108,102,105,136,101,100,108,101,106,105,88,129,138,129,118,139,123,150,132,80,178,79,163,114,144,130,154,81,95,101,120,93,115,106,120,110,123,142,99,112,120,122,130,139,129,141,127,130,118,110,115,101,112,108,143,152,117,121,119,114,122,105,110,116,139,121,109,146,113,100,121,113,113,117,93,101,90,131,98,93,121,82,124,100,117,99,116,123,114,133,105,127,144,90,118,122,102,187,87,154,89,88,129,95,118,98,194,114,80,130,135,101,105,129,134,143,202,89,106,92,137,124,122,113,112,110,135,88,146,104,125,131,91,142,129,158,102,99,101,104,119,103,88,100,146,150,140,140,110,97,102,152,100,94,85,104,112,191,119,111,94,103,134,157,158,127,101,109,98,134,168,93,145,111,88,123,121,144,116,124,147,106,113,129,94,126,128,111,146,85,105,132,130,162,113,110,113,162,110,78,92,95,138,102,128,96,164,126,110,109,122,124,128,157,120,102,152,170,102,116,164,85,104,99,81,131,101,121,69,92,94,141,116,98,135,121,108,114,102,112,140,157,128,108,139,83,131,113,136,96,118,108,83,205,124,111,137,104,109,115,99,114,133,131,131,123,126,97,126,89,122,121,125,105,118,81,115,126,113,107,126,111,85,120,93,100,107,126,131,116,143,93,96,160,137,119,114,98,111,138,144,107,114,125,146,113,85,97,93,113,128,114,147,127,167,124,109,124,102,130,125,98,154,97,128,98,101,147,172,125,88,125,121,112,120,133,110,135,110,80,135,101,112,124,129,104,96,105,109,117,78,138,106,90,106,91,112,134,112,104,101,120,123,133,110,129,120,83,88,96,139,113,84,106,170,144,104,153,85,130,93,148,115,102,125,106,121,143,116,99,116,128,119,104,114,152,129,103,112,92,141,106,109,104,122,111,112,116,130,133,134,92,104,110,97,100,118,112,138,92,118,140,128,101,75,97,111,175,94,97,132,120,107,89,86,103,108,105,117,102,104,157,104,98,109,96,103,114,99,118,150,105,87,136,162,109,107,90,112,126,116,118,138,114,126]},\"selected\":{\"id\":\"11570\",\"type\":\"Selection\"},\"selection_policy\":{\"id\":\"11569\",\"type\":\"UnionRenderers\"}},\"id\":\"11195\",\"type\":\"ColumnDataSource\"},{\"attributes\":{},\"id\":\"11182\",\"type\":\"PanTool\"},{\"attributes\":{\"callback\":null},\"id\":\"11166\",\"type\":\"DataRange1d\"},{\"attributes\":{\"dimension\":1,\"ticker\":{\"id\":\"11178\",\"type\":\"BasicTicker\"}},\"id\":\"11181\",\"type\":\"Grid\"},{\"attributes\":{\"ticker\":{\"id\":\"11173\",\"type\":\"BasicTicker\"}},\"id\":\"11176\",\"type\":\"Grid\"},{\"attributes\":{\"overlay\":{\"id\":\"11571\",\"type\":\"BoxAnnotation\"}},\"id\":\"11184\",\"type\":\"BoxZoomTool\"},{\"attributes\":{\"fill_alpha\":{\"value\":0.1},\"fill_color\":{\"value\":\"#1f77b4\"},\"line_alpha\":{\"value\":0.1},\"line_color\":{\"value\":\"#1f77b4\"},\"x\":{\"field\":\"x\"},\"y\":{\"field\":\"y\"}},\"id\":\"11197\",\"type\":\"Circle\"},{\"attributes\":{\"axis_label\":\"duration\",\"formatter\":{\"id\":\"11565\",\"type\":\"BasicTickFormatter\"},\"ticker\":{\"id\":\"11178\",\"type\":\"BasicTicker\"}},\"id\":\"11177\",\"type\":\"LinearAxis\"},{\"attributes\":{},\"id\":\"11567\",\"type\":\"BasicTickFormatter\"},{\"attributes\":{},\"id\":\"11173\",\"type\":\"BasicTicker\"},{\"attributes\":{\"fill_color\":{\"value\":\"#1f77b4\"},\"line_color\":{\"value\":\"#1f77b4\"},\"x\":{\"field\":\"x\"},\"y\":{\"field\":\"y\"}},\"id\":\"11196\",\"type\":\"Circle\"},{\"attributes\":{\"data_source\":{\"id\":\"11195\",\"type\":\"ColumnDataSource\"},\"glyph\":{\"id\":\"11196\",\"type\":\"Circle\"},\"hover_glyph\":null,\"muted_glyph\":null,\"nonselection_glyph\":{\"id\":\"11197\",\"type\":\"Circle\"},\"selection_glyph\":null,\"view\":{\"id\":\"11199\",\"type\":\"CDSView\"}},\"id\":\"11198\",\"type\":\"GlyphRenderer\"},{\"attributes\":{},\"id\":\"11186\",\"type\":\"ResetTool\"},{\"attributes\":{},\"id\":\"11569\",\"type\":\"UnionRenderers\"},{\"attributes\":{\"bottom_units\":\"screen\",\"fill_alpha\":{\"value\":0.5},\"fill_color\":{\"value\":\"lightgrey\"},\"left_units\":\"screen\",\"level\":\"overlay\",\"line_alpha\":{\"value\":1.0},\"line_color\":{\"value\":\"black\"},\"line_dash\":[4,4],\"line_width\":{\"value\":2},\"render_mode\":\"css\",\"right_units\":\"screen\",\"top_units\":\"screen\"},\"id\":\"11571\",\"type\":\"BoxAnnotation\"},{\"attributes\":{},\"id\":\"11183\",\"type\":\"WheelZoomTool\"},{\"attributes\":{},\"id\":\"11185\",\"type\":\"SaveTool\"},{\"attributes\":{},\"id\":\"11168\",\"type\":\"LinearScale\"},{\"attributes\":{\"axis_label\":\"stars\",\"formatter\":{\"id\":\"11567\",\"type\":\"BasicTickFormatter\"},\"ticker\":{\"id\":\"11173\",\"type\":\"BasicTicker\"}},\"id\":\"11172\",\"type\":\"LinearAxis\"},{\"attributes\":{},\"id\":\"11565\",\"type\":\"BasicTickFormatter\"},{\"attributes\":{},\"id\":\"11570\",\"type\":\"Selection\"},{\"attributes\":{\"callback\":null},\"id\":\"11164\",\"type\":\"DataRange1d\"},{\"attributes\":{\"text\":\"Stars vs. Duration\"},\"id\":\"11162\",\"type\":\"Title\"},{\"attributes\":{},\"id\":\"11178\",\"type\":\"BasicTicker\"},{\"attributes\":{\"active_drag\":\"auto\",\"active_inspect\":\"auto\",\"active_multi\":null,\"active_scroll\":\"auto\",\"active_tap\":\"auto\",\"tools\":[{\"id\":\"11182\",\"type\":\"PanTool\"},{\"id\":\"11183\",\"type\":\"WheelZoomTool\"},{\"id\":\"11184\",\"type\":\"BoxZoomTool\"},{\"id\":\"11185\",\"type\":\"SaveTool\"},{\"id\":\"11186\",\"type\":\"ResetTool\"},{\"id\":\"11187\",\"type\":\"HelpTool\"}]},\"id\":\"11188\",\"type\":\"Toolbar\"},{\"attributes\":{\"source\":{\"id\":\"11195\",\"type\":\"ColumnDataSource\"}},\"id\":\"11199\",\"type\":\"CDSView\"}],\"root_ids\":[\"11161\"]},\"title\":\"Bokeh Application\",\"version\":\"1.3.4\"}};\n",
       "  var render_items = [{\"docid\":\"7e7c6a5d-8147-4a25-b193-9ac6d06e7515\",\"roots\":{\"11161\":\"54067552-48c7-48b0-9eed-b8a1c1eb1966\"}}];\n",
       "  root.Bokeh.embed.embed_items_notebook(docs_json, render_items);\n",
       "\n",
       "  }\n",
       "  if (root.Bokeh !== undefined) {\n",
       "    embed_document(root);\n",
       "  } else {\n",
       "    var attempts = 0;\n",
       "    var timer = setInterval(function(root) {\n",
       "      if (root.Bokeh !== undefined) {\n",
       "        embed_document(root);\n",
       "        clearInterval(timer);\n",
       "      }\n",
       "      attempts++;\n",
       "      if (attempts > 100) {\n",
       "        console.log(\"Bokeh: ERROR: Unable to run BokehJS code because BokehJS library is missing\");\n",
       "        clearInterval(timer);\n",
       "      }\n",
       "    }, 10, root)\n",
       "  }\n",
       "})(window);"
      ],
      "application/vnd.bokehjs_exec.v0+json": ""
     },
     "metadata": {
      "application/vnd.bokehjs_exec.v0+json": {
       "id": "11161"
      }
     },
     "output_type": "display_data"
    }
   ],
   "source": [
    "#create a figure\n",
    "p = figure(width = 500, height = 200,\n",
    "          title = 'Stars vs. Duration',\n",
    "          x_axis_label = 'stars',\n",
    "          y_axis_label = 'duration')\n",
    "#add objects to figure\n",
    "p.circle(imdb.star_rating, imdb.duration)\n",
    "#show the plot\n",
    "show(p)"
   ]
  },
  {
   "cell_type": "code",
   "execution_count": 69,
   "metadata": {},
   "outputs": [
    {
     "data": {
      "text/plain": [
       "(array([ 25, 168, 301, 259, 111,  66,  27,  14,   5,   3]),\n",
       " array([ 64. ,  81.8,  99.6, 117.4, 135.2, 153. , 170.8, 188.6, 206.4,\n",
       "        224.2, 242. ]))"
      ]
     },
     "execution_count": 69,
     "metadata": {},
     "output_type": "execute_result"
    }
   ],
   "source": [
    "np.histogram(imdb.duration)"
   ]
  },
  {
   "cell_type": "code",
   "execution_count": 70,
   "metadata": {},
   "outputs": [],
   "source": [
    "hist, edges = np.histogram(imdb.duration)"
   ]
  },
  {
   "cell_type": "code",
   "execution_count": 71,
   "metadata": {},
   "outputs": [
    {
     "data": {
      "text/html": [
       "\n",
       "\n",
       "\n",
       "\n",
       "\n",
       "\n",
       "  <div class=\"bk-root\" id=\"aafb9f6d-3fc1-492d-b3df-adab7cb753c6\" data-root-id=\"11620\"></div>\n"
      ]
     },
     "metadata": {},
     "output_type": "display_data"
    },
    {
     "data": {
      "application/javascript": [
       "(function(root) {\n",
       "  function embed_document(root) {\n",
       "    \n",
       "  var docs_json = {\"15b7960d-84c9-47d9-943b-21c0d4e33b94\":{\"roots\":{\"references\":[{\"attributes\":{\"below\":[{\"id\":\"11631\",\"type\":\"LinearAxis\"}],\"center\":[{\"id\":\"11635\",\"type\":\"Grid\"},{\"id\":\"11640\",\"type\":\"Grid\"}],\"left\":[{\"id\":\"11636\",\"type\":\"LinearAxis\"}],\"plot_height\":200,\"plot_width\":500,\"renderers\":[{\"id\":\"11657\",\"type\":\"GlyphRenderer\"}],\"title\":{\"id\":\"11621\",\"type\":\"Title\"},\"toolbar\":{\"id\":\"11647\",\"type\":\"Toolbar\"},\"x_range\":{\"id\":\"11623\",\"type\":\"DataRange1d\"},\"x_scale\":{\"id\":\"11627\",\"type\":\"LinearScale\"},\"y_range\":{\"id\":\"11625\",\"type\":\"DataRange1d\"},\"y_scale\":{\"id\":\"11629\",\"type\":\"LinearScale\"}},\"id\":\"11620\",\"subtype\":\"Figure\",\"type\":\"Plot\"},{\"attributes\":{\"source\":{\"id\":\"11654\",\"type\":\"ColumnDataSource\"}},\"id\":\"11658\",\"type\":\"CDSView\"},{\"attributes\":{},\"id\":\"12037\",\"type\":\"Selection\"},{\"attributes\":{\"bottom\":{\"value\":0},\"fill_color\":{\"value\":\"#1f77b4\"},\"left\":{\"field\":\"left\"},\"line_color\":{\"value\":\"#1f77b4\"},\"right\":{\"field\":\"right\"},\"top\":{\"field\":\"top\"}},\"id\":\"11655\",\"type\":\"Quad\"},{\"attributes\":{\"active_drag\":\"auto\",\"active_inspect\":\"auto\",\"active_multi\":null,\"active_scroll\":\"auto\",\"active_tap\":\"auto\",\"tools\":[{\"id\":\"11641\",\"type\":\"PanTool\"},{\"id\":\"11642\",\"type\":\"WheelZoomTool\"},{\"id\":\"11643\",\"type\":\"BoxZoomTool\"},{\"id\":\"11644\",\"type\":\"SaveTool\"},{\"id\":\"11645\",\"type\":\"ResetTool\"},{\"id\":\"11646\",\"type\":\"HelpTool\"}]},\"id\":\"11647\",\"type\":\"Toolbar\"},{\"attributes\":{},\"id\":\"11641\",\"type\":\"PanTool\"},{\"attributes\":{\"callback\":null,\"data\":{\"left\":{\"__ndarray__\":\"AAAAAAAAUEAzMzMzM3NUQGZmZmZm5lhAmpmZmZlZXUBmZmZmZuZgQAAAAAAAIGNAmpmZmZlZZUA0MzMzM5NnQM3MzMzMzGlAZ2ZmZmYGbEA=\",\"dtype\":\"float64\",\"shape\":[10]},\"right\":{\"__ndarray__\":\"MzMzMzNzVEBmZmZmZuZYQJqZmZmZWV1AZmZmZmbmYEAAAAAAACBjQJqZmZmZWWVANDMzMzOTZ0DNzMzMzMxpQGdmZmZmBmxAAAAAAABAbkA=\",\"dtype\":\"float64\",\"shape\":[10]},\"top\":[25,168,301,259,111,66,27,14,5,3]},\"selected\":{\"id\":\"12037\",\"type\":\"Selection\"},\"selection_policy\":{\"id\":\"12036\",\"type\":\"UnionRenderers\"}},\"id\":\"11654\",\"type\":\"ColumnDataSource\"},{\"attributes\":{\"data_source\":{\"id\":\"11654\",\"type\":\"ColumnDataSource\"},\"glyph\":{\"id\":\"11655\",\"type\":\"Quad\"},\"hover_glyph\":null,\"muted_glyph\":null,\"nonselection_glyph\":{\"id\":\"11656\",\"type\":\"Quad\"},\"selection_glyph\":null,\"view\":{\"id\":\"11658\",\"type\":\"CDSView\"}},\"id\":\"11657\",\"type\":\"GlyphRenderer\"},{\"attributes\":{},\"id\":\"12032\",\"type\":\"BasicTickFormatter\"},{\"attributes\":{},\"id\":\"11642\",\"type\":\"WheelZoomTool\"},{\"attributes\":{\"text\":\"Distribution of Duration\"},\"id\":\"11621\",\"type\":\"Title\"},{\"attributes\":{\"overlay\":{\"id\":\"12038\",\"type\":\"BoxAnnotation\"}},\"id\":\"11643\",\"type\":\"BoxZoomTool\"},{\"attributes\":{\"callback\":null},\"id\":\"11623\",\"type\":\"DataRange1d\"},{\"attributes\":{},\"id\":\"11644\",\"type\":\"SaveTool\"},{\"attributes\":{},\"id\":\"11645\",\"type\":\"ResetTool\"},{\"attributes\":{\"axis_label\":\"duration\",\"formatter\":{\"id\":\"12034\",\"type\":\"BasicTickFormatter\"},\"ticker\":{\"id\":\"11632\",\"type\":\"BasicTicker\"}},\"id\":\"11631\",\"type\":\"LinearAxis\"},{\"attributes\":{},\"id\":\"11627\",\"type\":\"LinearScale\"},{\"attributes\":{\"callback\":null},\"id\":\"11625\",\"type\":\"DataRange1d\"},{\"attributes\":{\"bottom\":{\"value\":0},\"fill_alpha\":{\"value\":0.1},\"fill_color\":{\"value\":\"#1f77b4\"},\"left\":{\"field\":\"left\"},\"line_alpha\":{\"value\":0.1},\"line_color\":{\"value\":\"#1f77b4\"},\"right\":{\"field\":\"right\"},\"top\":{\"field\":\"top\"}},\"id\":\"11656\",\"type\":\"Quad\"},{\"attributes\":{},\"id\":\"11629\",\"type\":\"LinearScale\"},{\"attributes\":{},\"id\":\"11646\",\"type\":\"HelpTool\"},{\"attributes\":{\"dimension\":1,\"ticker\":{\"id\":\"11637\",\"type\":\"BasicTicker\"}},\"id\":\"11640\",\"type\":\"Grid\"},{\"attributes\":{},\"id\":\"12034\",\"type\":\"BasicTickFormatter\"},{\"attributes\":{},\"id\":\"11632\",\"type\":\"BasicTicker\"},{\"attributes\":{\"ticker\":{\"id\":\"11632\",\"type\":\"BasicTicker\"}},\"id\":\"11635\",\"type\":\"Grid\"},{\"attributes\":{\"bottom_units\":\"screen\",\"fill_alpha\":{\"value\":0.5},\"fill_color\":{\"value\":\"lightgrey\"},\"left_units\":\"screen\",\"level\":\"overlay\",\"line_alpha\":{\"value\":1.0},\"line_color\":{\"value\":\"black\"},\"line_dash\":[4,4],\"line_width\":{\"value\":2},\"render_mode\":\"css\",\"right_units\":\"screen\",\"top_units\":\"screen\"},\"id\":\"12038\",\"type\":\"BoxAnnotation\"},{\"attributes\":{},\"id\":\"11637\",\"type\":\"BasicTicker\"},{\"attributes\":{\"formatter\":{\"id\":\"12032\",\"type\":\"BasicTickFormatter\"},\"ticker\":{\"id\":\"11637\",\"type\":\"BasicTicker\"}},\"id\":\"11636\",\"type\":\"LinearAxis\"},{\"attributes\":{},\"id\":\"12036\",\"type\":\"UnionRenderers\"}],\"root_ids\":[\"11620\"]},\"title\":\"Bokeh Application\",\"version\":\"1.3.4\"}};\n",
       "  var render_items = [{\"docid\":\"15b7960d-84c9-47d9-943b-21c0d4e33b94\",\"roots\":{\"11620\":\"aafb9f6d-3fc1-492d-b3df-adab7cb753c6\"}}];\n",
       "  root.Bokeh.embed.embed_items_notebook(docs_json, render_items);\n",
       "\n",
       "  }\n",
       "  if (root.Bokeh !== undefined) {\n",
       "    embed_document(root);\n",
       "  } else {\n",
       "    var attempts = 0;\n",
       "    var timer = setInterval(function(root) {\n",
       "      if (root.Bokeh !== undefined) {\n",
       "        embed_document(root);\n",
       "        clearInterval(timer);\n",
       "      }\n",
       "      attempts++;\n",
       "      if (attempts > 100) {\n",
       "        console.log(\"Bokeh: ERROR: Unable to run BokehJS code because BokehJS library is missing\");\n",
       "        clearInterval(timer);\n",
       "      }\n",
       "    }, 10, root)\n",
       "  }\n",
       "})(window);"
      ],
      "application/vnd.bokehjs_exec.v0+json": ""
     },
     "metadata": {
      "application/vnd.bokehjs_exec.v0+json": {
       "id": "11620"
      }
     },
     "output_type": "display_data"
    }
   ],
   "source": [
    "#create a figure\n",
    "p = figure(width = 500, height = 200,\n",
    "          title = 'Distribution of Duration',\n",
    "          x_axis_label = 'duration')\n",
    "p.quad(top = hist, bottom = 0, left = edges[:-1], right = edges[1:])\n",
    "show(p)"
   ]
  },
  {
   "cell_type": "code",
   "execution_count": 72,
   "metadata": {},
   "outputs": [
    {
     "data": {
      "text/html": [
       "\n",
       "\n",
       "\n",
       "\n",
       "\n",
       "\n",
       "  <div class=\"bk-root\" id=\"d26108a6-0b0b-4dc9-b15c-1f6aa1cf49e4\" data-root-id=\"12087\"></div>\n"
      ]
     },
     "metadata": {},
     "output_type": "display_data"
    },
    {
     "data": {
      "application/javascript": [
       "(function(root) {\n",
       "  function embed_document(root) {\n",
       "    \n",
       "  var docs_json = {\"dffe7260-2a06-4412-be27-f5449bc3cbad\":{\"roots\":{\"references\":[{\"attributes\":{\"below\":[{\"id\":\"12098\",\"type\":\"LinearAxis\"}],\"center\":[{\"id\":\"12102\",\"type\":\"Grid\"},{\"id\":\"12107\",\"type\":\"Grid\"}],\"left\":[{\"id\":\"12103\",\"type\":\"LinearAxis\"}],\"plot_height\":200,\"plot_width\":500,\"renderers\":[{\"id\":\"12124\",\"type\":\"GlyphRenderer\"}],\"title\":{\"id\":\"12088\",\"type\":\"Title\"},\"toolbar\":{\"id\":\"12114\",\"type\":\"Toolbar\"},\"x_range\":{\"id\":\"12090\",\"type\":\"DataRange1d\"},\"x_scale\":{\"id\":\"12094\",\"type\":\"LinearScale\"},\"y_range\":{\"id\":\"12092\",\"type\":\"DataRange1d\"},\"y_scale\":{\"id\":\"12096\",\"type\":\"LinearScale\"}},\"id\":\"12087\",\"subtype\":\"Figure\",\"type\":\"Plot\"},{\"attributes\":{},\"id\":\"12507\",\"type\":\"BasicTickFormatter\"},{\"attributes\":{},\"id\":\"12509\",\"type\":\"BasicTickFormatter\"},{\"attributes\":{},\"id\":\"12112\",\"type\":\"ResetTool\"},{\"attributes\":{},\"id\":\"12511\",\"type\":\"UnionRenderers\"},{\"attributes\":{\"active_drag\":\"auto\",\"active_inspect\":\"auto\",\"active_multi\":null,\"active_scroll\":\"auto\",\"active_tap\":\"auto\",\"tools\":[{\"id\":\"12108\",\"type\":\"PanTool\"},{\"id\":\"12109\",\"type\":\"WheelZoomTool\"},{\"id\":\"12110\",\"type\":\"BoxZoomTool\"},{\"id\":\"12111\",\"type\":\"SaveTool\"},{\"id\":\"12112\",\"type\":\"ResetTool\"},{\"id\":\"12113\",\"type\":\"HelpTool\"}]},\"id\":\"12114\",\"type\":\"Toolbar\"},{\"attributes\":{\"callback\":null},\"id\":\"12092\",\"type\":\"DataRange1d\"},{\"attributes\":{\"bottom\":{\"value\":0},\"fill_color\":{\"value\":\"#1f77b4\"},\"left\":{\"field\":\"left\"},\"line_color\":{\"value\":\"#1f77b4\"},\"right\":{\"field\":\"right\"},\"top\":{\"field\":\"top\"}},\"id\":\"12122\",\"type\":\"Quad\"},{\"attributes\":{\"bottom_units\":\"screen\",\"fill_alpha\":{\"value\":0.5},\"fill_color\":{\"value\":\"lightgrey\"},\"left_units\":\"screen\",\"level\":\"overlay\",\"line_alpha\":{\"value\":1.0},\"line_color\":{\"value\":\"black\"},\"line_dash\":[4,4],\"line_width\":{\"value\":2},\"render_mode\":\"css\",\"right_units\":\"screen\",\"top_units\":\"screen\"},\"id\":\"12513\",\"type\":\"BoxAnnotation\"},{\"attributes\":{},\"id\":\"12109\",\"type\":\"WheelZoomTool\"},{\"attributes\":{},\"id\":\"12113\",\"type\":\"HelpTool\"},{\"attributes\":{\"bottom\":{\"value\":0},\"fill_alpha\":{\"value\":0.1},\"fill_color\":{\"value\":\"#1f77b4\"},\"left\":{\"field\":\"left\"},\"line_alpha\":{\"value\":0.1},\"line_color\":{\"value\":\"#1f77b4\"},\"right\":{\"field\":\"right\"},\"top\":{\"field\":\"top\"}},\"id\":\"12123\",\"type\":\"Quad\"},{\"attributes\":{\"source\":{\"id\":\"12121\",\"type\":\"ColumnDataSource\"}},\"id\":\"12125\",\"type\":\"CDSView\"},{\"attributes\":{\"overlay\":{\"id\":\"12513\",\"type\":\"BoxAnnotation\"}},\"id\":\"12110\",\"type\":\"BoxZoomTool\"},{\"attributes\":{\"data_source\":{\"id\":\"12121\",\"type\":\"ColumnDataSource\"},\"glyph\":{\"id\":\"12122\",\"type\":\"Quad\"},\"hover_glyph\":null,\"muted_glyph\":null,\"nonselection_glyph\":{\"id\":\"12123\",\"type\":\"Quad\"},\"selection_glyph\":null,\"view\":{\"id\":\"12125\",\"type\":\"CDSView\"}},\"id\":\"12124\",\"type\":\"GlyphRenderer\"},{\"attributes\":{\"dimension\":1,\"ticker\":{\"id\":\"12104\",\"type\":\"BasicTicker\"}},\"id\":\"12107\",\"type\":\"Grid\"},{\"attributes\":{\"callback\":null},\"id\":\"12090\",\"type\":\"DataRange1d\"},{\"attributes\":{},\"id\":\"12099\",\"type\":\"BasicTicker\"},{\"attributes\":{},\"id\":\"12108\",\"type\":\"PanTool\"},{\"attributes\":{\"ticker\":{\"id\":\"12099\",\"type\":\"BasicTicker\"}},\"id\":\"12102\",\"type\":\"Grid\"},{\"attributes\":{\"text\":\"Distribution of Duration\"},\"id\":\"12088\",\"type\":\"Title\"},{\"attributes\":{},\"id\":\"12094\",\"type\":\"LinearScale\"},{\"attributes\":{\"callback\":null,\"data\":{\"left\":{\"__ndarray__\":\"AAAAAAAAUEC8u7u7u3tRQHh3d3d391JAMzMzMzNzVEDv7u7u7u5VQKuqqqqqaldAZmZmZmbmWEAiIiIiImJaQN7d3d3d3VtAmpmZmZlZXUBWVVVVVdVeQIiIiIiIKGBAZmZmZmbmYEBERERERKRhQCIiIiIiYmJAAAAAAAAgY0De3d3d3d1jQLy7u7u7m2RAmpmZmZlZZUB4d3d3dxdmQFZVVVVV1WZANDMzMzOTZ0AREREREVFoQO/u7u7uDmlAzczMzMzMaUCrqqqqqopqQImIiIiISGtAZ2ZmZmYGbEBERERERMRsQCIiIiIigm1A\",\"dtype\":\"float64\",\"shape\":[30]},\"right\":{\"__ndarray__\":\"vLu7u7t7UUB4d3d3d/dSQDMzMzMzc1RA7+7u7u7uVUCrqqqqqmpXQGZmZmZm5lhAIiIiIiJiWkDe3d3d3d1bQJqZmZmZWV1AVlVVVVXVXkCIiIiIiChgQGZmZmZm5mBARERERESkYUAiIiIiImJiQAAAAAAAIGNA3t3d3d3dY0C8u7u7u5tkQJqZmZmZWWVAeHd3d3cXZkBWVVVVVdVmQDQzMzMzk2dAERERERFRaEDv7u7u7g5pQM3MzMzMzGlAq6qqqqqKakCJiIiIiEhrQGdmZmZmBmxARERERETEbEAiIiIiIoJtQAAAAAAAQG5A\",\"dtype\":\"float64\",\"shape\":[30]},\"top\":[6,3,16,28,60,80,104,90,107,95,95,69,55,37,19,29,17,20,9,12,6,7,4,3,2,1,2,1,0,2]},\"selected\":{\"id\":\"12512\",\"type\":\"Selection\"},\"selection_policy\":{\"id\":\"12511\",\"type\":\"UnionRenderers\"}},\"id\":\"12121\",\"type\":\"ColumnDataSource\"},{\"attributes\":{\"axis_label\":\"duration\",\"formatter\":{\"id\":\"12509\",\"type\":\"BasicTickFormatter\"},\"ticker\":{\"id\":\"12099\",\"type\":\"BasicTicker\"}},\"id\":\"12098\",\"type\":\"LinearAxis\"},{\"attributes\":{},\"id\":\"12512\",\"type\":\"Selection\"},{\"attributes\":{},\"id\":\"12096\",\"type\":\"LinearScale\"},{\"attributes\":{},\"id\":\"12111\",\"type\":\"SaveTool\"},{\"attributes\":{},\"id\":\"12104\",\"type\":\"BasicTicker\"},{\"attributes\":{\"formatter\":{\"id\":\"12507\",\"type\":\"BasicTickFormatter\"},\"ticker\":{\"id\":\"12104\",\"type\":\"BasicTicker\"}},\"id\":\"12103\",\"type\":\"LinearAxis\"}],\"root_ids\":[\"12087\"]},\"title\":\"Bokeh Application\",\"version\":\"1.3.4\"}};\n",
       "  var render_items = [{\"docid\":\"dffe7260-2a06-4412-be27-f5449bc3cbad\",\"roots\":{\"12087\":\"d26108a6-0b0b-4dc9-b15c-1f6aa1cf49e4\"}}];\n",
       "  root.Bokeh.embed.embed_items_notebook(docs_json, render_items);\n",
       "\n",
       "  }\n",
       "  if (root.Bokeh !== undefined) {\n",
       "    embed_document(root);\n",
       "  } else {\n",
       "    var attempts = 0;\n",
       "    var timer = setInterval(function(root) {\n",
       "      if (root.Bokeh !== undefined) {\n",
       "        embed_document(root);\n",
       "        clearInterval(timer);\n",
       "      }\n",
       "      attempts++;\n",
       "      if (attempts > 100) {\n",
       "        console.log(\"Bokeh: ERROR: Unable to run BokehJS code because BokehJS library is missing\");\n",
       "        clearInterval(timer);\n",
       "      }\n",
       "    }, 10, root)\n",
       "  }\n",
       "})(window);"
      ],
      "application/vnd.bokehjs_exec.v0+json": ""
     },
     "metadata": {
      "application/vnd.bokehjs_exec.v0+json": {
       "id": "12087"
      }
     },
     "output_type": "display_data"
    }
   ],
   "source": [
    "hist, edges = np.histogram(imdb.duration, bins = 30)\n",
    "#create a figure\n",
    "p = figure(width = 500, height = 200,\n",
    "          title = 'Distribution of Duration',\n",
    "          x_axis_label = 'duration')\n",
    "p.quad(top = hist, bottom = 0, left = edges[:-1], right = edges[1:])\n",
    "show(p)"
   ]
  },
  {
   "cell_type": "markdown",
   "metadata": {},
   "source": [
    "### PROBLEM\n"
   ]
  },
  {
   "cell_type": "code",
   "execution_count": null,
   "metadata": {},
   "outputs": [],
   "source": []
  },
  {
   "cell_type": "code",
   "execution_count": null,
   "metadata": {},
   "outputs": [],
   "source": []
  },
  {
   "cell_type": "code",
   "execution_count": null,
   "metadata": {},
   "outputs": [],
   "source": []
  },
  {
   "cell_type": "code",
   "execution_count": null,
   "metadata": {},
   "outputs": [],
   "source": []
  },
  {
   "cell_type": "markdown",
   "metadata": {},
   "source": [
    "### Column Data Source"
   ]
  },
  {
   "cell_type": "code",
   "execution_count": 73,
   "metadata": {},
   "outputs": [],
   "source": [
    "from bokeh.models import ColumnDataSource"
   ]
  },
  {
   "cell_type": "code",
   "execution_count": 74,
   "metadata": {},
   "outputs": [],
   "source": [
    "source = ColumnDataSource(data = imdb)"
   ]
  },
  {
   "cell_type": "code",
   "execution_count": 75,
   "metadata": {},
   "outputs": [
    {
     "data": {
      "text/html": [
       "\n",
       "\n",
       "\n",
       "\n",
       "\n",
       "\n",
       "  <div class=\"bk-root\" id=\"92a0c8bf-dfe5-43eb-ab54-3a4941b920fa\" data-root-id=\"12563\"></div>\n"
      ]
     },
     "metadata": {},
     "output_type": "display_data"
    },
    {
     "data": {
      "application/javascript": [
       "(function(root) {\n",
       "  function embed_document(root) {\n",
       "    \n",
       "  var docs_json = {\"8bd471a7-24ca-47b8-9020-be153bdd06dd\":{\"roots\":{\"references\":[{\"attributes\":{\"below\":[{\"id\":\"12572\",\"type\":\"LinearAxis\"}],\"center\":[{\"id\":\"12576\",\"type\":\"Grid\"},{\"id\":\"12581\",\"type\":\"Grid\"}],\"left\":[{\"id\":\"12577\",\"type\":\"LinearAxis\"}],\"plot_height\":200,\"renderers\":[{\"id\":\"12598\",\"type\":\"GlyphRenderer\"}],\"title\":{\"id\":\"12988\",\"type\":\"Title\"},\"toolbar\":{\"id\":\"12588\",\"type\":\"Toolbar\"},\"x_range\":{\"id\":\"12564\",\"type\":\"DataRange1d\"},\"x_scale\":{\"id\":\"12568\",\"type\":\"LinearScale\"},\"y_range\":{\"id\":\"12566\",\"type\":\"DataRange1d\"},\"y_scale\":{\"id\":\"12570\",\"type\":\"LinearScale\"}},\"id\":\"12563\",\"subtype\":\"Figure\",\"type\":\"Plot\"},{\"attributes\":{\"fill_alpha\":{\"value\":0.1},\"fill_color\":{\"value\":\"#1f77b4\"},\"line_alpha\":{\"value\":0.1},\"line_color\":{\"value\":\"#1f77b4\"},\"x\":{\"field\":\"duration\"},\"y\":{\"field\":\"star_rating\"}},\"id\":\"12597\",\"type\":\"Circle\"},{\"attributes\":{},\"id\":\"12578\",\"type\":\"BasicTicker\"},{\"attributes\":{},\"id\":\"12587\",\"type\":\"HelpTool\"},{\"attributes\":{\"formatter\":{\"id\":\"12992\",\"type\":\"BasicTickFormatter\"},\"ticker\":{\"id\":\"12573\",\"type\":\"BasicTicker\"}},\"id\":\"12572\",\"type\":\"LinearAxis\"},{\"attributes\":{\"callback\":null},\"id\":\"12564\",\"type\":\"DataRange1d\"},{\"attributes\":{\"data_source\":{\"id\":\"12562\",\"type\":\"ColumnDataSource\"},\"glyph\":{\"id\":\"12596\",\"type\":\"Circle\"},\"hover_glyph\":null,\"muted_glyph\":null,\"nonselection_glyph\":{\"id\":\"12597\",\"type\":\"Circle\"},\"selection_glyph\":null,\"view\":{\"id\":\"12599\",\"type\":\"CDSView\"}},\"id\":\"12598\",\"type\":\"GlyphRenderer\"},{\"attributes\":{},\"id\":\"12570\",\"type\":\"LinearScale\"},{\"attributes\":{\"fill_color\":{\"value\":\"#1f77b4\"},\"line_color\":{\"value\":\"#1f77b4\"},\"x\":{\"field\":\"duration\"},\"y\":{\"field\":\"star_rating\"}},\"id\":\"12596\",\"type\":\"Circle\"},{\"attributes\":{},\"id\":\"12990\",\"type\":\"BasicTickFormatter\"},{\"attributes\":{},\"id\":\"12573\",\"type\":\"BasicTicker\"},{\"attributes\":{},\"id\":\"12995\",\"type\":\"Selection\"},{\"attributes\":{\"ticker\":{\"id\":\"12573\",\"type\":\"BasicTicker\"}},\"id\":\"12576\",\"type\":\"Grid\"},{\"attributes\":{},\"id\":\"12994\",\"type\":\"UnionRenderers\"},{\"attributes\":{\"dimension\":1,\"ticker\":{\"id\":\"12578\",\"type\":\"BasicTicker\"}},\"id\":\"12581\",\"type\":\"Grid\"},{\"attributes\":{\"text\":\"\"},\"id\":\"12988\",\"type\":\"Title\"},{\"attributes\":{},\"id\":\"12568\",\"type\":\"LinearScale\"},{\"attributes\":{},\"id\":\"12992\",\"type\":\"BasicTickFormatter\"},{\"attributes\":{\"formatter\":{\"id\":\"12990\",\"type\":\"BasicTickFormatter\"},\"ticker\":{\"id\":\"12578\",\"type\":\"BasicTicker\"}},\"id\":\"12577\",\"type\":\"LinearAxis\"},{\"attributes\":{\"active_drag\":\"auto\",\"active_inspect\":\"auto\",\"active_multi\":null,\"active_scroll\":\"auto\",\"active_tap\":\"auto\",\"tools\":[{\"id\":\"12582\",\"type\":\"PanTool\"},{\"id\":\"12583\",\"type\":\"WheelZoomTool\"},{\"id\":\"12584\",\"type\":\"BoxZoomTool\"},{\"id\":\"12585\",\"type\":\"SaveTool\"},{\"id\":\"12586\",\"type\":\"ResetTool\"},{\"id\":\"12587\",\"type\":\"HelpTool\"}]},\"id\":\"12588\",\"type\":\"Toolbar\"},{\"attributes\":{\"bottom_units\":\"screen\",\"fill_alpha\":{\"value\":0.5},\"fill_color\":{\"value\":\"lightgrey\"},\"left_units\":\"screen\",\"level\":\"overlay\",\"line_alpha\":{\"value\":1.0},\"line_color\":{\"value\":\"black\"},\"line_dash\":[4,4],\"line_width\":{\"value\":2},\"render_mode\":\"css\",\"right_units\":\"screen\",\"top_units\":\"screen\"},\"id\":\"12996\",\"type\":\"BoxAnnotation\"},{\"attributes\":{\"source\":{\"id\":\"12562\",\"type\":\"ColumnDataSource\"}},\"id\":\"12599\",\"type\":\"CDSView\"},{\"attributes\":{},\"id\":\"12582\",\"type\":\"PanTool\"},{\"attributes\":{\"callback\":null},\"id\":\"12566\",\"type\":\"DataRange1d\"},{\"attributes\":{},\"id\":\"12583\",\"type\":\"WheelZoomTool\"},{\"attributes\":{\"overlay\":{\"id\":\"12996\",\"type\":\"BoxAnnotation\"}},\"id\":\"12584\",\"type\":\"BoxZoomTool\"},{\"attributes\":{\"callback\":null,\"data\":{\"actors_list\":[\"[u'Tim Robbins', u'Morgan Freeman', u'Bob Gunton']\",\"[u'Marlon Brando', u'Al Pacino', u'James Caan']\",\"[u'Al Pacino', u'Robert De Niro', u'Robert Duvall']\",\"[u'Christian Bale', u'Heath Ledger', u'Aaron Eckhart']\",\"[u'John Travolta', u'Uma Thurman', u'Samuel L. Jackson']\",\"[u'Henry Fonda', u'Lee J. Cobb', u'Martin Balsam']\",\"[u'Clint Eastwood', u'Eli Wallach', u'Lee Van Cleef']\",\"[u'Elijah Wood', u'Viggo Mortensen', u'Ian McKellen']\",\"[u'Liam Neeson', u'Ralph Fiennes', u'Ben Kingsley']\",\"[u'Brad Pitt', u'Edward Norton', u'Helena Bonham Carter']\",\"[u'Elijah Wood', u'Ian McKellen', u'Orlando Bloom']\",\"[u'Leonardo DiCaprio', u'Joseph Gordon-Levitt', u'Ellen Page']\",\"[u'Mark Hamill', u'Harrison Ford', u'Carrie Fisher']\",\"[u'Tom Hanks', u'Robin Wright', u'Gary Sinise']\",\"[u'Elijah Wood', u'Ian McKellen', u'Viggo Mortensen']\",\"[u'Matthew McConaughey', u'Anne Hathaway', u'Jessica Chastain']\",\"[u'Jack Nicholson', u'Louise Fletcher', u'Michael Berryman']\",\"[u'Toshir\\\\xf4 Mifune', u'Takashi Shimura', u'Keiko Tsushima']\",\"[u'Robert De Niro', u'Ray Liotta', u'Joe Pesci']\",\"[u'Mark Hamill', u'Harrison Ford', u'Carrie Fisher']\",\"[u'Keanu Reeves', u'Laurence Fishburne', u'Carrie-Anne Moss']\",\"[u'Alexandre Rodrigues', u'Matheus Nachtergaele', u'Leandro Firmino']\",\"[u'James Stewart', u'Donna Reed', u'Lionel Barrymore']\",\"[u'Kevin Spacey', u'Gabriel Byrne', u'Chazz Palminteri']\",\"[u'Morgan Freeman', u'Brad Pitt', u'Kevin Spacey']\",\"[u'Roberto Benigni', u'Nicoletta Braschi', u'Giorgio Cantarini']\",\"[u'Henry Fonda', u'Charles Bronson', u'Claudia Cardinale']\",\"[u'Jodie Foster', u'Anthony Hopkins', u'Lawrence A. Bonney']\",\"[u'Jean Reno', u'Gary Oldman', u'Natalie Portman']\",\"[u'Charles Chaplin', u'Virginia Cherrill', u'Florence Lee']\",\"[u'Daveigh Chase', u'Suzanne Pleshette', u'Miyu Irino']\",\"[u'Fran\\\\xe7ois Cluzet', u'Omar Sy', u'Anne Le Ny']\",\"[u'Humphrey Bogart', u'Ingrid Bergman', u'Paul Henreid']\",\"[u'Miles Teller', u'J.K. Simmons', u'Melissa Benoist']\",\"[u'Edward Norton', u'Edward Furlong', u\\\"Beverly D'Angelo\\\"]\",\"[u'Charles Chaplin', u'Paulette Goddard', u'Henry Bergman']\",\"[u'Tom Hanks', u'Matt Damon', u'Tom Sizemore']\",\"[u'Harrison Ford', u'Karen Allen', u'Paul Freeman']\",\"[u'James Stewart', u'Grace Kelly', u'Wendell Corey']\",\"[u'Anthony Perkins', u'Janet Leigh', u'Vera Miles']\",\"[u'Tom Hanks', u'Michael Clarke Duncan', u'David Morse']\",\"[u'William Holden', u'Gloria Swanson', u'Erich von Stroheim']\",\"[u'Adrien Brody', u'Thomas Kretschmann', u'Frank Finlay']\",\"[u'Christian Bale', u'Tom Hardy', u'Anne Hathaway']\",\"[u'Russell Crowe', u'Joaquin Phoenix', u'Connie Nielsen']\",\"[u'Arnold Schwarzenegger', u'Linda Hamilton', u'Edward Furlong']\",\"[u'Guy Pearce', u'Carrie-Anne Moss', u'Joe Pantoliano']\",\"[u'Darsheel Safary', u'Aamir Khan', u'Tanay Chheda']\",\"[u'Peter Sellers', u'George C. Scott', u'Sterling Hayden']\",\"[u'Leonardo DiCaprio', u'Matt Damon', u'Jack Nicholson']\",\"[u'Philippe Noiret', u'Enzo Cannavale', u'Antonella Attili']\",\"[u'Martin Sheen', u'Marlon Brando', u'Robert Duvall']\",\"[u'Charles Chaplin', u'Paulette Goddard', u'Jack Oakie']\",\"[u'Christian Bale', u'Hugh Jackman', u'Scarlett Johansson']\",\"[u'Michael J. Fox', u'Christopher Lloyd', u'Lea Thompson']\",\"[u'Matthew Broderick', u'Jeremy Irons', u'James Earl Jones']\",\"[u'Ulrich M\\\\xfche', u'Martina Gedeck', u'Sebastian Koch']\",\"[u'Sigourney Weaver', u'Tom Skerritt', u'John Hurt']\",\"[u'Kirk Douglas', u'Ralph Meeker', u'Adolphe Menjou']\",\"[u'Jamie Foxx', u'Christoph Waltz', u'Leonardo DiCaprio']\",\"[u'Aamir Khan', u'Madhavan', u'Mona Singh']\",\"[u'Tsutomu Tatsumi', u'Ayano Shiraishi', u'Akemi Yamaguchi']\",\"[u'Jack Nicholson', u'Shelley Duvall', u'Danny Lloyd']\",\"[u'Peter Lorre', u'Ellen Widmann', u'Inge Landgut']\",\"[u'Ben Burtt', u'Elissa Knight', u'Jeff Garlin']\",\"[u'Tyrone Power', u'Marlene Dietrich', u'Charles Laughton']\",\"[u'Sunil Dutt', u'Sanjay Dutt', u'Arshad Warsi']\",\"[u'Kevin Spacey', u'Annette Bening', u'Thora Birch']\",\"[u'J\\\\xfcrgen Prochnow', u'Herbert Gr\\\\xf6nemeyer', u'Klaus Wennemann']\",\"[u'Y\\\\xf4ji Matsuda', u'Yuriko Ishida', u'Y\\\\xfbko Tanaka']\",\"[u'Audrey Tautou', u'Mathieu Kassovitz', u'Rufus']\",\"[u'Cary Grant', u'Eva Marie Saint', u'James Mason']\",\"[u'Aamir Khan', u'Soha Ali Khan', u'Siddharth']\",\"[u'Peyman Moaadi', u'Leila Hatami', u'Sareh Bayat']\",\"[u'Orson Welles', u'Joseph Cotten', u'Dorothy Comingore']\",\"[u'Sigourney Weaver', u'Michael Biehn', u'Carrie Henn']\",\"[u'James Stewart', u'Kim Novak', u'Barbara Bel Geddes']\",\"[u'Min-sik Choi', u'Ji-tae Yu', u'Hye-jeong Kang']\",\"[u'Robert De Niro', u'James Woods', u'Elizabeth McGovern']\",\"[u'Fred MacMurray', u'Barbara Stanwyck', u'Edward G. Robinson']\",\"[u'Mark Hamill', u'Harrison Ford', u'Carrie Fisher']\",\"[u'Tom Hanks', u'Tim Allen', u'Joan Cusack']\",\"[u'Mel Gibson', u'Sophie Marceau', u'Patrick McGoohan']\",\"[u'Gregory Peck', u'John Megna', u'Frank Overton']\",\"[u'Ellen Burstyn', u'Jared Leto', u'Jennifer Connelly']\",\"[u\\\"Peter O'Toole\\\", u'Alec Guinness', u'Anthony Quinn']\",\"[u'Malcolm McDowell', u'Patrick Magee', u'Michael Bates']\",\"[u'Lamberto Maggiorani', u'Enzo Staiola', u'Lianella Carell']\",\"[u'Charles Chaplin', u'Edna Purviance', u'Jackie Coogan']\",\"[u'Shah Rukh Khan', u'Gayatri Joshi', u'Kishori Balal']\",\"[u'Harvey Keitel', u'Tim Roth', u'Michael Madsen']\",\"[u'Jim Carrey', u'Kate Winslet', u'Tom Wilkinson']\",\"[u'Robert De Niro', u'Jodie Foster', u'Cybill Shepherd']\",\"[u'Shah Rukh Khan', u'Kajol', u'Amrish Puri']\",\"[u'Gene Kelly', u\\\"Donald O'Connor\\\", u'Debbie Reynolds']\",\"[u'Bette Davis', u'Anne Baxter', u'George Sanders']\",\"[u'Toshir\\\\xf4 Mifune', u'Eijir\\\\xf4 T\\\\xf4no', u'Tatsuya Nakadai']\",\"[u'Paul Newman', u'Robert Redford', u'Robert Shaw']\",\"[u'Toshir\\\\xf4 Mifune', u'Machiko Ky\\\\xf4', u'Masayuki Mori']\",\"[u'F. Murray Abraham', u'Tom Hulce', u'Elizabeth Berridge']\",\"[u'Humphrey Bogart', u'Walter Huston', u'Tim Holt']\",\"[u'Graham Chapman', u'John Cleese', u'Eric Idle']\",\"[u'Matthew Modine', u'R. Lee Ermey', u\\\"Vincent D'Onofrio\\\"]\",\"[u'Jack Lemmon', u'Shirley MacLaine', u'Fred MacMurray']\",\"[u'Takashi Shimura', u'Nobuo Kaneko', u\\\"Shin'ichi Himori\\\"]\",\"[u'Orson Welles', u'Joseph Cotten', u'Alida Valli']\",\"[u'Jason Statham', u'Brad Pitt', u'Benicio Del Toro']\",\"[u'Clint Eastwood', u'Lee Van Cleef', u'Gian Maria Volont\\\\xe9']\",\"[u'Brigitte Helm', u'Alfred Abel', u'Gustav Fr\\\\xf6hlich']\",\"[u'Aamir Khan', u'Saif Ali Khan', u'Akshaye Khanna']\",\"[u'Keir Dullea', u'Gary Lockwood', u'William Sylvester']\",\"[u'Marilyn Monroe', u'Tony Curtis', u'Jack Lemmon']\",\"[u'Kevin Spacey', u'Russell Crowe', u'Guy Pearce']\",\"[u'Christian Bale', u'Michael Caine', u'Ken Watanabe']\",\"[u'Brad Pitt', u'Diane Kruger', u'Eli Roth']\",\"[u'Al Pacino', u'Michelle Pfeiffer', u'Steven Bauer']\",\"[u'James Stewart', u'Jean Arthur', u'Claude Rains']\",\"[u'Tom Hanks', u'Tim Allen', u'Don Rickles']\",\"[u'Harrison Ford', u'Sean Connery', u'Alison Doody']\",\"[u'Clint Eastwood', u'Gene Hackman', u'Morgan Freeman']\",\"[u'Steve McQueen', u'James Garner', u'Richard Attenborough']\",\"[u'Mads Mikkelsen', u'Thomas Bo Larsen', u'Annika Wedderkopp']\",\"[u'Marlon Brando', u'Karl Malden', u'Lee J. Cobb']\",\"[u'Buster Keaton', u'Marion Mack', u'Glen Cavender']\",\"[u'Robert De Niro', u'Cathy Moriarty', u'Joe Pesci']\",\"[u'Bruno Ganz', u'Alexandra Maria Lara', u'Ulrich Matthes']\",\"[u'Edward Asner', u'Jordan Nagai', u'John Ratzenberger']\",\"[u'Victor Sj\\\\xf6str\\\\xf6m', u'Bibi Andersson', u'Ingrid Thulin']\",\"[u'Charles Chaplin', u'Mack Swain', u'Tom Murray']\",\"[u'Tatsuya Nakadai', u'Akira Terao', u'Jinpachi Nezu']\",\"[u'Jack Nicholson', u'Faye Dunaway', u'John Huston']\",\"[u'Hitoshi Takagi', u'Noriko Hidaka', u'Chika Sakamoto']\",\"[u'Spencer Tracy', u'Burt Lancaster', u'Richard Widmark']\",\"[u'Ranbir Kapoor', u'Priyanka Chopra', u'Ileana']\",\"[u'Max von Sydow', u'Gunnar Bj\\\\xf6rnstrand', u'Bengt Ekerot']\",\"[u'Al Pacino', u'Robert De Niro', u'Val Kilmer']\",\"[u'Ivana Baquero', u'Ariadna Gil', u'Sergi L\\\\xf3pez']\",\"[u'William Holden', u'Alec Guinness', u'Jack Hawkins']\",\"[u'Bruce Willis', u'Alan Rickman', u'Bonnie Bedelia']\",\"[u'Robin Williams', u'Matt Damon', u'Ben Affleck']\",\"[u'Yves Montand', u'Charles Vanel', u'Peter van Eyck']\",\"[u'Ricardo Dar\\\\xedn', u'Soledad Villamil', u'Pablo Rago']\",\"[u'Aamir Khan', u'Gracy Singh', u'Rachel Shelley']\",\"[u'Leonardo DiCaprio', u'Jonah Hill', u'Margot Robbie']\",\"[u'Clark Gable', u'Claudette Colbert', u'Walter Connolly']\",\"[u'Harrison Ford', u'Rutger Hauer', u'Sean Young']\",\"[u'Tom Hardy', u'Nick Nolte', u'Joel Edgerton']\",\"[u'Chieko Baish\\\\xf4', u'Takuya Kimura', u'Tatsuya Gash\\\\xfbin']\",\"[u'Anthony Hopkins', u'John Hurt', u'Anne Bancroft']\",\"[u'Laurence Olivier', u'Joan Fontaine', u'George Sanders']\",\"[u'Lubna Azabal', u'M\\\\xe9lissa D\\\\xe9sormeaux-Poulin', u'Maxim Gaudette']\",\"[u'Jason Flemyng', u'Dexter Fletcher', u'Nick Moran']\",\"[u'Hugo Weaving', u'Natalie Portman', u'Rupert Graves']\",\"[u'Jeff Bridges', u'John Goodman', u'Julianne Moore']\",\"[u'Paul Newman', u'George Kennedy', u'Strother Martin']\",\"[u'Dar\\\\xedo Grandinetti', u'Mar\\\\xeda Marull', u'M\\\\xf3nica Villa']\",\"[u'Robert De Niro', u'Sharon Stone', u'Joe Pesci']\",\"[u'Clark Gable', u'Vivien Leigh', u'Thomas Mitchell']\",\"[u'Ben Affleck', u'Rosamund Pike', u'Neil Patrick Harris']\",\"[u'Fredric March', u'Dana Andrews', u'Myrna Loy']\",\"[u'Jay Baruchel', u'Gerard Butler', u'Christopher Mintz-Plasse']\",\"[u'Simone Signoret', u'V\\\\xe9ra Clouzot', u'Paul Meurisse']\",\"[u'Clint Eastwood', u'Bee Vang', u'Christopher Carley']\",\"[u'Daniel Br\\\\xfchl', u'Chris Hemsworth', u'Olivia Wilde']\",\"[u'Emile Hirsch', u'Vince Vaughn', u'Catherine Keener']\",\"[u'Tae-hyun Cha', u'Gianna Jun', u'In-mun Kim']\",\"[u'Robert De Niro', u'Christopher Walken', u'John Cazale']\",\"[u'Toni Collette', u'Philip Seymour Hoffman', u'Eric Bana']\",\"[u'Richard Gere', u'Joan Allen', u'Cary-Hiroyuki Tagawa']\",\"[u'Humphrey Bogart', u'Mary Astor', u'Gladys George']\",\"[u'Russell Crowe', u'Ed Harris', u'Jennifer Connelly']\",\"[u'Ray Milland', u'Grace Kelly', u'Robert Cummings']\",\"[u'Ewan McGregor', u'Ewen Bremner', u'Jonny Lee Miller']\",\"[u'Dong-gun Jang', u'Bin Won', u'Eun-ju Lee']\",\"[u'Bibi Andersson', u'Liv Ullmann', u'Margaretha Krook']\",\"[u'Charlton Heston', u'Orson Welles', u'Janet Leigh']\",\"[u'William H. Macy', u'Frances McDormand', u'Steve Buscemi']\",\"[u'Robert Downey Jr.', u'Chris Evans', u'Scarlett Johansson']\",\"[u'Jean-Pierre L\\\\xe9aud', u'Albert R\\\\xe9my', u'Claire Maurier']\",\"[u'Cary Elwes', u'Mandy Patinkin', u'Robin Wright']\",\"[u'Don Cheadle', u'Sophie Okonedo', u'Joaquin Phoenix']\",\"[u'Alisa Freyndlikh', u'Aleksandr Kaydanovskiy', u'Anatoliy Solonitsyn']\",\"[u'Brahim Hadjadj', u'Jean Martin', u'Yacef Saadi']\",\"[u'Predrag Manojlovic', u'Lazar Ristovski', u'Mirjana Jokovic']\",\"[u'Bertil Guve', u'Pernilla Allwin', u'Kristina Adolphson']\",\"[u'Faye Dunaway', u'William Holden', u'Peter Finch']\",\"[u'Kurt Russell', u'Wilford Brimley', u'Keith David']\",\"[u'Paul Newman', u'Robert Redford', u'Katharine Ross']\",\"[u'Henry Fonda', u'Jane Darwell', u'John Carradine']\",\"[u'Bajram Severdzan', u'Srdjan Todorovic', u'Branka Katic']\",\"[u'Graham Chapman', u'John Cleese', u'Michael Palin']\",\"[u'Bruce Willis', u'Haley Joel Osment', u'Toni Collette']\",\"[u'Albert Brooks', u'Ellen DeGeneres', u'Alexander Gould']\",\"[u'Sumi Shimamoto', u'Mahito Tsujimura', u'Hisako Ky\\\\xf4da']\",\"[u'Colin Firth', u'Taron Egerton', u'Samuel L. Jackson']\",\"[u'Charlie Sheen', u'Tom Berenger', u'Willem Dafoe']\",\"[u'Chris Pratt', u'Vin Diesel', u'Bradley Cooper']\",\"[u'Daniel Day-Lewis', u'Pete Postlethwaite', u'Alison Crosbie']\",\"[u'Uma Thurman', u'David Carradine', u'Daryl Hannah']\",\"[u'Tommy Lee Jones', u'Javier Bardem', u'Josh Brolin']\",\"[u'Alain Delon', u'Nathalie Delon', u'Fran\\\\xe7ois P\\\\xe9rier']\",\"[u'Chiwetel Ejiofor', u'Michael Kenneth Williams', u'Michael Fassbender']\",\"[u'Tim Roth', u'Pruitt Taylor Vince', u'Bill Nunn']\",\"[u'Marcello Mastroianni', u'Anouk Aim\\\\xe9e', u'Claudia Cardinale']\",\"[u'Charlton Heston', u'Jack Hawkins', u'Stephen Boyd']\",\"[u'Emilio Echevarr\\\\xeda', u'Gael Garc\\\\xeda Bernal', u'Goya Toledo']\",\"[u'Wil Wheaton', u'River Phoenix', u'Corey Feldman']\",\"[u'Bette Davis', u'Joan Crawford', u'Victor Buono']\",\"[u'Woody Allen', u'Diane Keaton', u'Tony Roberts']\",\"[u'Benedict Cumberbatch', u'Keira Knightley', u'Matthew Goode']\",\"[u'Gene Tierney', u'Dana Andrews', u'Clifton Webb']\",\"[u'Masahiro Motoki', u'Ry\\\\xf4ko Hirosue', u'Tsutomu Yamazaki']\",\"[u'Andy Lau', u'Tony Chiu Wai Leung', u'Anthony Chau-Sang Wong']\",\"[u'Daniel Day-Lewis', u'Paul Dano', u'Ciar\\\\xe1n Hinds']\",\"[u'Ralph Fiennes', u'F. Murray Abraham', u'Mathieu Amalric']\",\"[u'Anthony Quinn', u'Giulietta Masina', u'Richard Basehart']\",\"[u'Mickey Rourke', u'Clive Owen', u'Bruce Willis']\",\"[u'Kang-ho Song', u'Sang-kyung Kim', u'Roe-ha Kim']\",\"[u'Jake Gyllenhaal', u'Jena Malone', u'Mary McDonnell']\",\"[u'Elizabeth Taylor', u'Richard Burton', u'George Segal']\",\"[u'Ben Kingsley', u'John Gielgud', u'Candice Bergen']\",\"[u'Natalya Bondarchuk', u'Donatas Banionis', u'J\\\\xfcri J\\\\xe4rvet']\",\"[u'Daniel Radcliffe', u'Emma Watson', u'Rupert Grint']\",\"[u'Harry Dean Stanton', u'Nastassja Kinski', u'Dean Stockwell']\",\"[u'Judy Garland', u'Frank Morgan', u'Ray Bolger']\",\"[u'Seung-yeon Lee', u'Hyun-kyoon Lee', u'Hyuk-ho Kwon']\",\"[u'Ellar Coltrane', u'Patricia Arquette', u'Ethan Hawke']\",\"[u'Hilary Swank', u'Clint Eastwood', u'Morgan Freeman']\",\"[u'Timothy Bottoms', u'Jeff Bridges', u'Cybill Shepherd']\",\"[u'Farley Granger', u'Robert Walker', u'Ruth Roman']\",\"[u'Elizabeth Taylor', u'Paul Newman', u'Burl Ives']\",\"[u'Marcello Mastroianni', u'Anita Ekberg', u'Anouk Aim\\\\xe9e']\",\"[u'Brigitte Lin', u'Takeshi Kaneshiro', u'Tony Chiu Wai Leung']\",\"[u'Robert Mitchum', u'Shelley Winters', u'Lillian Gish']\",\"[u'Vincent Cassel', u'Hubert Kound\\\\xe9', u'Sa\\\\xefd Taghmaoui']\",\"[u'Donnie Yen', u'Simon Yam', u'Siu-Wong Fan']\",\"[u'Gary Cooper', u'Grace Kelly', u'Thomas Mitchell']\",\"[u'Cary Grant', u'Ingrid Bergman', u'Claude Rains']\",\"[u'Ethan Hawke', u'Julie Delpy', u'Andrea Eckert']\",\"[u'Wagner Moura', u'Irandhir Santos', u'Andr\\\\xe9 Ramiro']\",\"[u'Matt Damon', u'\\\\xc9dgar Ram\\\\xedrez', u'Joan Allen']\",\"[u'Anna Paquin', u'James Van Der Beek', u'Cloris Leachman']\",\"[u'Ulrich Thomsen', u'Henning Moritzen', u'Thomas Bo Larsen']\",\"[u'Ki-duk Kim', u'Yeong-su Oh', u'Jong-ho Kim']\",\"[u'Leonardo DiCaprio', u'Emily Mortimer', u'Mark Ruffalo']\",\"[u\\\"Ryan O'Neal\\\", u'Marisa Berenson', u'Patrick Magee']\",\"[u'William Holden', u'Don Taylor', u'Otto Preminger']\",\"[u'Ir\\\\xe8ne Jacob', u'Jean-Louis Trintignant', u'Fr\\\\xe9d\\\\xe9rique Feder']\",\"[u'Patrick Stewart', u'Ian McKellen', u'Hugh Jackman']\",\"[u'Laurence Olivier', u'Michael Caine', u'Alec Cawthorne']\",\"[u'Tony Chiu Wai Leung', u'Maggie Cheung', u'Ping Lam Siu']\",\"[u'James Stewart', u'John Wayne', u'Vera Miles']\",\"[u'Cary Grant', u'Priscilla Lane', u'Raymond Massey']\",\"[u'Humphrey Bogart', u'Lauren Bacall', u'John Ridgely']\",\"[u'Gregory Peck', u'Audrey Hepburn', u'Eddie Albert']\",\"[u'Cary Grant', u'Katharine Hepburn', u'James Stewart']\",\"[u'Nozomu Sasaki', u'Mami Koyama', u'Mitsuo Iwata']\",\"[u'James Stewart', u'Lee Remick', u'Ben Gazzara']\",\"[u'Werner Krauss', u'Conrad Veidt', u'Friedrich Feher']\",\"[u'Emma Stone', u'Viola Davis', u'Octavia Spencer']\",\"[u'Javier Bardem', u'Bel\\\\xe9n Rueda', u'Lola Due\\\\xf1as']\",\"[u'Wagner Moura', u'Andr\\\\xe9 Ramiro', u'Caio Junqueira']\",\"[u'Paul Newman', u'Jackie Gleason', u'Piper Laurie']\",\"[u'John Wayne', u'Dean Martin', u'Ricky Nelson']\",\"[u'Bruce Willis', u'Madeleine Stowe', u'Brad Pitt']\",\"[u'James Stewart', u'Josephine Hull', u'Peggy Dow']\",\"[u'Peter Billingsley', u'Melinda Dillon', u'Darren McGavin']\",\"[u'Roy Scheider', u'Robert Shaw', u'Richard Dreyfuss']\",\"[u'Iko Uwais', u'Yayan Ruhian', u'Arifin Putra']\",\"[u'Sylvester Stallone', u'Talia Shire', u'Burt Young']\",\"[u'Bruno Ganz', u'Solveig Dommartin', u'Otto Sander']\",\"[u'Johnny Depp', u'Geoffrey Rush', u'Orlando Bloom']\",\"[u'Sterling Hayden', u'Coleen Gray', u'Vince Edwards']\",\"[u'Steve McQueen', u'Dustin Hoffman', u'Victor Jory']\",\"[u'Colin Firth', u'Geoffrey Rush', u'Helena Bonham Carter']\",\"[u'Bill Murray', u'Andie MacDowell', u'Chris Elliott']\",\"[u'Clint Eastwood', u'Gian Maria Volont\\\\xe9', u'Marianne Koch']\",\"[u'Billy Crystal', u'John Goodman', u'Mary Gibbs']\",\"[u'Al Pacino', u'John Cazale', u'Penelope Allen']\",\"[u'Logan Lerman', u'Emma Watson', u'Ezra Miller']\",\"[u'Gene Wilder', u'Madeline Kahn', u'Marty Feldman']\",\"[u'Arnold Schwarzenegger', u'Linda Hamilton', u'Michael Biehn']\",\"[u'Ruth Gordon', u'Bud Cort', u'Vivian Pickles']\",\"[u'Ethan Hawke', u'Julie Delpy', u'Vernon Dobtcheff']\",\"[u'Vivien Leigh', u'Marlon Brando', u'Kim Hunter']\",\"[u'Katharine Hepburn', u'Cary Grant', u'Charles Ruggles']\",\"[u'Mathieu Amalric', u'Emmanuelle Seigner', u'Marie-Jos\\\\xe9e Croze']\",\"[u'Cary Grant', u'Rosalind Russell', u'Ralph Bellamy']\",\"[u'Billy Bob Thornton', u'Dwight Yoakam', u'J.T. Walsh']\",\"[u'Lew Ayres', u'Louis Wolheim', u'John Wray']\",\"[u'Hugh Jackman', u'Jake Gyllenhaal', u'Viola Davis']\",\"[u'Vladimir Garin', u'Ivan Dobronravov', u'Konstantin Lavronenko']\",\"[u'Frank Sinatra', u'Laurence Harvey', u'Janet Leigh']\",\"[u'Groucho Marx', u'Harpo Marx', u'Chico Marx']\",\"[u\\\"Paige O'Hara\\\", u'Robby Benson', u'Richard White']\",\"[u'Jim Carrey', u'Ed Harris', u'Laura Linney']\",\"[u'William Holden', u'Ernest Borgnine', u'Robert Ryan']\",\"[u'James Stewart', u'John Dall', u'Farley Granger']\",\"[u'Dustin Hoffman', u'Anne Bancroft', u'Katharine Ross']\",\"[u'Sam Neill', u'Laura Dern', u'Jeff Goldblum']\",\"[u'Nicole Kidman', u'Paul Bettany', u'Lauren Bacall']\",\"[u'Vin Diesel', u'Paul Walker', u'Dwayne Johnson']\",\"[u'George C. Scott', u'Karl Malden', u'Stephen Young']\",\"[u'Danny Elfman', u'Chris Sarandon', u\\\"Catherine O'Hara\\\"]\",\"[u'Peter Sellers', u'Shirley MacLaine', u'Melvyn Douglas']\",\"[u'Chiara Mastroianni', u'Catherine Deneuve', u'Gena Rowlands']\",\"[u'Rob Reiner', u'Michael McKean', u'Christopher Guest']\",\"[u'James Dean', u'Raymond Massey', u'Julie Harris']\",\"[u'Bob Geldof', u'Christine Hargreaves', u'James Laurenson']\",\"[u'Leonardo DiCaprio', u'Djimon Hounsou', u'Jennifer Connelly']\",\"[u'Ewan McGregor', u'Albert Finney', u'Billy Crudup']\",\"[u'Dev Patel', u'Freida Pinto', u'Saurabh Shukla']\",\"[u'Chris Pine', u'Zachary Quinto', u'Simon Pegg']\",\"[u'Richard Farnsworth', u'Sissy Spacek', u'Jane Galloway Heitz']\",\"[u'Martin Landau', u'Woody Allen', u'Bill Bernstein']\",\"[u'Cary Grant', u'Audrey Hepburn', u'Walter Matthau']\",\"[u'Kevin Costner', u'Gary Oldman', u'Jack Lemmon']\",\"[u'David Emge', u'Ken Foree', u'Scott H. Reiniger']\",\"[u'Tom Cruise', u'Jason Robards', u'Julianne Moore']\",\"[u'Woody Allen', u'Diane Keaton', u'Mariel Hemingway']\",\"[u'Fernanda Montenegro', u'Vin\\\\xedcius de Oliveira', u'Mar\\\\xedlia P\\\\xeara']\",\"[u'Jonathan Pryce', u'Kim Greist', u'Robert De Niro']\",\"[u'Ellen Burstyn', u'Max von Sydow', u'Linda Blair']\",\"[u'Joaquin Phoenix', u'Amy Adams', u'Scarlett Johansson']\",\"[u'Bj\\\\xf6rk', u'Catherine Deneuve', u'David Morse']\",\"[u'Dustin Hoffman', u'Tom Cruise', u'Valeria Golino']\",\"[u'Rosario Flores', u'Javier C\\\\xe1mara', u'Dar\\\\xedo Grandinetti']\",\"[u'Errol Flynn', u'Olivia de Havilland', u'Basil Rathbone']\",\"[u'Klaus Kinski', u'Ruy Guerra', u'Helena Rojo']\",\"[u'Sidney Poitier', u'Rod Steiger', u'Warren Oates']\",\"[u'Max Schreck', u'Greta Schr\\\\xf6der', u'Ruth Landshoff']\",\"[u'Natalie Portman', u'Mila Kunis', u'Vincent Cassel']\",\"[u'Brad Garrett', u'Lou Romano', u'Patton Oswalt']\",\"[u'John Wayne', u'Jeffrey Hunter', u'Vera Miles']\",\"[u'Brie Larson', u'Frantz Turner', u'John Gallagher Jr.']\",\"[u'Omar Sharif', u'Julie Christie', u'Geraldine Chaplin']\",\"[u'Suraj Sharma', u'Irrfan Khan', u'Adil Hussain']\",\"[u'Dustin Hoffman', u'Robert Redford', u'Jack Warden']\",\"[u'Aleksandr Antonov', u'Vladimir Barsky', u'Grigori Aleksandrov']\",\"[u'Kevin Costner', u'Mary McDonnell', u'Graham Greene']\",\"[u'Leonardo DiCaprio', u'Tom Hanks', u'Christopher Walken']\",\"[u'Russell Crowe', u'Ren\\\\xe9e Zellweger', u'Craig Bierko']\",\"[u'Robin Williams', u'Robert Sean Leonard', u'Ethan Hawke']\",\"[u'Atsuko Tanaka', u'Iemasa Kayumi', u'Akio \\\\xd4tsuka']\",\"[u'Birol \\\\xdcnel', u'Sibel Kekilli', u'G\\\\xfcven Kira\\\\xe7']\",\"[u'Branko Djuric', u'Rene Bitorajac', u'Filip Sovagovic']\",\"[u'Matthew McConaughey', u'Jennifer Garner', u'Jared Leto']\",\"[u'Richard Gere', u'Brooke Adams', u'Sam Shepard']\",\"[u'Julie Andrews', u'Christopher Plummer', u'Eleanor Parker']\",\"[u'Sharlto Copley', u'David James', u'Jason Cope']\",\"[u'Teresa Wright', u'Joseph Cotten', u'Macdonald Carey']\",\"[u'Colin Clive', u'Mae Clarke', u'Boris Karloff']\",\"[u'Simon Pegg', u'Nick Frost', u'Kate Ashfield']\",\"[u'Duane Jones', u\\\"Judith O'Dea\\\", u'Karl Hardman']\",\"[u'Uma Thurman', u'David Carradine', u'Michael Madsen']\",\"[u'Timothy Spall', u'Brenda Blethyn', u'Phyllis Logan']\",\"[u'Jean Dujardin', u'B\\\\xe9r\\\\xe9nice Bejo', u'John Goodman']\",\"[u'Scott Weinger', u'Robin Williams', u'Linda Larkin']\",\"[u'Margaret Lockwood', u'Michael Redgrave', u'Paul Lukas']\",\"[u'Ian McKellen', u'Martin Freeman', u'Richard Armitage']\",\"[u'K\\\\xe5re Hedebrant', u'Lina Leandersson', u'Per Ragnar']\",\"[u'Topol', u'Norma Crane', u'Leonard Frey']\",\"[u'Martin Freeman', u'Ian McKellen', u'Richard Armitage']\",\"[u'Juliette Binoche', u'Zbigniew Zamachowski', u'Julie Delpy']\",\"[u'Mia Farrow', u'John Cassavetes', u'Ruth Gordon']\",\"[u'Sean Penn', u'Tim Robbins', u'Kevin Bacon']\",\"[u'Nathan Fillion', u'Gina Torres', u'Chiwetel Ejiofor']\",\"[u'Magali No\\\\xebl', u'Bruno Zanin', u'Pupella Maggio']\",\"[u'Charlton Heston', u'Roddy McDowall', u'Kim Hunter']\",\"[u'Christian Slater', u'Patricia Arquette', u'Dennis Hopper']\",\"[u'Mia Farrow', u'Dianne Wiest', u'Michael Caine']\",\"[u'Sam Rockwell', u'Kevin Spacey', u'Dominique McElligott']\",\"[u'Ethan Hawke', u'Julie Delpy', u'Seamus Davey-Fitzpatrick']\",\"[u'Shah Rukh Khan', u'Kajol', u'Sheetal Menon']\",\"[u'Al Pacino', u\\\"Chris O'Donnell\\\", u'James Rebhorn']\",\"[u'Naomi Watts', u'Laura Harring', u'Justin Theroux']\",\"[u'Fay Wray', u'Robert Armstrong', u'Bruce Cabot']\",\"[u'Shailene Woodley', u'Ansel Elgort', u'Nat Wolff']\",\"[u'Craig T. Nelson', u'Samuel L. Jackson', u'Holly Hunter']\",\"[u'Johnny Depp', u'Winona Ryder', u'Dianne Wiest']\",\"[u'Daniel Craig', u'Eva Green', u'Judi Dench']\",\"[u'Jay Baruchel', u'Cate Blanchett', u'Gerard Butler']\",\"[u'Colin Farrell', u'Brendan Gleeson', u'Ciar\\\\xe1n Hinds']\",\"[u'Kevin Costner', u'Sean Connery', u'Robert De Niro']\",\"[u'Jean-Paul Belmondo', u'Jean Seberg', u'Daniel Boulanger']\",\"[u'Kirk Douglas', u'Laurence Olivier', u'Jean Simmons']\",\"[u'Eli Marienthal', u'Harry Connick Jr.', u'Jennifer Aniston']\",\"[u'Dustin Hoffman', u'Jon Voight', u'Sylvia Miles']\",\"[u'John Belushi', u'Dan Aykroyd', u'Cab Calloway']\",\"[u'Wallace Ford', u'Leila Hyams', u'Olga Baclanova']\",\"[u'Ken Watanabe', u'Kazunari Ninomiya', u'Tsuyoshi Ihara']\",\"[u'Tom Cruise', u'Emily Blunt', u'Bill Paxton']\",\"[u'Matthew Broderick', u'Denzel Washington', u'Cary Elwes']\",\"[u'Humphrey Bogart', u'Katharine Hepburn', u'Robert Morley']\",\"[u'Michael Keaton', u'Zach Galifianakis', u'Edward Norton']\",\"[u'Ryan Potter', u'Scott Adsit', u'Jamie Chung']\",\"[u'Billy Crudup', u'Patrick Fugit', u'Kate Hudson']\",\"[u'Gena Rowlands', u'James Garner', u'Rachel McAdams']\",\"[u'Gene Hackman', u'John Cazale', u'Allen Garfield']\",\"[u'Emilio Estevez', u'Judd Nelson', u'Molly Ringwald']\",\"[u'Will Smith', u'Thandie Newton', u'Jaden Smith']\",\"[u'Yun-Fat Chow', u'Danny Lee', u'Sally Yeh']\",\"[u'Glen Hansard', u'Mark\\\\xe9ta Irglov\\\\xe1', u'Hugh Walsh']\",\"[u'Jet Li', u'Tony Chiu Wai Leung', u'Maggie Cheung']\",\"[u'Anthony Hopkins', u'Emma Thompson', u'John Haycraft']\",\"[u'Boris Karloff', u'Elsa Lanchester', u'Colin Clive']\",\"[u'Mickey Rourke', u'Marisa Tomei', u'Evan Rachel Wood']\",\"[u'Jake Gyllenhaal', u'Rene Russo', u'Bill Paxton']\",\"[u'Sandra Bullock', u'George Clooney', u'Ed Harris']\",\"[u'Yun-Fat Chow', u'Tony Chiu Wai Leung', u'Teresa Mo']\",\"[u'Warren Beatty', u'Faye Dunaway', u'Michael J. Pollard']\",\"[u'Franka Potente', u'Matt Damon', u'Chris Cooper']\",\"[u'Humphrey Bogart', u'Edward G. Robinson', u'Lauren Bacall']\",\"[u'Ricardo Dar\\\\xedn', u'Gast\\\\xf3n Pauls', u'Leticia Br\\\\xe9dice']\",\"[u'Tom Hanks', u'Tim Allen', u'Joan Cusack']\",\"[u'Sam Waterston', u'Haing S. Ngor', u'John Malkovich']\",\"[u'Cecilia Roth', u'Marisa Paredes', u'Candela Pe\\\\xf1a']\",\"[u'Beau Billingslea', u'Melissa Fahn', u'Nicholas Guest']\",\"[u'Johnny Depp', u'Martin Landau', u'Sarah Jessica Parker']\",\"[u'John Wayne', u'Claire Trevor', u'Andy Devine']\",\"[u'Sean Connery', u'Michael Caine', u'Christopher Plummer']\",\"[u'Clint Eastwood', u'Sondra Locke', u'Chief Dan George']\",\"[u'Julianne Moore', u'Clive Owen', u'Chiwetel Ejiofor']\",\"[u'Russell Crowe', u'Al Pacino', u'Christopher Plummer']\",\"[u'Sam Shepard', u'Scott Glenn', u'Ed Harris']\",\"[u'Martin Sheen', u'Sissy Spacek', u'Warren Oates']\",\"[u'Tahar Rahim', u'Niels Arestrup', u'Adel Bencherif']\",\"[u'Anamaria Marinca', u'Vlad Ivanov', u'Laura Vasiliu']\",\"[u'B\\\\xe9r\\\\xe9nice Bejo', u'Tahar Rahim', u'Ali Mosaffa']\",\"[u'Lee Pace', u'Catinca Untaru', u'Justine Waddell']\",\"[u'Emily Watson', u'Stellan Skarsg\\\\xe5rd', u'Katrin Cartlidge']\",\"[u'Jared Leto', u'Sarah Polley', u'Diane Kruger']\",\"[u'Don Cheadle', u'Sandra Bullock', u'Thandie Newton']\",\"[u'Sam Worthington', u'Zoe Saldana', u'Sigourney Weaver']\",\"[u'Robert Downey Jr.', u'Gwyneth Paltrow', u'Terrence Howard']\",\"[u'Danny Aiello', u'Ossie Davis', u'Ruby Dee']\",\"[u'Al Pacino', u'Sean Penn', u'Penelope Ann Miller']\",\"[u'Yun-Fat Chow', u'Michelle Yeoh', u'Ziyi Zhang']\",\"[u'Oksana Akinshina', u'Artyom Bogucharskiy', u'Pavel Ponomaryov']\",\"[u'G\\\\xe9rard Jugnot', u'Fran\\\\xe7ois Berl\\\\xe9and', u'Jean-Baptiste Maunier']\",\"[u'Willem Dafoe', u'Sean Patrick Flanery', u'Norman Reedus']\",\"[u'Gabriel Byrne', u'Albert Finney', u'John Turturro']\",\"[u'Joaquin Phoenix', u'Reese Witherspoon', u'Ginnifer Goodwin']\",\"[u'Mike Myers', u'Eddie Murphy', u'Cameron Diaz']\",\"[u'Audrey Hepburn', u'Rex Harrison', u'Stanley Holloway']\",\"[u'Charlton Heston', u'Yul Brynner', u'Anne Baxter']\",\"[u'Mark Wahlberg', u'Christian Bale', u'Amy Adams']\",\"[u'Tom Hanks', u'Barkhad Abdi', u'Barkhad Abdirahman']\",\"[u'Liza Minnelli', u'Michael York', u'Helmut Griem']\",\"[u'Donald Pleasence', u'Jamie Lee Curtis', u'Tony Moran']\",\"[u'Daniel Day-Lewis', u'Brenda Fricker', u'Alison Whelan']\",\"[u'Edmund Gwenn', u\\\"Maureen O'Hara\\\", u'John Payne']\",\"[u'Bin Won', u'Sae-ron Kim', u'Tae-hoon Kim']\",\"[u'Riisa Naka', u'Takuya Ishida', u'Mitsutaka Itakura']\",\"[u'Steve Carell', u'Toni Collette', u'Greg Kinnear']\",\"[u'Liam Neeson', u'Maggie Grace', u'Famke Janssen']\",\"[u'L\\\\xe9a Seydoux', u'Ad\\\\xe8le Exarchopoulos', u'Salim Kechiouche']\",\"[u'Mark Wahlberg', u'Julianne Moore', u'Burt Reynolds']\",\"[u'Simon Pegg', u'Nick Frost', u'Martin Freeman']\",\"[u'Matthew Broderick', u'Alan Ruck', u'Mia Sara']\",\"[u'Anthony Hopkins', u'Diane Ladd', u'Iain Rea']\",\"[u'Kirsten Dunst', u'Minami Takayama', u'Rei Sakuma']\",\"[u'Tom Waits', u'John Lurie', u'Roberto Benigni']\",\"[u'Al Pacino', u'Jack Lemmon', u'Alec Baldwin']\",\"[u\\\"Brian O'Halloran\\\", u'Jeff Anderson', u'Marilyn Ghigliotti']\",\"[u'Ulrich Thomsen', u'Mads Mikkelsen', u'Nicolas Bro']\",\"[u'Daniel Craig', u'Rooney Mara', u'Christopher Plummer']\",\"[u'Robert Donat', u'Madeleine Carroll', u'Lucie Mannheim']\",\"[u'Henry Thomas', u'Drew Barrymore', u'Peter Coyote']\",\"[u'Kurt Russell', u'Val Kilmer', u'Sam Elliott']\",\"[u'Arnold Schwarzenegger', u'Carl Weathers', u'Kevin Peter Hall']\",\"[u'Mandy Moore', u'Zachary Levi', u'Donna Murphy']\",\"[u'Spencer Tracy', u'Sidney Poitier', u'Katharine Hepburn']\",\"[u'Donald Sutherland', u'Mary Tyler Moore', u'Judd Hirsch']\",\"[u'Geoffrey Rush', u'Jim Sturgess', u'Sylvia Hoeks']\",\"[u'Bradley Cooper', u'Jennifer Lawrence', u'Robert De Niro']\",\"[u'Kenneth Branagh', u'Julie Christie', u'Derek Jacobi']\",\"[u'Jean-Louis Trintignant', u'Emmanuelle Riva', u'Isabelle Huppert']\",\"[u'Byung-hun Lee', u'Min-sik Choi', u'In-seo Kim']\",\"[u'Gael Garc\\\\xeda Bernal', u'Rodrigo De la Serna', u'M\\\\xeda Maestro']\",\"[u'Ron Livingston', u'Jennifer Aniston', u'David Herman']\",\"[u'Andreas Wilson', u'Henrik Lundstr\\\\xf6m', u'Gustaf Skarsg\\\\xe5rd']\",\"[u'Michael Nyqvist', u'Noomi Rapace', u'Ewa Fr\\\\xf6ling']\",\"[u'Richard E. Grant', u'Paul McGann', u'Richard Griffiths']\",\"[u'Michael Rennie', u'Patricia Neal', u'Hugh Marlowe']\",\"[u'Carice van Houten', u'Sebastian Koch', u'Thom Hoffman']\",\"[u'Bruce Campbell', u'Sarah Berry', u'Dan Hicks']\",\"[u'Hideaki Anno', u'Hidetoshi Nishijima', u'Miori Takimoto']\",\"[u'Chris Pine', u'Zachary Quinto', u'Zoe Saldana']\",\"[u'Mich\\\\xe8le Caucheteux', u'Jean-Claude Donda', u'Michel Robin']\",\"[u'Eduardo Noriega', u'Pen\\\\xe9lope Cruz', u'Chete Lera']\",\"[u'Yul Brynner', u'Steve McQueen', u'Charles Bronson']\",\"[u'Ryan Gosling', u'Carey Mulligan', u'Bryan Cranston']\",\"[u'Gene Hackman', u'Willem Dafoe', u'Frances McDormand']\",\"[u'Chris Pratt', u'Will Ferrell', u'Elizabeth Banks']\",\"[u'Edward Fox', u'Terence Alexander', u'Michel Auclair']\",\"[u'James Caan', u'Kathy Bates', u'Richard Farnsworth']\",\"[u'Gene Wilder', u'Jack Albertson', u'Peter Ostrum']\",\"[u'Leopold Stokowski', u'Deems Taylor', u'Corey Burton']\",\"[u'Ethan Hawke', u'Uma Thurman', u'Jude Law']\",\"[u'Denzel Washington', u'Russell Crowe', u'Chiwetel Ejiofor']\",\"[u'Sh\\\\xfbichir\\\\xf4 Moriyama', u'Tokiko Kat\\\\xf4', u'Sanshi Katsura']\",\"[u'Gene Hackman', u'Roy Scheider', u'Fernando Rey']\",\"[u'Asa Butterfield', u'David Thewlis', u'Rupert Friend']\",\"[u'Christian Bale', u'John Malkovich', u'Miranda Richardson']\",\"[u'Domhnall Gleeson', u'Rachel McAdams', u'Bill Nighy']\",\"[u'Isabella Rossellini', u'Kyle MacLachlan', u'Dennis Hopper']\",\"[u'Paddy Considine', u'Samantha Morton', u'Djimon Hounsou']\",\"[u'Brad Pitt', u'Cate Blanchett', u'Tilda Swinton']\",\"[u'Daniel Day-Lewis', u'Madeleine Stowe', u'Russell Means']\",\"[u'Jared Gilman', u'Kara Hayward', u'Bruce Willis']\",\"[u'James Dean', u'Natalie Wood', u'Sal Mineo']\",\"[u'George Clooney', u'Meryl Streep', u'Bill Murray']\",\"[u'Kevin McCarthy', u'Dana Wynter', u'Larry Gates']\",\"[u'Jake Gyllenhaal', u'Chris Cooper', u'Laura Dern']\",\"[u'Clint Eastwood', u'Andrew Robinson', u'Harry Guardino']\",\"[u'Bill Murray', u'Dan Aykroyd', u'Sigourney Weaver']\",\"[u'Chris Evans', u'Samuel L. Jackson', u'Scarlett Johansson']\",\"[u'John C. Reilly', u'Jack McBrayer', u'Jane Lynch']\",\"[u'Zach Galifianakis', u'Bradley Cooper', u'Justin Bartha']\",\"[u'Michael J. Fox', u'Christopher Lloyd', u'Lea Thompson']\",\"[u'Catherine Deneuve', u'Jean Sorel', u'Michel Piccoli']\",\"[u'George Clooney', u'John Turturro', u'Tim Blake Nelson']\",\"[u'Catherine Deneuve', u'Ian Hendry', u'John Fraser']\",\"[u'Robert Hays', u'Julie Hagerty', u'Leslie Nielsen']\",\"[u'Keira Knightley', u'Matthew Macfadyen', u'Brenda Blethyn']\",\"[u'Stanley Baker', u'Jack Hawkins', u'Ulla Jacobsson']\",\"[u'Winona Ryder', u'Gena Rowlands', u'Lisanne Falk']\",\"[u'Burt Lancaster', u'Montgomery Clift', u'Deborah Kerr']\",\"[u'Gerardo Taracena', u'Raoul Trujillo', u'Dalia Hern\\\\xe1ndez']\",\"[u'Keira Knightley', u'James McAvoy', u'Brenda Blethyn']\",\"[u'Lee Marvin', u'Ernest Borgnine', u'Charles Bronson']\",\"[u'James McAvoy', u'Michael Fassbender', u'Jennifer Lawrence']\",\"[u'Franka Potente', u'Moritz Bleibtreu', u'Herbert Knaup']\",\"[u'John Wayne', u'Robert Ryan', u'Richard Burton']\",\"[u'Woody Allen', u'Mia Farrow', u'Patrick Horgan']\",\"[u'John Lone', u'Joan Chen', u\\\"Peter O'Toole\\\"]\",\"[u'Sean Astin', u'Josh Brolin', u'Jeff Cohen']\",\"[u'Christian Friedel', u'Ernst Jacobi', u'Leonie Benesch']\",\"[u'Harrison Ford', u'Tommy Lee Jones', u'Sela Ward']\",\"[u'Danny Glover', u'Whoopi Goldberg', u'Oprah Winfrey']\",\"[u'Trey Parker', u'Matt Stone', u'Mary Kay Bergman']\",\"[u'Zooey Deschanel', u'Joseph Gordon-Levitt', u'Geoffrey Arend']\",\"[u'Bill Murray', u'Scarlett Johansson', u'Giovanni Ribisi']\",\"[u'Ben Affleck', u'Bryan Cranston', u'John Goodman']\",\"[u'Cleavon Little', u'Gene Wilder', u'Slim Pickens']\",\"[u'Audrey Hepburn', u'George Peppard', u'Patricia Neal']\",\"[u'Johnny Depp', u'Kate Winslet', u'Julie Christie']\",\"[u'Moritz Bleibtreu', u'Christian Berkel', u'Oliver Stokowski']\",\"[u'Josh Hartnett', u'Ben Kingsley', u'Morgan Freeman']\",\"[u'Eddie Redmayne', u'Felicity Jones', u'Tom Prior']\",\"[u'Daniel Radcliffe', u'Emma Watson', u'Rupert Grint']\",\"[u'Stephen Chow', u'Wah Yuen', u'Qiu Yuen']\",\"[u'John Cusack', u'Cameron Diaz', u'Catherine Keener']\",\"[u'Jesse Eisenberg', u'Andrew Garfield', u'Justin Timberlake']\",\"[u'Russell Crowe', u'Christian Bale', u'Ben Foster']\",\"[u'Sean Connery', u'Christian Slater', u'Helmut Qualtinger']\",\"[u'Julie Andrews', u'Dick Van Dyke', u'David Tomlinson']\",\"[u'Michael Douglas', u'Deborah Kara Unger', u'Sean Penn']\",\"[u'Angelina Jolie', u'Colm Feore', u'Amy Ryan']\",\"[u'Al Pacino', u'Johnny Depp', u'Michael Madsen']\",\"[u'Al Pacino', u'John Randolph', u'Jack Kehoe']\",\"[u'Johnny Depp', u'Leonardo DiCaprio', u'Juliette Lewis']\",\"[u'Sean Connery', u'Gert Fr\\\\xf6be', u'Honor Blackman']\",\"[u'Bruce Dern', u'Will Forte', u'June Squibb']\",\"[u'Tom Guiry', u'Mike Vitar', u'Patrick Renna']\",\"[u'Cuba Gooding Jr.', u'Laurence Fishburne', u'Hudhail Al-Amir']\",\"[u'Matt Damon', u'Franka Potente', u'Joan Allen']\",\"[u'Daniel Craig', u'Javier Bardem', u'Naomie Harris']\",\"[u'Jamie Foxx', u'Regina King', u'Kerry Washington']\",\"[u'Gerard Butler', u'Lena Headey', u'David Wenham']\",\"[u'Robert De Niro', u'Chazz Palminteri', u'Lillo Brancato']\",\"[u'Rod Taylor', u'Tippi Hedren', u'Suzanne Pleshette']\",\"[u'Tatsuya Fujiwara', u'Aki Maeda', u'Tar\\\\xf4 Yamamoto']\",\"[u'Sam Riley', u'Samantha Morton', u'Craig Parkinson']\",\"[u'Dustin Hoffman', u'Meryl Streep', u'Jane Alexander']\",\"[u'Jon Voight', u'Burt Reynolds', u'Ned Beatty']\",\"[u'George Clooney', u'Brad Pitt', u'Julia Roberts']\",\"[u'Jack Nicholson', u'Helen Hunt', u'Greg Kinnear']\",\"[u'Robert De Niro', u'Robin Williams', u'Julie Kavner']\",\"[u'Robert De Niro', u'Jerry Lewis', u'Diahnne Abbott']\",\"[u'Denzel Washington', u'Christopher Walken', u'Dakota Fanning']\",\"[u'Humphrey Bogart', u'Audrey Hepburn', u'William Holden']\",\"[u'Rufus Sewell', u'Kiefer Sutherland', u'Jennifer Connelly']\",\"[u'Daniel Br\\\\xfchl', u'Katrin Sa\\\\xdf', u'Chulpan Khamatova']\",\"[u'Denzel Washington', u'Will Patton', u'Wood Harris']\",\"[u'William Shatner', u'Leonard Nimoy', u'DeForest Kelley']\",\"[u'Tom Hanks', u'Tyler Hoechlin', u'Rob Maxey']\",\"[u'Jason Schwartzman', u'Bill Murray', u'Olivia Williams']\",\"[u'Christian Bale', u'Jennifer Jason Leigh', u'Aitana S\\\\xe1nchez-Gij\\\\xf3n']\",\"[u'Madeline Carroll', u'Callan McAuliffe', u'Rebecca De Mornay']\",\"[u'Jim Caviezel', u'Guy Pearce', u'Richard Harris']\",\"[u'Adrien Brody', u'Christina Hendricks', u'Marcia Gay Harden']\",\"[u'Guillaume Canet', u'Marion Cotillard', u'Thibault Verhaeghe']\",\"[u'Johnny Depp', u'Gary Farmer', u'Crispin Glover']\",\"[u'Mia Farrow', u'Jeff Daniels', u'Danny Aiello']\",\"[u'Sean Penn', u'Benicio Del Toro', u'Naomi Watts']\",\"[u'Joseph Gordon-Levitt', u'Seth Rogen', u'Anna Kendrick']\",\"[u'Aaron Taylor-Johnson', u'Nicolas Cage', u'Chlo\\\\xeb Grace Moretz']\",\"[u'Marie-Laure Dougnac', u'Dominique Pinon', u'Pascal Benezech']\",\"[u'John Turturro', u'John Goodman', u'Judy Davis']\",\"[u'James McAvoy', u'Forest Whitaker', u'Gillian Anderson']\",\"[u'Nicolas Cage', u'Meryl Streep', u'Chris Cooper']\",\"[u'Audrey Tautou', u'Gaspard Ulliel', u'Jodie Foster']\",\"[u'Brady Corbet', u'Joseph Gordon-Levitt', u'Elisabeth Shue']\",\"[u'Charlie Cox', u'Claire Danes', u'Sienna Miller']\",\"[u'Josh Hartnett', u'Ewan McGregor', u'Tom Sizemore']\",\"[u'Megumi Hayashibara', u'T\\\\xf4ru Emori', u'Katsunosuke Hori']\",\"[u'Johnny Depp', u'Benicio Del Toro', u'Tobey Maguire']\",\"[u'Frank Langella', u'Michael Sheen', u'Kevin Bacon']\",\"[u'Bruce Lee', u'John Saxon', u'Jim Kelly']\",\"[u'Andie MacDowell', u'Julianne Moore', u'Tim Robbins']\",\"[u'John Lennon', u'Paul McCartney', u'George Harrison']\",\"[u'Tom Cruise', u'Ken Watanabe', u'Billy Connolly']\",\"[u'Peter Dinklage', u'Patricia Clarkson', u'Bobby Cannavale']\",\"[u'Jesse Eisenberg', u'Emma Stone', u'Woody Harrelson']\",\"[u'Kang-ho Song', u'Ha-kyun Shin', u'Doona Bae']\",\"[u'Steve Carell', u'Jason Segel', u'Russell Brand']\",\"[u'Alan Ladd', u'Jean Arthur', u'Van Heflin']\",\"[u'Walter Pidgeon', u'Anne Francis', u'Leslie Nielsen']\",\"[u'Leonardo DiCaprio', u'Kate Winslet', u'Billy Zane']\",\"[u'Morgan Freeman', u'Ed Harris', u'Casey Affleck']\",\"[u'Thierry Lhermitte', u'Jacques Villeret', u'Francis Huster']\",\"[u'Gary Oldman', u'Keri Russell', u'Andy Serkis']\",\"[u'Edward Norton', u'Barry Pepper', u'Philip Seymour Hoffman']\",\"[u'Cate Blanchett', u'Matt Damon', u'Liam Neeson']\",\"[u'Geoffrey Rush', u'Armin Mueller-Stahl', u'Justin Braine']\",\"[u'Quinton Aaron', u'Sandra Bullock', u'Tim McGraw']\",\"[u'Jake Gyllenhaal', u'Heath Ledger', u'Michelle Williams']\",\"[u'Tom Hanks', u'Helen Hunt', u'Paul Sanchez']\",\"[u'Denzel Washington', u'Angela Bassett', u'Delroy Lindo']\",\"[u'Alexandra Dahlstr\\\\xf6m', u'Rebecka Liljeberg', u'Erica Carlson']\",\"[u'Andrew Garfield', u'Peter Mullan', u'Shaun Evans']\",\"[u'Michael Beck', u'James Remar', u'Dorsey Wright']\",\"[u'Richard Dreyfuss', u'Fran\\\\xe7ois Truffaut', u'Teri Garr']\",\"[u'Scarlett Johansson', u'Jonathan Rhys Meyers', u'Emily Mortimer']\",\"[u'Denzel Washington', u'Ethan Hawke', u'Scott Glenn']\",\"[u'Ashton Kutcher', u'Amy Smart', u'Melora Walters']\",\"[u'Ron Perlman', u'Daniel Emilfork', u'Judith Vittet']\",\"[u'Jamie Bell', u'Julie Walters', u'Jean Heywood']\",\"[u'Hugh Grant', u'Martine McCutcheon', u'Liam Neeson']\",\"[u'Zero Mostel', u'Gene Wilder', u'Dick Shawn']\",\"[u'Daniel Radcliffe', u'Emma Watson', u'Rupert Grint']\",\"[u'Richard Jenkins', u'Haaz Sleiman', u'Danai Gurira']\",\"[u'Tom Hanks', u'Denzel Washington', u'Roberta Maxwell']\",\"[u'Emma Thompson', u'Kate Winslet', u'James Fleet']\",\"[u'Zbigniew Zamachowski', u'Julie Delpy', u'Janusz Gajos']\",\"[u'Toni Servillo', u'Carlo Verdone', u'Sabrina Ferilli']\",\"[u'Richard Gere', u'Laura Linney', u'Edward Norton']\",\"[u'Richard Burton', u'Clint Eastwood', u'Mary Ure']\",\"[u'Jason London', u'Wiley Wiggins', u'Matthew McConaughey']\",\"[u'John Getz', u'Frances McDormand', u'Dan Hedaya']\",\"[u'Thomas Turgoose', u'Stephen Graham', u'Jo Hartley']\",\"[u'Jet Li', u'Li Sun', u'Yong Dong']\",\"[u'Glenn Close', u'John Malkovich', u'Michelle Pfeiffer']\",\"[u'Cary Elwes', u'Leigh Whannell', u'Danny Glover']\",\"[u'Adriana Caselotti', u'Harry Stockwell', u'Lucille La Verne']\",\"[u'Dakota Fanning', u'Teri Hatcher', u'John Hodgman']\",\"[u'Jennifer Lawrence', u'Josh Hutcherson', u'Liam Hemsworth']\",\"[u'Meryl Streep', u'Kevin Kline', u'Peter MacNicol']\",\"[u'Marion Cotillard', u'Sylvie Testud', u'Pascal Greggory']\",\"[u'Hayden Christensen', u'Natalie Portman', u'Ewan McGregor']\",\"[u'Jeff Bridges', u'Matt Damon', u'Hailee Steinfeld']\",\"[u'Griffin Dunne', u'Rosanna Arquette', u'Verna Bloom']\",\"[u'Kristen Bell', u'Idina Menzel', u'Jonathan Groff']\",\"[u'James Mason', u'Shelley Winters', u'Sue Lyon']\",\"[u'Naomi Watts', u'Viggo Mortensen', u'Armin Mueller-Stahl']\",\"[u'Owen Wilson', u'Rachel McAdams', u'Kathy Bates']\",\"[u'Michael Caine', u'Dave Goelz', u'Steve Whitmire']\",\"[u'Bob Hoskins', u'Christopher Lloyd', u'Joanna Cassidy']\",\"[u'Yeong-ae Lee', u'Min-sik Choi', u'Shi-hoo Kim']\",\"[u'Kurt Russell', u'Rose McGowan', u'Danny Trejo']\",\"[u'Mikael Persbrandt', u'Trine Dyrholm', u'Markus Rygaard']\",\"[u'David Hemmings', u'Vanessa Redgrave', u'Sarah Miles']\",\"[u'Bridgit Mendler', u'Amy Poehler', u'Will Arnett']\",\"[u'Robert Downey Jr.', u'Val Kilmer', u'Michelle Monaghan']\",\"[u'Bill Pullman', u'Patricia Arquette', u'John Roselius']\",\"[u'Jake Gyllenhaal', u'Robert Downey Jr.', u'Mark Ruffalo']\",\"[u'Hugh Jackman', u'Russell Crowe', u'Anne Hathaway']\",\"[u'Nicole Kidman', u'Ewan McGregor', u'John Leguizamo']\",\"[u'Keisha Castle-Hughes', u'Rawiri Paratene', u'Vicky Haughton']\",\"[u'Jake Gyllenhaal', u'Michael Pe\\\\xf1a', u'Anna Kendrick']\",\"[u'Judi Dench', u'Steve Coogan', u'Sophie Kennedy Clark']\",\"[u'Brad Pitt', u'Shia LaBeouf', u'Logan Lerman']\",\"[u'Jean-Marc Barr', u'Jean Reno', u'Rosanna Arquette']\",\"[u'Sylvester Stallone', u'Brian Dennehy', u'Richard Crenna']\",\"[u'Tom Cruise', u'Colin Farrell', u'Samantha Morton']\",\"[u'Ingrid Bergman', u'Gregory Peck', u'Michael Chekhov']\",\"[u'Edward Woodward', u'Christopher Lee', u'Diane Cilento']\",\"[u'Will Smith', u'Rosario Dawson', u'Woody Harrelson']\",\"[u'Brad Davis', u'Irene Miracle', u'Bo Hopkins']\",\"[u'Clint Eastwood', u'Telly Savalas', u'Don Rickles']\",\"[u'Donald Sutherland', u'Elliott Gould', u'Tom Skerritt']\",\"[u'Tim Robbins', u'Greta Scacchi', u'Fred Ward']\",\"[u'Michael Douglas', u'Benicio Del Toro', u'Catherine Zeta-Jones']\",\"[u'Maribel Verd\\\\xfa', u'Gael Garc\\\\xeda Bernal', u'Daniel Gim\\\\xe9nez Cacho']\",\"[u'Will Ferrell', u'Emma Thompson', u'Dustin Hoffman']\",\"[u'Denzel Washington', u'Clive Owen', u'Jodie Foster']\",\"[u'James Franco', u'Amber Tamblyn', u'Kate Mara']\",\"[u'Bruce Willis', u'Milla Jovovich', u'Gary Oldman']\",\"[u'Sean Penn', u'Josh Brolin', u'Emile Hirsch']\",\"[u'David Alan Basche', u'Olivia Thirlby', u'Liza Col\\\\xf3n-Zayas']\",\"[u'Christian Bale', u'Ni Ni', u'Xinyi Zhang']\",\"[u'Bela Lugosi', u'Helen Chandler', u'David Manners']\",\"[u'Clint Eastwood', u'Verna Bloom', u'Marianna Hill']\",\"[u'Sean Penn', u'Michelle Pfeiffer', u'Dakota Fanning']\",\"[u'Kathy Bates', u'Jessica Tandy', u'Mary Stuart Masterson']\",\"[u'Jackie Earle Haley', u'Patrick Wilson', u'Carla Gugino']\",\"[u'Cillian Murphy', u'Naomie Harris', u'Christopher Eccleston']\",\"[u'Edward Norton', u'Jessica Biel', u'Paul Giamatti']\",\"[u'Michael Cera', u'Jonah Hill', u'Christopher Mintz-Plasse']\",\"[u'Al Pacino', u'Diane Keaton', u'Andy Garcia']\",\"[u'Gene Hackman', u'Gwyneth Paltrow', u'Anjelica Huston']\",\"[u'Phil Harris', u'Sebastian Cabot', u'Louis Prima']\",\"[u'Aaron Eckhart', u'Cameron Bright', u'Maria Bello']\",\"[u'Beno\\\\xeet Poelvoorde', u'Jacqueline Poelvoorde-Pappaert', u'Nelly Pappaert']\",\"[u'Tom Cruise', u'Jack Nicholson', u'Demi Moore']\",\"[u'Jackie Chan', u'Ho-Sung Pak', u'Lung Ti']\",\"[u'Khalid Abdalla', u'Ahmad Khan Mahmoodzada', u'Atossa Leoni']\",\"[u'Billy Crystal', u'Meg Ryan', u'Carrie Fisher']\",\"[u'Eric Bana', u'Daniel Craig', u'Marie-Jos\\\\xe9e Croze']\",\"[u'Jennifer Connelly', u'Ben Kingsley', u'Ron Eldard']\",\"[u'Mel Gibson', u'Danny Glover', u'Gary Busey']\",\"[u'John Belushi', u'Karen Allen', u'Tom Hulce']\",\"[u'Nicolas Cage', u'Ethan Hawke', u'Jared Leto']\",\"[u'Johnny Depp', u'Pen\\\\xe9lope Cruz', u'Franka Potente']\",\"[u'Robert Downey Jr.', u'Jude Law', u'Rachel McAdams']\",\"[u'Daniel Radcliffe', u'Emma Watson', u'Rupert Grint']\",\"[u'Antonio Banderas', u'Elena Anaya', u'Jan Cornet']\",\"[u'Brandon Lee', u'Michael Wincott', u'Rochelle Davis']\",\"[u'Natalie Wood', u'George Chakiris', u'Richard Beymer']\",\"[u'Jim Caviezel', u'Sean Penn', u'Nick Nolte']\",\"[u'Christian Bale', u'Justin Theroux', u'Josh Lucas']\",\"[u'Takeshi Kitano', u'Tadanobu Asano', u'Yui Natsukawa']\",\"[u'Willem Dafoe', u'Harvey Keitel', u'Barbara Hershey']\",\"[u'Leslie Nielsen', u'Priscilla Presley', u'O.J. Simpson']\",\"[u'Nicole Kidman', u'Christopher Eccleston', u'Fionnula Flanagan']\",\"[u'Peter Sellers', u'Claudine Longet', u'Natalia Borisova']\",\"[u'Bruce Campbell', u'Embeth Davidtz', u'Marcus Gilbert']\",\"[u'Jeremy Renner', u'Anthony Mackie', u'Brian Geraghty']\",\"[u'Iko Uwais', u'Ananda George', u'Ray Sahetapy']\",\"[u'Pen\\\\xe9lope Cruz', u'Carmen Maura', u'Lola Due\\\\xf1as']\",\"[u'Jeremy Theobald', u'Alex Haw', u'Lucy Russell']\",\"[u'Jack Black', u'Ian McShane', u'Angelina Jolie']\",\"[u'Mel Gibson', u'Bruce Spence', u'Michael Preston']\",\"[u'K\\\\xf4ji Yakusho', u'Takayuki Yamada', u'Y\\\\xfbsuke Iseya']\",\"[u'Billy Bob Thornton', u'Frances McDormand', u'Michael Badalucco']\",\"[u'Karl Markovics', u'August Diehl', u'Devid Striesow']\",\"[u'Sean Connery', u'Alec Baldwin', u'Scott Glenn']\",\"[u'Mark Wahlberg', u'Taylor Kitsch', u'Emile Hirsch']\",\"[u'John Cleese', u'Jamie Lee Curtis', u'Kevin Kline']\",\"[u'Naomi Watts', u'Ewan McGregor', u'Tom Holland']\",\"[u'Zach Braff', u'Peter Sarsgaard', u'Natalie Portman']\",\"[u'Clint Eastwood', u'Patrick McGoohan', u'Roberts Blossom']\",\"[u'Tom Hanks', u'Bill Paxton', u'Kevin Bacon']\",\"[u'Tony Chiu Wai Leung', u'Wei Tang', u'Joan Chen']\",\"[u'David Oyelowo', u'Carmen Ejogo', u'Tim Roth']\",\"[u'Susanne Lothar', u'Ulrich M\\\\xfche', u'Arno Frisch']\",\"[u'Ed Harris', u'Mary Elizabeth Mastrantonio', u'Michael Biehn']\",\"[u'Brian Bedford', u'Phil Harris', u'Roger Miller']\",\"[u'Jude Law', u'Ed Harris', u'Joseph Fiennes']\",\"[u'Michael Douglas', u'Robert Duvall', u'Barbara Hershey']\",\"[u'Kate Winslet', u'Jennifer Connelly', u'Patrick Wilson']\",\"[u'Stuart Graham', u'Laine Megaw', u'Brian Milligan']\",\"[u'Harrison Ford', u'Kate Capshaw', u'Jonathan Ke Quan']\",\"[u'Donnie Yen', u'Xiaoming Huang', u'Sammo Kam-Bo Hung']\",\"[u'Jodi Benson', u'Samuel E. Wright', u'Rene Auberjonois']\",\"[u'Spencer Tracy', u'Milton Berle', u'Ethel Merman']\",\"[u'Kate Winslet', u'Ralph Fiennes', u'Bruno Ganz']\",\"[u'Gregory Peck', u'Lee Remick', u'Harvey Stephens']\",\"[u'Alicia Vikander', u'Mads Mikkelsen', u'Mikkel Boe F\\\\xf8lsgaard']\",\"[u'Timothy Balme', u'Diana Pe\\\\xf1alver', u'Elizabeth Moody']\",\"[u'Haley Joel Osment', u'Michael Caine', u'Robert Duvall']\",\"[u'Jason Bateman', u'Jonah Bobo', u'Haley Ramm']\",\"[u'Colin Firth', u'Julianne Moore', u'Matthew Goode']\",\"[u'Gene Hackman', u'Barbara Hershey', u'Dennis Hopper']\",\"[u'Brad Pitt', u'Robin Wright', u'Jonah Hill']\",\"[u'Sophie N\\\\xe9lisse', u'Geoffrey Rush', u'Emily Watson']\",\"[u'Bruce Willis', u'Jeremy Irons', u'Samuel L. Jackson']\",\"[u'Brad Pitt', u'Tom Cruise', u'Antonio Banderas']\",\"[u'Robert De Niro', u'Charles Grodin', u'Yaphet Kotto']\",\"[u'David Naughton', u'Jenny Agutter', u'Joe Belcher']\",\"[u'Denzel Washington', u'Forest Whitaker', u'Kimberly Elise']\",\"[u'Tyler Labine', u'Alan Tudyk', u'Katrina Bowden']\",\"[u'Susan Sarandon', u'Sean Penn', u'Robert Prosky']\",\"[u'Holly Hunter', u'Harvey Keitel', u'Sam Neill']\",\"[u'Ben Affleck', u'Rebecca Hall', u'Jon Hamm']\",\"[u'James Franco', u'Andy Serkis', u'Freida Pinto']\",\"[u'Hilary Swank', u'Chlo\\\\xeb Sevigny', u'Peter Sarsgaard']\",\"[u'Denis Leary', u'John Leguizamo', u'Ray Romano']\",\"[u'John Malkovich', u'Gary Sinise', u'Ray Walston']\",\"[u'Paul Giamatti', u'Thomas Haden Church', u'Virginia Madsen']\",\"[u'John Cusack', u'Iben Hjejle', u'Todd Louiso']\",\"[u'John Cleese', u'Terry Gilliam', u'Eric Idle']\",\"[u'Asa Butterfield', u'Chlo\\\\xeb Grace Moretz', u'Christopher Lee']\",\"[u'Nicolas Cage', u'Elisabeth Shue', u'Julian Sands']\",\"[u'Bruce Campbell', u'Ellen Sandweiss', u'Richard DeManincor']\",\"[u'Tom Cruise', u'Jamie Foxx', u'Jada Pinkett Smith']\",\"[u'Steve Martin', u'John Candy', u'Laila Robins']\",\"[u'Aksel Hennie', u'Synn\\\\xf8ve Macody Lund', u'Nikolaj Coster-Waldau']\",\"[u'Kevin Costner', u'James Earl Jones', u'Ray Liotta']\",\"[u'Michael Keaton', u'Jack Nicholson', u'Kim Basinger']\",\"[u'Fran\\\\xe7ois Cluzet', u'Marie-Jos\\\\xe9e Croze', u'Andr\\\\xe9 Dussollier']\",\"[u'Forest Whitaker', u'Henry Silva', u'John Tormey']\",\"[u'Robert Downey Jr.', u'Geraldine Chaplin', u'Paul Rhys']\",\"[u'Elisabeth Harnois', u'Jesse McCartney', u'Margo Harshman']\",\"[u'Ellen Page', u'Michael Cera', u'Jennifer Garner']\",\"[u'Brad Pitt', u'Casey Affleck', u'Sam Shepard']\",\"[u'Jeff Bridges', u'Robin Williams', u'Adam Bryant']\",\"[u'Ziyi Zhang', u'Takeshi Kaneshiro', u'Andy Lau']\",\"[u'Meryl Streep', u'Nicole Kidman', u'Julianne Moore']\",\"[u'Colm Meaney', u'Henry Goodman', u'David Roper']\",\"[u'Patrick Stewart', u'Jonathan Frakes', u'Brent Spiner']\",\"[u'Robert Redford', u'Robert Duvall', u'Glenn Close']\",\"[u'Ian McKellen', u'Martin Freeman', u'Richard Armitage']\",\"[u'Christian Bale', u'Sean Bean', u'Emily Watson']\",\"[u'Freddie Highmore', u'Keri Russell', u'Jonathan Rhys Meyers']\",\"[u'Emma Thompson', u'Tom Hanks', u'Annie Rose Buckley']\",\"[u'Denzel Washington', u'Vicellous Reon Shannon', u'Deborah Kara Unger']\",\"[u'Tim Robbins', u'Elizabeth Pe\\\\xf1a', u'Danny Aiello']\",\"[u'Peter Sallis', u'Helena Bonham Carter', u'Ralph Fiennes']\",\"[u'Chevy Chase', u\\\"Beverly D'Angelo\\\", u'Juliette Lewis']\",\"[u'David Strathairn', u'George Clooney', u'Patricia Clarkson']\",\"[u'Dustin Hoffman', u'Susan George', u'Peter Vaughan']\",\"[u'Chadwick Boseman', u'T.R. Knight', u'Harrison Ford']\",\"[u'Sean Astin', u'Jon Favreau', u'Ned Beatty']\",\"[u'Robert De Niro', u'Kevin Bacon', u'Brad Pitt']\",\"[u'Cillian Murphy', u'Padraic Delaney', u'Liam Cunningham']\",\"[u'Leonardo DiCaprio', u'Cameron Diaz', u'Daniel Day-Lewis']\",\"[u'Cate Blanchett', u'Geoffrey Rush', u'Christopher Eccleston']\",\"[u'Elijah Wood', u'Charlie Hunnam', u'Claire Forlani']\",\"[u'Adam Sandler', u'Don Cheadle', u'Jada Pinkett Smith']\",\"[u'Peter Weller', u'Nancy Allen', u\\\"Dan O'Herlihy\\\"]\",\"[u'Kevin Spacey', u'Kate Winslet', u'Laura Linney']\",\"[u'Hayden Christensen', u'Kevin Kline', u'Kristin Scott Thomas']\",\"[u'Steve Carell', u'Kristen Wiig', u'Benjamin Bratt']\",\"[u'Pam Grier', u'Samuel L. Jackson', u'Robert Forster']\",\"[u'Tyrin Turner', u'Larenz Tate', u'June Kyoto Lu']\",\"[u'Fran\\\\xe7ois B\\\\xe9gaudeau', u'Agame Malembo-Emene', u'Ang\\\\xe9lica Sancio']\",\"[u'John Cusack', u'Dianne Wiest', u'Jennifer Tilly']\",\"[u'Paul Giamatti', u'Shari Springer Berman', u'Harvey Pekar']\",\"[u'Ben Whishaw', u'Dustin Hoffman', u'Alan Rickman']\",\"[u'Tom Hanks', u'Halle Berry', u'Hugh Grant']\",\"[u'Dustin Hoffman', u'Laurence Olivier', u'Roy Scheider']\",\"[u'Dickie Jones', u'Christian Rub', u'Mel Blanc']\",\"[u'Naomi Watts', u'Edward Norton', u'Liev Schreiber']\",\"[u'Bill Paxton', u'Billy Bob Thornton', u'Bridget Fonda']\",\"[u'Patrick Wilson', u'Vera Farmiga', u'Ron Livingston']\",\"[u'James Stewart', u'Doris Day', u'Brenda de Banzie']\",\"[u'Ralph Fiennes', u'John Turturro', u'Rob Morrow']\",\"[u'Richard Dreyfuss', u'Ron Howard', u'Paul Le Mat']\",\"[u'Clint Eastwood', u'Meryl Streep', u'Annie Corley']\",\"[u'Mel Gibson', u'Mark Lee', u'Bill Kerr']\",\"[u'Jean-Claude Donda', u'Eilidh Rankin', u'Duncan MacNeil']\",\"[u'Kurt Russell', u'Patricia Clarkson', u'Nathan West']\",\"[u'Catalina Sandino Moreno', u'Guilied Lopez', u'Orlando Tob\\\\xf3n']\",\"[u'Michael Cera', u'Mary Elizabeth Winstead', u'Kieran Culkin']\",\"[u'Tobey Maguire', u'Jeff Daniels', u'Joan Allen']\",\"[u'Robert Downey Jr.', u'Jude Law', u'Jared Harris']\",\"[u'Meryl Streep', u'Philip Seymour Hoffman', u'Amy Adams']\",\"[u'Jeff Goldblum', u'Geena Davis', u'John Getz']\",\"[u'Bel\\\\xe9n Rueda', u'Fernando Cayo', u'Roger Pr\\\\xedncep']\",\"[u'Monica Bellucci', u'Giuseppe Sulfaro', u'Luciano Federico']\",\"[u'Robert Redford', u'Faye Dunaway', u'Cliff Robertson']\",\"[u'Manuela Velasco', u'Ferran Terraza', u'Jorge-Yamam Serrano']\",\"[u'Kevin Costner', u'Clint Eastwood', u'Laura Dern']\",\"[u'Cary Grant', u'Grace Kelly', u'Jessie Royce Landis']\",\"[u'Fred Willard', u'Eugene Levy', u\\\"Catherine O'Hara\\\"]\",\"[u'Elijah Wood', u'Eugene Hutz', u'Boris Leskin']\",\"[u'Heather Langenkamp', u'Johnny Depp', u'Robert Englund']\",\"[u'Kevin Kline', u'Joan Allen', u'Sigourney Weaver']\",\"[u'Patrick Stewart', u'Hugh Jackman', u'Halle Berry']\",\"[u'Tilda Swinton', u'John C. Reilly', u'Ezra Miller']\",\"[u'Stephen Dorff', u'Marisol Nichols', u'Vincent Miller']\",\"[u'Julianne Moore', u'Alec Baldwin', u'Kristen Stewart']\",\"[u'Marion Cotillard', u'Matthias Schoenaerts', u'Armand Verdure']\",\"[u'Hilary Swank', u'Imelda Staunton', u'Patrick Dempsey']\",\"[u'Brad Pitt', u'Anthony Hopkins', u'Aidan Quinn']\",\"[u'Vincent Gallo', u'Christina Ricci', u'Ben Gazzara']\",\"[u'Ralph Fiennes', u'Rachel Weisz', u'Hubert Kound\\\\xe9']\",\"[u'Joe Pesci', u'Marisa Tomei', u'Ralph Macchio']\",\"[u'Marilyn Burns', u'Edwin Neal', u'Allen Danziger']\",\"[u'Ming-Na Wen', u'Eddie Murphy', u'BD Wong']\",\"[u'Viggo Mortensen', u'Maria Bello', u'Ed Harris']\",\"[u'Kevin Costner', u'Robert Duvall', u'Diego Luna']\",\"[u'Arnold Schwarzenegger', u'Sharon Stone', u'Michael Ironside']\",\"[u'Sean Gullette', u'Mark Margolis', u'Ben Shenkman']\",\"[u'Marisa Paredes', u'Eduardo Noriega', u'Federico Luppi']\",\"[u'Leonardo DiCaprio', u'Cate Blanchett', u'Kate Beckinsale']\",\"[u'Keanu Reeves', u'Al Pacino', u'Charlize Theron']\",\"[u'Hugo Weaving', u'Guy Pearce', u'Terence Stamp']\",\"[u'Daniel Radcliffe', u'Emma Watson', u'Rupert Grint']\",\"[u'Michael B. Jordan', u'Melonie Diaz', u'Octavia Spencer']\",\"[u'Tom Wilkinson', u'Sissy Spacek', u'Nick Stahl']\",\"[u'Jake Gyllenhaal', u'Michelle Monaghan', u'Vera Farmiga']\",\"[u'Javier Bardem', u'Maricel \\\\xc1lvarez', u'Hanaa Bouchaib']\",\"[u'Sean Connery', u'Robert Shaw', u'Lotte Lenya']\",\"[u'Brendan Gleeson', u\\\"Chris O'Dowd\\\", u'Kelly Reilly']\",\"[u'Robert De Niro', u'Jeremy Irons', u'Ray McAnally']\",\"[u'Tom Hollander', u'Peter Capaldi', u'James Gandolfini']\",\"[u'Tommy Lee Jones', u'Barry Pepper', u'Dwight Yoakam']\",\"[u'Brad Pitt', u'Cate Blanchett', u'Gael Garc\\\\xeda Bernal']\",\"[u'Jon Finch', u'Barry Foster', u'Alec McCowen']\",\"[u'Melanie Lynskey', u'Kate Winslet', u'Sarah Peirse']\",\"[u'Johnny Depp', u'Helena Bonham Carter', u'Alan Rickman']\",\"[u'Gary Oldman', u'Winona Ryder', u'Anthony Hopkins']\",\"[u'Joseph Gordon-Levitt', u'Bruce Willis', u'Emily Blunt']\",\"[u'Ray Winstone', u'Guy Pearce', u'Emily Watson']\",\"[u'Steve McQueen', u'Jacqueline Bisset', u'Robert Vaughn']\",\"[u'Daniel Radcliffe', u'Rupert Grint', u'Richard Harris']\",\"[u'Tony Chiu Wai Leung', u'Ziyi Zhang', u'Faye Wong']\",\"[u'Felicity Huffman', u'Kevin Zegers', u'Fionnula Flanagan']\",\"[u'Harvey Keitel', u'William Hurt', u'Giancarlo Esposito']\",\"[u'Jessica Harper', u'Stefania Casini', u'Flavio Bucci']\",\"[u'Robert Downey Jr.', u'Robert Duvall', u'Vera Farmiga']\",\"[u'Gael Garc\\\\xeda Bernal', u'Fele Mart\\\\xednez', u'Javier C\\\\xe1mara']\",\"[u'George Clooney', u'Vera Farmiga', u'Anna Kendrick']\",\"[u'Keira Knightley', u'Mark Ruffalo', u'Adam Levine']\",\"[u'Paul Walker', u'Cameron Bright', u'Chazz Palminteri']\",\"[u'Steve Buscemi', u'Thora Birch', u'Scarlett Johansson']\",\"[u'Harrison Ford', u'Kelly McGillis', u'Lukas Haas']\",\"[u'Eddie Murphy', u'Dan Aykroyd', u'Ralph Bellamy']\",\"[u'Matthew McConaughey', u'Tye Sheridan', u'Jacob Lofland']\",\"[u'Evan Rachel Wood', u'Jim Sturgess', u'Joe Anderson']\",\"[u'Liam Neeson', u'Geoffrey Rush', u'Uma Thurman']\",\"[u'Cate Blanchett', u'Judi Dench', u'Andrew Simpson']\",\"[u'Oscar Isaac', u'Carey Mulligan', u'John Goodman']\",\"[u'Joseph Gordon-Levitt', u'Lukas Haas', u'Emilie de Ravin']\",\"[u\\\"Brian O'Halloran\\\", u'Jeff Anderson', u'Rosario Dawson']\",\"[u'John Cusack', u'Ione Skye', u'John Mahoney']\",\"[u'Jim Carrey', u'Danny DeVito', u'Gerry Becker']\",\"[u'Robert De Niro', u'Harvey Keitel', u'David Proval']\",\"[u'Daniel Radcliffe', u'Emma Watson', u'Rupert Grint']\",\"[u'Alec Baldwin', u'Geena Davis', u'Michael Keaton']\",\"[u'Steve Carell', u'Ryan Gosling', u'Julianne Moore']\",\"[u'Nigel Terry', u'Helen Mirren', u'Nicholas Clay']\",\"[u'John Wayne', u'Kim Darby', u'Glen Campbell']\",\"[u'David Bowie', u'Jennifer Connelly', u'Toby Froud']\",\"[u'Kathryn Beaumont', u'Ed Wynn', u'Richard Haydn']\",\"[u'Ethan Hawke', u'Sarah Snook', u'Noah Taylor']\",\"[u'Kenneth Branagh', u'Emma Thompson', u'Keanu Reeves']\",\"[u'Sean Connery', u\\\"Ryan O'Neal\\\", u'Michael Caine']\",\"[u'Nicolas Cage', u'Holly Hunter', u'Trey Wilson']\",\"[u'Jack Nicholson', u'Morgan Freeman', u'Sean Hayes']\",\"[u'Shirley MacLaine', u'Debra Winger', u'Jack Nicholson']\",\"[u'Michael Shannon', u'Jessica Chastain', u'Shea Whigham']\",\"[u'Julianne Moore', u'Dennis Quaid', u'Dennis Haysbert']\",\"[u'Jack Nance', u'Charlotte Stewart', u'Allen Joseph']\",\"[u'Greta Gerwig', u'Mickey Sumner', u'Adam Driver']\",\"[u'Macaulay Culkin', u'Joe Pesci', u'Daniel Stern']\",\"[u'Jennifer Tilly', u'Gina Gershon', u'Joe Pantoliano']\",\"[u'Johnny Depp', u'Christina Ricci', u'Miranda Richardson']\",\"[u'Philip Seymour Hoffman', u'Bill Nighy', u'Nick Frost']\",\"[u'Noah Hathaway', u'Barret Oliver', u'Tami Stronach']\",\"[u'Patrick Stewart', u'Hugh Jackman', u'Ian McKellen']\",\"[u'Jessica Chastain', u'Joel Edgerton', u'Chris Pratt']\",\"[u'Woody Allen', u'Diane Keaton', u'Jerry Adler']\",\"[u'Chevy Chase', u\\\"Beverly D'Angelo\\\", u'Imogene Coca']\",\"[u'Cameron Diaz', u'Abigail Breslin', u'Alec Baldwin']\",\"[u'Woody Allen', u'Judy Davis', u'Julia Louis-Dreyfus']\",\"[u'Steve Carell', u'Toni Collette', u'Allison Janney']\",\"[u'Philip Seymour Hoffman', u'Clifton Collins Jr.', u'Catherine Keener']\",\"[u'Morgan Freeman', u'Jessica Tandy', u'Dan Aykroyd']\",\"[u'Anne Parillaud', u'Marc Duret', u'Patrick Fontana']\",\"[u'Daniel Day-Lewis', u'Sally Field', u'David Strathairn']\",\"[u'Bradley Cooper', u'Anna Friel', u'Abbie Cornish']\",\"[u'Dan Castellaneta', u'Julie Kavner', u'Nancy Cartwright']\",\"[u'Sean Connery', u'Nicolas Cage', u'Ed Harris']\",\"[u'Ralph Fiennes', u'Juliette Binoche', u'Willem Dafoe']\",\"[u'Gerard Butler', u'Jamie Foxx', u'Leslie Bibb']\",\"[u'Michael Douglas', u'Tobey Maguire', u'Frances McDormand']\",\"[u'Matthew Macfadyen', u'Peter Dinklage', u'Ewen Bremner']\",\"[u'Ryan Gosling', u'Michelle Williams', u'John Doman']\",\"[u'Tobey Maguire', u'Charlize Theron', u'Michael Caine']\",\"[u'Dustin Hoffman', u'Jessica Lange', u'Teri Garr']\",\"[u'Michael J. Fox', u'Christopher Lloyd', u'Mary Steenburgen']\",\"[u'Russell Crowe', u'Paul Bettany', u'Billy Boyd']\",\"[u'JoBeth Williams', u\\\"Heather O'Rourke\\\", u'Craig T. Nelson']\",\"[u'Charlie Sheen', u'Michael Douglas', u'Tamara Tunie']\"],\"content_rating\":[\"R\",\"R\",\"R\",\"PG-13\",\"R\",\"NOT RATED\",\"NOT RATED\",\"PG-13\",\"R\",\"R\",\"PG-13\",\"PG-13\",\"PG\",\"PG-13\",\"PG-13\",\"PG-13\",\"R\",\"UNRATED\",\"R\",\"PG\",\"R\",\"R\",\"APPROVED\",\"R\",\"R\",\"PG-13\",\"PG-13\",\"R\",\"R\",\"PASSED\",\"PG\",\"R\",\"PG\",\"R\",\"R\",\"G\",\"R\",\"PG\",\"APPROVED\",\"R\",\"R\",\"NOT RATED\",\"R\",\"PG-13\",\"R\",\"R\",\"R\",\"PG\",\"PG\",\"R\",\"R\",\"R\",\"APPROVED\",\"PG-13\",\"PG\",\"G\",\"R\",\"R\",\"APPROVED\",\"R\",\"PG-13\",\"UNRATED\",\"R\",\"NOT RATED\",\"G\",\"APPROVED\",\"NOT RATED\",\"R\",\"R\",\"PG-13\",\"R\",\"APPROVED\",\"NOT RATED\",\"PG-13\",\"APPROVED\",\"R\",\"APPROVED\",\"R\",\"R\",\"PASSED\",\"PG\",\"G\",\"R\",\"NOT RATED\",\"R\",\"PG\",\"X\",\"NOT RATED\",\"NOT RATED\",\"NOT RATED\",\"R\",\"R\",\"R\",\"NOT RATED\",\"APPROVED\",\"APPROVED\",\"UNRATED\",\"PG\",\"UNRATED\",\"R\",\"NOT RATED\",\"PG\",\"R\",\"APPROVED\",\"NOT RATED\",\"NOT RATED\",\"R\",\"APPROVED\",\"NOT RATED\",\"NOT RATED\",\"G\",\"NOT RATED\",\"R\",\"PG-13\",\"R\",\"R\",\"NOT RATED\",\"G\",\"PG-13\",\"R\",\"UNRATED\",\"R\",\"NOT RATED\",\"UNRATED\",\"R\",\"R\",\"PG\",\"UNRATED\",\"NOT RATED\",\"R\",\"R\",\"G\",\"NOT RATED\",\"NOT RATED\",\"NOT RATED\",\"R\",\"R\",\"PG\",\"R\",\"R\",\"NOT RATED\",\"R\",\"PG\",\"R\",\"UNRATED\",\"R\",\"PG-13\",\"PG\",\"PG\",\"NOT RATED\",\"R\",\"R\",\"R\",\"R\",\"PG\",\"R\",\"R\",\"G\",\"R\",\"PASSED\",\"PG\",\"UNRATED\",\"R\",\"R\",\"R\",\"NOT RATED\",\"R\",\"NOT RATED\",\"G\",\"NOT RATED\",\"PG-13\",\"PG\",\"R\",\"R\",\"NOT RATED\",\"PG-13\",\"R\",\"PG-13\",\"NOT RATED\",\"PG\",\"PG-13\",\"NOT RATED\",\"NOT RATED\",\"NOT RATED\",\"R\",\"R\",\"R\",\"NaN\",\"NOT RATED\",\"R\",\"R\",\"PG-13\",\"G\",\"PG\",\"R\",\"R\",\"PG-13\",\"R\",\"R\",\"R\",\"PG\",\"R\",\"R\",\"NOT RATED\",\"G\",\"R\",\"R\",\"APPROVED\",\"PG\",\"PG-13\",\"APPROVED\",\"PG-13\",\"R\",\"R\",\"R\",\"NOT RATED\",\"R\",\"UNRATED\",\"R\",\"TV-MA\",\"PG\",\"PG\",\"PG-13\",\"R\",\"PASSED\",\"R\",\"R\",\"PG-13\",\"R\",\"APPROVED\",\"APPROVED\",\"NOT RATED\",\"PG-13\",\"APPROVED\",\"NOT RATED\",\"R\",\"PG\",\"APPROVED\",\"R\",\"UNRATED\",\"PG-13\",\"PG\",\"R\",\"R\",\"R\",\"PG\",\"NOT RATED\",\"R\",\"PG-13\",\"PG\",\"PG\",\"APPROVED\",\"NOT RATED\",\"APPROVED\",\"NOT RATED\",\"NOT RATED\",\"R\",\"UNRATED\",\"UNRATED\",\"PG-13\",\"PG-13\",\"R\",\"UNRATED\",\"NOT RATED\",\"R\",\"NOT RATED\",\"PG\",\"PG\",\"R\",\"PG\",\"PG-13\",\"PG-13\",\"APPROVED\",\"R\",\"R\",\"PG\",\"R\",\"G\",\"R\",\"PG-13\",\"PG\",\"R\",\"GP\",\"R\",\"PG\",\"APPROVED\",\"PG-13\",\"APPROVED\",\"R\",\"UNRATED\",\"R\",\"UNRATED\",\"APPROVED\",\"PASSED\",\"G\",\"PG\",\"R\",\"PG\",\"APPROVED\",\"PG-13\",\"R\",\"PG-13\",\"GP\",\"PG\",\"PG\",\"PG-13\",\"R\",\"PG\",\"R\",\"R\",\"PG-13\",\"R\",\"PG-13\",\"G\",\"PG-13\",\"NOT RATED\",\"R\",\"UNRATED\",\"R\",\"R\",\"R\",\"R\",\"R\",\"R\",\"R\",\"R\",\"R\",\"PG\",\"NOT RATED\",\"APPROVED\",\"UNRATED\",\"R\",\"G\",\"APPROVED\",\"R\",\"PG-13\",\"PG\",\"R\",\"UNRATED\",\"PG-13\",\"PG-13\",\"PG-13\",\"PG\",\"NOT RATED\",\"R\",\"R\",\"R\",\"PG\",\"G\",\"R\",\"APPROVED\",\"UNRATED\",\"R\",\"UNRATED\",\"R\",\"R\",\"PG-13\",\"G\",\"PASSED\",\"PG-13\",\"R\",\"G\",\"PG-13\",\"R\",\"R\",\"R\",\"PG-13\",\"R\",\"G\",\"R\",\"PG-13\",\"R\",\"R\",\"PG-13\",\"R\",\"R\",\"UNRATED\",\"PG-13\",\"PG\",\"PG-13\",\"PG-13\",\"PG\",\"R\",\"R\",\"UNRATED\",\"PG-13\",\"PG\",\"X\",\"R\",\"UNRATED\",\"R\",\"PG-13\",\"R\",\"PG\",\"R\",\"PG\",\"R\",\"PG-13\",\"PG\",\"R\",\"PG-13\",\"R\",\"R\",\"PG-13\",\"PG\",\"NOT RATED\",\"R\",\"R\",\"PG-13\",\"R\",\"APPROVED\",\"PG-13\",\"UNRATED\",\"R\",\"G\",\"R\",\"R\",\"R\",\"R\",\"NOT RATED\",\"PG\",\"PG\",\"R\",\"R\",\"R\",\"PG\",\"R\",\"NOT RATED\",\"PG-13\",\"R\",\"R\",\"R\",\"R\",\"PG-13\",\"PG-13\",\"R\",\"R\",\"PG-13\",\"R\",\"PG-13\",\"R\",\"R\",\"PG-13\",\"PG\",\"APPROVED\",\"APPROVED\",\"R\",\"PG-13\",\"PG\",\"R\",\"R\",\"APPROVED\",\"R\",\"NOT RATED\",\"R\",\"PG-13\",\"NC-17\",\"R\",\"R\",\"PG-13\",\"PG-13\",\"G\",\"R\",\"R\",\"R\",\"R\",\"R\",\"UNRATED\",\"PG\",\"R\",\"R\",\"PG\",\"UNRATED\",\"R\",\"R\",\"R\",\"PG-13\",\"PG-13\",\"NOT RATED\",\"R\",\"R\",\"NOT RATED\",\"R\",\"R\",\"APPROVED\",\"R\",\"X\",\"PG-13\",\"PG-13\",\"PG-13\",\"R\",\"NOT RATED\",\"R\",\"R\",\"PG\",\"PG\",\"R\",\"G\",\"G\",\"PG-13\",\"R\",\"PG\",\"R\",\"PG-13\",\"PG\",\"R\",\"R\",\"PG-13\",\"PG-13\",\"R\",\"PG-13\",\"PG-13\",\"PG\",\"APPROVED\",\"PG\",\"R\",\"PG\",\"PG-13\",\"PG\",\"R\",\"PG\",\"APPROVED\",\"PG-13\",\"UNRATED\",\"PG\",\"PG\",\"UNRATED\",\"R\",\"NOT RATED\",\"R\",\"R\",\"NOT RATED\",\"PG-13\",\"R\",\"G\",\"PG\",\"PG-13\",\"PG\",\"R\",\"PG-13\",\"PG-13\",\"R\",\"PG-13\",\"R\",\"R\",\"R\",\"NOT RATED\",\"PG\",\"R\",\"R\",\"PG-13\",\"PG\",\"R\",\"R\",\"PG-13\",\"R\",\"R\",\"APPROVED\",\"R\",\"R\",\"R\",\"R\",\"PG-13\",\"APPROVED\",\"R\",\"PG\",\"R\",\"PG-13\",\"PG-13\",\"PG-13\",\"R\",\"R\",\"PG-13\",\"NOT RATED\",\"R\",\"APPROVED\",\"R\",\"PG-13\",\"PG-13\",\"PG-13\",\"PG\",\"R\",\"UNRATED\",\"R\",\"R\",\"PG\",\"PG\",\"R\",\"R\",\"R\",\"PG\",\"PG-13\",\"NOT RATED\",\"R\",\"R\",\"PG\",\"R\",\"R\",\"R\",\"R\",\"R\",\"R\",\"R\",\"R\",\"NC-17\",\"PG-13\",\"R\",\"R\",\"R\",\"R\",\"R\",\"R\",\"APPROVED\",\"R\",\"R\",\"R\",\"R\",\"PG\",\"APPROVED\",\"PASSED\",\"PG-13\",\"R\",\"PG-13\",\"PG-13\",\"R\",\"G\",\"PG-13\",\"PG-13\",\"R\",\"PG-13\",\"PG-13\",\"UNRATED\",\"R\",\"R\",\"PG\",\"R\",\"R\",\"R\",\"R\",\"PG-13\",\"R\",\"PG\",\"PG-13\",\"PG-13\",\"PG-13\",\"PG\",\"R\",\"NOT RATED\",\"R\",\"NaN\",\"R\",\"R\",\"UNRATED\",\"PG-13\",\"R\",\"R\",\"APPROVED\",\"PG\",\"PG-13\",\"R\",\"PG-13\",\"PG-13\",\"PG-13\",\"R\",\"PG\",\"NOT RATED\",\"R\",\"PG-13\",\"G\",\"PG\",\"R\",\"R\",\"R\",\"NOT RATED\",\"G\",\"R\",\"R\",\"R\",\"PG-13\",\"PG-13\",\"PG-13\",\"R\",\"PG-13\",\"R\",\"PG-13\",\"R\",\"PG-13\",\"UNRATED\",\"R\",\"PG-13\",\"R\",\"GP\",\"R\",\"R\",\"R\",\"R\",\"PG-13\",\"R\",\"R\",\"PG-13\",\"R\",\"R\",\"R\",\"APPROVED\",\"R\",\"PG-13\",\"PG-13\",\"R\",\"R\",\"PG-13\",\"R\",\"R\",\"R\",\"APPROVED\",\"R\",\"NC-17\",\"R\",\"R\",\"PG-13\",\"R\",\"R\",\"R\",\"R\",\"R\",\"R\",\"R\",\"PG-13\",\"PG-13\",\"R\",\"R\",\"UNRATED\",\"R\",\"R\",\"R\",\"R\",\"PG-13\",\"PG-13\",\"PG\",\"R\",\"R\",\"R\",\"R\",\"R\",\"PG\",\"R\",\"R\",\"R\",\"R\",\"PG\",\"R\",\"R\",\"PG-13\",\"R\",\"PG\",\"PG\",\"NC-17\",\"PG-13\",\"UNRATED\",\"PG-13\",\"G\",\"R\",\"R\",\"R\",\"NOT RATED\",\"PG\",\"R\",\"G\",\"APPROVED\",\"R\",\"R\",\"R\",\"R\",\"PG\",\"R\",\"R\",\"PG\",\"PG-13\",\"PG-13\",\"R\",\"R\",\"R\",\"R\",\"PG-13\",\"R\",\"R\",\"R\",\"R\",\"PG-13\",\"R\",\"PG\",\"PG-13\",\"R\",\"R\",\"R\",\"PG\",\"R\",\"NC-17\",\"R\",\"R\",\"R\",\"PG\",\"PG-13\",\"UNRATED\",\"R\",\"PG-13\",\"PG-13\",\"PG-13\",\"R\",\"R\",\"PG-13\",\"PG-13\",\"R\",\"PG-13\",\"PG\",\"PG-13\",\"R\",\"PG\",\"PG-13\",\"R\",\"R\",\"G\",\"PG-13\",\"PG\",\"UNRATED\",\"PG-13\",\"PG\",\"R\",\"NOT RATED\",\"R\",\"R\",\"R\",\"R\",\"R\",\"R\",\"R\",\"PG\",\"R\",\"R\",\"PG-13\",\"R\",\"R\",\"R\",\"R\",\"R\",\"APPROVED\",\"PG-13\",\"R\",\"R\",\"PG\",\"PG-13\",\"PG\",\"PG-13\",\"PG\",\"PG\",\"PG\",\"R\",\"PG-13\",\"PG-13\",\"PG-13\",\"PG-13\",\"R\",\"R\",\"R\",\"R\",\"R\",\"PG-13\",\"APPROVED\",\"PG-13\",\"PG-13\",\"R\",\"R\",\"PG-13\",\"R\",\"R\",\"PG-13\",\"R\",\"PG-13\",\"R\",\"R\",\"R\",\"R\",\"R\",\"G\",\"R\",\"R\",\"R\",\"R\",\"R\",\"PG-13\",\"R\",\"R\",\"PG\",\"R\",\"R\",\"PG-13\",\"R\",\"APPROVED\",\"R\",\"PG\",\"NOT RATED\",\"R\",\"R\",\"R\",\"R\",\"R\",\"R\",\"R\",\"R\",\"PG\",\"PG\",\"R\",\"R\",\"R\",\"X\",\"R\",\"NC-17\",\"R\",\"R\",\"R\",\"R\",\"R\",\"R\",\"PG-13\",\"PG-13\",\"PG-13\",\"R\",\"R\",\"R\",\"R\",\"PG-13\",\"R\",\"R\",\"PG-13\",\"PG\",\"PG-13\",\"R\",\"NaN\",\"PG\",\"G\",\"R\",\"PG-13\",\"PG\",\"PG-13\",\"PG-13\",\"R\",\"R\",\"PG-13\",\"UNRATED\",\"R\",\"PG\",\"R\",\"R\",\"R\",\"PG\",\"PG-13\",\"R\",\"PG\",\"R\",\"PG-13\",\"R\",\"PG-13\",\"R\",\"PG\",\"R\",\"PG-13\",\"PG-13\",\"PG-13\",\"R\",\"R\",\"R\",\"R\",\"R\",\"NC-17\",\"PG-13\",\"PG\",\"PG\",\"PG-13\",\"PG\",\"R\"],\"duration\":[142,175,200,152,154,96,161,201,195,139,178,148,124,142,179,169,133,207,146,121,136,130,130,106,127,116,175,118,110,87,125,112,102,107,119,87,169,115,112,109,189,110,150,165,155,137,113,165,95,151,155,153,125,130,116,89,137,117,88,165,170,89,146,99,98,116,156,122,149,134,122,136,157,123,119,137,128,120,229,107,134,103,177,129,102,216,136,93,68,189,99,108,113,181,103,138,110,129,88,160,126,91,116,125,143,93,102,132,153,183,160,120,138,140,153,170,129,81,127,131,172,115,108,107,129,156,96,91,95,162,130,86,186,151,96,170,118,161,131,126,131,129,224,180,105,117,140,119,124,130,139,107,132,117,126,122,178,238,149,172,98,116,116,123,148,123,182,92,93,100,135,105,94,140,83,95,98,143,99,98,121,163,121,167,188,121,109,110,129,127,94,107,100,117,129,120,121,133,111,122,101,134,165,138,212,154,89,134,93,114,88,130,101,158,99,108,124,132,113,131,191,167,130,147,102,88,165,132,118,101,108,174,98,92,98,106,85,101,105,115,115,124,105,103,138,184,120,99,131,138,98,123,118,114,118,112,124,160,67,146,125,115,134,141,129,104,94,124,150,119,128,143,85,151,118,101,99,92,125,102,106,107,91,80,122,102,112,92,135,136,153,105,126,68,84,103,145,80,106,127,178,137,172,76,130,96,82,115,95,143,125,120,127,112,104,113,189,127,188,96,113,132,122,126,140,133,112,102,93,109,81,108,111,119,96,197,127,138,66,181,141,144,128,83,121,98,117,94,174,112,108,70,99,96,137,136,100,90,96,161,115,181,169,98,136,138,119,123,112,120,103,97,109,165,156,147,100,126,115,105,144,102,107,119,90,197,86,113,133,64,141,113,122,105,119,102,122,123,113,97,117,111,85,99,134,75,109,117,91,128,111,119,100,114,92,141,101,115,127,96,129,135,109,157,193,94,155,113,130,117,159,141,112,162,126,120,144,120,109,97,108,115,136,90,170,220,116,134,124,91,103,96,119,98,101,93,179,155,121,103,127,103,107,100,92,94,158,86,115,130,107,100,108,124,131,122,242,127,141,126,89,113,152,107,92,145,84,126,132,78,117,128,100,128,100,143,107,100,125,106,157,94,104,94,153,123,120,105,166,112,94,111,87,80,108,102,105,136,101,100,108,101,106,105,88,129,138,129,118,139,123,150,132,80,178,79,163,114,144,130,154,81,95,101,120,93,115,106,120,110,123,142,99,112,120,122,130,139,129,141,127,130,118,110,115,101,112,108,143,152,117,121,119,114,122,105,110,116,139,121,109,146,113,100,121,113,113,117,93,101,90,131,98,93,121,82,124,100,117,99,116,123,114,133,105,127,144,90,118,122,102,187,87,154,89,88,129,95,118,98,194,114,80,130,135,101,105,129,134,143,202,89,106,92,137,124,122,113,112,110,135,88,146,104,125,131,91,142,129,158,102,99,101,104,119,103,88,100,146,150,140,140,110,97,102,152,100,94,85,104,112,191,119,111,94,103,134,157,158,127,101,109,98,134,168,93,145,111,88,123,121,144,116,124,147,106,113,129,94,126,128,111,146,85,105,132,130,162,113,110,113,162,110,78,92,95,138,102,128,96,164,126,110,109,122,124,128,157,120,102,152,170,102,116,164,85,104,99,81,131,101,121,69,92,94,141,116,98,135,121,108,114,102,112,140,157,128,108,139,83,131,113,136,96,118,108,83,205,124,111,137,104,109,115,99,114,133,131,131,123,126,97,126,89,122,121,125,105,118,81,115,126,113,107,126,111,85,120,93,100,107,126,131,116,143,93,96,160,137,119,114,98,111,138,144,107,114,125,146,113,85,97,93,113,128,114,147,127,167,124,109,124,102,130,125,98,154,97,128,98,101,147,172,125,88,125,121,112,120,133,110,135,110,80,135,101,112,124,129,104,96,105,109,117,78,138,106,90,106,91,112,134,112,104,101,120,123,133,110,129,120,83,88,96,139,113,84,106,170,144,104,153,85,130,93,148,115,102,125,106,121,143,116,99,116,128,119,104,114,152,129,103,112,92,141,106,109,104,122,111,112,116,130,133,134,92,104,110,97,100,118,112,138,92,118,140,128,101,75,97,111,175,94,97,132,120,107,89,86,103,108,105,117,102,104,157,104,98,109,96,103,114,99,118,150,105,87,136,162,109,107,90,112,126,116,118,138,114,126],\"genre\":[\"Crime\",\"Crime\",\"Crime\",\"Action\",\"Crime\",\"Drama\",\"Western\",\"Adventure\",\"Biography\",\"Drama\",\"Adventure\",\"Action\",\"Action\",\"Drama\",\"Adventure\",\"Adventure\",\"Drama\",\"Drama\",\"Biography\",\"Action\",\"Action\",\"Crime\",\"Drama\",\"Crime\",\"Drama\",\"Comedy\",\"Western\",\"Drama\",\"Crime\",\"Comedy\",\"Animation\",\"Biography\",\"Drama\",\"Drama\",\"Crime\",\"Comedy\",\"Action\",\"Action\",\"Mystery\",\"Horror\",\"Crime\",\"Drama\",\"Biography\",\"Action\",\"Action\",\"Action\",\"Mystery\",\"Drama\",\"Comedy\",\"Crime\",\"Drama\",\"Drama\",\"Comedy\",\"Drama\",\"Adventure\",\"Animation\",\"Drama\",\"Horror\",\"Drama\",\"Western\",\"Comedy\",\"Animation\",\"Horror\",\"Crime\",\"Animation\",\"Crime\",\"Comedy\",\"Drama\",\"Adventure\",\"Animation\",\"Comedy\",\"Adventure\",\"Drama\",\"Drama\",\"Drama\",\"Action\",\"Mystery\",\"Drama\",\"Crime\",\"Crime\",\"Action\",\"Animation\",\"Action\",\"Drama\",\"Drama\",\"Adventure\",\"Crime\",\"Drama\",\"Comedy\",\"Drama\",\"Crime\",\"Drama\",\"Crime\",\"Comedy\",\"Comedy\",\"Drama\",\"Action\",\"Comedy\",\"Crime\",\"Biography\",\"Action\",\"Adventure\",\"Drama\",\"Comedy\",\"Drama\",\"Film-Noir\",\"Comedy\",\"Western\",\"Drama\",\"Comedy\",\"Mystery\",\"Comedy\",\"Crime\",\"Action\",\"Adventure\",\"Crime\",\"Drama\",\"Animation\",\"Action\",\"Western\",\"Adventure\",\"Drama\",\"Crime\",\"Action\",\"Biography\",\"Biography\",\"Animation\",\"Drama\",\"Adventure\",\"Action\",\"Drama\",\"Animation\",\"Drama\",\"Adventure\",\"Drama\",\"Action\",\"Drama\",\"Adventure\",\"Action\",\"Drama\",\"Adventure\",\"Drama\",\"Adventure\",\"Biography\",\"Comedy\",\"Sci-Fi\",\"Drama\",\"Animation\",\"Biography\",\"Mystery\",\"Drama\",\"Comedy\",\"Action\",\"Comedy\",\"Crime\",\"Comedy\",\"Biography\",\"Drama\",\"Drama\",\"Drama\",\"Animation\",\"Horror\",\"Drama\",\"Action\",\"Adventure\",\"Comedy\",\"Drama\",\"Animation\",\"Drama\",\"Crime\",\"Biography\",\"Crime\",\"Drama\",\"Action\",\"Drama\",\"Crime\",\"Crime\",\"Action\",\"Crime\",\"Adventure\",\"Drama\",\"Drama\",\"Crime\",\"Comedy\",\"Drama\",\"Drama\",\"Horror\",\"Biography\",\"Drama\",\"Comedy\",\"Comedy\",\"Drama\",\"Animation\",\"Animation\",\"Action\",\"Drama\",\"Action\",\"Biography\",\"Action\",\"Crime\",\"Crime\",\"Biography\",\"Drama\",\"Drama\",\"Adventure\",\"Drama\",\"Adventure\",\"Drama\",\"Comedy\",\"Biography\",\"Film-Noir\",\"Drama\",\"Crime\",\"Drama\",\"Adventure\",\"Drama\",\"Crime\",\"Crime\",\"Drama\",\"Drama\",\"Biography\",\"Drama\",\"Adventure\",\"Drama\",\"Adventure\",\"Crime\",\"Drama\",\"Drama\",\"Drama\",\"Crime\",\"Drama\",\"Comedy\",\"Drama\",\"Crime\",\"Crime\",\"Action\",\"Western\",\"Drama\",\"Drama\",\"Action\",\"Action\",\"Animation\",\"Drama\",\"Drama\",\"Mystery\",\"Adventure\",\"Comedy\",\"Drama\",\"Action\",\"Mystery\",\"Drama\",\"Drama\",\"Comedy\",\"Crime\",\"Comedy\",\"Comedy\",\"Animation\",\"Crime\",\"Crime\",\"Drama\",\"Biography\",\"Action\",\"Drama\",\"Western\",\"Mystery\",\"Comedy\",\"Comedy\",\"Drama\",\"Action\",\"Drama\",\"Drama\",\"Adventure\",\"Crime\",\"Biography\",\"Biography\",\"Comedy\",\"Action\",\"Animation\",\"Crime\",\"Drama\",\"Comedy\",\"Action\",\"Comedy\",\"Drama\",\"Drama\",\"Comedy\",\"Biography\",\"Comedy\",\"Drama\",\"Drama\",\"Crime\",\"Drama\",\"Mystery\",\"Comedy\",\"Animation\",\"Drama\",\"Action\",\"Crime\",\"Comedy\",\"Adventure\",\"Crime\",\"Action\",\"Biography\",\"Animation\",\"Comedy\",\"Animation\",\"Comedy\",\"Drama\",\"Animation\",\"Adventure\",\"Adventure\",\"Drama\",\"Action\",\"Biography\",\"Comedy\",\"Comedy\",\"Drama\",\"Horror\",\"Drama\",\"Comedy\",\"Drama\",\"Sci-Fi\",\"Horror\",\"Drama\",\"Crime\",\"Drama\",\"Drama\",\"Action\",\"Adventure\",\"Crime\",\"Horror\",\"Drama\",\"Animation\",\"Adventure\",\"Drama\",\"Drama\",\"Adventure\",\"Drama\",\"History\",\"Adventure\",\"Biography\",\"Biography\",\"Drama\",\"Animation\",\"Drama\",\"Drama\",\"Biography\",\"Drama\",\"Biography\",\"Action\",\"Thriller\",\"Horror\",\"Comedy\",\"Horror\",\"Action\",\"Drama\",\"Comedy\",\"Animation\",\"Comedy\",\"Adventure\",\"Drama\",\"Drama\",\"Adventure\",\"Drama\",\"Drama\",\"Crime\",\"Action\",\"Comedy\",\"Adventure\",\"Crime\",\"Comedy\",\"Drama\",\"Drama\",\"Drama\",\"Drama\",\"Drama\",\"Adventure\",\"Drama\",\"Animation\",\"Drama\",\"Action\",\"Animation\",\"Comedy\",\"Crime\",\"Crime\",\"Action\",\"Animation\",\"Drama\",\"Action\",\"Drama\",\"Drama\",\"Action\",\"Drama\",\"Adventure\",\"Comedy\",\"Animation\",\"Drama\",\"Drama\",\"Drama\",\"Comedy\",\"Biography\",\"Action\",\"Drama\",\"Action\",\"Drama\",\"Horror\",\"Drama\",\"Crime\",\"Sci-Fi\",\"Action\",\"Biography\",\"Action\",\"Crime\",\"Crime\",\"Animation\",\"Drama\",\"Drama\",\"Animation\",\"Biography\",\"Adventure\",\"Action\",\"Western\",\"Drama\",\"Biography\",\"Adventure\",\"Crime\",\"Crime\",\"Drama\",\"Drama\",\"Adventure\",\"Drama\",\"Drama\",\"Drama\",\"Action\",\"Action\",\"Comedy\",\"Crime\",\"Action\",\"Crime\",\"Drama\",\"Action\",\"Crime\",\"Biography\",\"Animation\",\"Drama\",\"Adventure\",\"Biography\",\"Biography\",\"Drama\",\"Drama\",\"Biography\",\"Comedy\",\"Action\",\"Animation\",\"Adventure\",\"Action\",\"Drama\",\"Drama\",\"Comedy\",\"Comedy\",\"Biography\",\"Animation\",\"Comedy\",\"Drama\",\"Comedy\",\"Comedy\",\"Crime\",\"Mystery\",\"Family\",\"Action\",\"Action\",\"Animation\",\"Comedy\",\"Drama\",\"Crime\",\"Comedy\",\"Drama\",\"Drama\",\"Crime\",\"Adventure\",\"Comedy\",\"Drama\",\"Crime\",\"Comedy\",\"Sci-Fi\",\"Drama\",\"Comedy\",\"Animation\",\"Action\",\"Animation\",\"Drama\",\"Action\",\"Crime\",\"Crime\",\"Animation\",\"Crime\",\"Thriller\",\"Family\",\"Animation\",\"Drama\",\"Biography\",\"Animation\",\"Action\",\"Drama\",\"Drama\",\"Drama\",\"Crime\",\"Drama\",\"Drama\",\"Action\",\"Adventure\",\"Drama\",\"Animation\",\"Horror\",\"Biography\",\"Action\",\"Comedy\",\"Action\",\"Animation\",\"Comedy\",\"Adventure\",\"Drama\",\"Adventure\",\"Drama\",\"Comedy\",\"Drama\",\"Drama\",\"Comedy\",\"Drama\",\"Action\",\"Drama\",\"Action\",\"Action\",\"Action\",\"Action\",\"Comedy\",\"Biography\",\"Adventure\",\"Drama\",\"Action\",\"Drama\",\"Animation\",\"Comedy\",\"Drama\",\"Drama\",\"Comedy\",\"Comedy\",\"Biography\",\"Drama\",\"Crime\",\"Biography\",\"Adventure\",\"Action\",\"Comedy\",\"Biography\",\"Adventure\",\"Crime\",\"Comedy\",\"Drama\",\"Drama\",\"Biography\",\"Biography\",\"Drama\",\"Action\",\"Adventure\",\"Comedy\",\"Crime\",\"Action\",\"Action\",\"Biography\",\"Action\",\"Crime\",\"Horror\",\"Action\",\"Biography\",\"Drama\",\"Adventure\",\"Crime\",\"Comedy\",\"Biography\",\"Comedy\",\"Action\",\"Comedy\",\"Mystery\",\"Comedy\",\"Biography\",\"Action\",\"Crime\",\"Comedy\",\"Drama\",\"Comedy\",\"Action\",\"Drama\",\"Comedy\",\"Drama\",\"Comedy\",\"Crime\",\"Comedy\",\"Action\",\"Comedy\",\"Drama\",\"Biography\",\"Comedy\",\"Drama\",\"Drama\",\"Adventure\",\"Drama\",\"Animation\",\"Comedy\",\"Drama\",\"Action\",\"Comedy\",\"Comedy\",\"Action\",\"Comedy\",\"Comedy\",\"Crime\",\"Animation\",\"Drama\",\"Action\",\"Drama\",\"Crime\",\"Comedy\",\"Action\",\"Crime\",\"Animation\",\"Biography\",\"Biography\",\"Drama\",\"Adventure\",\"Biography\",\"Comedy\",\"Drama\",\"Action\",\"Drama\",\"Drama\",\"Crime\",\"Sci-Fi\",\"Fantasy\",\"Comedy\",\"Comedy\",\"Comedy\",\"Adventure\",\"Drama\",\"Drama\",\"Drama\",\"Comedy\",\"Drama\",\"Crime\",\"Action\",\"Comedy\",\"Crime\",\"Crime\",\"Action\",\"Drama\",\"Horror\",\"Animation\",\"Animation\",\"Adventure\",\"Drama\",\"Biography\",\"Action\",\"Adventure\",\"Comedy\",\"Animation\",\"Drama\",\"Crime\",\"Comedy\",\"Comedy\",\"Animation\",\"Crime\",\"Action\",\"Drama\",\"Drama\",\"Animation\",\"Action\",\"Drama\",\"Crime\",\"Drama\",\"Drama\",\"Drama\",\"Crime\",\"Biography\",\"Action\",\"Action\",\"Action\",\"Action\",\"Film-Noir\",\"Horror\",\"Drama\",\"Biography\",\"Action\",\"Comedy\",\"Comedy\",\"Crime\",\"Drama\",\"Comedy\",\"Crime\",\"Adventure\",\"Action\",\"Biography\",\"Action\",\"Drama\",\"Horror\",\"Western\",\"Drama\",\"Drama\",\"Action\",\"Horror\",\"Drama\",\"Comedy\",\"Crime\",\"Comedy\",\"Animation\",\"Comedy\",\"Comedy\",\"Drama\",\"Action\",\"Drama\",\"Comedy\",\"Drama\",\"Drama\",\"Action\",\"Comedy\",\"Crime\",\"Biography\",\"Action\",\"Adventure\",\"Thriller\",\"Action\",\"Crime\",\"Drama\",\"Crime\",\"Action\",\"Drama\",\"Comedy\",\"Horror\",\"Comedy\",\"Comedy\",\"Drama\",\"Action\",\"Comedy\",\"Mystery\",\"Animation\",\"Action\",\"Action\",\"Crime\",\"Crime\",\"Action\",\"Action\",\"Comedy\",\"Drama\",\"Comedy\",\"Action\",\"Adventure\",\"Drama\",\"Biography\",\"Crime\",\"Adventure\",\"Animation\",\"Drama\",\"Crime\",\"Drama\",\"Biography\",\"Action\",\"Action\",\"Animation\",\"Action\",\"Drama\",\"Horror\",\"Drama\",\"Comedy\",\"Comedy\",\"Drama\",\"Drama\",\"Drama\",\"Biography\",\"Drama\",\"Action\",\"Horror\",\"Action\",\"Comedy\",\"Biography\",\"Comedy\",\"Crime\",\"Drama\",\"Crime\",\"Action\",\"Biography\",\"Animation\",\"Drama\",\"Comedy\",\"Comedy\",\"Comedy\",\"Adventure\",\"Drama\",\"Horror\",\"Crime\",\"Comedy\",\"Crime\",\"Drama\",\"Action\",\"Crime\",\"Action\",\"Biography\",\"Drama\",\"Comedy\",\"Biography\",\"Comedy\",\"Action\",\"Drama\",\"Biography\",\"Action\",\"Drama\",\"Adventure\",\"Action\",\"Drama\",\"Biography\",\"Biography\",\"Drama\",\"Animation\",\"Comedy\",\"Drama\",\"Crime\",\"Biography\",\"Biography\",\"Crime\",\"Drama\",\"Crime\",\"Biography\",\"Crime\",\"Drama\",\"Action\",\"Crime\",\"Drama\",\"Animation\",\"Crime\",\"Crime\",\"Drama\",\"Comedy\",\"Biography\",\"Crime\",\"Drama\",\"Crime\",\"Animation\",\"Drama\",\"Crime\",\"Horror\",\"Thriller\",\"Drama\",\"Comedy\",\"Drama\",\"Adventure\",\"Animation\",\"Drama\",\"Crime\",\"Action\",\"Comedy\",\"Action\",\"Drama\",\"Horror\",\"Drama\",\"Drama\",\"Mystery\",\"Horror\",\"Crime\",\"Mystery\",\"Comedy\",\"Comedy\",\"Horror\",\"Drama\",\"Action\",\"Drama\",\"Crime\",\"Drama\",\"Drama\",\"Biography\",\"Drama\",\"Comedy\",\"Drama\",\"Comedy\",\"Horror\",\"Animation\",\"Crime\",\"Action\",\"Action\",\"Drama\",\"Drama\",\"Biography\",\"Drama\",\"Comedy\",\"Adventure\",\"Biography\",\"Crime\",\"Mystery\",\"Drama\",\"Action\",\"Drama\",\"Adventure\",\"Comedy\",\"Adventure\",\"Drama\",\"Thriller\",\"Biography\",\"Drama\",\"Horror\",\"Action\",\"Crime\",\"Action\",\"Adventure\",\"Drama\",\"Adventure\",\"Comedy\",\"Horror\",\"Drama\",\"Crime\",\"Drama\",\"Drama\",\"Action\",\"Comedy\",\"Crime\",\"Comedy\",\"Drama\",\"Drama\",\"Crime\",\"Drama\",\"Drama\",\"Crime\",\"Comedy\",\"Comedy\",\"Biography\",\"Crime\",\"Adventure\",\"Comedy\",\"Comedy\",\"Adventure\",\"Adventure\",\"Adventure\",\"Animation\",\"Drama\",\"Comedy\",\"Drama\",\"Comedy\",\"Adventure\",\"Comedy\",\"Drama\",\"Drama\",\"Drama\",\"Comedy\",\"Comedy\",\"Crime\",\"Drama\",\"Comedy\",\"Adventure\",\"Action\",\"Drama\",\"Comedy\",\"Comedy\",\"Drama\",\"Comedy\",\"Comedy\",\"Biography\",\"Comedy\",\"Action\",\"Biography\",\"Mystery\",\"Animation\",\"Action\",\"Drama\",\"Crime\",\"Drama\",\"Comedy\",\"Drama\",\"Drama\",\"Comedy\",\"Adventure\",\"Action\",\"Horror\",\"Crime\"],\"index\":[0,1,2,3,4,5,6,7,8,9,10,11,12,13,14,15,16,17,18,19,20,21,22,23,24,25,26,27,28,29,30,31,32,33,34,35,36,37,38,39,40,41,42,43,44,45,46,47,48,49,50,51,52,53,54,55,56,57,58,59,60,61,62,63,64,65,66,67,68,69,70,71,72,73,74,75,76,77,78,79,80,81,82,83,84,85,86,87,88,89,90,91,92,93,94,95,96,97,98,99,100,101,102,103,104,105,106,107,108,109,110,111,112,113,114,115,116,117,118,119,120,121,122,123,124,125,126,127,128,129,130,131,132,133,134,135,136,137,138,139,140,141,142,143,144,145,146,147,148,149,150,151,152,153,154,155,156,157,158,159,160,161,162,163,164,165,166,167,168,169,170,171,172,173,174,175,176,177,178,179,180,181,182,183,184,185,186,187,188,189,190,191,192,193,194,195,196,197,198,199,200,201,202,203,204,205,206,207,208,209,210,211,212,213,214,215,216,217,218,219,220,221,222,223,224,225,226,227,228,229,230,231,232,233,234,235,236,237,238,239,240,241,242,243,244,245,246,247,248,249,250,251,252,253,254,255,256,257,258,259,260,261,262,263,264,265,266,267,268,269,270,271,272,273,274,275,276,277,278,279,280,281,282,283,284,285,286,287,288,289,290,291,292,293,294,295,296,297,298,299,300,301,302,303,304,305,306,307,308,309,310,311,312,313,314,315,316,317,318,319,320,321,322,323,324,325,326,327,328,329,330,331,332,333,334,335,336,337,338,339,340,341,342,343,344,345,346,347,348,349,350,351,352,353,354,355,356,357,358,359,360,361,362,363,364,365,366,367,368,369,370,371,372,373,374,375,376,377,378,379,380,381,382,383,384,385,386,387,388,389,390,391,392,393,394,395,396,397,398,399,400,401,402,403,404,405,406,407,408,409,410,411,412,413,414,415,416,417,418,419,420,421,422,423,424,425,426,427,428,429,430,431,432,433,434,435,436,437,438,439,440,441,442,443,444,445,446,447,448,449,450,451,452,453,454,455,456,457,458,459,460,461,462,463,464,465,466,467,468,469,470,471,472,473,474,475,476,477,478,479,480,481,482,483,484,485,486,487,488,489,490,491,492,493,494,495,496,497,498,499,500,501,502,503,504,505,506,507,508,509,510,511,512,513,514,515,516,517,518,519,520,521,522,523,524,525,526,527,528,529,530,531,532,533,534,535,536,537,538,539,540,541,542,543,544,545,546,547,548,549,550,551,552,553,554,555,556,557,558,559,560,561,562,563,564,565,566,567,568,569,570,571,572,573,574,575,576,577,578,579,580,581,582,583,584,585,586,587,588,589,590,591,592,593,594,595,596,597,598,599,600,601,602,603,604,605,606,607,608,609,610,611,612,613,614,615,616,617,618,619,620,621,622,623,624,625,626,627,628,629,630,631,632,633,634,635,636,637,638,639,640,641,642,643,644,645,646,647,648,649,650,651,652,653,654,655,656,657,658,659,660,661,662,663,664,665,666,667,668,669,670,671,672,673,674,675,676,677,678,679,680,681,682,683,684,685,686,687,688,689,690,691,692,693,694,695,696,697,698,699,700,701,702,703,704,705,706,707,708,709,710,711,712,713,714,715,716,717,718,719,720,721,722,723,724,725,726,727,728,729,730,731,732,733,734,735,736,737,738,739,740,741,742,743,744,745,746,747,748,749,750,751,752,753,754,755,756,757,758,759,760,761,762,763,764,765,766,767,768,769,770,771,772,773,774,775,776,777,778,779,780,781,782,783,784,785,786,787,788,789,790,791,792,793,794,795,796,797,798,799,800,801,802,803,804,805,806,807,808,809,810,811,812,813,814,815,816,817,818,819,820,821,822,823,824,825,826,827,828,829,830,831,832,833,834,835,836,837,838,839,840,841,842,843,844,845,846,847,848,849,850,851,852,853,854,855,856,857,858,859,860,861,862,863,864,865,866,867,868,869,870,871,872,873,874,875,876,877,878,879,880,881,882,883,884,885,886,887,888,889,890,891,892,893,894,895,896,897,898,899,900,901,902,903,904,905,906,907,908,909,910,911,912,913,914,915,916,917,918,919,920,921,922,923,924,925,926,927,928,929,930,931,932,933,934,935,936,937,938,939,940,941,942,943,944,945,946,947,948,949,950,951,952,953,954,955,956,957,958,959,960,961,962,963,964,965,966,967,968,969,970,971,972,973,974,975,976,977,978],\"star_rating\":{\"__ndarray__\":\"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\",\"dtype\":\"float64\",\"shape\":[979]},\"title\":[\"The Shawshank Redemption\",\"The Godfather\",\"The Godfather: Part II\",\"The Dark Knight\",\"Pulp Fiction\",\"12 Angry Men\",\"The Good, the Bad and the Ugly\",\"The Lord of the Rings: The Return of the King\",\"Schindler's List\",\"Fight Club\",\"The Lord of the Rings: The Fellowship of the Ring\",\"Inception\",\"Star Wars: Episode V - The Empire Strikes Back\",\"Forrest Gump\",\"The Lord of the Rings: The Two Towers\",\"Interstellar\",\"One Flew Over the Cuckoo's Nest\",\"Seven Samurai\",\"Goodfellas\",\"Star Wars\",\"The Matrix\",\"City of God\",\"It's a Wonderful Life\",\"The Usual Suspects\",\"Se7en\",\"Life Is Beautiful\",\"Once Upon a Time in the West\",\"The Silence of the Lambs\",\"Leon: The Professional\",\"City Lights\",\"Spirited Away\",\"The Intouchables\",\"Casablanca\",\"Whiplash\",\"American History X\",\"Modern Times\",\"Saving Private Ryan\",\"Raiders of the Lost Ark\",\"Rear Window\",\"Psycho\",\"The Green Mile\",\"Sunset Blvd.\",\"The Pianist\",\"The Dark Knight Rises\",\"Gladiator\",\"Terminator 2: Judgment Day\",\"Memento\",\"Taare Zameen Par\",\"Dr. Strangelove or: How I Learned to Stop Worrying and Love the Bomb\",\"The Departed\",\"Cinema Paradiso\",\"Apocalypse Now\",\"The Great Dictator\",\"The Prestige\",\"Back to the Future\",\"The Lion King\",\"The Lives of Others\",\"Alien\",\"Paths of Glory\",\"Django Unchained\",\"3 Idiots\",\"Grave of the Fireflies\",\"The Shining\",\"M\",\"WALL-E\",\"Witness for the Prosecution\",\"Munna Bhai M.B.B.S.\",\"American Beauty\",\"Das Boot\",\"Princess Mononoke\",\"Amelie\",\"North by Northwest\",\"Rang De Basanti\",\"Jodaeiye Nader az Simin\",\"Citizen Kane\",\"Aliens\",\"Vertigo\",\"Oldeuboi\",\"Once Upon a Time in America\",\"Double Indemnity\",\"Star Wars: Episode VI - Return of the Jedi\",\"Toy Story 3\",\"Braveheart\",\"To Kill a Mockingbird\",\"Requiem for a Dream\",\"Lawrence of Arabia\",\"A Clockwork Orange\",\"Bicycle Thieves\",\"The Kid\",\"Swades\",\"Reservoir Dogs\",\"Eternal Sunshine of the Spotless Mind\",\"Taxi Driver\",\"Dilwale Dulhania Le Jayenge\",\"Singin' in the Rain\",\"All About Eve\",\"Yojimbo\",\"The Sting\",\"Rashomon\",\"Amadeus\",\"The Treasure of the Sierra Madre\",\"Monty Python and the Holy Grail\",\"Full Metal Jacket\",\"The Apartment\",\"Ikiru\",\"The Third Man\",\"Snatch.\",\"For a Few Dollars More\",\"Metropolis\",\"Dil Chahta Hai\",\"2001: A Space Odyssey\",\"Some Like It Hot\",\"L.A. Confidential\",\"Batman Begins\",\"Inglourious Basterds\",\"Scarface\",\"Mr. Smith Goes to Washington\",\"Toy Story\",\"Indiana Jones and the Last Crusade\",\"Unforgiven\",\"The Great Escape\",\"Jagten\",\"On the Waterfront\",\"The General\",\"Raging Bull\",\"Downfall\",\"Up\",\"Wild Strawberries\",\"The Gold Rush\",\"Ran\",\"Chinatown\",\"My Neighbor Totoro\",\"Judgment at Nuremberg\",\"Barfi!\",\"The Seventh Seal\",\"Heat\",\"Pan's Labyrinth\",\"The Bridge on the River Kwai\",\"Die Hard\",\"Good Will Hunting\",\"The Wages of Fear\",\"The Secret in Their Eyes\",\"Lagaan: Once Upon a Time in India\",\"The Wolf of Wall Street\",\"It Happened One Night\",\"Blade Runner\",\"Warrior\",\"Howl's Moving Castle\",\"The Elephant Man\",\"Rebecca\",\"Incendies\",\"Lock, Stock and Two Smoking Barrels\",\"V for Vendetta\",\"The Big Lebowski\",\"Cool Hand Luke\",\"Relatos salvajes\",\"Casino\",\"Gone with the Wind\",\"Gone Girl\",\"The Best Years of Our Lives\",\"How to Train Your Dragon\",\"Diabolique\",\"Gran Torino\",\"Rush\",\"Into the Wild\",\"My Sassy Girl\",\"The Deer Hunter\",\"Mary and Max\",\"Hachi: A Dog's Tale\",\"The Maltese Falcon\",\"A Beautiful Mind\",\"Dial M for Murder\",\"Trainspotting\",\"Tae Guk Gi: The Brotherhood of War\",\"Persona\",\"Touch of Evil\",\"Fargo\",\"The Avengers\",\"The 400 Blows\",\"The Princess Bride\",\"Hotel Rwanda\",\"Stalker\",\"The Battle of Algiers\",\"Underground\",\"Fanny and Alexander\",\"Network\",\"The Thing\",\"Butch Cassidy and the Sundance Kid\",\"The Grapes of Wrath\",\"Black Cat, White Cat\",\"Life of Brian\",\"The Sixth Sense\",\"Finding Nemo\",\"Nausicaa of the Valley of the Wind\",\"Kingsman: The Secret Service\",\"Platoon\",\"Guardians of the Galaxy\",\"In the Name of the Father\",\"Kill Bill: Vol. 1\",\"No Country for Old Men\",\"Le Samourai\",\"12 Years a Slave\",\"La leggenda del pianista sull'oceano\",\"8 1/2\",\"Ben-Hur\",\"Amores Perros\",\"Stand by Me\",\"What Ever Happened to Baby Jane?\",\"Annie Hall\",\"The Imitation Game\",\"Laura\",\"Departures\",\"Infernal Affairs\",\"There Will Be Blood\",\"The Grand Budapest Hotel\",\"La Strada\",\"Sin City\",\"Memories of Murder\",\"Donnie Darko\",\"Who's Afraid of Virginia Woolf?\",\"Gandhi\",\"Solaris\",\"Harry Potter and the Deathly Hallows: Part 2\",\"Paris, Texas\",\"The Wizard of Oz\",\"3-Iron\",\"Boyhood\",\"Million Dollar Baby\",\"The Last Picture Show\",\"Strangers on a Train\",\"Cat on a Hot Tin Roof\",\"La Dolce Vita\",\"Chungking Express\",\"The Night of the Hunter\",\"La Haine\",\"Yip Man\",\"High Noon\",\"Notorious\",\"Before Sunrise\",\"Elite Squad: The Enemy Within\",\"The Bourne Ultimatum\",\"Castle in the Sky\",\"The Celebration\",\"Spring, Summer, Fall, Winter... and Spring\",\"Shutter Island\",\"Barry Lyndon\",\"Stalag 17\",\"Three Colors: Red\",\"X-Men: Days of Future Past\",\"Sleuth\",\"In the Mood for Love\",\"The Man Who Shot Liberty Valance\",\"Arsenic and Old Lace\",\"The Big Sleep\",\"Roman Holiday\",\"The Philadelphia Story\",\"Akira\",\"Anatomy of a Murder\",\"The Cabinet of Dr. Caligari\",\"The Help\",\"The Sea Inside\",\"Elite Squad\",\"The Hustler\",\"Rio Bravo\",\"Twelve Monkeys\",\"Harvey\",\"A Christmas Story\",\"Jaws\",\"The Raid 2\",\"Rocky\",\"Wings of Desire\",\"Pirates of the Caribbean: The Curse of the Black Pearl\",\"The Killing\",\"Papillon\",\"The King's Speech\",\"Groundhog Day\",\"A Fistful of Dollars\",\"Monsters, Inc.\",\"Dog Day Afternoon\",\"The Perks of Being a Wallflower\",\"Young Frankenstein\",\"The Terminator\",\"Harold and Maude\",\"Before Sunset\",\"A Streetcar Named Desire\",\"Bringing Up Baby\",\"The Diving Bell and the Butterfly\",\"His Girl Friday\",\"Sling Blade\",\"All Quiet on the Western Front\",\"Prisoners\",\"The Return\",\"The Manchurian Candidate\",\"Duck Soup\",\"Beauty and the Beast\",\"The Truman Show\",\"The Wild Bunch\",\"Rope\",\"The Graduate\",\"Jurassic Park\",\"Dogville\",\"Furious 7\",\"Patton\",\"The Nightmare Before Christmas\",\"Being There\",\"Persepolis\",\"This Is Spinal Tap\",\"East of Eden\",\"Pink Floyd The Wall\",\"Blood Diamond\",\"Big Fish\",\"Slumdog Millionaire\",\"Star Trek\",\"The Straight Story\",\"Crimes and Misdemeanors\",\"Charade\",\"JFK\",\"Dawn of the Dead\",\"Magnolia\",\"Manhattan\",\"Central Station\",\"Brazil\",\"The Exorcist\",\"Her\",\"Dancer in the Dark\",\"Rain Man\",\"Talk to Her\",\"The Adventures of Robin Hood\",\"Aguirre, the Wrath of God\",\"In the Heat of the Night\",\"Nosferatu\",\"Black Swan\",\"Ratatouille\",\"The Searchers\",\"Short Term 12\",\"Doctor Zhivago\",\"Life of Pi\",\"All the President's Men\",\"Battleship Potemkin\",\"Dances with Wolves\",\"Catch Me If You Can\",\"Cinderella Man\",\"Dead Poets Society\",\"Ghost in the Shell\",\"Head-On\",\"No Man's Land\",\"Dallas Buyers Club\",\"Days of Heaven\",\"The Sound of Music\",\"District 9\",\"Shadow of a Doubt\",\"Frankenstein\",\"Shaun of the Dead\",\"Night of the Living Dead\",\"Kill Bill: Vol. 2\",\"Secrets & Lies\",\"The Artist\",\"Aladdin\",\"The Lady Vanishes\",\"The Hobbit: The Desolation of Smaug\",\"Let the Right One In\",\"Fiddler on the Roof\",\"The Hobbit: An Unexpected Journey\",\"Three Colors: Blue\",\"Rosemary's Baby\",\"Mystic River\",\"Serenity\",\"Amarcord\",\"Planet of the Apes\",\"True Romance\",\"Hannah and Her Sisters\",\"Moon\",\"Before Midnight\",\"My Name Is Khan\",\"Scent of a Woman\",\"Mulholland Dr.\",\"King Kong\",\"The Fault in Our Stars\",\"The Incredibles\",\"Edward Scissorhands\",\"Casino Royale\",\"How to Train Your Dragon 2\",\"In Bruges\",\"The Untouchables\",\"Breathless\",\"Spartacus\",\"The Iron Giant\",\"Midnight Cowboy\",\"The Blues Brothers\",\"Freaks\",\"Letters from Iwo Jima\",\"Edge of Tomorrow\",\"Glory\",\"The African Queen\",\"Birdman: Or (The Unexpected Virtue of Ignorance)\",\"Big Hero 6\",\"Almost Famous\",\"The Notebook\",\"The Conversation\",\"The Breakfast Club\",\"The Pursuit of Happyness\",\"The Killer\",\"Once\",\"Ying xiong\",\"The Remains of the Day\",\"The Bride of Frankenstein\",\"The Wrestler\",\"Nightcrawler\",\"Gravity\",\"Hard Boiled\",\"Bonnie and Clyde\",\"The Bourne Identity\",\"Key Largo\",\"Nine Queens\",\"Toy Story 2\",\"The Killing Fields\",\"All About My Mother\",\"Cowboy Bebop: The Movie\",\"Ed Wood\",\"Stagecoach\",\"The Man Who Would Be King\",\"The Outlaw Josey Wales\",\"Children of Men\",\"The Insider\",\"The Right Stuff\",\"Badlands\",\"A Prophet\",\"4 Months, 3 Weeks and 2 Days\",\"Le passe\",\"The Fall\",\"Breaking the Waves\",\"Mr. Nobody\",\"Crash\",\"Avatar\",\"Iron Man\",\"Do the Right Thing\",\"Carlito's Way\",\"Crouching Tiger, Hidden Dragon\",\"Lilya 4-Ever\",\"The Chorus\",\"The Boondock Saints\",\"Miller's Crossing\",\"Walk the Line\",\"Shrek\",\"My Fair Lady\",\"The Ten Commandments\",\"The Fighter\",\"Captain Phillips\",\"Cabaret\",\"Halloween\",\"My Left Foot\",\"Miracle on 34th Street\",\"The Man from Nowhere\",\"Toki o kakeru shojo\",\"Little Miss Sunshine\",\"Taken\",\"Blue Is the Warmest Color\",\"Boogie Nights\",\"Hot Fuzz\",\"Ferris Bueller's Day Off\",\"The World's Fastest Indian\",\"Kiki's Delivery Service\",\"Down by Law\",\"Glengarry Glen Ross\",\"Clerks\",\"Adam's Apples\",\"The Girl with the Dragon Tattoo\",\"The 39 Steps\",\"E.T. the Extra-Terrestrial\",\"Tombstone\",\"Predator\",\"Tangled\",\"Guess Who's Coming to Dinner\",\"Ordinary People\",\"The Best Offer\",\"Silver Linings Playbook\",\"Hamlet\",\"Amour\",\"I Saw the Devil\",\"The Motorcycle Diaries\",\"Office Space\",\"Evil\",\"The Girl with the Dragon Tattoo\",\"Withnail & I\",\"The Day the Earth Stood Still\",\"Black Book\",\"Evil Dead II\",\"Kaze tachinu\",\"Star Trek Into Darkness\",\"The Triplets of Belleville\",\"Open Your Eyes\",\"The Magnificent Seven\",\"Drive\",\"Mississippi Burning\",\"The Lego Movie\",\"The Day of the Jackal\",\"Misery\",\"Willy Wonka & the Chocolate Factory\",\"Fantasia\",\"Gattaca\",\"American Gangster\",\"Porco Rosso\",\"The French Connection\",\"The Boy in the Striped Pajamas\",\"Empire of the Sun\",\"About Time\",\"Blue Velvet\",\"In America\",\"The Curious Case of Benjamin Button\",\"The Last of the Mohicans\",\"Moonrise Kingdom\",\"Rebel Without a Cause\",\"Fantastic Mr. Fox\",\"Invasion of the Body Snatchers\",\"October Sky\",\"Dirty Harry\",\"Ghostbusters\",\"Captain America: The Winter Soldier\",\"Wreck-It Ralph\",\"The Hangover\",\"Back to the Future Part II\",\"Belle de Jour\",\"O Brother, Where Art Thou?\",\"Repulsion\",\"Airplane!\",\"Pride & Prejudice\",\"Zulu\",\"Night on Earth\",\"From Here to Eternity\",\"Apocalypto\",\"Atonement\",\"The Dirty Dozen\",\"X-Men: First Class\",\"Run Lola Run\",\"The Longest Day\",\"Zelig\",\"The Last Emperor\",\"The Goonies\",\"The White Ribbon\",\"The Fugitive\",\"The Color Purple\",\"South Park: Bigger Longer & Uncut\",\"(500) Days of Summer\",\"Lost in Translation\",\"Argo\",\"Blazing Saddles\",\"Breakfast at Tiffany's\",\"Finding Neverland\",\"The Experiment\",\"Lucky Number Slevin\",\"The Theory of Everything\",\"Harry Potter and the Prisoner of Azkaban\",\"Kung Fu Hustle\",\"Being John Malkovich\",\"The Social Network\",\"3:10 to Yuma\",\"The Name of the Rose\",\"Mary Poppins\",\"The Game\",\"Changeling\",\"Donnie Brasco\",\"Serpico\",\"What's Eating Gilbert Grape\",\"Goldfinger\",\"Nebraska\",\"The Sandlot\",\"Boyz n the Hood\",\"The Bourne Supremacy\",\"Skyfall\",\"Ray\",\"300\",\"A Bronx Tale\",\"The Birds\",\"Battle Royale\",\"Control\",\"Kramer vs. Kramer\",\"Deliverance\",\"Ocean's Eleven\",\"As Good as It Gets\",\"Awakenings\",\"The King of Comedy\",\"Man on Fire\",\"Sabrina\",\"Dark City\",\"Good Bye Lenin!\",\"Remember the Titans\",\"Star Trek II: The Wrath of Khan\",\"Road to Perdition\",\"Rushmore\",\"The Machinist\",\"Flipped\",\"The Count of Monte Cristo\",\"Detachment\",\"Love Me If You Dare\",\"Dead Man\",\"The Purple Rose of Cairo\",\"21 Grams\",\"50/50\",\"Kick-Ass\",\"Delicatessen\",\"Barton Fink\",\"The Last King of Scotland\",\"Adaptation.\",\"A Very Long Engagement\",\"Mysterious Skin\",\"Stardust\",\"Black Hawk Down\",\"Paprika\",\"Fear and Loathing in Las Vegas\",\"Frost/Nixon\",\"Enter the Dragon\",\"Short Cuts\",\"A Hard Day's Night\",\"The Last Samurai\",\"The Station Agent\",\"Zombieland\",\"Sympathy for Mr. Vengeance\",\"Despicable Me\",\"Shane\",\"Forbidden Planet\",\"Titanic\",\"Gone Baby Gone\",\"The Dinner Game\",\"Dawn of the Planet of the Apes\",\"25th Hour\",\"Ponyo\",\"Shine\",\"The Blind Side\",\"Brokeback Mountain\",\"Cast Away\",\"Malcolm X\",\"Show Me Love\",\"Boy A\",\"The Warriors\",\"Close Encounters of the Third Kind\",\"Match Point\",\"Training Day\",\"The Butterfly Effect\",\"The City of Lost Children\",\"Billy Elliot\",\"Love Actually\",\"The Producers\",\"Harry Potter and the Deathly Hallows: Part 1\",\"The Visitor\",\"Philadelphia\",\"Sense and Sensibility\",\"Three Colors: White\",\"La grande bellezza\",\"Primal Fear\",\"Where Eagles Dare\",\"Dazed and Confused\",\"Blood Simple.\",\"This Is England\",\"Fearless\",\"Dangerous Liaisons\",\"Saw\",\"Snow White and the Seven Dwarfs\",\"Coraline\",\"The Hunger Games: Catching Fire\",\"Sophie's Choice\",\"La Vie en Rose\",\"Star Wars: Episode III - Revenge of the Sith\",\"True Grit\",\"After Hours\",\"Frozen\",\"Lolita\",\"Eastern Promises\",\"Midnight in Paris\",\"The Muppet Christmas Carol\",\"Who Framed Roger Rabbit\",\"Sympathy for Lady Vengeance\",\"Grindhouse\",\"In a Better World\",\"Blow-Up\",\"The Secret World of Arrietty\",\"Kiss Kiss Bang Bang\",\"Lost Highway\",\"Zodiac\",\"Les Miserables\",\"Moulin Rouge!\",\"Whale Rider\",\"End of Watch\",\"Philomena\",\"Fury\",\"The Big Blue\",\"First Blood\",\"Minority Report\",\"Spellbound\",\"The Wicker Man\",\"Seven Pounds\",\"Midnight Express\",\"Kelly's Heroes\",\"MASH\",\"The Player\",\"Traffic\",\"Y Tu Mama Tambien\",\"Stranger Than Fiction\",\"Inside Man\",\"127 Hours\",\"The Fifth Element\",\"Milk\",\"United 93\",\"Jin ling shi san chai\",\"Dracula\",\"High Plains Drifter\",\"I Am Sam\",\"Fried Green Tomatoes\",\"Watchmen\",\"28 Days Later...\",\"The Illusionist\",\"Superbad\",\"The Godfather: Part III\",\"The Royal Tenenbaums\",\"The Jungle Book\",\"Thank You for Smoking\",\"Man Bites Dog\",\"A Few Good Men\",\"The Legend of Drunken Master\",\"The Kite Runner\",\"When Harry Met Sally...\",\"Munich\",\"House of Sand and Fog\",\"Lethal Weapon\",\"Animal House\",\"Lord of War\",\"Blow\",\"Sherlock Holmes\",\"Harry Potter and the Goblet of Fire\",\"La piel que habito\",\"The Crow\",\"West Side Story\",\"The Thin Red Line\",\"American Psycho\",\"The Blind Swordsman: Zatoichi\",\"The Last Temptation of Christ\",\"The Naked Gun: From the Files of Police Squad!\",\"The Others\",\"The Party\",\"Army of Darkness\",\"The Hurt Locker\",\"The Raid: Redemption\",\"Volver\",\"Following\",\"Kung Fu Panda\",\"Mad Max 2: The Road Warrior\",\"Jusan-nin no shikaku\",\"The Man Who Wasn't There\",\"The Counterfeiters\",\"The Hunt for Red October\",\"Lone Survivor\",\"A Fish Called Wanda\",\"The Impossible\",\"Garden State\",\"Escape from Alcatraz\",\"Apollo 13\",\"Lust, Caution\",\"Selma\",\"Funny Games\",\"The Abyss\",\"Robin Hood\",\"Enemy at the Gates\",\"Falling Down\",\"Little Children\",\"Hunger\",\"Indiana Jones and the Temple of Doom\",\"Ip Man 2\",\"The Little Mermaid\",\"It's a Mad, Mad, Mad, Mad World\",\"The Reader\",\"The Omen\",\"A Royal Affair\",\"Braindead\",\"Secondhand Lions\",\"Disconnect\",\"A Single Man\",\"Hoosiers\",\"Moneyball\",\"The Book Thief\",\"Die Hard: With a Vengeance\",\"Interview with the Vampire: The Vampire Chronicles\",\"Midnight Run\",\"An American Werewolf in London\",\"The Great Debaters\",\"Tucker and Dale vs. Evil\",\"Dead Man Walking\",\"The Piano\",\"The Town\",\"Rise of the Planet of the Apes\",\"Boys Don't Cry\",\"Ice Age\",\"Of Mice and Men\",\"Sideways\",\"High Fidelity\",\"The Meaning of Life\",\"Hugo\",\"Leaving Las Vegas\",\"The Evil Dead\",\"Collateral\",\"Planes, Trains & Automobiles\",\"Hodejegerne\",\"Field of Dreams\",\"Batman\",\"Tell No One\",\"Ghost Dog: The Way of the Samurai\",\"Chaplin\",\"Keith\",\"Juno\",\"The Assassination of Jesse James by the Coward Robert Ford\",\"The Fisher King\",\"House of Flying Daggers\",\"The Hours\",\"The Damned United\",\"Star Trek: First Contact\",\"The Natural\",\"The Hobbit: The Battle of the Five Armies\",\"Equilibrium\",\"August Rush\",\"Saving Mr. Banks\",\"The Hurricane\",\"Jacob's Ladder\",\"The Curse of the Were-Rabbit\",\"Christmas Vacation\",\"Good Night, and Good Luck.\",\"Straw Dogs\",\"42\",\"Rudy\",\"Sleepers\",\"The Wind That Shakes the Barley\",\"Gangs of New York\",\"Elizabeth\",\"Green Street Hooligans\",\"Reign Over Me\",\"RoboCop\",\"The Life of David Gale\",\"Life as a House\",\"Despicable Me 2\",\"Jackie Brown\",\"Menace II Society\",\"The Class\",\"Bullets Over Broadway\",\"American Splendor\",\"Perfume: The Story of a Murderer\",\"Cloud Atlas\",\"Marathon Man\",\"Pinocchio\",\"The Painted Veil\",\"A Simple Plan\",\"The Conjuring\",\"The Man Who Knew Too Much\",\"Quiz Show\",\"American Graffiti\",\"The Bridges of Madison County\",\"Gallipoli\",\"L'illusionniste\",\"Miracle\",\"Maria Full of Grace\",\"Scott Pilgrim vs. the World\",\"Pleasantville\",\"Sherlock Holmes: A Game of Shadows\",\"Doubt\",\"The Fly\",\"The Orphanage\",\"Malena\",\"Three Days of the Condor\",\"[Rec]\",\"A Perfect World\",\"To Catch a Thief\",\"Best in Show\",\"Everything Is Illuminated\",\"A Nightmare on Elm Street\",\"The Ice Storm\",\"X2\",\"We Need to Talk About Kevin\",\"Felon\",\"Still Alice\",\"Rust and Bone\",\"Freedom Writers\",\"Legends of the Fall\",\"Buffalo '66\",\"The Constant Gardener\",\"My Cousin Vinny\",\"The Texas Chain Saw Massacre\",\"Mulan\",\"A History of Violence\",\"Open Range\",\"Total Recall\",\"Pi\",\"The Devil's Backbone\",\"The Aviator\",\"Devil's Advocate\",\"The Adventures of Priscilla, Queen of the Desert\",\"Harry Potter and the Half-Blood Prince\",\"Fruitvale Station\",\"In the Bedroom\",\"Source Code\",\"Biutiful\",\"From Russia with Love\",\"Calvary\",\"The Mission\",\"In the Loop\",\"The Three Burials of Melquiades Estrada\",\"Babel\",\"Frenzy\",\"Heavenly Creatures\",\"Sweeney Todd: The Demon Barber of Fleet Street\",\"Dracula\",\"Looper\",\"The Proposition\",\"Bullitt\",\"Harry Potter and the Sorcerer's Stone\",\"2046\",\"Transamerica\",\"Smoke\",\"Suspiria\",\"The Judge\",\"Bad Education\",\"Up in the Air\",\"Begin Again\",\"Running Scared\",\"Ghost World\",\"Witness\",\"Trading Places\",\"Mud\",\"Across the Universe\",\"Les Miserables\",\"Notes on a Scandal\",\"Inside Llewyn Davis\",\"Brick\",\"Clerks II\",\"Say Anything...\",\"Man on the Moon\",\"Mean Streets\",\"Harry Potter and the Order of the Phoenix\",\"Beetlejuice\",\"Crazy, Stupid, Love.\",\"Excalibur\",\"True Grit\",\"Labyrinth\",\"Alice in Wonderland\",\"Predestination\",\"Much Ado About Nothing\",\"A Bridge Too Far\",\"Raising Arizona\",\"The Bucket List\",\"Terms of Endearment\",\"Take Shelter\",\"Far from Heaven\",\"Eraserhead\",\"Frances Ha\",\"Home Alone\",\"Bound\",\"Sleepy Hollow\",\"Pirate Radio\",\"The NeverEnding Story\",\"X-Men\",\"Zero Dark Thirty\",\"Manhattan Murder Mystery\",\"National Lampoon's Vacation\",\"My Sister's Keeper\",\"Deconstructing Harry\",\"The Way Way Back\",\"Capote\",\"Driving Miss Daisy\",\"La Femme Nikita\",\"Lincoln\",\"Limitless\",\"The Simpsons Movie\",\"The Rock\",\"The English Patient\",\"Law Abiding Citizen\",\"Wonder Boys\",\"Death at a Funeral\",\"Blue Valentine\",\"The Cider House Rules\",\"Tootsie\",\"Back to the Future Part III\",\"Master and Commander: The Far Side of the World\",\"Poltergeist\",\"Wall Street\"]},\"selected\":{\"id\":\"12995\",\"type\":\"Selection\"},\"selection_policy\":{\"id\":\"12994\",\"type\":\"UnionRenderers\"}},\"id\":\"12562\",\"type\":\"ColumnDataSource\"},{\"attributes\":{},\"id\":\"12585\",\"type\":\"SaveTool\"},{\"attributes\":{},\"id\":\"12586\",\"type\":\"ResetTool\"}],\"root_ids\":[\"12563\"]},\"title\":\"Bokeh Application\",\"version\":\"1.3.4\"}};\n",
       "  var render_items = [{\"docid\":\"8bd471a7-24ca-47b8-9020-be153bdd06dd\",\"roots\":{\"12563\":\"92a0c8bf-dfe5-43eb-ab54-3a4941b920fa\"}}];\n",
       "  root.Bokeh.embed.embed_items_notebook(docs_json, render_items);\n",
       "\n",
       "  }\n",
       "  if (root.Bokeh !== undefined) {\n",
       "    embed_document(root);\n",
       "  } else {\n",
       "    var attempts = 0;\n",
       "    var timer = setInterval(function(root) {\n",
       "      if (root.Bokeh !== undefined) {\n",
       "        embed_document(root);\n",
       "        clearInterval(timer);\n",
       "      }\n",
       "      attempts++;\n",
       "      if (attempts > 100) {\n",
       "        console.log(\"Bokeh: ERROR: Unable to run BokehJS code because BokehJS library is missing\");\n",
       "        clearInterval(timer);\n",
       "      }\n",
       "    }, 10, root)\n",
       "  }\n",
       "})(window);"
      ],
      "application/vnd.bokehjs_exec.v0+json": ""
     },
     "metadata": {
      "application/vnd.bokehjs_exec.v0+json": {
       "id": "12563"
      }
     },
     "output_type": "display_data"
    }
   ],
   "source": [
    "p = figure(height = 200)\n",
    "p.circle(x = 'duration', y = 'star_rating', source = source)\n",
    "show(p)"
   ]
  },
  {
   "cell_type": "code",
   "execution_count": 76,
   "metadata": {},
   "outputs": [
    {
     "data": {
      "text/html": [
       "\n",
       "\n",
       "\n",
       "\n",
       "\n",
       "\n",
       "  <div class=\"bk-root\" id=\"ddf6bc80-cb27-4fc7-91a0-fc6866f78a55\" data-root-id=\"13051\"></div>\n"
      ]
     },
     "metadata": {},
     "output_type": "display_data"
    },
    {
     "data": {
      "application/javascript": [
       "(function(root) {\n",
       "  function embed_document(root) {\n",
       "    \n",
       "  var docs_json = {\"5a18aaac-4e86-4d14-b901-a9f26a2c6967\":{\"roots\":{\"references\":[{\"attributes\":{\"below\":[{\"id\":\"13060\",\"type\":\"LinearAxis\"}],\"center\":[{\"id\":\"13064\",\"type\":\"Grid\"},{\"id\":\"13069\",\"type\":\"Grid\"}],\"left\":[{\"id\":\"13065\",\"type\":\"LinearAxis\"}],\"plot_height\":200,\"renderers\":[{\"id\":\"13086\",\"type\":\"GlyphRenderer\"}],\"title\":{\"id\":\"13485\",\"type\":\"Title\"},\"toolbar\":{\"id\":\"13076\",\"type\":\"Toolbar\"},\"x_range\":{\"id\":\"13052\",\"type\":\"DataRange1d\"},\"x_scale\":{\"id\":\"13056\",\"type\":\"LinearScale\"},\"y_range\":{\"id\":\"13054\",\"type\":\"DataRange1d\"},\"y_scale\":{\"id\":\"13058\",\"type\":\"LinearScale\"}},\"id\":\"13051\",\"subtype\":\"Figure\",\"type\":\"Plot\"},{\"attributes\":{},\"id\":\"13061\",\"type\":\"BasicTicker\"},{\"attributes\":{},\"id\":\"13075\",\"type\":\"HelpTool\"},{\"attributes\":{\"dimension\":1,\"ticker\":{\"id\":\"13066\",\"type\":\"BasicTicker\"}},\"id\":\"13069\",\"type\":\"Grid\"},{\"attributes\":{\"active_drag\":\"auto\",\"active_inspect\":\"auto\",\"active_multi\":null,\"active_scroll\":\"auto\",\"active_tap\":\"auto\",\"tools\":[{\"id\":\"13070\",\"type\":\"PanTool\"},{\"id\":\"13071\",\"type\":\"WheelZoomTool\"},{\"id\":\"13072\",\"type\":\"BoxZoomTool\"},{\"id\":\"13073\",\"type\":\"SaveTool\"},{\"id\":\"13074\",\"type\":\"ResetTool\"},{\"id\":\"13075\",\"type\":\"HelpTool\"}]},\"id\":\"13076\",\"type\":\"Toolbar\"},{\"attributes\":{\"formatter\":{\"id\":\"13487\",\"type\":\"BasicTickFormatter\"},\"ticker\":{\"id\":\"13066\",\"type\":\"BasicTicker\"}},\"id\":\"13065\",\"type\":\"LinearAxis\"},{\"attributes\":{\"callback\":null},\"id\":\"13052\",\"type\":\"DataRange1d\"},{\"attributes\":{},\"id\":\"12995\",\"type\":\"Selection\"},{\"attributes\":{},\"id\":\"13058\",\"type\":\"LinearScale\"},{\"attributes\":{},\"id\":\"12994\",\"type\":\"UnionRenderers\"},{\"attributes\":{},\"id\":\"13056\",\"type\":\"LinearScale\"},{\"attributes\":{},\"id\":\"13487\",\"type\":\"BasicTickFormatter\"},{\"attributes\":{},\"id\":\"13489\",\"type\":\"BasicTickFormatter\"},{\"attributes\":{\"data_source\":{\"id\":\"12562\",\"type\":\"ColumnDataSource\"},\"glyph\":{\"id\":\"13084\",\"type\":\"Scatter\"},\"hover_glyph\":null,\"muted_glyph\":null,\"nonselection_glyph\":{\"id\":\"13085\",\"type\":\"Scatter\"},\"selection_glyph\":null,\"view\":{\"id\":\"13087\",\"type\":\"CDSView\"}},\"id\":\"13086\",\"type\":\"GlyphRenderer\"},{\"attributes\":{\"fill_color\":{\"value\":\"#1f77b4\"},\"line_color\":{\"value\":\"#1f77b4\"},\"x\":{\"field\":\"duration\"},\"y\":{\"field\":\"star_rating\"}},\"id\":\"13084\",\"type\":\"Scatter\"},{\"attributes\":{\"bottom_units\":\"screen\",\"fill_alpha\":{\"value\":0.5},\"fill_color\":{\"value\":\"lightgrey\"},\"left_units\":\"screen\",\"level\":\"overlay\",\"line_alpha\":{\"value\":1.0},\"line_color\":{\"value\":\"black\"},\"line_dash\":[4,4],\"line_width\":{\"value\":2},\"render_mode\":\"css\",\"right_units\":\"screen\",\"top_units\":\"screen\"},\"id\":\"13493\",\"type\":\"BoxAnnotation\"},{\"attributes\":{},\"id\":\"13074\",\"type\":\"ResetTool\"},{\"attributes\":{},\"id\":\"13073\",\"type\":\"SaveTool\"},{\"attributes\":{\"fill_alpha\":{\"value\":0.1},\"fill_color\":{\"value\":\"#1f77b4\"},\"line_alpha\":{\"value\":0.1},\"line_color\":{\"value\":\"#1f77b4\"},\"x\":{\"field\":\"duration\"},\"y\":{\"field\":\"star_rating\"}},\"id\":\"13085\",\"type\":\"Scatter\"},{\"attributes\":{\"ticker\":{\"id\":\"13061\",\"type\":\"BasicTicker\"}},\"id\":\"13064\",\"type\":\"Grid\"},{\"attributes\":{\"overlay\":{\"id\":\"13493\",\"type\":\"BoxAnnotation\"}},\"id\":\"13072\",\"type\":\"BoxZoomTool\"},{\"attributes\":{\"callback\":null},\"id\":\"13054\",\"type\":\"DataRange1d\"},{\"attributes\":{\"text\":\"\"},\"id\":\"13485\",\"type\":\"Title\"},{\"attributes\":{\"source\":{\"id\":\"12562\",\"type\":\"ColumnDataSource\"}},\"id\":\"13087\",\"type\":\"CDSView\"},{\"attributes\":{},\"id\":\"13071\",\"type\":\"WheelZoomTool\"},{\"attributes\":{\"formatter\":{\"id\":\"13489\",\"type\":\"BasicTickFormatter\"},\"ticker\":{\"id\":\"13061\",\"type\":\"BasicTicker\"}},\"id\":\"13060\",\"type\":\"LinearAxis\"},{\"attributes\":{\"callback\":null,\"data\":{\"actors_list\":[\"[u'Tim Robbins', u'Morgan Freeman', u'Bob Gunton']\",\"[u'Marlon Brando', u'Al Pacino', u'James Caan']\",\"[u'Al Pacino', u'Robert De Niro', u'Robert Duvall']\",\"[u'Christian Bale', u'Heath Ledger', u'Aaron Eckhart']\",\"[u'John Travolta', u'Uma Thurman', u'Samuel L. Jackson']\",\"[u'Henry Fonda', u'Lee J. Cobb', u'Martin Balsam']\",\"[u'Clint Eastwood', u'Eli Wallach', u'Lee Van Cleef']\",\"[u'Elijah Wood', u'Viggo Mortensen', u'Ian McKellen']\",\"[u'Liam Neeson', u'Ralph Fiennes', u'Ben Kingsley']\",\"[u'Brad Pitt', u'Edward Norton', u'Helena Bonham Carter']\",\"[u'Elijah Wood', u'Ian McKellen', u'Orlando Bloom']\",\"[u'Leonardo DiCaprio', u'Joseph Gordon-Levitt', u'Ellen Page']\",\"[u'Mark Hamill', u'Harrison Ford', u'Carrie Fisher']\",\"[u'Tom Hanks', u'Robin Wright', u'Gary Sinise']\",\"[u'Elijah Wood', u'Ian McKellen', u'Viggo Mortensen']\",\"[u'Matthew McConaughey', u'Anne Hathaway', u'Jessica Chastain']\",\"[u'Jack Nicholson', u'Louise Fletcher', u'Michael Berryman']\",\"[u'Toshir\\\\xf4 Mifune', u'Takashi Shimura', u'Keiko Tsushima']\",\"[u'Robert De Niro', u'Ray Liotta', u'Joe Pesci']\",\"[u'Mark Hamill', u'Harrison Ford', u'Carrie Fisher']\",\"[u'Keanu Reeves', u'Laurence Fishburne', u'Carrie-Anne Moss']\",\"[u'Alexandre Rodrigues', u'Matheus Nachtergaele', u'Leandro Firmino']\",\"[u'James Stewart', u'Donna Reed', u'Lionel Barrymore']\",\"[u'Kevin Spacey', u'Gabriel Byrne', u'Chazz Palminteri']\",\"[u'Morgan Freeman', u'Brad Pitt', u'Kevin Spacey']\",\"[u'Roberto Benigni', u'Nicoletta Braschi', u'Giorgio Cantarini']\",\"[u'Henry Fonda', u'Charles Bronson', u'Claudia Cardinale']\",\"[u'Jodie Foster', u'Anthony Hopkins', u'Lawrence A. Bonney']\",\"[u'Jean Reno', u'Gary Oldman', u'Natalie Portman']\",\"[u'Charles Chaplin', u'Virginia Cherrill', u'Florence Lee']\",\"[u'Daveigh Chase', u'Suzanne Pleshette', u'Miyu Irino']\",\"[u'Fran\\\\xe7ois Cluzet', u'Omar Sy', u'Anne Le Ny']\",\"[u'Humphrey Bogart', u'Ingrid Bergman', u'Paul Henreid']\",\"[u'Miles Teller', u'J.K. Simmons', u'Melissa Benoist']\",\"[u'Edward Norton', u'Edward Furlong', u\\\"Beverly D'Angelo\\\"]\",\"[u'Charles Chaplin', u'Paulette Goddard', u'Henry Bergman']\",\"[u'Tom Hanks', u'Matt Damon', u'Tom Sizemore']\",\"[u'Harrison Ford', u'Karen Allen', u'Paul Freeman']\",\"[u'James Stewart', u'Grace Kelly', u'Wendell Corey']\",\"[u'Anthony Perkins', u'Janet Leigh', u'Vera Miles']\",\"[u'Tom Hanks', u'Michael Clarke Duncan', u'David Morse']\",\"[u'William Holden', u'Gloria Swanson', u'Erich von Stroheim']\",\"[u'Adrien Brody', u'Thomas Kretschmann', u'Frank Finlay']\",\"[u'Christian Bale', u'Tom Hardy', u'Anne Hathaway']\",\"[u'Russell Crowe', u'Joaquin Phoenix', u'Connie Nielsen']\",\"[u'Arnold Schwarzenegger', u'Linda Hamilton', u'Edward Furlong']\",\"[u'Guy Pearce', u'Carrie-Anne Moss', u'Joe Pantoliano']\",\"[u'Darsheel Safary', u'Aamir Khan', u'Tanay Chheda']\",\"[u'Peter Sellers', u'George C. Scott', u'Sterling Hayden']\",\"[u'Leonardo DiCaprio', u'Matt Damon', u'Jack Nicholson']\",\"[u'Philippe Noiret', u'Enzo Cannavale', u'Antonella Attili']\",\"[u'Martin Sheen', u'Marlon Brando', u'Robert Duvall']\",\"[u'Charles Chaplin', u'Paulette Goddard', u'Jack Oakie']\",\"[u'Christian Bale', u'Hugh Jackman', u'Scarlett Johansson']\",\"[u'Michael J. Fox', u'Christopher Lloyd', u'Lea Thompson']\",\"[u'Matthew Broderick', u'Jeremy Irons', u'James Earl Jones']\",\"[u'Ulrich M\\\\xfche', u'Martina Gedeck', u'Sebastian Koch']\",\"[u'Sigourney Weaver', u'Tom Skerritt', u'John Hurt']\",\"[u'Kirk Douglas', u'Ralph Meeker', u'Adolphe Menjou']\",\"[u'Jamie Foxx', u'Christoph Waltz', u'Leonardo DiCaprio']\",\"[u'Aamir Khan', u'Madhavan', u'Mona Singh']\",\"[u'Tsutomu Tatsumi', u'Ayano Shiraishi', u'Akemi Yamaguchi']\",\"[u'Jack Nicholson', u'Shelley Duvall', u'Danny Lloyd']\",\"[u'Peter Lorre', u'Ellen Widmann', u'Inge Landgut']\",\"[u'Ben Burtt', u'Elissa Knight', u'Jeff Garlin']\",\"[u'Tyrone Power', u'Marlene Dietrich', u'Charles Laughton']\",\"[u'Sunil Dutt', u'Sanjay Dutt', u'Arshad Warsi']\",\"[u'Kevin Spacey', u'Annette Bening', u'Thora Birch']\",\"[u'J\\\\xfcrgen Prochnow', u'Herbert Gr\\\\xf6nemeyer', u'Klaus Wennemann']\",\"[u'Y\\\\xf4ji Matsuda', u'Yuriko Ishida', u'Y\\\\xfbko Tanaka']\",\"[u'Audrey Tautou', u'Mathieu Kassovitz', u'Rufus']\",\"[u'Cary Grant', u'Eva Marie Saint', u'James Mason']\",\"[u'Aamir Khan', u'Soha Ali Khan', u'Siddharth']\",\"[u'Peyman Moaadi', u'Leila Hatami', u'Sareh Bayat']\",\"[u'Orson Welles', u'Joseph Cotten', u'Dorothy Comingore']\",\"[u'Sigourney Weaver', u'Michael Biehn', u'Carrie Henn']\",\"[u'James Stewart', u'Kim Novak', u'Barbara Bel Geddes']\",\"[u'Min-sik Choi', u'Ji-tae Yu', u'Hye-jeong Kang']\",\"[u'Robert De Niro', u'James Woods', u'Elizabeth McGovern']\",\"[u'Fred MacMurray', u'Barbara Stanwyck', u'Edward G. Robinson']\",\"[u'Mark Hamill', u'Harrison Ford', u'Carrie Fisher']\",\"[u'Tom Hanks', u'Tim Allen', u'Joan Cusack']\",\"[u'Mel Gibson', u'Sophie Marceau', u'Patrick McGoohan']\",\"[u'Gregory Peck', u'John Megna', u'Frank Overton']\",\"[u'Ellen Burstyn', u'Jared Leto', u'Jennifer Connelly']\",\"[u\\\"Peter O'Toole\\\", u'Alec Guinness', u'Anthony Quinn']\",\"[u'Malcolm McDowell', u'Patrick Magee', u'Michael Bates']\",\"[u'Lamberto Maggiorani', u'Enzo Staiola', u'Lianella Carell']\",\"[u'Charles Chaplin', u'Edna Purviance', u'Jackie Coogan']\",\"[u'Shah Rukh Khan', u'Gayatri Joshi', u'Kishori Balal']\",\"[u'Harvey Keitel', u'Tim Roth', u'Michael Madsen']\",\"[u'Jim Carrey', u'Kate Winslet', u'Tom Wilkinson']\",\"[u'Robert De Niro', u'Jodie Foster', u'Cybill Shepherd']\",\"[u'Shah Rukh Khan', u'Kajol', u'Amrish Puri']\",\"[u'Gene Kelly', u\\\"Donald O'Connor\\\", u'Debbie Reynolds']\",\"[u'Bette Davis', u'Anne Baxter', u'George Sanders']\",\"[u'Toshir\\\\xf4 Mifune', u'Eijir\\\\xf4 T\\\\xf4no', u'Tatsuya Nakadai']\",\"[u'Paul Newman', u'Robert Redford', u'Robert Shaw']\",\"[u'Toshir\\\\xf4 Mifune', u'Machiko Ky\\\\xf4', u'Masayuki Mori']\",\"[u'F. Murray Abraham', u'Tom Hulce', u'Elizabeth Berridge']\",\"[u'Humphrey Bogart', u'Walter Huston', u'Tim Holt']\",\"[u'Graham Chapman', u'John Cleese', u'Eric Idle']\",\"[u'Matthew Modine', u'R. Lee Ermey', u\\\"Vincent D'Onofrio\\\"]\",\"[u'Jack Lemmon', u'Shirley MacLaine', u'Fred MacMurray']\",\"[u'Takashi Shimura', u'Nobuo Kaneko', u\\\"Shin'ichi Himori\\\"]\",\"[u'Orson Welles', u'Joseph Cotten', u'Alida Valli']\",\"[u'Jason Statham', u'Brad Pitt', u'Benicio Del Toro']\",\"[u'Clint Eastwood', u'Lee Van Cleef', u'Gian Maria Volont\\\\xe9']\",\"[u'Brigitte Helm', u'Alfred Abel', u'Gustav Fr\\\\xf6hlich']\",\"[u'Aamir Khan', u'Saif Ali Khan', u'Akshaye Khanna']\",\"[u'Keir Dullea', u'Gary Lockwood', u'William Sylvester']\",\"[u'Marilyn Monroe', u'Tony Curtis', u'Jack Lemmon']\",\"[u'Kevin Spacey', u'Russell Crowe', u'Guy Pearce']\",\"[u'Christian Bale', u'Michael Caine', u'Ken Watanabe']\",\"[u'Brad Pitt', u'Diane Kruger', u'Eli Roth']\",\"[u'Al Pacino', u'Michelle Pfeiffer', u'Steven Bauer']\",\"[u'James Stewart', u'Jean Arthur', u'Claude Rains']\",\"[u'Tom Hanks', u'Tim Allen', u'Don Rickles']\",\"[u'Harrison Ford', u'Sean Connery', u'Alison Doody']\",\"[u'Clint Eastwood', u'Gene Hackman', u'Morgan Freeman']\",\"[u'Steve McQueen', u'James Garner', u'Richard Attenborough']\",\"[u'Mads Mikkelsen', u'Thomas Bo Larsen', u'Annika Wedderkopp']\",\"[u'Marlon Brando', u'Karl Malden', u'Lee J. Cobb']\",\"[u'Buster Keaton', u'Marion Mack', u'Glen Cavender']\",\"[u'Robert De Niro', u'Cathy Moriarty', u'Joe Pesci']\",\"[u'Bruno Ganz', u'Alexandra Maria Lara', u'Ulrich Matthes']\",\"[u'Edward Asner', u'Jordan Nagai', u'John Ratzenberger']\",\"[u'Victor Sj\\\\xf6str\\\\xf6m', u'Bibi Andersson', u'Ingrid Thulin']\",\"[u'Charles Chaplin', u'Mack Swain', u'Tom Murray']\",\"[u'Tatsuya Nakadai', u'Akira Terao', u'Jinpachi Nezu']\",\"[u'Jack Nicholson', u'Faye Dunaway', u'John Huston']\",\"[u'Hitoshi Takagi', u'Noriko Hidaka', u'Chika Sakamoto']\",\"[u'Spencer Tracy', u'Burt Lancaster', u'Richard Widmark']\",\"[u'Ranbir Kapoor', u'Priyanka Chopra', u'Ileana']\",\"[u'Max von Sydow', u'Gunnar Bj\\\\xf6rnstrand', u'Bengt Ekerot']\",\"[u'Al Pacino', u'Robert De Niro', u'Val Kilmer']\",\"[u'Ivana Baquero', u'Ariadna Gil', u'Sergi L\\\\xf3pez']\",\"[u'William Holden', u'Alec Guinness', u'Jack Hawkins']\",\"[u'Bruce Willis', u'Alan Rickman', u'Bonnie Bedelia']\",\"[u'Robin Williams', u'Matt Damon', u'Ben Affleck']\",\"[u'Yves Montand', u'Charles Vanel', u'Peter van Eyck']\",\"[u'Ricardo Dar\\\\xedn', u'Soledad Villamil', u'Pablo Rago']\",\"[u'Aamir Khan', u'Gracy Singh', u'Rachel Shelley']\",\"[u'Leonardo DiCaprio', u'Jonah Hill', u'Margot Robbie']\",\"[u'Clark Gable', u'Claudette Colbert', u'Walter Connolly']\",\"[u'Harrison Ford', u'Rutger Hauer', u'Sean Young']\",\"[u'Tom Hardy', u'Nick Nolte', u'Joel Edgerton']\",\"[u'Chieko Baish\\\\xf4', u'Takuya Kimura', u'Tatsuya Gash\\\\xfbin']\",\"[u'Anthony Hopkins', u'John Hurt', u'Anne Bancroft']\",\"[u'Laurence Olivier', u'Joan Fontaine', u'George Sanders']\",\"[u'Lubna Azabal', u'M\\\\xe9lissa D\\\\xe9sormeaux-Poulin', u'Maxim Gaudette']\",\"[u'Jason Flemyng', u'Dexter Fletcher', u'Nick Moran']\",\"[u'Hugo Weaving', u'Natalie Portman', u'Rupert Graves']\",\"[u'Jeff Bridges', u'John Goodman', u'Julianne Moore']\",\"[u'Paul Newman', u'George Kennedy', u'Strother Martin']\",\"[u'Dar\\\\xedo Grandinetti', u'Mar\\\\xeda Marull', u'M\\\\xf3nica Villa']\",\"[u'Robert De Niro', u'Sharon Stone', u'Joe Pesci']\",\"[u'Clark Gable', u'Vivien Leigh', u'Thomas Mitchell']\",\"[u'Ben Affleck', u'Rosamund Pike', u'Neil Patrick Harris']\",\"[u'Fredric March', u'Dana Andrews', u'Myrna Loy']\",\"[u'Jay Baruchel', u'Gerard Butler', u'Christopher Mintz-Plasse']\",\"[u'Simone Signoret', u'V\\\\xe9ra Clouzot', u'Paul Meurisse']\",\"[u'Clint Eastwood', u'Bee Vang', u'Christopher Carley']\",\"[u'Daniel Br\\\\xfchl', u'Chris Hemsworth', u'Olivia Wilde']\",\"[u'Emile Hirsch', u'Vince Vaughn', u'Catherine Keener']\",\"[u'Tae-hyun Cha', u'Gianna Jun', u'In-mun Kim']\",\"[u'Robert De Niro', u'Christopher Walken', u'John Cazale']\",\"[u'Toni Collette', u'Philip Seymour Hoffman', u'Eric Bana']\",\"[u'Richard Gere', u'Joan Allen', u'Cary-Hiroyuki Tagawa']\",\"[u'Humphrey Bogart', u'Mary Astor', u'Gladys George']\",\"[u'Russell Crowe', u'Ed Harris', u'Jennifer Connelly']\",\"[u'Ray Milland', u'Grace Kelly', u'Robert Cummings']\",\"[u'Ewan McGregor', u'Ewen Bremner', u'Jonny Lee Miller']\",\"[u'Dong-gun Jang', u'Bin Won', u'Eun-ju Lee']\",\"[u'Bibi Andersson', u'Liv Ullmann', u'Margaretha Krook']\",\"[u'Charlton Heston', u'Orson Welles', u'Janet Leigh']\",\"[u'William H. Macy', u'Frances McDormand', u'Steve Buscemi']\",\"[u'Robert Downey Jr.', u'Chris Evans', u'Scarlett Johansson']\",\"[u'Jean-Pierre L\\\\xe9aud', u'Albert R\\\\xe9my', u'Claire Maurier']\",\"[u'Cary Elwes', u'Mandy Patinkin', u'Robin Wright']\",\"[u'Don Cheadle', u'Sophie Okonedo', u'Joaquin Phoenix']\",\"[u'Alisa Freyndlikh', u'Aleksandr Kaydanovskiy', u'Anatoliy Solonitsyn']\",\"[u'Brahim Hadjadj', u'Jean Martin', u'Yacef Saadi']\",\"[u'Predrag Manojlovic', u'Lazar Ristovski', u'Mirjana Jokovic']\",\"[u'Bertil Guve', u'Pernilla Allwin', u'Kristina Adolphson']\",\"[u'Faye Dunaway', u'William Holden', u'Peter Finch']\",\"[u'Kurt Russell', u'Wilford Brimley', u'Keith David']\",\"[u'Paul Newman', u'Robert Redford', u'Katharine Ross']\",\"[u'Henry Fonda', u'Jane Darwell', u'John Carradine']\",\"[u'Bajram Severdzan', u'Srdjan Todorovic', u'Branka Katic']\",\"[u'Graham Chapman', u'John Cleese', u'Michael Palin']\",\"[u'Bruce Willis', u'Haley Joel Osment', u'Toni Collette']\",\"[u'Albert Brooks', u'Ellen DeGeneres', u'Alexander Gould']\",\"[u'Sumi Shimamoto', u'Mahito Tsujimura', u'Hisako Ky\\\\xf4da']\",\"[u'Colin Firth', u'Taron Egerton', u'Samuel L. Jackson']\",\"[u'Charlie Sheen', u'Tom Berenger', u'Willem Dafoe']\",\"[u'Chris Pratt', u'Vin Diesel', u'Bradley Cooper']\",\"[u'Daniel Day-Lewis', u'Pete Postlethwaite', u'Alison Crosbie']\",\"[u'Uma Thurman', u'David Carradine', u'Daryl Hannah']\",\"[u'Tommy Lee Jones', u'Javier Bardem', u'Josh Brolin']\",\"[u'Alain Delon', u'Nathalie Delon', u'Fran\\\\xe7ois P\\\\xe9rier']\",\"[u'Chiwetel Ejiofor', u'Michael Kenneth Williams', u'Michael Fassbender']\",\"[u'Tim Roth', u'Pruitt Taylor Vince', u'Bill Nunn']\",\"[u'Marcello Mastroianni', u'Anouk Aim\\\\xe9e', u'Claudia Cardinale']\",\"[u'Charlton Heston', u'Jack Hawkins', u'Stephen Boyd']\",\"[u'Emilio Echevarr\\\\xeda', u'Gael Garc\\\\xeda Bernal', u'Goya Toledo']\",\"[u'Wil Wheaton', u'River Phoenix', u'Corey Feldman']\",\"[u'Bette Davis', u'Joan Crawford', u'Victor Buono']\",\"[u'Woody Allen', u'Diane Keaton', u'Tony Roberts']\",\"[u'Benedict Cumberbatch', u'Keira Knightley', u'Matthew Goode']\",\"[u'Gene Tierney', u'Dana Andrews', u'Clifton Webb']\",\"[u'Masahiro Motoki', u'Ry\\\\xf4ko Hirosue', u'Tsutomu Yamazaki']\",\"[u'Andy Lau', u'Tony Chiu Wai Leung', u'Anthony Chau-Sang Wong']\",\"[u'Daniel Day-Lewis', u'Paul Dano', u'Ciar\\\\xe1n Hinds']\",\"[u'Ralph Fiennes', u'F. Murray Abraham', u'Mathieu Amalric']\",\"[u'Anthony Quinn', u'Giulietta Masina', u'Richard Basehart']\",\"[u'Mickey Rourke', u'Clive Owen', u'Bruce Willis']\",\"[u'Kang-ho Song', u'Sang-kyung Kim', u'Roe-ha Kim']\",\"[u'Jake Gyllenhaal', u'Jena Malone', u'Mary McDonnell']\",\"[u'Elizabeth Taylor', u'Richard Burton', u'George Segal']\",\"[u'Ben Kingsley', u'John Gielgud', u'Candice Bergen']\",\"[u'Natalya Bondarchuk', u'Donatas Banionis', u'J\\\\xfcri J\\\\xe4rvet']\",\"[u'Daniel Radcliffe', u'Emma Watson', u'Rupert Grint']\",\"[u'Harry Dean Stanton', u'Nastassja Kinski', u'Dean Stockwell']\",\"[u'Judy Garland', u'Frank Morgan', u'Ray Bolger']\",\"[u'Seung-yeon Lee', u'Hyun-kyoon Lee', u'Hyuk-ho Kwon']\",\"[u'Ellar Coltrane', u'Patricia Arquette', u'Ethan Hawke']\",\"[u'Hilary Swank', u'Clint Eastwood', u'Morgan Freeman']\",\"[u'Timothy Bottoms', u'Jeff Bridges', u'Cybill Shepherd']\",\"[u'Farley Granger', u'Robert Walker', u'Ruth Roman']\",\"[u'Elizabeth Taylor', u'Paul Newman', u'Burl Ives']\",\"[u'Marcello Mastroianni', u'Anita Ekberg', u'Anouk Aim\\\\xe9e']\",\"[u'Brigitte Lin', u'Takeshi Kaneshiro', u'Tony Chiu Wai Leung']\",\"[u'Robert Mitchum', u'Shelley Winters', u'Lillian Gish']\",\"[u'Vincent Cassel', u'Hubert Kound\\\\xe9', u'Sa\\\\xefd Taghmaoui']\",\"[u'Donnie Yen', u'Simon Yam', u'Siu-Wong Fan']\",\"[u'Gary Cooper', u'Grace Kelly', u'Thomas Mitchell']\",\"[u'Cary Grant', u'Ingrid Bergman', u'Claude Rains']\",\"[u'Ethan Hawke', u'Julie Delpy', u'Andrea Eckert']\",\"[u'Wagner Moura', u'Irandhir Santos', u'Andr\\\\xe9 Ramiro']\",\"[u'Matt Damon', u'\\\\xc9dgar Ram\\\\xedrez', u'Joan Allen']\",\"[u'Anna Paquin', u'James Van Der Beek', u'Cloris Leachman']\",\"[u'Ulrich Thomsen', u'Henning Moritzen', u'Thomas Bo Larsen']\",\"[u'Ki-duk Kim', u'Yeong-su Oh', u'Jong-ho Kim']\",\"[u'Leonardo DiCaprio', u'Emily Mortimer', u'Mark Ruffalo']\",\"[u\\\"Ryan O'Neal\\\", u'Marisa Berenson', u'Patrick Magee']\",\"[u'William Holden', u'Don Taylor', u'Otto Preminger']\",\"[u'Ir\\\\xe8ne Jacob', u'Jean-Louis Trintignant', u'Fr\\\\xe9d\\\\xe9rique Feder']\",\"[u'Patrick Stewart', u'Ian McKellen', u'Hugh Jackman']\",\"[u'Laurence Olivier', u'Michael Caine', u'Alec Cawthorne']\",\"[u'Tony Chiu Wai Leung', u'Maggie Cheung', u'Ping Lam Siu']\",\"[u'James Stewart', u'John Wayne', u'Vera Miles']\",\"[u'Cary Grant', u'Priscilla Lane', u'Raymond Massey']\",\"[u'Humphrey Bogart', u'Lauren Bacall', u'John Ridgely']\",\"[u'Gregory Peck', u'Audrey Hepburn', u'Eddie Albert']\",\"[u'Cary Grant', u'Katharine Hepburn', u'James Stewart']\",\"[u'Nozomu Sasaki', u'Mami Koyama', u'Mitsuo Iwata']\",\"[u'James Stewart', u'Lee Remick', u'Ben Gazzara']\",\"[u'Werner Krauss', u'Conrad Veidt', u'Friedrich Feher']\",\"[u'Emma Stone', u'Viola Davis', u'Octavia Spencer']\",\"[u'Javier Bardem', u'Bel\\\\xe9n Rueda', u'Lola Due\\\\xf1as']\",\"[u'Wagner Moura', u'Andr\\\\xe9 Ramiro', u'Caio Junqueira']\",\"[u'Paul Newman', u'Jackie Gleason', u'Piper Laurie']\",\"[u'John Wayne', u'Dean Martin', u'Ricky Nelson']\",\"[u'Bruce Willis', u'Madeleine Stowe', u'Brad Pitt']\",\"[u'James Stewart', u'Josephine Hull', u'Peggy Dow']\",\"[u'Peter Billingsley', u'Melinda Dillon', u'Darren McGavin']\",\"[u'Roy Scheider', u'Robert Shaw', u'Richard Dreyfuss']\",\"[u'Iko Uwais', u'Yayan Ruhian', u'Arifin Putra']\",\"[u'Sylvester Stallone', u'Talia Shire', u'Burt Young']\",\"[u'Bruno Ganz', u'Solveig Dommartin', u'Otto Sander']\",\"[u'Johnny Depp', u'Geoffrey Rush', u'Orlando Bloom']\",\"[u'Sterling Hayden', u'Coleen Gray', u'Vince Edwards']\",\"[u'Steve McQueen', u'Dustin Hoffman', u'Victor Jory']\",\"[u'Colin Firth', u'Geoffrey Rush', u'Helena Bonham Carter']\",\"[u'Bill Murray', u'Andie MacDowell', u'Chris Elliott']\",\"[u'Clint Eastwood', u'Gian Maria Volont\\\\xe9', u'Marianne Koch']\",\"[u'Billy Crystal', u'John Goodman', u'Mary Gibbs']\",\"[u'Al Pacino', u'John Cazale', u'Penelope Allen']\",\"[u'Logan Lerman', u'Emma Watson', u'Ezra Miller']\",\"[u'Gene Wilder', u'Madeline Kahn', u'Marty Feldman']\",\"[u'Arnold Schwarzenegger', u'Linda Hamilton', u'Michael Biehn']\",\"[u'Ruth Gordon', u'Bud Cort', u'Vivian Pickles']\",\"[u'Ethan Hawke', u'Julie Delpy', u'Vernon Dobtcheff']\",\"[u'Vivien Leigh', u'Marlon Brando', u'Kim Hunter']\",\"[u'Katharine Hepburn', u'Cary Grant', u'Charles Ruggles']\",\"[u'Mathieu Amalric', u'Emmanuelle Seigner', u'Marie-Jos\\\\xe9e Croze']\",\"[u'Cary Grant', u'Rosalind Russell', u'Ralph Bellamy']\",\"[u'Billy Bob Thornton', u'Dwight Yoakam', u'J.T. Walsh']\",\"[u'Lew Ayres', u'Louis Wolheim', u'John Wray']\",\"[u'Hugh Jackman', u'Jake Gyllenhaal', u'Viola Davis']\",\"[u'Vladimir Garin', u'Ivan Dobronravov', u'Konstantin Lavronenko']\",\"[u'Frank Sinatra', u'Laurence Harvey', u'Janet Leigh']\",\"[u'Groucho Marx', u'Harpo Marx', u'Chico Marx']\",\"[u\\\"Paige O'Hara\\\", u'Robby Benson', u'Richard White']\",\"[u'Jim Carrey', u'Ed Harris', u'Laura Linney']\",\"[u'William Holden', u'Ernest Borgnine', u'Robert Ryan']\",\"[u'James Stewart', u'John Dall', u'Farley Granger']\",\"[u'Dustin Hoffman', u'Anne Bancroft', u'Katharine Ross']\",\"[u'Sam Neill', u'Laura Dern', u'Jeff Goldblum']\",\"[u'Nicole Kidman', u'Paul Bettany', u'Lauren Bacall']\",\"[u'Vin Diesel', u'Paul Walker', u'Dwayne Johnson']\",\"[u'George C. Scott', u'Karl Malden', u'Stephen Young']\",\"[u'Danny Elfman', u'Chris Sarandon', u\\\"Catherine O'Hara\\\"]\",\"[u'Peter Sellers', u'Shirley MacLaine', u'Melvyn Douglas']\",\"[u'Chiara Mastroianni', u'Catherine Deneuve', u'Gena Rowlands']\",\"[u'Rob Reiner', u'Michael McKean', u'Christopher Guest']\",\"[u'James Dean', u'Raymond Massey', u'Julie Harris']\",\"[u'Bob Geldof', u'Christine Hargreaves', u'James Laurenson']\",\"[u'Leonardo DiCaprio', u'Djimon Hounsou', u'Jennifer Connelly']\",\"[u'Ewan McGregor', u'Albert Finney', u'Billy Crudup']\",\"[u'Dev Patel', u'Freida Pinto', u'Saurabh Shukla']\",\"[u'Chris Pine', u'Zachary Quinto', u'Simon Pegg']\",\"[u'Richard Farnsworth', u'Sissy Spacek', u'Jane Galloway Heitz']\",\"[u'Martin Landau', u'Woody Allen', u'Bill Bernstein']\",\"[u'Cary Grant', u'Audrey Hepburn', u'Walter Matthau']\",\"[u'Kevin Costner', u'Gary Oldman', u'Jack Lemmon']\",\"[u'David Emge', u'Ken Foree', u'Scott H. Reiniger']\",\"[u'Tom Cruise', u'Jason Robards', u'Julianne Moore']\",\"[u'Woody Allen', u'Diane Keaton', u'Mariel Hemingway']\",\"[u'Fernanda Montenegro', u'Vin\\\\xedcius de Oliveira', u'Mar\\\\xedlia P\\\\xeara']\",\"[u'Jonathan Pryce', u'Kim Greist', u'Robert De Niro']\",\"[u'Ellen Burstyn', u'Max von Sydow', u'Linda Blair']\",\"[u'Joaquin Phoenix', u'Amy Adams', u'Scarlett Johansson']\",\"[u'Bj\\\\xf6rk', u'Catherine Deneuve', u'David Morse']\",\"[u'Dustin Hoffman', u'Tom Cruise', u'Valeria Golino']\",\"[u'Rosario Flores', u'Javier C\\\\xe1mara', u'Dar\\\\xedo Grandinetti']\",\"[u'Errol Flynn', u'Olivia de Havilland', u'Basil Rathbone']\",\"[u'Klaus Kinski', u'Ruy Guerra', u'Helena Rojo']\",\"[u'Sidney Poitier', u'Rod Steiger', u'Warren Oates']\",\"[u'Max Schreck', u'Greta Schr\\\\xf6der', u'Ruth Landshoff']\",\"[u'Natalie Portman', u'Mila Kunis', u'Vincent Cassel']\",\"[u'Brad Garrett', u'Lou Romano', u'Patton Oswalt']\",\"[u'John Wayne', u'Jeffrey Hunter', u'Vera Miles']\",\"[u'Brie Larson', u'Frantz Turner', u'John Gallagher Jr.']\",\"[u'Omar Sharif', u'Julie Christie', u'Geraldine Chaplin']\",\"[u'Suraj Sharma', u'Irrfan Khan', u'Adil Hussain']\",\"[u'Dustin Hoffman', u'Robert Redford', u'Jack Warden']\",\"[u'Aleksandr Antonov', u'Vladimir Barsky', u'Grigori Aleksandrov']\",\"[u'Kevin Costner', u'Mary McDonnell', u'Graham Greene']\",\"[u'Leonardo DiCaprio', u'Tom Hanks', u'Christopher Walken']\",\"[u'Russell Crowe', u'Ren\\\\xe9e Zellweger', u'Craig Bierko']\",\"[u'Robin Williams', u'Robert Sean Leonard', u'Ethan Hawke']\",\"[u'Atsuko Tanaka', u'Iemasa Kayumi', u'Akio \\\\xd4tsuka']\",\"[u'Birol \\\\xdcnel', u'Sibel Kekilli', u'G\\\\xfcven Kira\\\\xe7']\",\"[u'Branko Djuric', u'Rene Bitorajac', u'Filip Sovagovic']\",\"[u'Matthew McConaughey', u'Jennifer Garner', u'Jared Leto']\",\"[u'Richard Gere', u'Brooke Adams', u'Sam Shepard']\",\"[u'Julie Andrews', u'Christopher Plummer', u'Eleanor Parker']\",\"[u'Sharlto Copley', u'David James', u'Jason Cope']\",\"[u'Teresa Wright', u'Joseph Cotten', u'Macdonald Carey']\",\"[u'Colin Clive', u'Mae Clarke', u'Boris Karloff']\",\"[u'Simon Pegg', u'Nick Frost', u'Kate Ashfield']\",\"[u'Duane Jones', u\\\"Judith O'Dea\\\", u'Karl Hardman']\",\"[u'Uma Thurman', u'David Carradine', u'Michael Madsen']\",\"[u'Timothy Spall', u'Brenda Blethyn', u'Phyllis Logan']\",\"[u'Jean Dujardin', u'B\\\\xe9r\\\\xe9nice Bejo', u'John Goodman']\",\"[u'Scott Weinger', u'Robin Williams', u'Linda Larkin']\",\"[u'Margaret Lockwood', u'Michael Redgrave', u'Paul Lukas']\",\"[u'Ian McKellen', u'Martin Freeman', u'Richard Armitage']\",\"[u'K\\\\xe5re Hedebrant', u'Lina Leandersson', u'Per Ragnar']\",\"[u'Topol', u'Norma Crane', u'Leonard Frey']\",\"[u'Martin Freeman', u'Ian McKellen', u'Richard Armitage']\",\"[u'Juliette Binoche', u'Zbigniew Zamachowski', u'Julie Delpy']\",\"[u'Mia Farrow', u'John Cassavetes', u'Ruth Gordon']\",\"[u'Sean Penn', u'Tim Robbins', u'Kevin Bacon']\",\"[u'Nathan Fillion', u'Gina Torres', u'Chiwetel Ejiofor']\",\"[u'Magali No\\\\xebl', u'Bruno Zanin', u'Pupella Maggio']\",\"[u'Charlton Heston', u'Roddy McDowall', u'Kim Hunter']\",\"[u'Christian Slater', u'Patricia Arquette', u'Dennis Hopper']\",\"[u'Mia Farrow', u'Dianne Wiest', u'Michael Caine']\",\"[u'Sam Rockwell', u'Kevin Spacey', u'Dominique McElligott']\",\"[u'Ethan Hawke', u'Julie Delpy', u'Seamus Davey-Fitzpatrick']\",\"[u'Shah Rukh Khan', u'Kajol', u'Sheetal Menon']\",\"[u'Al Pacino', u\\\"Chris O'Donnell\\\", u'James Rebhorn']\",\"[u'Naomi Watts', u'Laura Harring', u'Justin Theroux']\",\"[u'Fay Wray', u'Robert Armstrong', u'Bruce Cabot']\",\"[u'Shailene Woodley', u'Ansel Elgort', u'Nat Wolff']\",\"[u'Craig T. Nelson', u'Samuel L. Jackson', u'Holly Hunter']\",\"[u'Johnny Depp', u'Winona Ryder', u'Dianne Wiest']\",\"[u'Daniel Craig', u'Eva Green', u'Judi Dench']\",\"[u'Jay Baruchel', u'Cate Blanchett', u'Gerard Butler']\",\"[u'Colin Farrell', u'Brendan Gleeson', u'Ciar\\\\xe1n Hinds']\",\"[u'Kevin Costner', u'Sean Connery', u'Robert De Niro']\",\"[u'Jean-Paul Belmondo', u'Jean Seberg', u'Daniel Boulanger']\",\"[u'Kirk Douglas', u'Laurence Olivier', u'Jean Simmons']\",\"[u'Eli Marienthal', u'Harry Connick Jr.', u'Jennifer Aniston']\",\"[u'Dustin Hoffman', u'Jon Voight', u'Sylvia Miles']\",\"[u'John Belushi', u'Dan Aykroyd', u'Cab Calloway']\",\"[u'Wallace Ford', u'Leila Hyams', u'Olga Baclanova']\",\"[u'Ken Watanabe', u'Kazunari Ninomiya', u'Tsuyoshi Ihara']\",\"[u'Tom Cruise', u'Emily Blunt', u'Bill Paxton']\",\"[u'Matthew Broderick', u'Denzel Washington', u'Cary Elwes']\",\"[u'Humphrey Bogart', u'Katharine Hepburn', u'Robert Morley']\",\"[u'Michael Keaton', u'Zach Galifianakis', u'Edward Norton']\",\"[u'Ryan Potter', u'Scott Adsit', u'Jamie Chung']\",\"[u'Billy Crudup', u'Patrick Fugit', u'Kate Hudson']\",\"[u'Gena Rowlands', u'James Garner', u'Rachel McAdams']\",\"[u'Gene Hackman', u'John Cazale', u'Allen Garfield']\",\"[u'Emilio Estevez', u'Judd Nelson', u'Molly Ringwald']\",\"[u'Will Smith', u'Thandie Newton', u'Jaden Smith']\",\"[u'Yun-Fat Chow', u'Danny Lee', u'Sally Yeh']\",\"[u'Glen Hansard', u'Mark\\\\xe9ta Irglov\\\\xe1', u'Hugh Walsh']\",\"[u'Jet Li', u'Tony Chiu Wai Leung', u'Maggie Cheung']\",\"[u'Anthony Hopkins', u'Emma Thompson', u'John Haycraft']\",\"[u'Boris Karloff', u'Elsa Lanchester', u'Colin Clive']\",\"[u'Mickey Rourke', u'Marisa Tomei', u'Evan Rachel Wood']\",\"[u'Jake Gyllenhaal', u'Rene Russo', u'Bill Paxton']\",\"[u'Sandra Bullock', u'George Clooney', u'Ed Harris']\",\"[u'Yun-Fat Chow', u'Tony Chiu Wai Leung', u'Teresa Mo']\",\"[u'Warren Beatty', u'Faye Dunaway', u'Michael J. Pollard']\",\"[u'Franka Potente', u'Matt Damon', u'Chris Cooper']\",\"[u'Humphrey Bogart', u'Edward G. Robinson', u'Lauren Bacall']\",\"[u'Ricardo Dar\\\\xedn', u'Gast\\\\xf3n Pauls', u'Leticia Br\\\\xe9dice']\",\"[u'Tom Hanks', u'Tim Allen', u'Joan Cusack']\",\"[u'Sam Waterston', u'Haing S. Ngor', u'John Malkovich']\",\"[u'Cecilia Roth', u'Marisa Paredes', u'Candela Pe\\\\xf1a']\",\"[u'Beau Billingslea', u'Melissa Fahn', u'Nicholas Guest']\",\"[u'Johnny Depp', u'Martin Landau', u'Sarah Jessica Parker']\",\"[u'John Wayne', u'Claire Trevor', u'Andy Devine']\",\"[u'Sean Connery', u'Michael Caine', u'Christopher Plummer']\",\"[u'Clint Eastwood', u'Sondra Locke', u'Chief Dan George']\",\"[u'Julianne Moore', u'Clive Owen', u'Chiwetel Ejiofor']\",\"[u'Russell Crowe', u'Al Pacino', u'Christopher Plummer']\",\"[u'Sam Shepard', u'Scott Glenn', u'Ed Harris']\",\"[u'Martin Sheen', u'Sissy Spacek', u'Warren Oates']\",\"[u'Tahar Rahim', u'Niels Arestrup', u'Adel Bencherif']\",\"[u'Anamaria Marinca', u'Vlad Ivanov', u'Laura Vasiliu']\",\"[u'B\\\\xe9r\\\\xe9nice Bejo', u'Tahar Rahim', u'Ali Mosaffa']\",\"[u'Lee Pace', u'Catinca Untaru', u'Justine Waddell']\",\"[u'Emily Watson', u'Stellan Skarsg\\\\xe5rd', u'Katrin Cartlidge']\",\"[u'Jared Leto', u'Sarah Polley', u'Diane Kruger']\",\"[u'Don Cheadle', u'Sandra Bullock', u'Thandie Newton']\",\"[u'Sam Worthington', u'Zoe Saldana', u'Sigourney Weaver']\",\"[u'Robert Downey Jr.', u'Gwyneth Paltrow', u'Terrence Howard']\",\"[u'Danny Aiello', u'Ossie Davis', u'Ruby Dee']\",\"[u'Al Pacino', u'Sean Penn', u'Penelope Ann Miller']\",\"[u'Yun-Fat Chow', u'Michelle Yeoh', u'Ziyi Zhang']\",\"[u'Oksana Akinshina', u'Artyom Bogucharskiy', u'Pavel Ponomaryov']\",\"[u'G\\\\xe9rard Jugnot', u'Fran\\\\xe7ois Berl\\\\xe9and', u'Jean-Baptiste Maunier']\",\"[u'Willem Dafoe', u'Sean Patrick Flanery', u'Norman Reedus']\",\"[u'Gabriel Byrne', u'Albert Finney', u'John Turturro']\",\"[u'Joaquin Phoenix', u'Reese Witherspoon', u'Ginnifer Goodwin']\",\"[u'Mike Myers', u'Eddie Murphy', u'Cameron Diaz']\",\"[u'Audrey Hepburn', u'Rex Harrison', u'Stanley Holloway']\",\"[u'Charlton Heston', u'Yul Brynner', u'Anne Baxter']\",\"[u'Mark Wahlberg', u'Christian Bale', u'Amy Adams']\",\"[u'Tom Hanks', u'Barkhad Abdi', u'Barkhad Abdirahman']\",\"[u'Liza Minnelli', u'Michael York', u'Helmut Griem']\",\"[u'Donald Pleasence', u'Jamie Lee Curtis', u'Tony Moran']\",\"[u'Daniel Day-Lewis', u'Brenda Fricker', u'Alison Whelan']\",\"[u'Edmund Gwenn', u\\\"Maureen O'Hara\\\", u'John Payne']\",\"[u'Bin Won', u'Sae-ron Kim', u'Tae-hoon Kim']\",\"[u'Riisa Naka', u'Takuya Ishida', u'Mitsutaka Itakura']\",\"[u'Steve Carell', u'Toni Collette', u'Greg Kinnear']\",\"[u'Liam Neeson', u'Maggie Grace', u'Famke Janssen']\",\"[u'L\\\\xe9a Seydoux', u'Ad\\\\xe8le Exarchopoulos', u'Salim Kechiouche']\",\"[u'Mark Wahlberg', u'Julianne Moore', u'Burt Reynolds']\",\"[u'Simon Pegg', u'Nick Frost', u'Martin Freeman']\",\"[u'Matthew Broderick', u'Alan Ruck', u'Mia Sara']\",\"[u'Anthony Hopkins', u'Diane Ladd', u'Iain Rea']\",\"[u'Kirsten Dunst', u'Minami Takayama', u'Rei Sakuma']\",\"[u'Tom Waits', u'John Lurie', u'Roberto Benigni']\",\"[u'Al Pacino', u'Jack Lemmon', u'Alec Baldwin']\",\"[u\\\"Brian O'Halloran\\\", u'Jeff Anderson', u'Marilyn Ghigliotti']\",\"[u'Ulrich Thomsen', u'Mads Mikkelsen', u'Nicolas Bro']\",\"[u'Daniel Craig', u'Rooney Mara', u'Christopher Plummer']\",\"[u'Robert Donat', u'Madeleine Carroll', u'Lucie Mannheim']\",\"[u'Henry Thomas', u'Drew Barrymore', u'Peter Coyote']\",\"[u'Kurt Russell', u'Val Kilmer', u'Sam Elliott']\",\"[u'Arnold Schwarzenegger', u'Carl Weathers', u'Kevin Peter Hall']\",\"[u'Mandy Moore', u'Zachary Levi', u'Donna Murphy']\",\"[u'Spencer Tracy', u'Sidney Poitier', u'Katharine Hepburn']\",\"[u'Donald Sutherland', u'Mary Tyler Moore', u'Judd Hirsch']\",\"[u'Geoffrey Rush', u'Jim Sturgess', u'Sylvia Hoeks']\",\"[u'Bradley Cooper', u'Jennifer Lawrence', u'Robert De Niro']\",\"[u'Kenneth Branagh', u'Julie Christie', u'Derek Jacobi']\",\"[u'Jean-Louis Trintignant', u'Emmanuelle Riva', u'Isabelle Huppert']\",\"[u'Byung-hun Lee', u'Min-sik Choi', u'In-seo Kim']\",\"[u'Gael Garc\\\\xeda Bernal', u'Rodrigo De la Serna', u'M\\\\xeda Maestro']\",\"[u'Ron Livingston', u'Jennifer Aniston', u'David Herman']\",\"[u'Andreas Wilson', u'Henrik Lundstr\\\\xf6m', u'Gustaf Skarsg\\\\xe5rd']\",\"[u'Michael Nyqvist', u'Noomi Rapace', u'Ewa Fr\\\\xf6ling']\",\"[u'Richard E. Grant', u'Paul McGann', u'Richard Griffiths']\",\"[u'Michael Rennie', u'Patricia Neal', u'Hugh Marlowe']\",\"[u'Carice van Houten', u'Sebastian Koch', u'Thom Hoffman']\",\"[u'Bruce Campbell', u'Sarah Berry', u'Dan Hicks']\",\"[u'Hideaki Anno', u'Hidetoshi Nishijima', u'Miori Takimoto']\",\"[u'Chris Pine', u'Zachary Quinto', u'Zoe Saldana']\",\"[u'Mich\\\\xe8le Caucheteux', u'Jean-Claude Donda', u'Michel Robin']\",\"[u'Eduardo Noriega', u'Pen\\\\xe9lope Cruz', u'Chete Lera']\",\"[u'Yul Brynner', u'Steve McQueen', u'Charles Bronson']\",\"[u'Ryan Gosling', u'Carey Mulligan', u'Bryan Cranston']\",\"[u'Gene Hackman', u'Willem Dafoe', u'Frances McDormand']\",\"[u'Chris Pratt', u'Will Ferrell', u'Elizabeth Banks']\",\"[u'Edward Fox', u'Terence Alexander', u'Michel Auclair']\",\"[u'James Caan', u'Kathy Bates', u'Richard Farnsworth']\",\"[u'Gene Wilder', u'Jack Albertson', u'Peter Ostrum']\",\"[u'Leopold Stokowski', u'Deems Taylor', u'Corey Burton']\",\"[u'Ethan Hawke', u'Uma Thurman', u'Jude Law']\",\"[u'Denzel Washington', u'Russell Crowe', u'Chiwetel Ejiofor']\",\"[u'Sh\\\\xfbichir\\\\xf4 Moriyama', u'Tokiko Kat\\\\xf4', u'Sanshi Katsura']\",\"[u'Gene Hackman', u'Roy Scheider', u'Fernando Rey']\",\"[u'Asa Butterfield', u'David Thewlis', u'Rupert Friend']\",\"[u'Christian Bale', u'John Malkovich', u'Miranda Richardson']\",\"[u'Domhnall Gleeson', u'Rachel McAdams', u'Bill Nighy']\",\"[u'Isabella Rossellini', u'Kyle MacLachlan', u'Dennis Hopper']\",\"[u'Paddy Considine', u'Samantha Morton', u'Djimon Hounsou']\",\"[u'Brad Pitt', u'Cate Blanchett', u'Tilda Swinton']\",\"[u'Daniel Day-Lewis', u'Madeleine Stowe', u'Russell Means']\",\"[u'Jared Gilman', u'Kara Hayward', u'Bruce Willis']\",\"[u'James Dean', u'Natalie Wood', u'Sal Mineo']\",\"[u'George Clooney', u'Meryl Streep', u'Bill Murray']\",\"[u'Kevin McCarthy', u'Dana Wynter', u'Larry Gates']\",\"[u'Jake Gyllenhaal', u'Chris Cooper', u'Laura Dern']\",\"[u'Clint Eastwood', u'Andrew Robinson', u'Harry Guardino']\",\"[u'Bill Murray', u'Dan Aykroyd', u'Sigourney Weaver']\",\"[u'Chris Evans', u'Samuel L. Jackson', u'Scarlett Johansson']\",\"[u'John C. Reilly', u'Jack McBrayer', u'Jane Lynch']\",\"[u'Zach Galifianakis', u'Bradley Cooper', u'Justin Bartha']\",\"[u'Michael J. Fox', u'Christopher Lloyd', u'Lea Thompson']\",\"[u'Catherine Deneuve', u'Jean Sorel', u'Michel Piccoli']\",\"[u'George Clooney', u'John Turturro', u'Tim Blake Nelson']\",\"[u'Catherine Deneuve', u'Ian Hendry', u'John Fraser']\",\"[u'Robert Hays', u'Julie Hagerty', u'Leslie Nielsen']\",\"[u'Keira Knightley', u'Matthew Macfadyen', u'Brenda Blethyn']\",\"[u'Stanley Baker', u'Jack Hawkins', u'Ulla Jacobsson']\",\"[u'Winona Ryder', u'Gena Rowlands', u'Lisanne Falk']\",\"[u'Burt Lancaster', u'Montgomery Clift', u'Deborah Kerr']\",\"[u'Gerardo Taracena', u'Raoul Trujillo', u'Dalia Hern\\\\xe1ndez']\",\"[u'Keira Knightley', u'James McAvoy', u'Brenda Blethyn']\",\"[u'Lee Marvin', u'Ernest Borgnine', u'Charles Bronson']\",\"[u'James McAvoy', u'Michael Fassbender', u'Jennifer Lawrence']\",\"[u'Franka Potente', u'Moritz Bleibtreu', u'Herbert Knaup']\",\"[u'John Wayne', u'Robert Ryan', u'Richard Burton']\",\"[u'Woody Allen', u'Mia Farrow', u'Patrick Horgan']\",\"[u'John Lone', u'Joan Chen', u\\\"Peter O'Toole\\\"]\",\"[u'Sean Astin', u'Josh Brolin', u'Jeff Cohen']\",\"[u'Christian Friedel', u'Ernst Jacobi', u'Leonie Benesch']\",\"[u'Harrison Ford', u'Tommy Lee Jones', u'Sela Ward']\",\"[u'Danny Glover', u'Whoopi Goldberg', u'Oprah Winfrey']\",\"[u'Trey Parker', u'Matt Stone', u'Mary Kay Bergman']\",\"[u'Zooey Deschanel', u'Joseph Gordon-Levitt', u'Geoffrey Arend']\",\"[u'Bill Murray', u'Scarlett Johansson', u'Giovanni Ribisi']\",\"[u'Ben Affleck', u'Bryan Cranston', u'John Goodman']\",\"[u'Cleavon Little', u'Gene Wilder', u'Slim Pickens']\",\"[u'Audrey Hepburn', u'George Peppard', u'Patricia Neal']\",\"[u'Johnny Depp', u'Kate Winslet', u'Julie Christie']\",\"[u'Moritz Bleibtreu', u'Christian Berkel', u'Oliver Stokowski']\",\"[u'Josh Hartnett', u'Ben Kingsley', u'Morgan Freeman']\",\"[u'Eddie Redmayne', u'Felicity Jones', u'Tom Prior']\",\"[u'Daniel Radcliffe', u'Emma Watson', u'Rupert Grint']\",\"[u'Stephen Chow', u'Wah Yuen', u'Qiu Yuen']\",\"[u'John Cusack', u'Cameron Diaz', u'Catherine Keener']\",\"[u'Jesse Eisenberg', u'Andrew Garfield', u'Justin Timberlake']\",\"[u'Russell Crowe', u'Christian Bale', u'Ben Foster']\",\"[u'Sean Connery', u'Christian Slater', u'Helmut Qualtinger']\",\"[u'Julie Andrews', u'Dick Van Dyke', u'David Tomlinson']\",\"[u'Michael Douglas', u'Deborah Kara Unger', u'Sean Penn']\",\"[u'Angelina Jolie', u'Colm Feore', u'Amy Ryan']\",\"[u'Al Pacino', u'Johnny Depp', u'Michael Madsen']\",\"[u'Al Pacino', u'John Randolph', u'Jack Kehoe']\",\"[u'Johnny Depp', u'Leonardo DiCaprio', u'Juliette Lewis']\",\"[u'Sean Connery', u'Gert Fr\\\\xf6be', u'Honor Blackman']\",\"[u'Bruce Dern', u'Will Forte', u'June Squibb']\",\"[u'Tom Guiry', u'Mike Vitar', u'Patrick Renna']\",\"[u'Cuba Gooding Jr.', u'Laurence Fishburne', u'Hudhail Al-Amir']\",\"[u'Matt Damon', u'Franka Potente', u'Joan Allen']\",\"[u'Daniel Craig', u'Javier Bardem', u'Naomie Harris']\",\"[u'Jamie Foxx', u'Regina King', u'Kerry Washington']\",\"[u'Gerard Butler', u'Lena Headey', u'David Wenham']\",\"[u'Robert De Niro', u'Chazz Palminteri', u'Lillo Brancato']\",\"[u'Rod Taylor', u'Tippi Hedren', u'Suzanne Pleshette']\",\"[u'Tatsuya Fujiwara', u'Aki Maeda', u'Tar\\\\xf4 Yamamoto']\",\"[u'Sam Riley', u'Samantha Morton', u'Craig Parkinson']\",\"[u'Dustin Hoffman', u'Meryl Streep', u'Jane Alexander']\",\"[u'Jon Voight', u'Burt Reynolds', u'Ned Beatty']\",\"[u'George Clooney', u'Brad Pitt', u'Julia Roberts']\",\"[u'Jack Nicholson', u'Helen Hunt', u'Greg Kinnear']\",\"[u'Robert De Niro', u'Robin Williams', u'Julie Kavner']\",\"[u'Robert De Niro', u'Jerry Lewis', u'Diahnne Abbott']\",\"[u'Denzel Washington', u'Christopher Walken', u'Dakota Fanning']\",\"[u'Humphrey Bogart', u'Audrey Hepburn', u'William Holden']\",\"[u'Rufus Sewell', u'Kiefer Sutherland', u'Jennifer Connelly']\",\"[u'Daniel Br\\\\xfchl', u'Katrin Sa\\\\xdf', u'Chulpan Khamatova']\",\"[u'Denzel Washington', u'Will Patton', u'Wood Harris']\",\"[u'William Shatner', u'Leonard Nimoy', u'DeForest Kelley']\",\"[u'Tom Hanks', u'Tyler Hoechlin', u'Rob Maxey']\",\"[u'Jason Schwartzman', u'Bill Murray', u'Olivia Williams']\",\"[u'Christian Bale', u'Jennifer Jason Leigh', u'Aitana S\\\\xe1nchez-Gij\\\\xf3n']\",\"[u'Madeline Carroll', u'Callan McAuliffe', u'Rebecca De Mornay']\",\"[u'Jim Caviezel', u'Guy Pearce', u'Richard Harris']\",\"[u'Adrien Brody', u'Christina Hendricks', u'Marcia Gay Harden']\",\"[u'Guillaume Canet', u'Marion Cotillard', u'Thibault Verhaeghe']\",\"[u'Johnny Depp', u'Gary Farmer', u'Crispin Glover']\",\"[u'Mia Farrow', u'Jeff Daniels', u'Danny Aiello']\",\"[u'Sean Penn', u'Benicio Del Toro', u'Naomi Watts']\",\"[u'Joseph Gordon-Levitt', u'Seth Rogen', u'Anna Kendrick']\",\"[u'Aaron Taylor-Johnson', u'Nicolas Cage', u'Chlo\\\\xeb Grace Moretz']\",\"[u'Marie-Laure Dougnac', u'Dominique Pinon', u'Pascal Benezech']\",\"[u'John Turturro', u'John Goodman', u'Judy Davis']\",\"[u'James McAvoy', u'Forest Whitaker', u'Gillian Anderson']\",\"[u'Nicolas Cage', u'Meryl Streep', u'Chris Cooper']\",\"[u'Audrey Tautou', u'Gaspard Ulliel', u'Jodie Foster']\",\"[u'Brady Corbet', u'Joseph Gordon-Levitt', u'Elisabeth Shue']\",\"[u'Charlie Cox', u'Claire Danes', u'Sienna Miller']\",\"[u'Josh Hartnett', u'Ewan McGregor', u'Tom Sizemore']\",\"[u'Megumi Hayashibara', u'T\\\\xf4ru Emori', u'Katsunosuke Hori']\",\"[u'Johnny Depp', u'Benicio Del Toro', u'Tobey Maguire']\",\"[u'Frank Langella', u'Michael Sheen', u'Kevin Bacon']\",\"[u'Bruce Lee', u'John Saxon', u'Jim Kelly']\",\"[u'Andie MacDowell', u'Julianne Moore', u'Tim Robbins']\",\"[u'John Lennon', u'Paul McCartney', u'George Harrison']\",\"[u'Tom Cruise', u'Ken Watanabe', u'Billy Connolly']\",\"[u'Peter Dinklage', u'Patricia Clarkson', u'Bobby Cannavale']\",\"[u'Jesse Eisenberg', u'Emma Stone', u'Woody Harrelson']\",\"[u'Kang-ho Song', u'Ha-kyun Shin', u'Doona Bae']\",\"[u'Steve Carell', u'Jason Segel', u'Russell Brand']\",\"[u'Alan Ladd', u'Jean Arthur', u'Van Heflin']\",\"[u'Walter Pidgeon', u'Anne Francis', u'Leslie Nielsen']\",\"[u'Leonardo DiCaprio', u'Kate Winslet', u'Billy Zane']\",\"[u'Morgan Freeman', u'Ed Harris', u'Casey Affleck']\",\"[u'Thierry Lhermitte', u'Jacques Villeret', u'Francis Huster']\",\"[u'Gary Oldman', u'Keri Russell', u'Andy Serkis']\",\"[u'Edward Norton', u'Barry Pepper', u'Philip Seymour Hoffman']\",\"[u'Cate Blanchett', u'Matt Damon', u'Liam Neeson']\",\"[u'Geoffrey Rush', u'Armin Mueller-Stahl', u'Justin Braine']\",\"[u'Quinton Aaron', u'Sandra Bullock', u'Tim McGraw']\",\"[u'Jake Gyllenhaal', u'Heath Ledger', u'Michelle Williams']\",\"[u'Tom Hanks', u'Helen Hunt', u'Paul Sanchez']\",\"[u'Denzel Washington', u'Angela Bassett', u'Delroy Lindo']\",\"[u'Alexandra Dahlstr\\\\xf6m', u'Rebecka Liljeberg', u'Erica Carlson']\",\"[u'Andrew Garfield', u'Peter Mullan', u'Shaun Evans']\",\"[u'Michael Beck', u'James Remar', u'Dorsey Wright']\",\"[u'Richard Dreyfuss', u'Fran\\\\xe7ois Truffaut', u'Teri Garr']\",\"[u'Scarlett Johansson', u'Jonathan Rhys Meyers', u'Emily Mortimer']\",\"[u'Denzel Washington', u'Ethan Hawke', u'Scott Glenn']\",\"[u'Ashton Kutcher', u'Amy Smart', u'Melora Walters']\",\"[u'Ron Perlman', u'Daniel Emilfork', u'Judith Vittet']\",\"[u'Jamie Bell', u'Julie Walters', u'Jean Heywood']\",\"[u'Hugh Grant', u'Martine McCutcheon', u'Liam Neeson']\",\"[u'Zero Mostel', u'Gene Wilder', u'Dick Shawn']\",\"[u'Daniel Radcliffe', u'Emma Watson', u'Rupert Grint']\",\"[u'Richard Jenkins', u'Haaz Sleiman', u'Danai Gurira']\",\"[u'Tom Hanks', u'Denzel Washington', u'Roberta Maxwell']\",\"[u'Emma Thompson', u'Kate Winslet', u'James Fleet']\",\"[u'Zbigniew Zamachowski', u'Julie Delpy', u'Janusz Gajos']\",\"[u'Toni Servillo', u'Carlo Verdone', u'Sabrina Ferilli']\",\"[u'Richard Gere', u'Laura Linney', u'Edward Norton']\",\"[u'Richard Burton', u'Clint Eastwood', u'Mary Ure']\",\"[u'Jason London', u'Wiley Wiggins', u'Matthew McConaughey']\",\"[u'John Getz', u'Frances McDormand', u'Dan Hedaya']\",\"[u'Thomas Turgoose', u'Stephen Graham', u'Jo Hartley']\",\"[u'Jet Li', u'Li Sun', u'Yong Dong']\",\"[u'Glenn Close', u'John Malkovich', u'Michelle Pfeiffer']\",\"[u'Cary Elwes', u'Leigh Whannell', u'Danny Glover']\",\"[u'Adriana Caselotti', u'Harry Stockwell', u'Lucille La Verne']\",\"[u'Dakota Fanning', u'Teri Hatcher', u'John Hodgman']\",\"[u'Jennifer Lawrence', u'Josh Hutcherson', u'Liam Hemsworth']\",\"[u'Meryl Streep', u'Kevin Kline', u'Peter MacNicol']\",\"[u'Marion Cotillard', u'Sylvie Testud', u'Pascal Greggory']\",\"[u'Hayden Christensen', u'Natalie Portman', u'Ewan McGregor']\",\"[u'Jeff Bridges', u'Matt Damon', u'Hailee Steinfeld']\",\"[u'Griffin Dunne', u'Rosanna Arquette', u'Verna Bloom']\",\"[u'Kristen Bell', u'Idina Menzel', u'Jonathan Groff']\",\"[u'James Mason', u'Shelley Winters', u'Sue Lyon']\",\"[u'Naomi Watts', u'Viggo Mortensen', u'Armin Mueller-Stahl']\",\"[u'Owen Wilson', u'Rachel McAdams', u'Kathy Bates']\",\"[u'Michael Caine', u'Dave Goelz', u'Steve Whitmire']\",\"[u'Bob Hoskins', u'Christopher Lloyd', u'Joanna Cassidy']\",\"[u'Yeong-ae Lee', u'Min-sik Choi', u'Shi-hoo Kim']\",\"[u'Kurt Russell', u'Rose McGowan', u'Danny Trejo']\",\"[u'Mikael Persbrandt', u'Trine Dyrholm', u'Markus Rygaard']\",\"[u'David Hemmings', u'Vanessa Redgrave', u'Sarah Miles']\",\"[u'Bridgit Mendler', u'Amy Poehler', u'Will Arnett']\",\"[u'Robert Downey Jr.', u'Val Kilmer', u'Michelle Monaghan']\",\"[u'Bill Pullman', u'Patricia Arquette', u'John Roselius']\",\"[u'Jake Gyllenhaal', u'Robert Downey Jr.', u'Mark Ruffalo']\",\"[u'Hugh Jackman', u'Russell Crowe', u'Anne Hathaway']\",\"[u'Nicole Kidman', u'Ewan McGregor', u'John Leguizamo']\",\"[u'Keisha Castle-Hughes', u'Rawiri Paratene', u'Vicky Haughton']\",\"[u'Jake Gyllenhaal', u'Michael Pe\\\\xf1a', u'Anna Kendrick']\",\"[u'Judi Dench', u'Steve Coogan', u'Sophie Kennedy Clark']\",\"[u'Brad Pitt', u'Shia LaBeouf', u'Logan Lerman']\",\"[u'Jean-Marc Barr', u'Jean Reno', u'Rosanna Arquette']\",\"[u'Sylvester Stallone', u'Brian Dennehy', u'Richard Crenna']\",\"[u'Tom Cruise', u'Colin Farrell', u'Samantha Morton']\",\"[u'Ingrid Bergman', u'Gregory Peck', u'Michael Chekhov']\",\"[u'Edward Woodward', u'Christopher Lee', u'Diane Cilento']\",\"[u'Will Smith', u'Rosario Dawson', u'Woody Harrelson']\",\"[u'Brad Davis', u'Irene Miracle', u'Bo Hopkins']\",\"[u'Clint Eastwood', u'Telly Savalas', u'Don Rickles']\",\"[u'Donald Sutherland', u'Elliott Gould', u'Tom Skerritt']\",\"[u'Tim Robbins', u'Greta Scacchi', u'Fred Ward']\",\"[u'Michael Douglas', u'Benicio Del Toro', u'Catherine Zeta-Jones']\",\"[u'Maribel Verd\\\\xfa', u'Gael Garc\\\\xeda Bernal', u'Daniel Gim\\\\xe9nez Cacho']\",\"[u'Will Ferrell', u'Emma Thompson', u'Dustin Hoffman']\",\"[u'Denzel Washington', u'Clive Owen', u'Jodie Foster']\",\"[u'James Franco', u'Amber Tamblyn', u'Kate Mara']\",\"[u'Bruce Willis', u'Milla Jovovich', u'Gary Oldman']\",\"[u'Sean Penn', u'Josh Brolin', u'Emile Hirsch']\",\"[u'David Alan Basche', u'Olivia Thirlby', u'Liza Col\\\\xf3n-Zayas']\",\"[u'Christian Bale', u'Ni Ni', u'Xinyi Zhang']\",\"[u'Bela Lugosi', u'Helen Chandler', u'David Manners']\",\"[u'Clint Eastwood', u'Verna Bloom', u'Marianna Hill']\",\"[u'Sean Penn', u'Michelle Pfeiffer', u'Dakota Fanning']\",\"[u'Kathy Bates', u'Jessica Tandy', u'Mary Stuart Masterson']\",\"[u'Jackie Earle Haley', u'Patrick Wilson', u'Carla Gugino']\",\"[u'Cillian Murphy', u'Naomie Harris', u'Christopher Eccleston']\",\"[u'Edward Norton', u'Jessica Biel', u'Paul Giamatti']\",\"[u'Michael Cera', u'Jonah Hill', u'Christopher Mintz-Plasse']\",\"[u'Al Pacino', u'Diane Keaton', u'Andy Garcia']\",\"[u'Gene Hackman', u'Gwyneth Paltrow', u'Anjelica Huston']\",\"[u'Phil Harris', u'Sebastian Cabot', u'Louis Prima']\",\"[u'Aaron Eckhart', u'Cameron Bright', u'Maria Bello']\",\"[u'Beno\\\\xeet Poelvoorde', u'Jacqueline Poelvoorde-Pappaert', u'Nelly Pappaert']\",\"[u'Tom Cruise', u'Jack Nicholson', u'Demi Moore']\",\"[u'Jackie Chan', u'Ho-Sung Pak', u'Lung Ti']\",\"[u'Khalid Abdalla', u'Ahmad Khan Mahmoodzada', u'Atossa Leoni']\",\"[u'Billy Crystal', u'Meg Ryan', u'Carrie Fisher']\",\"[u'Eric Bana', u'Daniel Craig', u'Marie-Jos\\\\xe9e Croze']\",\"[u'Jennifer Connelly', u'Ben Kingsley', u'Ron Eldard']\",\"[u'Mel Gibson', u'Danny Glover', u'Gary Busey']\",\"[u'John Belushi', u'Karen Allen', u'Tom Hulce']\",\"[u'Nicolas Cage', u'Ethan Hawke', u'Jared Leto']\",\"[u'Johnny Depp', u'Pen\\\\xe9lope Cruz', u'Franka Potente']\",\"[u'Robert Downey Jr.', u'Jude Law', u'Rachel McAdams']\",\"[u'Daniel Radcliffe', u'Emma Watson', u'Rupert Grint']\",\"[u'Antonio Banderas', u'Elena Anaya', u'Jan Cornet']\",\"[u'Brandon Lee', u'Michael Wincott', u'Rochelle Davis']\",\"[u'Natalie Wood', u'George Chakiris', u'Richard Beymer']\",\"[u'Jim Caviezel', u'Sean Penn', u'Nick Nolte']\",\"[u'Christian Bale', u'Justin Theroux', u'Josh Lucas']\",\"[u'Takeshi Kitano', u'Tadanobu Asano', u'Yui Natsukawa']\",\"[u'Willem Dafoe', u'Harvey Keitel', u'Barbara Hershey']\",\"[u'Leslie Nielsen', u'Priscilla Presley', u'O.J. Simpson']\",\"[u'Nicole Kidman', u'Christopher Eccleston', u'Fionnula Flanagan']\",\"[u'Peter Sellers', u'Claudine Longet', u'Natalia Borisova']\",\"[u'Bruce Campbell', u'Embeth Davidtz', u'Marcus Gilbert']\",\"[u'Jeremy Renner', u'Anthony Mackie', u'Brian Geraghty']\",\"[u'Iko Uwais', u'Ananda George', u'Ray Sahetapy']\",\"[u'Pen\\\\xe9lope Cruz', u'Carmen Maura', u'Lola Due\\\\xf1as']\",\"[u'Jeremy Theobald', u'Alex Haw', u'Lucy Russell']\",\"[u'Jack Black', u'Ian McShane', u'Angelina Jolie']\",\"[u'Mel Gibson', u'Bruce Spence', u'Michael Preston']\",\"[u'K\\\\xf4ji Yakusho', u'Takayuki Yamada', u'Y\\\\xfbsuke Iseya']\",\"[u'Billy Bob Thornton', u'Frances McDormand', u'Michael Badalucco']\",\"[u'Karl Markovics', u'August Diehl', u'Devid Striesow']\",\"[u'Sean Connery', u'Alec Baldwin', u'Scott Glenn']\",\"[u'Mark Wahlberg', u'Taylor Kitsch', u'Emile Hirsch']\",\"[u'John Cleese', u'Jamie Lee Curtis', u'Kevin Kline']\",\"[u'Naomi Watts', u'Ewan McGregor', u'Tom Holland']\",\"[u'Zach Braff', u'Peter Sarsgaard', u'Natalie Portman']\",\"[u'Clint Eastwood', u'Patrick McGoohan', u'Roberts Blossom']\",\"[u'Tom Hanks', u'Bill Paxton', u'Kevin Bacon']\",\"[u'Tony Chiu Wai Leung', u'Wei Tang', u'Joan Chen']\",\"[u'David Oyelowo', u'Carmen Ejogo', u'Tim Roth']\",\"[u'Susanne Lothar', u'Ulrich M\\\\xfche', u'Arno Frisch']\",\"[u'Ed Harris', u'Mary Elizabeth Mastrantonio', u'Michael Biehn']\",\"[u'Brian Bedford', u'Phil Harris', u'Roger Miller']\",\"[u'Jude Law', u'Ed Harris', u'Joseph Fiennes']\",\"[u'Michael Douglas', u'Robert Duvall', u'Barbara Hershey']\",\"[u'Kate Winslet', u'Jennifer Connelly', u'Patrick Wilson']\",\"[u'Stuart Graham', u'Laine Megaw', u'Brian Milligan']\",\"[u'Harrison Ford', u'Kate Capshaw', u'Jonathan Ke Quan']\",\"[u'Donnie Yen', u'Xiaoming Huang', u'Sammo Kam-Bo Hung']\",\"[u'Jodi Benson', u'Samuel E. Wright', u'Rene Auberjonois']\",\"[u'Spencer Tracy', u'Milton Berle', u'Ethel Merman']\",\"[u'Kate Winslet', u'Ralph Fiennes', u'Bruno Ganz']\",\"[u'Gregory Peck', u'Lee Remick', u'Harvey Stephens']\",\"[u'Alicia Vikander', u'Mads Mikkelsen', u'Mikkel Boe F\\\\xf8lsgaard']\",\"[u'Timothy Balme', u'Diana Pe\\\\xf1alver', u'Elizabeth Moody']\",\"[u'Haley Joel Osment', u'Michael Caine', u'Robert Duvall']\",\"[u'Jason Bateman', u'Jonah Bobo', u'Haley Ramm']\",\"[u'Colin Firth', u'Julianne Moore', u'Matthew Goode']\",\"[u'Gene Hackman', u'Barbara Hershey', u'Dennis Hopper']\",\"[u'Brad Pitt', u'Robin Wright', u'Jonah Hill']\",\"[u'Sophie N\\\\xe9lisse', u'Geoffrey Rush', u'Emily Watson']\",\"[u'Bruce Willis', u'Jeremy Irons', u'Samuel L. Jackson']\",\"[u'Brad Pitt', u'Tom Cruise', u'Antonio Banderas']\",\"[u'Robert De Niro', u'Charles Grodin', u'Yaphet Kotto']\",\"[u'David Naughton', u'Jenny Agutter', u'Joe Belcher']\",\"[u'Denzel Washington', u'Forest Whitaker', u'Kimberly Elise']\",\"[u'Tyler Labine', u'Alan Tudyk', u'Katrina Bowden']\",\"[u'Susan Sarandon', u'Sean Penn', u'Robert Prosky']\",\"[u'Holly Hunter', u'Harvey Keitel', u'Sam Neill']\",\"[u'Ben Affleck', u'Rebecca Hall', u'Jon Hamm']\",\"[u'James Franco', u'Andy Serkis', u'Freida Pinto']\",\"[u'Hilary Swank', u'Chlo\\\\xeb Sevigny', u'Peter Sarsgaard']\",\"[u'Denis Leary', u'John Leguizamo', u'Ray Romano']\",\"[u'John Malkovich', u'Gary Sinise', u'Ray Walston']\",\"[u'Paul Giamatti', u'Thomas Haden Church', u'Virginia Madsen']\",\"[u'John Cusack', u'Iben Hjejle', u'Todd Louiso']\",\"[u'John Cleese', u'Terry Gilliam', u'Eric Idle']\",\"[u'Asa Butterfield', u'Chlo\\\\xeb Grace Moretz', u'Christopher Lee']\",\"[u'Nicolas Cage', u'Elisabeth Shue', u'Julian Sands']\",\"[u'Bruce Campbell', u'Ellen Sandweiss', u'Richard DeManincor']\",\"[u'Tom Cruise', u'Jamie Foxx', u'Jada Pinkett Smith']\",\"[u'Steve Martin', u'John Candy', u'Laila Robins']\",\"[u'Aksel Hennie', u'Synn\\\\xf8ve Macody Lund', u'Nikolaj Coster-Waldau']\",\"[u'Kevin Costner', u'James Earl Jones', u'Ray Liotta']\",\"[u'Michael Keaton', u'Jack Nicholson', u'Kim Basinger']\",\"[u'Fran\\\\xe7ois Cluzet', u'Marie-Jos\\\\xe9e Croze', u'Andr\\\\xe9 Dussollier']\",\"[u'Forest Whitaker', u'Henry Silva', u'John Tormey']\",\"[u'Robert Downey Jr.', u'Geraldine Chaplin', u'Paul Rhys']\",\"[u'Elisabeth Harnois', u'Jesse McCartney', u'Margo Harshman']\",\"[u'Ellen Page', u'Michael Cera', u'Jennifer Garner']\",\"[u'Brad Pitt', u'Casey Affleck', u'Sam Shepard']\",\"[u'Jeff Bridges', u'Robin Williams', u'Adam Bryant']\",\"[u'Ziyi Zhang', u'Takeshi Kaneshiro', u'Andy Lau']\",\"[u'Meryl Streep', u'Nicole Kidman', u'Julianne Moore']\",\"[u'Colm Meaney', u'Henry Goodman', u'David Roper']\",\"[u'Patrick Stewart', u'Jonathan Frakes', u'Brent Spiner']\",\"[u'Robert Redford', u'Robert Duvall', u'Glenn Close']\",\"[u'Ian McKellen', u'Martin Freeman', u'Richard Armitage']\",\"[u'Christian Bale', u'Sean Bean', u'Emily Watson']\",\"[u'Freddie Highmore', u'Keri Russell', u'Jonathan Rhys Meyers']\",\"[u'Emma Thompson', u'Tom Hanks', u'Annie Rose Buckley']\",\"[u'Denzel Washington', u'Vicellous Reon Shannon', u'Deborah Kara Unger']\",\"[u'Tim Robbins', u'Elizabeth Pe\\\\xf1a', u'Danny Aiello']\",\"[u'Peter Sallis', u'Helena Bonham Carter', u'Ralph Fiennes']\",\"[u'Chevy Chase', u\\\"Beverly D'Angelo\\\", u'Juliette Lewis']\",\"[u'David Strathairn', u'George Clooney', u'Patricia Clarkson']\",\"[u'Dustin Hoffman', u'Susan George', u'Peter Vaughan']\",\"[u'Chadwick Boseman', u'T.R. Knight', u'Harrison Ford']\",\"[u'Sean Astin', u'Jon Favreau', u'Ned Beatty']\",\"[u'Robert De Niro', u'Kevin Bacon', u'Brad Pitt']\",\"[u'Cillian Murphy', u'Padraic Delaney', u'Liam Cunningham']\",\"[u'Leonardo DiCaprio', u'Cameron Diaz', u'Daniel Day-Lewis']\",\"[u'Cate Blanchett', u'Geoffrey Rush', u'Christopher Eccleston']\",\"[u'Elijah Wood', u'Charlie Hunnam', u'Claire Forlani']\",\"[u'Adam Sandler', u'Don Cheadle', u'Jada Pinkett Smith']\",\"[u'Peter Weller', u'Nancy Allen', u\\\"Dan O'Herlihy\\\"]\",\"[u'Kevin Spacey', u'Kate Winslet', u'Laura Linney']\",\"[u'Hayden Christensen', u'Kevin Kline', u'Kristin Scott Thomas']\",\"[u'Steve Carell', u'Kristen Wiig', u'Benjamin Bratt']\",\"[u'Pam Grier', u'Samuel L. Jackson', u'Robert Forster']\",\"[u'Tyrin Turner', u'Larenz Tate', u'June Kyoto Lu']\",\"[u'Fran\\\\xe7ois B\\\\xe9gaudeau', u'Agame Malembo-Emene', u'Ang\\\\xe9lica Sancio']\",\"[u'John Cusack', u'Dianne Wiest', u'Jennifer Tilly']\",\"[u'Paul Giamatti', u'Shari Springer Berman', u'Harvey Pekar']\",\"[u'Ben Whishaw', u'Dustin Hoffman', u'Alan Rickman']\",\"[u'Tom Hanks', u'Halle Berry', u'Hugh Grant']\",\"[u'Dustin Hoffman', u'Laurence Olivier', u'Roy Scheider']\",\"[u'Dickie Jones', u'Christian Rub', u'Mel Blanc']\",\"[u'Naomi Watts', u'Edward Norton', u'Liev Schreiber']\",\"[u'Bill Paxton', u'Billy Bob Thornton', u'Bridget Fonda']\",\"[u'Patrick Wilson', u'Vera Farmiga', u'Ron Livingston']\",\"[u'James Stewart', u'Doris Day', u'Brenda de Banzie']\",\"[u'Ralph Fiennes', u'John Turturro', u'Rob Morrow']\",\"[u'Richard Dreyfuss', u'Ron Howard', u'Paul Le Mat']\",\"[u'Clint Eastwood', u'Meryl Streep', u'Annie Corley']\",\"[u'Mel Gibson', u'Mark Lee', u'Bill Kerr']\",\"[u'Jean-Claude Donda', u'Eilidh Rankin', u'Duncan MacNeil']\",\"[u'Kurt Russell', u'Patricia Clarkson', u'Nathan West']\",\"[u'Catalina Sandino Moreno', u'Guilied Lopez', u'Orlando Tob\\\\xf3n']\",\"[u'Michael Cera', u'Mary Elizabeth Winstead', u'Kieran Culkin']\",\"[u'Tobey Maguire', u'Jeff Daniels', u'Joan Allen']\",\"[u'Robert Downey Jr.', u'Jude Law', u'Jared Harris']\",\"[u'Meryl Streep', u'Philip Seymour Hoffman', u'Amy Adams']\",\"[u'Jeff Goldblum', u'Geena Davis', u'John Getz']\",\"[u'Bel\\\\xe9n Rueda', u'Fernando Cayo', u'Roger Pr\\\\xedncep']\",\"[u'Monica Bellucci', u'Giuseppe Sulfaro', u'Luciano Federico']\",\"[u'Robert Redford', u'Faye Dunaway', u'Cliff Robertson']\",\"[u'Manuela Velasco', u'Ferran Terraza', u'Jorge-Yamam Serrano']\",\"[u'Kevin Costner', u'Clint Eastwood', u'Laura Dern']\",\"[u'Cary Grant', u'Grace Kelly', u'Jessie Royce Landis']\",\"[u'Fred Willard', u'Eugene Levy', u\\\"Catherine O'Hara\\\"]\",\"[u'Elijah Wood', u'Eugene Hutz', u'Boris Leskin']\",\"[u'Heather Langenkamp', u'Johnny Depp', u'Robert Englund']\",\"[u'Kevin Kline', u'Joan Allen', u'Sigourney Weaver']\",\"[u'Patrick Stewart', u'Hugh Jackman', u'Halle Berry']\",\"[u'Tilda Swinton', u'John C. Reilly', u'Ezra Miller']\",\"[u'Stephen Dorff', u'Marisol Nichols', u'Vincent Miller']\",\"[u'Julianne Moore', u'Alec Baldwin', u'Kristen Stewart']\",\"[u'Marion Cotillard', u'Matthias Schoenaerts', u'Armand Verdure']\",\"[u'Hilary Swank', u'Imelda Staunton', u'Patrick Dempsey']\",\"[u'Brad Pitt', u'Anthony Hopkins', u'Aidan Quinn']\",\"[u'Vincent Gallo', u'Christina Ricci', u'Ben Gazzara']\",\"[u'Ralph Fiennes', u'Rachel Weisz', u'Hubert Kound\\\\xe9']\",\"[u'Joe Pesci', u'Marisa Tomei', u'Ralph Macchio']\",\"[u'Marilyn Burns', u'Edwin Neal', u'Allen Danziger']\",\"[u'Ming-Na Wen', u'Eddie Murphy', u'BD Wong']\",\"[u'Viggo Mortensen', u'Maria Bello', u'Ed Harris']\",\"[u'Kevin Costner', u'Robert Duvall', u'Diego Luna']\",\"[u'Arnold Schwarzenegger', u'Sharon Stone', u'Michael Ironside']\",\"[u'Sean Gullette', u'Mark Margolis', u'Ben Shenkman']\",\"[u'Marisa Paredes', u'Eduardo Noriega', u'Federico Luppi']\",\"[u'Leonardo DiCaprio', u'Cate Blanchett', u'Kate Beckinsale']\",\"[u'Keanu Reeves', u'Al Pacino', u'Charlize Theron']\",\"[u'Hugo Weaving', u'Guy Pearce', u'Terence Stamp']\",\"[u'Daniel Radcliffe', u'Emma Watson', u'Rupert Grint']\",\"[u'Michael B. Jordan', u'Melonie Diaz', u'Octavia Spencer']\",\"[u'Tom Wilkinson', u'Sissy Spacek', u'Nick Stahl']\",\"[u'Jake Gyllenhaal', u'Michelle Monaghan', u'Vera Farmiga']\",\"[u'Javier Bardem', u'Maricel \\\\xc1lvarez', u'Hanaa Bouchaib']\",\"[u'Sean Connery', u'Robert Shaw', u'Lotte Lenya']\",\"[u'Brendan Gleeson', u\\\"Chris O'Dowd\\\", u'Kelly Reilly']\",\"[u'Robert De Niro', u'Jeremy Irons', u'Ray McAnally']\",\"[u'Tom Hollander', u'Peter Capaldi', u'James Gandolfini']\",\"[u'Tommy Lee Jones', u'Barry Pepper', u'Dwight Yoakam']\",\"[u'Brad Pitt', u'Cate Blanchett', u'Gael Garc\\\\xeda Bernal']\",\"[u'Jon Finch', u'Barry Foster', u'Alec McCowen']\",\"[u'Melanie Lynskey', u'Kate Winslet', u'Sarah Peirse']\",\"[u'Johnny Depp', u'Helena Bonham Carter', u'Alan Rickman']\",\"[u'Gary Oldman', u'Winona Ryder', u'Anthony Hopkins']\",\"[u'Joseph Gordon-Levitt', u'Bruce Willis', u'Emily Blunt']\",\"[u'Ray Winstone', u'Guy Pearce', u'Emily Watson']\",\"[u'Steve McQueen', u'Jacqueline Bisset', u'Robert Vaughn']\",\"[u'Daniel Radcliffe', u'Rupert Grint', u'Richard Harris']\",\"[u'Tony Chiu Wai Leung', u'Ziyi Zhang', u'Faye Wong']\",\"[u'Felicity Huffman', u'Kevin Zegers', u'Fionnula Flanagan']\",\"[u'Harvey Keitel', u'William Hurt', u'Giancarlo Esposito']\",\"[u'Jessica Harper', u'Stefania Casini', u'Flavio Bucci']\",\"[u'Robert Downey Jr.', u'Robert Duvall', u'Vera Farmiga']\",\"[u'Gael Garc\\\\xeda Bernal', u'Fele Mart\\\\xednez', u'Javier C\\\\xe1mara']\",\"[u'George Clooney', u'Vera Farmiga', u'Anna Kendrick']\",\"[u'Keira Knightley', u'Mark Ruffalo', u'Adam Levine']\",\"[u'Paul Walker', u'Cameron Bright', u'Chazz Palminteri']\",\"[u'Steve Buscemi', u'Thora Birch', u'Scarlett Johansson']\",\"[u'Harrison Ford', u'Kelly McGillis', u'Lukas Haas']\",\"[u'Eddie Murphy', u'Dan Aykroyd', u'Ralph Bellamy']\",\"[u'Matthew McConaughey', u'Tye Sheridan', u'Jacob Lofland']\",\"[u'Evan Rachel Wood', u'Jim Sturgess', u'Joe Anderson']\",\"[u'Liam Neeson', u'Geoffrey Rush', u'Uma Thurman']\",\"[u'Cate Blanchett', u'Judi Dench', u'Andrew Simpson']\",\"[u'Oscar Isaac', u'Carey Mulligan', u'John Goodman']\",\"[u'Joseph Gordon-Levitt', u'Lukas Haas', u'Emilie de Ravin']\",\"[u\\\"Brian O'Halloran\\\", u'Jeff Anderson', u'Rosario Dawson']\",\"[u'John Cusack', u'Ione Skye', u'John Mahoney']\",\"[u'Jim Carrey', u'Danny DeVito', u'Gerry Becker']\",\"[u'Robert De Niro', u'Harvey Keitel', u'David Proval']\",\"[u'Daniel Radcliffe', u'Emma Watson', u'Rupert Grint']\",\"[u'Alec Baldwin', u'Geena Davis', u'Michael Keaton']\",\"[u'Steve Carell', u'Ryan Gosling', u'Julianne Moore']\",\"[u'Nigel Terry', u'Helen Mirren', u'Nicholas Clay']\",\"[u'John Wayne', u'Kim Darby', u'Glen Campbell']\",\"[u'David Bowie', u'Jennifer Connelly', u'Toby Froud']\",\"[u'Kathryn Beaumont', u'Ed Wynn', u'Richard Haydn']\",\"[u'Ethan Hawke', u'Sarah Snook', u'Noah Taylor']\",\"[u'Kenneth Branagh', u'Emma Thompson', u'Keanu Reeves']\",\"[u'Sean Connery', u\\\"Ryan O'Neal\\\", u'Michael Caine']\",\"[u'Nicolas Cage', u'Holly Hunter', u'Trey Wilson']\",\"[u'Jack Nicholson', u'Morgan Freeman', u'Sean Hayes']\",\"[u'Shirley MacLaine', u'Debra Winger', u'Jack Nicholson']\",\"[u'Michael Shannon', u'Jessica Chastain', u'Shea Whigham']\",\"[u'Julianne Moore', u'Dennis Quaid', u'Dennis Haysbert']\",\"[u'Jack Nance', u'Charlotte Stewart', u'Allen Joseph']\",\"[u'Greta Gerwig', u'Mickey Sumner', u'Adam Driver']\",\"[u'Macaulay Culkin', u'Joe Pesci', u'Daniel Stern']\",\"[u'Jennifer Tilly', u'Gina Gershon', u'Joe Pantoliano']\",\"[u'Johnny Depp', u'Christina Ricci', u'Miranda Richardson']\",\"[u'Philip Seymour Hoffman', u'Bill Nighy', u'Nick Frost']\",\"[u'Noah Hathaway', u'Barret Oliver', u'Tami Stronach']\",\"[u'Patrick Stewart', u'Hugh Jackman', u'Ian McKellen']\",\"[u'Jessica Chastain', u'Joel Edgerton', u'Chris Pratt']\",\"[u'Woody Allen', u'Diane Keaton', u'Jerry Adler']\",\"[u'Chevy Chase', u\\\"Beverly D'Angelo\\\", u'Imogene Coca']\",\"[u'Cameron Diaz', u'Abigail Breslin', u'Alec Baldwin']\",\"[u'Woody Allen', u'Judy Davis', u'Julia Louis-Dreyfus']\",\"[u'Steve Carell', u'Toni Collette', u'Allison Janney']\",\"[u'Philip Seymour Hoffman', u'Clifton Collins Jr.', u'Catherine Keener']\",\"[u'Morgan Freeman', u'Jessica Tandy', u'Dan Aykroyd']\",\"[u'Anne Parillaud', u'Marc Duret', u'Patrick Fontana']\",\"[u'Daniel Day-Lewis', u'Sally Field', u'David Strathairn']\",\"[u'Bradley Cooper', u'Anna Friel', u'Abbie Cornish']\",\"[u'Dan Castellaneta', u'Julie Kavner', u'Nancy Cartwright']\",\"[u'Sean Connery', u'Nicolas Cage', u'Ed Harris']\",\"[u'Ralph Fiennes', u'Juliette Binoche', u'Willem Dafoe']\",\"[u'Gerard Butler', u'Jamie Foxx', u'Leslie Bibb']\",\"[u'Michael Douglas', u'Tobey Maguire', u'Frances McDormand']\",\"[u'Matthew Macfadyen', u'Peter Dinklage', u'Ewen Bremner']\",\"[u'Ryan Gosling', u'Michelle Williams', u'John Doman']\",\"[u'Tobey Maguire', u'Charlize Theron', u'Michael Caine']\",\"[u'Dustin Hoffman', u'Jessica Lange', u'Teri Garr']\",\"[u'Michael J. Fox', u'Christopher Lloyd', u'Mary Steenburgen']\",\"[u'Russell Crowe', u'Paul Bettany', u'Billy Boyd']\",\"[u'JoBeth Williams', u\\\"Heather O'Rourke\\\", u'Craig T. Nelson']\",\"[u'Charlie Sheen', u'Michael Douglas', u'Tamara Tunie']\"],\"content_rating\":[\"R\",\"R\",\"R\",\"PG-13\",\"R\",\"NOT RATED\",\"NOT RATED\",\"PG-13\",\"R\",\"R\",\"PG-13\",\"PG-13\",\"PG\",\"PG-13\",\"PG-13\",\"PG-13\",\"R\",\"UNRATED\",\"R\",\"PG\",\"R\",\"R\",\"APPROVED\",\"R\",\"R\",\"PG-13\",\"PG-13\",\"R\",\"R\",\"PASSED\",\"PG\",\"R\",\"PG\",\"R\",\"R\",\"G\",\"R\",\"PG\",\"APPROVED\",\"R\",\"R\",\"NOT RATED\",\"R\",\"PG-13\",\"R\",\"R\",\"R\",\"PG\",\"PG\",\"R\",\"R\",\"R\",\"APPROVED\",\"PG-13\",\"PG\",\"G\",\"R\",\"R\",\"APPROVED\",\"R\",\"PG-13\",\"UNRATED\",\"R\",\"NOT RATED\",\"G\",\"APPROVED\",\"NOT RATED\",\"R\",\"R\",\"PG-13\",\"R\",\"APPROVED\",\"NOT RATED\",\"PG-13\",\"APPROVED\",\"R\",\"APPROVED\",\"R\",\"R\",\"PASSED\",\"PG\",\"G\",\"R\",\"NOT RATED\",\"R\",\"PG\",\"X\",\"NOT RATED\",\"NOT RATED\",\"NOT RATED\",\"R\",\"R\",\"R\",\"NOT RATED\",\"APPROVED\",\"APPROVED\",\"UNRATED\",\"PG\",\"UNRATED\",\"R\",\"NOT RATED\",\"PG\",\"R\",\"APPROVED\",\"NOT RATED\",\"NOT RATED\",\"R\",\"APPROVED\",\"NOT RATED\",\"NOT RATED\",\"G\",\"NOT RATED\",\"R\",\"PG-13\",\"R\",\"R\",\"NOT RATED\",\"G\",\"PG-13\",\"R\",\"UNRATED\",\"R\",\"NOT RATED\",\"UNRATED\",\"R\",\"R\",\"PG\",\"UNRATED\",\"NOT RATED\",\"R\",\"R\",\"G\",\"NOT RATED\",\"NOT RATED\",\"NOT RATED\",\"R\",\"R\",\"PG\",\"R\",\"R\",\"NOT RATED\",\"R\",\"PG\",\"R\",\"UNRATED\",\"R\",\"PG-13\",\"PG\",\"PG\",\"NOT RATED\",\"R\",\"R\",\"R\",\"R\",\"PG\",\"R\",\"R\",\"G\",\"R\",\"PASSED\",\"PG\",\"UNRATED\",\"R\",\"R\",\"R\",\"NOT RATED\",\"R\",\"NOT RATED\",\"G\",\"NOT RATED\",\"PG-13\",\"PG\",\"R\",\"R\",\"NOT RATED\",\"PG-13\",\"R\",\"PG-13\",\"NOT RATED\",\"PG\",\"PG-13\",\"NOT RATED\",\"NOT RATED\",\"NOT RATED\",\"R\",\"R\",\"R\",\"NaN\",\"NOT RATED\",\"R\",\"R\",\"PG-13\",\"G\",\"PG\",\"R\",\"R\",\"PG-13\",\"R\",\"R\",\"R\",\"PG\",\"R\",\"R\",\"NOT RATED\",\"G\",\"R\",\"R\",\"APPROVED\",\"PG\",\"PG-13\",\"APPROVED\",\"PG-13\",\"R\",\"R\",\"R\",\"NOT RATED\",\"R\",\"UNRATED\",\"R\",\"TV-MA\",\"PG\",\"PG\",\"PG-13\",\"R\",\"PASSED\",\"R\",\"R\",\"PG-13\",\"R\",\"APPROVED\",\"APPROVED\",\"NOT RATED\",\"PG-13\",\"APPROVED\",\"NOT RATED\",\"R\",\"PG\",\"APPROVED\",\"R\",\"UNRATED\",\"PG-13\",\"PG\",\"R\",\"R\",\"R\",\"PG\",\"NOT RATED\",\"R\",\"PG-13\",\"PG\",\"PG\",\"APPROVED\",\"NOT RATED\",\"APPROVED\",\"NOT RATED\",\"NOT RATED\",\"R\",\"UNRATED\",\"UNRATED\",\"PG-13\",\"PG-13\",\"R\",\"UNRATED\",\"NOT RATED\",\"R\",\"NOT RATED\",\"PG\",\"PG\",\"R\",\"PG\",\"PG-13\",\"PG-13\",\"APPROVED\",\"R\",\"R\",\"PG\",\"R\",\"G\",\"R\",\"PG-13\",\"PG\",\"R\",\"GP\",\"R\",\"PG\",\"APPROVED\",\"PG-13\",\"APPROVED\",\"R\",\"UNRATED\",\"R\",\"UNRATED\",\"APPROVED\",\"PASSED\",\"G\",\"PG\",\"R\",\"PG\",\"APPROVED\",\"PG-13\",\"R\",\"PG-13\",\"GP\",\"PG\",\"PG\",\"PG-13\",\"R\",\"PG\",\"R\",\"R\",\"PG-13\",\"R\",\"PG-13\",\"G\",\"PG-13\",\"NOT RATED\",\"R\",\"UNRATED\",\"R\",\"R\",\"R\",\"R\",\"R\",\"R\",\"R\",\"R\",\"R\",\"PG\",\"NOT RATED\",\"APPROVED\",\"UNRATED\",\"R\",\"G\",\"APPROVED\",\"R\",\"PG-13\",\"PG\",\"R\",\"UNRATED\",\"PG-13\",\"PG-13\",\"PG-13\",\"PG\",\"NOT RATED\",\"R\",\"R\",\"R\",\"PG\",\"G\",\"R\",\"APPROVED\",\"UNRATED\",\"R\",\"UNRATED\",\"R\",\"R\",\"PG-13\",\"G\",\"PASSED\",\"PG-13\",\"R\",\"G\",\"PG-13\",\"R\",\"R\",\"R\",\"PG-13\",\"R\",\"G\",\"R\",\"PG-13\",\"R\",\"R\",\"PG-13\",\"R\",\"R\",\"UNRATED\",\"PG-13\",\"PG\",\"PG-13\",\"PG-13\",\"PG\",\"R\",\"R\",\"UNRATED\",\"PG-13\",\"PG\",\"X\",\"R\",\"UNRATED\",\"R\",\"PG-13\",\"R\",\"PG\",\"R\",\"PG\",\"R\",\"PG-13\",\"PG\",\"R\",\"PG-13\",\"R\",\"R\",\"PG-13\",\"PG\",\"NOT RATED\",\"R\",\"R\",\"PG-13\",\"R\",\"APPROVED\",\"PG-13\",\"UNRATED\",\"R\",\"G\",\"R\",\"R\",\"R\",\"R\",\"NOT RATED\",\"PG\",\"PG\",\"R\",\"R\",\"R\",\"PG\",\"R\",\"NOT RATED\",\"PG-13\",\"R\",\"R\",\"R\",\"R\",\"PG-13\",\"PG-13\",\"R\",\"R\",\"PG-13\",\"R\",\"PG-13\",\"R\",\"R\",\"PG-13\",\"PG\",\"APPROVED\",\"APPROVED\",\"R\",\"PG-13\",\"PG\",\"R\",\"R\",\"APPROVED\",\"R\",\"NOT RATED\",\"R\",\"PG-13\",\"NC-17\",\"R\",\"R\",\"PG-13\",\"PG-13\",\"G\",\"R\",\"R\",\"R\",\"R\",\"R\",\"UNRATED\",\"PG\",\"R\",\"R\",\"PG\",\"UNRATED\",\"R\",\"R\",\"R\",\"PG-13\",\"PG-13\",\"NOT RATED\",\"R\",\"R\",\"NOT RATED\",\"R\",\"R\",\"APPROVED\",\"R\",\"X\",\"PG-13\",\"PG-13\",\"PG-13\",\"R\",\"NOT RATED\",\"R\",\"R\",\"PG\",\"PG\",\"R\",\"G\",\"G\",\"PG-13\",\"R\",\"PG\",\"R\",\"PG-13\",\"PG\",\"R\",\"R\",\"PG-13\",\"PG-13\",\"R\",\"PG-13\",\"PG-13\",\"PG\",\"APPROVED\",\"PG\",\"R\",\"PG\",\"PG-13\",\"PG\",\"R\",\"PG\",\"APPROVED\",\"PG-13\",\"UNRATED\",\"PG\",\"PG\",\"UNRATED\",\"R\",\"NOT RATED\",\"R\",\"R\",\"NOT RATED\",\"PG-13\",\"R\",\"G\",\"PG\",\"PG-13\",\"PG\",\"R\",\"PG-13\",\"PG-13\",\"R\",\"PG-13\",\"R\",\"R\",\"R\",\"NOT RATED\",\"PG\",\"R\",\"R\",\"PG-13\",\"PG\",\"R\",\"R\",\"PG-13\",\"R\",\"R\",\"APPROVED\",\"R\",\"R\",\"R\",\"R\",\"PG-13\",\"APPROVED\",\"R\",\"PG\",\"R\",\"PG-13\",\"PG-13\",\"PG-13\",\"R\",\"R\",\"PG-13\",\"NOT RATED\",\"R\",\"APPROVED\",\"R\",\"PG-13\",\"PG-13\",\"PG-13\",\"PG\",\"R\",\"UNRATED\",\"R\",\"R\",\"PG\",\"PG\",\"R\",\"R\",\"R\",\"PG\",\"PG-13\",\"NOT RATED\",\"R\",\"R\",\"PG\",\"R\",\"R\",\"R\",\"R\",\"R\",\"R\",\"R\",\"R\",\"NC-17\",\"PG-13\",\"R\",\"R\",\"R\",\"R\",\"R\",\"R\",\"APPROVED\",\"R\",\"R\",\"R\",\"R\",\"PG\",\"APPROVED\",\"PASSED\",\"PG-13\",\"R\",\"PG-13\",\"PG-13\",\"R\",\"G\",\"PG-13\",\"PG-13\",\"R\",\"PG-13\",\"PG-13\",\"UNRATED\",\"R\",\"R\",\"PG\",\"R\",\"R\",\"R\",\"R\",\"PG-13\",\"R\",\"PG\",\"PG-13\",\"PG-13\",\"PG-13\",\"PG\",\"R\",\"NOT RATED\",\"R\",\"NaN\",\"R\",\"R\",\"UNRATED\",\"PG-13\",\"R\",\"R\",\"APPROVED\",\"PG\",\"PG-13\",\"R\",\"PG-13\",\"PG-13\",\"PG-13\",\"R\",\"PG\",\"NOT RATED\",\"R\",\"PG-13\",\"G\",\"PG\",\"R\",\"R\",\"R\",\"NOT RATED\",\"G\",\"R\",\"R\",\"R\",\"PG-13\",\"PG-13\",\"PG-13\",\"R\",\"PG-13\",\"R\",\"PG-13\",\"R\",\"PG-13\",\"UNRATED\",\"R\",\"PG-13\",\"R\",\"GP\",\"R\",\"R\",\"R\",\"R\",\"PG-13\",\"R\",\"R\",\"PG-13\",\"R\",\"R\",\"R\",\"APPROVED\",\"R\",\"PG-13\",\"PG-13\",\"R\",\"R\",\"PG-13\",\"R\",\"R\",\"R\",\"APPROVED\",\"R\",\"NC-17\",\"R\",\"R\",\"PG-13\",\"R\",\"R\",\"R\",\"R\",\"R\",\"R\",\"R\",\"PG-13\",\"PG-13\",\"R\",\"R\",\"UNRATED\",\"R\",\"R\",\"R\",\"R\",\"PG-13\",\"PG-13\",\"PG\",\"R\",\"R\",\"R\",\"R\",\"R\",\"PG\",\"R\",\"R\",\"R\",\"R\",\"PG\",\"R\",\"R\",\"PG-13\",\"R\",\"PG\",\"PG\",\"NC-17\",\"PG-13\",\"UNRATED\",\"PG-13\",\"G\",\"R\",\"R\",\"R\",\"NOT RATED\",\"PG\",\"R\",\"G\",\"APPROVED\",\"R\",\"R\",\"R\",\"R\",\"PG\",\"R\",\"R\",\"PG\",\"PG-13\",\"PG-13\",\"R\",\"R\",\"R\",\"R\",\"PG-13\",\"R\",\"R\",\"R\",\"R\",\"PG-13\",\"R\",\"PG\",\"PG-13\",\"R\",\"R\",\"R\",\"PG\",\"R\",\"NC-17\",\"R\",\"R\",\"R\",\"PG\",\"PG-13\",\"UNRATED\",\"R\",\"PG-13\",\"PG-13\",\"PG-13\",\"R\",\"R\",\"PG-13\",\"PG-13\",\"R\",\"PG-13\",\"PG\",\"PG-13\",\"R\",\"PG\",\"PG-13\",\"R\",\"R\",\"G\",\"PG-13\",\"PG\",\"UNRATED\",\"PG-13\",\"PG\",\"R\",\"NOT RATED\",\"R\",\"R\",\"R\",\"R\",\"R\",\"R\",\"R\",\"PG\",\"R\",\"R\",\"PG-13\",\"R\",\"R\",\"R\",\"R\",\"R\",\"APPROVED\",\"PG-13\",\"R\",\"R\",\"PG\",\"PG-13\",\"PG\",\"PG-13\",\"PG\",\"PG\",\"PG\",\"R\",\"PG-13\",\"PG-13\",\"PG-13\",\"PG-13\",\"R\",\"R\",\"R\",\"R\",\"R\",\"PG-13\",\"APPROVED\",\"PG-13\",\"PG-13\",\"R\",\"R\",\"PG-13\",\"R\",\"R\",\"PG-13\",\"R\",\"PG-13\",\"R\",\"R\",\"R\",\"R\",\"R\",\"G\",\"R\",\"R\",\"R\",\"R\",\"R\",\"PG-13\",\"R\",\"R\",\"PG\",\"R\",\"R\",\"PG-13\",\"R\",\"APPROVED\",\"R\",\"PG\",\"NOT RATED\",\"R\",\"R\",\"R\",\"R\",\"R\",\"R\",\"R\",\"R\",\"PG\",\"PG\",\"R\",\"R\",\"R\",\"X\",\"R\",\"NC-17\",\"R\",\"R\",\"R\",\"R\",\"R\",\"R\",\"PG-13\",\"PG-13\",\"PG-13\",\"R\",\"R\",\"R\",\"R\",\"PG-13\",\"R\",\"R\",\"PG-13\",\"PG\",\"PG-13\",\"R\",\"NaN\",\"PG\",\"G\",\"R\",\"PG-13\",\"PG\",\"PG-13\",\"PG-13\",\"R\",\"R\",\"PG-13\",\"UNRATED\",\"R\",\"PG\",\"R\",\"R\",\"R\",\"PG\",\"PG-13\",\"R\",\"PG\",\"R\",\"PG-13\",\"R\",\"PG-13\",\"R\",\"PG\",\"R\",\"PG-13\",\"PG-13\",\"PG-13\",\"R\",\"R\",\"R\",\"R\",\"R\",\"NC-17\",\"PG-13\",\"PG\",\"PG\",\"PG-13\",\"PG\",\"R\"],\"duration\":[142,175,200,152,154,96,161,201,195,139,178,148,124,142,179,169,133,207,146,121,136,130,130,106,127,116,175,118,110,87,125,112,102,107,119,87,169,115,112,109,189,110,150,165,155,137,113,165,95,151,155,153,125,130,116,89,137,117,88,165,170,89,146,99,98,116,156,122,149,134,122,136,157,123,119,137,128,120,229,107,134,103,177,129,102,216,136,93,68,189,99,108,113,181,103,138,110,129,88,160,126,91,116,125,143,93,102,132,153,183,160,120,138,140,153,170,129,81,127,131,172,115,108,107,129,156,96,91,95,162,130,86,186,151,96,170,118,161,131,126,131,129,224,180,105,117,140,119,124,130,139,107,132,117,126,122,178,238,149,172,98,116,116,123,148,123,182,92,93,100,135,105,94,140,83,95,98,143,99,98,121,163,121,167,188,121,109,110,129,127,94,107,100,117,129,120,121,133,111,122,101,134,165,138,212,154,89,134,93,114,88,130,101,158,99,108,124,132,113,131,191,167,130,147,102,88,165,132,118,101,108,174,98,92,98,106,85,101,105,115,115,124,105,103,138,184,120,99,131,138,98,123,118,114,118,112,124,160,67,146,125,115,134,141,129,104,94,124,150,119,128,143,85,151,118,101,99,92,125,102,106,107,91,80,122,102,112,92,135,136,153,105,126,68,84,103,145,80,106,127,178,137,172,76,130,96,82,115,95,143,125,120,127,112,104,113,189,127,188,96,113,132,122,126,140,133,112,102,93,109,81,108,111,119,96,197,127,138,66,181,141,144,128,83,121,98,117,94,174,112,108,70,99,96,137,136,100,90,96,161,115,181,169,98,136,138,119,123,112,120,103,97,109,165,156,147,100,126,115,105,144,102,107,119,90,197,86,113,133,64,141,113,122,105,119,102,122,123,113,97,117,111,85,99,134,75,109,117,91,128,111,119,100,114,92,141,101,115,127,96,129,135,109,157,193,94,155,113,130,117,159,141,112,162,126,120,144,120,109,97,108,115,136,90,170,220,116,134,124,91,103,96,119,98,101,93,179,155,121,103,127,103,107,100,92,94,158,86,115,130,107,100,108,124,131,122,242,127,141,126,89,113,152,107,92,145,84,126,132,78,117,128,100,128,100,143,107,100,125,106,157,94,104,94,153,123,120,105,166,112,94,111,87,80,108,102,105,136,101,100,108,101,106,105,88,129,138,129,118,139,123,150,132,80,178,79,163,114,144,130,154,81,95,101,120,93,115,106,120,110,123,142,99,112,120,122,130,139,129,141,127,130,118,110,115,101,112,108,143,152,117,121,119,114,122,105,110,116,139,121,109,146,113,100,121,113,113,117,93,101,90,131,98,93,121,82,124,100,117,99,116,123,114,133,105,127,144,90,118,122,102,187,87,154,89,88,129,95,118,98,194,114,80,130,135,101,105,129,134,143,202,89,106,92,137,124,122,113,112,110,135,88,146,104,125,131,91,142,129,158,102,99,101,104,119,103,88,100,146,150,140,140,110,97,102,152,100,94,85,104,112,191,119,111,94,103,134,157,158,127,101,109,98,134,168,93,145,111,88,123,121,144,116,124,147,106,113,129,94,126,128,111,146,85,105,132,130,162,113,110,113,162,110,78,92,95,138,102,128,96,164,126,110,109,122,124,128,157,120,102,152,170,102,116,164,85,104,99,81,131,101,121,69,92,94,141,116,98,135,121,108,114,102,112,140,157,128,108,139,83,131,113,136,96,118,108,83,205,124,111,137,104,109,115,99,114,133,131,131,123,126,97,126,89,122,121,125,105,118,81,115,126,113,107,126,111,85,120,93,100,107,126,131,116,143,93,96,160,137,119,114,98,111,138,144,107,114,125,146,113,85,97,93,113,128,114,147,127,167,124,109,124,102,130,125,98,154,97,128,98,101,147,172,125,88,125,121,112,120,133,110,135,110,80,135,101,112,124,129,104,96,105,109,117,78,138,106,90,106,91,112,134,112,104,101,120,123,133,110,129,120,83,88,96,139,113,84,106,170,144,104,153,85,130,93,148,115,102,125,106,121,143,116,99,116,128,119,104,114,152,129,103,112,92,141,106,109,104,122,111,112,116,130,133,134,92,104,110,97,100,118,112,138,92,118,140,128,101,75,97,111,175,94,97,132,120,107,89,86,103,108,105,117,102,104,157,104,98,109,96,103,114,99,118,150,105,87,136,162,109,107,90,112,126,116,118,138,114,126],\"genre\":[\"Crime\",\"Crime\",\"Crime\",\"Action\",\"Crime\",\"Drama\",\"Western\",\"Adventure\",\"Biography\",\"Drama\",\"Adventure\",\"Action\",\"Action\",\"Drama\",\"Adventure\",\"Adventure\",\"Drama\",\"Drama\",\"Biography\",\"Action\",\"Action\",\"Crime\",\"Drama\",\"Crime\",\"Drama\",\"Comedy\",\"Western\",\"Drama\",\"Crime\",\"Comedy\",\"Animation\",\"Biography\",\"Drama\",\"Drama\",\"Crime\",\"Comedy\",\"Action\",\"Action\",\"Mystery\",\"Horror\",\"Crime\",\"Drama\",\"Biography\",\"Action\",\"Action\",\"Action\",\"Mystery\",\"Drama\",\"Comedy\",\"Crime\",\"Drama\",\"Drama\",\"Comedy\",\"Drama\",\"Adventure\",\"Animation\",\"Drama\",\"Horror\",\"Drama\",\"Western\",\"Comedy\",\"Animation\",\"Horror\",\"Crime\",\"Animation\",\"Crime\",\"Comedy\",\"Drama\",\"Adventure\",\"Animation\",\"Comedy\",\"Adventure\",\"Drama\",\"Drama\",\"Drama\",\"Action\",\"Mystery\",\"Drama\",\"Crime\",\"Crime\",\"Action\",\"Animation\",\"Action\",\"Drama\",\"Drama\",\"Adventure\",\"Crime\",\"Drama\",\"Comedy\",\"Drama\",\"Crime\",\"Drama\",\"Crime\",\"Comedy\",\"Comedy\",\"Drama\",\"Action\",\"Comedy\",\"Crime\",\"Biography\",\"Action\",\"Adventure\",\"Drama\",\"Comedy\",\"Drama\",\"Film-Noir\",\"Comedy\",\"Western\",\"Drama\",\"Comedy\",\"Mystery\",\"Comedy\",\"Crime\",\"Action\",\"Adventure\",\"Crime\",\"Drama\",\"Animation\",\"Action\",\"Western\",\"Adventure\",\"Drama\",\"Crime\",\"Action\",\"Biography\",\"Biography\",\"Animation\",\"Drama\",\"Adventure\",\"Action\",\"Drama\",\"Animation\",\"Drama\",\"Adventure\",\"Drama\",\"Action\",\"Drama\",\"Adventure\",\"Action\",\"Drama\",\"Adventure\",\"Drama\",\"Adventure\",\"Biography\",\"Comedy\",\"Sci-Fi\",\"Drama\",\"Animation\",\"Biography\",\"Mystery\",\"Drama\",\"Comedy\",\"Action\",\"Comedy\",\"Crime\",\"Comedy\",\"Biography\",\"Drama\",\"Drama\",\"Drama\",\"Animation\",\"Horror\",\"Drama\",\"Action\",\"Adventure\",\"Comedy\",\"Drama\",\"Animation\",\"Drama\",\"Crime\",\"Biography\",\"Crime\",\"Drama\",\"Action\",\"Drama\",\"Crime\",\"Crime\",\"Action\",\"Crime\",\"Adventure\",\"Drama\",\"Drama\",\"Crime\",\"Comedy\",\"Drama\",\"Drama\",\"Horror\",\"Biography\",\"Drama\",\"Comedy\",\"Comedy\",\"Drama\",\"Animation\",\"Animation\",\"Action\",\"Drama\",\"Action\",\"Biography\",\"Action\",\"Crime\",\"Crime\",\"Biography\",\"Drama\",\"Drama\",\"Adventure\",\"Drama\",\"Adventure\",\"Drama\",\"Comedy\",\"Biography\",\"Film-Noir\",\"Drama\",\"Crime\",\"Drama\",\"Adventure\",\"Drama\",\"Crime\",\"Crime\",\"Drama\",\"Drama\",\"Biography\",\"Drama\",\"Adventure\",\"Drama\",\"Adventure\",\"Crime\",\"Drama\",\"Drama\",\"Drama\",\"Crime\",\"Drama\",\"Comedy\",\"Drama\",\"Crime\",\"Crime\",\"Action\",\"Western\",\"Drama\",\"Drama\",\"Action\",\"Action\",\"Animation\",\"Drama\",\"Drama\",\"Mystery\",\"Adventure\",\"Comedy\",\"Drama\",\"Action\",\"Mystery\",\"Drama\",\"Drama\",\"Comedy\",\"Crime\",\"Comedy\",\"Comedy\",\"Animation\",\"Crime\",\"Crime\",\"Drama\",\"Biography\",\"Action\",\"Drama\",\"Western\",\"Mystery\",\"Comedy\",\"Comedy\",\"Drama\",\"Action\",\"Drama\",\"Drama\",\"Adventure\",\"Crime\",\"Biography\",\"Biography\",\"Comedy\",\"Action\",\"Animation\",\"Crime\",\"Drama\",\"Comedy\",\"Action\",\"Comedy\",\"Drama\",\"Drama\",\"Comedy\",\"Biography\",\"Comedy\",\"Drama\",\"Drama\",\"Crime\",\"Drama\",\"Mystery\",\"Comedy\",\"Animation\",\"Drama\",\"Action\",\"Crime\",\"Comedy\",\"Adventure\",\"Crime\",\"Action\",\"Biography\",\"Animation\",\"Comedy\",\"Animation\",\"Comedy\",\"Drama\",\"Animation\",\"Adventure\",\"Adventure\",\"Drama\",\"Action\",\"Biography\",\"Comedy\",\"Comedy\",\"Drama\",\"Horror\",\"Drama\",\"Comedy\",\"Drama\",\"Sci-Fi\",\"Horror\",\"Drama\",\"Crime\",\"Drama\",\"Drama\",\"Action\",\"Adventure\",\"Crime\",\"Horror\",\"Drama\",\"Animation\",\"Adventure\",\"Drama\",\"Drama\",\"Adventure\",\"Drama\",\"History\",\"Adventure\",\"Biography\",\"Biography\",\"Drama\",\"Animation\",\"Drama\",\"Drama\",\"Biography\",\"Drama\",\"Biography\",\"Action\",\"Thriller\",\"Horror\",\"Comedy\",\"Horror\",\"Action\",\"Drama\",\"Comedy\",\"Animation\",\"Comedy\",\"Adventure\",\"Drama\",\"Drama\",\"Adventure\",\"Drama\",\"Drama\",\"Crime\",\"Action\",\"Comedy\",\"Adventure\",\"Crime\",\"Comedy\",\"Drama\",\"Drama\",\"Drama\",\"Drama\",\"Drama\",\"Adventure\",\"Drama\",\"Animation\",\"Drama\",\"Action\",\"Animation\",\"Comedy\",\"Crime\",\"Crime\",\"Action\",\"Animation\",\"Drama\",\"Action\",\"Drama\",\"Drama\",\"Action\",\"Drama\",\"Adventure\",\"Comedy\",\"Animation\",\"Drama\",\"Drama\",\"Drama\",\"Comedy\",\"Biography\",\"Action\",\"Drama\",\"Action\",\"Drama\",\"Horror\",\"Drama\",\"Crime\",\"Sci-Fi\",\"Action\",\"Biography\",\"Action\",\"Crime\",\"Crime\",\"Animation\",\"Drama\",\"Drama\",\"Animation\",\"Biography\",\"Adventure\",\"Action\",\"Western\",\"Drama\",\"Biography\",\"Adventure\",\"Crime\",\"Crime\",\"Drama\",\"Drama\",\"Adventure\",\"Drama\",\"Drama\",\"Drama\",\"Action\",\"Action\",\"Comedy\",\"Crime\",\"Action\",\"Crime\",\"Drama\",\"Action\",\"Crime\",\"Biography\",\"Animation\",\"Drama\",\"Adventure\",\"Biography\",\"Biography\",\"Drama\",\"Drama\",\"Biography\",\"Comedy\",\"Action\",\"Animation\",\"Adventure\",\"Action\",\"Drama\",\"Drama\",\"Comedy\",\"Comedy\",\"Biography\",\"Animation\",\"Comedy\",\"Drama\",\"Comedy\",\"Comedy\",\"Crime\",\"Mystery\",\"Family\",\"Action\",\"Action\",\"Animation\",\"Comedy\",\"Drama\",\"Crime\",\"Comedy\",\"Drama\",\"Drama\",\"Crime\",\"Adventure\",\"Comedy\",\"Drama\",\"Crime\",\"Comedy\",\"Sci-Fi\",\"Drama\",\"Comedy\",\"Animation\",\"Action\",\"Animation\",\"Drama\",\"Action\",\"Crime\",\"Crime\",\"Animation\",\"Crime\",\"Thriller\",\"Family\",\"Animation\",\"Drama\",\"Biography\",\"Animation\",\"Action\",\"Drama\",\"Drama\",\"Drama\",\"Crime\",\"Drama\",\"Drama\",\"Action\",\"Adventure\",\"Drama\",\"Animation\",\"Horror\",\"Biography\",\"Action\",\"Comedy\",\"Action\",\"Animation\",\"Comedy\",\"Adventure\",\"Drama\",\"Adventure\",\"Drama\",\"Comedy\",\"Drama\",\"Drama\",\"Comedy\",\"Drama\",\"Action\",\"Drama\",\"Action\",\"Action\",\"Action\",\"Action\",\"Comedy\",\"Biography\",\"Adventure\",\"Drama\",\"Action\",\"Drama\",\"Animation\",\"Comedy\",\"Drama\",\"Drama\",\"Comedy\",\"Comedy\",\"Biography\",\"Drama\",\"Crime\",\"Biography\",\"Adventure\",\"Action\",\"Comedy\",\"Biography\",\"Adventure\",\"Crime\",\"Comedy\",\"Drama\",\"Drama\",\"Biography\",\"Biography\",\"Drama\",\"Action\",\"Adventure\",\"Comedy\",\"Crime\",\"Action\",\"Action\",\"Biography\",\"Action\",\"Crime\",\"Horror\",\"Action\",\"Biography\",\"Drama\",\"Adventure\",\"Crime\",\"Comedy\",\"Biography\",\"Comedy\",\"Action\",\"Comedy\",\"Mystery\",\"Comedy\",\"Biography\",\"Action\",\"Crime\",\"Comedy\",\"Drama\",\"Comedy\",\"Action\",\"Drama\",\"Comedy\",\"Drama\",\"Comedy\",\"Crime\",\"Comedy\",\"Action\",\"Comedy\",\"Drama\",\"Biography\",\"Comedy\",\"Drama\",\"Drama\",\"Adventure\",\"Drama\",\"Animation\",\"Comedy\",\"Drama\",\"Action\",\"Comedy\",\"Comedy\",\"Action\",\"Comedy\",\"Comedy\",\"Crime\",\"Animation\",\"Drama\",\"Action\",\"Drama\",\"Crime\",\"Comedy\",\"Action\",\"Crime\",\"Animation\",\"Biography\",\"Biography\",\"Drama\",\"Adventure\",\"Biography\",\"Comedy\",\"Drama\",\"Action\",\"Drama\",\"Drama\",\"Crime\",\"Sci-Fi\",\"Fantasy\",\"Comedy\",\"Comedy\",\"Comedy\",\"Adventure\",\"Drama\",\"Drama\",\"Drama\",\"Comedy\",\"Drama\",\"Crime\",\"Action\",\"Comedy\",\"Crime\",\"Crime\",\"Action\",\"Drama\",\"Horror\",\"Animation\",\"Animation\",\"Adventure\",\"Drama\",\"Biography\",\"Action\",\"Adventure\",\"Comedy\",\"Animation\",\"Drama\",\"Crime\",\"Comedy\",\"Comedy\",\"Animation\",\"Crime\",\"Action\",\"Drama\",\"Drama\",\"Animation\",\"Action\",\"Drama\",\"Crime\",\"Drama\",\"Drama\",\"Drama\",\"Crime\",\"Biography\",\"Action\",\"Action\",\"Action\",\"Action\",\"Film-Noir\",\"Horror\",\"Drama\",\"Biography\",\"Action\",\"Comedy\",\"Comedy\",\"Crime\",\"Drama\",\"Comedy\",\"Crime\",\"Adventure\",\"Action\",\"Biography\",\"Action\",\"Drama\",\"Horror\",\"Western\",\"Drama\",\"Drama\",\"Action\",\"Horror\",\"Drama\",\"Comedy\",\"Crime\",\"Comedy\",\"Animation\",\"Comedy\",\"Comedy\",\"Drama\",\"Action\",\"Drama\",\"Comedy\",\"Drama\",\"Drama\",\"Action\",\"Comedy\",\"Crime\",\"Biography\",\"Action\",\"Adventure\",\"Thriller\",\"Action\",\"Crime\",\"Drama\",\"Crime\",\"Action\",\"Drama\",\"Comedy\",\"Horror\",\"Comedy\",\"Comedy\",\"Drama\",\"Action\",\"Comedy\",\"Mystery\",\"Animation\",\"Action\",\"Action\",\"Crime\",\"Crime\",\"Action\",\"Action\",\"Comedy\",\"Drama\",\"Comedy\",\"Action\",\"Adventure\",\"Drama\",\"Biography\",\"Crime\",\"Adventure\",\"Animation\",\"Drama\",\"Crime\",\"Drama\",\"Biography\",\"Action\",\"Action\",\"Animation\",\"Action\",\"Drama\",\"Horror\",\"Drama\",\"Comedy\",\"Comedy\",\"Drama\",\"Drama\",\"Drama\",\"Biography\",\"Drama\",\"Action\",\"Horror\",\"Action\",\"Comedy\",\"Biography\",\"Comedy\",\"Crime\",\"Drama\",\"Crime\",\"Action\",\"Biography\",\"Animation\",\"Drama\",\"Comedy\",\"Comedy\",\"Comedy\",\"Adventure\",\"Drama\",\"Horror\",\"Crime\",\"Comedy\",\"Crime\",\"Drama\",\"Action\",\"Crime\",\"Action\",\"Biography\",\"Drama\",\"Comedy\",\"Biography\",\"Comedy\",\"Action\",\"Drama\",\"Biography\",\"Action\",\"Drama\",\"Adventure\",\"Action\",\"Drama\",\"Biography\",\"Biography\",\"Drama\",\"Animation\",\"Comedy\",\"Drama\",\"Crime\",\"Biography\",\"Biography\",\"Crime\",\"Drama\",\"Crime\",\"Biography\",\"Crime\",\"Drama\",\"Action\",\"Crime\",\"Drama\",\"Animation\",\"Crime\",\"Crime\",\"Drama\",\"Comedy\",\"Biography\",\"Crime\",\"Drama\",\"Crime\",\"Animation\",\"Drama\",\"Crime\",\"Horror\",\"Thriller\",\"Drama\",\"Comedy\",\"Drama\",\"Adventure\",\"Animation\",\"Drama\",\"Crime\",\"Action\",\"Comedy\",\"Action\",\"Drama\",\"Horror\",\"Drama\",\"Drama\",\"Mystery\",\"Horror\",\"Crime\",\"Mystery\",\"Comedy\",\"Comedy\",\"Horror\",\"Drama\",\"Action\",\"Drama\",\"Crime\",\"Drama\",\"Drama\",\"Biography\",\"Drama\",\"Comedy\",\"Drama\",\"Comedy\",\"Horror\",\"Animation\",\"Crime\",\"Action\",\"Action\",\"Drama\",\"Drama\",\"Biography\",\"Drama\",\"Comedy\",\"Adventure\",\"Biography\",\"Crime\",\"Mystery\",\"Drama\",\"Action\",\"Drama\",\"Adventure\",\"Comedy\",\"Adventure\",\"Drama\",\"Thriller\",\"Biography\",\"Drama\",\"Horror\",\"Action\",\"Crime\",\"Action\",\"Adventure\",\"Drama\",\"Adventure\",\"Comedy\",\"Horror\",\"Drama\",\"Crime\",\"Drama\",\"Drama\",\"Action\",\"Comedy\",\"Crime\",\"Comedy\",\"Drama\",\"Drama\",\"Crime\",\"Drama\",\"Drama\",\"Crime\",\"Comedy\",\"Comedy\",\"Biography\",\"Crime\",\"Adventure\",\"Comedy\",\"Comedy\",\"Adventure\",\"Adventure\",\"Adventure\",\"Animation\",\"Drama\",\"Comedy\",\"Drama\",\"Comedy\",\"Adventure\",\"Comedy\",\"Drama\",\"Drama\",\"Drama\",\"Comedy\",\"Comedy\",\"Crime\",\"Drama\",\"Comedy\",\"Adventure\",\"Action\",\"Drama\",\"Comedy\",\"Comedy\",\"Drama\",\"Comedy\",\"Comedy\",\"Biography\",\"Comedy\",\"Action\",\"Biography\",\"Mystery\",\"Animation\",\"Action\",\"Drama\",\"Crime\",\"Drama\",\"Comedy\",\"Drama\",\"Drama\",\"Comedy\",\"Adventure\",\"Action\",\"Horror\",\"Crime\"],\"index\":[0,1,2,3,4,5,6,7,8,9,10,11,12,13,14,15,16,17,18,19,20,21,22,23,24,25,26,27,28,29,30,31,32,33,34,35,36,37,38,39,40,41,42,43,44,45,46,47,48,49,50,51,52,53,54,55,56,57,58,59,60,61,62,63,64,65,66,67,68,69,70,71,72,73,74,75,76,77,78,79,80,81,82,83,84,85,86,87,88,89,90,91,92,93,94,95,96,97,98,99,100,101,102,103,104,105,106,107,108,109,110,111,112,113,114,115,116,117,118,119,120,121,122,123,124,125,126,127,128,129,130,131,132,133,134,135,136,137,138,139,140,141,142,143,144,145,146,147,148,149,150,151,152,153,154,155,156,157,158,159,160,161,162,163,164,165,166,167,168,169,170,171,172,173,174,175,176,177,178,179,180,181,182,183,184,185,186,187,188,189,190,191,192,193,194,195,196,197,198,199,200,201,202,203,204,205,206,207,208,209,210,211,212,213,214,215,216,217,218,219,220,221,222,223,224,225,226,227,228,229,230,231,232,233,234,235,236,237,238,239,240,241,242,243,244,245,246,247,248,249,250,251,252,253,254,255,256,257,258,259,260,261,262,263,264,265,266,267,268,269,270,271,272,273,274,275,276,277,278,279,280,281,282,283,284,285,286,287,288,289,290,291,292,293,294,295,296,297,298,299,300,301,302,303,304,305,306,307,308,309,310,311,312,313,314,315,316,317,318,319,320,321,322,323,324,325,326,327,328,329,330,331,332,333,334,335,336,337,338,339,340,341,342,343,344,345,346,347,348,349,350,351,352,353,354,355,356,357,358,359,360,361,362,363,364,365,366,367,368,369,370,371,372,373,374,375,376,377,378,379,380,381,382,383,384,385,386,387,388,389,390,391,392,393,394,395,396,397,398,399,400,401,402,403,404,405,406,407,408,409,410,411,412,413,414,415,416,417,418,419,420,421,422,423,424,425,426,427,428,429,430,431,432,433,434,435,436,437,438,439,440,441,442,443,444,445,446,447,448,449,450,451,452,453,454,455,456,457,458,459,460,461,462,463,464,465,466,467,468,469,470,471,472,473,474,475,476,477,478,479,480,481,482,483,484,485,486,487,488,489,490,491,492,493,494,495,496,497,498,499,500,501,502,503,504,505,506,507,508,509,510,511,512,513,514,515,516,517,518,519,520,521,522,523,524,525,526,527,528,529,530,531,532,533,534,535,536,537,538,539,540,541,542,543,544,545,546,547,548,549,550,551,552,553,554,555,556,557,558,559,560,561,562,563,564,565,566,567,568,569,570,571,572,573,574,575,576,577,578,579,580,581,582,583,584,585,586,587,588,589,590,591,592,593,594,595,596,597,598,599,600,601,602,603,604,605,606,607,608,609,610,611,612,613,614,615,616,617,618,619,620,621,622,623,624,625,626,627,628,629,630,631,632,633,634,635,636,637,638,639,640,641,642,643,644,645,646,647,648,649,650,651,652,653,654,655,656,657,658,659,660,661,662,663,664,665,666,667,668,669,670,671,672,673,674,675,676,677,678,679,680,681,682,683,684,685,686,687,688,689,690,691,692,693,694,695,696,697,698,699,700,701,702,703,704,705,706,707,708,709,710,711,712,713,714,715,716,717,718,719,720,721,722,723,724,725,726,727,728,729,730,731,732,733,734,735,736,737,738,739,740,741,742,743,744,745,746,747,748,749,750,751,752,753,754,755,756,757,758,759,760,761,762,763,764,765,766,767,768,769,770,771,772,773,774,775,776,777,778,779,780,781,782,783,784,785,786,787,788,789,790,791,792,793,794,795,796,797,798,799,800,801,802,803,804,805,806,807,808,809,810,811,812,813,814,815,816,817,818,819,820,821,822,823,824,825,826,827,828,829,830,831,832,833,834,835,836,837,838,839,840,841,842,843,844,845,846,847,848,849,850,851,852,853,854,855,856,857,858,859,860,861,862,863,864,865,866,867,868,869,870,871,872,873,874,875,876,877,878,879,880,881,882,883,884,885,886,887,888,889,890,891,892,893,894,895,896,897,898,899,900,901,902,903,904,905,906,907,908,909,910,911,912,913,914,915,916,917,918,919,920,921,922,923,924,925,926,927,928,929,930,931,932,933,934,935,936,937,938,939,940,941,942,943,944,945,946,947,948,949,950,951,952,953,954,955,956,957,958,959,960,961,962,963,964,965,966,967,968,969,970,971,972,973,974,975,976,977,978],\"star_rating\":{\"__ndarray__\":\"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\",\"dtype\":\"float64\",\"shape\":[979]},\"title\":[\"The Shawshank Redemption\",\"The Godfather\",\"The Godfather: Part II\",\"The Dark Knight\",\"Pulp Fiction\",\"12 Angry Men\",\"The Good, the Bad and the Ugly\",\"The Lord of the Rings: The Return of the King\",\"Schindler's List\",\"Fight Club\",\"The Lord of the Rings: The Fellowship of the Ring\",\"Inception\",\"Star Wars: Episode V - The Empire Strikes Back\",\"Forrest Gump\",\"The Lord of the Rings: The Two Towers\",\"Interstellar\",\"One Flew Over the Cuckoo's Nest\",\"Seven Samurai\",\"Goodfellas\",\"Star Wars\",\"The Matrix\",\"City of God\",\"It's a Wonderful Life\",\"The Usual Suspects\",\"Se7en\",\"Life Is Beautiful\",\"Once Upon a Time in the West\",\"The Silence of the Lambs\",\"Leon: The Professional\",\"City Lights\",\"Spirited Away\",\"The Intouchables\",\"Casablanca\",\"Whiplash\",\"American History X\",\"Modern Times\",\"Saving Private Ryan\",\"Raiders of the Lost Ark\",\"Rear Window\",\"Psycho\",\"The Green Mile\",\"Sunset Blvd.\",\"The Pianist\",\"The Dark Knight Rises\",\"Gladiator\",\"Terminator 2: Judgment Day\",\"Memento\",\"Taare Zameen Par\",\"Dr. Strangelove or: How I Learned to Stop Worrying and Love the Bomb\",\"The Departed\",\"Cinema Paradiso\",\"Apocalypse Now\",\"The Great Dictator\",\"The Prestige\",\"Back to the Future\",\"The Lion King\",\"The Lives of Others\",\"Alien\",\"Paths of Glory\",\"Django Unchained\",\"3 Idiots\",\"Grave of the Fireflies\",\"The Shining\",\"M\",\"WALL-E\",\"Witness for the Prosecution\",\"Munna Bhai M.B.B.S.\",\"American Beauty\",\"Das Boot\",\"Princess Mononoke\",\"Amelie\",\"North by Northwest\",\"Rang De Basanti\",\"Jodaeiye Nader az Simin\",\"Citizen Kane\",\"Aliens\",\"Vertigo\",\"Oldeuboi\",\"Once Upon a Time in America\",\"Double Indemnity\",\"Star Wars: Episode VI - Return of the Jedi\",\"Toy Story 3\",\"Braveheart\",\"To Kill a Mockingbird\",\"Requiem for a Dream\",\"Lawrence of Arabia\",\"A Clockwork Orange\",\"Bicycle Thieves\",\"The Kid\",\"Swades\",\"Reservoir Dogs\",\"Eternal Sunshine of the Spotless Mind\",\"Taxi Driver\",\"Dilwale Dulhania Le Jayenge\",\"Singin' in the Rain\",\"All About Eve\",\"Yojimbo\",\"The Sting\",\"Rashomon\",\"Amadeus\",\"The Treasure of the Sierra Madre\",\"Monty Python and the Holy Grail\",\"Full Metal Jacket\",\"The Apartment\",\"Ikiru\",\"The Third Man\",\"Snatch.\",\"For a Few Dollars More\",\"Metropolis\",\"Dil Chahta Hai\",\"2001: A Space Odyssey\",\"Some Like It Hot\",\"L.A. Confidential\",\"Batman Begins\",\"Inglourious Basterds\",\"Scarface\",\"Mr. Smith Goes to Washington\",\"Toy Story\",\"Indiana Jones and the Last Crusade\",\"Unforgiven\",\"The Great Escape\",\"Jagten\",\"On the Waterfront\",\"The General\",\"Raging Bull\",\"Downfall\",\"Up\",\"Wild Strawberries\",\"The Gold Rush\",\"Ran\",\"Chinatown\",\"My Neighbor Totoro\",\"Judgment at Nuremberg\",\"Barfi!\",\"The Seventh Seal\",\"Heat\",\"Pan's Labyrinth\",\"The Bridge on the River Kwai\",\"Die Hard\",\"Good Will Hunting\",\"The Wages of Fear\",\"The Secret in Their Eyes\",\"Lagaan: Once Upon a Time in India\",\"The Wolf of Wall Street\",\"It Happened One Night\",\"Blade Runner\",\"Warrior\",\"Howl's Moving Castle\",\"The Elephant Man\",\"Rebecca\",\"Incendies\",\"Lock, Stock and Two Smoking Barrels\",\"V for Vendetta\",\"The Big Lebowski\",\"Cool Hand Luke\",\"Relatos salvajes\",\"Casino\",\"Gone with the Wind\",\"Gone Girl\",\"The Best Years of Our Lives\",\"How to Train Your Dragon\",\"Diabolique\",\"Gran Torino\",\"Rush\",\"Into the Wild\",\"My Sassy Girl\",\"The Deer Hunter\",\"Mary and Max\",\"Hachi: A Dog's Tale\",\"The Maltese Falcon\",\"A Beautiful Mind\",\"Dial M for Murder\",\"Trainspotting\",\"Tae Guk Gi: The Brotherhood of War\",\"Persona\",\"Touch of Evil\",\"Fargo\",\"The Avengers\",\"The 400 Blows\",\"The Princess Bride\",\"Hotel Rwanda\",\"Stalker\",\"The Battle of Algiers\",\"Underground\",\"Fanny and Alexander\",\"Network\",\"The Thing\",\"Butch Cassidy and the Sundance Kid\",\"The Grapes of Wrath\",\"Black Cat, White Cat\",\"Life of Brian\",\"The Sixth Sense\",\"Finding Nemo\",\"Nausicaa of the Valley of the Wind\",\"Kingsman: The Secret Service\",\"Platoon\",\"Guardians of the Galaxy\",\"In the Name of the Father\",\"Kill Bill: Vol. 1\",\"No Country for Old Men\",\"Le Samourai\",\"12 Years a Slave\",\"La leggenda del pianista sull'oceano\",\"8 1/2\",\"Ben-Hur\",\"Amores Perros\",\"Stand by Me\",\"What Ever Happened to Baby Jane?\",\"Annie Hall\",\"The Imitation Game\",\"Laura\",\"Departures\",\"Infernal Affairs\",\"There Will Be Blood\",\"The Grand Budapest Hotel\",\"La Strada\",\"Sin City\",\"Memories of Murder\",\"Donnie Darko\",\"Who's Afraid of Virginia Woolf?\",\"Gandhi\",\"Solaris\",\"Harry Potter and the Deathly Hallows: Part 2\",\"Paris, Texas\",\"The Wizard of Oz\",\"3-Iron\",\"Boyhood\",\"Million Dollar Baby\",\"The Last Picture Show\",\"Strangers on a Train\",\"Cat on a Hot Tin Roof\",\"La Dolce Vita\",\"Chungking Express\",\"The Night of the Hunter\",\"La Haine\",\"Yip Man\",\"High Noon\",\"Notorious\",\"Before Sunrise\",\"Elite Squad: The Enemy Within\",\"The Bourne Ultimatum\",\"Castle in the Sky\",\"The Celebration\",\"Spring, Summer, Fall, Winter... and Spring\",\"Shutter Island\",\"Barry Lyndon\",\"Stalag 17\",\"Three Colors: Red\",\"X-Men: Days of Future Past\",\"Sleuth\",\"In the Mood for Love\",\"The Man Who Shot Liberty Valance\",\"Arsenic and Old Lace\",\"The Big Sleep\",\"Roman Holiday\",\"The Philadelphia Story\",\"Akira\",\"Anatomy of a Murder\",\"The Cabinet of Dr. Caligari\",\"The Help\",\"The Sea Inside\",\"Elite Squad\",\"The Hustler\",\"Rio Bravo\",\"Twelve Monkeys\",\"Harvey\",\"A Christmas Story\",\"Jaws\",\"The Raid 2\",\"Rocky\",\"Wings of Desire\",\"Pirates of the Caribbean: The Curse of the Black Pearl\",\"The Killing\",\"Papillon\",\"The King's Speech\",\"Groundhog Day\",\"A Fistful of Dollars\",\"Monsters, Inc.\",\"Dog Day Afternoon\",\"The Perks of Being a Wallflower\",\"Young Frankenstein\",\"The Terminator\",\"Harold and Maude\",\"Before Sunset\",\"A Streetcar Named Desire\",\"Bringing Up Baby\",\"The Diving Bell and the Butterfly\",\"His Girl Friday\",\"Sling Blade\",\"All Quiet on the Western Front\",\"Prisoners\",\"The Return\",\"The Manchurian Candidate\",\"Duck Soup\",\"Beauty and the Beast\",\"The Truman Show\",\"The Wild Bunch\",\"Rope\",\"The Graduate\",\"Jurassic Park\",\"Dogville\",\"Furious 7\",\"Patton\",\"The Nightmare Before Christmas\",\"Being There\",\"Persepolis\",\"This Is Spinal Tap\",\"East of Eden\",\"Pink Floyd The Wall\",\"Blood Diamond\",\"Big Fish\",\"Slumdog Millionaire\",\"Star Trek\",\"The Straight Story\",\"Crimes and Misdemeanors\",\"Charade\",\"JFK\",\"Dawn of the Dead\",\"Magnolia\",\"Manhattan\",\"Central Station\",\"Brazil\",\"The Exorcist\",\"Her\",\"Dancer in the Dark\",\"Rain Man\",\"Talk to Her\",\"The Adventures of Robin Hood\",\"Aguirre, the Wrath of God\",\"In the Heat of the Night\",\"Nosferatu\",\"Black Swan\",\"Ratatouille\",\"The Searchers\",\"Short Term 12\",\"Doctor Zhivago\",\"Life of Pi\",\"All the President's Men\",\"Battleship Potemkin\",\"Dances with Wolves\",\"Catch Me If You Can\",\"Cinderella Man\",\"Dead Poets Society\",\"Ghost in the Shell\",\"Head-On\",\"No Man's Land\",\"Dallas Buyers Club\",\"Days of Heaven\",\"The Sound of Music\",\"District 9\",\"Shadow of a Doubt\",\"Frankenstein\",\"Shaun of the Dead\",\"Night of the Living Dead\",\"Kill Bill: Vol. 2\",\"Secrets & Lies\",\"The Artist\",\"Aladdin\",\"The Lady Vanishes\",\"The Hobbit: The Desolation of Smaug\",\"Let the Right One In\",\"Fiddler on the Roof\",\"The Hobbit: An Unexpected Journey\",\"Three Colors: Blue\",\"Rosemary's Baby\",\"Mystic River\",\"Serenity\",\"Amarcord\",\"Planet of the Apes\",\"True Romance\",\"Hannah and Her Sisters\",\"Moon\",\"Before Midnight\",\"My Name Is Khan\",\"Scent of a Woman\",\"Mulholland Dr.\",\"King Kong\",\"The Fault in Our Stars\",\"The Incredibles\",\"Edward Scissorhands\",\"Casino Royale\",\"How to Train Your Dragon 2\",\"In Bruges\",\"The Untouchables\",\"Breathless\",\"Spartacus\",\"The Iron Giant\",\"Midnight Cowboy\",\"The Blues Brothers\",\"Freaks\",\"Letters from Iwo Jima\",\"Edge of Tomorrow\",\"Glory\",\"The African Queen\",\"Birdman: Or (The Unexpected Virtue of Ignorance)\",\"Big Hero 6\",\"Almost Famous\",\"The Notebook\",\"The Conversation\",\"The Breakfast Club\",\"The Pursuit of Happyness\",\"The Killer\",\"Once\",\"Ying xiong\",\"The Remains of the Day\",\"The Bride of Frankenstein\",\"The Wrestler\",\"Nightcrawler\",\"Gravity\",\"Hard Boiled\",\"Bonnie and Clyde\",\"The Bourne Identity\",\"Key Largo\",\"Nine Queens\",\"Toy Story 2\",\"The Killing Fields\",\"All About My Mother\",\"Cowboy Bebop: The Movie\",\"Ed Wood\",\"Stagecoach\",\"The Man Who Would Be King\",\"The Outlaw Josey Wales\",\"Children of Men\",\"The Insider\",\"The Right Stuff\",\"Badlands\",\"A Prophet\",\"4 Months, 3 Weeks and 2 Days\",\"Le passe\",\"The Fall\",\"Breaking the Waves\",\"Mr. Nobody\",\"Crash\",\"Avatar\",\"Iron Man\",\"Do the Right Thing\",\"Carlito's Way\",\"Crouching Tiger, Hidden Dragon\",\"Lilya 4-Ever\",\"The Chorus\",\"The Boondock Saints\",\"Miller's Crossing\",\"Walk the Line\",\"Shrek\",\"My Fair Lady\",\"The Ten Commandments\",\"The Fighter\",\"Captain Phillips\",\"Cabaret\",\"Halloween\",\"My Left Foot\",\"Miracle on 34th Street\",\"The Man from Nowhere\",\"Toki o kakeru shojo\",\"Little Miss Sunshine\",\"Taken\",\"Blue Is the Warmest Color\",\"Boogie Nights\",\"Hot Fuzz\",\"Ferris Bueller's Day Off\",\"The World's Fastest Indian\",\"Kiki's Delivery Service\",\"Down by Law\",\"Glengarry Glen Ross\",\"Clerks\",\"Adam's Apples\",\"The Girl with the Dragon Tattoo\",\"The 39 Steps\",\"E.T. the Extra-Terrestrial\",\"Tombstone\",\"Predator\",\"Tangled\",\"Guess Who's Coming to Dinner\",\"Ordinary People\",\"The Best Offer\",\"Silver Linings Playbook\",\"Hamlet\",\"Amour\",\"I Saw the Devil\",\"The Motorcycle Diaries\",\"Office Space\",\"Evil\",\"The Girl with the Dragon Tattoo\",\"Withnail & I\",\"The Day the Earth Stood Still\",\"Black Book\",\"Evil Dead II\",\"Kaze tachinu\",\"Star Trek Into Darkness\",\"The Triplets of Belleville\",\"Open Your Eyes\",\"The Magnificent Seven\",\"Drive\",\"Mississippi Burning\",\"The Lego Movie\",\"The Day of the Jackal\",\"Misery\",\"Willy Wonka & the Chocolate Factory\",\"Fantasia\",\"Gattaca\",\"American Gangster\",\"Porco Rosso\",\"The French Connection\",\"The Boy in the Striped Pajamas\",\"Empire of the Sun\",\"About Time\",\"Blue Velvet\",\"In America\",\"The Curious Case of Benjamin Button\",\"The Last of the Mohicans\",\"Moonrise Kingdom\",\"Rebel Without a Cause\",\"Fantastic Mr. Fox\",\"Invasion of the Body Snatchers\",\"October Sky\",\"Dirty Harry\",\"Ghostbusters\",\"Captain America: The Winter Soldier\",\"Wreck-It Ralph\",\"The Hangover\",\"Back to the Future Part II\",\"Belle de Jour\",\"O Brother, Where Art Thou?\",\"Repulsion\",\"Airplane!\",\"Pride & Prejudice\",\"Zulu\",\"Night on Earth\",\"From Here to Eternity\",\"Apocalypto\",\"Atonement\",\"The Dirty Dozen\",\"X-Men: First Class\",\"Run Lola Run\",\"The Longest Day\",\"Zelig\",\"The Last Emperor\",\"The Goonies\",\"The White Ribbon\",\"The Fugitive\",\"The Color Purple\",\"South Park: Bigger Longer & Uncut\",\"(500) Days of Summer\",\"Lost in Translation\",\"Argo\",\"Blazing Saddles\",\"Breakfast at Tiffany's\",\"Finding Neverland\",\"The Experiment\",\"Lucky Number Slevin\",\"The Theory of Everything\",\"Harry Potter and the Prisoner of Azkaban\",\"Kung Fu Hustle\",\"Being John Malkovich\",\"The Social Network\",\"3:10 to Yuma\",\"The Name of the Rose\",\"Mary Poppins\",\"The Game\",\"Changeling\",\"Donnie Brasco\",\"Serpico\",\"What's Eating Gilbert Grape\",\"Goldfinger\",\"Nebraska\",\"The Sandlot\",\"Boyz n the Hood\",\"The Bourne Supremacy\",\"Skyfall\",\"Ray\",\"300\",\"A Bronx Tale\",\"The Birds\",\"Battle Royale\",\"Control\",\"Kramer vs. Kramer\",\"Deliverance\",\"Ocean's Eleven\",\"As Good as It Gets\",\"Awakenings\",\"The King of Comedy\",\"Man on Fire\",\"Sabrina\",\"Dark City\",\"Good Bye Lenin!\",\"Remember the Titans\",\"Star Trek II: The Wrath of Khan\",\"Road to Perdition\",\"Rushmore\",\"The Machinist\",\"Flipped\",\"The Count of Monte Cristo\",\"Detachment\",\"Love Me If You Dare\",\"Dead Man\",\"The Purple Rose of Cairo\",\"21 Grams\",\"50/50\",\"Kick-Ass\",\"Delicatessen\",\"Barton Fink\",\"The Last King of Scotland\",\"Adaptation.\",\"A Very Long Engagement\",\"Mysterious Skin\",\"Stardust\",\"Black Hawk Down\",\"Paprika\",\"Fear and Loathing in Las Vegas\",\"Frost/Nixon\",\"Enter the Dragon\",\"Short Cuts\",\"A Hard Day's Night\",\"The Last Samurai\",\"The Station Agent\",\"Zombieland\",\"Sympathy for Mr. Vengeance\",\"Despicable Me\",\"Shane\",\"Forbidden Planet\",\"Titanic\",\"Gone Baby Gone\",\"The Dinner Game\",\"Dawn of the Planet of the Apes\",\"25th Hour\",\"Ponyo\",\"Shine\",\"The Blind Side\",\"Brokeback Mountain\",\"Cast Away\",\"Malcolm X\",\"Show Me Love\",\"Boy A\",\"The Warriors\",\"Close Encounters of the Third Kind\",\"Match Point\",\"Training Day\",\"The Butterfly Effect\",\"The City of Lost Children\",\"Billy Elliot\",\"Love Actually\",\"The Producers\",\"Harry Potter and the Deathly Hallows: Part 1\",\"The Visitor\",\"Philadelphia\",\"Sense and Sensibility\",\"Three Colors: White\",\"La grande bellezza\",\"Primal Fear\",\"Where Eagles Dare\",\"Dazed and Confused\",\"Blood Simple.\",\"This Is England\",\"Fearless\",\"Dangerous Liaisons\",\"Saw\",\"Snow White and the Seven Dwarfs\",\"Coraline\",\"The Hunger Games: Catching Fire\",\"Sophie's Choice\",\"La Vie en Rose\",\"Star Wars: Episode III - Revenge of the Sith\",\"True Grit\",\"After Hours\",\"Frozen\",\"Lolita\",\"Eastern Promises\",\"Midnight in Paris\",\"The Muppet Christmas Carol\",\"Who Framed Roger Rabbit\",\"Sympathy for Lady Vengeance\",\"Grindhouse\",\"In a Better World\",\"Blow-Up\",\"The Secret World of Arrietty\",\"Kiss Kiss Bang Bang\",\"Lost Highway\",\"Zodiac\",\"Les Miserables\",\"Moulin Rouge!\",\"Whale Rider\",\"End of Watch\",\"Philomena\",\"Fury\",\"The Big Blue\",\"First Blood\",\"Minority Report\",\"Spellbound\",\"The Wicker Man\",\"Seven Pounds\",\"Midnight Express\",\"Kelly's Heroes\",\"MASH\",\"The Player\",\"Traffic\",\"Y Tu Mama Tambien\",\"Stranger Than Fiction\",\"Inside Man\",\"127 Hours\",\"The Fifth Element\",\"Milk\",\"United 93\",\"Jin ling shi san chai\",\"Dracula\",\"High Plains Drifter\",\"I Am Sam\",\"Fried Green Tomatoes\",\"Watchmen\",\"28 Days Later...\",\"The Illusionist\",\"Superbad\",\"The Godfather: Part III\",\"The Royal Tenenbaums\",\"The Jungle Book\",\"Thank You for Smoking\",\"Man Bites Dog\",\"A Few Good Men\",\"The Legend of Drunken Master\",\"The Kite Runner\",\"When Harry Met Sally...\",\"Munich\",\"House of Sand and Fog\",\"Lethal Weapon\",\"Animal House\",\"Lord of War\",\"Blow\",\"Sherlock Holmes\",\"Harry Potter and the Goblet of Fire\",\"La piel que habito\",\"The Crow\",\"West Side Story\",\"The Thin Red Line\",\"American Psycho\",\"The Blind Swordsman: Zatoichi\",\"The Last Temptation of Christ\",\"The Naked Gun: From the Files of Police Squad!\",\"The Others\",\"The Party\",\"Army of Darkness\",\"The Hurt Locker\",\"The Raid: Redemption\",\"Volver\",\"Following\",\"Kung Fu Panda\",\"Mad Max 2: The Road Warrior\",\"Jusan-nin no shikaku\",\"The Man Who Wasn't There\",\"The Counterfeiters\",\"The Hunt for Red October\",\"Lone Survivor\",\"A Fish Called Wanda\",\"The Impossible\",\"Garden State\",\"Escape from Alcatraz\",\"Apollo 13\",\"Lust, Caution\",\"Selma\",\"Funny Games\",\"The Abyss\",\"Robin Hood\",\"Enemy at the Gates\",\"Falling Down\",\"Little Children\",\"Hunger\",\"Indiana Jones and the Temple of Doom\",\"Ip Man 2\",\"The Little Mermaid\",\"It's a Mad, Mad, Mad, Mad World\",\"The Reader\",\"The Omen\",\"A Royal Affair\",\"Braindead\",\"Secondhand Lions\",\"Disconnect\",\"A Single Man\",\"Hoosiers\",\"Moneyball\",\"The Book Thief\",\"Die Hard: With a Vengeance\",\"Interview with the Vampire: The Vampire Chronicles\",\"Midnight Run\",\"An American Werewolf in London\",\"The Great Debaters\",\"Tucker and Dale vs. Evil\",\"Dead Man Walking\",\"The Piano\",\"The Town\",\"Rise of the Planet of the Apes\",\"Boys Don't Cry\",\"Ice Age\",\"Of Mice and Men\",\"Sideways\",\"High Fidelity\",\"The Meaning of Life\",\"Hugo\",\"Leaving Las Vegas\",\"The Evil Dead\",\"Collateral\",\"Planes, Trains & Automobiles\",\"Hodejegerne\",\"Field of Dreams\",\"Batman\",\"Tell No One\",\"Ghost Dog: The Way of the Samurai\",\"Chaplin\",\"Keith\",\"Juno\",\"The Assassination of Jesse James by the Coward Robert Ford\",\"The Fisher King\",\"House of Flying Daggers\",\"The Hours\",\"The Damned United\",\"Star Trek: First Contact\",\"The Natural\",\"The Hobbit: The Battle of the Five Armies\",\"Equilibrium\",\"August Rush\",\"Saving Mr. Banks\",\"The Hurricane\",\"Jacob's Ladder\",\"The Curse of the Were-Rabbit\",\"Christmas Vacation\",\"Good Night, and Good Luck.\",\"Straw Dogs\",\"42\",\"Rudy\",\"Sleepers\",\"The Wind That Shakes the Barley\",\"Gangs of New York\",\"Elizabeth\",\"Green Street Hooligans\",\"Reign Over Me\",\"RoboCop\",\"The Life of David Gale\",\"Life as a House\",\"Despicable Me 2\",\"Jackie Brown\",\"Menace II Society\",\"The Class\",\"Bullets Over Broadway\",\"American Splendor\",\"Perfume: The Story of a Murderer\",\"Cloud Atlas\",\"Marathon Man\",\"Pinocchio\",\"The Painted Veil\",\"A Simple Plan\",\"The Conjuring\",\"The Man Who Knew Too Much\",\"Quiz Show\",\"American Graffiti\",\"The Bridges of Madison County\",\"Gallipoli\",\"L'illusionniste\",\"Miracle\",\"Maria Full of Grace\",\"Scott Pilgrim vs. the World\",\"Pleasantville\",\"Sherlock Holmes: A Game of Shadows\",\"Doubt\",\"The Fly\",\"The Orphanage\",\"Malena\",\"Three Days of the Condor\",\"[Rec]\",\"A Perfect World\",\"To Catch a Thief\",\"Best in Show\",\"Everything Is Illuminated\",\"A Nightmare on Elm Street\",\"The Ice Storm\",\"X2\",\"We Need to Talk About Kevin\",\"Felon\",\"Still Alice\",\"Rust and Bone\",\"Freedom Writers\",\"Legends of the Fall\",\"Buffalo '66\",\"The Constant Gardener\",\"My Cousin Vinny\",\"The Texas Chain Saw Massacre\",\"Mulan\",\"A History of Violence\",\"Open Range\",\"Total Recall\",\"Pi\",\"The Devil's Backbone\",\"The Aviator\",\"Devil's Advocate\",\"The Adventures of Priscilla, Queen of the Desert\",\"Harry Potter and the Half-Blood Prince\",\"Fruitvale Station\",\"In the Bedroom\",\"Source Code\",\"Biutiful\",\"From Russia with Love\",\"Calvary\",\"The Mission\",\"In the Loop\",\"The Three Burials of Melquiades Estrada\",\"Babel\",\"Frenzy\",\"Heavenly Creatures\",\"Sweeney Todd: The Demon Barber of Fleet Street\",\"Dracula\",\"Looper\",\"The Proposition\",\"Bullitt\",\"Harry Potter and the Sorcerer's Stone\",\"2046\",\"Transamerica\",\"Smoke\",\"Suspiria\",\"The Judge\",\"Bad Education\",\"Up in the Air\",\"Begin Again\",\"Running Scared\",\"Ghost World\",\"Witness\",\"Trading Places\",\"Mud\",\"Across the Universe\",\"Les Miserables\",\"Notes on a Scandal\",\"Inside Llewyn Davis\",\"Brick\",\"Clerks II\",\"Say Anything...\",\"Man on the Moon\",\"Mean Streets\",\"Harry Potter and the Order of the Phoenix\",\"Beetlejuice\",\"Crazy, Stupid, Love.\",\"Excalibur\",\"True Grit\",\"Labyrinth\",\"Alice in Wonderland\",\"Predestination\",\"Much Ado About Nothing\",\"A Bridge Too Far\",\"Raising Arizona\",\"The Bucket List\",\"Terms of Endearment\",\"Take Shelter\",\"Far from Heaven\",\"Eraserhead\",\"Frances Ha\",\"Home Alone\",\"Bound\",\"Sleepy Hollow\",\"Pirate Radio\",\"The NeverEnding Story\",\"X-Men\",\"Zero Dark Thirty\",\"Manhattan Murder Mystery\",\"National Lampoon's Vacation\",\"My Sister's Keeper\",\"Deconstructing Harry\",\"The Way Way Back\",\"Capote\",\"Driving Miss Daisy\",\"La Femme Nikita\",\"Lincoln\",\"Limitless\",\"The Simpsons Movie\",\"The Rock\",\"The English Patient\",\"Law Abiding Citizen\",\"Wonder Boys\",\"Death at a Funeral\",\"Blue Valentine\",\"The Cider House Rules\",\"Tootsie\",\"Back to the Future Part III\",\"Master and Commander: The Far Side of the World\",\"Poltergeist\",\"Wall Street\"]},\"selected\":{\"id\":\"12995\",\"type\":\"Selection\"},\"selection_policy\":{\"id\":\"12994\",\"type\":\"UnionRenderers\"}},\"id\":\"12562\",\"type\":\"ColumnDataSource\"},{\"attributes\":{},\"id\":\"13066\",\"type\":\"BasicTicker\"},{\"attributes\":{},\"id\":\"13070\",\"type\":\"PanTool\"}],\"root_ids\":[\"13051\"]},\"title\":\"Bokeh Application\",\"version\":\"1.3.4\"}};\n",
       "  var render_items = [{\"docid\":\"5a18aaac-4e86-4d14-b901-a9f26a2c6967\",\"roots\":{\"13051\":\"ddf6bc80-cb27-4fc7-91a0-fc6866f78a55\"}}];\n",
       "  root.Bokeh.embed.embed_items_notebook(docs_json, render_items);\n",
       "\n",
       "  }\n",
       "  if (root.Bokeh !== undefined) {\n",
       "    embed_document(root);\n",
       "  } else {\n",
       "    var attempts = 0;\n",
       "    var timer = setInterval(function(root) {\n",
       "      if (root.Bokeh !== undefined) {\n",
       "        embed_document(root);\n",
       "        clearInterval(timer);\n",
       "      }\n",
       "      attempts++;\n",
       "      if (attempts > 100) {\n",
       "        console.log(\"Bokeh: ERROR: Unable to run BokehJS code because BokehJS library is missing\");\n",
       "        clearInterval(timer);\n",
       "      }\n",
       "    }, 10, root)\n",
       "  }\n",
       "})(window);"
      ],
      "application/vnd.bokehjs_exec.v0+json": ""
     },
     "metadata": {
      "application/vnd.bokehjs_exec.v0+json": {
       "id": "13051"
      }
     },
     "output_type": "display_data"
    }
   ],
   "source": [
    "p = figure(height = 200)\n",
    "p.scatter(x = 'duration', y = 'star_rating', source = source)\n",
    "show(p)"
   ]
  },
  {
   "cell_type": "markdown",
   "metadata": {},
   "source": [
    "## Colors\n",
    "\n",
    "There are many places where you may need to specify colors. Bokeh can accept colors in a variety of different ways:\n",
    "\n",
    "* any of the [147 named CSS colors](http://www.w3schools.com/cssref/css_colornames.asp), e.g ``'green'``, ``'indigo'``\n",
    "* an RGB(A) hex value, e.g., ``'#FF0000'``, ``'#44444444'``\n",
    "* a 3-tuple of integers *(r,g,b)* between 0 and 255\n",
    "*  a 4-tuple of *(r,g,b,a)* where *r*, *g*, *b* are integers between 0 and 255 and *a* is a floating point value between 0 and 1\n",
    "\n"
   ]
  },
  {
   "cell_type": "markdown",
   "metadata": {},
   "source": [
    "## Properties\n",
    "\n",
    "Regardless of what API (``models``, ``plotting``, or ``charts``) is used to create a Bokeh plot, styling the visual aspects of the plot can always be accomplished by setting attributes on the Bokeh model objects that comprise the resulting plot. Visual properties come in three kinds: line, fill, and text properties. For full information with code and examples see the [Styling Visual Properties](http://bokeh.pydata.org/en/latest/docs/user_guide/styling.html) section of the user guide. \n",
    "\n",
    "----\n",
    "\n",
    "### Line Properties\n",
    "\n",
    "Set the visual appearance of lines. The most common are ``line_color``, ``line_alpha``, ``line_width`` and ``line_dash``.\n",
    "\n",
    "### Fill Properties\n",
    "\n",
    "Set the visual appearance of filled areas: ``fill_color`` and ``fill_alpha``.\n",
    "\n",
    "### Text Properties\n",
    "\n",
    "Set the visual appearance of lines of text. The most common are ``text_font``, ``text_font_size``, ``text_color``, and ``text_alpha``.\n",
    "\n",
    "----\n",
    "\n",
    "Sometimes a prefix is used with property names, e.g. to distinguish between different line properties on the same object, or to give a more meaningful name. For example, to set the line width of the plot outline, you would say ``myplot.outline_line_width = 2``. \n"
   ]
  },
  {
   "cell_type": "code",
   "execution_count": 77,
   "metadata": {},
   "outputs": [
    {
     "data": {
      "text/html": [
       "\n",
       "\n",
       "\n",
       "\n",
       "\n",
       "\n",
       "  <div class=\"bk-root\" id=\"a6bfb5e8-f359-40bd-ad94-a75437b1c211\" data-root-id=\"13548\"></div>\n"
      ]
     },
     "metadata": {},
     "output_type": "display_data"
    },
    {
     "data": {
      "application/javascript": [
       "(function(root) {\n",
       "  function embed_document(root) {\n",
       "    \n",
       "  var docs_json = {\"869a8111-3a53-4d12-bdca-cedcb665f0af\":{\"roots\":{\"references\":[{\"attributes\":{\"below\":[{\"id\":\"13557\",\"type\":\"LinearAxis\"}],\"center\":[{\"id\":\"13561\",\"type\":\"Grid\"},{\"id\":\"13566\",\"type\":\"Grid\"}],\"left\":[{\"id\":\"13562\",\"type\":\"LinearAxis\"}],\"outline_line_alpha\":{\"value\":0.3},\"outline_line_color\":{\"value\":\"navy\"},\"outline_line_width\":{\"value\":7},\"plot_height\":400,\"plot_width\":400,\"renderers\":[{\"id\":\"13583\",\"type\":\"GlyphRenderer\"}],\"title\":{\"id\":\"13991\",\"type\":\"Title\"},\"toolbar\":{\"id\":\"13573\",\"type\":\"Toolbar\"},\"x_range\":{\"id\":\"13549\",\"type\":\"DataRange1d\"},\"x_scale\":{\"id\":\"13553\",\"type\":\"LinearScale\"},\"y_range\":{\"id\":\"13551\",\"type\":\"DataRange1d\"},\"y_scale\":{\"id\":\"13555\",\"type\":\"LinearScale\"}},\"id\":\"13548\",\"subtype\":\"Figure\",\"type\":\"Plot\"},{\"attributes\":{},\"id\":\"13571\",\"type\":\"ResetTool\"},{\"attributes\":{},\"id\":\"13572\",\"type\":\"HelpTool\"},{\"attributes\":{\"callback\":null,\"data\":{\"x\":[1,2,3,4,5],\"y\":[2,5,8,2,7]},\"selected\":{\"id\":\"13998\",\"type\":\"Selection\"},\"selection_policy\":{\"id\":\"13997\",\"type\":\"UnionRenderers\"}},\"id\":\"13580\",\"type\":\"ColumnDataSource\"},{\"attributes\":{},\"id\":\"13555\",\"type\":\"LinearScale\"},{\"attributes\":{},\"id\":\"13995\",\"type\":\"BasicTickFormatter\"},{\"attributes\":{\"bottom_units\":\"screen\",\"fill_alpha\":{\"value\":0.5},\"fill_color\":{\"value\":\"lightgrey\"},\"left_units\":\"screen\",\"level\":\"overlay\",\"line_alpha\":{\"value\":1.0},\"line_color\":{\"value\":\"black\"},\"line_dash\":[4,4],\"line_width\":{\"value\":2},\"render_mode\":\"css\",\"right_units\":\"screen\",\"top_units\":\"screen\"},\"id\":\"13999\",\"type\":\"BoxAnnotation\"},{\"attributes\":{\"callback\":null},\"id\":\"13549\",\"type\":\"DataRange1d\"},{\"attributes\":{\"callback\":null},\"id\":\"13551\",\"type\":\"DataRange1d\"},{\"attributes\":{\"formatter\":{\"id\":\"13995\",\"type\":\"BasicTickFormatter\"},\"ticker\":{\"id\":\"13558\",\"type\":\"BasicTicker\"}},\"id\":\"13557\",\"type\":\"LinearAxis\"},{\"attributes\":{\"active_drag\":\"auto\",\"active_inspect\":\"auto\",\"active_multi\":null,\"active_scroll\":\"auto\",\"active_tap\":\"auto\",\"tools\":[{\"id\":\"13567\",\"type\":\"PanTool\"},{\"id\":\"13568\",\"type\":\"WheelZoomTool\"},{\"id\":\"13569\",\"type\":\"BoxZoomTool\"},{\"id\":\"13570\",\"type\":\"SaveTool\"},{\"id\":\"13571\",\"type\":\"ResetTool\"},{\"id\":\"13572\",\"type\":\"HelpTool\"}]},\"id\":\"13573\",\"type\":\"Toolbar\"},{\"attributes\":{},\"id\":\"13563\",\"type\":\"BasicTicker\"},{\"attributes\":{},\"id\":\"13558\",\"type\":\"BasicTicker\"},{\"attributes\":{\"ticker\":{\"id\":\"13558\",\"type\":\"BasicTicker\"}},\"id\":\"13561\",\"type\":\"Grid\"},{\"attributes\":{},\"id\":\"13998\",\"type\":\"Selection\"},{\"attributes\":{\"dimension\":1,\"ticker\":{\"id\":\"13563\",\"type\":\"BasicTicker\"}},\"id\":\"13566\",\"type\":\"Grid\"},{\"attributes\":{\"fill_alpha\":{\"value\":0.1},\"fill_color\":{\"value\":\"#1f77b4\"},\"line_alpha\":{\"value\":0.1},\"line_color\":{\"value\":\"#1f77b4\"},\"size\":{\"units\":\"screen\",\"value\":10},\"x\":{\"field\":\"x\"},\"y\":{\"field\":\"y\"}},\"id\":\"13582\",\"type\":\"Circle\"},{\"attributes\":{\"formatter\":{\"id\":\"13993\",\"type\":\"BasicTickFormatter\"},\"ticker\":{\"id\":\"13563\",\"type\":\"BasicTicker\"}},\"id\":\"13562\",\"type\":\"LinearAxis\"},{\"attributes\":{\"text\":\"\"},\"id\":\"13991\",\"type\":\"Title\"},{\"attributes\":{\"fill_color\":{\"value\":\"#1f77b4\"},\"line_color\":{\"value\":\"#1f77b4\"},\"size\":{\"units\":\"screen\",\"value\":10},\"x\":{\"field\":\"x\"},\"y\":{\"field\":\"y\"}},\"id\":\"13581\",\"type\":\"Circle\"},{\"attributes\":{},\"id\":\"13570\",\"type\":\"SaveTool\"},{\"attributes\":{},\"id\":\"13567\",\"type\":\"PanTool\"},{\"attributes\":{},\"id\":\"13553\",\"type\":\"LinearScale\"},{\"attributes\":{},\"id\":\"13568\",\"type\":\"WheelZoomTool\"},{\"attributes\":{},\"id\":\"13993\",\"type\":\"BasicTickFormatter\"},{\"attributes\":{\"overlay\":{\"id\":\"13999\",\"type\":\"BoxAnnotation\"}},\"id\":\"13569\",\"type\":\"BoxZoomTool\"},{\"attributes\":{},\"id\":\"13997\",\"type\":\"UnionRenderers\"},{\"attributes\":{\"source\":{\"id\":\"13580\",\"type\":\"ColumnDataSource\"}},\"id\":\"13584\",\"type\":\"CDSView\"},{\"attributes\":{\"data_source\":{\"id\":\"13580\",\"type\":\"ColumnDataSource\"},\"glyph\":{\"id\":\"13581\",\"type\":\"Circle\"},\"hover_glyph\":null,\"muted_glyph\":null,\"nonselection_glyph\":{\"id\":\"13582\",\"type\":\"Circle\"},\"selection_glyph\":null,\"view\":{\"id\":\"13584\",\"type\":\"CDSView\"}},\"id\":\"13583\",\"type\":\"GlyphRenderer\"}],\"root_ids\":[\"13548\"]},\"title\":\"Bokeh Application\",\"version\":\"1.3.4\"}};\n",
       "  var render_items = [{\"docid\":\"869a8111-3a53-4d12-bdca-cedcb665f0af\",\"roots\":{\"13548\":\"a6bfb5e8-f359-40bd-ad94-a75437b1c211\"}}];\n",
       "  root.Bokeh.embed.embed_items_notebook(docs_json, render_items);\n",
       "\n",
       "  }\n",
       "  if (root.Bokeh !== undefined) {\n",
       "    embed_document(root);\n",
       "  } else {\n",
       "    var attempts = 0;\n",
       "    var timer = setInterval(function(root) {\n",
       "      if (root.Bokeh !== undefined) {\n",
       "        embed_document(root);\n",
       "        clearInterval(timer);\n",
       "      }\n",
       "      attempts++;\n",
       "      if (attempts > 100) {\n",
       "        console.log(\"Bokeh: ERROR: Unable to run BokehJS code because BokehJS library is missing\");\n",
       "        clearInterval(timer);\n",
       "      }\n",
       "    }, 10, root)\n",
       "  }\n",
       "})(window);"
      ],
      "application/vnd.bokehjs_exec.v0+json": ""
     },
     "metadata": {
      "application/vnd.bokehjs_exec.v0+json": {
       "id": "13548"
      }
     },
     "output_type": "display_data"
    }
   ],
   "source": [
    "# create a new plot with a title\n",
    "p = figure(plot_width=400, plot_height=400)\n",
    "p.outline_line_width = 7\n",
    "p.outline_line_alpha = 0.3\n",
    "p.outline_line_color = \"navy\"\n",
    "\n",
    "p.circle([1,2,3,4,5], [2,5,8,2,7], size=10)\n",
    "\n",
    "show(p)"
   ]
  },
  {
   "cell_type": "code",
   "execution_count": 78,
   "metadata": {},
   "outputs": [],
   "source": [
    "# EXERCISE Create a plot of your own and customize several plot-level properties\n"
   ]
  },
  {
   "cell_type": "markdown",
   "metadata": {},
   "source": [
    "# Glyphs\n",
    "\n",
    "It's also possible to style the visual properties of glyphs. When using `bokeh.plotting` this is often done when calling the glyph methods:\n",
    "```python\n",
    "p.circle(line_color=\"red\", fill_alpha=0.2, ...)\n",
    "```\n",
    "But it is also possible to set these properties directly on glyph objects. Glyph objects are found on `GlyphRenderer` objects, which are returned by the `Plot.add_glyph` and `bokeh.plotting` glyph methods like `circle`, `rect`, etc. Let's look at an example:"
   ]
  },
  {
   "cell_type": "code",
   "execution_count": 79,
   "metadata": {},
   "outputs": [
    {
     "data": {
      "text/html": [
       "\n",
       "\n",
       "\n",
       "\n",
       "\n",
       "\n",
       "  <div class=\"bk-root\" id=\"0f5fce40-0ebc-45c5-82b0-660ffc4ddad7\" data-root-id=\"14054\"></div>\n"
      ]
     },
     "metadata": {},
     "output_type": "display_data"
    },
    {
     "data": {
      "application/javascript": [
       "(function(root) {\n",
       "  function embed_document(root) {\n",
       "    \n",
       "  var docs_json = {\"5ba43a2e-9f60-4182-8533-415e105aed6a\":{\"roots\":{\"references\":[{\"attributes\":{\"below\":[{\"id\":\"14063\",\"type\":\"LinearAxis\"}],\"center\":[{\"id\":\"14067\",\"type\":\"Grid\"},{\"id\":\"14072\",\"type\":\"Grid\"}],\"left\":[{\"id\":\"14068\",\"type\":\"LinearAxis\"}],\"plot_height\":400,\"plot_width\":400,\"renderers\":[{\"id\":\"14089\",\"type\":\"GlyphRenderer\"}],\"title\":{\"id\":\"14506\",\"type\":\"Title\"},\"toolbar\":{\"id\":\"14079\",\"type\":\"Toolbar\"},\"x_range\":{\"id\":\"14055\",\"type\":\"DataRange1d\"},\"x_scale\":{\"id\":\"14059\",\"type\":\"LinearScale\"},\"y_range\":{\"id\":\"14057\",\"type\":\"DataRange1d\"},\"y_scale\":{\"id\":\"14061\",\"type\":\"LinearScale\"}},\"id\":\"14054\",\"subtype\":\"Figure\",\"type\":\"Plot\"},{\"attributes\":{\"fill_alpha\":{\"value\":0.1},\"fill_color\":{\"value\":\"#1f77b4\"},\"line_alpha\":{\"value\":0.1},\"line_color\":{\"value\":\"#1f77b4\"},\"x\":{\"field\":\"x\"},\"y\":{\"field\":\"y\"}},\"id\":\"14088\",\"type\":\"Circle\"},{\"attributes\":{\"active_drag\":\"auto\",\"active_inspect\":\"auto\",\"active_multi\":null,\"active_scroll\":\"auto\",\"active_tap\":\"auto\",\"tools\":[{\"id\":\"14073\",\"type\":\"PanTool\"},{\"id\":\"14074\",\"type\":\"WheelZoomTool\"},{\"id\":\"14075\",\"type\":\"BoxZoomTool\"},{\"id\":\"14076\",\"type\":\"SaveTool\"},{\"id\":\"14077\",\"type\":\"ResetTool\"},{\"id\":\"14078\",\"type\":\"HelpTool\"}]},\"id\":\"14079\",\"type\":\"Toolbar\"},{\"attributes\":{\"source\":{\"id\":\"14086\",\"type\":\"ColumnDataSource\"}},\"id\":\"14090\",\"type\":\"CDSView\"},{\"attributes\":{},\"id\":\"14073\",\"type\":\"PanTool\"},{\"attributes\":{},\"id\":\"14074\",\"type\":\"WheelZoomTool\"},{\"attributes\":{\"callback\":null,\"data\":{\"x\":[1,2,3,4,5],\"y\":[2,5,8,2,7]},\"selected\":{\"id\":\"14513\",\"type\":\"Selection\"},\"selection_policy\":{\"id\":\"14512\",\"type\":\"UnionRenderers\"}},\"id\":\"14086\",\"type\":\"ColumnDataSource\"},{\"attributes\":{\"overlay\":{\"id\":\"14514\",\"type\":\"BoxAnnotation\"}},\"id\":\"14075\",\"type\":\"BoxZoomTool\"},{\"attributes\":{\"callback\":null},\"id\":\"14055\",\"type\":\"DataRange1d\"},{\"attributes\":{},\"id\":\"14076\",\"type\":\"SaveTool\"},{\"attributes\":{\"callback\":null},\"id\":\"14057\",\"type\":\"DataRange1d\"},{\"attributes\":{},\"id\":\"14077\",\"type\":\"ResetTool\"},{\"attributes\":{},\"id\":\"14069\",\"type\":\"BasicTicker\"},{\"attributes\":{\"formatter\":{\"id\":\"14510\",\"type\":\"BasicTickFormatter\"},\"ticker\":{\"id\":\"14064\",\"type\":\"BasicTicker\"}},\"id\":\"14063\",\"type\":\"LinearAxis\"},{\"attributes\":{},\"id\":\"14078\",\"type\":\"HelpTool\"},{\"attributes\":{},\"id\":\"14059\",\"type\":\"LinearScale\"},{\"attributes\":{},\"id\":\"14061\",\"type\":\"LinearScale\"},{\"attributes\":{\"text\":\"\"},\"id\":\"14506\",\"type\":\"Title\"},{\"attributes\":{\"fill_alpha\":{\"value\":0.2},\"fill_color\":{\"value\":\"#1f77b4\"},\"line_color\":{\"value\":\"firebrick\"},\"line_dash\":[5,1],\"line_width\":{\"value\":2},\"size\":{\"units\":\"screen\",\"value\":50},\"x\":{\"field\":\"x\"},\"y\":{\"field\":\"y\"}},\"id\":\"14087\",\"type\":\"Circle\"},{\"attributes\":{},\"id\":\"14064\",\"type\":\"BasicTicker\"},{\"attributes\":{\"bottom_units\":\"screen\",\"fill_alpha\":{\"value\":0.5},\"fill_color\":{\"value\":\"lightgrey\"},\"left_units\":\"screen\",\"level\":\"overlay\",\"line_alpha\":{\"value\":1.0},\"line_color\":{\"value\":\"black\"},\"line_dash\":[4,4],\"line_width\":{\"value\":2},\"render_mode\":\"css\",\"right_units\":\"screen\",\"top_units\":\"screen\"},\"id\":\"14514\",\"type\":\"BoxAnnotation\"},{\"attributes\":{\"ticker\":{\"id\":\"14064\",\"type\":\"BasicTicker\"}},\"id\":\"14067\",\"type\":\"Grid\"},{\"attributes\":{\"data_source\":{\"id\":\"14086\",\"type\":\"ColumnDataSource\"},\"glyph\":{\"id\":\"14087\",\"type\":\"Circle\"},\"hover_glyph\":null,\"muted_glyph\":null,\"nonselection_glyph\":{\"id\":\"14088\",\"type\":\"Circle\"},\"selection_glyph\":null,\"view\":{\"id\":\"14090\",\"type\":\"CDSView\"}},\"id\":\"14089\",\"type\":\"GlyphRenderer\"},{\"attributes\":{},\"id\":\"14508\",\"type\":\"BasicTickFormatter\"},{\"attributes\":{\"dimension\":1,\"ticker\":{\"id\":\"14069\",\"type\":\"BasicTicker\"}},\"id\":\"14072\",\"type\":\"Grid\"},{\"attributes\":{},\"id\":\"14513\",\"type\":\"Selection\"},{\"attributes\":{\"formatter\":{\"id\":\"14508\",\"type\":\"BasicTickFormatter\"},\"ticker\":{\"id\":\"14069\",\"type\":\"BasicTicker\"}},\"id\":\"14068\",\"type\":\"LinearAxis\"},{\"attributes\":{},\"id\":\"14512\",\"type\":\"UnionRenderers\"},{\"attributes\":{},\"id\":\"14510\",\"type\":\"BasicTickFormatter\"}],\"root_ids\":[\"14054\"]},\"title\":\"Bokeh Application\",\"version\":\"1.3.4\"}};\n",
       "  var render_items = [{\"docid\":\"5ba43a2e-9f60-4182-8533-415e105aed6a\",\"roots\":{\"14054\":\"0f5fce40-0ebc-45c5-82b0-660ffc4ddad7\"}}];\n",
       "  root.Bokeh.embed.embed_items_notebook(docs_json, render_items);\n",
       "\n",
       "  }\n",
       "  if (root.Bokeh !== undefined) {\n",
       "    embed_document(root);\n",
       "  } else {\n",
       "    var attempts = 0;\n",
       "    var timer = setInterval(function(root) {\n",
       "      if (root.Bokeh !== undefined) {\n",
       "        embed_document(root);\n",
       "        clearInterval(timer);\n",
       "      }\n",
       "      attempts++;\n",
       "      if (attempts > 100) {\n",
       "        console.log(\"Bokeh: ERROR: Unable to run BokehJS code because BokehJS library is missing\");\n",
       "        clearInterval(timer);\n",
       "      }\n",
       "    }, 10, root)\n",
       "  }\n",
       "})(window);"
      ],
      "application/vnd.bokehjs_exec.v0+json": ""
     },
     "metadata": {
      "application/vnd.bokehjs_exec.v0+json": {
       "id": "14054"
      }
     },
     "output_type": "display_data"
    }
   ],
   "source": [
    "p = figure(plot_width=400, plot_height=400)\n",
    "\n",
    "# keep a reference to the returned GlyphRenderer\n",
    "r = p.circle([1,2,3,4,5], [2,5,8,2,7])\n",
    "\n",
    "r.glyph.size = 50\n",
    "r.glyph.fill_alpha = 0.2\n",
    "r.glyph.line_color = \"firebrick\"\n",
    "r.glyph.line_dash = [5, 1]\n",
    "r.glyph.line_width = 2\n",
    "\n",
    "show(p)"
   ]
  },
  {
   "cell_type": "markdown",
   "metadata": {},
   "source": [
    "### Selection and non-selection visuals\n",
    "\n",
    "You can also control how glyphs look when there are selections involved. The set of \"selected\" points is displayed according to the optional `.selection_glyph` property of a `GlyphRenderer`:\n",
    "```python\n",
    "r.selection_glyph = Circle(fill_alpha=1, fill_color=\"firebrick\", line_color=None) \n",
    "```\n",
    "When there is a non-empty selection, the set of \"unselected: points is displayed according to the optional  `.nonselection_glyph` property of a `GlyphRenderer`:\n",
    "```python\n",
    "r.nonselection_glyph = Circle(fill_alpha=0.2, fill_color=\"grey\", line_color=None) \n",
    "```\n",
    "\n",
    "When using the `bokeh.plotting` interface, it is easier to pass these visual properties to the glyph methods as shown below. The glyph method will create the selection or nonselection glyphs and attach them to the renderer for you. "
   ]
  },
  {
   "cell_type": "code",
   "execution_count": 80,
   "metadata": {},
   "outputs": [
    {
     "data": {
      "text/html": [
       "\n",
       "\n",
       "\n",
       "\n",
       "\n",
       "\n",
       "  <div class=\"bk-root\" id=\"34f76188-ba71-400c-b7de-729d07c95211\" data-root-id=\"14569\"></div>\n"
      ]
     },
     "metadata": {},
     "output_type": "display_data"
    },
    {
     "data": {
      "application/javascript": [
       "(function(root) {\n",
       "  function embed_document(root) {\n",
       "    \n",
       "  var docs_json = {\"0a09f002-0223-4e80-a775-6021cbd905b9\":{\"roots\":{\"references\":[{\"attributes\":{\"below\":[{\"id\":\"14580\",\"type\":\"LinearAxis\"}],\"center\":[{\"id\":\"14584\",\"type\":\"Grid\"},{\"id\":\"14589\",\"type\":\"Grid\"}],\"left\":[{\"id\":\"14585\",\"type\":\"LinearAxis\"}],\"plot_height\":400,\"plot_width\":400,\"renderers\":[{\"id\":\"14597\",\"type\":\"GlyphRenderer\"}],\"title\":{\"id\":\"14570\",\"type\":\"Title\"},\"toolbar\":{\"id\":\"14591\",\"type\":\"Toolbar\"},\"x_range\":{\"id\":\"14572\",\"type\":\"DataRange1d\"},\"x_scale\":{\"id\":\"14576\",\"type\":\"LinearScale\"},\"y_range\":{\"id\":\"14574\",\"type\":\"DataRange1d\"},\"y_scale\":{\"id\":\"14578\",\"type\":\"LinearScale\"}},\"id\":\"14569\",\"subtype\":\"Figure\",\"type\":\"Plot\"},{\"attributes\":{\"active_drag\":\"auto\",\"active_inspect\":\"auto\",\"active_multi\":null,\"active_scroll\":\"auto\",\"active_tap\":\"auto\",\"tools\":[{\"id\":\"14590\",\"type\":\"TapTool\"}]},\"id\":\"14591\",\"type\":\"Toolbar\"},{\"attributes\":{\"dimension\":1,\"ticker\":{\"id\":\"14586\",\"type\":\"BasicTicker\"}},\"id\":\"14589\",\"type\":\"Grid\"},{\"attributes\":{},\"id\":\"14586\",\"type\":\"BasicTicker\"},{\"attributes\":{\"ticker\":{\"id\":\"14581\",\"type\":\"BasicTicker\"}},\"id\":\"14584\",\"type\":\"Grid\"},{\"attributes\":{\"callback\":null},\"id\":\"14590\",\"type\":\"TapTool\"},{\"attributes\":{},\"id\":\"14581\",\"type\":\"BasicTicker\"},{\"attributes\":{\"fill_alpha\":{\"value\":0.2},\"fill_color\":{\"value\":\"grey\"},\"line_color\":{\"value\":\"firebrick\"},\"size\":{\"units\":\"screen\",\"value\":50},\"x\":{\"field\":\"x\"},\"y\":{\"field\":\"y\"}},\"id\":\"14595\",\"type\":\"Circle\"},{\"attributes\":{\"fill_color\":{\"value\":\"#1f77b4\"},\"line_color\":{\"value\":\"#1f77b4\"},\"size\":{\"units\":\"screen\",\"value\":50},\"x\":{\"field\":\"x\"},\"y\":{\"field\":\"y\"}},\"id\":\"14594\",\"type\":\"Circle\"},{\"attributes\":{},\"id\":\"14578\",\"type\":\"LinearScale\"},{\"attributes\":{\"fill_color\":{\"value\":\"firebrick\"},\"line_color\":{\"value\":\"firebrick\"},\"size\":{\"units\":\"screen\",\"value\":50},\"x\":{\"field\":\"x\"},\"y\":{\"field\":\"y\"}},\"id\":\"14596\",\"type\":\"Circle\"},{\"attributes\":{\"data_source\":{\"id\":\"14593\",\"type\":\"ColumnDataSource\"},\"glyph\":{\"id\":\"14594\",\"type\":\"Circle\"},\"hover_glyph\":null,\"muted_glyph\":null,\"nonselection_glyph\":{\"id\":\"14595\",\"type\":\"Circle\"},\"selection_glyph\":{\"id\":\"14596\",\"type\":\"Circle\"},\"view\":{\"id\":\"14598\",\"type\":\"CDSView\"}},\"id\":\"14597\",\"type\":\"GlyphRenderer\"},{\"attributes\":{\"formatter\":{\"id\":\"15024\",\"type\":\"BasicTickFormatter\"},\"ticker\":{\"id\":\"14586\",\"type\":\"BasicTicker\"}},\"id\":\"14585\",\"type\":\"LinearAxis\"},{\"attributes\":{},\"id\":\"15026\",\"type\":\"BasicTickFormatter\"},{\"attributes\":{\"formatter\":{\"id\":\"15026\",\"type\":\"BasicTickFormatter\"},\"ticker\":{\"id\":\"14581\",\"type\":\"BasicTicker\"}},\"id\":\"14580\",\"type\":\"LinearAxis\"},{\"attributes\":{},\"id\":\"15028\",\"type\":\"UnionRenderers\"},{\"attributes\":{\"source\":{\"id\":\"14593\",\"type\":\"ColumnDataSource\"}},\"id\":\"14598\",\"type\":\"CDSView\"},{\"attributes\":{},\"id\":\"15024\",\"type\":\"BasicTickFormatter\"},{\"attributes\":{\"callback\":null},\"id\":\"14572\",\"type\":\"DataRange1d\"},{\"attributes\":{},\"id\":\"15029\",\"type\":\"Selection\"},{\"attributes\":{},\"id\":\"14576\",\"type\":\"LinearScale\"},{\"attributes\":{\"text\":\"Select a circle\"},\"id\":\"14570\",\"type\":\"Title\"},{\"attributes\":{\"callback\":null,\"data\":{\"x\":[1,2,3,4,5],\"y\":[2,5,8,2,7]},\"selected\":{\"id\":\"15029\",\"type\":\"Selection\"},\"selection_policy\":{\"id\":\"15028\",\"type\":\"UnionRenderers\"}},\"id\":\"14593\",\"type\":\"ColumnDataSource\"},{\"attributes\":{\"callback\":null},\"id\":\"14574\",\"type\":\"DataRange1d\"}],\"root_ids\":[\"14569\"]},\"title\":\"Bokeh Application\",\"version\":\"1.3.4\"}};\n",
       "  var render_items = [{\"docid\":\"0a09f002-0223-4e80-a775-6021cbd905b9\",\"roots\":{\"14569\":\"34f76188-ba71-400c-b7de-729d07c95211\"}}];\n",
       "  root.Bokeh.embed.embed_items_notebook(docs_json, render_items);\n",
       "\n",
       "  }\n",
       "  if (root.Bokeh !== undefined) {\n",
       "    embed_document(root);\n",
       "  } else {\n",
       "    var attempts = 0;\n",
       "    var timer = setInterval(function(root) {\n",
       "      if (root.Bokeh !== undefined) {\n",
       "        embed_document(root);\n",
       "        clearInterval(timer);\n",
       "      }\n",
       "      attempts++;\n",
       "      if (attempts > 100) {\n",
       "        console.log(\"Bokeh: ERROR: Unable to run BokehJS code because BokehJS library is missing\");\n",
       "        clearInterval(timer);\n",
       "      }\n",
       "    }, 10, root)\n",
       "  }\n",
       "})(window);"
      ],
      "application/vnd.bokehjs_exec.v0+json": ""
     },
     "metadata": {
      "application/vnd.bokehjs_exec.v0+json": {
       "id": "14569"
      }
     },
     "output_type": "display_data"
    }
   ],
   "source": [
    "p = figure(plot_width=400, plot_height=400, tools=\"tap\", title=\"Select a circle\")\n",
    "renderer = p.circle([1, 2, 3, 4, 5], [2, 5, 8, 2, 7], size=50,\n",
    "\n",
    "                    # set visual properties for selected glyphs\n",
    "                    selection_color=\"firebrick\",\n",
    "\n",
    "                    # set visual properties for non-selected glyphs\n",
    "                    nonselection_fill_alpha=0.2,\n",
    "                    nonselection_fill_color=\"grey\",\n",
    "                    nonselection_line_color=\"firebrick\",\n",
    "                    nonselection_line_alpha=1.0)\n",
    "\n",
    "show(p)"
   ]
  },
  {
   "cell_type": "markdown",
   "metadata": {},
   "source": [
    "It is also possible to specify the visual appearance of glyphs when they are \"inspected\", e.g. by a hover tool. This is accomplished by setting an optional `hover_glyph` on the glyph renderer:\n",
    "```python\n",
    "r.hover_glyph = Circle(fill_alpha=1, fill_color=\"firebrick\", line_color=None) \n",
    "```\n",
    "Or if using `bokeh.plotting` glyph methods, by passing `hover_fill_alpha`, etc. to the glyph method. Lets look at an example that works together with a `HoverTool` configured for \"hline\" hit-testing."
   ]
  },
  {
   "cell_type": "code",
   "execution_count": 83,
   "metadata": {},
   "outputs": [
    {
     "data": {
      "text/html": [
       "\n",
       "\n",
       "\n",
       "\n",
       "\n",
       "\n",
       "  <div class=\"bk-root\" id=\"8855f030-eca8-4c64-9ba2-c0720034409a\" data-root-id=\"15072\"></div>\n"
      ]
     },
     "metadata": {},
     "output_type": "display_data"
    },
    {
     "data": {
      "application/javascript": [
       "(function(root) {\n",
       "  function embed_document(root) {\n",
       "    \n",
       "  var docs_json = {\"45b55539-9e61-4e39-9176-c78f9aa0323c\":{\"roots\":{\"references\":[{\"attributes\":{\"below\":[{\"id\":\"15083\",\"type\":\"DatetimeAxis\"}],\"center\":[{\"id\":\"15087\",\"type\":\"Grid\"},{\"id\":\"15092\",\"type\":\"Grid\"}],\"left\":[{\"id\":\"15088\",\"type\":\"LinearAxis\"}],\"plot_height\":300,\"renderers\":[{\"id\":\"15109\",\"type\":\"GlyphRenderer\"},{\"id\":\"15115\",\"type\":\"GlyphRenderer\"}],\"title\":{\"id\":\"15073\",\"type\":\"Title\"},\"toolbar\":{\"id\":\"15099\",\"type\":\"Toolbar\"},\"x_range\":{\"id\":\"15075\",\"type\":\"DataRange1d\"},\"x_scale\":{\"id\":\"15079\",\"type\":\"LinearScale\"},\"y_range\":{\"id\":\"15077\",\"type\":\"DataRange1d\"},\"y_scale\":{\"id\":\"15081\",\"type\":\"LinearScale\"}},\"id\":\"15072\",\"subtype\":\"Figure\",\"type\":\"Plot\"},{\"attributes\":{\"callback\":null,\"data\":{\"x\":{\"__ndarray__\":\"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\",\"dtype\":\"float64\",\"shape\":[288]},\"y\":[143,147,150,152,152,152,154,155,142,140,138,134,131,130,128,127,126,126,126,126,127,129,131,132,134,136,136,136,136,135,134,132,130,130,130,129,128,127,125,124,123,123,122,121,120,118,115,112,111,111,110,110,109,108,107,107,107,108,107,105,105,105,105,104,103,102,99,97,96,94,94,93,93,92,91,92,94,95,96,97,99,102,104,112,112,112,111,110,107,104,105,105,103,99,96,94,95,102,114,128,144,160,173,185,196,205,209,214,219,226,234,241,248,255,260,265,268,270,272,271,271,268,265,261,256,253,250,246,244,241,237,233,229,225,222,204,200,197,193,190,186,182,179,175,171,168,164,158,154,151,148,145,141,133,139,152,173,196,217,233,244,249,250,253,256,260,263,265,265,264,260,254,246,234,217,200,188,181,175,169,164,159,154,147,138,132,129,127,123,117,111,106,104,103,100,94,88,83,78,75,73,71,69,68,67,67,68,70,71,71,70,69,68,67,67,67,66,67,69,71,74,76,78,80,80,80,80,80,80,82,84,87,90,92,87,87,86,86,86,86,87,87,87,85,83,82,83,87,95,107,118,130,141,149,172,179,187,201,214,221,225,230,232,230,223,216,208,199,191,185,181,177,176,177,176,173,171,169,163,154,152,153,154,154,153,151,150,150]},\"selected\":{\"id\":\"15568\",\"type\":\"Selection\"},\"selection_policy\":{\"id\":\"15567\",\"type\":\"UnionRenderers\"}},\"id\":\"15106\",\"type\":\"ColumnDataSource\"},{\"attributes\":{},\"id\":\"15094\",\"type\":\"WheelZoomTool\"},{\"attributes\":{\"overlay\":{\"id\":\"15571\",\"type\":\"BoxAnnotation\"}},\"id\":\"15095\",\"type\":\"BoxZoomTool\"},{\"attributes\":{\"months\":[0,1,2,3,4,5,6,7,8,9,10,11]},\"id\":\"15562\",\"type\":\"MonthsTicker\"},{\"attributes\":{},\"id\":\"15079\",\"type\":\"LinearScale\"},{\"attributes\":{\"line_alpha\":0.1,\"line_color\":\"#1f77b4\",\"line_dash\":[4,4],\"x\":{\"field\":\"x\"},\"y\":{\"field\":\"y\"}},\"id\":\"15108\",\"type\":\"Line\"},{\"attributes\":{},\"id\":\"15096\",\"type\":\"SaveTool\"},{\"attributes\":{\"days\":[1,2,3,4,5,6,7,8,9,10,11,12,13,14,15,16,17,18,19,20,21,22,23,24,25,26,27,28,29,30,31]},\"id\":\"15558\",\"type\":\"DaysTicker\"},{\"attributes\":{\"days\":[1,15]},\"id\":\"15561\",\"type\":\"DaysTicker\"},{\"attributes\":{},\"id\":\"15093\",\"type\":\"PanTool\"},{\"attributes\":{},\"id\":\"15097\",\"type\":\"ResetTool\"},{\"attributes\":{\"months\":[0,2,4,6,8,10]},\"id\":\"15563\",\"type\":\"MonthsTicker\"},{\"attributes\":{},\"id\":\"15098\",\"type\":\"HelpTool\"},{\"attributes\":{\"months\":[0,4,8]},\"id\":\"15564\",\"type\":\"MonthsTicker\"},{\"attributes\":{\"callback\":null},\"id\":\"15077\",\"type\":\"DataRange1d\"},{\"attributes\":{},\"id\":\"15081\",\"type\":\"LinearScale\"},{\"attributes\":{\"callback\":null,\"mode\":\"hline\",\"renderers\":[{\"id\":\"15115\",\"type\":\"GlyphRenderer\"}],\"tooltips\":null},\"id\":\"15117\",\"type\":\"HoverTool\"},{\"attributes\":{\"months\":[0,6]},\"id\":\"15565\",\"type\":\"MonthsTicker\"},{\"attributes\":{},\"id\":\"15553\",\"type\":\"DatetimeTickFormatter\"},{\"attributes\":{\"formatter\":{\"id\":\"15551\",\"type\":\"BasicTickFormatter\"},\"ticker\":{\"id\":\"15089\",\"type\":\"BasicTicker\"}},\"id\":\"15088\",\"type\":\"LinearAxis\"},{\"attributes\":{},\"id\":\"15568\",\"type\":\"Selection\"},{\"attributes\":{},\"id\":\"15566\",\"type\":\"YearsTicker\"},{\"attributes\":{\"fill_alpha\":{\"value\":0.3},\"fill_color\":{\"value\":\"firebrick\"},\"line_alpha\":{\"value\":0.3},\"line_color\":{\"value\":\"white\"},\"size\":{\"units\":\"screen\",\"value\":20},\"x\":{\"field\":\"x\"},\"y\":{\"field\":\"y\"}},\"id\":\"15114\",\"type\":\"Circle\"},{\"attributes\":{\"base\":24,\"mantissas\":[1,2,4,6,8,12],\"max_interval\":43200000.0,\"min_interval\":3600000.0,\"num_minor_ticks\":0},\"id\":\"15557\",\"type\":\"AdaptiveTicker\"},{\"attributes\":{\"formatter\":{\"id\":\"15553\",\"type\":\"DatetimeTickFormatter\"},\"ticker\":{\"id\":\"15084\",\"type\":\"DatetimeTicker\"}},\"id\":\"15083\",\"type\":\"DatetimeAxis\"},{\"attributes\":{},\"id\":\"15567\",\"type\":\"UnionRenderers\"},{\"attributes\":{\"ticker\":{\"id\":\"15084\",\"type\":\"DatetimeTicker\"}},\"id\":\"15087\",\"type\":\"Grid\"},{\"attributes\":{\"fill_alpha\":{\"value\":0.1},\"fill_color\":{\"value\":\"#1f77b4\"},\"line_alpha\":{\"value\":0.1},\"line_color\":{\"value\":\"#1f77b4\"},\"size\":{\"units\":\"screen\",\"value\":20},\"x\":{\"field\":\"x\"},\"y\":{\"field\":\"y\"}},\"id\":\"15113\",\"type\":\"Circle\"},{\"attributes\":{},\"id\":\"15569\",\"type\":\"UnionRenderers\"},{\"attributes\":{\"num_minor_ticks\":5,\"tickers\":[{\"id\":\"15555\",\"type\":\"AdaptiveTicker\"},{\"id\":\"15556\",\"type\":\"AdaptiveTicker\"},{\"id\":\"15557\",\"type\":\"AdaptiveTicker\"},{\"id\":\"15558\",\"type\":\"DaysTicker\"},{\"id\":\"15559\",\"type\":\"DaysTicker\"},{\"id\":\"15560\",\"type\":\"DaysTicker\"},{\"id\":\"15561\",\"type\":\"DaysTicker\"},{\"id\":\"15562\",\"type\":\"MonthsTicker\"},{\"id\":\"15563\",\"type\":\"MonthsTicker\"},{\"id\":\"15564\",\"type\":\"MonthsTicker\"},{\"id\":\"15565\",\"type\":\"MonthsTicker\"},{\"id\":\"15566\",\"type\":\"YearsTicker\"}]},\"id\":\"15084\",\"type\":\"DatetimeTicker\"},{\"attributes\":{},\"id\":\"15570\",\"type\":\"Selection\"},{\"attributes\":{},\"id\":\"15089\",\"type\":\"BasicTicker\"},{\"attributes\":{\"bottom_units\":\"screen\",\"fill_alpha\":{\"value\":0.5},\"fill_color\":{\"value\":\"lightgrey\"},\"left_units\":\"screen\",\"level\":\"overlay\",\"line_alpha\":{\"value\":1.0},\"line_color\":{\"value\":\"black\"},\"line_dash\":[4,4],\"line_width\":{\"value\":2},\"render_mode\":\"css\",\"right_units\":\"screen\",\"top_units\":\"screen\"},\"id\":\"15571\",\"type\":\"BoxAnnotation\"},{\"attributes\":{\"dimension\":1,\"ticker\":{\"id\":\"15089\",\"type\":\"BasicTicker\"}},\"id\":\"15092\",\"type\":\"Grid\"},{\"attributes\":{\"data_source\":{\"id\":\"15111\",\"type\":\"ColumnDataSource\"},\"glyph\":{\"id\":\"15112\",\"type\":\"Circle\"},\"hover_glyph\":{\"id\":\"15114\",\"type\":\"Circle\"},\"muted_glyph\":null,\"nonselection_glyph\":{\"id\":\"15113\",\"type\":\"Circle\"},\"selection_glyph\":null,\"view\":{\"id\":\"15116\",\"type\":\"CDSView\"}},\"id\":\"15115\",\"type\":\"GlyphRenderer\"},{\"attributes\":{\"fill_alpha\":{\"value\":0.05},\"fill_color\":{\"value\":\"grey\"},\"line_color\":{\"value\":null},\"size\":{\"units\":\"screen\",\"value\":20},\"x\":{\"field\":\"x\"},\"y\":{\"field\":\"y\"}},\"id\":\"15112\",\"type\":\"Circle\"},{\"attributes\":{\"callback\":null,\"data\":{\"x\":{\"__ndarray__\":\"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\",\"dtype\":\"float64\",\"shape\":[288]},\"y\":[143,147,150,152,152,152,154,155,142,140,138,134,131,130,128,127,126,126,126,126,127,129,131,132,134,136,136,136,136,135,134,132,130,130,130,129,128,127,125,124,123,123,122,121,120,118,115,112,111,111,110,110,109,108,107,107,107,108,107,105,105,105,105,104,103,102,99,97,96,94,94,93,93,92,91,92,94,95,96,97,99,102,104,112,112,112,111,110,107,104,105,105,103,99,96,94,95,102,114,128,144,160,173,185,196,205,209,214,219,226,234,241,248,255,260,265,268,270,272,271,271,268,265,261,256,253,250,246,244,241,237,233,229,225,222,204,200,197,193,190,186,182,179,175,171,168,164,158,154,151,148,145,141,133,139,152,173,196,217,233,244,249,250,253,256,260,263,265,265,264,260,254,246,234,217,200,188,181,175,169,164,159,154,147,138,132,129,127,123,117,111,106,104,103,100,94,88,83,78,75,73,71,69,68,67,67,68,70,71,71,70,69,68,67,67,67,66,67,69,71,74,76,78,80,80,80,80,80,80,82,84,87,90,92,87,87,86,86,86,86,87,87,87,85,83,82,83,87,95,107,118,130,141,149,172,179,187,201,214,221,225,230,232,230,223,216,208,199,191,185,181,177,176,177,176,173,171,169,163,154,152,153,154,154,153,151,150,150]},\"selected\":{\"id\":\"15570\",\"type\":\"Selection\"},\"selection_policy\":{\"id\":\"15569\",\"type\":\"UnionRenderers\"}},\"id\":\"15111\",\"type\":\"ColumnDataSource\"},{\"attributes\":{\"source\":{\"id\":\"15111\",\"type\":\"ColumnDataSource\"}},\"id\":\"15116\",\"type\":\"CDSView\"},{\"attributes\":{\"days\":[1,8,15,22]},\"id\":\"15560\",\"type\":\"DaysTicker\"},{\"attributes\":{\"data_source\":{\"id\":\"15106\",\"type\":\"ColumnDataSource\"},\"glyph\":{\"id\":\"15107\",\"type\":\"Line\"},\"hover_glyph\":null,\"muted_glyph\":null,\"nonselection_glyph\":{\"id\":\"15108\",\"type\":\"Line\"},\"selection_glyph\":null,\"view\":{\"id\":\"15110\",\"type\":\"CDSView\"}},\"id\":\"15109\",\"type\":\"GlyphRenderer\"},{\"attributes\":{\"days\":[1,4,7,10,13,16,19,22,25,28]},\"id\":\"15559\",\"type\":\"DaysTicker\"},{\"attributes\":{\"line_color\":\"gray\",\"line_dash\":[4,4],\"x\":{\"field\":\"x\"},\"y\":{\"field\":\"y\"}},\"id\":\"15107\",\"type\":\"Line\"},{\"attributes\":{\"active_drag\":\"auto\",\"active_inspect\":\"auto\",\"active_multi\":null,\"active_scroll\":\"auto\",\"active_tap\":\"auto\",\"tools\":[{\"id\":\"15093\",\"type\":\"PanTool\"},{\"id\":\"15094\",\"type\":\"WheelZoomTool\"},{\"id\":\"15095\",\"type\":\"BoxZoomTool\"},{\"id\":\"15096\",\"type\":\"SaveTool\"},{\"id\":\"15097\",\"type\":\"ResetTool\"},{\"id\":\"15098\",\"type\":\"HelpTool\"},{\"id\":\"15117\",\"type\":\"HoverTool\"}]},\"id\":\"15099\",\"type\":\"Toolbar\"},{\"attributes\":{\"base\":60,\"mantissas\":[1,2,5,10,15,20,30],\"max_interval\":1800000.0,\"min_interval\":1000.0,\"num_minor_ticks\":0},\"id\":\"15556\",\"type\":\"AdaptiveTicker\"},{\"attributes\":{\"callback\":null},\"id\":\"15075\",\"type\":\"DataRange1d\"},{\"attributes\":{\"mantissas\":[1,2,5],\"max_interval\":500.0,\"num_minor_ticks\":0},\"id\":\"15555\",\"type\":\"AdaptiveTicker\"},{\"attributes\":{\"source\":{\"id\":\"15106\",\"type\":\"ColumnDataSource\"}},\"id\":\"15110\",\"type\":\"CDSView\"},{\"attributes\":{},\"id\":\"15551\",\"type\":\"BasicTickFormatter\"},{\"attributes\":{\"text\":\"Hover over points\"},\"id\":\"15073\",\"type\":\"Title\"}],\"root_ids\":[\"15072\"]},\"title\":\"Bokeh Application\",\"version\":\"1.3.4\"}};\n",
       "  var render_items = [{\"docid\":\"45b55539-9e61-4e39-9176-c78f9aa0323c\",\"roots\":{\"15072\":\"8855f030-eca8-4c64-9ba2-c0720034409a\"}}];\n",
       "  root.Bokeh.embed.embed_items_notebook(docs_json, render_items);\n",
       "\n",
       "  }\n",
       "  if (root.Bokeh !== undefined) {\n",
       "    embed_document(root);\n",
       "  } else {\n",
       "    var attempts = 0;\n",
       "    var timer = setInterval(function(root) {\n",
       "      if (root.Bokeh !== undefined) {\n",
       "        embed_document(root);\n",
       "        clearInterval(timer);\n",
       "      }\n",
       "      attempts++;\n",
       "      if (attempts > 100) {\n",
       "        console.log(\"Bokeh: ERROR: Unable to run BokehJS code because BokehJS library is missing\");\n",
       "        clearInterval(timer);\n",
       "      }\n",
       "    }, 10, root)\n",
       "  }\n",
       "})(window);"
      ],
      "application/vnd.bokehjs_exec.v0+json": ""
     },
     "metadata": {
      "application/vnd.bokehjs_exec.v0+json": {
       "id": "15072"
      }
     },
     "output_type": "display_data"
    }
   ],
   "source": [
    "from bokeh.models.tools import HoverTool\n",
    "from bokeh.sampledata.glucose import data\n",
    "\n",
    "subset = data.loc['2010-10-06']\n",
    "\n",
    "x, y = subset.index.to_series(), subset['glucose']\n",
    "\n",
    "# Basic plot setup\n",
    "p = figure(width=600, height=300, x_axis_type=\"datetime\", title='Hover over points')\n",
    "\n",
    "p.line(x, y, line_dash=\"4 4\", line_width=1, color='gray')\n",
    "\n",
    "cr = p.circle(x, y, size=20,\n",
    "              fill_color=\"grey\", hover_fill_color=\"firebrick\",\n",
    "              fill_alpha=0.05, hover_alpha=0.3,\n",
    "              line_color=None, hover_line_color=\"white\")\n",
    "\n",
    "p.add_tools(HoverTool(tooltips=None, renderers=[cr], mode='hline'))\n",
    "\n",
    "show(p)"
   ]
  },
  {
   "cell_type": "code",
   "execution_count": 84,
   "metadata": {},
   "outputs": [],
   "source": [
    "# EXERCISE: experiment with standard, selected, hover glyph visual properties\n",
    "\n"
   ]
  },
  {
   "cell_type": "markdown",
   "metadata": {},
   "source": [
    "# Axes\n",
    "\n",
    "[Axes](http://bokeh.pydata.org/en/latest/docs/user_guide/styling.html#axes)\n",
    "\n",
    "To style axes, you first must get ahold of `Axis` objects. The simplest way is to use some convenience methods on `Plot`: [axis](http://bokeh.pydata.org/en/latest/docs/reference/plotting.html#bokeh.plotting.Figure.axis), [xaxis](http://bokeh.pydata.org/en/latest/docs/reference/plotting.html#bokeh.plotting.Figure.xaxis), and [yaxis](http://bokeh.pydata.org/en/latest/docs/reference/plotting.html#bokeh.plotting.Figure.yaxis). These methods return lists of axis objects:\n",
    "\n",
    "```\n",
    ">>> p.xaxis\n",
    "[<bokeh.models.axes.LinearAxis at 0x106fa2390>]\n",
    "```\n",
    "However, you can set properties on all the elements of the list as if it was a single object:\n",
    "```\n",
    "p.xaxis.axis_label = \"Temperature\"\n",
    "p.axis.major_label_text_color = \"orange\"\n",
    "```\n",
    "These are referred to as \"splattable\" lists, and tab completion works on them as well. \n"
   ]
  },
  {
   "cell_type": "code",
   "execution_count": 85,
   "metadata": {},
   "outputs": [],
   "source": [
    "# EXERCISE Try out tab completion. Type p.xaxis.<press tab key> to see a list of attributes that can be set.\n",
    "\n"
   ]
  },
  {
   "cell_type": "markdown",
   "metadata": {},
   "source": [
    "* **axis** \n",
    " - [line properties](http://bokeh.pydata.org/en/latest/docs/user_guide/styling.html#line-properties)\n",
    "* **axis_label** \n",
    " - [text properties](http://bokeh.pydata.org/en/latest/docs/user_guide/styling.html#text-properties)\n",
    " - ``axis_label_standoff``\n",
    "* **major_label** \n",
    " - [text properties](http://bokeh.pydata.org/en/latest/docs/user_guide/styling.html#text-properties)\n",
    " - ``orientation``\n",
    "* **major_tick** \n",
    " - [line_properties](http://bokeh.pydata.org/en/latest/docs/user_guide/styling.html#line-properties)\n",
    " - ``major_tick_in`` \n",
    " - ``major_tick_out``\n",
    "* **minor_tick** \n",
    " - [line properties](http://bokeh.pydata.org/en/latest/docs/user_guide/styling.html#line-properties)\n",
    " - ``minor_tick_in``\n",
    " - ``minor_tick_out``\n",
    "\n",
    "As a simple first example, let's change the orientation of the major tick labels on both axes of a plot:"
   ]
  },
  {
   "cell_type": "code",
   "execution_count": 86,
   "metadata": {},
   "outputs": [
    {
     "data": {
      "text/html": [
       "\n",
       "\n",
       "\n",
       "\n",
       "\n",
       "\n",
       "  <div class=\"bk-root\" id=\"d1f2aa05-3d99-4224-90a9-0fe32deec2ee\" data-root-id=\"15704\"></div>\n"
      ]
     },
     "metadata": {},
     "output_type": "display_data"
    },
    {
     "data": {
      "application/javascript": [
       "(function(root) {\n",
       "  function embed_document(root) {\n",
       "    \n",
       "  var docs_json = {\"567a659b-e2c9-4e9a-87d3-24d1c6379a7e\":{\"roots\":{\"references\":[{\"attributes\":{\"below\":[{\"id\":\"15713\",\"type\":\"LinearAxis\"}],\"center\":[{\"id\":\"15717\",\"type\":\"Grid\"},{\"id\":\"15722\",\"type\":\"Grid\"}],\"left\":[{\"id\":\"15718\",\"type\":\"LinearAxis\"}],\"plot_height\":400,\"plot_width\":400,\"renderers\":[{\"id\":\"15739\",\"type\":\"GlyphRenderer\"}],\"title\":{\"id\":\"16194\",\"type\":\"Title\"},\"toolbar\":{\"id\":\"15729\",\"type\":\"Toolbar\"},\"x_range\":{\"id\":\"15705\",\"type\":\"DataRange1d\"},\"x_scale\":{\"id\":\"15709\",\"type\":\"LinearScale\"},\"y_range\":{\"id\":\"15707\",\"type\":\"DataRange1d\"},\"y_scale\":{\"id\":\"15711\",\"type\":\"LinearScale\"}},\"id\":\"15704\",\"subtype\":\"Figure\",\"type\":\"Plot\"},{\"attributes\":{\"callback\":null},\"id\":\"15705\",\"type\":\"DataRange1d\"},{\"attributes\":{\"callback\":null,\"data\":{\"x\":[1,2,3,4,5],\"y\":[2,5,8,2,7]},\"selected\":{\"id\":\"16201\",\"type\":\"Selection\"},\"selection_policy\":{\"id\":\"16200\",\"type\":\"UnionRenderers\"}},\"id\":\"15736\",\"type\":\"ColumnDataSource\"},{\"attributes\":{\"overlay\":{\"id\":\"16202\",\"type\":\"BoxAnnotation\"}},\"id\":\"15725\",\"type\":\"BoxZoomTool\"},{\"attributes\":{},\"id\":\"15709\",\"type\":\"LinearScale\"},{\"attributes\":{\"callback\":null},\"id\":\"15707\",\"type\":\"DataRange1d\"},{\"attributes\":{},\"id\":\"15726\",\"type\":\"SaveTool\"},{\"attributes\":{},\"id\":\"15727\",\"type\":\"ResetTool\"},{\"attributes\":{},\"id\":\"15719\",\"type\":\"BasicTicker\"},{\"attributes\":{\"formatter\":{\"id\":\"16198\",\"type\":\"BasicTickFormatter\"},\"major_label_orientation\":0.7853981633974483,\"ticker\":{\"id\":\"15714\",\"type\":\"BasicTicker\"}},\"id\":\"15713\",\"type\":\"LinearAxis\"},{\"attributes\":{},\"id\":\"15711\",\"type\":\"LinearScale\"},{\"attributes\":{},\"id\":\"16196\",\"type\":\"BasicTickFormatter\"},{\"attributes\":{},\"id\":\"15728\",\"type\":\"HelpTool\"},{\"attributes\":{\"active_drag\":\"auto\",\"active_inspect\":\"auto\",\"active_multi\":null,\"active_scroll\":\"auto\",\"active_tap\":\"auto\",\"tools\":[{\"id\":\"15723\",\"type\":\"PanTool\"},{\"id\":\"15724\",\"type\":\"WheelZoomTool\"},{\"id\":\"15725\",\"type\":\"BoxZoomTool\"},{\"id\":\"15726\",\"type\":\"SaveTool\"},{\"id\":\"15727\",\"type\":\"ResetTool\"},{\"id\":\"15728\",\"type\":\"HelpTool\"}]},\"id\":\"15729\",\"type\":\"Toolbar\"},{\"attributes\":{\"text\":\"\"},\"id\":\"16194\",\"type\":\"Title\"},{\"attributes\":{},\"id\":\"16200\",\"type\":\"UnionRenderers\"},{\"attributes\":{},\"id\":\"15714\",\"type\":\"BasicTicker\"},{\"attributes\":{\"bottom_units\":\"screen\",\"fill_alpha\":{\"value\":0.5},\"fill_color\":{\"value\":\"lightgrey\"},\"left_units\":\"screen\",\"level\":\"overlay\",\"line_alpha\":{\"value\":1.0},\"line_color\":{\"value\":\"black\"},\"line_dash\":[4,4],\"line_width\":{\"value\":2},\"render_mode\":\"css\",\"right_units\":\"screen\",\"top_units\":\"screen\"},\"id\":\"16202\",\"type\":\"BoxAnnotation\"},{\"attributes\":{\"ticker\":{\"id\":\"15714\",\"type\":\"BasicTicker\"}},\"id\":\"15717\",\"type\":\"Grid\"},{\"attributes\":{\"source\":{\"id\":\"15736\",\"type\":\"ColumnDataSource\"}},\"id\":\"15740\",\"type\":\"CDSView\"},{\"attributes\":{\"dimension\":1,\"ticker\":{\"id\":\"15719\",\"type\":\"BasicTicker\"}},\"id\":\"15722\",\"type\":\"Grid\"},{\"attributes\":{\"formatter\":{\"id\":\"16196\",\"type\":\"BasicTickFormatter\"},\"major_label_orientation\":\"vertical\",\"ticker\":{\"id\":\"15719\",\"type\":\"BasicTicker\"}},\"id\":\"15718\",\"type\":\"LinearAxis\"},{\"attributes\":{\"fill_alpha\":{\"value\":0.1},\"fill_color\":{\"value\":\"#1f77b4\"},\"line_alpha\":{\"value\":0.1},\"line_color\":{\"value\":\"#1f77b4\"},\"line_width\":{\"value\":2},\"size\":{\"units\":\"screen\",\"value\":10},\"x\":{\"field\":\"x\"},\"y\":{\"field\":\"y\"}},\"id\":\"15738\",\"type\":\"X\"},{\"attributes\":{},\"id\":\"16201\",\"type\":\"Selection\"},{\"attributes\":{},\"id\":\"16198\",\"type\":\"BasicTickFormatter\"},{\"attributes\":{\"data_source\":{\"id\":\"15736\",\"type\":\"ColumnDataSource\"},\"glyph\":{\"id\":\"15737\",\"type\":\"X\"},\"hover_glyph\":null,\"muted_glyph\":null,\"nonselection_glyph\":{\"id\":\"15738\",\"type\":\"X\"},\"selection_glyph\":null,\"view\":{\"id\":\"15740\",\"type\":\"CDSView\"}},\"id\":\"15739\",\"type\":\"GlyphRenderer\"},{\"attributes\":{\"fill_color\":{\"value\":\"#1f77b4\"},\"line_color\":{\"value\":\"#1f77b4\"},\"line_width\":{\"value\":2},\"size\":{\"units\":\"screen\",\"value\":10},\"x\":{\"field\":\"x\"},\"y\":{\"field\":\"y\"}},\"id\":\"15737\",\"type\":\"X\"},{\"attributes\":{},\"id\":\"15723\",\"type\":\"PanTool\"},{\"attributes\":{},\"id\":\"15724\",\"type\":\"WheelZoomTool\"}],\"root_ids\":[\"15704\"]},\"title\":\"Bokeh Application\",\"version\":\"1.3.4\"}};\n",
       "  var render_items = [{\"docid\":\"567a659b-e2c9-4e9a-87d3-24d1c6379a7e\",\"roots\":{\"15704\":\"d1f2aa05-3d99-4224-90a9-0fe32deec2ee\"}}];\n",
       "  root.Bokeh.embed.embed_items_notebook(docs_json, render_items);\n",
       "\n",
       "  }\n",
       "  if (root.Bokeh !== undefined) {\n",
       "    embed_document(root);\n",
       "  } else {\n",
       "    var attempts = 0;\n",
       "    var timer = setInterval(function(root) {\n",
       "      if (root.Bokeh !== undefined) {\n",
       "        embed_document(root);\n",
       "        clearInterval(timer);\n",
       "      }\n",
       "      attempts++;\n",
       "      if (attempts > 100) {\n",
       "        console.log(\"Bokeh: ERROR: Unable to run BokehJS code because BokehJS library is missing\");\n",
       "        clearInterval(timer);\n",
       "      }\n",
       "    }, 10, root)\n",
       "  }\n",
       "})(window);"
      ],
      "application/vnd.bokehjs_exec.v0+json": ""
     },
     "metadata": {
      "application/vnd.bokehjs_exec.v0+json": {
       "id": "15704"
      }
     },
     "output_type": "display_data"
    }
   ],
   "source": [
    "from math import pi\n",
    "\n",
    "p = figure(plot_width=400, plot_height=400)\n",
    "p.x([1,2,3,4,5], [2,5,8,2,7], size=10, line_width=2)\n",
    "\n",
    "p.xaxis.major_label_orientation = pi/4\n",
    "p.yaxis.major_label_orientation = \"vertical\"\n",
    "\n",
    "show(p)"
   ]
  },
  {
   "cell_type": "code",
   "execution_count": 87,
   "metadata": {},
   "outputs": [
    {
     "data": {
      "text/html": [
       "\n",
       "\n",
       "\n",
       "\n",
       "\n",
       "\n",
       "  <div class=\"bk-root\" id=\"471e4f0a-0dbc-4a2e-bb57-d1f1dc928272\" data-root-id=\"16257\"></div>\n"
      ]
     },
     "metadata": {},
     "output_type": "display_data"
    },
    {
     "data": {
      "application/javascript": [
       "(function(root) {\n",
       "  function embed_document(root) {\n",
       "    \n",
       "  var docs_json = {\"ff28d60c-8c11-444c-a1ac-aca0ccddc1c7\":{\"roots\":{\"references\":[{\"attributes\":{\"below\":[{\"id\":\"16266\",\"type\":\"LinearAxis\"}],\"center\":[{\"id\":\"16270\",\"type\":\"Grid\"},{\"id\":\"16275\",\"type\":\"Grid\"}],\"left\":[{\"id\":\"16271\",\"type\":\"LinearAxis\"}],\"plot_height\":400,\"plot_width\":400,\"renderers\":[{\"id\":\"16292\",\"type\":\"GlyphRenderer\"}],\"title\":{\"id\":\"16756\",\"type\":\"Title\"},\"toolbar\":{\"id\":\"16282\",\"type\":\"Toolbar\"},\"x_range\":{\"id\":\"16258\",\"type\":\"DataRange1d\"},\"x_scale\":{\"id\":\"16262\",\"type\":\"LinearScale\"},\"y_range\":{\"id\":\"16260\",\"type\":\"DataRange1d\"},\"y_scale\":{\"id\":\"16264\",\"type\":\"LinearScale\"}},\"id\":\"16257\",\"subtype\":\"Figure\",\"type\":\"Plot\"},{\"attributes\":{\"fill_color\":{\"value\":\"olive\"},\"line_color\":{\"value\":\"olive\"},\"size\":{\"units\":\"screen\",\"value\":12},\"x\":{\"field\":\"x\"},\"y\":{\"field\":\"y\"}},\"id\":\"16290\",\"type\":\"Asterisk\"},{\"attributes\":{\"overlay\":{\"id\":\"16764\",\"type\":\"BoxAnnotation\"}},\"id\":\"16278\",\"type\":\"BoxZoomTool\"},{\"attributes\":{\"axis_label\":\"Pressure\",\"formatter\":{\"id\":\"16758\",\"type\":\"BasicTickFormatter\"},\"major_label_orientation\":\"vertical\",\"major_label_text_color\":{\"value\":\"orange\"},\"minor_tick_in\":-3,\"minor_tick_out\":6,\"ticker\":{\"id\":\"16272\",\"type\":\"BasicTicker\"}},\"id\":\"16271\",\"type\":\"LinearAxis\"},{\"attributes\":{},\"id\":\"16279\",\"type\":\"SaveTool\"},{\"attributes\":{\"source\":{\"id\":\"16289\",\"type\":\"ColumnDataSource\"}},\"id\":\"16293\",\"type\":\"CDSView\"},{\"attributes\":{},\"id\":\"16280\",\"type\":\"ResetTool\"},{\"attributes\":{},\"id\":\"16276\",\"type\":\"PanTool\"},{\"attributes\":{},\"id\":\"16281\",\"type\":\"HelpTool\"},{\"attributes\":{\"axis_label\":\"Temp\",\"axis_line_color\":{\"value\":\"red\"},\"axis_line_width\":{\"value\":3},\"formatter\":{\"id\":\"16760\",\"type\":\"BasicTickFormatter\"},\"minor_tick_in\":-3,\"minor_tick_out\":6,\"ticker\":{\"id\":\"16267\",\"type\":\"BasicTicker\"}},\"id\":\"16266\",\"type\":\"LinearAxis\"},{\"attributes\":{\"text\":\"\"},\"id\":\"16756\",\"type\":\"Title\"},{\"attributes\":{\"active_drag\":\"auto\",\"active_inspect\":\"auto\",\"active_multi\":null,\"active_scroll\":\"auto\",\"active_tap\":\"auto\",\"tools\":[{\"id\":\"16276\",\"type\":\"PanTool\"},{\"id\":\"16277\",\"type\":\"WheelZoomTool\"},{\"id\":\"16278\",\"type\":\"BoxZoomTool\"},{\"id\":\"16279\",\"type\":\"SaveTool\"},{\"id\":\"16280\",\"type\":\"ResetTool\"},{\"id\":\"16281\",\"type\":\"HelpTool\"}]},\"id\":\"16282\",\"type\":\"Toolbar\"},{\"attributes\":{},\"id\":\"16762\",\"type\":\"UnionRenderers\"},{\"attributes\":{},\"id\":\"16264\",\"type\":\"LinearScale\"},{\"attributes\":{\"callback\":null},\"id\":\"16260\",\"type\":\"DataRange1d\"},{\"attributes\":{},\"id\":\"16758\",\"type\":\"BasicTickFormatter\"},{\"attributes\":{},\"id\":\"16272\",\"type\":\"BasicTicker\"},{\"attributes\":{\"bottom_units\":\"screen\",\"fill_alpha\":{\"value\":0.5},\"fill_color\":{\"value\":\"lightgrey\"},\"left_units\":\"screen\",\"level\":\"overlay\",\"line_alpha\":{\"value\":1.0},\"line_color\":{\"value\":\"black\"},\"line_dash\":[4,4],\"line_width\":{\"value\":2},\"render_mode\":\"css\",\"right_units\":\"screen\",\"top_units\":\"screen\"},\"id\":\"16764\",\"type\":\"BoxAnnotation\"},{\"attributes\":{\"data_source\":{\"id\":\"16289\",\"type\":\"ColumnDataSource\"},\"glyph\":{\"id\":\"16290\",\"type\":\"Asterisk\"},\"hover_glyph\":null,\"muted_glyph\":null,\"nonselection_glyph\":{\"id\":\"16291\",\"type\":\"Asterisk\"},\"selection_glyph\":null,\"view\":{\"id\":\"16293\",\"type\":\"CDSView\"}},\"id\":\"16292\",\"type\":\"GlyphRenderer\"},{\"attributes\":{},\"id\":\"16763\",\"type\":\"Selection\"},{\"attributes\":{\"fill_alpha\":{\"value\":0.1},\"fill_color\":{\"value\":\"#1f77b4\"},\"line_alpha\":{\"value\":0.1},\"line_color\":{\"value\":\"#1f77b4\"},\"size\":{\"units\":\"screen\",\"value\":12},\"x\":{\"field\":\"x\"},\"y\":{\"field\":\"y\"}},\"id\":\"16291\",\"type\":\"Asterisk\"},{\"attributes\":{\"callback\":null,\"data\":{\"x\":[1,2,3,4,5],\"y\":[2,5,8,2,7]},\"selected\":{\"id\":\"16763\",\"type\":\"Selection\"},\"selection_policy\":{\"id\":\"16762\",\"type\":\"UnionRenderers\"}},\"id\":\"16289\",\"type\":\"ColumnDataSource\"},{\"attributes\":{},\"id\":\"16760\",\"type\":\"BasicTickFormatter\"},{\"attributes\":{},\"id\":\"16277\",\"type\":\"WheelZoomTool\"},{\"attributes\":{\"ticker\":{\"id\":\"16267\",\"type\":\"BasicTicker\"}},\"id\":\"16270\",\"type\":\"Grid\"},{\"attributes\":{},\"id\":\"16267\",\"type\":\"BasicTicker\"},{\"attributes\":{},\"id\":\"16262\",\"type\":\"LinearScale\"},{\"attributes\":{\"dimension\":1,\"ticker\":{\"id\":\"16272\",\"type\":\"BasicTicker\"}},\"id\":\"16275\",\"type\":\"Grid\"},{\"attributes\":{\"callback\":null},\"id\":\"16258\",\"type\":\"DataRange1d\"}],\"root_ids\":[\"16257\"]},\"title\":\"Bokeh Application\",\"version\":\"1.3.4\"}};\n",
       "  var render_items = [{\"docid\":\"ff28d60c-8c11-444c-a1ac-aca0ccddc1c7\",\"roots\":{\"16257\":\"471e4f0a-0dbc-4a2e-bb57-d1f1dc928272\"}}];\n",
       "  root.Bokeh.embed.embed_items_notebook(docs_json, render_items);\n",
       "\n",
       "  }\n",
       "  if (root.Bokeh !== undefined) {\n",
       "    embed_document(root);\n",
       "  } else {\n",
       "    var attempts = 0;\n",
       "    var timer = setInterval(function(root) {\n",
       "      if (root.Bokeh !== undefined) {\n",
       "        embed_document(root);\n",
       "        clearInterval(timer);\n",
       "      }\n",
       "      attempts++;\n",
       "      if (attempts > 100) {\n",
       "        console.log(\"Bokeh: ERROR: Unable to run BokehJS code because BokehJS library is missing\");\n",
       "        clearInterval(timer);\n",
       "      }\n",
       "    }, 10, root)\n",
       "  }\n",
       "})(window);"
      ],
      "application/vnd.bokehjs_exec.v0+json": ""
     },
     "metadata": {
      "application/vnd.bokehjs_exec.v0+json": {
       "id": "16257"
      }
     },
     "output_type": "display_data"
    }
   ],
   "source": [
    "p = figure(plot_width=400, plot_height=400)\n",
    "p.asterisk([1,2,3,4,5], [2,5,8,2,7], size=12, color=\"olive\")\n",
    "\n",
    "# change just some things about the x-axes\n",
    "p.xaxis.axis_label = \"Temp\"\n",
    "p.xaxis.axis_line_width = 3\n",
    "p.xaxis.axis_line_color = \"red\"\n",
    "\n",
    "# change just some things about the y-axes\n",
    "p.yaxis.axis_label = \"Pressure\"\n",
    "p.yaxis.major_label_text_color = \"orange\"\n",
    "p.yaxis.major_label_orientation = \"vertical\"\n",
    "\n",
    "# change things on all axes\n",
    "p.axis.minor_tick_in = -3\n",
    "p.axis.minor_tick_out = 6\n",
    "\n",
    "show(p)"
   ]
  },
  {
   "cell_type": "markdown",
   "metadata": {},
   "source": [
    "### Grids\n",
    "\n",
    "- line properties\n",
    "- band fill properties"
   ]
  },
  {
   "cell_type": "code",
   "execution_count": 88,
   "metadata": {},
   "outputs": [
    {
     "data": {
      "text/html": [
       "\n",
       "\n",
       "\n",
       "\n",
       "\n",
       "\n",
       "  <div class=\"bk-root\" id=\"4f3922d9-c773-4650-9a42-5e0f9d04b61d\" data-root-id=\"16819\"></div>\n"
      ]
     },
     "metadata": {},
     "output_type": "display_data"
    },
    {
     "data": {
      "application/javascript": [
       "(function(root) {\n",
       "  function embed_document(root) {\n",
       "    \n",
       "  var docs_json = {\"715cfab3-e8a4-43e9-893f-5816f0085b26\":{\"roots\":{\"references\":[{\"attributes\":{\"below\":[{\"id\":\"16828\",\"type\":\"LinearAxis\"}],\"center\":[{\"id\":\"16832\",\"type\":\"Grid\"},{\"id\":\"16837\",\"type\":\"Grid\"}],\"left\":[{\"id\":\"16833\",\"type\":\"LinearAxis\"}],\"plot_height\":400,\"plot_width\":400,\"renderers\":[{\"id\":\"16854\",\"type\":\"GlyphRenderer\"}],\"title\":{\"id\":\"17327\",\"type\":\"Title\"},\"toolbar\":{\"id\":\"16844\",\"type\":\"Toolbar\"},\"x_range\":{\"id\":\"16820\",\"type\":\"DataRange1d\"},\"x_scale\":{\"id\":\"16824\",\"type\":\"LinearScale\"},\"y_range\":{\"id\":\"16822\",\"type\":\"DataRange1d\"},\"y_scale\":{\"id\":\"16826\",\"type\":\"LinearScale\"}},\"id\":\"16819\",\"subtype\":\"Figure\",\"type\":\"Plot\"},{\"attributes\":{},\"id\":\"16838\",\"type\":\"PanTool\"},{\"attributes\":{\"callback\":null},\"id\":\"16820\",\"type\":\"DataRange1d\"},{\"attributes\":{\"data_source\":{\"id\":\"16851\",\"type\":\"ColumnDataSource\"},\"glyph\":{\"id\":\"16852\",\"type\":\"Circle\"},\"hover_glyph\":null,\"muted_glyph\":null,\"nonselection_glyph\":{\"id\":\"16853\",\"type\":\"Circle\"},\"selection_glyph\":null,\"view\":{\"id\":\"16855\",\"type\":\"CDSView\"}},\"id\":\"16854\",\"type\":\"GlyphRenderer\"},{\"attributes\":{\"formatter\":{\"id\":\"17331\",\"type\":\"BasicTickFormatter\"},\"ticker\":{\"id\":\"16829\",\"type\":\"BasicTicker\"}},\"id\":\"16828\",\"type\":\"LinearAxis\"},{\"attributes\":{\"text\":\"\"},\"id\":\"17327\",\"type\":\"Title\"},{\"attributes\":{},\"id\":\"16842\",\"type\":\"ResetTool\"},{\"attributes\":{\"grid_line_color\":null,\"ticker\":{\"id\":\"16829\",\"type\":\"BasicTicker\"}},\"id\":\"16832\",\"type\":\"Grid\"},{\"attributes\":{\"formatter\":{\"id\":\"17329\",\"type\":\"BasicTickFormatter\"},\"ticker\":{\"id\":\"16834\",\"type\":\"BasicTicker\"}},\"id\":\"16833\",\"type\":\"LinearAxis\"},{\"attributes\":{\"fill_alpha\":{\"value\":0.1},\"fill_color\":{\"value\":\"#1f77b4\"},\"line_alpha\":{\"value\":0.1},\"line_color\":{\"value\":\"#1f77b4\"},\"size\":{\"units\":\"screen\",\"value\":10},\"x\":{\"field\":\"x\"},\"y\":{\"field\":\"y\"}},\"id\":\"16853\",\"type\":\"Circle\"},{\"attributes\":{},\"id\":\"16824\",\"type\":\"LinearScale\"},{\"attributes\":{},\"id\":\"16834\",\"type\":\"BasicTicker\"},{\"attributes\":{\"callback\":null,\"data\":{\"x\":[1,2,3,4,5],\"y\":[2,5,8,2,7]},\"selected\":{\"id\":\"17334\",\"type\":\"Selection\"},\"selection_policy\":{\"id\":\"17333\",\"type\":\"UnionRenderers\"}},\"id\":\"16851\",\"type\":\"ColumnDataSource\"},{\"attributes\":{\"overlay\":{\"id\":\"17335\",\"type\":\"BoxAnnotation\"}},\"id\":\"16840\",\"type\":\"BoxZoomTool\"},{\"attributes\":{},\"id\":\"16839\",\"type\":\"WheelZoomTool\"},{\"attributes\":{\"active_drag\":\"auto\",\"active_inspect\":\"auto\",\"active_multi\":null,\"active_scroll\":\"auto\",\"active_tap\":\"auto\",\"tools\":[{\"id\":\"16838\",\"type\":\"PanTool\"},{\"id\":\"16839\",\"type\":\"WheelZoomTool\"},{\"id\":\"16840\",\"type\":\"BoxZoomTool\"},{\"id\":\"16841\",\"type\":\"SaveTool\"},{\"id\":\"16842\",\"type\":\"ResetTool\"},{\"id\":\"16843\",\"type\":\"HelpTool\"}]},\"id\":\"16844\",\"type\":\"Toolbar\"},{\"attributes\":{},\"id\":\"16826\",\"type\":\"LinearScale\"},{\"attributes\":{\"callback\":null},\"id\":\"16822\",\"type\":\"DataRange1d\"},{\"attributes\":{},\"id\":\"16829\",\"type\":\"BasicTicker\"},{\"attributes\":{\"fill_color\":{\"value\":\"#1f77b4\"},\"line_color\":{\"value\":\"#1f77b4\"},\"size\":{\"units\":\"screen\",\"value\":10},\"x\":{\"field\":\"x\"},\"y\":{\"field\":\"y\"}},\"id\":\"16852\",\"type\":\"Circle\"},{\"attributes\":{},\"id\":\"17329\",\"type\":\"BasicTickFormatter\"},{\"attributes\":{\"dimension\":1,\"grid_line_alpha\":0.5,\"grid_line_dash\":[6,4],\"ticker\":{\"id\":\"16834\",\"type\":\"BasicTicker\"}},\"id\":\"16837\",\"type\":\"Grid\"},{\"attributes\":{},\"id\":\"17331\",\"type\":\"BasicTickFormatter\"},{\"attributes\":{},\"id\":\"16843\",\"type\":\"HelpTool\"},{\"attributes\":{},\"id\":\"16841\",\"type\":\"SaveTool\"},{\"attributes\":{},\"id\":\"17334\",\"type\":\"Selection\"},{\"attributes\":{\"bottom_units\":\"screen\",\"fill_alpha\":{\"value\":0.5},\"fill_color\":{\"value\":\"lightgrey\"},\"left_units\":\"screen\",\"level\":\"overlay\",\"line_alpha\":{\"value\":1.0},\"line_color\":{\"value\":\"black\"},\"line_dash\":[4,4],\"line_width\":{\"value\":2},\"render_mode\":\"css\",\"right_units\":\"screen\",\"top_units\":\"screen\"},\"id\":\"17335\",\"type\":\"BoxAnnotation\"},{\"attributes\":{},\"id\":\"17333\",\"type\":\"UnionRenderers\"},{\"attributes\":{\"source\":{\"id\":\"16851\",\"type\":\"ColumnDataSource\"}},\"id\":\"16855\",\"type\":\"CDSView\"}],\"root_ids\":[\"16819\"]},\"title\":\"Bokeh Application\",\"version\":\"1.3.4\"}};\n",
       "  var render_items = [{\"docid\":\"715cfab3-e8a4-43e9-893f-5816f0085b26\",\"roots\":{\"16819\":\"4f3922d9-c773-4650-9a42-5e0f9d04b61d\"}}];\n",
       "  root.Bokeh.embed.embed_items_notebook(docs_json, render_items);\n",
       "\n",
       "  }\n",
       "  if (root.Bokeh !== undefined) {\n",
       "    embed_document(root);\n",
       "  } else {\n",
       "    var attempts = 0;\n",
       "    var timer = setInterval(function(root) {\n",
       "      if (root.Bokeh !== undefined) {\n",
       "        embed_document(root);\n",
       "        clearInterval(timer);\n",
       "      }\n",
       "      attempts++;\n",
       "      if (attempts > 100) {\n",
       "        console.log(\"Bokeh: ERROR: Unable to run BokehJS code because BokehJS library is missing\");\n",
       "        clearInterval(timer);\n",
       "      }\n",
       "    }, 10, root)\n",
       "  }\n",
       "})(window);"
      ],
      "application/vnd.bokehjs_exec.v0+json": ""
     },
     "metadata": {
      "application/vnd.bokehjs_exec.v0+json": {
       "id": "16819"
      }
     },
     "output_type": "display_data"
    }
   ],
   "source": [
    "p = figure(plot_width=400, plot_height=400)\n",
    "p.circle([1,2,3,4,5], [2,5,8,2,7], size=10)\n",
    "\n",
    "# change just some things about the x-grid\n",
    "p.xgrid.grid_line_color = None\n",
    "\n",
    "# change just some things about the y-grid\n",
    "p.ygrid.grid_line_alpha = 0.5\n",
    "p.ygrid.grid_line_dash = [6, 4]\n",
    "\n",
    "show(p)"
   ]
  },
  {
   "cell_type": "code",
   "execution_count": 89,
   "metadata": {},
   "outputs": [
    {
     "data": {
      "text/html": [
       "\n",
       "\n",
       "\n",
       "\n",
       "\n",
       "\n",
       "  <div class=\"bk-root\" id=\"60adeed7-dd4b-49f1-bae0-5bd7a6629ea3\" data-root-id=\"17390\"></div>\n"
      ]
     },
     "metadata": {},
     "output_type": "display_data"
    },
    {
     "data": {
      "application/javascript": [
       "(function(root) {\n",
       "  function embed_document(root) {\n",
       "    \n",
       "  var docs_json = {\"4a7e0d5d-282a-451d-83c5-3fcdd7e9972b\":{\"roots\":{\"references\":[{\"attributes\":{\"below\":[{\"id\":\"17399\",\"type\":\"LinearAxis\"}],\"center\":[{\"id\":\"17403\",\"type\":\"Grid\"},{\"id\":\"17408\",\"type\":\"Grid\"}],\"left\":[{\"id\":\"17404\",\"type\":\"LinearAxis\"}],\"plot_height\":400,\"plot_width\":400,\"renderers\":[{\"id\":\"17425\",\"type\":\"GlyphRenderer\"}],\"title\":{\"id\":\"17907\",\"type\":\"Title\"},\"toolbar\":{\"id\":\"17415\",\"type\":\"Toolbar\"},\"x_range\":{\"id\":\"17391\",\"type\":\"DataRange1d\"},\"x_scale\":{\"id\":\"17395\",\"type\":\"LinearScale\"},\"y_range\":{\"id\":\"17393\",\"type\":\"DataRange1d\"},\"y_scale\":{\"id\":\"17397\",\"type\":\"LinearScale\"}},\"id\":\"17390\",\"subtype\":\"Figure\",\"type\":\"Plot\"},{\"attributes\":{\"callback\":null},\"id\":\"17391\",\"type\":\"DataRange1d\"},{\"attributes\":{\"overlay\":{\"id\":\"17915\",\"type\":\"BoxAnnotation\"}},\"id\":\"17411\",\"type\":\"BoxZoomTool\"},{\"attributes\":{\"callback\":null},\"id\":\"17393\",\"type\":\"DataRange1d\"},{\"attributes\":{},\"id\":\"17412\",\"type\":\"SaveTool\"},{\"attributes\":{},\"id\":\"17395\",\"type\":\"LinearScale\"},{\"attributes\":{},\"id\":\"17413\",\"type\":\"ResetTool\"},{\"attributes\":{},\"id\":\"17414\",\"type\":\"HelpTool\"},{\"attributes\":{},\"id\":\"17397\",\"type\":\"LinearScale\"},{\"attributes\":{\"formatter\":{\"id\":\"17911\",\"type\":\"BasicTickFormatter\"},\"ticker\":{\"id\":\"17400\",\"type\":\"BasicTicker\"}},\"id\":\"17399\",\"type\":\"LinearAxis\"},{\"attributes\":{\"text\":\"\"},\"id\":\"17907\",\"type\":\"Title\"},{\"attributes\":{},\"id\":\"17405\",\"type\":\"BasicTicker\"},{\"attributes\":{},\"id\":\"17400\",\"type\":\"BasicTicker\"},{\"attributes\":{\"fill_color\":{\"value\":\"#1f77b4\"},\"line_color\":{\"value\":\"#1f77b4\"},\"size\":{\"units\":\"screen\",\"value\":10},\"x\":{\"field\":\"x\"},\"y\":{\"field\":\"y\"}},\"id\":\"17423\",\"type\":\"Circle\"},{\"attributes\":{\"grid_line_color\":null,\"ticker\":{\"id\":\"17400\",\"type\":\"BasicTicker\"}},\"id\":\"17403\",\"type\":\"Grid\"},{\"attributes\":{},\"id\":\"17909\",\"type\":\"BasicTickFormatter\"},{\"attributes\":{\"band_fill_alpha\":0.1,\"band_fill_color\":\"navy\",\"dimension\":1,\"ticker\":{\"id\":\"17405\",\"type\":\"BasicTicker\"}},\"id\":\"17408\",\"type\":\"Grid\"},{\"attributes\":{},\"id\":\"17913\",\"type\":\"UnionRenderers\"},{\"attributes\":{\"formatter\":{\"id\":\"17909\",\"type\":\"BasicTickFormatter\"},\"ticker\":{\"id\":\"17405\",\"type\":\"BasicTicker\"}},\"id\":\"17404\",\"type\":\"LinearAxis\"},{\"attributes\":{},\"id\":\"17911\",\"type\":\"BasicTickFormatter\"},{\"attributes\":{\"data_source\":{\"id\":\"17422\",\"type\":\"ColumnDataSource\"},\"glyph\":{\"id\":\"17423\",\"type\":\"Circle\"},\"hover_glyph\":null,\"muted_glyph\":null,\"nonselection_glyph\":{\"id\":\"17424\",\"type\":\"Circle\"},\"selection_glyph\":null,\"view\":{\"id\":\"17426\",\"type\":\"CDSView\"}},\"id\":\"17425\",\"type\":\"GlyphRenderer\"},{\"attributes\":{\"bottom_units\":\"screen\",\"fill_alpha\":{\"value\":0.5},\"fill_color\":{\"value\":\"lightgrey\"},\"left_units\":\"screen\",\"level\":\"overlay\",\"line_alpha\":{\"value\":1.0},\"line_color\":{\"value\":\"black\"},\"line_dash\":[4,4],\"line_width\":{\"value\":2},\"render_mode\":\"css\",\"right_units\":\"screen\",\"top_units\":\"screen\"},\"id\":\"17915\",\"type\":\"BoxAnnotation\"},{\"attributes\":{},\"id\":\"17914\",\"type\":\"Selection\"},{\"attributes\":{\"fill_alpha\":{\"value\":0.1},\"fill_color\":{\"value\":\"#1f77b4\"},\"line_alpha\":{\"value\":0.1},\"line_color\":{\"value\":\"#1f77b4\"},\"size\":{\"units\":\"screen\",\"value\":10},\"x\":{\"field\":\"x\"},\"y\":{\"field\":\"y\"}},\"id\":\"17424\",\"type\":\"Circle\"},{\"attributes\":{\"active_drag\":\"auto\",\"active_inspect\":\"auto\",\"active_multi\":null,\"active_scroll\":\"auto\",\"active_tap\":\"auto\",\"tools\":[{\"id\":\"17409\",\"type\":\"PanTool\"},{\"id\":\"17410\",\"type\":\"WheelZoomTool\"},{\"id\":\"17411\",\"type\":\"BoxZoomTool\"},{\"id\":\"17412\",\"type\":\"SaveTool\"},{\"id\":\"17413\",\"type\":\"ResetTool\"},{\"id\":\"17414\",\"type\":\"HelpTool\"}]},\"id\":\"17415\",\"type\":\"Toolbar\"},{\"attributes\":{\"callback\":null,\"data\":{\"x\":[1,2,3,4,5],\"y\":[2,5,8,2,7]},\"selected\":{\"id\":\"17914\",\"type\":\"Selection\"},\"selection_policy\":{\"id\":\"17913\",\"type\":\"UnionRenderers\"}},\"id\":\"17422\",\"type\":\"ColumnDataSource\"},{\"attributes\":{\"source\":{\"id\":\"17422\",\"type\":\"ColumnDataSource\"}},\"id\":\"17426\",\"type\":\"CDSView\"},{\"attributes\":{},\"id\":\"17409\",\"type\":\"PanTool\"},{\"attributes\":{},\"id\":\"17410\",\"type\":\"WheelZoomTool\"}],\"root_ids\":[\"17390\"]},\"title\":\"Bokeh Application\",\"version\":\"1.3.4\"}};\n",
       "  var render_items = [{\"docid\":\"4a7e0d5d-282a-451d-83c5-3fcdd7e9972b\",\"roots\":{\"17390\":\"60adeed7-dd4b-49f1-bae0-5bd7a6629ea3\"}}];\n",
       "  root.Bokeh.embed.embed_items_notebook(docs_json, render_items);\n",
       "\n",
       "  }\n",
       "  if (root.Bokeh !== undefined) {\n",
       "    embed_document(root);\n",
       "  } else {\n",
       "    var attempts = 0;\n",
       "    var timer = setInterval(function(root) {\n",
       "      if (root.Bokeh !== undefined) {\n",
       "        embed_document(root);\n",
       "        clearInterval(timer);\n",
       "      }\n",
       "      attempts++;\n",
       "      if (attempts > 100) {\n",
       "        console.log(\"Bokeh: ERROR: Unable to run BokehJS code because BokehJS library is missing\");\n",
       "        clearInterval(timer);\n",
       "      }\n",
       "    }, 10, root)\n",
       "  }\n",
       "})(window);"
      ],
      "application/vnd.bokehjs_exec.v0+json": ""
     },
     "metadata": {
      "application/vnd.bokehjs_exec.v0+json": {
       "id": "17390"
      }
     },
     "output_type": "display_data"
    }
   ],
   "source": [
    "p = figure(plot_width=400, plot_height=400)\n",
    "p.circle([1,2,3,4,5], [2,5,8,2,7], size=10)\n",
    "\n",
    "# change just some things about the x-grid\n",
    "p.xgrid.grid_line_color = None\n",
    "\n",
    "# change just some things about the y-grid\n",
    "p.ygrid.band_fill_alpha = 0.1\n",
    "p.ygrid.band_fill_color = \"navy\"\n",
    "\n",
    "show(p)"
   ]
  },
  {
   "cell_type": "code",
   "execution_count": null,
   "metadata": {},
   "outputs": [],
   "source": []
  },
  {
   "cell_type": "markdown",
   "metadata": {},
   "source": [
    "<h2>Presentation Layouts</h2></div>"
   ]
  },
  {
   "cell_type": "markdown",
   "metadata": {},
   "source": [
    "In the previous chapters we started to learn how to create single plots using differnet kinds of data. But we often want to plot more than one thing. Boeh plots can be individually embedded in HTML documents, but it's often easier to\n",
    "combine multiple plots in one of Bokeh's built-in layouts. We will learn how to do that in this chapter\n",
    "\n",
    "The cell below defines a few data variables we will use in examples."
   ]
  },
  {
   "cell_type": "code",
   "execution_count": 19,
   "metadata": {},
   "outputs": [],
   "source": [
    "x = list(range(11))\n",
    "y0, y1, y2 = x, [10-i for i in x], [abs(i-5) for i in x]"
   ]
  },
  {
   "cell_type": "markdown",
   "metadata": {},
   "source": [
    "# Rows and Columns\n",
    "The `bokeh.layouts` modules provides the ``row`` and ``column`` functions to arrange plot objects in vertical or horizontal layouts. Below is an example of three plots arranged in a row."
   ]
  },
  {
   "cell_type": "code",
   "execution_count": 20,
   "metadata": {},
   "outputs": [
    {
     "data": {
      "text/html": [
       "\n",
       "\n",
       "\n",
       "\n",
       "\n",
       "\n",
       "  <div class=\"bk-root\" id=\"d1c4eb3d-8b35-41d5-a87f-f7e4958f3f91\" data-root-id=\"1974\"></div>\n"
      ]
     },
     "metadata": {},
     "output_type": "display_data"
    },
    {
     "data": {
      "application/javascript": [
       "(function(root) {\n",
       "  function embed_document(root) {\n",
       "    \n",
       "  var docs_json = {\"d5e2cd01-f732-432e-9b98-6a68a049c42e\":{\"roots\":{\"references\":[{\"attributes\":{\"children\":[{\"id\":\"1863\",\"subtype\":\"Figure\",\"type\":\"Plot\"},{\"id\":\"1900\",\"subtype\":\"Figure\",\"type\":\"Plot\"},{\"id\":\"1937\",\"subtype\":\"Figure\",\"type\":\"Plot\"}]},\"id\":\"1974\",\"type\":\"Row\"},{\"attributes\":{\"overlay\":{\"id\":\"2057\",\"type\":\"BoxAnnotation\"}},\"id\":\"1921\",\"type\":\"BoxZoomTool\"},{\"attributes\":{\"callback\":null,\"data\":{\"x\":[0,1,2,3,4,5,6,7,8,9,10],\"y\":[5,4,3,2,1,0,1,2,3,4,5]},\"selected\":{\"id\":\"2059\",\"type\":\"Selection\"},\"selection_policy\":{\"id\":\"2058\",\"type\":\"UnionRenderers\"}},\"id\":\"1969\",\"type\":\"ColumnDataSource\"},{\"attributes\":{},\"id\":\"1922\",\"type\":\"SaveTool\"},{\"attributes\":{},\"id\":\"1923\",\"type\":\"ResetTool\"},{\"attributes\":{},\"id\":\"1924\",\"type\":\"HelpTool\"},{\"attributes\":{\"active_drag\":\"auto\",\"active_inspect\":\"auto\",\"active_multi\":null,\"active_scroll\":\"auto\",\"active_tap\":\"auto\",\"tools\":[{\"id\":\"1919\",\"type\":\"PanTool\"},{\"id\":\"1920\",\"type\":\"WheelZoomTool\"},{\"id\":\"1921\",\"type\":\"BoxZoomTool\"},{\"id\":\"1922\",\"type\":\"SaveTool\"},{\"id\":\"1923\",\"type\":\"ResetTool\"},{\"id\":\"1924\",\"type\":\"HelpTool\"}]},\"id\":\"1925\",\"type\":\"Toolbar\"},{\"attributes\":{\"callback\":null},\"id\":\"1938\",\"type\":\"DataRange1d\"},{\"attributes\":{\"dimension\":1,\"ticker\":{\"id\":\"1915\",\"type\":\"BasicTicker\"}},\"id\":\"1918\",\"type\":\"Grid\"},{\"attributes\":{\"fill_alpha\":{\"value\":0.5},\"fill_color\":{\"value\":\"olive\"},\"line_alpha\":{\"value\":0.5},\"line_color\":{\"value\":\"olive\"},\"size\":{\"units\":\"screen\",\"value\":10},\"x\":{\"field\":\"x\"},\"y\":{\"field\":\"y\"}},\"id\":\"1970\",\"type\":\"Square\"},{\"attributes\":{\"ticker\":{\"id\":\"1910\",\"type\":\"BasicTicker\"}},\"id\":\"1913\",\"type\":\"Grid\"},{\"attributes\":{\"source\":{\"id\":\"1932\",\"type\":\"ColumnDataSource\"}},\"id\":\"1936\",\"type\":\"CDSView\"},{\"attributes\":{\"callback\":null},\"id\":\"1940\",\"type\":\"DataRange1d\"},{\"attributes\":{},\"id\":\"1942\",\"type\":\"LinearScale\"},{\"attributes\":{},\"id\":\"1905\",\"type\":\"LinearScale\"},{\"attributes\":{},\"id\":\"1944\",\"type\":\"LinearScale\"},{\"attributes\":{\"formatter\":{\"id\":\"2050\",\"type\":\"BasicTickFormatter\"},\"ticker\":{\"id\":\"1947\",\"type\":\"BasicTicker\"}},\"id\":\"1946\",\"type\":\"LinearAxis\"},{\"attributes\":{},\"id\":\"1952\",\"type\":\"BasicTicker\"},{\"attributes\":{},\"id\":\"1947\",\"type\":\"BasicTicker\"},{\"attributes\":{\"data_source\":{\"id\":\"1932\",\"type\":\"ColumnDataSource\"},\"glyph\":{\"id\":\"1933\",\"type\":\"Triangle\"},\"hover_glyph\":null,\"muted_glyph\":null,\"nonselection_glyph\":{\"id\":\"1934\",\"type\":\"Triangle\"},\"selection_glyph\":null,\"view\":{\"id\":\"1936\",\"type\":\"CDSView\"}},\"id\":\"1935\",\"type\":\"GlyphRenderer\"},{\"attributes\":{\"ticker\":{\"id\":\"1947\",\"type\":\"BasicTicker\"}},\"id\":\"1950\",\"type\":\"Grid\"},{\"attributes\":{\"dimension\":1,\"ticker\":{\"id\":\"1952\",\"type\":\"BasicTicker\"}},\"id\":\"1955\",\"type\":\"Grid\"},{\"attributes\":{\"formatter\":{\"id\":\"2048\",\"type\":\"BasicTickFormatter\"},\"ticker\":{\"id\":\"1952\",\"type\":\"BasicTicker\"}},\"id\":\"1951\",\"type\":\"LinearAxis\"},{\"attributes\":{\"formatter\":{\"id\":\"2046\",\"type\":\"BasicTickFormatter\"},\"ticker\":{\"id\":\"1910\",\"type\":\"BasicTicker\"}},\"id\":\"1909\",\"type\":\"LinearAxis\"},{\"attributes\":{\"fill_alpha\":{\"value\":0.1},\"fill_color\":{\"value\":\"#1f77b4\"},\"line_alpha\":{\"value\":0.1},\"line_color\":{\"value\":\"#1f77b4\"},\"size\":{\"units\":\"screen\",\"value\":10},\"x\":{\"field\":\"x\"},\"y\":{\"field\":\"y\"}},\"id\":\"1934\",\"type\":\"Triangle\"},{\"attributes\":{\"formatter\":{\"id\":\"2044\",\"type\":\"BasicTickFormatter\"},\"ticker\":{\"id\":\"1915\",\"type\":\"BasicTicker\"}},\"id\":\"1914\",\"type\":\"LinearAxis\"},{\"attributes\":{\"callback\":null},\"id\":\"1903\",\"type\":\"DataRange1d\"},{\"attributes\":{\"active_drag\":\"auto\",\"active_inspect\":\"auto\",\"active_multi\":null,\"active_scroll\":\"auto\",\"active_tap\":\"auto\",\"tools\":[{\"id\":\"1956\",\"type\":\"PanTool\"},{\"id\":\"1957\",\"type\":\"WheelZoomTool\"},{\"id\":\"1958\",\"type\":\"BoxZoomTool\"},{\"id\":\"1959\",\"type\":\"SaveTool\"},{\"id\":\"1960\",\"type\":\"ResetTool\"},{\"id\":\"1961\",\"type\":\"HelpTool\"}]},\"id\":\"1962\",\"type\":\"Toolbar\"},{\"attributes\":{\"data_source\":{\"id\":\"1969\",\"type\":\"ColumnDataSource\"},\"glyph\":{\"id\":\"1970\",\"type\":\"Square\"},\"hover_glyph\":null,\"muted_glyph\":null,\"nonselection_glyph\":{\"id\":\"1971\",\"type\":\"Square\"},\"selection_glyph\":null,\"view\":{\"id\":\"1973\",\"type\":\"CDSView\"}},\"id\":\"1972\",\"type\":\"GlyphRenderer\"},{\"attributes\":{},\"id\":\"1956\",\"type\":\"PanTool\"},{\"attributes\":{},\"id\":\"1910\",\"type\":\"BasicTicker\"},{\"attributes\":{},\"id\":\"1957\",\"type\":\"WheelZoomTool\"},{\"attributes\":{\"overlay\":{\"id\":\"2060\",\"type\":\"BoxAnnotation\"}},\"id\":\"1958\",\"type\":\"BoxZoomTool\"},{\"attributes\":{},\"id\":\"1959\",\"type\":\"SaveTool\"},{\"attributes\":{},\"id\":\"1960\",\"type\":\"ResetTool\"},{\"attributes\":{\"fill_alpha\":{\"value\":0.1},\"fill_color\":{\"value\":\"#1f77b4\"},\"line_alpha\":{\"value\":0.1},\"line_color\":{\"value\":\"#1f77b4\"},\"size\":{\"units\":\"screen\",\"value\":10},\"x\":{\"field\":\"x\"},\"y\":{\"field\":\"y\"}},\"id\":\"1971\",\"type\":\"Square\"},{\"attributes\":{},\"id\":\"1961\",\"type\":\"HelpTool\"},{\"attributes\":{},\"id\":\"1915\",\"type\":\"BasicTicker\"},{\"attributes\":{},\"id\":\"1868\",\"type\":\"LinearScale\"},{\"attributes\":{\"source\":{\"id\":\"1969\",\"type\":\"ColumnDataSource\"}},\"id\":\"1973\",\"type\":\"CDSView\"},{\"attributes\":{},\"id\":\"1907\",\"type\":\"LinearScale\"},{\"attributes\":{\"text\":\"\"},\"id\":\"2036\",\"type\":\"Title\"},{\"attributes\":{\"fill_alpha\":{\"value\":0.5},\"fill_color\":{\"value\":\"firebrick\"},\"line_alpha\":{\"value\":0.5},\"line_color\":{\"value\":\"firebrick\"},\"size\":{\"units\":\"screen\",\"value\":10},\"x\":{\"field\":\"x\"},\"y\":{\"field\":\"y\"}},\"id\":\"1933\",\"type\":\"Triangle\"},{\"attributes\":{\"text\":\"\"},\"id\":\"2034\",\"type\":\"Title\"},{\"attributes\":{},\"id\":\"2044\",\"type\":\"BasicTickFormatter\"},{\"attributes\":{\"text\":\"\"},\"id\":\"2038\",\"type\":\"Title\"},{\"attributes\":{},\"id\":\"2040\",\"type\":\"BasicTickFormatter\"},{\"attributes\":{\"below\":[{\"id\":\"1946\",\"type\":\"LinearAxis\"}],\"center\":[{\"id\":\"1950\",\"type\":\"Grid\"},{\"id\":\"1955\",\"type\":\"Grid\"}],\"left\":[{\"id\":\"1951\",\"type\":\"LinearAxis\"}],\"plot_height\":250,\"plot_width\":250,\"renderers\":[{\"id\":\"1972\",\"type\":\"GlyphRenderer\"}],\"title\":{\"id\":\"2038\",\"type\":\"Title\"},\"toolbar\":{\"id\":\"1962\",\"type\":\"Toolbar\"},\"x_range\":{\"id\":\"1938\",\"type\":\"DataRange1d\"},\"x_scale\":{\"id\":\"1942\",\"type\":\"LinearScale\"},\"y_range\":{\"id\":\"1940\",\"type\":\"DataRange1d\"},\"y_scale\":{\"id\":\"1944\",\"type\":\"LinearScale\"}},\"id\":\"1937\",\"subtype\":\"Figure\",\"type\":\"Plot\"},{\"attributes\":{},\"id\":\"2042\",\"type\":\"BasicTickFormatter\"},{\"attributes\":{\"below\":[{\"id\":\"1872\",\"type\":\"LinearAxis\"}],\"center\":[{\"id\":\"1876\",\"type\":\"Grid\"},{\"id\":\"1881\",\"type\":\"Grid\"}],\"left\":[{\"id\":\"1877\",\"type\":\"LinearAxis\"}],\"plot_height\":250,\"plot_width\":250,\"renderers\":[{\"id\":\"1898\",\"type\":\"GlyphRenderer\"}],\"title\":{\"id\":\"2034\",\"type\":\"Title\"},\"toolbar\":{\"id\":\"1888\",\"type\":\"Toolbar\"},\"x_range\":{\"id\":\"1864\",\"type\":\"DataRange1d\"},\"x_scale\":{\"id\":\"1868\",\"type\":\"LinearScale\"},\"y_range\":{\"id\":\"1866\",\"type\":\"DataRange1d\"},\"y_scale\":{\"id\":\"1870\",\"type\":\"LinearScale\"}},\"id\":\"1863\",\"subtype\":\"Figure\",\"type\":\"Plot\"},{\"attributes\":{\"callback\":null},\"id\":\"1901\",\"type\":\"DataRange1d\"},{\"attributes\":{},\"id\":\"2046\",\"type\":\"BasicTickFormatter\"},{\"attributes\":{},\"id\":\"2048\",\"type\":\"BasicTickFormatter\"},{\"attributes\":{\"callback\":null},\"id\":\"1864\",\"type\":\"DataRange1d\"},{\"attributes\":{\"callback\":null,\"data\":{\"x\":[0,1,2,3,4,5,6,7,8,9,10],\"y\":[0,1,2,3,4,5,6,7,8,9,10]},\"selected\":{\"id\":\"2053\",\"type\":\"Selection\"},\"selection_policy\":{\"id\":\"2052\",\"type\":\"UnionRenderers\"}},\"id\":\"1895\",\"type\":\"ColumnDataSource\"},{\"attributes\":{},\"id\":\"2050\",\"type\":\"BasicTickFormatter\"},{\"attributes\":{\"callback\":null},\"id\":\"1866\",\"type\":\"DataRange1d\"},{\"attributes\":{},\"id\":\"2052\",\"type\":\"UnionRenderers\"},{\"attributes\":{},\"id\":\"2053\",\"type\":\"Selection\"},{\"attributes\":{},\"id\":\"1878\",\"type\":\"BasicTicker\"},{\"attributes\":{\"formatter\":{\"id\":\"2042\",\"type\":\"BasicTickFormatter\"},\"ticker\":{\"id\":\"1873\",\"type\":\"BasicTicker\"}},\"id\":\"1872\",\"type\":\"LinearAxis\"},{\"attributes\":{\"bottom_units\":\"screen\",\"fill_alpha\":{\"value\":0.5},\"fill_color\":{\"value\":\"lightgrey\"},\"left_units\":\"screen\",\"level\":\"overlay\",\"line_alpha\":{\"value\":1.0},\"line_color\":{\"value\":\"black\"},\"line_dash\":[4,4],\"line_width\":{\"value\":2},\"render_mode\":\"css\",\"right_units\":\"screen\",\"top_units\":\"screen\"},\"id\":\"2054\",\"type\":\"BoxAnnotation\"},{\"attributes\":{},\"id\":\"1870\",\"type\":\"LinearScale\"},{\"attributes\":{},\"id\":\"2055\",\"type\":\"UnionRenderers\"},{\"attributes\":{},\"id\":\"2056\",\"type\":\"Selection\"},{\"attributes\":{},\"id\":\"1873\",\"type\":\"BasicTicker\"},{\"attributes\":{\"bottom_units\":\"screen\",\"fill_alpha\":{\"value\":0.5},\"fill_color\":{\"value\":\"lightgrey\"},\"left_units\":\"screen\",\"level\":\"overlay\",\"line_alpha\":{\"value\":1.0},\"line_color\":{\"value\":\"black\"},\"line_dash\":[4,4],\"line_width\":{\"value\":2},\"render_mode\":\"css\",\"right_units\":\"screen\",\"top_units\":\"screen\"},\"id\":\"2057\",\"type\":\"BoxAnnotation\"},{\"attributes\":{\"ticker\":{\"id\":\"1873\",\"type\":\"BasicTicker\"}},\"id\":\"1876\",\"type\":\"Grid\"},{\"attributes\":{\"fill_alpha\":{\"value\":0.5},\"fill_color\":{\"value\":\"navy\"},\"line_alpha\":{\"value\":0.5},\"line_color\":{\"value\":\"navy\"},\"size\":{\"units\":\"screen\",\"value\":10},\"x\":{\"field\":\"x\"},\"y\":{\"field\":\"y\"}},\"id\":\"1896\",\"type\":\"Circle\"},{\"attributes\":{},\"id\":\"2058\",\"type\":\"UnionRenderers\"},{\"attributes\":{\"data_source\":{\"id\":\"1895\",\"type\":\"ColumnDataSource\"},\"glyph\":{\"id\":\"1896\",\"type\":\"Circle\"},\"hover_glyph\":null,\"muted_glyph\":null,\"nonselection_glyph\":{\"id\":\"1897\",\"type\":\"Circle\"},\"selection_glyph\":null,\"view\":{\"id\":\"1899\",\"type\":\"CDSView\"}},\"id\":\"1898\",\"type\":\"GlyphRenderer\"},{\"attributes\":{\"dimension\":1,\"ticker\":{\"id\":\"1878\",\"type\":\"BasicTicker\"}},\"id\":\"1881\",\"type\":\"Grid\"},{\"attributes\":{},\"id\":\"2059\",\"type\":\"Selection\"},{\"attributes\":{\"formatter\":{\"id\":\"2040\",\"type\":\"BasicTickFormatter\"},\"ticker\":{\"id\":\"1878\",\"type\":\"BasicTicker\"}},\"id\":\"1877\",\"type\":\"LinearAxis\"},{\"attributes\":{},\"id\":\"1920\",\"type\":\"WheelZoomTool\"},{\"attributes\":{\"bottom_units\":\"screen\",\"fill_alpha\":{\"value\":0.5},\"fill_color\":{\"value\":\"lightgrey\"},\"left_units\":\"screen\",\"level\":\"overlay\",\"line_alpha\":{\"value\":1.0},\"line_color\":{\"value\":\"black\"},\"line_dash\":[4,4],\"line_width\":{\"value\":2},\"render_mode\":\"css\",\"right_units\":\"screen\",\"top_units\":\"screen\"},\"id\":\"2060\",\"type\":\"BoxAnnotation\"},{\"attributes\":{\"fill_alpha\":{\"value\":0.1},\"fill_color\":{\"value\":\"#1f77b4\"},\"line_alpha\":{\"value\":0.1},\"line_color\":{\"value\":\"#1f77b4\"},\"size\":{\"units\":\"screen\",\"value\":10},\"x\":{\"field\":\"x\"},\"y\":{\"field\":\"y\"}},\"id\":\"1897\",\"type\":\"Circle\"},{\"attributes\":{\"active_drag\":\"auto\",\"active_inspect\":\"auto\",\"active_multi\":null,\"active_scroll\":\"auto\",\"active_tap\":\"auto\",\"tools\":[{\"id\":\"1882\",\"type\":\"PanTool\"},{\"id\":\"1883\",\"type\":\"WheelZoomTool\"},{\"id\":\"1884\",\"type\":\"BoxZoomTool\"},{\"id\":\"1885\",\"type\":\"SaveTool\"},{\"id\":\"1886\",\"type\":\"ResetTool\"},{\"id\":\"1887\",\"type\":\"HelpTool\"}]},\"id\":\"1888\",\"type\":\"Toolbar\"},{\"attributes\":{\"below\":[{\"id\":\"1909\",\"type\":\"LinearAxis\"}],\"center\":[{\"id\":\"1913\",\"type\":\"Grid\"},{\"id\":\"1918\",\"type\":\"Grid\"}],\"left\":[{\"id\":\"1914\",\"type\":\"LinearAxis\"}],\"plot_height\":250,\"plot_width\":250,\"renderers\":[{\"id\":\"1935\",\"type\":\"GlyphRenderer\"}],\"title\":{\"id\":\"2036\",\"type\":\"Title\"},\"toolbar\":{\"id\":\"1925\",\"type\":\"Toolbar\"},\"x_range\":{\"id\":\"1901\",\"type\":\"DataRange1d\"},\"x_scale\":{\"id\":\"1905\",\"type\":\"LinearScale\"},\"y_range\":{\"id\":\"1903\",\"type\":\"DataRange1d\"},\"y_scale\":{\"id\":\"1907\",\"type\":\"LinearScale\"}},\"id\":\"1900\",\"subtype\":\"Figure\",\"type\":\"Plot\"},{\"attributes\":{},\"id\":\"1882\",\"type\":\"PanTool\"},{\"attributes\":{},\"id\":\"1883\",\"type\":\"WheelZoomTool\"},{\"attributes\":{\"overlay\":{\"id\":\"2054\",\"type\":\"BoxAnnotation\"}},\"id\":\"1884\",\"type\":\"BoxZoomTool\"},{\"attributes\":{},\"id\":\"1885\",\"type\":\"SaveTool\"},{\"attributes\":{},\"id\":\"1886\",\"type\":\"ResetTool\"},{\"attributes\":{},\"id\":\"1919\",\"type\":\"PanTool\"},{\"attributes\":{},\"id\":\"1887\",\"type\":\"HelpTool\"},{\"attributes\":{\"callback\":null,\"data\":{\"x\":[0,1,2,3,4,5,6,7,8,9,10],\"y\":[10,9,8,7,6,5,4,3,2,1,0]},\"selected\":{\"id\":\"2056\",\"type\":\"Selection\"},\"selection_policy\":{\"id\":\"2055\",\"type\":\"UnionRenderers\"}},\"id\":\"1932\",\"type\":\"ColumnDataSource\"},{\"attributes\":{\"source\":{\"id\":\"1895\",\"type\":\"ColumnDataSource\"}},\"id\":\"1899\",\"type\":\"CDSView\"}],\"root_ids\":[\"1974\"]},\"title\":\"Bokeh Application\",\"version\":\"1.3.4\"}};\n",
       "  var render_items = [{\"docid\":\"d5e2cd01-f732-432e-9b98-6a68a049c42e\",\"roots\":{\"1974\":\"d1c4eb3d-8b35-41d5-a87f-f7e4958f3f91\"}}];\n",
       "  root.Bokeh.embed.embed_items_notebook(docs_json, render_items);\n",
       "\n",
       "  }\n",
       "  if (root.Bokeh !== undefined) {\n",
       "    embed_document(root);\n",
       "  } else {\n",
       "    var attempts = 0;\n",
       "    var timer = setInterval(function(root) {\n",
       "      if (root.Bokeh !== undefined) {\n",
       "        embed_document(root);\n",
       "        clearInterval(timer);\n",
       "      }\n",
       "      attempts++;\n",
       "      if (attempts > 100) {\n",
       "        console.log(\"Bokeh: ERROR: Unable to run BokehJS code because BokehJS library is missing\");\n",
       "        clearInterval(timer);\n",
       "      }\n",
       "    }, 10, root)\n",
       "  }\n",
       "})(window);"
      ],
      "application/vnd.bokehjs_exec.v0+json": ""
     },
     "metadata": {
      "application/vnd.bokehjs_exec.v0+json": {
       "id": "1974"
      }
     },
     "output_type": "display_data"
    }
   ],
   "source": [
    "from bokeh.layouts import row\n",
    "\n",
    "# create a new plot\n",
    "s1 = figure(width=250, plot_height=250)\n",
    "s1.circle(x, y0, size=10, color=\"navy\", alpha=0.5)\n",
    "\n",
    "# create another one\n",
    "s2 = figure(width=250, height=250)\n",
    "s2.triangle(x, y1, size=10, color=\"firebrick\", alpha=0.5)\n",
    "\n",
    "# create and another\n",
    "s3 = figure(width=250, height=250)\n",
    "s3.square(x, y2, size=10, color=\"olive\", alpha=0.5)\n",
    "\n",
    "# show the results in a row\n",
    "show(row(s1, s2, s3))"
   ]
  },
  {
   "cell_type": "code",
   "execution_count": 23,
   "metadata": {},
   "outputs": [],
   "source": [
    "# EXERCISE: use column to arrange a few plots vertically\n"
   ]
  },
  {
   "cell_type": "markdown",
   "metadata": {},
   "source": [
    "# Grid plots\n",
    "\n",
    "Bokeh also provides a `gridplot` layout in `bokeh.layouts` for arranging plots in a grid, as show in the example below."
   ]
  },
  {
   "cell_type": "code",
   "execution_count": 24,
   "metadata": {},
   "outputs": [
    {
     "data": {
      "text/html": [
       "\n",
       "\n",
       "\n",
       "\n",
       "\n",
       "\n",
       "  <div class=\"bk-root\" id=\"e24f5c6e-2b97-43d1-a52e-ebb13057223c\" data-root-id=\"2577\"></div>\n"
      ]
     },
     "metadata": {},
     "output_type": "display_data"
    },
    {
     "data": {
      "application/javascript": [
       "(function(root) {\n",
       "  function embed_document(root) {\n",
       "    \n",
       "  var docs_json = {\"d64f3ad0-93b3-48cc-b93e-85e3dd9dd260\":{\"roots\":{\"references\":[{\"attributes\":{\"children\":[[{\"id\":\"2436\",\"subtype\":\"Figure\",\"type\":\"Plot\"},0,0],[{\"id\":\"2473\",\"subtype\":\"Figure\",\"type\":\"Plot\"},0,1],[{\"id\":\"2510\",\"subtype\":\"Figure\",\"type\":\"Plot\"},1,0]]},\"id\":\"2577\",\"type\":\"GridBox\"},{\"attributes\":{},\"id\":\"2574\",\"type\":\"Selection\"},{\"attributes\":{},\"id\":\"2517\",\"type\":\"LinearScale\"},{\"attributes\":{\"formatter\":{\"id\":\"2571\",\"type\":\"BasicTickFormatter\"},\"ticker\":{\"id\":\"2520\",\"type\":\"BasicTicker\"}},\"id\":\"2519\",\"type\":\"LinearAxis\"},{\"attributes\":{\"formatter\":{\"id\":\"2569\",\"type\":\"BasicTickFormatter\"},\"ticker\":{\"id\":\"2525\",\"type\":\"BasicTicker\"}},\"id\":\"2524\",\"type\":\"LinearAxis\"},{\"attributes\":{\"dimension\":1,\"ticker\":{\"id\":\"2525\",\"type\":\"BasicTicker\"}},\"id\":\"2528\",\"type\":\"Grid\"},{\"attributes\":{},\"id\":\"2520\",\"type\":\"BasicTicker\"},{\"attributes\":{},\"id\":\"2515\",\"type\":\"LinearScale\"},{\"attributes\":{\"source\":{\"id\":\"2542\",\"type\":\"ColumnDataSource\"}},\"id\":\"2546\",\"type\":\"CDSView\"},{\"attributes\":{\"fill_alpha\":{\"value\":0.1},\"fill_color\":{\"value\":\"#1f77b4\"},\"line_alpha\":{\"value\":0.1},\"line_color\":{\"value\":\"#1f77b4\"},\"size\":{\"units\":\"screen\",\"value\":10},\"x\":{\"field\":\"x\"},\"y\":{\"field\":\"y\"}},\"id\":\"2544\",\"type\":\"Square\"},{\"attributes\":{},\"id\":\"2529\",\"type\":\"PanTool\"},{\"attributes\":{},\"id\":\"2573\",\"type\":\"UnionRenderers\"},{\"attributes\":{\"callback\":null},\"id\":\"2513\",\"type\":\"DataRange1d\"},{\"attributes\":{},\"id\":\"2525\",\"type\":\"BasicTicker\"},{\"attributes\":{\"overlay\":{\"id\":\"2575\",\"type\":\"BoxAnnotation\"}},\"id\":\"2531\",\"type\":\"BoxZoomTool\"},{\"attributes\":{\"ticker\":{\"id\":\"2520\",\"type\":\"BasicTicker\"}},\"id\":\"2523\",\"type\":\"Grid\"},{\"attributes\":{},\"id\":\"2530\",\"type\":\"WheelZoomTool\"},{\"attributes\":{\"data_source\":{\"id\":\"2542\",\"type\":\"ColumnDataSource\"},\"glyph\":{\"id\":\"2543\",\"type\":\"Square\"},\"hover_glyph\":null,\"muted_glyph\":null,\"nonselection_glyph\":{\"id\":\"2544\",\"type\":\"Square\"},\"selection_glyph\":null,\"view\":{\"id\":\"2546\",\"type\":\"CDSView\"}},\"id\":\"2545\",\"type\":\"GlyphRenderer\"},{\"attributes\":{\"below\":[{\"id\":\"2445\",\"type\":\"LinearAxis\"}],\"center\":[{\"id\":\"2449\",\"type\":\"Grid\"},{\"id\":\"2454\",\"type\":\"Grid\"}],\"left\":[{\"id\":\"2450\",\"type\":\"LinearAxis\"}],\"plot_height\":250,\"plot_width\":250,\"renderers\":[{\"id\":\"2471\",\"type\":\"GlyphRenderer\"}],\"title\":{\"id\":\"2547\",\"type\":\"Title\"},\"toolbar\":{\"id\":\"2461\",\"type\":\"Toolbar\"},\"toolbar_location\":null,\"x_range\":{\"id\":\"2437\",\"type\":\"DataRange1d\"},\"x_scale\":{\"id\":\"2441\",\"type\":\"LinearScale\"},\"y_range\":{\"id\":\"2439\",\"type\":\"DataRange1d\"},\"y_scale\":{\"id\":\"2443\",\"type\":\"LinearScale\"}},\"id\":\"2436\",\"subtype\":\"Figure\",\"type\":\"Plot\"},{\"attributes\":{},\"id\":\"2488\",\"type\":\"BasicTicker\"},{\"attributes\":{},\"id\":\"2569\",\"type\":\"BasicTickFormatter\"},{\"attributes\":{\"bottom_units\":\"screen\",\"fill_alpha\":{\"value\":0.5},\"fill_color\":{\"value\":\"lightgrey\"},\"left_units\":\"screen\",\"level\":\"overlay\",\"line_alpha\":{\"value\":1.0},\"line_color\":{\"value\":\"black\"},\"line_dash\":[4,4],\"line_width\":{\"value\":2},\"render_mode\":\"css\",\"right_units\":\"screen\",\"top_units\":\"screen\"},\"id\":\"2575\",\"type\":\"BoxAnnotation\"},{\"attributes\":{\"callback\":null},\"id\":\"2437\",\"type\":\"DataRange1d\"},{\"attributes\":{\"dimension\":1,\"ticker\":{\"id\":\"2488\",\"type\":\"BasicTicker\"}},\"id\":\"2491\",\"type\":\"Grid\"},{\"attributes\":{\"formatter\":{\"id\":\"2559\",\"type\":\"BasicTickFormatter\"},\"ticker\":{\"id\":\"2488\",\"type\":\"BasicTicker\"}},\"id\":\"2487\",\"type\":\"LinearAxis\"},{\"attributes\":{\"callback\":null,\"data\":{\"x\":[0,1,2,3,4,5,6,7,8,9,10],\"y\":[0,1,2,3,4,5,6,7,8,9,10]},\"selected\":{\"id\":\"2554\",\"type\":\"Selection\"},\"selection_policy\":{\"id\":\"2553\",\"type\":\"UnionRenderers\"}},\"id\":\"2468\",\"type\":\"ColumnDataSource\"},{\"attributes\":{},\"id\":\"2571\",\"type\":\"BasicTickFormatter\"},{\"attributes\":{\"callback\":null},\"id\":\"2439\",\"type\":\"DataRange1d\"},{\"attributes\":{},\"id\":\"2451\",\"type\":\"BasicTicker\"},{\"attributes\":{\"source\":{\"id\":\"2505\",\"type\":\"ColumnDataSource\"}},\"id\":\"2509\",\"type\":\"CDSView\"},{\"attributes\":{\"formatter\":{\"id\":\"2551\",\"type\":\"BasicTickFormatter\"},\"ticker\":{\"id\":\"2446\",\"type\":\"BasicTicker\"}},\"id\":\"2445\",\"type\":\"LinearAxis\"},{\"attributes\":{},\"id\":\"2443\",\"type\":\"LinearScale\"},{\"attributes\":{},\"id\":\"2534\",\"type\":\"HelpTool\"},{\"attributes\":{},\"id\":\"2533\",\"type\":\"ResetTool\"},{\"attributes\":{},\"id\":\"2441\",\"type\":\"LinearScale\"},{\"attributes\":{},\"id\":\"2532\",\"type\":\"SaveTool\"},{\"attributes\":{\"active_drag\":\"auto\",\"active_inspect\":\"auto\",\"active_multi\":null,\"active_scroll\":\"auto\",\"active_tap\":\"auto\",\"tools\":[{\"id\":\"2492\",\"type\":\"PanTool\"},{\"id\":\"2493\",\"type\":\"WheelZoomTool\"},{\"id\":\"2494\",\"type\":\"BoxZoomTool\"},{\"id\":\"2495\",\"type\":\"SaveTool\"},{\"id\":\"2496\",\"type\":\"ResetTool\"},{\"id\":\"2497\",\"type\":\"HelpTool\"}]},\"id\":\"2498\",\"type\":\"Toolbar\"},{\"attributes\":{},\"id\":\"2446\",\"type\":\"BasicTicker\"},{\"attributes\":{\"fill_alpha\":{\"value\":0.1},\"fill_color\":{\"value\":\"#1f77b4\"},\"line_alpha\":{\"value\":0.1},\"line_color\":{\"value\":\"#1f77b4\"},\"size\":{\"units\":\"screen\",\"value\":10},\"x\":{\"field\":\"x\"},\"y\":{\"field\":\"y\"}},\"id\":\"2507\",\"type\":\"Triangle\"},{\"attributes\":{\"ticker\":{\"id\":\"2446\",\"type\":\"BasicTicker\"}},\"id\":\"2449\",\"type\":\"Grid\"},{\"attributes\":{},\"id\":\"2492\",\"type\":\"PanTool\"},{\"attributes\":{\"data_source\":{\"id\":\"2468\",\"type\":\"ColumnDataSource\"},\"glyph\":{\"id\":\"2469\",\"type\":\"Circle\"},\"hover_glyph\":null,\"muted_glyph\":null,\"nonselection_glyph\":{\"id\":\"2470\",\"type\":\"Circle\"},\"selection_glyph\":null,\"view\":{\"id\":\"2472\",\"type\":\"CDSView\"}},\"id\":\"2471\",\"type\":\"GlyphRenderer\"},{\"attributes\":{\"dimension\":1,\"ticker\":{\"id\":\"2451\",\"type\":\"BasicTicker\"}},\"id\":\"2454\",\"type\":\"Grid\"},{\"attributes\":{},\"id\":\"2493\",\"type\":\"WheelZoomTool\"},{\"attributes\":{\"formatter\":{\"id\":\"2549\",\"type\":\"BasicTickFormatter\"},\"ticker\":{\"id\":\"2451\",\"type\":\"BasicTicker\"}},\"id\":\"2450\",\"type\":\"LinearAxis\"},{\"attributes\":{\"overlay\":{\"id\":\"2565\",\"type\":\"BoxAnnotation\"}},\"id\":\"2494\",\"type\":\"BoxZoomTool\"},{\"attributes\":{},\"id\":\"2495\",\"type\":\"SaveTool\"},{\"attributes\":{\"fill_alpha\":{\"value\":0.1},\"fill_color\":{\"value\":\"#1f77b4\"},\"line_alpha\":{\"value\":0.1},\"line_color\":{\"value\":\"#1f77b4\"},\"size\":{\"units\":\"screen\",\"value\":10},\"x\":{\"field\":\"x\"},\"y\":{\"field\":\"y\"}},\"id\":\"2470\",\"type\":\"Circle\"},{\"attributes\":{},\"id\":\"2496\",\"type\":\"ResetTool\"},{\"attributes\":{\"callback\":null,\"data\":{\"x\":[0,1,2,3,4,5,6,7,8,9,10],\"y\":[10,9,8,7,6,5,4,3,2,1,0]},\"selected\":{\"id\":\"2564\",\"type\":\"Selection\"},\"selection_policy\":{\"id\":\"2563\",\"type\":\"UnionRenderers\"}},\"id\":\"2505\",\"type\":\"ColumnDataSource\"},{\"attributes\":{\"active_drag\":\"auto\",\"active_inspect\":\"auto\",\"active_multi\":null,\"active_scroll\":\"auto\",\"active_tap\":\"auto\",\"tools\":[{\"id\":\"2455\",\"type\":\"PanTool\"},{\"id\":\"2456\",\"type\":\"WheelZoomTool\"},{\"id\":\"2457\",\"type\":\"BoxZoomTool\"},{\"id\":\"2458\",\"type\":\"SaveTool\"},{\"id\":\"2459\",\"type\":\"ResetTool\"},{\"id\":\"2460\",\"type\":\"HelpTool\"}]},\"id\":\"2461\",\"type\":\"Toolbar\"},{\"attributes\":{},\"id\":\"2497\",\"type\":\"HelpTool\"},{\"attributes\":{\"below\":[{\"id\":\"2482\",\"type\":\"LinearAxis\"}],\"center\":[{\"id\":\"2486\",\"type\":\"Grid\"},{\"id\":\"2491\",\"type\":\"Grid\"}],\"left\":[{\"id\":\"2487\",\"type\":\"LinearAxis\"}],\"plot_height\":250,\"plot_width\":250,\"renderers\":[{\"id\":\"2508\",\"type\":\"GlyphRenderer\"}],\"title\":{\"id\":\"2557\",\"type\":\"Title\"},\"toolbar\":{\"id\":\"2498\",\"type\":\"Toolbar\"},\"toolbar_location\":null,\"x_range\":{\"id\":\"2474\",\"type\":\"DataRange1d\"},\"x_scale\":{\"id\":\"2478\",\"type\":\"LinearScale\"},\"y_range\":{\"id\":\"2476\",\"type\":\"DataRange1d\"},\"y_scale\":{\"id\":\"2480\",\"type\":\"LinearScale\"}},\"id\":\"2473\",\"subtype\":\"Figure\",\"type\":\"Plot\"},{\"attributes\":{\"fill_alpha\":{\"value\":0.5},\"fill_color\":{\"value\":\"firebrick\"},\"line_alpha\":{\"value\":0.5},\"line_color\":{\"value\":\"firebrick\"},\"size\":{\"units\":\"screen\",\"value\":10},\"x\":{\"field\":\"x\"},\"y\":{\"field\":\"y\"}},\"id\":\"2506\",\"type\":\"Triangle\"},{\"attributes\":{\"active_drag\":\"auto\",\"active_inspect\":\"auto\",\"active_multi\":null,\"active_scroll\":\"auto\",\"active_tap\":\"auto\",\"tools\":[{\"id\":\"2529\",\"type\":\"PanTool\"},{\"id\":\"2530\",\"type\":\"WheelZoomTool\"},{\"id\":\"2531\",\"type\":\"BoxZoomTool\"},{\"id\":\"2532\",\"type\":\"SaveTool\"},{\"id\":\"2533\",\"type\":\"ResetTool\"},{\"id\":\"2534\",\"type\":\"HelpTool\"}]},\"id\":\"2535\",\"type\":\"Toolbar\"},{\"attributes\":{},\"id\":\"2455\",\"type\":\"PanTool\"},{\"attributes\":{},\"id\":\"2456\",\"type\":\"WheelZoomTool\"},{\"attributes\":{},\"id\":\"2559\",\"type\":\"BasicTickFormatter\"},{\"attributes\":{\"text\":\"\"},\"id\":\"2567\",\"type\":\"Title\"},{\"attributes\":{\"callback\":null},\"id\":\"2511\",\"type\":\"DataRange1d\"},{\"attributes\":{\"overlay\":{\"id\":\"2555\",\"type\":\"BoxAnnotation\"}},\"id\":\"2457\",\"type\":\"BoxZoomTool\"},{\"attributes\":{},\"id\":\"2563\",\"type\":\"UnionRenderers\"},{\"attributes\":{},\"id\":\"2458\",\"type\":\"SaveTool\"},{\"attributes\":{\"text\":\"\"},\"id\":\"2547\",\"type\":\"Title\"},{\"attributes\":{},\"id\":\"2459\",\"type\":\"ResetTool\"},{\"attributes\":{\"fill_alpha\":{\"value\":0.5},\"fill_color\":{\"value\":\"navy\"},\"line_alpha\":{\"value\":0.5},\"line_color\":{\"value\":\"navy\"},\"size\":{\"units\":\"screen\",\"value\":10},\"x\":{\"field\":\"x\"},\"y\":{\"field\":\"y\"}},\"id\":\"2469\",\"type\":\"Circle\"},{\"attributes\":{},\"id\":\"2549\",\"type\":\"BasicTickFormatter\"},{\"attributes\":{},\"id\":\"2460\",\"type\":\"HelpTool\"},{\"attributes\":{},\"id\":\"2553\",\"type\":\"UnionRenderers\"},{\"attributes\":{\"fill_alpha\":{\"value\":0.5},\"fill_color\":{\"value\":\"olive\"},\"line_alpha\":{\"value\":0.5},\"line_color\":{\"value\":\"olive\"},\"size\":{\"units\":\"screen\",\"value\":10},\"x\":{\"field\":\"x\"},\"y\":{\"field\":\"y\"}},\"id\":\"2543\",\"type\":\"Square\"},{\"attributes\":{\"below\":[{\"id\":\"2519\",\"type\":\"LinearAxis\"}],\"center\":[{\"id\":\"2523\",\"type\":\"Grid\"},{\"id\":\"2528\",\"type\":\"Grid\"}],\"left\":[{\"id\":\"2524\",\"type\":\"LinearAxis\"}],\"plot_height\":250,\"plot_width\":250,\"renderers\":[{\"id\":\"2545\",\"type\":\"GlyphRenderer\"}],\"title\":{\"id\":\"2567\",\"type\":\"Title\"},\"toolbar\":{\"id\":\"2535\",\"type\":\"Toolbar\"},\"toolbar_location\":null,\"x_range\":{\"id\":\"2511\",\"type\":\"DataRange1d\"},\"x_scale\":{\"id\":\"2515\",\"type\":\"LinearScale\"},\"y_range\":{\"id\":\"2513\",\"type\":\"DataRange1d\"},\"y_scale\":{\"id\":\"2517\",\"type\":\"LinearScale\"}},\"id\":\"2510\",\"subtype\":\"Figure\",\"type\":\"Plot\"},{\"attributes\":{},\"id\":\"2551\",\"type\":\"BasicTickFormatter\"},{\"attributes\":{\"callback\":null},\"id\":\"2476\",\"type\":\"DataRange1d\"},{\"attributes\":{\"callback\":null,\"data\":{\"x\":[0,1,2,3,4,5,6,7,8,9,10],\"y\":[5,4,3,2,1,0,1,2,3,4,5]},\"selected\":{\"id\":\"2574\",\"type\":\"Selection\"},\"selection_policy\":{\"id\":\"2573\",\"type\":\"UnionRenderers\"}},\"id\":\"2542\",\"type\":\"ColumnDataSource\"},{\"attributes\":{},\"id\":\"2554\",\"type\":\"Selection\"},{\"attributes\":{\"bottom_units\":\"screen\",\"fill_alpha\":{\"value\":0.5},\"fill_color\":{\"value\":\"lightgrey\"},\"left_units\":\"screen\",\"level\":\"overlay\",\"line_alpha\":{\"value\":1.0},\"line_color\":{\"value\":\"black\"},\"line_dash\":[4,4],\"line_width\":{\"value\":2},\"render_mode\":\"css\",\"right_units\":\"screen\",\"top_units\":\"screen\"},\"id\":\"2555\",\"type\":\"BoxAnnotation\"},{\"attributes\":{\"source\":{\"id\":\"2468\",\"type\":\"ColumnDataSource\"}},\"id\":\"2472\",\"type\":\"CDSView\"},{\"attributes\":{\"callback\":null},\"id\":\"2474\",\"type\":\"DataRange1d\"},{\"attributes\":{},\"id\":\"2478\",\"type\":\"LinearScale\"},{\"attributes\":{},\"id\":\"2561\",\"type\":\"BasicTickFormatter\"},{\"attributes\":{\"text\":\"\"},\"id\":\"2557\",\"type\":\"Title\"},{\"attributes\":{\"data_source\":{\"id\":\"2505\",\"type\":\"ColumnDataSource\"},\"glyph\":{\"id\":\"2506\",\"type\":\"Triangle\"},\"hover_glyph\":null,\"muted_glyph\":null,\"nonselection_glyph\":{\"id\":\"2507\",\"type\":\"Triangle\"},\"selection_glyph\":null,\"view\":{\"id\":\"2509\",\"type\":\"CDSView\"}},\"id\":\"2508\",\"type\":\"GlyphRenderer\"},{\"attributes\":{},\"id\":\"2564\",\"type\":\"Selection\"},{\"attributes\":{},\"id\":\"2480\",\"type\":\"LinearScale\"},{\"attributes\":{\"ticker\":{\"id\":\"2483\",\"type\":\"BasicTicker\"}},\"id\":\"2486\",\"type\":\"Grid\"},{\"attributes\":{\"bottom_units\":\"screen\",\"fill_alpha\":{\"value\":0.5},\"fill_color\":{\"value\":\"lightgrey\"},\"left_units\":\"screen\",\"level\":\"overlay\",\"line_alpha\":{\"value\":1.0},\"line_color\":{\"value\":\"black\"},\"line_dash\":[4,4],\"line_width\":{\"value\":2},\"render_mode\":\"css\",\"right_units\":\"screen\",\"top_units\":\"screen\"},\"id\":\"2565\",\"type\":\"BoxAnnotation\"},{\"attributes\":{\"formatter\":{\"id\":\"2561\",\"type\":\"BasicTickFormatter\"},\"ticker\":{\"id\":\"2483\",\"type\":\"BasicTicker\"}},\"id\":\"2482\",\"type\":\"LinearAxis\"},{\"attributes\":{},\"id\":\"2483\",\"type\":\"BasicTicker\"}],\"root_ids\":[\"2577\"]},\"title\":\"Bokeh Application\",\"version\":\"1.3.4\"}};\n",
       "  var render_items = [{\"docid\":\"d64f3ad0-93b3-48cc-b93e-85e3dd9dd260\",\"roots\":{\"2577\":\"e24f5c6e-2b97-43d1-a52e-ebb13057223c\"}}];\n",
       "  root.Bokeh.embed.embed_items_notebook(docs_json, render_items);\n",
       "\n",
       "  }\n",
       "  if (root.Bokeh !== undefined) {\n",
       "    embed_document(root);\n",
       "  } else {\n",
       "    var attempts = 0;\n",
       "    var timer = setInterval(function(root) {\n",
       "      if (root.Bokeh !== undefined) {\n",
       "        embed_document(root);\n",
       "        clearInterval(timer);\n",
       "      }\n",
       "      attempts++;\n",
       "      if (attempts > 100) {\n",
       "        console.log(\"Bokeh: ERROR: Unable to run BokehJS code because BokehJS library is missing\");\n",
       "        clearInterval(timer);\n",
       "      }\n",
       "    }, 10, root)\n",
       "  }\n",
       "})(window);"
      ],
      "application/vnd.bokehjs_exec.v0+json": ""
     },
     "metadata": {
      "application/vnd.bokehjs_exec.v0+json": {
       "id": "2577"
      }
     },
     "output_type": "display_data"
    }
   ],
   "source": [
    "from bokeh.layouts import gridplot\n",
    "\n",
    "# create a new plot\n",
    "s1 = figure(width=250, plot_height=250)\n",
    "s1.circle(x, y0, size=10, color=\"navy\", alpha=0.5)\n",
    "\n",
    "# create another one\n",
    "s2 = figure(width=250, height=250)\n",
    "s2.triangle(x, y1, size=10, color=\"firebrick\", alpha=0.5)\n",
    "\n",
    "# create and another\n",
    "s3 = figure(width=250, height=250)\n",
    "s3.square(x, y2, size=10, color=\"olive\", alpha=0.5)\n",
    "\n",
    "# put all the plots in a gridplot\n",
    "p = gridplot([[s1, s2], [s3, None]], toolbar_location=None)\n",
    "\n",
    "# show the results\n",
    "show(p)"
   ]
  },
  {
   "cell_type": "code",
   "execution_count": 25,
   "metadata": {},
   "outputs": [],
   "source": [
    "# EXERCISE: create a gridplot of your own\n"
   ]
  },
  {
   "cell_type": "code",
   "execution_count": null,
   "metadata": {},
   "outputs": [],
   "source": []
  },
  {
   "cell_type": "markdown",
   "metadata": {},
   "source": [
    "<h2>Linking and Interactions</h2></div>"
   ]
  },
  {
   "cell_type": "markdown",
   "metadata": {},
   "source": [
    "##### Linked Interactions\n",
    "\n",
    "It is possible to link various interactions between different Bokeh plots. For instance, the ranges of two (or more) plots can be linked, so that when one of the plots is panned (or zoomed, or otherwise has its range changed) the other plots will update in unison. It is also possible to link selections between two plots, so that when items are selected on one plot, the corresponding items on the second plot also become selected. "
   ]
  },
  {
   "cell_type": "markdown",
   "metadata": {},
   "source": [
    "###### Linked panning\n",
    "\n",
    "Linked panning (when multiple plots have ranges that stay in sync) is simple to spell with Bokeh. You simply share the appropriate range objects between two (or more) plots. The example below shows how to accomplish this by linking the ranges of three plots in various ways:"
   ]
  },
  {
   "cell_type": "code",
   "execution_count": 28,
   "metadata": {},
   "outputs": [
    {
     "data": {
      "text/html": [
       "\n",
       "\n",
       "\n",
       "\n",
       "\n",
       "\n",
       "  <div class=\"bk-root\" id=\"bb81fc8a-d49d-4d5b-9df2-d0c8344c1698\" data-root-id=\"3400\"></div>\n"
      ]
     },
     "metadata": {},
     "output_type": "display_data"
    },
    {
     "data": {
      "application/javascript": [
       "(function(root) {\n",
       "  function embed_document(root) {\n",
       "    \n",
       "  var docs_json = {\"30401fcd-2c96-488e-ae01-e6f6755b2a70\":{\"roots\":{\"references\":[{\"attributes\":{\"children\":[{\"id\":\"3399\",\"type\":\"ToolbarBox\"},{\"id\":\"3397\",\"type\":\"GridBox\"}]},\"id\":\"3400\",\"type\":\"Column\"},{\"attributes\":{\"ticker\":{\"id\":\"3296\",\"type\":\"BasicTicker\"}},\"id\":\"3299\",\"type\":\"Grid\"},{\"attributes\":{},\"id\":\"3346\",\"type\":\"LinearScale\"},{\"attributes\":{},\"id\":\"3381\",\"type\":\"BasicTickFormatter\"},{\"attributes\":{\"children\":[[{\"id\":\"3286\",\"subtype\":\"Figure\",\"type\":\"Plot\"},0,0],[{\"id\":\"3315\",\"subtype\":\"Figure\",\"type\":\"Plot\"},0,1],[{\"id\":\"3342\",\"subtype\":\"Figure\",\"type\":\"Plot\"},0,2]]},\"id\":\"3397\",\"type\":\"GridBox\"},{\"attributes\":{\"callback\":null,\"data\":{\"x\":[0,1,2,3,4,5,6,7,8,9,10],\"y\":[0,1,2,3,4,5,6,7,8,9,10]},\"selected\":{\"id\":\"3377\",\"type\":\"Selection\"},\"selection_policy\":{\"id\":\"3376\",\"type\":\"UnionRenderers\"}},\"id\":\"3310\",\"type\":\"ColumnDataSource\"},{\"attributes\":{},\"id\":\"3328\",\"type\":\"BasicTicker\"},{\"attributes\":{\"dimension\":1,\"ticker\":{\"id\":\"3301\",\"type\":\"BasicTicker\"}},\"id\":\"3304\",\"type\":\"Grid\"},{\"attributes\":{},\"id\":\"3383\",\"type\":\"BasicTickFormatter\"},{\"attributes\":{\"formatter\":{\"id\":\"3372\",\"type\":\"BasicTickFormatter\"},\"ticker\":{\"id\":\"3301\",\"type\":\"BasicTicker\"}},\"id\":\"3300\",\"type\":\"LinearAxis\"},{\"attributes\":{\"ticker\":{\"id\":\"3323\",\"type\":\"BasicTicker\"}},\"id\":\"3326\",\"type\":\"Grid\"},{\"attributes\":{\"callback\":null},\"id\":\"3344\",\"type\":\"DataRange1d\"},{\"attributes\":{},\"id\":\"3385\",\"type\":\"UnionRenderers\"},{\"attributes\":{\"active_drag\":\"auto\",\"active_inspect\":\"auto\",\"active_multi\":null,\"active_scroll\":\"auto\",\"active_tap\":\"auto\",\"tools\":[{\"id\":\"3305\",\"type\":\"PanTool\"},{\"id\":\"3306\",\"type\":\"WheelZoomTool\"}]},\"id\":\"3307\",\"type\":\"Toolbar\"},{\"attributes\":{\"dimension\":1,\"ticker\":{\"id\":\"3328\",\"type\":\"BasicTicker\"}},\"id\":\"3331\",\"type\":\"Grid\"},{\"attributes\":{},\"id\":\"3348\",\"type\":\"LinearScale\"},{\"attributes\":{\"formatter\":{\"id\":\"3381\",\"type\":\"BasicTickFormatter\"},\"ticker\":{\"id\":\"3328\",\"type\":\"BasicTicker\"}},\"id\":\"3327\",\"type\":\"LinearAxis\"},{\"attributes\":{},\"id\":\"3386\",\"type\":\"Selection\"},{\"attributes\":{},\"id\":\"3305\",\"type\":\"PanTool\"},{\"attributes\":{\"formatter\":{\"id\":\"3392\",\"type\":\"BasicTickFormatter\"},\"ticker\":{\"id\":\"3351\",\"type\":\"BasicTicker\"}},\"id\":\"3350\",\"type\":\"LinearAxis\"},{\"attributes\":{},\"id\":\"3301\",\"type\":\"BasicTicker\"},{\"attributes\":{\"fill_color\":{\"value\":\"olive\"},\"line_color\":{\"value\":\"olive\"},\"size\":{\"units\":\"screen\",\"value\":10},\"x\":{\"field\":\"x\"},\"y\":{\"field\":\"y\"}},\"id\":\"3366\",\"type\":\"Square\"},{\"attributes\":{\"active_drag\":\"auto\",\"active_inspect\":\"auto\",\"active_multi\":null,\"active_scroll\":\"auto\",\"active_tap\":\"auto\",\"tools\":[{\"id\":\"3332\",\"type\":\"PanTool\"},{\"id\":\"3333\",\"type\":\"WheelZoomTool\"}]},\"id\":\"3334\",\"type\":\"Toolbar\"},{\"attributes\":{},\"id\":\"3390\",\"type\":\"BasicTickFormatter\"},{\"attributes\":{},\"id\":\"3356\",\"type\":\"BasicTicker\"},{\"attributes\":{\"below\":[{\"id\":\"3322\",\"type\":\"LinearAxis\"}],\"center\":[{\"id\":\"3326\",\"type\":\"Grid\"},{\"id\":\"3331\",\"type\":\"Grid\"}],\"left\":[{\"id\":\"3327\",\"type\":\"LinearAxis\"}],\"plot_height\":250,\"plot_width\":250,\"renderers\":[{\"id\":\"3340\",\"type\":\"GlyphRenderer\"}],\"title\":{\"id\":\"3379\",\"type\":\"Title\"},\"toolbar\":{\"id\":\"3334\",\"type\":\"Toolbar\"},\"toolbar_location\":null,\"x_range\":{\"id\":\"3287\",\"type\":\"DataRange1d\"},\"x_scale\":{\"id\":\"3318\",\"type\":\"LinearScale\"},\"y_range\":{\"id\":\"3289\",\"type\":\"DataRange1d\"},\"y_scale\":{\"id\":\"3320\",\"type\":\"LinearScale\"}},\"id\":\"3315\",\"subtype\":\"Figure\",\"type\":\"Plot\"},{\"attributes\":{},\"id\":\"3351\",\"type\":\"BasicTicker\"},{\"attributes\":{},\"id\":\"3395\",\"type\":\"Selection\"},{\"attributes\":{},\"id\":\"3306\",\"type\":\"WheelZoomTool\"},{\"attributes\":{},\"id\":\"3332\",\"type\":\"PanTool\"},{\"attributes\":{\"ticker\":{\"id\":\"3351\",\"type\":\"BasicTicker\"}},\"id\":\"3354\",\"type\":\"Grid\"},{\"attributes\":{\"data_source\":{\"id\":\"3365\",\"type\":\"ColumnDataSource\"},\"glyph\":{\"id\":\"3366\",\"type\":\"Square\"},\"hover_glyph\":null,\"muted_glyph\":null,\"nonselection_glyph\":{\"id\":\"3367\",\"type\":\"Square\"},\"selection_glyph\":null,\"view\":{\"id\":\"3369\",\"type\":\"CDSView\"}},\"id\":\"3368\",\"type\":\"GlyphRenderer\"},{\"attributes\":{\"text\":\"\"},\"id\":\"3388\",\"type\":\"Title\"},{\"attributes\":{},\"id\":\"3296\",\"type\":\"BasicTicker\"},{\"attributes\":{\"source\":{\"id\":\"3365\",\"type\":\"ColumnDataSource\"}},\"id\":\"3369\",\"type\":\"CDSView\"},{\"attributes\":{},\"id\":\"3360\",\"type\":\"PanTool\"},{\"attributes\":{},\"id\":\"3333\",\"type\":\"WheelZoomTool\"},{\"attributes\":{\"data_source\":{\"id\":\"3310\",\"type\":\"ColumnDataSource\"},\"glyph\":{\"id\":\"3311\",\"type\":\"Circle\"},\"hover_glyph\":null,\"muted_glyph\":null,\"nonselection_glyph\":{\"id\":\"3312\",\"type\":\"Circle\"},\"selection_glyph\":null,\"view\":{\"id\":\"3314\",\"type\":\"CDSView\"}},\"id\":\"3313\",\"type\":\"GlyphRenderer\"},{\"attributes\":{\"formatter\":{\"id\":\"3390\",\"type\":\"BasicTickFormatter\"},\"ticker\":{\"id\":\"3356\",\"type\":\"BasicTicker\"}},\"id\":\"3355\",\"type\":\"LinearAxis\"},{\"attributes\":{\"below\":[{\"id\":\"3295\",\"type\":\"LinearAxis\"}],\"center\":[{\"id\":\"3299\",\"type\":\"Grid\"},{\"id\":\"3304\",\"type\":\"Grid\"}],\"left\":[{\"id\":\"3300\",\"type\":\"LinearAxis\"}],\"plot_height\":250,\"plot_width\":250,\"renderers\":[{\"id\":\"3313\",\"type\":\"GlyphRenderer\"}],\"title\":{\"id\":\"3370\",\"type\":\"Title\"},\"toolbar\":{\"id\":\"3307\",\"type\":\"Toolbar\"},\"toolbar_location\":null,\"x_range\":{\"id\":\"3287\",\"type\":\"DataRange1d\"},\"x_scale\":{\"id\":\"3291\",\"type\":\"LinearScale\"},\"y_range\":{\"id\":\"3289\",\"type\":\"DataRange1d\"},\"y_scale\":{\"id\":\"3293\",\"type\":\"LinearScale\"}},\"id\":\"3286\",\"subtype\":\"Figure\",\"type\":\"Plot\"},{\"attributes\":{},\"id\":\"3318\",\"type\":\"LinearScale\"},{\"attributes\":{},\"id\":\"3392\",\"type\":\"BasicTickFormatter\"},{\"attributes\":{\"toolbar\":{\"id\":\"3398\",\"type\":\"ProxyToolbar\"},\"toolbar_location\":\"above\"},\"id\":\"3399\",\"type\":\"ToolbarBox\"},{\"attributes\":{\"fill_alpha\":{\"value\":0.1},\"fill_color\":{\"value\":\"#1f77b4\"},\"line_alpha\":{\"value\":0.1},\"line_color\":{\"value\":\"#1f77b4\"},\"size\":{\"units\":\"screen\",\"value\":10},\"x\":{\"field\":\"x\"},\"y\":{\"field\":\"y\"}},\"id\":\"3312\",\"type\":\"Circle\"},{\"attributes\":{\"callback\":null,\"data\":{\"x\":[0,1,2,3,4,5,6,7,8,9,10],\"y\":[5,4,3,2,1,0,1,2,3,4,5]},\"selected\":{\"id\":\"3395\",\"type\":\"Selection\"},\"selection_policy\":{\"id\":\"3394\",\"type\":\"UnionRenderers\"}},\"id\":\"3365\",\"type\":\"ColumnDataSource\"},{\"attributes\":{\"text\":\"\"},\"id\":\"3379\",\"type\":\"Title\"},{\"attributes\":{\"fill_color\":{\"value\":\"navy\"},\"line_color\":{\"value\":\"navy\"},\"size\":{\"units\":\"screen\",\"value\":10},\"x\":{\"field\":\"x\"},\"y\":{\"field\":\"y\"}},\"id\":\"3311\",\"type\":\"Circle\"},{\"attributes\":{\"fill_alpha\":{\"value\":0.1},\"fill_color\":{\"value\":\"#1f77b4\"},\"line_alpha\":{\"value\":0.1},\"line_color\":{\"value\":\"#1f77b4\"},\"size\":{\"units\":\"screen\",\"value\":10},\"x\":{\"field\":\"x\"},\"y\":{\"field\":\"y\"}},\"id\":\"3339\",\"type\":\"Triangle\"},{\"attributes\":{\"callback\":null},\"id\":\"3289\",\"type\":\"DataRange1d\"},{\"attributes\":{\"active_drag\":\"auto\",\"active_inspect\":\"auto\",\"active_multi\":null,\"active_scroll\":\"auto\",\"active_tap\":\"auto\",\"tools\":[{\"id\":\"3360\",\"type\":\"PanTool\"},{\"id\":\"3361\",\"type\":\"WheelZoomTool\"}]},\"id\":\"3362\",\"type\":\"Toolbar\"},{\"attributes\":{},\"id\":\"3394\",\"type\":\"UnionRenderers\"},{\"attributes\":{\"text\":\"\"},\"id\":\"3370\",\"type\":\"Title\"},{\"attributes\":{\"callback\":null},\"id\":\"3287\",\"type\":\"DataRange1d\"},{\"attributes\":{\"fill_color\":{\"value\":\"firebrick\"},\"line_color\":{\"value\":\"firebrick\"},\"size\":{\"units\":\"screen\",\"value\":10},\"x\":{\"field\":\"x\"},\"y\":{\"field\":\"y\"}},\"id\":\"3338\",\"type\":\"Triangle\"},{\"attributes\":{},\"id\":\"3291\",\"type\":\"LinearScale\"},{\"attributes\":{},\"id\":\"3372\",\"type\":\"BasicTickFormatter\"},{\"attributes\":{\"source\":{\"id\":\"3310\",\"type\":\"ColumnDataSource\"}},\"id\":\"3314\",\"type\":\"CDSView\"},{\"attributes\":{\"fill_alpha\":{\"value\":0.1},\"fill_color\":{\"value\":\"#1f77b4\"},\"line_alpha\":{\"value\":0.1},\"line_color\":{\"value\":\"#1f77b4\"},\"size\":{\"units\":\"screen\",\"value\":10},\"x\":{\"field\":\"x\"},\"y\":{\"field\":\"y\"}},\"id\":\"3367\",\"type\":\"Square\"},{\"attributes\":{\"dimension\":1,\"ticker\":{\"id\":\"3356\",\"type\":\"BasicTicker\"}},\"id\":\"3359\",\"type\":\"Grid\"},{\"attributes\":{\"callback\":null,\"data\":{\"x\":[0,1,2,3,4,5,6,7,8,9,10],\"y\":[10,9,8,7,6,5,4,3,2,1,0]},\"selected\":{\"id\":\"3386\",\"type\":\"Selection\"},\"selection_policy\":{\"id\":\"3385\",\"type\":\"UnionRenderers\"}},\"id\":\"3337\",\"type\":\"ColumnDataSource\"},{\"attributes\":{},\"id\":\"3376\",\"type\":\"UnionRenderers\"},{\"attributes\":{\"below\":[{\"id\":\"3350\",\"type\":\"LinearAxis\"}],\"center\":[{\"id\":\"3354\",\"type\":\"Grid\"},{\"id\":\"3359\",\"type\":\"Grid\"}],\"left\":[{\"id\":\"3355\",\"type\":\"LinearAxis\"}],\"plot_height\":250,\"plot_width\":250,\"renderers\":[{\"id\":\"3368\",\"type\":\"GlyphRenderer\"}],\"title\":{\"id\":\"3388\",\"type\":\"Title\"},\"toolbar\":{\"id\":\"3362\",\"type\":\"Toolbar\"},\"toolbar_location\":null,\"x_range\":{\"id\":\"3287\",\"type\":\"DataRange1d\"},\"x_scale\":{\"id\":\"3346\",\"type\":\"LinearScale\"},\"y_range\":{\"id\":\"3344\",\"type\":\"DataRange1d\"},\"y_scale\":{\"id\":\"3348\",\"type\":\"LinearScale\"}},\"id\":\"3342\",\"subtype\":\"Figure\",\"type\":\"Plot\"},{\"attributes\":{\"data_source\":{\"id\":\"3337\",\"type\":\"ColumnDataSource\"},\"glyph\":{\"id\":\"3338\",\"type\":\"Triangle\"},\"hover_glyph\":null,\"muted_glyph\":null,\"nonselection_glyph\":{\"id\":\"3339\",\"type\":\"Triangle\"},\"selection_glyph\":null,\"view\":{\"id\":\"3341\",\"type\":\"CDSView\"}},\"id\":\"3340\",\"type\":\"GlyphRenderer\"},{\"attributes\":{\"formatter\":{\"id\":\"3383\",\"type\":\"BasicTickFormatter\"},\"ticker\":{\"id\":\"3323\",\"type\":\"BasicTicker\"}},\"id\":\"3322\",\"type\":\"LinearAxis\"},{\"attributes\":{},\"id\":\"3320\",\"type\":\"LinearScale\"},{\"attributes\":{},\"id\":\"3293\",\"type\":\"LinearScale\"},{\"attributes\":{},\"id\":\"3374\",\"type\":\"BasicTickFormatter\"},{\"attributes\":{},\"id\":\"3323\",\"type\":\"BasicTicker\"},{\"attributes\":{},\"id\":\"3377\",\"type\":\"Selection\"},{\"attributes\":{\"formatter\":{\"id\":\"3374\",\"type\":\"BasicTickFormatter\"},\"ticker\":{\"id\":\"3296\",\"type\":\"BasicTicker\"}},\"id\":\"3295\",\"type\":\"LinearAxis\"},{\"attributes\":{\"source\":{\"id\":\"3337\",\"type\":\"ColumnDataSource\"}},\"id\":\"3341\",\"type\":\"CDSView\"},{\"attributes\":{},\"id\":\"3361\",\"type\":\"WheelZoomTool\"},{\"attributes\":{\"tools\":[{\"id\":\"3305\",\"type\":\"PanTool\"},{\"id\":\"3306\",\"type\":\"WheelZoomTool\"},{\"id\":\"3332\",\"type\":\"PanTool\"},{\"id\":\"3333\",\"type\":\"WheelZoomTool\"},{\"id\":\"3360\",\"type\":\"PanTool\"},{\"id\":\"3361\",\"type\":\"WheelZoomTool\"}]},\"id\":\"3398\",\"type\":\"ProxyToolbar\"}],\"root_ids\":[\"3400\"]},\"title\":\"Bokeh Application\",\"version\":\"1.3.4\"}};\n",
       "  var render_items = [{\"docid\":\"30401fcd-2c96-488e-ae01-e6f6755b2a70\",\"roots\":{\"3400\":\"bb81fc8a-d49d-4d5b-9df2-d0c8344c1698\"}}];\n",
       "  root.Bokeh.embed.embed_items_notebook(docs_json, render_items);\n",
       "\n",
       "  }\n",
       "  if (root.Bokeh !== undefined) {\n",
       "    embed_document(root);\n",
       "  } else {\n",
       "    var attempts = 0;\n",
       "    var timer = setInterval(function(root) {\n",
       "      if (root.Bokeh !== undefined) {\n",
       "        embed_document(root);\n",
       "        clearInterval(timer);\n",
       "      }\n",
       "      attempts++;\n",
       "      if (attempts > 100) {\n",
       "        console.log(\"Bokeh: ERROR: Unable to run BokehJS code because BokehJS library is missing\");\n",
       "        clearInterval(timer);\n",
       "      }\n",
       "    }, 10, root)\n",
       "  }\n",
       "})(window);"
      ],
      "application/vnd.bokehjs_exec.v0+json": ""
     },
     "metadata": {
      "application/vnd.bokehjs_exec.v0+json": {
       "id": "3400"
      }
     },
     "output_type": "display_data"
    }
   ],
   "source": [
    "from bokeh.layouts import gridplot\n",
    "\n",
    "x = list(range(11))\n",
    "y0, y1, y2 = x, [10-i for i in x], [abs(i-5) for i in x]\n",
    "\n",
    "plot_options = dict(width=250, plot_height=250, tools='pan,wheel_zoom')\n",
    "\n",
    "# create a new plot\n",
    "s1 = figure(**plot_options)\n",
    "s1.circle(x, y0, size=10, color=\"navy\")\n",
    "\n",
    "# create a new plot and share both ranges\n",
    "s2 = figure(x_range=s1.x_range, y_range=s1.y_range, **plot_options)\n",
    "s2.triangle(x, y1, size=10, color=\"firebrick\")\n",
    "\n",
    "# create a new plot and share only one range\n",
    "s3 = figure(x_range=s1.x_range, **plot_options)\n",
    "s3.square(x, y2, size=10, color=\"olive\")\n",
    "\n",
    "p = gridplot([[s1, s2, s3]])\n",
    "\n",
    "# show the results\n",
    "show(p)"
   ]
  },
  {
   "cell_type": "code",
   "execution_count": 29,
   "metadata": {},
   "outputs": [],
   "source": [
    "# EXERCISE: create two plots in a gridplot, and link their ranges\n"
   ]
  },
  {
   "cell_type": "markdown",
   "metadata": {},
   "source": [
    "## Linked brushing\n",
    "\n",
    "Linking selections is accomplished in a similar way, by sharing data sources between plots. Note that normally with ``bokeh.plotting`` and ``bokeh.charts`` creating a default data source for simple plots is handled automatically. However to share a data source, we must create them by hand and pass them explicitly. This is illustrated in the example below:"
   ]
  },
  {
   "cell_type": "code",
   "execution_count": 30,
   "metadata": {},
   "outputs": [
    {
     "data": {
      "text/html": [
       "\n",
       "\n",
       "\n",
       "\n",
       "\n",
       "\n",
       "  <div class=\"bk-root\" id=\"58de76fe-c37b-4272-840c-637be10bdde8\" data-root-id=\"3812\"></div>\n"
      ]
     },
     "metadata": {},
     "output_type": "display_data"
    },
    {
     "data": {
      "application/javascript": [
       "(function(root) {\n",
       "  function embed_document(root) {\n",
       "    \n",
       "  var docs_json = {\"3d912f27-d041-4965-ad73-c591d22dddd3\":{\"roots\":{\"references\":[{\"attributes\":{\"children\":[{\"id\":\"3811\",\"type\":\"ToolbarBox\"},{\"id\":\"3809\",\"type\":\"GridBox\"}]},\"id\":\"3812\",\"type\":\"Column\"},{\"attributes\":{},\"id\":\"3771\",\"type\":\"BasicTicker\"},{\"attributes\":{\"active_drag\":\"auto\",\"active_inspect\":\"auto\",\"active_multi\":null,\"active_scroll\":\"auto\",\"active_tap\":\"auto\",\"tools\":[{\"id\":\"3744\",\"type\":\"BoxSelectTool\"},{\"id\":\"3745\",\"type\":\"LassoSelectTool\"},{\"id\":\"3746\",\"type\":\"HelpTool\"}]},\"id\":\"3747\",\"type\":\"Toolbar\"},{\"attributes\":{\"ticker\":{\"id\":\"3766\",\"type\":\"BasicTicker\"}},\"id\":\"3769\",\"type\":\"Grid\"},{\"attributes\":{},\"id\":\"3789\",\"type\":\"BasicTickFormatter\"},{\"attributes\":{},\"id\":\"3800\",\"type\":\"BasicTickFormatter\"},{\"attributes\":{\"callback\":null,\"overlay\":{\"id\":\"3795\",\"type\":\"BoxAnnotation\"}},\"id\":\"3744\",\"type\":\"BoxSelectTool\"},{\"attributes\":{\"dimension\":1,\"ticker\":{\"id\":\"3771\",\"type\":\"BasicTicker\"}},\"id\":\"3774\",\"type\":\"Grid\"},{\"attributes\":{\"callback\":null,\"data\":{\"x\":[-20,-19,-18,-17,-16,-15,-14,-13,-12,-11,-10,-9,-8,-7,-6,-5,-4,-3,-2,-1,0,1,2,3,4,5,6,7,8,9,10,11,12,13,14,15,16,17,18,19,20],\"y0\":[20,19,18,17,16,15,14,13,12,11,10,9,8,7,6,5,4,3,2,1,0,1,2,3,4,5,6,7,8,9,10,11,12,13,14,15,16,17,18,19,20],\"y1\":[400,361,324,289,256,225,196,169,144,121,100,81,64,49,36,25,16,9,4,1,0,1,4,9,16,25,36,49,64,81,100,121,144,169,196,225,256,289,324,361,400]},\"selected\":{\"id\":\"3794\",\"type\":\"Selection\"},\"selection_policy\":{\"id\":\"3793\",\"type\":\"UnionRenderers\"}},\"id\":\"3724\",\"type\":\"ColumnDataSource\"},{\"attributes\":{\"callback\":null,\"overlay\":{\"id\":\"3796\",\"type\":\"PolyAnnotation\"}},\"id\":\"3745\",\"type\":\"LassoSelectTool\"},{\"attributes\":{\"formatter\":{\"id\":\"3800\",\"type\":\"BasicTickFormatter\"},\"ticker\":{\"id\":\"3771\",\"type\":\"BasicTicker\"}},\"id\":\"3770\",\"type\":\"LinearAxis\"},{\"attributes\":{\"fill_color\":{\"value\":\"#1f77b4\"},\"line_color\":{\"value\":\"#1f77b4\"},\"x\":{\"field\":\"x\"},\"y\":{\"field\":\"y0\"}},\"id\":\"3752\",\"type\":\"Circle\"},{\"attributes\":{\"children\":[[{\"id\":\"3725\",\"subtype\":\"Figure\",\"type\":\"Plot\"},0,0],[{\"id\":\"3756\",\"subtype\":\"Figure\",\"type\":\"Plot\"},0,1]]},\"id\":\"3809\",\"type\":\"GridBox\"},{\"attributes\":{},\"id\":\"3746\",\"type\":\"HelpTool\"},{\"attributes\":{\"callback\":null},\"id\":\"3728\",\"type\":\"DataRange1d\"},{\"attributes\":{\"fill_alpha\":{\"value\":0.1},\"fill_color\":{\"value\":\"#1f77b4\"},\"line_alpha\":{\"value\":0.1},\"line_color\":{\"value\":\"#1f77b4\"},\"x\":{\"field\":\"x\"},\"y\":{\"field\":\"y0\"}},\"id\":\"3753\",\"type\":\"Circle\"},{\"attributes\":{},\"id\":\"3730\",\"type\":\"LinearScale\"},{\"attributes\":{\"active_drag\":\"auto\",\"active_inspect\":\"auto\",\"active_multi\":null,\"active_scroll\":\"auto\",\"active_tap\":\"auto\",\"tools\":[{\"id\":\"3775\",\"type\":\"BoxSelectTool\"},{\"id\":\"3776\",\"type\":\"LassoSelectTool\"},{\"id\":\"3777\",\"type\":\"HelpTool\"}]},\"id\":\"3778\",\"type\":\"Toolbar\"},{\"attributes\":{\"bottom_units\":\"screen\",\"fill_alpha\":{\"value\":0.5},\"fill_color\":{\"value\":\"lightgrey\"},\"left_units\":\"screen\",\"level\":\"overlay\",\"line_alpha\":{\"value\":1.0},\"line_color\":{\"value\":\"black\"},\"line_dash\":[4,4],\"line_width\":{\"value\":2},\"render_mode\":\"css\",\"right_units\":\"screen\",\"top_units\":\"screen\"},\"id\":\"3795\",\"type\":\"BoxAnnotation\"},{\"attributes\":{\"callback\":null,\"overlay\":{\"id\":\"3806\",\"type\":\"BoxAnnotation\"}},\"id\":\"3775\",\"type\":\"BoxSelectTool\"},{\"attributes\":{\"callback\":null},\"id\":\"3726\",\"type\":\"DataRange1d\"},{\"attributes\":{\"below\":[{\"id\":\"3734\",\"type\":\"LinearAxis\"}],\"center\":[{\"id\":\"3738\",\"type\":\"Grid\"},{\"id\":\"3743\",\"type\":\"Grid\"}],\"left\":[{\"id\":\"3739\",\"type\":\"LinearAxis\"}],\"plot_height\":300,\"plot_width\":300,\"renderers\":[{\"id\":\"3754\",\"type\":\"GlyphRenderer\"}],\"title\":{\"id\":\"3787\",\"type\":\"Title\"},\"toolbar\":{\"id\":\"3747\",\"type\":\"Toolbar\"},\"toolbar_location\":null,\"x_range\":{\"id\":\"3726\",\"type\":\"DataRange1d\"},\"x_scale\":{\"id\":\"3730\",\"type\":\"LinearScale\"},\"y_range\":{\"id\":\"3728\",\"type\":\"DataRange1d\"},\"y_scale\":{\"id\":\"3732\",\"type\":\"LinearScale\"}},\"id\":\"3725\",\"subtype\":\"Figure\",\"type\":\"Plot\"},{\"attributes\":{\"fill_color\":{\"value\":\"#1f77b4\"},\"line_color\":{\"value\":\"#1f77b4\"},\"x\":{\"field\":\"x\"},\"y\":{\"field\":\"y1\"}},\"id\":\"3783\",\"type\":\"Circle\"},{\"attributes\":{\"callback\":null,\"overlay\":{\"id\":\"3807\",\"type\":\"PolyAnnotation\"}},\"id\":\"3776\",\"type\":\"LassoSelectTool\"},{\"attributes\":{\"data_source\":{\"id\":\"3724\",\"type\":\"ColumnDataSource\"},\"glyph\":{\"id\":\"3752\",\"type\":\"Circle\"},\"hover_glyph\":null,\"muted_glyph\":null,\"nonselection_glyph\":{\"id\":\"3753\",\"type\":\"Circle\"},\"selection_glyph\":null,\"view\":{\"id\":\"3755\",\"type\":\"CDSView\"}},\"id\":\"3754\",\"type\":\"GlyphRenderer\"},{\"attributes\":{},\"id\":\"3793\",\"type\":\"UnionRenderers\"},{\"attributes\":{\"source\":{\"id\":\"3724\",\"type\":\"ColumnDataSource\"}},\"id\":\"3755\",\"type\":\"CDSView\"},{\"attributes\":{},\"id\":\"3777\",\"type\":\"HelpTool\"},{\"attributes\":{\"tools\":[{\"id\":\"3744\",\"type\":\"BoxSelectTool\"},{\"id\":\"3745\",\"type\":\"LassoSelectTool\"},{\"id\":\"3746\",\"type\":\"HelpTool\"},{\"id\":\"3775\",\"type\":\"BoxSelectTool\"},{\"id\":\"3776\",\"type\":\"LassoSelectTool\"},{\"id\":\"3777\",\"type\":\"HelpTool\"}]},\"id\":\"3810\",\"type\":\"ProxyToolbar\"},{\"attributes\":{},\"id\":\"3802\",\"type\":\"BasicTickFormatter\"},{\"attributes\":{},\"id\":\"3791\",\"type\":\"BasicTickFormatter\"},{\"attributes\":{\"callback\":null},\"id\":\"3757\",\"type\":\"DataRange1d\"},{\"attributes\":{\"bottom_units\":\"screen\",\"fill_alpha\":{\"value\":0.5},\"fill_color\":{\"value\":\"lightgrey\"},\"left_units\":\"screen\",\"level\":\"overlay\",\"line_alpha\":{\"value\":1.0},\"line_color\":{\"value\":\"black\"},\"line_dash\":[4,4],\"line_width\":{\"value\":2},\"render_mode\":\"css\",\"right_units\":\"screen\",\"top_units\":\"screen\"},\"id\":\"3806\",\"type\":\"BoxAnnotation\"},{\"attributes\":{},\"id\":\"3732\",\"type\":\"LinearScale\"},{\"attributes\":{},\"id\":\"3761\",\"type\":\"LinearScale\"},{\"attributes\":{\"fill_alpha\":{\"value\":0.5},\"fill_color\":{\"value\":\"lightgrey\"},\"level\":\"overlay\",\"line_alpha\":{\"value\":1.0},\"line_color\":{\"value\":\"black\"},\"line_dash\":[4,4],\"line_width\":{\"value\":2},\"xs_units\":\"screen\",\"ys_units\":\"screen\"},\"id\":\"3807\",\"type\":\"PolyAnnotation\"},{\"attributes\":{\"formatter\":{\"id\":\"3791\",\"type\":\"BasicTickFormatter\"},\"ticker\":{\"id\":\"3735\",\"type\":\"BasicTicker\"}},\"id\":\"3734\",\"type\":\"LinearAxis\"},{\"attributes\":{\"callback\":null},\"id\":\"3759\",\"type\":\"DataRange1d\"},{\"attributes\":{\"fill_alpha\":{\"value\":0.5},\"fill_color\":{\"value\":\"lightgrey\"},\"level\":\"overlay\",\"line_alpha\":{\"value\":1.0},\"line_color\":{\"value\":\"black\"},\"line_dash\":[4,4],\"line_width\":{\"value\":2},\"xs_units\":\"screen\",\"ys_units\":\"screen\"},\"id\":\"3796\",\"type\":\"PolyAnnotation\"},{\"attributes\":{},\"id\":\"3740\",\"type\":\"BasicTicker\"},{\"attributes\":{\"data_source\":{\"id\":\"3724\",\"type\":\"ColumnDataSource\"},\"glyph\":{\"id\":\"3783\",\"type\":\"Circle\"},\"hover_glyph\":null,\"muted_glyph\":null,\"nonselection_glyph\":{\"id\":\"3784\",\"type\":\"Circle\"},\"selection_glyph\":null,\"view\":{\"id\":\"3786\",\"type\":\"CDSView\"}},\"id\":\"3785\",\"type\":\"GlyphRenderer\"},{\"attributes\":{},\"id\":\"3735\",\"type\":\"BasicTicker\"},{\"attributes\":{\"source\":{\"id\":\"3724\",\"type\":\"ColumnDataSource\"}},\"id\":\"3786\",\"type\":\"CDSView\"},{\"attributes\":{\"ticker\":{\"id\":\"3735\",\"type\":\"BasicTicker\"}},\"id\":\"3738\",\"type\":\"Grid\"},{\"attributes\":{\"fill_alpha\":{\"value\":0.1},\"fill_color\":{\"value\":\"#1f77b4\"},\"line_alpha\":{\"value\":0.1},\"line_color\":{\"value\":\"#1f77b4\"},\"x\":{\"field\":\"x\"},\"y\":{\"field\":\"y1\"}},\"id\":\"3784\",\"type\":\"Circle\"},{\"attributes\":{\"dimension\":1,\"ticker\":{\"id\":\"3740\",\"type\":\"BasicTicker\"}},\"id\":\"3743\",\"type\":\"Grid\"},{\"attributes\":{\"formatter\":{\"id\":\"3789\",\"type\":\"BasicTickFormatter\"},\"ticker\":{\"id\":\"3740\",\"type\":\"BasicTicker\"}},\"id\":\"3739\",\"type\":\"LinearAxis\"},{\"attributes\":{},\"id\":\"3763\",\"type\":\"LinearScale\"},{\"attributes\":{\"text\":\"\"},\"id\":\"3798\",\"type\":\"Title\"},{\"attributes\":{\"toolbar\":{\"id\":\"3810\",\"type\":\"ProxyToolbar\"},\"toolbar_location\":\"above\"},\"id\":\"3811\",\"type\":\"ToolbarBox\"},{\"attributes\":{\"below\":[{\"id\":\"3765\",\"type\":\"LinearAxis\"}],\"center\":[{\"id\":\"3769\",\"type\":\"Grid\"},{\"id\":\"3774\",\"type\":\"Grid\"}],\"left\":[{\"id\":\"3770\",\"type\":\"LinearAxis\"}],\"plot_height\":300,\"plot_width\":300,\"renderers\":[{\"id\":\"3785\",\"type\":\"GlyphRenderer\"}],\"title\":{\"id\":\"3798\",\"type\":\"Title\"},\"toolbar\":{\"id\":\"3778\",\"type\":\"Toolbar\"},\"toolbar_location\":null,\"x_range\":{\"id\":\"3757\",\"type\":\"DataRange1d\"},\"x_scale\":{\"id\":\"3761\",\"type\":\"LinearScale\"},\"y_range\":{\"id\":\"3759\",\"type\":\"DataRange1d\"},\"y_scale\":{\"id\":\"3763\",\"type\":\"LinearScale\"}},\"id\":\"3756\",\"subtype\":\"Figure\",\"type\":\"Plot\"},{\"attributes\":{\"formatter\":{\"id\":\"3802\",\"type\":\"BasicTickFormatter\"},\"ticker\":{\"id\":\"3766\",\"type\":\"BasicTicker\"}},\"id\":\"3765\",\"type\":\"LinearAxis\"},{\"attributes\":{},\"id\":\"3794\",\"type\":\"Selection\"},{\"attributes\":{\"text\":\"\"},\"id\":\"3787\",\"type\":\"Title\"},{\"attributes\":{},\"id\":\"3766\",\"type\":\"BasicTicker\"}],\"root_ids\":[\"3812\"]},\"title\":\"Bokeh Application\",\"version\":\"1.3.4\"}};\n",
       "  var render_items = [{\"docid\":\"3d912f27-d041-4965-ad73-c591d22dddd3\",\"roots\":{\"3812\":\"58de76fe-c37b-4272-840c-637be10bdde8\"}}];\n",
       "  root.Bokeh.embed.embed_items_notebook(docs_json, render_items);\n",
       "\n",
       "  }\n",
       "  if (root.Bokeh !== undefined) {\n",
       "    embed_document(root);\n",
       "  } else {\n",
       "    var attempts = 0;\n",
       "    var timer = setInterval(function(root) {\n",
       "      if (root.Bokeh !== undefined) {\n",
       "        embed_document(root);\n",
       "        clearInterval(timer);\n",
       "      }\n",
       "      attempts++;\n",
       "      if (attempts > 100) {\n",
       "        console.log(\"Bokeh: ERROR: Unable to run BokehJS code because BokehJS library is missing\");\n",
       "        clearInterval(timer);\n",
       "      }\n",
       "    }, 10, root)\n",
       "  }\n",
       "})(window);"
      ],
      "application/vnd.bokehjs_exec.v0+json": ""
     },
     "metadata": {
      "application/vnd.bokehjs_exec.v0+json": {
       "id": "3812"
      }
     },
     "output_type": "display_data"
    }
   ],
   "source": [
    "from bokeh.models import ColumnDataSource\n",
    "\n",
    "x = list(range(-20, 21))\n",
    "y0, y1 = [abs(xx) for xx in x], [xx**2 for xx in x]\n",
    "\n",
    "# create a column data source for the plots to share\n",
    "source = ColumnDataSource(data=dict(x=x, y0=y0, y1=y1))\n",
    "\n",
    "TOOLS = \"box_select,lasso_select,help\"\n",
    "\n",
    "# create a new plot and add a renderer\n",
    "left = figure(tools=TOOLS, width=300, height=300)\n",
    "left.circle('x', 'y0', source=source)\n",
    "\n",
    "# create another new plot and add a renderer\n",
    "right = figure(tools=TOOLS, width=300, height=300)\n",
    "right.circle('x', 'y1', source=source)\n",
    "\n",
    "p = gridplot([[left, right]])\n",
    "\n",
    "show(p)"
   ]
  },
  {
   "cell_type": "code",
   "execution_count": 31,
   "metadata": {},
   "outputs": [],
   "source": [
    "# EXERCISE: create two plots in a gridplot, and link their data sources\n",
    "\n"
   ]
  },
  {
   "cell_type": "markdown",
   "metadata": {},
   "source": [
    "# Hover Tools\n",
    "\n",
    "Bokeh has a Hover Tool that allows additional information to be displayed in a popup whenever the user hovers over a specific glyph. Basic hover tool configuration amounts to providing a list of ``(name, format)`` tuples. The full details can be found in the User's Guide [here](http://bokeh.pydata.org/en/latest/docs/user_guide/tools.html#hovertool).\n",
    "\n",
    "The example below shows some basic usage of the Hover tool with a circle glyph, using hover information defined in utils.py:"
   ]
  },
  {
   "cell_type": "code",
   "execution_count": 33,
   "metadata": {},
   "outputs": [
    {
     "data": {
      "text/html": [
       "\n",
       "\n",
       "\n",
       "\n",
       "\n",
       "\n",
       "  <div class=\"bk-root\" id=\"c17f6acc-aee0-4b1d-b19a-c96adb3611fd\" data-root-id=\"4398\"></div>\n"
      ]
     },
     "metadata": {},
     "output_type": "display_data"
    },
    {
     "data": {
      "application/javascript": [
       "(function(root) {\n",
       "  function embed_document(root) {\n",
       "    \n",
       "  var docs_json = {\"c38772db-4d2b-4440-97f5-2aaa294c6e61\":{\"roots\":{\"references\":[{\"attributes\":{\"below\":[{\"id\":\"4409\",\"type\":\"LinearAxis\"}],\"center\":[{\"id\":\"4413\",\"type\":\"Grid\"},{\"id\":\"4418\",\"type\":\"Grid\"}],\"left\":[{\"id\":\"4414\",\"type\":\"LinearAxis\"}],\"plot_height\":300,\"plot_width\":300,\"renderers\":[{\"id\":\"4424\",\"type\":\"GlyphRenderer\"}],\"title\":{\"id\":\"4399\",\"type\":\"Title\"},\"toolbar\":{\"id\":\"4419\",\"type\":\"Toolbar\"},\"x_range\":{\"id\":\"4401\",\"type\":\"DataRange1d\"},\"x_scale\":{\"id\":\"4405\",\"type\":\"LinearScale\"},\"y_range\":{\"id\":\"4403\",\"type\":\"DataRange1d\"},\"y_scale\":{\"id\":\"4407\",\"type\":\"LinearScale\"}},\"id\":\"4398\",\"subtype\":\"Figure\",\"type\":\"Plot\"},{\"attributes\":{},\"id\":\"4405\",\"type\":\"LinearScale\"},{\"attributes\":{\"callback\":null},\"id\":\"4403\",\"type\":\"DataRange1d\"},{\"attributes\":{\"callback\":null,\"tooltips\":[[\"index\",\"$index\"],[\"(x,y)\",\"($x, $y)\"],[\"desc\",\"@desc\"]]},\"id\":\"4397\",\"type\":\"HoverTool\"},{\"attributes\":{},\"id\":\"4407\",\"type\":\"LinearScale\"},{\"attributes\":{},\"id\":\"4633\",\"type\":\"BasicTickFormatter\"},{\"attributes\":{\"formatter\":{\"id\":\"4633\",\"type\":\"BasicTickFormatter\"},\"ticker\":{\"id\":\"4410\",\"type\":\"BasicTicker\"}},\"id\":\"4409\",\"type\":\"LinearAxis\"},{\"attributes\":{},\"id\":\"4415\",\"type\":\"BasicTicker\"},{\"attributes\":{},\"id\":\"4636\",\"type\":\"Selection\"},{\"attributes\":{},\"id\":\"4410\",\"type\":\"BasicTicker\"},{\"attributes\":{},\"id\":\"4635\",\"type\":\"UnionRenderers\"},{\"attributes\":{\"ticker\":{\"id\":\"4410\",\"type\":\"BasicTicker\"}},\"id\":\"4413\",\"type\":\"Grid\"},{\"attributes\":{\"callback\":null},\"id\":\"4401\",\"type\":\"DataRange1d\"},{\"attributes\":{\"active_drag\":\"auto\",\"active_inspect\":\"auto\",\"active_multi\":null,\"active_scroll\":\"auto\",\"active_tap\":\"auto\",\"tools\":[{\"id\":\"4397\",\"type\":\"HoverTool\"}]},\"id\":\"4419\",\"type\":\"Toolbar\"},{\"attributes\":{\"dimension\":1,\"ticker\":{\"id\":\"4415\",\"type\":\"BasicTicker\"}},\"id\":\"4418\",\"type\":\"Grid\"},{\"attributes\":{\"formatter\":{\"id\":\"4631\",\"type\":\"BasicTickFormatter\"},\"ticker\":{\"id\":\"4415\",\"type\":\"BasicTicker\"}},\"id\":\"4414\",\"type\":\"LinearAxis\"},{\"attributes\":{\"fill_color\":{\"value\":\"#1f77b4\"},\"line_color\":{\"value\":\"#1f77b4\"},\"size\":{\"units\":\"screen\",\"value\":20},\"x\":{\"field\":\"x\"},\"y\":{\"field\":\"y\"}},\"id\":\"4422\",\"type\":\"Circle\"},{\"attributes\":{\"fill_alpha\":{\"value\":0.1},\"fill_color\":{\"value\":\"#1f77b4\"},\"line_alpha\":{\"value\":0.1},\"line_color\":{\"value\":\"#1f77b4\"},\"size\":{\"units\":\"screen\",\"value\":20},\"x\":{\"field\":\"x\"},\"y\":{\"field\":\"y\"}},\"id\":\"4423\",\"type\":\"Circle\"},{\"attributes\":{},\"id\":\"4631\",\"type\":\"BasicTickFormatter\"},{\"attributes\":{\"callback\":null,\"data\":{\"desc\":[\"A\",\"b\",\"C\",\"d\",\"E\"],\"x\":[1,2,3,4,5],\"y\":[2,5,8,2,7]},\"selected\":{\"id\":\"4636\",\"type\":\"Selection\"},\"selection_policy\":{\"id\":\"4635\",\"type\":\"UnionRenderers\"}},\"id\":\"4396\",\"type\":\"ColumnDataSource\"},{\"attributes\":{\"text\":\"Mouse over the dots\"},\"id\":\"4399\",\"type\":\"Title\"},{\"attributes\":{\"data_source\":{\"id\":\"4396\",\"type\":\"ColumnDataSource\"},\"glyph\":{\"id\":\"4422\",\"type\":\"Circle\"},\"hover_glyph\":null,\"muted_glyph\":null,\"nonselection_glyph\":{\"id\":\"4423\",\"type\":\"Circle\"},\"selection_glyph\":null,\"view\":{\"id\":\"4425\",\"type\":\"CDSView\"}},\"id\":\"4424\",\"type\":\"GlyphRenderer\"},{\"attributes\":{\"source\":{\"id\":\"4396\",\"type\":\"ColumnDataSource\"}},\"id\":\"4425\",\"type\":\"CDSView\"}],\"root_ids\":[\"4398\"]},\"title\":\"Bokeh Application\",\"version\":\"1.3.4\"}};\n",
       "  var render_items = [{\"docid\":\"c38772db-4d2b-4440-97f5-2aaa294c6e61\",\"roots\":{\"4398\":\"c17f6acc-aee0-4b1d-b19a-c96adb3611fd\"}}];\n",
       "  root.Bokeh.embed.embed_items_notebook(docs_json, render_items);\n",
       "\n",
       "  }\n",
       "  if (root.Bokeh !== undefined) {\n",
       "    embed_document(root);\n",
       "  } else {\n",
       "    var attempts = 0;\n",
       "    var timer = setInterval(function(root) {\n",
       "      if (root.Bokeh !== undefined) {\n",
       "        embed_document(root);\n",
       "        clearInterval(timer);\n",
       "      }\n",
       "      attempts++;\n",
       "      if (attempts > 100) {\n",
       "        console.log(\"Bokeh: ERROR: Unable to run BokehJS code because BokehJS library is missing\");\n",
       "        clearInterval(timer);\n",
       "      }\n",
       "    }, 10, root)\n",
       "  }\n",
       "})(window);"
      ],
      "application/vnd.bokehjs_exec.v0+json": ""
     },
     "metadata": {
      "application/vnd.bokehjs_exec.v0+json": {
       "id": "4398"
      }
     },
     "output_type": "display_data"
    }
   ],
   "source": [
    "from bokeh.models import HoverTool\n",
    "\n",
    "source = ColumnDataSource(\n",
    "        data=dict(\n",
    "            x=[1, 2, 3, 4, 5],\n",
    "            y=[2, 5, 8, 2, 7],\n",
    "            desc=['A', 'b', 'C', 'd', 'E'],\n",
    "        )\n",
    "    )\n",
    "\n",
    "hover = HoverTool(\n",
    "        tooltips=[\n",
    "            (\"index\", \"$index\"),\n",
    "            (\"(x,y)\", \"($x, $y)\"),\n",
    "            (\"desc\", \"@desc\"),\n",
    "        ]\n",
    "    )\n",
    "\n",
    "p = figure(plot_width=300, plot_height=300, tools=[hover], title=\"Mouse over the dots\")\n",
    "\n",
    "p.circle('x', 'y', size=20, source=source)\n",
    "\n",
    "show(p)"
   ]
  },
  {
   "cell_type": "code",
   "execution_count": 90,
   "metadata": {},
   "outputs": [
    {
     "data": {
      "text/html": [
       "<div>\n",
       "<style scoped>\n",
       "    .dataframe tbody tr th:only-of-type {\n",
       "        vertical-align: middle;\n",
       "    }\n",
       "\n",
       "    .dataframe tbody tr th {\n",
       "        vertical-align: top;\n",
       "    }\n",
       "\n",
       "    .dataframe thead th {\n",
       "        text-align: right;\n",
       "    }\n",
       "</style>\n",
       "<table border=\"1\" class=\"dataframe\">\n",
       "  <thead>\n",
       "    <tr style=\"text-align: right;\">\n",
       "      <th></th>\n",
       "      <th>star_rating</th>\n",
       "      <th>title</th>\n",
       "      <th>content_rating</th>\n",
       "      <th>genre</th>\n",
       "      <th>duration</th>\n",
       "      <th>actors_list</th>\n",
       "    </tr>\n",
       "  </thead>\n",
       "  <tbody>\n",
       "    <tr>\n",
       "      <td>0</td>\n",
       "      <td>9.3</td>\n",
       "      <td>The Shawshank Redemption</td>\n",
       "      <td>R</td>\n",
       "      <td>Crime</td>\n",
       "      <td>142</td>\n",
       "      <td>[u'Tim Robbins', u'Morgan Freeman', u'Bob Gunt...</td>\n",
       "    </tr>\n",
       "    <tr>\n",
       "      <td>1</td>\n",
       "      <td>9.2</td>\n",
       "      <td>The Godfather</td>\n",
       "      <td>R</td>\n",
       "      <td>Crime</td>\n",
       "      <td>175</td>\n",
       "      <td>[u'Marlon Brando', u'Al Pacino', u'James Caan']</td>\n",
       "    </tr>\n",
       "    <tr>\n",
       "      <td>2</td>\n",
       "      <td>9.1</td>\n",
       "      <td>The Godfather: Part II</td>\n",
       "      <td>R</td>\n",
       "      <td>Crime</td>\n",
       "      <td>200</td>\n",
       "      <td>[u'Al Pacino', u'Robert De Niro', u'Robert Duv...</td>\n",
       "    </tr>\n",
       "    <tr>\n",
       "      <td>3</td>\n",
       "      <td>9.0</td>\n",
       "      <td>The Dark Knight</td>\n",
       "      <td>PG-13</td>\n",
       "      <td>Action</td>\n",
       "      <td>152</td>\n",
       "      <td>[u'Christian Bale', u'Heath Ledger', u'Aaron E...</td>\n",
       "    </tr>\n",
       "    <tr>\n",
       "      <td>4</td>\n",
       "      <td>8.9</td>\n",
       "      <td>Pulp Fiction</td>\n",
       "      <td>R</td>\n",
       "      <td>Crime</td>\n",
       "      <td>154</td>\n",
       "      <td>[u'John Travolta', u'Uma Thurman', u'Samuel L....</td>\n",
       "    </tr>\n",
       "  </tbody>\n",
       "</table>\n",
       "</div>"
      ],
      "text/plain": [
       "   star_rating                     title content_rating   genre  duration  \\\n",
       "0          9.3  The Shawshank Redemption              R   Crime       142   \n",
       "1          9.2             The Godfather              R   Crime       175   \n",
       "2          9.1    The Godfather: Part II              R   Crime       200   \n",
       "3          9.0           The Dark Knight          PG-13  Action       152   \n",
       "4          8.9              Pulp Fiction              R   Crime       154   \n",
       "\n",
       "                                         actors_list  \n",
       "0  [u'Tim Robbins', u'Morgan Freeman', u'Bob Gunt...  \n",
       "1    [u'Marlon Brando', u'Al Pacino', u'James Caan']  \n",
       "2  [u'Al Pacino', u'Robert De Niro', u'Robert Duv...  \n",
       "3  [u'Christian Bale', u'Heath Ledger', u'Aaron E...  \n",
       "4  [u'John Travolta', u'Uma Thurman', u'Samuel L....  "
      ]
     },
     "execution_count": 90,
     "metadata": {},
     "output_type": "execute_result"
    }
   ],
   "source": [
    "imdb.head()"
   ]
  },
  {
   "cell_type": "code",
   "execution_count": 105,
   "metadata": {},
   "outputs": [],
   "source": [
    "#Create a scatter plot of star vs. duration with tooltip hover\n",
    "#including at least the title of the movie\n"
   ]
  },
  {
   "cell_type": "code",
   "execution_count": null,
   "metadata": {},
   "outputs": [],
   "source": []
  },
  {
   "cell_type": "code",
   "execution_count": null,
   "metadata": {},
   "outputs": [],
   "source": []
  },
  {
   "cell_type": "markdown",
   "metadata": {},
   "source": [
    "# Widgets"
   ]
  },
  {
   "cell_type": "markdown",
   "metadata": {},
   "source": [
    "Bokeh supports direct integration with a small basic widget set. Thse can be used in conjunction with a Bokeh Server, or with ``CustomJS`` models to add more interactive capability to your documents. You can see a complete list, with example code in the [Adding Widgets](http://bokeh.pydata.org/en/latest/docs/user_guide/interaction.html#adding-widgets) section of the User's Guide. \n",
    "\n",
    "To use the widgets, include them in a layout like you would a plot object:"
   ]
  },
  {
   "cell_type": "code",
   "execution_count": 34,
   "metadata": {},
   "outputs": [
    {
     "data": {
      "text/html": [
       "\n",
       "\n",
       "\n",
       "\n",
       "\n",
       "\n",
       "  <div class=\"bk-root\" id=\"0e46f121-7044-4306-952c-58f0f7de399f\" data-root-id=\"4680\"></div>\n"
      ]
     },
     "metadata": {},
     "output_type": "display_data"
    },
    {
     "data": {
      "application/javascript": [
       "(function(root) {\n",
       "  function embed_document(root) {\n",
       "    \n",
       "  var docs_json = {\"26c6eb5c-c4c2-4597-8d68-26caeb986f65\":{\"roots\":{\"references\":[{\"attributes\":{\"children\":[{\"id\":\"4679\",\"type\":\"Slider\"}]},\"id\":\"4680\",\"type\":\"WidgetBox\"},{\"attributes\":{\"callback\":null,\"end\":10,\"start\":0,\"step\":0.1,\"title\":\"foo\",\"value\":1},\"id\":\"4679\",\"type\":\"Slider\"}],\"root_ids\":[\"4680\"]},\"title\":\"Bokeh Application\",\"version\":\"1.3.4\"}};\n",
       "  var render_items = [{\"docid\":\"26c6eb5c-c4c2-4597-8d68-26caeb986f65\",\"roots\":{\"4680\":\"0e46f121-7044-4306-952c-58f0f7de399f\"}}];\n",
       "  root.Bokeh.embed.embed_items_notebook(docs_json, render_items);\n",
       "\n",
       "  }\n",
       "  if (root.Bokeh !== undefined) {\n",
       "    embed_document(root);\n",
       "  } else {\n",
       "    var attempts = 0;\n",
       "    var timer = setInterval(function(root) {\n",
       "      if (root.Bokeh !== undefined) {\n",
       "        embed_document(root);\n",
       "        clearInterval(timer);\n",
       "      }\n",
       "      attempts++;\n",
       "      if (attempts > 100) {\n",
       "        console.log(\"Bokeh: ERROR: Unable to run BokehJS code because BokehJS library is missing\");\n",
       "        clearInterval(timer);\n",
       "      }\n",
       "    }, 10, root)\n",
       "  }\n",
       "})(window);"
      ],
      "application/vnd.bokehjs_exec.v0+json": ""
     },
     "metadata": {
      "application/vnd.bokehjs_exec.v0+json": {
       "id": "4680"
      }
     },
     "output_type": "display_data"
    }
   ],
   "source": [
    "from bokeh.layouts import widgetbox\n",
    "from bokeh.models.widgets import Slider\n",
    "\n",
    "\n",
    "slider = Slider(start=0, end=10, value=1, step=.1, title=\"foo\")\n",
    "\n",
    "show(widgetbox(slider))"
   ]
  },
  {
   "cell_type": "code",
   "execution_count": 35,
   "metadata": {},
   "outputs": [],
   "source": [
    "# EXERCISE: create and show a Select widget \n"
   ]
  },
  {
   "cell_type": "markdown",
   "metadata": {},
   "source": [
    "# CustomJS Callbacks"
   ]
  },
  {
   "cell_type": "code",
   "execution_count": 106,
   "metadata": {},
   "outputs": [
    {
     "data": {
      "text/html": [
       "\n",
       "\n",
       "\n",
       "\n",
       "\n",
       "\n",
       "  <div class=\"bk-root\" id=\"bb6417c5-7bc3-440a-b309-06385bca8266\" data-root-id=\"23449\"></div>\n"
      ]
     },
     "metadata": {},
     "output_type": "display_data"
    },
    {
     "data": {
      "application/javascript": [
       "(function(root) {\n",
       "  function embed_document(root) {\n",
       "    \n",
       "  var docs_json = {\"d313739d-9c7b-4c5c-97fe-e16fd68754f2\":{\"roots\":{\"references\":[{\"attributes\":{\"below\":[{\"id\":\"23458\",\"type\":\"LinearAxis\"}],\"center\":[{\"id\":\"23462\",\"type\":\"Grid\"},{\"id\":\"23467\",\"type\":\"Grid\"}],\"left\":[{\"id\":\"23463\",\"type\":\"LinearAxis\"}],\"plot_height\":300,\"renderers\":[{\"id\":\"23473\",\"type\":\"GlyphRenderer\"}],\"title\":{\"id\":\"24037\",\"type\":\"Title\"},\"toolbar\":{\"id\":\"23468\",\"type\":\"Toolbar\"},\"x_range\":{\"id\":\"23450\",\"type\":\"DataRange1d\"},\"x_scale\":{\"id\":\"23454\",\"type\":\"LinearScale\"},\"y_range\":{\"id\":\"23452\",\"type\":\"DataRange1d\"},\"y_scale\":{\"id\":\"23456\",\"type\":\"LinearScale\"}},\"id\":\"23449\",\"subtype\":\"Figure\",\"type\":\"Plot\"},{\"attributes\":{},\"id\":\"23454\",\"type\":\"LinearScale\"},{\"attributes\":{\"callback\":null},\"id\":\"23452\",\"type\":\"DataRange1d\"},{\"attributes\":{},\"id\":\"24043\",\"type\":\"UnionRenderers\"},{\"attributes\":{},\"id\":\"24044\",\"type\":\"Selection\"},{\"attributes\":{\"fill_alpha\":{\"value\":0.1},\"fill_color\":{\"value\":\"#1f77b4\"},\"line_alpha\":{\"value\":0.1},\"line_color\":{\"value\":\"#1f77b4\"},\"size\":{\"units\":\"screen\",\"value\":20},\"x\":{\"field\":\"x\"},\"y\":{\"field\":\"y\"}},\"id\":\"23472\",\"type\":\"Circle\"},{\"attributes\":{\"dimension\":1,\"ticker\":{\"id\":\"23464\",\"type\":\"BasicTicker\"}},\"id\":\"23467\",\"type\":\"Grid\"},{\"attributes\":{\"data_source\":{\"id\":\"23470\",\"type\":\"ColumnDataSource\"},\"glyph\":{\"id\":\"23471\",\"type\":\"Circle\"},\"hover_glyph\":null,\"muted_glyph\":null,\"nonselection_glyph\":{\"id\":\"23472\",\"type\":\"Circle\"},\"selection_glyph\":null,\"view\":{\"id\":\"23474\",\"type\":\"CDSView\"}},\"id\":\"23473\",\"type\":\"GlyphRenderer\"},{\"attributes\":{\"formatter\":{\"id\":\"24041\",\"type\":\"BasicTickFormatter\"},\"ticker\":{\"id\":\"23459\",\"type\":\"BasicTicker\"}},\"id\":\"23458\",\"type\":\"LinearAxis\"},{\"attributes\":{},\"id\":\"24041\",\"type\":\"BasicTickFormatter\"},{\"attributes\":{\"callback\":null},\"id\":\"23450\",\"type\":\"DataRange1d\"},{\"attributes\":{\"source\":{\"id\":\"23470\",\"type\":\"ColumnDataSource\"}},\"id\":\"23474\",\"type\":\"CDSView\"},{\"attributes\":{\"active_drag\":\"auto\",\"active_inspect\":\"auto\",\"active_multi\":null,\"active_scroll\":\"auto\",\"active_tap\":\"auto\",\"tools\":[{\"id\":\"23448\",\"type\":\"TapTool\"}]},\"id\":\"23468\",\"type\":\"Toolbar\"},{\"attributes\":{\"fill_color\":{\"value\":\"#1f77b4\"},\"line_color\":{\"value\":\"#1f77b4\"},\"size\":{\"units\":\"screen\",\"value\":20},\"x\":{\"field\":\"x\"},\"y\":{\"field\":\"y\"}},\"id\":\"23471\",\"type\":\"Circle\"},{\"attributes\":{\"formatter\":{\"id\":\"24039\",\"type\":\"BasicTickFormatter\"},\"ticker\":{\"id\":\"23464\",\"type\":\"BasicTicker\"}},\"id\":\"23463\",\"type\":\"LinearAxis\"},{\"attributes\":{\"ticker\":{\"id\":\"23459\",\"type\":\"BasicTicker\"}},\"id\":\"23462\",\"type\":\"Grid\"},{\"attributes\":{},\"id\":\"23464\",\"type\":\"BasicTicker\"},{\"attributes\":{},\"id\":\"23456\",\"type\":\"LinearScale\"},{\"attributes\":{\"callback\":{\"id\":\"23447\",\"type\":\"CustomJS\"}},\"id\":\"23448\",\"type\":\"TapTool\"},{\"attributes\":{},\"id\":\"24039\",\"type\":\"BasicTickFormatter\"},{\"attributes\":{},\"id\":\"23459\",\"type\":\"BasicTicker\"},{\"attributes\":{\"text\":\"\"},\"id\":\"24037\",\"type\":\"Title\"},{\"attributes\":{\"callback\":null,\"data\":{\"x\":[1,2,3,4,5],\"y\":[2,5,8,2,7]},\"selected\":{\"id\":\"24044\",\"type\":\"Selection\"},\"selection_policy\":{\"id\":\"24043\",\"type\":\"UnionRenderers\"}},\"id\":\"23470\",\"type\":\"ColumnDataSource\"},{\"attributes\":{\"code\":\"alert('Button Pushed!!')\"},\"id\":\"23447\",\"type\":\"CustomJS\"}],\"root_ids\":[\"23449\"]},\"title\":\"Bokeh Application\",\"version\":\"1.3.4\"}};\n",
       "  var render_items = [{\"docid\":\"d313739d-9c7b-4c5c-97fe-e16fd68754f2\",\"roots\":{\"23449\":\"bb6417c5-7bc3-440a-b309-06385bca8266\"}}];\n",
       "  root.Bokeh.embed.embed_items_notebook(docs_json, render_items);\n",
       "\n",
       "  }\n",
       "  if (root.Bokeh !== undefined) {\n",
       "    embed_document(root);\n",
       "  } else {\n",
       "    var attempts = 0;\n",
       "    var timer = setInterval(function(root) {\n",
       "      if (root.Bokeh !== undefined) {\n",
       "        embed_document(root);\n",
       "        clearInterval(timer);\n",
       "      }\n",
       "      attempts++;\n",
       "      if (attempts > 100) {\n",
       "        console.log(\"Bokeh: ERROR: Unable to run BokehJS code because BokehJS library is missing\");\n",
       "        clearInterval(timer);\n",
       "      }\n",
       "    }, 10, root)\n",
       "  }\n",
       "})(window);"
      ],
      "application/vnd.bokehjs_exec.v0+json": ""
     },
     "metadata": {
      "application/vnd.bokehjs_exec.v0+json": {
       "id": "23449"
      }
     },
     "output_type": "display_data"
    }
   ],
   "source": [
    "from bokeh.models import TapTool, CustomJS, ColumnDataSource\n",
    "\n",
    "callback = CustomJS(code=\"alert('Button Pushed!!')\")\n",
    "tap = TapTool(callback=callback)\n",
    "\n",
    "p = figure(plot_width=600, plot_height=300, tools=[tap])\n",
    "\n",
    "p.circle(x=[1, 2, 3, 4, 5], y=[2, 5, 8, 2, 7], size=20)\n",
    "\n",
    "show(p)"
   ]
  },
  {
   "cell_type": "markdown",
   "metadata": {},
   "source": [
    "## Lots of places to add callbacks\n",
    "\n",
    "* Widgets - Button, Toggle, Dropdown, TextInput, AutocompleteInput, Select, Multiselect, Slider, (DateRangeSlider), DatePicker,\n",
    "* Tools - TapTool, BoxSelectTool, HoverTool,\n",
    "* Selection - ColumnDataSource, AjaxDataSource, BlazeDataSource, ServerDataSource\n",
    "* Ranges - Range1d, DataRange1d, FactorRange\n"
   ]
  },
  {
   "cell_type": "markdown",
   "metadata": {},
   "source": [
    "## Callbacks for widgets\n",
    "\n",
    "Widgets that have values associated can have small JavaScript actions attached to them. These actions (also referred to as \"callbacks\") are executed whenever the widget's value is changed. In order to make it easier to refer to specific Bokeh models (e.g., a data source, or a glyhph) from JavaScript, the ``CustomJS`` obejct also accepts a dictionary of \"args\" that map names to Python Bokeh models. The corresponding JavaScript models are made available automaticaly to the ``CustomJS`` code. \n",
    "\n",
    "And example below shows an action attached to a slider that updates a data source whenever the slider is moved:"
   ]
  },
  {
   "cell_type": "code",
   "execution_count": 107,
   "metadata": {},
   "outputs": [
    {
     "data": {
      "text/html": [
       "\n",
       "\n",
       "\n",
       "\n",
       "\n",
       "\n",
       "  <div class=\"bk-root\" id=\"8dde94c3-000c-45ff-9db3-76706135e0c1\" data-root-id=\"24133\"></div>\n"
      ]
     },
     "metadata": {},
     "output_type": "display_data"
    },
    {
     "data": {
      "application/javascript": [
       "(function(root) {\n",
       "  function embed_document(root) {\n",
       "    \n",
       "  var docs_json = {\"c3cdd38b-2df0-41e5-9456-42a1feab6743\":{\"roots\":{\"references\":[{\"attributes\":{\"children\":[{\"id\":\"24131\",\"type\":\"Slider\"},{\"id\":\"24094\",\"subtype\":\"Figure\",\"type\":\"Plot\"}]},\"id\":\"24133\",\"type\":\"Column\"},{\"attributes\":{},\"id\":\"24114\",\"type\":\"WheelZoomTool\"},{\"attributes\":{\"args\":{\"slider\":{\"id\":\"24131\",\"type\":\"Slider\"},\"source\":{\"id\":\"24093\",\"type\":\"ColumnDataSource\"}},\"code\":\"\\n    var data = source.data;\\n    var f = slider.value;\\n    x = data['x']\\n    y = data['y']\\n    for (i = 0; i < x.length; i++) {\\n        y[i] = Math.pow(x[i], f)\\n    }\\n    source.change.emit();\\n\"},\"id\":\"24132\",\"type\":\"CustomJS\"},{\"attributes\":{\"overlay\":{\"id\":\"24712\",\"type\":\"BoxAnnotation\"}},\"id\":\"24115\",\"type\":\"BoxZoomTool\"},{\"attributes\":{\"dimension\":1,\"ticker\":{\"id\":\"24109\",\"type\":\"BasicTicker\"}},\"id\":\"24112\",\"type\":\"Grid\"},{\"attributes\":{},\"id\":\"24710\",\"type\":\"UnionRenderers\"},{\"attributes\":{\"active_drag\":\"auto\",\"active_inspect\":\"auto\",\"active_multi\":null,\"active_scroll\":\"auto\",\"active_tap\":\"auto\",\"tools\":[{\"id\":\"24113\",\"type\":\"PanTool\"},{\"id\":\"24114\",\"type\":\"WheelZoomTool\"},{\"id\":\"24115\",\"type\":\"BoxZoomTool\"},{\"id\":\"24116\",\"type\":\"SaveTool\"},{\"id\":\"24117\",\"type\":\"ResetTool\"},{\"id\":\"24118\",\"type\":\"HelpTool\"}]},\"id\":\"24119\",\"type\":\"Toolbar\"},{\"attributes\":{\"callback\":null},\"id\":\"24097\",\"type\":\"DataRange1d\"},{\"attributes\":{},\"id\":\"24706\",\"type\":\"BasicTickFormatter\"},{\"attributes\":{},\"id\":\"24118\",\"type\":\"HelpTool\"},{\"attributes\":{},\"id\":\"24117\",\"type\":\"ResetTool\"},{\"attributes\":{\"formatter\":{\"id\":\"24706\",\"type\":\"BasicTickFormatter\"},\"ticker\":{\"id\":\"24109\",\"type\":\"BasicTicker\"}},\"id\":\"24108\",\"type\":\"LinearAxis\"},{\"attributes\":{},\"id\":\"24109\",\"type\":\"BasicTicker\"},{\"attributes\":{\"line_alpha\":0.6,\"line_color\":\"#1f77b4\",\"line_width\":3,\"x\":{\"field\":\"x\"},\"y\":{\"field\":\"y\"}},\"id\":\"24127\",\"type\":\"Line\"},{\"attributes\":{\"formatter\":{\"id\":\"24708\",\"type\":\"BasicTickFormatter\"},\"ticker\":{\"id\":\"24104\",\"type\":\"BasicTicker\"}},\"id\":\"24103\",\"type\":\"LinearAxis\"},{\"attributes\":{\"ticker\":{\"id\":\"24104\",\"type\":\"BasicTicker\"}},\"id\":\"24107\",\"type\":\"Grid\"},{\"attributes\":{\"callback\":null,\"end\":6,\"js_property_callbacks\":{\"change:value\":[{\"id\":\"24132\",\"type\":\"CustomJS\"}]},\"start\":0.1,\"step\":0.1,\"title\":\"power\",\"value\":1},\"id\":\"24131\",\"type\":\"Slider\"},{\"attributes\":{},\"id\":\"24099\",\"type\":\"LinearScale\"},{\"attributes\":{\"data_source\":{\"id\":\"24093\",\"type\":\"ColumnDataSource\"},\"glyph\":{\"id\":\"24127\",\"type\":\"Line\"},\"hover_glyph\":null,\"muted_glyph\":null,\"nonselection_glyph\":{\"id\":\"24128\",\"type\":\"Line\"},\"selection_glyph\":null,\"view\":{\"id\":\"24130\",\"type\":\"CDSView\"}},\"id\":\"24129\",\"type\":\"GlyphRenderer\"},{\"attributes\":{},\"id\":\"24113\",\"type\":\"PanTool\"},{\"attributes\":{\"bottom_units\":\"screen\",\"fill_alpha\":{\"value\":0.5},\"fill_color\":{\"value\":\"lightgrey\"},\"left_units\":\"screen\",\"level\":\"overlay\",\"line_alpha\":{\"value\":1.0},\"line_color\":{\"value\":\"black\"},\"line_dash\":[4,4],\"line_width\":{\"value\":2},\"render_mode\":\"css\",\"right_units\":\"screen\",\"top_units\":\"screen\"},\"id\":\"24712\",\"type\":\"BoxAnnotation\"},{\"attributes\":{},\"id\":\"24101\",\"type\":\"LinearScale\"},{\"attributes\":{},\"id\":\"24104\",\"type\":\"BasicTicker\"},{\"attributes\":{},\"id\":\"24116\",\"type\":\"SaveTool\"},{\"attributes\":{\"callback\":null,\"data\":{\"x\":[0.0,0.005,0.01,0.015,0.02,0.025,0.03,0.035,0.04,0.045,0.05,0.055,0.06,0.065,0.07,0.075,0.08,0.085,0.09,0.095,0.1,0.105,0.11,0.115,0.12,0.125,0.13,0.135,0.14,0.145,0.15,0.155,0.16,0.165,0.17,0.17500000000000002,0.18,0.185,0.19,0.195,0.2,0.20500000000000002,0.21,0.215,0.22,0.225,0.23,0.23500000000000001,0.24,0.245,0.25,0.255,0.26,0.265,0.27,0.275,0.28,0.28500000000000003,0.29,0.295,0.3,0.305,0.31,0.315,0.32,0.325,0.33,0.335,0.34,0.34500000000000003,0.35000000000000003,0.355,0.36,0.365,0.37,0.375,0.38,0.385,0.39,0.395,0.4,0.405,0.41000000000000003,0.41500000000000004,0.42,0.425,0.43,0.435,0.44,0.445,0.45,0.455,0.46,0.465,0.47000000000000003,0.47500000000000003,0.48,0.485,0.49,0.495,0.5,0.505,0.51,0.515,0.52,0.525,0.53,0.535,0.54,0.545,0.55,0.555,0.56,0.5650000000000001,0.5700000000000001,0.5750000000000001,0.58,0.585,0.59,0.595,0.6,0.605,0.61,0.615,0.62,0.625,0.63,0.635,0.64,0.645,0.65,0.655,0.66,0.665,0.67,0.675,0.68,0.685,0.6900000000000001,0.6950000000000001,0.7000000000000001,0.705,0.71,0.715,0.72,0.725,0.73,0.735,0.74,0.745,0.75,0.755,0.76,0.765,0.77,0.775,0.78,0.785,0.79,0.795,0.8,0.805,0.81,0.8150000000000001,0.8200000000000001,0.8250000000000001,0.8300000000000001,0.835,0.84,0.845,0.85,0.855,0.86,0.865,0.87,0.875,0.88,0.885,0.89,0.895,0.9,0.905,0.91,0.915,0.92,0.925,0.93,0.935,0.9400000000000001,0.9450000000000001,0.9500000000000001,0.9550000000000001,0.96,0.965,0.97,0.975,0.98,0.985,0.99,0.995,1.0],\"y\":[0.0,0.005,0.01,0.015,0.02,0.025,0.03,0.035,0.04,0.045,0.05,0.055,0.06,0.065,0.07,0.075,0.08,0.085,0.09,0.095,0.1,0.105,0.11,0.115,0.12,0.125,0.13,0.135,0.14,0.145,0.15,0.155,0.16,0.165,0.17,0.17500000000000002,0.18,0.185,0.19,0.195,0.2,0.20500000000000002,0.21,0.215,0.22,0.225,0.23,0.23500000000000001,0.24,0.245,0.25,0.255,0.26,0.265,0.27,0.275,0.28,0.28500000000000003,0.29,0.295,0.3,0.305,0.31,0.315,0.32,0.325,0.33,0.335,0.34,0.34500000000000003,0.35000000000000003,0.355,0.36,0.365,0.37,0.375,0.38,0.385,0.39,0.395,0.4,0.405,0.41000000000000003,0.41500000000000004,0.42,0.425,0.43,0.435,0.44,0.445,0.45,0.455,0.46,0.465,0.47000000000000003,0.47500000000000003,0.48,0.485,0.49,0.495,0.5,0.505,0.51,0.515,0.52,0.525,0.53,0.535,0.54,0.545,0.55,0.555,0.56,0.5650000000000001,0.5700000000000001,0.5750000000000001,0.58,0.585,0.59,0.595,0.6,0.605,0.61,0.615,0.62,0.625,0.63,0.635,0.64,0.645,0.65,0.655,0.66,0.665,0.67,0.675,0.68,0.685,0.6900000000000001,0.6950000000000001,0.7000000000000001,0.705,0.71,0.715,0.72,0.725,0.73,0.735,0.74,0.745,0.75,0.755,0.76,0.765,0.77,0.775,0.78,0.785,0.79,0.795,0.8,0.805,0.81,0.8150000000000001,0.8200000000000001,0.8250000000000001,0.8300000000000001,0.835,0.84,0.845,0.85,0.855,0.86,0.865,0.87,0.875,0.88,0.885,0.89,0.895,0.9,0.905,0.91,0.915,0.92,0.925,0.93,0.935,0.9400000000000001,0.9450000000000001,0.9500000000000001,0.9550000000000001,0.96,0.965,0.97,0.975,0.98,0.985,0.99,0.995,1.0]},\"selected\":{\"id\":\"24711\",\"type\":\"Selection\"},\"selection_policy\":{\"id\":\"24710\",\"type\":\"UnionRenderers\"}},\"id\":\"24093\",\"type\":\"ColumnDataSource\"},{\"attributes\":{\"line_alpha\":0.1,\"line_color\":\"#1f77b4\",\"line_width\":3,\"x\":{\"field\":\"x\"},\"y\":{\"field\":\"y\"}},\"id\":\"24128\",\"type\":\"Line\"},{\"attributes\":{\"source\":{\"id\":\"24093\",\"type\":\"ColumnDataSource\"}},\"id\":\"24130\",\"type\":\"CDSView\"},{\"attributes\":{},\"id\":\"24711\",\"type\":\"Selection\"},{\"attributes\":{\"text\":\"\"},\"id\":\"24704\",\"type\":\"Title\"},{\"attributes\":{\"below\":[{\"id\":\"24103\",\"type\":\"LinearAxis\"}],\"center\":[{\"id\":\"24107\",\"type\":\"Grid\"},{\"id\":\"24112\",\"type\":\"Grid\"}],\"left\":[{\"id\":\"24108\",\"type\":\"LinearAxis\"}],\"plot_height\":400,\"plot_width\":400,\"renderers\":[{\"id\":\"24129\",\"type\":\"GlyphRenderer\"}],\"title\":{\"id\":\"24704\",\"type\":\"Title\"},\"toolbar\":{\"id\":\"24119\",\"type\":\"Toolbar\"},\"x_range\":{\"id\":\"24095\",\"type\":\"DataRange1d\"},\"x_scale\":{\"id\":\"24099\",\"type\":\"LinearScale\"},\"y_range\":{\"id\":\"24097\",\"type\":\"DataRange1d\"},\"y_scale\":{\"id\":\"24101\",\"type\":\"LinearScale\"}},\"id\":\"24094\",\"subtype\":\"Figure\",\"type\":\"Plot\"},{\"attributes\":{},\"id\":\"24708\",\"type\":\"BasicTickFormatter\"},{\"attributes\":{\"callback\":null},\"id\":\"24095\",\"type\":\"DataRange1d\"}],\"root_ids\":[\"24133\"]},\"title\":\"Bokeh Application\",\"version\":\"1.3.4\"}};\n",
       "  var render_items = [{\"docid\":\"c3cdd38b-2df0-41e5-9456-42a1feab6743\",\"roots\":{\"24133\":\"8dde94c3-000c-45ff-9db3-76706135e0c1\"}}];\n",
       "  root.Bokeh.embed.embed_items_notebook(docs_json, render_items);\n",
       "\n",
       "  }\n",
       "  if (root.Bokeh !== undefined) {\n",
       "    embed_document(root);\n",
       "  } else {\n",
       "    var attempts = 0;\n",
       "    var timer = setInterval(function(root) {\n",
       "      if (root.Bokeh !== undefined) {\n",
       "        embed_document(root);\n",
       "        clearInterval(timer);\n",
       "      }\n",
       "      attempts++;\n",
       "      if (attempts > 100) {\n",
       "        console.log(\"Bokeh: ERROR: Unable to run BokehJS code because BokehJS library is missing\");\n",
       "        clearInterval(timer);\n",
       "      }\n",
       "    }, 10, root)\n",
       "  }\n",
       "})(window);"
      ],
      "application/vnd.bokehjs_exec.v0+json": ""
     },
     "metadata": {
      "application/vnd.bokehjs_exec.v0+json": {
       "id": "24133"
      }
     },
     "output_type": "display_data"
    }
   ],
   "source": [
    "from bokeh.layouts import column\n",
    "from bokeh.models import CustomJS, ColumnDataSource, Slider\n",
    "\n",
    "x = [x*0.005 for x in range(0, 201)]\n",
    "\n",
    "source = ColumnDataSource(data=dict(x=x, y=x))\n",
    "\n",
    "plot = figure(plot_width=400, plot_height=400)\n",
    "plot.line('x', 'y', source=source, line_width=3, line_alpha=0.6)\n",
    "\n",
    "slider = Slider(start=0.1, end=6, value=1, step=.1, title=\"power\")\n",
    "\n",
    "update_curve = CustomJS(args=dict(source=source, slider=slider), code=\"\"\"\n",
    "    var data = source.data;\n",
    "    var f = slider.value;\n",
    "    x = data['x']\n",
    "    y = data['y']\n",
    "    for (i = 0; i < x.length; i++) {\n",
    "        y[i] = Math.pow(x[i], f)\n",
    "    }\n",
    "    source.change.emit();\n",
    "\"\"\")\n",
    "slider.js_on_change('value', update_curve)\n",
    "\n",
    "\n",
    "show(column(slider, plot))"
   ]
  },
  {
   "cell_type": "markdown",
   "metadata": {},
   "source": [
    "## Basic Bar Charts\n",
    "\n",
    "Bar charts are a common and important type of plot. Bokeh makes it simple to create all sorts of stacked or nested bar charts, and to deal with categorical data in general."
   ]
  },
  {
   "cell_type": "markdown",
   "metadata": {},
   "source": [
    "The example below shows a simple bar chart created using the `vbar` method for drawing vertical bars. (There is a corresponding `hbar` for horizontal bars.) We also set a few plot properties to make the chart look nicer, see chapter [Styling and Theming](02 - Styling and Theming.ipynb) for information about visual properties."
   ]
  },
  {
   "cell_type": "code",
   "execution_count": 39,
   "metadata": {},
   "outputs": [
    {
     "data": {
      "text/html": [
       "\n",
       "\n",
       "\n",
       "\n",
       "\n",
       "\n",
       "  <div class=\"bk-root\" id=\"92eb4b09-c3c4-4d61-af40-3742cbaa950e\" data-root-id=\"5845\"></div>\n"
      ]
     },
     "metadata": {},
     "output_type": "display_data"
    },
    {
     "data": {
      "application/javascript": [
       "(function(root) {\n",
       "  function embed_document(root) {\n",
       "    \n",
       "  var docs_json = {\"d8e73155-7fe7-480d-ac27-ec110cfbbc74\":{\"roots\":{\"references\":[{\"attributes\":{\"below\":[{\"id\":\"5856\",\"type\":\"CategoricalAxis\"}],\"center\":[{\"id\":\"5859\",\"type\":\"Grid\"},{\"id\":\"5864\",\"type\":\"Grid\"}],\"left\":[{\"id\":\"5860\",\"type\":\"LinearAxis\"}],\"plot_height\":250,\"renderers\":[{\"id\":\"5881\",\"type\":\"GlyphRenderer\"}],\"title\":{\"id\":\"5846\",\"type\":\"Title\"},\"toolbar\":{\"id\":\"5871\",\"type\":\"Toolbar\"},\"x_range\":{\"id\":\"5848\",\"type\":\"FactorRange\"},\"x_scale\":{\"id\":\"5852\",\"type\":\"CategoricalScale\"},\"y_range\":{\"id\":\"5850\",\"type\":\"DataRange1d\"},\"y_scale\":{\"id\":\"5854\",\"type\":\"LinearScale\"}},\"id\":\"5845\",\"subtype\":\"Figure\",\"type\":\"Plot\"},{\"attributes\":{},\"id\":\"5866\",\"type\":\"WheelZoomTool\"},{\"attributes\":{\"active_drag\":\"auto\",\"active_inspect\":\"auto\",\"active_multi\":null,\"active_scroll\":\"auto\",\"active_tap\":\"auto\",\"tools\":[{\"id\":\"5865\",\"type\":\"PanTool\"},{\"id\":\"5866\",\"type\":\"WheelZoomTool\"},{\"id\":\"5867\",\"type\":\"BoxZoomTool\"},{\"id\":\"5868\",\"type\":\"SaveTool\"},{\"id\":\"5869\",\"type\":\"ResetTool\"},{\"id\":\"5870\",\"type\":\"HelpTool\"}]},\"id\":\"5871\",\"type\":\"Toolbar\"},{\"attributes\":{},\"id\":\"5857\",\"type\":\"CategoricalTicker\"},{\"attributes\":{\"overlay\":{\"id\":\"6128\",\"type\":\"BoxAnnotation\"}},\"id\":\"5867\",\"type\":\"BoxZoomTool\"},{\"attributes\":{},\"id\":\"5861\",\"type\":\"BasicTicker\"},{\"attributes\":{\"dimension\":1,\"ticker\":{\"id\":\"5861\",\"type\":\"BasicTicker\"}},\"id\":\"5864\",\"type\":\"Grid\"},{\"attributes\":{\"fill_color\":{\"value\":\"#1f77b4\"},\"line_color\":{\"value\":\"#1f77b4\"},\"top\":{\"field\":\"top\"},\"width\":{\"value\":0.9},\"x\":{\"field\":\"x\"}},\"id\":\"5879\",\"type\":\"VBar\"},{\"attributes\":{},\"id\":\"6126\",\"type\":\"UnionRenderers\"},{\"attributes\":{\"data_source\":{\"id\":\"5878\",\"type\":\"ColumnDataSource\"},\"glyph\":{\"id\":\"5879\",\"type\":\"VBar\"},\"hover_glyph\":null,\"muted_glyph\":null,\"nonselection_glyph\":{\"id\":\"5880\",\"type\":\"VBar\"},\"selection_glyph\":null,\"view\":{\"id\":\"5882\",\"type\":\"CDSView\"}},\"id\":\"5881\",\"type\":\"GlyphRenderer\"},{\"attributes\":{},\"id\":\"5870\",\"type\":\"HelpTool\"},{\"attributes\":{},\"id\":\"5869\",\"type\":\"ResetTool\"},{\"attributes\":{\"callback\":null,\"start\":0},\"id\":\"5850\",\"type\":\"DataRange1d\"},{\"attributes\":{\"callback\":null,\"factors\":[\"Apples\",\"Pears\",\"Nectarines\",\"Plums\",\"Grapes\",\"Strawberries\"]},\"id\":\"5848\",\"type\":\"FactorRange\"},{\"attributes\":{\"grid_line_color\":null,\"ticker\":{\"id\":\"5857\",\"type\":\"CategoricalTicker\"}},\"id\":\"5859\",\"type\":\"Grid\"},{\"attributes\":{\"text\":\"Fruit Counts\"},\"id\":\"5846\",\"type\":\"Title\"},{\"attributes\":{\"formatter\":{\"id\":\"6124\",\"type\":\"CategoricalTickFormatter\"},\"ticker\":{\"id\":\"5857\",\"type\":\"CategoricalTicker\"}},\"id\":\"5856\",\"type\":\"CategoricalAxis\"},{\"attributes\":{\"callback\":null,\"data\":{\"top\":[5,3,4,2,4,6],\"x\":[\"Apples\",\"Pears\",\"Nectarines\",\"Plums\",\"Grapes\",\"Strawberries\"]},\"selected\":{\"id\":\"6127\",\"type\":\"Selection\"},\"selection_policy\":{\"id\":\"6126\",\"type\":\"UnionRenderers\"}},\"id\":\"5878\",\"type\":\"ColumnDataSource\"},{\"attributes\":{},\"id\":\"5868\",\"type\":\"SaveTool\"},{\"attributes\":{},\"id\":\"6127\",\"type\":\"Selection\"},{\"attributes\":{\"formatter\":{\"id\":\"6122\",\"type\":\"BasicTickFormatter\"},\"ticker\":{\"id\":\"5861\",\"type\":\"BasicTicker\"}},\"id\":\"5860\",\"type\":\"LinearAxis\"},{\"attributes\":{},\"id\":\"5852\",\"type\":\"CategoricalScale\"},{\"attributes\":{},\"id\":\"6124\",\"type\":\"CategoricalTickFormatter\"},{\"attributes\":{},\"id\":\"5854\",\"type\":\"LinearScale\"},{\"attributes\":{\"source\":{\"id\":\"5878\",\"type\":\"ColumnDataSource\"}},\"id\":\"5882\",\"type\":\"CDSView\"},{\"attributes\":{\"fill_alpha\":{\"value\":0.1},\"fill_color\":{\"value\":\"#1f77b4\"},\"line_alpha\":{\"value\":0.1},\"line_color\":{\"value\":\"#1f77b4\"},\"top\":{\"field\":\"top\"},\"width\":{\"value\":0.9},\"x\":{\"field\":\"x\"}},\"id\":\"5880\",\"type\":\"VBar\"},{\"attributes\":{\"bottom_units\":\"screen\",\"fill_alpha\":{\"value\":0.5},\"fill_color\":{\"value\":\"lightgrey\"},\"left_units\":\"screen\",\"level\":\"overlay\",\"line_alpha\":{\"value\":1.0},\"line_color\":{\"value\":\"black\"},\"line_dash\":[4,4],\"line_width\":{\"value\":2},\"render_mode\":\"css\",\"right_units\":\"screen\",\"top_units\":\"screen\"},\"id\":\"6128\",\"type\":\"BoxAnnotation\"},{\"attributes\":{},\"id\":\"5865\",\"type\":\"PanTool\"},{\"attributes\":{},\"id\":\"6122\",\"type\":\"BasicTickFormatter\"}],\"root_ids\":[\"5845\"]},\"title\":\"Bokeh Application\",\"version\":\"1.3.4\"}};\n",
       "  var render_items = [{\"docid\":\"d8e73155-7fe7-480d-ac27-ec110cfbbc74\",\"roots\":{\"5845\":\"92eb4b09-c3c4-4d61-af40-3742cbaa950e\"}}];\n",
       "  root.Bokeh.embed.embed_items_notebook(docs_json, render_items);\n",
       "\n",
       "  }\n",
       "  if (root.Bokeh !== undefined) {\n",
       "    embed_document(root);\n",
       "  } else {\n",
       "    var attempts = 0;\n",
       "    var timer = setInterval(function(root) {\n",
       "      if (root.Bokeh !== undefined) {\n",
       "        embed_document(root);\n",
       "        clearInterval(timer);\n",
       "      }\n",
       "      attempts++;\n",
       "      if (attempts > 100) {\n",
       "        console.log(\"Bokeh: ERROR: Unable to run BokehJS code because BokehJS library is missing\");\n",
       "        clearInterval(timer);\n",
       "      }\n",
       "    }, 10, root)\n",
       "  }\n",
       "})(window);"
      ],
      "application/vnd.bokehjs_exec.v0+json": ""
     },
     "metadata": {
      "application/vnd.bokehjs_exec.v0+json": {
       "id": "5845"
      }
     },
     "output_type": "display_data"
    }
   ],
   "source": [
    "# Here is a list of categorical values (or factors)\n",
    "fruits = ['Apples', 'Pears', 'Nectarines', 'Plums', 'Grapes', 'Strawberries']\n",
    "\n",
    "# Set the x_range to the list of categories above\n",
    "p = figure(x_range=fruits, plot_height=250, title=\"Fruit Counts\")\n",
    "\n",
    "# Categorical values can also be used as coordinates\n",
    "p.vbar(x=fruits, top=[5, 3, 4, 2, 4, 6], width=0.9)\n",
    "\n",
    "# Set some properties to make the plot look better\n",
    "p.xgrid.grid_line_color = None\n",
    "p.y_range.start = 0\n",
    "\n",
    "show(p)"
   ]
  },
  {
   "cell_type": "markdown",
   "metadata": {},
   "source": [
    "When we want to create a plot with a categorical range, we pass the ordered list of categorical values to `figure`, e.g. `x_range=['a', 'b', 'c']`. In the plot above, we passed the list of fruits as `x_range`, and we can see those refelected as the x-axis.\n",
    "\n",
    "The `vbar` glyph method takes an `x` location for the center of the bar, a `top` and `bottom` (which defaults to 0), and a `width`. When we are using a categorical range as we are here, each category implicitly has width of 1, so setting `width=0.9` as we have done here makes the bars shrink away from each other. (Another option would be to add some padding to the range.)"
   ]
  },
  {
   "cell_type": "code",
   "execution_count": 40,
   "metadata": {},
   "outputs": [],
   "source": [
    "# Exercise: Create your own simple bar chart\n"
   ]
  },
  {
   "cell_type": "markdown",
   "metadata": {},
   "source": [
    "Since `vbar` is a glyph method, we can use it with a `ColumnDataSource` just as we woudl with any other glyph. In the example below, we put the data (including color data) in a `ColumnDataSource` and use that to drive our plot. "
   ]
  },
  {
   "cell_type": "code",
   "execution_count": 42,
   "metadata": {},
   "outputs": [
    {
     "data": {
      "text/html": [
       "\n",
       "\n",
       "\n",
       "\n",
       "\n",
       "\n",
       "  <div class=\"bk-root\" id=\"be8fa30c-eebe-4919-8f86-41293d8f7a2d\" data-root-id=\"6527\"></div>\n"
      ]
     },
     "metadata": {},
     "output_type": "display_data"
    },
    {
     "data": {
      "application/javascript": [
       "(function(root) {\n",
       "  function embed_document(root) {\n",
       "    \n",
       "  var docs_json = {\"e0feda65-100e-477c-8acf-b69b8054db48\":{\"roots\":{\"references\":[{\"attributes\":{\"below\":[{\"id\":\"6538\",\"type\":\"CategoricalAxis\"}],\"center\":[{\"id\":\"6541\",\"type\":\"Grid\"},{\"id\":\"6546\",\"type\":\"Grid\"},{\"id\":\"6571\",\"type\":\"Legend\"}],\"left\":[{\"id\":\"6542\",\"type\":\"LinearAxis\"}],\"plot_height\":250,\"renderers\":[{\"id\":\"6563\",\"type\":\"GlyphRenderer\"}],\"title\":{\"id\":\"6528\",\"type\":\"Title\"},\"toolbar\":{\"id\":\"6553\",\"type\":\"Toolbar\"},\"x_range\":{\"id\":\"6530\",\"type\":\"FactorRange\"},\"x_scale\":{\"id\":\"6534\",\"type\":\"CategoricalScale\"},\"y_range\":{\"id\":\"6532\",\"type\":\"Range1d\"},\"y_scale\":{\"id\":\"6536\",\"type\":\"LinearScale\"}},\"id\":\"6527\",\"subtype\":\"Figure\",\"type\":\"Plot\"},{\"attributes\":{\"fill_color\":{\"field\":\"color\"},\"line_color\":{\"field\":\"color\"},\"top\":{\"field\":\"counts\"},\"width\":{\"value\":0.9},\"x\":{\"field\":\"fruits\"}},\"id\":\"6561\",\"type\":\"VBar\"},{\"attributes\":{},\"id\":\"6550\",\"type\":\"SaveTool\"},{\"attributes\":{},\"id\":\"6552\",\"type\":\"HelpTool\"},{\"attributes\":{\"grid_line_color\":null,\"ticker\":{\"id\":\"6539\",\"type\":\"CategoricalTicker\"}},\"id\":\"6541\",\"type\":\"Grid\"},{\"attributes\":{\"items\":[{\"id\":\"6572\",\"type\":\"LegendItem\"}],\"location\":\"top_center\",\"orientation\":\"horizontal\"},\"id\":\"6571\",\"type\":\"Legend\"},{\"attributes\":{\"active_drag\":\"auto\",\"active_inspect\":\"auto\",\"active_multi\":null,\"active_scroll\":\"auto\",\"active_tap\":\"auto\",\"tools\":[{\"id\":\"6547\",\"type\":\"PanTool\"},{\"id\":\"6548\",\"type\":\"WheelZoomTool\"},{\"id\":\"6549\",\"type\":\"BoxZoomTool\"},{\"id\":\"6550\",\"type\":\"SaveTool\"},{\"id\":\"6551\",\"type\":\"ResetTool\"},{\"id\":\"6552\",\"type\":\"HelpTool\"}]},\"id\":\"6553\",\"type\":\"Toolbar\"},{\"attributes\":{},\"id\":\"6551\",\"type\":\"ResetTool\"},{\"attributes\":{\"callback\":null,\"end\":9},\"id\":\"6532\",\"type\":\"Range1d\"},{\"attributes\":{},\"id\":\"6534\",\"type\":\"CategoricalScale\"},{\"attributes\":{\"label\":{\"field\":\"fruits\"},\"renderers\":[{\"id\":\"6563\",\"type\":\"GlyphRenderer\"}]},\"id\":\"6572\",\"type\":\"LegendItem\"},{\"attributes\":{\"callback\":null,\"factors\":[\"Apples\",\"Pears\",\"Nectarines\",\"Plums\",\"Grapes\",\"Strawberries\"]},\"id\":\"6530\",\"type\":\"FactorRange\"},{\"attributes\":{},\"id\":\"6536\",\"type\":\"LinearScale\"},{\"attributes\":{},\"id\":\"6566\",\"type\":\"BasicTickFormatter\"},{\"attributes\":{\"source\":{\"id\":\"6526\",\"type\":\"ColumnDataSource\"}},\"id\":\"6564\",\"type\":\"CDSView\"},{\"attributes\":{},\"id\":\"6833\",\"type\":\"Selection\"},{\"attributes\":{\"formatter\":{\"id\":\"6568\",\"type\":\"CategoricalTickFormatter\"},\"ticker\":{\"id\":\"6539\",\"type\":\"CategoricalTicker\"}},\"id\":\"6538\",\"type\":\"CategoricalAxis\"},{\"attributes\":{},\"id\":\"6543\",\"type\":\"BasicTicker\"},{\"attributes\":{},\"id\":\"6539\",\"type\":\"CategoricalTicker\"},{\"attributes\":{\"fill_alpha\":{\"value\":0.1},\"fill_color\":{\"value\":\"#1f77b4\"},\"line_alpha\":{\"value\":0.1},\"line_color\":{\"value\":\"#1f77b4\"},\"top\":{\"field\":\"counts\"},\"width\":{\"value\":0.9},\"x\":{\"field\":\"fruits\"}},\"id\":\"6562\",\"type\":\"VBar\"},{\"attributes\":{},\"id\":\"6568\",\"type\":\"CategoricalTickFormatter\"},{\"attributes\":{\"formatter\":{\"id\":\"6566\",\"type\":\"BasicTickFormatter\"},\"ticker\":{\"id\":\"6543\",\"type\":\"BasicTicker\"}},\"id\":\"6542\",\"type\":\"LinearAxis\"},{\"attributes\":{\"callback\":null,\"data\":{\"color\":[\"#3288bd\",\"#99d594\",\"#e6f598\",\"#fee08b\",\"#fc8d59\",\"#d53e4f\"],\"counts\":[5,3,4,2,4,6],\"fruits\":[\"Apples\",\"Pears\",\"Nectarines\",\"Plums\",\"Grapes\",\"Strawberries\"]},\"selected\":{\"id\":\"6833\",\"type\":\"Selection\"},\"selection_policy\":{\"id\":\"6832\",\"type\":\"UnionRenderers\"}},\"id\":\"6526\",\"type\":\"ColumnDataSource\"},{\"attributes\":{\"bottom_units\":\"screen\",\"fill_alpha\":{\"value\":0.5},\"fill_color\":{\"value\":\"lightgrey\"},\"left_units\":\"screen\",\"level\":\"overlay\",\"line_alpha\":{\"value\":1.0},\"line_color\":{\"value\":\"black\"},\"line_dash\":[4,4],\"line_width\":{\"value\":2},\"render_mode\":\"css\",\"right_units\":\"screen\",\"top_units\":\"screen\"},\"id\":\"6570\",\"type\":\"BoxAnnotation\"},{\"attributes\":{\"dimension\":1,\"ticker\":{\"id\":\"6543\",\"type\":\"BasicTicker\"}},\"id\":\"6546\",\"type\":\"Grid\"},{\"attributes\":{},\"id\":\"6832\",\"type\":\"UnionRenderers\"},{\"attributes\":{\"data_source\":{\"id\":\"6526\",\"type\":\"ColumnDataSource\"},\"glyph\":{\"id\":\"6561\",\"type\":\"VBar\"},\"hover_glyph\":null,\"muted_glyph\":null,\"nonselection_glyph\":{\"id\":\"6562\",\"type\":\"VBar\"},\"selection_glyph\":null,\"view\":{\"id\":\"6564\",\"type\":\"CDSView\"}},\"id\":\"6563\",\"type\":\"GlyphRenderer\"},{\"attributes\":{},\"id\":\"6547\",\"type\":\"PanTool\"},{\"attributes\":{\"text\":\"Fruit Counts\"},\"id\":\"6528\",\"type\":\"Title\"},{\"attributes\":{},\"id\":\"6548\",\"type\":\"WheelZoomTool\"},{\"attributes\":{\"overlay\":{\"id\":\"6570\",\"type\":\"BoxAnnotation\"}},\"id\":\"6549\",\"type\":\"BoxZoomTool\"}],\"root_ids\":[\"6527\"]},\"title\":\"Bokeh Application\",\"version\":\"1.3.4\"}};\n",
       "  var render_items = [{\"docid\":\"e0feda65-100e-477c-8acf-b69b8054db48\",\"roots\":{\"6527\":\"be8fa30c-eebe-4919-8f86-41293d8f7a2d\"}}];\n",
       "  root.Bokeh.embed.embed_items_notebook(docs_json, render_items);\n",
       "\n",
       "  }\n",
       "  if (root.Bokeh !== undefined) {\n",
       "    embed_document(root);\n",
       "  } else {\n",
       "    var attempts = 0;\n",
       "    var timer = setInterval(function(root) {\n",
       "      if (root.Bokeh !== undefined) {\n",
       "        embed_document(root);\n",
       "        clearInterval(timer);\n",
       "      }\n",
       "      attempts++;\n",
       "      if (attempts > 100) {\n",
       "        console.log(\"Bokeh: ERROR: Unable to run BokehJS code because BokehJS library is missing\");\n",
       "        clearInterval(timer);\n",
       "      }\n",
       "    }, 10, root)\n",
       "  }\n",
       "})(window);"
      ],
      "application/vnd.bokehjs_exec.v0+json": ""
     },
     "metadata": {
      "application/vnd.bokehjs_exec.v0+json": {
       "id": "6527"
      }
     },
     "output_type": "display_data"
    }
   ],
   "source": [
    "from bokeh.models import ColumnDataSource\n",
    "from bokeh.palettes import Spectral6\n",
    "\n",
    "fruits = ['Apples', 'Pears', 'Nectarines', 'Plums', 'Grapes', 'Strawberries']\n",
    "counts = [5, 3, 4, 2, 4, 6]\n",
    "\n",
    "source = ColumnDataSource(data=dict(fruits=fruits, counts=counts, color=Spectral6))\n",
    "\n",
    "p = figure(x_range=fruits, plot_height=250, y_range=(0, 9), title=\"Fruit Counts\")\n",
    "p.vbar(x='fruits', top='counts', width=0.9, color='color', legend=\"fruits\", source=source)\n",
    "\n",
    "p.xgrid.grid_line_color = None\n",
    "p.legend.orientation = \"horizontal\"\n",
    "p.legend.location = \"top_center\"\n",
    "\n",
    "show(p)"
   ]
  },
  {
   "cell_type": "code",
   "execution_count": 43,
   "metadata": {},
   "outputs": [],
   "source": [
    "# Exercise: Create your own simple bar chart driven by a ColumnDataSource\n"
   ]
  },
  {
   "cell_type": "markdown",
   "metadata": {},
   "source": [
    "## Stacked Bars\n",
    "\n",
    "It's often"
   ]
  },
  {
   "cell_type": "code",
   "execution_count": 44,
   "metadata": {},
   "outputs": [
    {
     "data": {
      "text/html": [
       "\n",
       "\n",
       "\n",
       "\n",
       "\n",
       "\n",
       "  <div class=\"bk-root\" id=\"05ee9744-4753-48e2-b3de-9728eb60ba6e\" data-root-id=\"6883\"></div>\n"
      ]
     },
     "metadata": {},
     "output_type": "display_data"
    },
    {
     "data": {
      "application/javascript": [
       "(function(root) {\n",
       "  function embed_document(root) {\n",
       "    \n",
       "  var docs_json = {\"9c3eb084-9a08-4442-80aa-839ca991f70f\":{\"roots\":{\"references\":[{\"attributes\":{\"below\":[{\"id\":\"6894\",\"type\":\"LinearAxis\"}],\"center\":[{\"id\":\"6898\",\"type\":\"Grid\"},{\"id\":\"6902\",\"type\":\"Grid\"},{\"id\":\"6934\",\"type\":\"Legend\"}],\"left\":[{\"id\":\"6899\",\"type\":\"CategoricalAxis\"}],\"plot_height\":250,\"renderers\":[{\"id\":\"6926\",\"type\":\"GlyphRenderer\"},{\"id\":\"6939\",\"type\":\"GlyphRenderer\"},{\"id\":\"6953\",\"type\":\"GlyphRenderer\"},{\"id\":\"6974\",\"type\":\"GlyphRenderer\"},{\"id\":\"6988\",\"type\":\"GlyphRenderer\"},{\"id\":\"7004\",\"type\":\"GlyphRenderer\"}],\"title\":{\"id\":\"6884\",\"type\":\"Title\"},\"toolbar\":{\"id\":\"6909\",\"type\":\"Toolbar\"},\"x_range\":{\"id\":\"6886\",\"type\":\"Range1d\"},\"x_scale\":{\"id\":\"6890\",\"type\":\"LinearScale\"},\"y_range\":{\"id\":\"6888\",\"type\":\"FactorRange\"},\"y_scale\":{\"id\":\"6892\",\"type\":\"CategoricalScale\"}},\"id\":\"6883\",\"subtype\":\"Figure\",\"type\":\"Plot\"},{\"attributes\":{},\"id\":\"6895\",\"type\":\"BasicTicker\"},{\"attributes\":{},\"id\":\"6946\",\"type\":\"UnionRenderers\"},{\"attributes\":{},\"id\":\"6900\",\"type\":\"CategoricalTicker\"},{\"attributes\":{\"fields\":[\"2015\"]},\"id\":\"6966\",\"type\":\"Stack\"},{\"attributes\":{\"source\":{\"id\":\"6916\",\"type\":\"ColumnDataSource\"}},\"id\":\"6940\",\"type\":\"CDSView\"},{\"attributes\":{\"fill_alpha\":{\"value\":0.1},\"fill_color\":{\"value\":\"#1f77b4\"},\"height\":{\"value\":0.9},\"left\":{\"expr\":{\"id\":\"6919\",\"type\":\"Stack\"}},\"line_alpha\":{\"value\":0.1},\"line_color\":{\"value\":\"#1f77b4\"},\"right\":{\"expr\":{\"id\":\"6920\",\"type\":\"Stack\"}},\"y\":{\"field\":\"fruits\"}},\"id\":\"6938\",\"type\":\"HBar\"},{\"attributes\":{\"dimension\":1,\"grid_line_color\":null,\"ticker\":{\"id\":\"6900\",\"type\":\"CategoricalTicker\"}},\"id\":\"6902\",\"type\":\"Grid\"},{\"attributes\":{\"data_source\":{\"id\":\"6916\",\"type\":\"ColumnDataSource\"},\"glyph\":{\"id\":\"6937\",\"type\":\"HBar\"},\"hover_glyph\":null,\"muted_glyph\":null,\"name\":\"2016\",\"nonselection_glyph\":{\"id\":\"6938\",\"type\":\"HBar\"},\"selection_glyph\":null,\"view\":{\"id\":\"6940\",\"type\":\"CDSView\"}},\"id\":\"6939\",\"type\":\"GlyphRenderer\"},{\"attributes\":{\"fields\":[\"2015\",\"2016\"]},\"id\":\"6920\",\"type\":\"Stack\"},{\"attributes\":{\"formatter\":{\"id\":\"6929\",\"type\":\"CategoricalTickFormatter\"},\"ticker\":{\"id\":\"6900\",\"type\":\"CategoricalTicker\"}},\"id\":\"6899\",\"type\":\"CategoricalAxis\"},{\"attributes\":{\"fill_color\":{\"value\":\"#a8ddb5\"},\"height\":{\"value\":0.9},\"left\":{\"expr\":{\"id\":\"6919\",\"type\":\"Stack\"}},\"line_color\":{\"value\":\"#a8ddb5\"},\"right\":{\"expr\":{\"id\":\"6920\",\"type\":\"Stack\"}},\"y\":{\"field\":\"fruits\"}},\"id\":\"6937\",\"type\":\"HBar\"},{\"attributes\":{\"source\":{\"id\":\"6964\",\"type\":\"ColumnDataSource\"}},\"id\":\"7005\",\"type\":\"CDSView\"},{\"attributes\":{\"fields\":[\"2015\",\"2016\"]},\"id\":\"6921\",\"type\":\"Stack\"},{\"attributes\":{\"fields\":[\"2015\"]},\"id\":\"6967\",\"type\":\"Stack\"},{\"attributes\":{\"source\":{\"id\":\"6916\",\"type\":\"ColumnDataSource\"}},\"id\":\"6927\",\"type\":\"CDSView\"},{\"attributes\":{},\"id\":\"6998\",\"type\":\"Selection\"},{\"attributes\":{\"callback\":null,\"factors\":[\"Apples\",\"Pears\",\"Nectarines\",\"Plums\",\"Grapes\",\"Strawberries\"],\"range_padding\":0.1},\"id\":\"6888\",\"type\":\"FactorRange\"},{\"attributes\":{\"fields\":[\"2015\"]},\"id\":\"6919\",\"type\":\"Stack\"},{\"attributes\":{\"fields\":[\"2015\",\"2016\",\"2017\"]},\"id\":\"6922\",\"type\":\"Stack\"},{\"attributes\":{\"fields\":[\"2015\",\"2016\"]},\"id\":\"6968\",\"type\":\"Stack\"},{\"attributes\":{\"data_source\":{\"id\":\"6964\",\"type\":\"ColumnDataSource\"},\"glyph\":{\"id\":\"7002\",\"type\":\"HBar\"},\"hover_glyph\":null,\"muted_glyph\":null,\"name\":\"2017\",\"nonselection_glyph\":{\"id\":\"7003\",\"type\":\"HBar\"},\"selection_glyph\":null,\"view\":{\"id\":\"7005\",\"type\":\"CDSView\"}},\"id\":\"7004\",\"type\":\"GlyphRenderer\"},{\"attributes\":{},\"id\":\"6929\",\"type\":\"CategoricalTickFormatter\"},{\"attributes\":{\"fill_color\":{\"value\":\"#fee8c8\"},\"height\":{\"value\":0.9},\"left\":{\"expr\":{\"id\":\"6969\",\"type\":\"Stack\"}},\"line_color\":{\"value\":\"#fee8c8\"},\"right\":{\"expr\":{\"id\":\"6970\",\"type\":\"Stack\"}},\"y\":{\"field\":\"fruits\"}},\"id\":\"7002\",\"type\":\"HBar\"},{\"attributes\":{\"label\":{\"value\":\"2016 imports\"},\"renderers\":[{\"id\":\"6988\",\"type\":\"GlyphRenderer\"}]},\"id\":\"7000\",\"type\":\"LegendItem\"},{\"attributes\":{\"fill_color\":{\"value\":\"#43a2ca\"},\"height\":{\"value\":0.9},\"left\":{\"expr\":{\"id\":\"6917\",\"type\":\"Stack\"}},\"line_color\":{\"value\":\"#43a2ca\"},\"right\":{\"expr\":{\"id\":\"6918\",\"type\":\"Stack\"}},\"y\":{\"field\":\"fruits\"}},\"id\":\"6924\",\"type\":\"HBar\"},{\"attributes\":{\"fields\":[\"2015\",\"2016\"]},\"id\":\"6969\",\"type\":\"Stack\"},{\"attributes\":{\"label\":{\"value\":\"2016 exports\"},\"renderers\":[{\"id\":\"6939\",\"type\":\"GlyphRenderer\"}]},\"id\":\"6949\",\"type\":\"LegendItem\"},{\"attributes\":{\"callback\":null,\"data\":{\"2015\":[2,1,4,3,2,4],\"2016\":[5,3,4,2,4,6],\"2017\":[3,2,4,4,5,3],\"fruits\":[\"Apples\",\"Pears\",\"Nectarines\",\"Plums\",\"Grapes\",\"Strawberries\"]},\"selected\":{\"id\":\"6947\",\"type\":\"Selection\"},\"selection_policy\":{\"id\":\"6946\",\"type\":\"UnionRenderers\"}},\"id\":\"6916\",\"type\":\"ColumnDataSource\"},{\"attributes\":{\"source\":{\"id\":\"6964\",\"type\":\"ColumnDataSource\"}},\"id\":\"6975\",\"type\":\"CDSView\"},{\"attributes\":{\"active_drag\":\"auto\",\"active_inspect\":\"auto\",\"active_multi\":null,\"active_scroll\":\"auto\",\"active_tap\":\"auto\",\"tools\":[{\"id\":\"6903\",\"type\":\"PanTool\"},{\"id\":\"6904\",\"type\":\"WheelZoomTool\"},{\"id\":\"6905\",\"type\":\"BoxZoomTool\"},{\"id\":\"6906\",\"type\":\"SaveTool\"},{\"id\":\"6907\",\"type\":\"ResetTool\"},{\"id\":\"6908\",\"type\":\"HelpTool\"}]},\"id\":\"6909\",\"type\":\"Toolbar\"},{\"attributes\":{},\"id\":\"6947\",\"type\":\"Selection\"},{\"attributes\":{\"fields\":[\"2015\",\"2016\",\"2017\"]},\"id\":\"6970\",\"type\":\"Stack\"},{\"attributes\":{\"fill_alpha\":{\"value\":0.1},\"fill_color\":{\"value\":\"#1f77b4\"},\"height\":{\"value\":0.9},\"left\":{\"expr\":{\"id\":\"6917\",\"type\":\"Stack\"}},\"line_alpha\":{\"value\":0.1},\"line_color\":{\"value\":\"#1f77b4\"},\"right\":{\"expr\":{\"id\":\"6918\",\"type\":\"Stack\"}},\"y\":{\"field\":\"fruits\"}},\"id\":\"6925\",\"type\":\"HBar\"},{\"attributes\":{\"callback\":null,\"data\":{\"2015\":[-1,0,-1,-3,-2,-1],\"2016\":[-2,-1,-3,-1,-2,-2],\"2017\":[-1,-2,-1,0,-2,-2],\"fruits\":[\"Apples\",\"Pears\",\"Nectarines\",\"Plums\",\"Grapes\",\"Strawberries\"]},\"selected\":{\"id\":\"6998\",\"type\":\"Selection\"},\"selection_policy\":{\"id\":\"6997\",\"type\":\"UnionRenderers\"}},\"id\":\"6964\",\"type\":\"ColumnDataSource\"},{\"attributes\":{\"fill_color\":{\"value\":\"#fdbb84\"},\"height\":{\"value\":0.9},\"left\":{\"expr\":{\"id\":\"6967\",\"type\":\"Stack\"}},\"line_color\":{\"value\":\"#fdbb84\"},\"right\":{\"expr\":{\"id\":\"6968\",\"type\":\"Stack\"}},\"y\":{\"field\":\"fruits\"}},\"id\":\"6986\",\"type\":\"HBar\"},{\"attributes\":{\"fields\":[]},\"id\":\"6917\",\"type\":\"Stack\"},{\"attributes\":{\"data_source\":{\"id\":\"6916\",\"type\":\"ColumnDataSource\"},\"glyph\":{\"id\":\"6924\",\"type\":\"HBar\"},\"hover_glyph\":null,\"muted_glyph\":null,\"name\":\"2015\",\"nonselection_glyph\":{\"id\":\"6925\",\"type\":\"HBar\"},\"selection_glyph\":null,\"view\":{\"id\":\"6927\",\"type\":\"CDSView\"}},\"id\":\"6926\",\"type\":\"GlyphRenderer\"},{\"attributes\":{\"fill_color\":{\"value\":\"#e0f3db\"},\"height\":{\"value\":0.9},\"left\":{\"expr\":{\"id\":\"6921\",\"type\":\"Stack\"}},\"line_color\":{\"value\":\"#e0f3db\"},\"right\":{\"expr\":{\"id\":\"6922\",\"type\":\"Stack\"}},\"y\":{\"field\":\"fruits\"}},\"id\":\"6951\",\"type\":\"HBar\"},{\"attributes\":{\"fill_color\":{\"value\":\"#e34a33\"},\"height\":{\"value\":0.9},\"left\":{\"expr\":{\"id\":\"6965\",\"type\":\"Stack\"}},\"line_color\":{\"value\":\"#e34a33\"},\"right\":{\"expr\":{\"id\":\"6966\",\"type\":\"Stack\"}},\"y\":{\"field\":\"fruits\"}},\"id\":\"6972\",\"type\":\"HBar\"},{\"attributes\":{},\"id\":\"6903\",\"type\":\"PanTool\"},{\"attributes\":{\"text\":\"Fruit import/export, by year\"},\"id\":\"6884\",\"type\":\"Title\"},{\"attributes\":{\"label\":{\"value\":\"2017 imports\"},\"renderers\":[{\"id\":\"7004\",\"type\":\"GlyphRenderer\"}]},\"id\":\"7016\",\"type\":\"LegendItem\"},{\"attributes\":{\"fill_alpha\":{\"value\":0.1},\"fill_color\":{\"value\":\"#1f77b4\"},\"height\":{\"value\":0.9},\"left\":{\"expr\":{\"id\":\"6965\",\"type\":\"Stack\"}},\"line_alpha\":{\"value\":0.1},\"line_color\":{\"value\":\"#1f77b4\"},\"right\":{\"expr\":{\"id\":\"6966\",\"type\":\"Stack\"}},\"y\":{\"field\":\"fruits\"}},\"id\":\"6973\",\"type\":\"HBar\"},{\"attributes\":{},\"id\":\"6904\",\"type\":\"WheelZoomTool\"},{\"attributes\":{\"data_source\":{\"id\":\"6964\",\"type\":\"ColumnDataSource\"},\"glyph\":{\"id\":\"6972\",\"type\":\"HBar\"},\"hover_glyph\":null,\"muted_glyph\":null,\"name\":\"2015\",\"nonselection_glyph\":{\"id\":\"6973\",\"type\":\"HBar\"},\"selection_glyph\":null,\"view\":{\"id\":\"6975\",\"type\":\"CDSView\"}},\"id\":\"6974\",\"type\":\"GlyphRenderer\"},{\"attributes\":{\"callback\":null,\"end\":16,\"start\":-16},\"id\":\"6886\",\"type\":\"Range1d\"},{\"attributes\":{\"source\":{\"id\":\"6916\",\"type\":\"ColumnDataSource\"}},\"id\":\"6954\",\"type\":\"CDSView\"},{\"attributes\":{\"fill_alpha\":{\"value\":0.1},\"fill_color\":{\"value\":\"#1f77b4\"},\"height\":{\"value\":0.9},\"left\":{\"expr\":{\"id\":\"6921\",\"type\":\"Stack\"}},\"line_alpha\":{\"value\":0.1},\"line_color\":{\"value\":\"#1f77b4\"},\"right\":{\"expr\":{\"id\":\"6922\",\"type\":\"Stack\"}},\"y\":{\"field\":\"fruits\"}},\"id\":\"6952\",\"type\":\"HBar\"},{\"attributes\":{\"overlay\":{\"id\":\"6933\",\"type\":\"BoxAnnotation\"}},\"id\":\"6905\",\"type\":\"BoxZoomTool\"},{\"attributes\":{},\"id\":\"6892\",\"type\":\"CategoricalScale\"},{\"attributes\":{\"data_source\":{\"id\":\"6916\",\"type\":\"ColumnDataSource\"},\"glyph\":{\"id\":\"6951\",\"type\":\"HBar\"},\"hover_glyph\":null,\"muted_glyph\":null,\"name\":\"2017\",\"nonselection_glyph\":{\"id\":\"6952\",\"type\":\"HBar\"},\"selection_glyph\":null,\"view\":{\"id\":\"6954\",\"type\":\"CDSView\"}},\"id\":\"6953\",\"type\":\"GlyphRenderer\"},{\"attributes\":{},\"id\":\"6890\",\"type\":\"LinearScale\"},{\"attributes\":{},\"id\":\"6906\",\"type\":\"SaveTool\"},{\"attributes\":{\"fields\":[]},\"id\":\"6965\",\"type\":\"Stack\"},{\"attributes\":{\"items\":[{\"id\":\"6935\",\"type\":\"LegendItem\"},{\"id\":\"6949\",\"type\":\"LegendItem\"},{\"id\":\"6963\",\"type\":\"LegendItem\"},{\"id\":\"6984\",\"type\":\"LegendItem\"},{\"id\":\"7000\",\"type\":\"LegendItem\"},{\"id\":\"7016\",\"type\":\"LegendItem\"}],\"location\":\"center_left\"},\"id\":\"6934\",\"type\":\"Legend\"},{\"attributes\":{},\"id\":\"6907\",\"type\":\"ResetTool\"},{\"attributes\":{},\"id\":\"6931\",\"type\":\"BasicTickFormatter\"},{\"attributes\":{\"fill_alpha\":{\"value\":0.1},\"fill_color\":{\"value\":\"#1f77b4\"},\"height\":{\"value\":0.9},\"left\":{\"expr\":{\"id\":\"6969\",\"type\":\"Stack\"}},\"line_alpha\":{\"value\":0.1},\"line_color\":{\"value\":\"#1f77b4\"},\"right\":{\"expr\":{\"id\":\"6970\",\"type\":\"Stack\"}},\"y\":{\"field\":\"fruits\"}},\"id\":\"7003\",\"type\":\"HBar\"},{\"attributes\":{\"label\":{\"value\":\"2015 imports\"},\"renderers\":[{\"id\":\"6974\",\"type\":\"GlyphRenderer\"}]},\"id\":\"6984\",\"type\":\"LegendItem\"},{\"attributes\":{},\"id\":\"6908\",\"type\":\"HelpTool\"},{\"attributes\":{\"bottom_units\":\"screen\",\"fill_alpha\":{\"value\":0.5},\"fill_color\":{\"value\":\"lightgrey\"},\"left_units\":\"screen\",\"level\":\"overlay\",\"line_alpha\":{\"value\":1.0},\"line_color\":{\"value\":\"black\"},\"line_dash\":[4,4],\"line_width\":{\"value\":2},\"render_mode\":\"css\",\"right_units\":\"screen\",\"top_units\":\"screen\"},\"id\":\"6933\",\"type\":\"BoxAnnotation\"},{\"attributes\":{\"label\":{\"value\":\"2017 exports\"},\"renderers\":[{\"id\":\"6953\",\"type\":\"GlyphRenderer\"}]},\"id\":\"6963\",\"type\":\"LegendItem\"},{\"attributes\":{},\"id\":\"6997\",\"type\":\"UnionRenderers\"},{\"attributes\":{\"formatter\":{\"id\":\"6931\",\"type\":\"BasicTickFormatter\"},\"ticker\":{\"id\":\"6895\",\"type\":\"BasicTicker\"}},\"id\":\"6894\",\"type\":\"LinearAxis\"},{\"attributes\":{\"ticker\":{\"id\":\"6895\",\"type\":\"BasicTicker\"}},\"id\":\"6898\",\"type\":\"Grid\"},{\"attributes\":{\"label\":{\"value\":\"2015 exports\"},\"renderers\":[{\"id\":\"6926\",\"type\":\"GlyphRenderer\"}]},\"id\":\"6935\",\"type\":\"LegendItem\"},{\"attributes\":{\"source\":{\"id\":\"6964\",\"type\":\"ColumnDataSource\"}},\"id\":\"6989\",\"type\":\"CDSView\"},{\"attributes\":{\"fields\":[\"2015\"]},\"id\":\"6918\",\"type\":\"Stack\"},{\"attributes\":{\"fill_alpha\":{\"value\":0.1},\"fill_color\":{\"value\":\"#1f77b4\"},\"height\":{\"value\":0.9},\"left\":{\"expr\":{\"id\":\"6967\",\"type\":\"Stack\"}},\"line_alpha\":{\"value\":0.1},\"line_color\":{\"value\":\"#1f77b4\"},\"right\":{\"expr\":{\"id\":\"6968\",\"type\":\"Stack\"}},\"y\":{\"field\":\"fruits\"}},\"id\":\"6987\",\"type\":\"HBar\"},{\"attributes\":{\"data_source\":{\"id\":\"6964\",\"type\":\"ColumnDataSource\"},\"glyph\":{\"id\":\"6986\",\"type\":\"HBar\"},\"hover_glyph\":null,\"muted_glyph\":null,\"name\":\"2016\",\"nonselection_glyph\":{\"id\":\"6987\",\"type\":\"HBar\"},\"selection_glyph\":null,\"view\":{\"id\":\"6989\",\"type\":\"CDSView\"}},\"id\":\"6988\",\"type\":\"GlyphRenderer\"}],\"root_ids\":[\"6883\"]},\"title\":\"Bokeh Application\",\"version\":\"1.3.4\"}};\n",
       "  var render_items = [{\"docid\":\"9c3eb084-9a08-4442-80aa-839ca991f70f\",\"roots\":{\"6883\":\"05ee9744-4753-48e2-b3de-9728eb60ba6e\"}}];\n",
       "  root.Bokeh.embed.embed_items_notebook(docs_json, render_items);\n",
       "\n",
       "  }\n",
       "  if (root.Bokeh !== undefined) {\n",
       "    embed_document(root);\n",
       "  } else {\n",
       "    var attempts = 0;\n",
       "    var timer = setInterval(function(root) {\n",
       "      if (root.Bokeh !== undefined) {\n",
       "        embed_document(root);\n",
       "        clearInterval(timer);\n",
       "      }\n",
       "      attempts++;\n",
       "      if (attempts > 100) {\n",
       "        console.log(\"Bokeh: ERROR: Unable to run BokehJS code because BokehJS library is missing\");\n",
       "        clearInterval(timer);\n",
       "      }\n",
       "    }, 10, root)\n",
       "  }\n",
       "})(window);"
      ],
      "application/vnd.bokehjs_exec.v0+json": ""
     },
     "metadata": {
      "application/vnd.bokehjs_exec.v0+json": {
       "id": "6883"
      }
     },
     "output_type": "display_data"
    }
   ],
   "source": [
    "from bokeh.palettes import GnBu3, OrRd3\n",
    "\n",
    "years = ['2015', '2016', '2017']\n",
    "\n",
    "exports = {'fruits' : fruits,\n",
    "           '2015'   : [2, 1, 4, 3, 2, 4],\n",
    "           '2016'   : [5, 3, 4, 2, 4, 6],\n",
    "           '2017'   : [3, 2, 4, 4, 5, 3]}\n",
    "imports = {'fruits' : fruits,\n",
    "           '2015'   : [-1, 0, -1, -3, -2, -1],\n",
    "           '2016'   : [-2, -1, -3, -1, -2, -2],\n",
    "           '2017'   : [-1, -2, -1, 0, -2, -2]}\n",
    "\n",
    "p = figure(y_range=fruits, plot_height=250, x_range=(-16, 16), title=\"Fruit import/export, by year\")\n",
    "\n",
    "p.hbar_stack(years, y='fruits', height=0.9, color=GnBu3, source=ColumnDataSource(exports),\n",
    "             legend=[\"%s exports\" % x for x in years])\n",
    "\n",
    "p.hbar_stack(years, y='fruits', height=0.9, color=OrRd3, source=ColumnDataSource(imports),\n",
    "             legend=[\"%s imports\" % x for x in years])\n",
    "\n",
    "p.y_range.range_padding = 0.1\n",
    "p.ygrid.grid_line_color = None\n",
    "p.legend.location = \"center_left\"\n",
    "\n",
    "show(p)"
   ]
  },
  {
   "cell_type": "markdown",
   "metadata": {},
   "source": [
    "Notice we also added some padding *around* the categorical range (e.g. at both ends of the axis) by specifying\n",
    "\n",
    "```\n",
    "p.y_range.range_padding = 0.1\n",
    "```"
   ]
  },
  {
   "cell_type": "markdown",
   "metadata": {},
   "source": [
    "## Grouped Bar Charts\n",
    "\n"
   ]
  },
  {
   "cell_type": "code",
   "execution_count": 45,
   "metadata": {},
   "outputs": [
    {
     "data": {
      "text/html": [
       "\n",
       "\n",
       "\n",
       "\n",
       "\n",
       "\n",
       "  <div class=\"bk-root\" id=\"e1c2b09f-295e-4759-8847-2b19a853cf64\" data-root-id=\"7351\"></div>\n"
      ]
     },
     "metadata": {},
     "output_type": "display_data"
    },
    {
     "data": {
      "application/javascript": [
       "(function(root) {\n",
       "  function embed_document(root) {\n",
       "    \n",
       "  var docs_json = {\"3e33ec6c-fac0-47a3-b285-c0b4a86c1118\":{\"roots\":{\"references\":[{\"attributes\":{\"below\":[{\"id\":\"7361\",\"type\":\"CategoricalAxis\"}],\"center\":[{\"id\":\"7364\",\"type\":\"Grid\"},{\"id\":\"7369\",\"type\":\"Grid\"}],\"left\":[{\"id\":\"7365\",\"type\":\"LinearAxis\"}],\"plot_height\":250,\"renderers\":[{\"id\":\"7386\",\"type\":\"GlyphRenderer\"}],\"title\":{\"id\":\"7352\",\"type\":\"Title\"},\"toolbar\":{\"id\":\"7376\",\"type\":\"Toolbar\"},\"x_range\":{\"id\":\"7350\",\"type\":\"FactorRange\"},\"x_scale\":{\"id\":\"7357\",\"type\":\"CategoricalScale\"},\"y_range\":{\"id\":\"7355\",\"type\":\"DataRange1d\"},\"y_scale\":{\"id\":\"7359\",\"type\":\"LinearScale\"}},\"id\":\"7351\",\"subtype\":\"Figure\",\"type\":\"Plot\"},{\"attributes\":{\"fill_alpha\":{\"value\":0.1},\"fill_color\":{\"value\":\"#1f77b4\"},\"line_alpha\":{\"value\":0.1},\"line_color\":{\"value\":\"#1f77b4\"},\"top\":{\"field\":\"counts\"},\"width\":{\"value\":0.9},\"x\":{\"field\":\"x\"}},\"id\":\"7385\",\"type\":\"VBar\"},{\"attributes\":{\"callback\":null,\"factors\":[[\"Apples\",\"2015\"],[\"Apples\",\"2016\"],[\"Apples\",\"2017\"],[\"Pears\",\"2015\"],[\"Pears\",\"2016\"],[\"Pears\",\"2017\"],[\"Nectarines\",\"2015\"],[\"Nectarines\",\"2016\"],[\"Nectarines\",\"2017\"],[\"Plums\",\"2015\"],[\"Plums\",\"2016\"],[\"Plums\",\"2017\"],[\"Grapes\",\"2015\"],[\"Grapes\",\"2016\"],[\"Grapes\",\"2017\"],[\"Strawberries\",\"2015\"],[\"Strawberries\",\"2016\"],[\"Strawberries\",\"2017\"]],\"range_padding\":0.1},\"id\":\"7350\",\"type\":\"FactorRange\"},{\"attributes\":{\"formatter\":{\"id\":\"7663\",\"type\":\"CategoricalTickFormatter\"},\"major_label_orientation\":1,\"ticker\":{\"id\":\"7362\",\"type\":\"CategoricalTicker\"}},\"id\":\"7361\",\"type\":\"CategoricalAxis\"},{\"attributes\":{\"source\":{\"id\":\"7349\",\"type\":\"ColumnDataSource\"}},\"id\":\"7387\",\"type\":\"CDSView\"},{\"attributes\":{},\"id\":\"7366\",\"type\":\"BasicTicker\"},{\"attributes\":{},\"id\":\"7362\",\"type\":\"CategoricalTicker\"},{\"attributes\":{\"active_drag\":\"auto\",\"active_inspect\":\"auto\",\"active_multi\":null,\"active_scroll\":\"auto\",\"active_tap\":\"auto\",\"tools\":[{\"id\":\"7370\",\"type\":\"PanTool\"},{\"id\":\"7371\",\"type\":\"WheelZoomTool\"},{\"id\":\"7372\",\"type\":\"BoxZoomTool\"},{\"id\":\"7373\",\"type\":\"SaveTool\"},{\"id\":\"7374\",\"type\":\"ResetTool\"},{\"id\":\"7375\",\"type\":\"HelpTool\"}]},\"id\":\"7376\",\"type\":\"Toolbar\"},{\"attributes\":{\"grid_line_color\":null,\"ticker\":{\"id\":\"7362\",\"type\":\"CategoricalTicker\"}},\"id\":\"7364\",\"type\":\"Grid\"},{\"attributes\":{\"data_source\":{\"id\":\"7349\",\"type\":\"ColumnDataSource\"},\"glyph\":{\"id\":\"7384\",\"type\":\"VBar\"},\"hover_glyph\":null,\"muted_glyph\":null,\"nonselection_glyph\":{\"id\":\"7385\",\"type\":\"VBar\"},\"selection_glyph\":null,\"view\":{\"id\":\"7387\",\"type\":\"CDSView\"}},\"id\":\"7386\",\"type\":\"GlyphRenderer\"},{\"attributes\":{\"dimension\":1,\"ticker\":{\"id\":\"7366\",\"type\":\"BasicTicker\"}},\"id\":\"7369\",\"type\":\"Grid\"},{\"attributes\":{},\"id\":\"7370\",\"type\":\"PanTool\"},{\"attributes\":{\"formatter\":{\"id\":\"7661\",\"type\":\"BasicTickFormatter\"},\"ticker\":{\"id\":\"7366\",\"type\":\"BasicTicker\"}},\"id\":\"7365\",\"type\":\"LinearAxis\"},{\"attributes\":{},\"id\":\"7666\",\"type\":\"Selection\"},{\"attributes\":{},\"id\":\"7371\",\"type\":\"WheelZoomTool\"},{\"attributes\":{\"bottom_units\":\"screen\",\"fill_alpha\":{\"value\":0.5},\"fill_color\":{\"value\":\"lightgrey\"},\"left_units\":\"screen\",\"level\":\"overlay\",\"line_alpha\":{\"value\":1.0},\"line_color\":{\"value\":\"black\"},\"line_dash\":[4,4],\"line_width\":{\"value\":2},\"render_mode\":\"css\",\"right_units\":\"screen\",\"top_units\":\"screen\"},\"id\":\"7667\",\"type\":\"BoxAnnotation\"},{\"attributes\":{\"overlay\":{\"id\":\"7667\",\"type\":\"BoxAnnotation\"}},\"id\":\"7372\",\"type\":\"BoxZoomTool\"},{\"attributes\":{\"text\":\"Fruit Counts by Year\"},\"id\":\"7352\",\"type\":\"Title\"},{\"attributes\":{},\"id\":\"7373\",\"type\":\"SaveTool\"},{\"attributes\":{},\"id\":\"7663\",\"type\":\"CategoricalTickFormatter\"},{\"attributes\":{},\"id\":\"7374\",\"type\":\"ResetTool\"},{\"attributes\":{\"callback\":null,\"start\":0},\"id\":\"7355\",\"type\":\"DataRange1d\"},{\"attributes\":{\"fill_color\":{\"value\":\"#1f77b4\"},\"line_color\":{\"value\":\"#1f77b4\"},\"top\":{\"field\":\"counts\"},\"width\":{\"value\":0.9},\"x\":{\"field\":\"x\"}},\"id\":\"7384\",\"type\":\"VBar\"},{\"attributes\":{},\"id\":\"7665\",\"type\":\"UnionRenderers\"},{\"attributes\":{},\"id\":\"7359\",\"type\":\"LinearScale\"},{\"attributes\":{},\"id\":\"7357\",\"type\":\"CategoricalScale\"},{\"attributes\":{},\"id\":\"7375\",\"type\":\"HelpTool\"},{\"attributes\":{\"callback\":null,\"data\":{\"counts\":[2,5,3,1,3,2,4,3,4,3,2,4,2,4,5,4,6,3],\"x\":[[\"Apples\",\"2015\"],[\"Apples\",\"2016\"],[\"Apples\",\"2017\"],[\"Pears\",\"2015\"],[\"Pears\",\"2016\"],[\"Pears\",\"2017\"],[\"Nectarines\",\"2015\"],[\"Nectarines\",\"2016\"],[\"Nectarines\",\"2017\"],[\"Plums\",\"2015\"],[\"Plums\",\"2016\"],[\"Plums\",\"2017\"],[\"Grapes\",\"2015\"],[\"Grapes\",\"2016\"],[\"Grapes\",\"2017\"],[\"Strawberries\",\"2015\"],[\"Strawberries\",\"2016\"],[\"Strawberries\",\"2017\"]]},\"selected\":{\"id\":\"7666\",\"type\":\"Selection\"},\"selection_policy\":{\"id\":\"7665\",\"type\":\"UnionRenderers\"}},\"id\":\"7349\",\"type\":\"ColumnDataSource\"},{\"attributes\":{},\"id\":\"7661\",\"type\":\"BasicTickFormatter\"}],\"root_ids\":[\"7351\"]},\"title\":\"Bokeh Application\",\"version\":\"1.3.4\"}};\n",
       "  var render_items = [{\"docid\":\"3e33ec6c-fac0-47a3-b285-c0b4a86c1118\",\"roots\":{\"7351\":\"e1c2b09f-295e-4759-8847-2b19a853cf64\"}}];\n",
       "  root.Bokeh.embed.embed_items_notebook(docs_json, render_items);\n",
       "\n",
       "  }\n",
       "  if (root.Bokeh !== undefined) {\n",
       "    embed_document(root);\n",
       "  } else {\n",
       "    var attempts = 0;\n",
       "    var timer = setInterval(function(root) {\n",
       "      if (root.Bokeh !== undefined) {\n",
       "        embed_document(root);\n",
       "        clearInterval(timer);\n",
       "      }\n",
       "      attempts++;\n",
       "      if (attempts > 100) {\n",
       "        console.log(\"Bokeh: ERROR: Unable to run BokehJS code because BokehJS library is missing\");\n",
       "        clearInterval(timer);\n",
       "      }\n",
       "    }, 10, root)\n",
       "  }\n",
       "})(window);"
      ],
      "application/vnd.bokehjs_exec.v0+json": ""
     },
     "metadata": {
      "application/vnd.bokehjs_exec.v0+json": {
       "id": "7351"
      }
     },
     "output_type": "display_data"
    }
   ],
   "source": [
    "from bokeh.models import FactorRange\n",
    "\n",
    "fruits = ['Apples', 'Pears', 'Nectarines', 'Plums', 'Grapes', 'Strawberries']\n",
    "years = ['2015', '2016', '2017']\n",
    "\n",
    "data = {'fruits' : fruits,\n",
    "        '2015'   : [2, 1, 4, 3, 2, 4],\n",
    "        '2016'   : [5, 3, 3, 2, 4, 6],\n",
    "        '2017'   : [3, 2, 4, 4, 5, 3]}\n",
    "\n",
    "# this creates [ (\"Apples\", \"2015\"), (\"Apples\", \"2016\"), (\"Apples\", \"2017\"), (\"Pears\", \"2015), ... ]\n",
    "x = [ (fruit, year) for fruit in fruits for year in years ]\n",
    "counts = sum(zip(data['2015'], data['2016'], data['2017']), ()) # like an hstack\n",
    "\n",
    "source = ColumnDataSource(data=dict(x=x, counts=counts))\n",
    "\n",
    "p = figure(x_range=FactorRange(*x), plot_height=250, title=\"Fruit Counts by Year\")\n",
    "\n",
    "p.vbar(x='x', top='counts', width=0.9, source=source)\n",
    "\n",
    "p.y_range.start = 0\n",
    "p.x_range.range_padding = 0.1\n",
    "p.xaxis.major_label_orientation = 1\n",
    "p.xgrid.grid_line_color = None\n",
    "\n",
    "show(p)"
   ]
  },
  {
   "cell_type": "code",
   "execution_count": 46,
   "metadata": {},
   "outputs": [],
   "source": [
    "# Exercise: Make the chart above have a different color for each year by adding colors to the ColumnDataSource\n"
   ]
  },
  {
   "cell_type": "markdown",
   "metadata": {},
   "source": [
    "Another way we can set the color of the bars is to use a transorm.  Here we use a new one `factor_cmap` that accepts a the name of a column to use for colormapping, as well as the palette and factors that define the color mapping. \n",
    "\n",
    "Additionally we can configure it to map just the sub-factors if desired. For instance in this case we don't want shade each `(fruit, year)` pair differently. Instead, we want to only shade based on the `year`. So we pass `start=1` and `end=2` to specify the slice range of each factor to use when colormapping. Then we pass the result as the `fill_color` value:\n",
    "\n",
    "```\n",
    "    fill_color=factor_cmap('x', palette=['firebrick', 'olive', 'navy'], factors=years, start=1, end=2))\n",
    "```\n",
    "to have the colors be applied automatically based on the underlying data. "
   ]
  },
  {
   "cell_type": "code",
   "execution_count": 47,
   "metadata": {},
   "outputs": [
    {
     "data": {
      "text/html": [
       "\n",
       "\n",
       "\n",
       "\n",
       "\n",
       "\n",
       "  <div class=\"bk-root\" id=\"3d49cfb4-b424-481a-94a2-770d0267fce8\" data-root-id=\"7717\"></div>\n"
      ]
     },
     "metadata": {},
     "output_type": "display_data"
    },
    {
     "data": {
      "application/javascript": [
       "(function(root) {\n",
       "  function embed_document(root) {\n",
       "    \n",
       "  var docs_json = {\"17eddc32-03d3-419d-936d-96ac0bcb4896\":{\"roots\":{\"references\":[{\"attributes\":{\"below\":[{\"id\":\"7727\",\"type\":\"CategoricalAxis\"}],\"center\":[{\"id\":\"7730\",\"type\":\"Grid\"},{\"id\":\"7735\",\"type\":\"Grid\"}],\"left\":[{\"id\":\"7731\",\"type\":\"LinearAxis\"}],\"plot_height\":250,\"renderers\":[{\"id\":\"7753\",\"type\":\"GlyphRenderer\"}],\"title\":{\"id\":\"7718\",\"type\":\"Title\"},\"toolbar\":{\"id\":\"7742\",\"type\":\"Toolbar\"},\"x_range\":{\"id\":\"7716\",\"type\":\"FactorRange\"},\"x_scale\":{\"id\":\"7723\",\"type\":\"CategoricalScale\"},\"y_range\":{\"id\":\"7721\",\"type\":\"DataRange1d\"},\"y_scale\":{\"id\":\"7725\",\"type\":\"LinearScale\"}},\"id\":\"7717\",\"subtype\":\"Figure\",\"type\":\"Plot\"},{\"attributes\":{},\"id\":\"8036\",\"type\":\"BasicTickFormatter\"},{\"attributes\":{\"dimension\":1,\"ticker\":{\"id\":\"7732\",\"type\":\"BasicTicker\"}},\"id\":\"7735\",\"type\":\"Grid\"},{\"attributes\":{},\"id\":\"8038\",\"type\":\"CategoricalTickFormatter\"},{\"attributes\":{\"formatter\":{\"id\":\"8036\",\"type\":\"BasicTickFormatter\"},\"ticker\":{\"id\":\"7732\",\"type\":\"BasicTicker\"}},\"id\":\"7731\",\"type\":\"LinearAxis\"},{\"attributes\":{\"grid_line_color\":null,\"ticker\":{\"id\":\"7728\",\"type\":\"CategoricalTicker\"}},\"id\":\"7730\",\"type\":\"Grid\"},{\"attributes\":{\"bottom_units\":\"screen\",\"fill_alpha\":{\"value\":0.5},\"fill_color\":{\"value\":\"lightgrey\"},\"left_units\":\"screen\",\"level\":\"overlay\",\"line_alpha\":{\"value\":1.0},\"line_color\":{\"value\":\"black\"},\"line_dash\":[4,4],\"line_width\":{\"value\":2},\"render_mode\":\"css\",\"right_units\":\"screen\",\"top_units\":\"screen\"},\"id\":\"8042\",\"type\":\"BoxAnnotation\"},{\"attributes\":{},\"id\":\"7732\",\"type\":\"BasicTicker\"},{\"attributes\":{\"formatter\":{\"id\":\"8038\",\"type\":\"CategoricalTickFormatter\"},\"major_label_orientation\":1,\"ticker\":{\"id\":\"7728\",\"type\":\"CategoricalTicker\"}},\"id\":\"7727\",\"type\":\"CategoricalAxis\"},{\"attributes\":{\"overlay\":{\"id\":\"8042\",\"type\":\"BoxAnnotation\"}},\"id\":\"7738\",\"type\":\"BoxZoomTool\"},{\"attributes\":{},\"id\":\"7666\",\"type\":\"Selection\"},{\"attributes\":{},\"id\":\"7725\",\"type\":\"LinearScale\"},{\"attributes\":{\"fill_alpha\":{\"value\":0.1},\"fill_color\":{\"value\":\"#1f77b4\"},\"line_alpha\":{\"value\":0.1},\"line_color\":{\"value\":\"#1f77b4\"},\"top\":{\"field\":\"counts\"},\"width\":{\"value\":0.9},\"x\":{\"field\":\"x\"}},\"id\":\"7752\",\"type\":\"VBar\"},{\"attributes\":{},\"id\":\"7723\",\"type\":\"CategoricalScale\"},{\"attributes\":{\"active_drag\":\"auto\",\"active_inspect\":\"auto\",\"active_multi\":null,\"active_scroll\":\"auto\",\"active_tap\":\"auto\",\"tools\":[{\"id\":\"7736\",\"type\":\"PanTool\"},{\"id\":\"7737\",\"type\":\"WheelZoomTool\"},{\"id\":\"7738\",\"type\":\"BoxZoomTool\"},{\"id\":\"7739\",\"type\":\"SaveTool\"},{\"id\":\"7740\",\"type\":\"ResetTool\"},{\"id\":\"7741\",\"type\":\"HelpTool\"}]},\"id\":\"7742\",\"type\":\"Toolbar\"},{\"attributes\":{},\"id\":\"7736\",\"type\":\"PanTool\"},{\"attributes\":{\"end\":2,\"factors\":[\"2015\",\"2016\",\"2017\"],\"palette\":[\"firebrick\",\"olive\",\"navy\"],\"start\":1},\"id\":\"7749\",\"type\":\"CategoricalColorMapper\"},{\"attributes\":{\"text\":\"Fruit Counts by Year\"},\"id\":\"7718\",\"type\":\"Title\"},{\"attributes\":{},\"id\":\"7740\",\"type\":\"ResetTool\"},{\"attributes\":{},\"id\":\"7665\",\"type\":\"UnionRenderers\"},{\"attributes\":{\"callback\":null,\"start\":0},\"id\":\"7721\",\"type\":\"DataRange1d\"},{\"attributes\":{},\"id\":\"7739\",\"type\":\"SaveTool\"},{\"attributes\":{\"callback\":null,\"factors\":[[\"Apples\",\"2015\"],[\"Apples\",\"2016\"],[\"Apples\",\"2017\"],[\"Pears\",\"2015\"],[\"Pears\",\"2016\"],[\"Pears\",\"2017\"],[\"Nectarines\",\"2015\"],[\"Nectarines\",\"2016\"],[\"Nectarines\",\"2017\"],[\"Plums\",\"2015\"],[\"Plums\",\"2016\"],[\"Plums\",\"2017\"],[\"Grapes\",\"2015\"],[\"Grapes\",\"2016\"],[\"Grapes\",\"2017\"],[\"Strawberries\",\"2015\"],[\"Strawberries\",\"2016\"],[\"Strawberries\",\"2017\"]],\"range_padding\":0.1},\"id\":\"7716\",\"type\":\"FactorRange\"},{\"attributes\":{\"data_source\":{\"id\":\"7349\",\"type\":\"ColumnDataSource\"},\"glyph\":{\"id\":\"7751\",\"type\":\"VBar\"},\"hover_glyph\":null,\"muted_glyph\":null,\"nonselection_glyph\":{\"id\":\"7752\",\"type\":\"VBar\"},\"selection_glyph\":null,\"view\":{\"id\":\"7754\",\"type\":\"CDSView\"}},\"id\":\"7753\",\"type\":\"GlyphRenderer\"},{\"attributes\":{},\"id\":\"7737\",\"type\":\"WheelZoomTool\"},{\"attributes\":{\"fill_color\":{\"field\":\"x\",\"transform\":{\"id\":\"7749\",\"type\":\"CategoricalColorMapper\"}},\"line_color\":{\"value\":\"white\"},\"top\":{\"field\":\"counts\"},\"width\":{\"value\":0.9},\"x\":{\"field\":\"x\"}},\"id\":\"7751\",\"type\":\"VBar\"},{\"attributes\":{\"callback\":null,\"data\":{\"counts\":[2,5,3,1,3,2,4,3,4,3,2,4,2,4,5,4,6,3],\"x\":[[\"Apples\",\"2015\"],[\"Apples\",\"2016\"],[\"Apples\",\"2017\"],[\"Pears\",\"2015\"],[\"Pears\",\"2016\"],[\"Pears\",\"2017\"],[\"Nectarines\",\"2015\"],[\"Nectarines\",\"2016\"],[\"Nectarines\",\"2017\"],[\"Plums\",\"2015\"],[\"Plums\",\"2016\"],[\"Plums\",\"2017\"],[\"Grapes\",\"2015\"],[\"Grapes\",\"2016\"],[\"Grapes\",\"2017\"],[\"Strawberries\",\"2015\"],[\"Strawberries\",\"2016\"],[\"Strawberries\",\"2017\"]]},\"selected\":{\"id\":\"7666\",\"type\":\"Selection\"},\"selection_policy\":{\"id\":\"7665\",\"type\":\"UnionRenderers\"}},\"id\":\"7349\",\"type\":\"ColumnDataSource\"},{\"attributes\":{},\"id\":\"7741\",\"type\":\"HelpTool\"},{\"attributes\":{},\"id\":\"7728\",\"type\":\"CategoricalTicker\"},{\"attributes\":{\"source\":{\"id\":\"7349\",\"type\":\"ColumnDataSource\"}},\"id\":\"7754\",\"type\":\"CDSView\"}],\"root_ids\":[\"7717\"]},\"title\":\"Bokeh Application\",\"version\":\"1.3.4\"}};\n",
       "  var render_items = [{\"docid\":\"17eddc32-03d3-419d-936d-96ac0bcb4896\",\"roots\":{\"7717\":\"3d49cfb4-b424-481a-94a2-770d0267fce8\"}}];\n",
       "  root.Bokeh.embed.embed_items_notebook(docs_json, render_items);\n",
       "\n",
       "  }\n",
       "  if (root.Bokeh !== undefined) {\n",
       "    embed_document(root);\n",
       "  } else {\n",
       "    var attempts = 0;\n",
       "    var timer = setInterval(function(root) {\n",
       "      if (root.Bokeh !== undefined) {\n",
       "        embed_document(root);\n",
       "        clearInterval(timer);\n",
       "      }\n",
       "      attempts++;\n",
       "      if (attempts > 100) {\n",
       "        console.log(\"Bokeh: ERROR: Unable to run BokehJS code because BokehJS library is missing\");\n",
       "        clearInterval(timer);\n",
       "      }\n",
       "    }, 10, root)\n",
       "  }\n",
       "})(window);"
      ],
      "application/vnd.bokehjs_exec.v0+json": ""
     },
     "metadata": {
      "application/vnd.bokehjs_exec.v0+json": {
       "id": "7717"
      }
     },
     "output_type": "display_data"
    }
   ],
   "source": [
    "from bokeh.transform import factor_cmap\n",
    "\n",
    "p = figure(x_range=FactorRange(*x), plot_height=250, title=\"Fruit Counts by Year\")\n",
    "\n",
    "p.vbar(x='x', top='counts', width=0.9, source=source, line_color=\"white\",\n",
    "\n",
    "       # use the palette to colormap based on the the x[1:2] values\n",
    "       fill_color=factor_cmap('x', palette=['firebrick', 'olive', 'navy'], factors=years, start=1, end=2))\n",
    "\n",
    "p.y_range.start = 0\n",
    "p.x_range.range_padding = 0.1\n",
    "p.xaxis.major_label_orientation = 1\n",
    "p.xgrid.grid_line_color = None\n",
    "\n",
    "show(p)"
   ]
  },
  {
   "cell_type": "markdown",
   "metadata": {},
   "source": [
    "It is also possible to achieve grouped bar plots using another technique called \"visual dodge\". That would be useful e.g. if you only wanted to have the axis labeled by fruit type, and not include the years on the axis. This tutorial does not cover that technique but you can find information in the [User's Guide](http://bokeh.pydata.org/en/dev/docs/user_guide/categorical.html#visual-dodge). "
   ]
  },
  {
   "cell_type": "markdown",
   "metadata": {},
   "source": [
    "## Mixing Categorical Levels"
   ]
  },
  {
   "cell_type": "code",
   "execution_count": 48,
   "metadata": {},
   "outputs": [
    {
     "data": {
      "text/html": [
       "\n",
       "\n",
       "\n",
       "\n",
       "\n",
       "\n",
       "  <div class=\"bk-root\" id=\"f18fff2f-5e6e-4f25-a1a8-6cb56baf625c\" data-root-id=\"8092\"></div>\n"
      ]
     },
     "metadata": {},
     "output_type": "display_data"
    },
    {
     "data": {
      "application/javascript": [
       "(function(root) {\n",
       "  function embed_document(root) {\n",
       "    \n",
       "  var docs_json = {\"49238412-84c7-4da9-86fa-fff796c34ab4\":{\"roots\":{\"references\":[{\"attributes\":{\"below\":[{\"id\":\"8100\",\"type\":\"CategoricalAxis\"}],\"center\":[{\"id\":\"8103\",\"type\":\"Grid\"},{\"id\":\"8108\",\"type\":\"Grid\"}],\"left\":[{\"id\":\"8104\",\"type\":\"LinearAxis\"}],\"plot_height\":250,\"renderers\":[{\"id\":\"8125\",\"type\":\"GlyphRenderer\"},{\"id\":\"8130\",\"type\":\"GlyphRenderer\"},{\"id\":\"8135\",\"type\":\"GlyphRenderer\"}],\"title\":{\"id\":\"8425\",\"type\":\"Title\"},\"toolbar\":{\"id\":\"8115\",\"type\":\"Toolbar\"},\"x_range\":{\"id\":\"8091\",\"type\":\"FactorRange\"},\"x_scale\":{\"id\":\"8096\",\"type\":\"CategoricalScale\"},\"y_range\":{\"id\":\"8094\",\"type\":\"DataRange1d\"},\"y_scale\":{\"id\":\"8098\",\"type\":\"LinearScale\"}},\"id\":\"8092\",\"subtype\":\"Figure\",\"type\":\"Plot\"},{\"attributes\":{},\"id\":\"8105\",\"type\":\"BasicTicker\"},{\"attributes\":{\"data_source\":{\"id\":\"8132\",\"type\":\"ColumnDataSource\"},\"glyph\":{\"id\":\"8133\",\"type\":\"Circle\"},\"hover_glyph\":null,\"muted_glyph\":null,\"nonselection_glyph\":{\"id\":\"8134\",\"type\":\"Circle\"},\"selection_glyph\":null,\"view\":{\"id\":\"8136\",\"type\":\"CDSView\"}},\"id\":\"8135\",\"type\":\"GlyphRenderer\"},{\"attributes\":{\"source\":{\"id\":\"8122\",\"type\":\"ColumnDataSource\"}},\"id\":\"8126\",\"type\":\"CDSView\"},{\"attributes\":{\"source\":{\"id\":\"8132\",\"type\":\"ColumnDataSource\"}},\"id\":\"8136\",\"type\":\"CDSView\"},{\"attributes\":{\"dimension\":1,\"ticker\":{\"id\":\"8105\",\"type\":\"BasicTicker\"}},\"id\":\"8108\",\"type\":\"Grid\"},{\"attributes\":{\"fill_alpha\":{\"value\":0.1},\"fill_color\":{\"value\":\"#1f77b4\"},\"line_alpha\":{\"value\":0.1},\"line_color\":{\"value\":\"#1f77b4\"},\"top\":{\"field\":\"top\"},\"width\":{\"value\":0.9},\"x\":{\"field\":\"x\"}},\"id\":\"8124\",\"type\":\"VBar\"},{\"attributes\":{\"callback\":null,\"data\":{\"x\":[\"Q1\",\"Q2\",\"Q3\",\"Q4\"],\"y\":[12,9,13,14]},\"selected\":{\"id\":\"8436\",\"type\":\"Selection\"},\"selection_policy\":{\"id\":\"8435\",\"type\":\"UnionRenderers\"}},\"id\":\"8132\",\"type\":\"ColumnDataSource\"},{\"attributes\":{\"formatter\":{\"id\":\"8427\",\"type\":\"BasicTickFormatter\"},\"ticker\":{\"id\":\"8105\",\"type\":\"BasicTicker\"}},\"id\":\"8104\",\"type\":\"LinearAxis\"},{\"attributes\":{\"fill_alpha\":{\"value\":0.5},\"fill_color\":{\"value\":\"#1f77b4\"},\"line_alpha\":{\"value\":0.5},\"line_color\":{\"value\":\"#1f77b4\"},\"top\":{\"field\":\"top\"},\"width\":{\"value\":0.9},\"x\":{\"field\":\"x\"}},\"id\":\"8123\",\"type\":\"VBar\"},{\"attributes\":{\"source\":{\"id\":\"8127\",\"type\":\"ColumnDataSource\"}},\"id\":\"8131\",\"type\":\"CDSView\"},{\"attributes\":{\"line_color\":\"red\",\"line_width\":3,\"x\":{\"field\":\"x\"},\"y\":{\"field\":\"y\"}},\"id\":\"8128\",\"type\":\"Line\"},{\"attributes\":{},\"id\":\"8114\",\"type\":\"HelpTool\"},{\"attributes\":{},\"id\":\"8427\",\"type\":\"BasicTickFormatter\"},{\"attributes\":{\"active_drag\":\"auto\",\"active_inspect\":\"auto\",\"active_multi\":null,\"active_scroll\":\"auto\",\"active_tap\":\"auto\",\"tools\":[{\"id\":\"8109\",\"type\":\"PanTool\"},{\"id\":\"8110\",\"type\":\"WheelZoomTool\"},{\"id\":\"8111\",\"type\":\"BoxZoomTool\"},{\"id\":\"8112\",\"type\":\"SaveTool\"},{\"id\":\"8113\",\"type\":\"ResetTool\"},{\"id\":\"8114\",\"type\":\"HelpTool\"}]},\"id\":\"8115\",\"type\":\"Toolbar\"},{\"attributes\":{},\"id\":\"8429\",\"type\":\"CategoricalTickFormatter\"},{\"attributes\":{\"data_source\":{\"id\":\"8127\",\"type\":\"ColumnDataSource\"},\"glyph\":{\"id\":\"8128\",\"type\":\"Line\"},\"hover_glyph\":null,\"muted_glyph\":null,\"nonselection_glyph\":{\"id\":\"8129\",\"type\":\"Line\"},\"selection_glyph\":null,\"view\":{\"id\":\"8131\",\"type\":\"CDSView\"}},\"id\":\"8130\",\"type\":\"GlyphRenderer\"},{\"attributes\":{\"callback\":null,\"factors\":[[\"Q1\",\"jan\"],[\"Q1\",\"feb\"],[\"Q1\",\"mar\"],[\"Q2\",\"apr\"],[\"Q2\",\"may\"],[\"Q2\",\"jun\"],[\"Q3\",\"jul\"],[\"Q3\",\"aug\"],[\"Q3\",\"sep\"],[\"Q4\",\"oct\"],[\"Q4\",\"nov\"],[\"Q4\",\"dec\"]],\"range_padding\":0.1},\"id\":\"8091\",\"type\":\"FactorRange\"},{\"attributes\":{},\"id\":\"8432\",\"type\":\"Selection\"},{\"attributes\":{\"data_source\":{\"id\":\"8122\",\"type\":\"ColumnDataSource\"},\"glyph\":{\"id\":\"8123\",\"type\":\"VBar\"},\"hover_glyph\":null,\"muted_glyph\":null,\"nonselection_glyph\":{\"id\":\"8124\",\"type\":\"VBar\"},\"selection_glyph\":null,\"view\":{\"id\":\"8126\",\"type\":\"CDSView\"}},\"id\":\"8125\",\"type\":\"GlyphRenderer\"},{\"attributes\":{\"fill_alpha\":{\"value\":0.1},\"fill_color\":{\"value\":\"#1f77b4\"},\"line_alpha\":{\"value\":0.1},\"line_color\":{\"value\":\"#1f77b4\"},\"size\":{\"units\":\"screen\",\"value\":10},\"x\":{\"field\":\"x\"},\"y\":{\"field\":\"y\"}},\"id\":\"8134\",\"type\":\"Circle\"},{\"attributes\":{\"fill_color\":{\"value\":\"white\"},\"line_color\":{\"value\":\"red\"},\"size\":{\"units\":\"screen\",\"value\":10},\"x\":{\"field\":\"x\"},\"y\":{\"field\":\"y\"}},\"id\":\"8133\",\"type\":\"Circle\"},{\"attributes\":{},\"id\":\"8434\",\"type\":\"Selection\"},{\"attributes\":{},\"id\":\"8109\",\"type\":\"PanTool\"},{\"attributes\":{},\"id\":\"8433\",\"type\":\"UnionRenderers\"},{\"attributes\":{\"text\":\"\"},\"id\":\"8425\",\"type\":\"Title\"},{\"attributes\":{\"callback\":null,\"data\":{\"top\":[10,12,16,9,10,8,12,13,14,14,12,16],\"x\":[[\"Q1\",\"jan\"],[\"Q1\",\"feb\"],[\"Q1\",\"mar\"],[\"Q2\",\"apr\"],[\"Q2\",\"may\"],[\"Q2\",\"jun\"],[\"Q3\",\"jul\"],[\"Q3\",\"aug\"],[\"Q3\",\"sep\"],[\"Q4\",\"oct\"],[\"Q4\",\"nov\"],[\"Q4\",\"dec\"]]},\"selected\":{\"id\":\"8432\",\"type\":\"Selection\"},\"selection_policy\":{\"id\":\"8431\",\"type\":\"UnionRenderers\"}},\"id\":\"8122\",\"type\":\"ColumnDataSource\"},{\"attributes\":{\"callback\":null,\"data\":{\"x\":[\"Q1\",\"Q2\",\"Q3\",\"Q4\"],\"y\":[12,9,13,14]},\"selected\":{\"id\":\"8434\",\"type\":\"Selection\"},\"selection_policy\":{\"id\":\"8433\",\"type\":\"UnionRenderers\"}},\"id\":\"8127\",\"type\":\"ColumnDataSource\"},{\"attributes\":{},\"id\":\"8110\",\"type\":\"WheelZoomTool\"},{\"attributes\":{},\"id\":\"8431\",\"type\":\"UnionRenderers\"},{\"attributes\":{},\"id\":\"8435\",\"type\":\"UnionRenderers\"},{\"attributes\":{\"overlay\":{\"id\":\"8437\",\"type\":\"BoxAnnotation\"}},\"id\":\"8111\",\"type\":\"BoxZoomTool\"},{\"attributes\":{},\"id\":\"8436\",\"type\":\"Selection\"},{\"attributes\":{\"callback\":null,\"start\":0},\"id\":\"8094\",\"type\":\"DataRange1d\"},{\"attributes\":{},\"id\":\"8112\",\"type\":\"SaveTool\"},{\"attributes\":{\"bottom_units\":\"screen\",\"fill_alpha\":{\"value\":0.5},\"fill_color\":{\"value\":\"lightgrey\"},\"left_units\":\"screen\",\"level\":\"overlay\",\"line_alpha\":{\"value\":1.0},\"line_color\":{\"value\":\"black\"},\"line_dash\":[4,4],\"line_width\":{\"value\":2},\"render_mode\":\"css\",\"right_units\":\"screen\",\"top_units\":\"screen\"},\"id\":\"8437\",\"type\":\"BoxAnnotation\"},{\"attributes\":{},\"id\":\"8096\",\"type\":\"CategoricalScale\"},{\"attributes\":{},\"id\":\"8098\",\"type\":\"LinearScale\"},{\"attributes\":{\"line_alpha\":0.1,\"line_color\":\"#1f77b4\",\"line_width\":3,\"x\":{\"field\":\"x\"},\"y\":{\"field\":\"y\"}},\"id\":\"8129\",\"type\":\"Line\"},{\"attributes\":{},\"id\":\"8113\",\"type\":\"ResetTool\"},{\"attributes\":{\"grid_line_color\":null,\"ticker\":{\"id\":\"8101\",\"type\":\"CategoricalTicker\"}},\"id\":\"8103\",\"type\":\"Grid\"},{\"attributes\":{\"formatter\":{\"id\":\"8429\",\"type\":\"CategoricalTickFormatter\"},\"ticker\":{\"id\":\"8101\",\"type\":\"CategoricalTicker\"}},\"id\":\"8100\",\"type\":\"CategoricalAxis\"},{\"attributes\":{},\"id\":\"8101\",\"type\":\"CategoricalTicker\"}],\"root_ids\":[\"8092\"]},\"title\":\"Bokeh Application\",\"version\":\"1.3.4\"}};\n",
       "  var render_items = [{\"docid\":\"49238412-84c7-4da9-86fa-fff796c34ab4\",\"roots\":{\"8092\":\"f18fff2f-5e6e-4f25-a1a8-6cb56baf625c\"}}];\n",
       "  root.Bokeh.embed.embed_items_notebook(docs_json, render_items);\n",
       "\n",
       "  }\n",
       "  if (root.Bokeh !== undefined) {\n",
       "    embed_document(root);\n",
       "  } else {\n",
       "    var attempts = 0;\n",
       "    var timer = setInterval(function(root) {\n",
       "      if (root.Bokeh !== undefined) {\n",
       "        embed_document(root);\n",
       "        clearInterval(timer);\n",
       "      }\n",
       "      attempts++;\n",
       "      if (attempts > 100) {\n",
       "        console.log(\"Bokeh: ERROR: Unable to run BokehJS code because BokehJS library is missing\");\n",
       "        clearInterval(timer);\n",
       "      }\n",
       "    }, 10, root)\n",
       "  }\n",
       "})(window);"
      ],
      "application/vnd.bokehjs_exec.v0+json": ""
     },
     "metadata": {
      "application/vnd.bokehjs_exec.v0+json": {
       "id": "8092"
      }
     },
     "output_type": "display_data"
    }
   ],
   "source": [
    "factors = [(\"Q1\", \"jan\"), (\"Q1\", \"feb\"), (\"Q1\", \"mar\"),\n",
    "           (\"Q2\", \"apr\"), (\"Q2\", \"may\"), (\"Q2\", \"jun\"),\n",
    "           (\"Q3\", \"jul\"), (\"Q3\", \"aug\"), (\"Q3\", \"sep\"),\n",
    "           (\"Q4\", \"oct\"), (\"Q4\", \"nov\"), (\"Q4\", \"dec\")]\n",
    "\n",
    "p = figure(x_range=FactorRange(*factors), plot_height=250)\n",
    "\n",
    "x = [ 10, 12, 16, 9, 10, 8, 12, 13, 14, 14, 12, 16 ]\n",
    "p.vbar(x=factors, top=x, width=0.9, alpha=0.5)\n",
    "\n",
    "qs, aves = [\"Q1\", \"Q2\", \"Q3\", \"Q4\"], [12, 9, 13, 14]\n",
    "p.line(x=qs, y=aves, color=\"red\", line_width=3)\n",
    "p.circle(x=qs, y=aves, line_color=\"red\", fill_color=\"white\", size=10)\n",
    "\n",
    "p.y_range.start = 0\n",
    "p.x_range.range_padding = 0.1\n",
    "p.xgrid.grid_line_color = None\n",
    "\n",
    "show(p)"
   ]
  },
  {
   "cell_type": "markdown",
   "metadata": {},
   "source": [
    "## Using Pandas `GroupBy`"
   ]
  },
  {
   "cell_type": "code",
   "execution_count": 49,
   "metadata": {},
   "outputs": [
    {
     "data": {
      "text/html": [
       "<div>\n",
       "<style scoped>\n",
       "    .dataframe tbody tr th:only-of-type {\n",
       "        vertical-align: middle;\n",
       "    }\n",
       "\n",
       "    .dataframe tbody tr th {\n",
       "        vertical-align: top;\n",
       "    }\n",
       "\n",
       "    .dataframe thead th {\n",
       "        text-align: right;\n",
       "    }\n",
       "</style>\n",
       "<table border=\"1\" class=\"dataframe\">\n",
       "  <thead>\n",
       "    <tr style=\"text-align: right;\">\n",
       "      <th></th>\n",
       "      <th>mpg</th>\n",
       "      <th>cyl</th>\n",
       "      <th>displ</th>\n",
       "      <th>hp</th>\n",
       "      <th>weight</th>\n",
       "      <th>accel</th>\n",
       "      <th>yr</th>\n",
       "      <th>origin</th>\n",
       "      <th>name</th>\n",
       "      <th>mfr</th>\n",
       "    </tr>\n",
       "  </thead>\n",
       "  <tbody>\n",
       "    <tr>\n",
       "      <td>0</td>\n",
       "      <td>18.0</td>\n",
       "      <td>8</td>\n",
       "      <td>307.0</td>\n",
       "      <td>130</td>\n",
       "      <td>3504</td>\n",
       "      <td>12.0</td>\n",
       "      <td>70</td>\n",
       "      <td>North America</td>\n",
       "      <td>chevrolet chevelle malibu</td>\n",
       "      <td>chevrolet</td>\n",
       "    </tr>\n",
       "    <tr>\n",
       "      <td>1</td>\n",
       "      <td>15.0</td>\n",
       "      <td>8</td>\n",
       "      <td>350.0</td>\n",
       "      <td>165</td>\n",
       "      <td>3693</td>\n",
       "      <td>11.5</td>\n",
       "      <td>70</td>\n",
       "      <td>North America</td>\n",
       "      <td>buick skylark 320</td>\n",
       "      <td>buick</td>\n",
       "    </tr>\n",
       "    <tr>\n",
       "      <td>2</td>\n",
       "      <td>18.0</td>\n",
       "      <td>8</td>\n",
       "      <td>318.0</td>\n",
       "      <td>150</td>\n",
       "      <td>3436</td>\n",
       "      <td>11.0</td>\n",
       "      <td>70</td>\n",
       "      <td>North America</td>\n",
       "      <td>plymouth satellite</td>\n",
       "      <td>plymouth</td>\n",
       "    </tr>\n",
       "    <tr>\n",
       "      <td>3</td>\n",
       "      <td>16.0</td>\n",
       "      <td>8</td>\n",
       "      <td>304.0</td>\n",
       "      <td>150</td>\n",
       "      <td>3433</td>\n",
       "      <td>12.0</td>\n",
       "      <td>70</td>\n",
       "      <td>North America</td>\n",
       "      <td>amc rebel sst</td>\n",
       "      <td>amc</td>\n",
       "    </tr>\n",
       "    <tr>\n",
       "      <td>4</td>\n",
       "      <td>17.0</td>\n",
       "      <td>8</td>\n",
       "      <td>302.0</td>\n",
       "      <td>140</td>\n",
       "      <td>3449</td>\n",
       "      <td>10.5</td>\n",
       "      <td>70</td>\n",
       "      <td>North America</td>\n",
       "      <td>ford torino</td>\n",
       "      <td>ford</td>\n",
       "    </tr>\n",
       "  </tbody>\n",
       "</table>\n",
       "</div>"
      ],
      "text/plain": [
       "    mpg cyl  displ   hp  weight  accel  yr         origin  \\\n",
       "0  18.0   8  307.0  130    3504   12.0  70  North America   \n",
       "1  15.0   8  350.0  165    3693   11.5  70  North America   \n",
       "2  18.0   8  318.0  150    3436   11.0  70  North America   \n",
       "3  16.0   8  304.0  150    3433   12.0  70  North America   \n",
       "4  17.0   8  302.0  140    3449   10.5  70  North America   \n",
       "\n",
       "                        name        mfr  \n",
       "0  chevrolet chevelle malibu  chevrolet  \n",
       "1          buick skylark 320      buick  \n",
       "2         plymouth satellite   plymouth  \n",
       "3              amc rebel sst        amc  \n",
       "4                ford torino       ford  "
      ]
     },
     "execution_count": 49,
     "metadata": {},
     "output_type": "execute_result"
    }
   ],
   "source": [
    "from bokeh.sampledata.autompg import autompg_clean as df\n",
    "\n",
    "df.cyl = df.cyl.astype(str)\n",
    "df.head()"
   ]
  },
  {
   "cell_type": "code",
   "execution_count": 50,
   "metadata": {},
   "outputs": [
    {
     "data": {
      "text/html": [
       "\n",
       "\n",
       "\n",
       "\n",
       "\n",
       "\n",
       "  <div class=\"bk-root\" id=\"156b0b5f-19c7-49a6-9365-826a90e32fdc\" data-root-id=\"8518\"></div>\n"
      ]
     },
     "metadata": {},
     "output_type": "display_data"
    },
    {
     "data": {
      "application/javascript": [
       "(function(root) {\n",
       "  function embed_document(root) {\n",
       "    \n",
       "  var docs_json = {\"2c2af817-089d-4412-9d91-0119137eb2da\":{\"roots\":{\"references\":[{\"attributes\":{\"below\":[{\"id\":\"8527\",\"type\":\"CategoricalAxis\"}],\"center\":[{\"id\":\"8530\",\"type\":\"Grid\"},{\"id\":\"8535\",\"type\":\"Grid\"}],\"left\":[{\"id\":\"8531\",\"type\":\"LinearAxis\"}],\"plot_height\":350,\"renderers\":[{\"id\":\"8552\",\"type\":\"GlyphRenderer\"}],\"title\":{\"id\":\"8855\",\"type\":\"Title\"},\"toolbar\":{\"id\":\"8542\",\"type\":\"Toolbar\"},\"x_range\":{\"id\":\"8519\",\"type\":\"FactorRange\"},\"x_scale\":{\"id\":\"8523\",\"type\":\"CategoricalScale\"},\"y_range\":{\"id\":\"8521\",\"type\":\"DataRange1d\"},\"y_scale\":{\"id\":\"8525\",\"type\":\"LinearScale\"}},\"id\":\"8518\",\"subtype\":\"Figure\",\"type\":\"Plot\"},{\"attributes\":{},\"id\":\"8523\",\"type\":\"CategoricalScale\"},{\"attributes\":{},\"id\":\"8528\",\"type\":\"CategoricalTicker\"},{\"attributes\":{},\"id\":\"8857\",\"type\":\"BasicTickFormatter\"},{\"attributes\":{},\"id\":\"8537\",\"type\":\"WheelZoomTool\"},{\"attributes\":{},\"id\":\"8536\",\"type\":\"PanTool\"},{\"attributes\":{},\"id\":\"8541\",\"type\":\"HelpTool\"},{\"attributes\":{\"axis_label\":\"number of cylinders\",\"formatter\":{\"id\":\"8859\",\"type\":\"CategoricalTickFormatter\"},\"ticker\":{\"id\":\"8528\",\"type\":\"CategoricalTicker\"}},\"id\":\"8527\",\"type\":\"CategoricalAxis\"},{\"attributes\":{\"text\":\"\"},\"id\":\"8855\",\"type\":\"Title\"},{\"attributes\":{\"fill_alpha\":{\"value\":0.1},\"fill_color\":{\"value\":\"#1f77b4\"},\"line_alpha\":{\"value\":0.1},\"line_color\":{\"value\":\"#1f77b4\"},\"top\":{\"field\":\"mpg_mean\"},\"width\":{\"value\":1},\"x\":{\"field\":\"cyl\"}},\"id\":\"8551\",\"type\":\"VBar\"},{\"attributes\":{\"data_source\":{\"id\":\"8516\",\"type\":\"ColumnDataSource\"},\"glyph\":{\"id\":\"8550\",\"type\":\"VBar\"},\"hover_glyph\":null,\"muted_glyph\":null,\"nonselection_glyph\":{\"id\":\"8551\",\"type\":\"VBar\"},\"selection_glyph\":null,\"view\":{\"id\":\"8553\",\"type\":\"CDSView\"}},\"id\":\"8552\",\"type\":\"GlyphRenderer\"},{\"attributes\":{},\"id\":\"8862\",\"type\":\"Selection\"},{\"attributes\":{\"callback\":null,\"data\":{\"accel_25%\":{\"__ndarray__\":\"AAAAAACAKkCamZmZmZktQGZmZmZm5jFAmpmZmZkZLkAAAAAAAAAnQA==\",\"dtype\":\"float64\",\"shape\":[5]},\"accel_50%\":{\"__ndarray__\":\"AAAAAAAAK0AzMzMzMzMwQGZmZmZm5jNAAAAAAAAAMEAAAAAAAAAqQA==\",\"dtype\":\"float64\",\"shape\":[5]},\"accel_75%\":{\"__ndarray__\":\"AAAAAAAAK0AAAAAAAAAyQAAAAAAAADRAmpmZmZmZMUAAAAAAAAAsQA==\",\"dtype\":\"float64\",\"shape\":[5]},\"accel_count\":{\"__ndarray__\":\"AAAAAAAAEEAAAAAAAOBoQAAAAAAAAAhAAAAAAADAVEAAAAAAAMBZQA==\",\"dtype\":\"float64\",\"shape\":[5]},\"accel_max\":{\"__ndarray__\":\"AAAAAAAAK0DNzMzMzMw4QJqZmZmZGTRAAAAAAAAANUAzMzMzMzM2QA==\",\"dtype\":\"float64\",\"shape\":[5]},\"accel_mean\":{\"__ndarray__\":\"AAAAAACAKkCSxCwG+JQwQCIiIiIiojJA7d9LWxRBMEBCLI1MIukpQA==\",\"dtype\":\"float64\",\"shape\":[5]},\"accel_min\":{\"__ndarray__\":\"AAAAAAAAKUAzMzMzMzMnQM3MzMzMzC9AmpmZmZmZJkAAAAAAAAAgQA==\",\"dtype\":\"float64\",\"shape\":[5]},\"accel_std\":{\"__ndarray__\":\"AAAAAAAA4D+Y1TA5wxADQO1jrP039AJA0StM4BRBAEABZ5ysTswBQA==\",\"dtype\":\"float64\",\"shape\":[5]},\"cyl\":[\"3\",\"4\",\"5\",\"6\",\"8\"],\"displ_25%\":{\"__ndarray__\":\"AAAAAACAUUAAAAAAAMBWQAAAAAAAgF9AAAAAAADwaEAAAAAAABBzQA==\",\"dtype\":\"float64\",\"shape\":[5]},\"displ_50%\":{\"__ndarray__\":\"AAAAAACAUUAAAAAAAEBaQAAAAAAAYGBAAAAAAADgbEAAAAAAAOB1QA==\",\"dtype\":\"float64\",\"shape\":[5]},\"displ_75%\":{\"__ndarray__\":\"AAAAAAAgUkAAAAAAAEBeQAAAAAAAoGNAAAAAAABAb0AAAAAAAIB2QA==\",\"dtype\":\"float64\",\"shape\":[5]},\"displ_count\":{\"__ndarray__\":\"AAAAAAAAEEAAAAAAAOBoQAAAAAAAAAhAAAAAAADAVEAAAAAAAMBZQA==\",\"dtype\":\"float64\",\"shape\":[5]},\"displ_max\":{\"__ndarray__\":\"AAAAAAAAVEAAAAAAAIBjQAAAAAAA4GZAAAAAAABgcEAAAAAAAHB8QA==\",\"dtype\":\"float64\",\"shape\":[5]},\"displ_mean\":{\"__ndarray__\":\"AAAAAAAgUkD/9sBG72pbQAAAAAAAIGJAmjq/9pBLa0DJeVnEJ5B1QA==\",\"dtype\":\"float64\",\"shape\":[5]},\"displ_min\":{\"__ndarray__\":\"AAAAAACAUUAAAAAAAABRQAAAAAAAQF5AAAAAAAAgYkAAAAAAAEBwQA==\",\"dtype\":\"float64\",\"shape\":[5]},\"displ_std\":{\"__ndarray__\":\"AAAAAAAAFEC9furRdmA1QLmT4WuwpEBAT4BvAbA2QEDXs8ZGYGNHQA==\",\"dtype\":\"float64\",\"shape\":[5]},\"hp_25%\":{\"__ndarray__\":\"AAAAAADQV0AAAAAAAABRQAAAAAAAAFJAAAAAAAAgV0AAAAAAAIBhQA==\",\"dtype\":\"float64\",\"shape\":[5]},\"hp_50%\":{\"__ndarray__\":\"AAAAAACgWEAAAAAAAIBTQAAAAAAAQFNAAAAAAAAAWUAAAAAAAMBiQA==\",\"dtype\":\"float64\",\"shape\":[5]},\"hp_75%\":{\"__ndarray__\":\"AAAAAACgWUAAAAAAAABWQAAAAAAAgFZAAAAAAACAW0AAAAAAAOBlQA==\",\"dtype\":\"float64\",\"shape\":[5]},\"hp_count\":{\"__ndarray__\":\"AAAAAAAAEEAAAAAAAOBoQAAAAAAAAAhAAAAAAADAVEAAAAAAAMBZQA==\",\"dtype\":\"float64\",\"shape\":[5]},\"hp_max\":{\"__ndarray__\":\"AAAAAACAW0AAAAAAAMBcQAAAAAAAwFlAAAAAAACgZEAAAAAAAMBsQA==\",\"dtype\":\"float64\",\"shape\":[5]},\"hp_mean\":{\"__ndarray__\":\"AAAAAADQWEB2PKeSApJTQFVVVVVVlVRAsD3ksmJgWUDCfquNocljQA==\",\"dtype\":\"float64\",\"shape\":[5]},\"hp_min\":{\"__ndarray__\":\"AAAAAACAVkAAAAAAAABHQAAAAAAAwFBAAAAAAAAAUkAAAAAAAIBWQA==\",\"dtype\":\"float64\",\"shape\":[5]},\"hp_std\":{\"__ndarray__\":\"sTIWI2yaIECEr0Go0wstQDKsjxZJlTJAxZAwIvaeLEBPwZb3G3Q8QA==\",\"dtype\":\"float64\",\"shape\":[5]},\"mpg_25%\":{\"__ndarray__\":\"AAAAAADAMkAAAAAAAAA5QJqZmZmZ2TZAAAAAAAAAMkAAAAAAAAAqQA==\",\"dtype\":\"float64\",\"shape\":[5]},\"mpg_50%\":{\"__ndarray__\":\"AAAAAABANEBmZmZmZmY8QGZmZmZmZjlAAAAAAAAAM0AAAAAAAAAsQA==\",\"dtype\":\"float64\",\"shape\":[5]},\"mpg_75%\":{\"__ndarray__\":\"zczMzMwMNkCamZmZmXlAQGZmZmZm5j5AAAAAAAAANUAAAAAAAAAwQA==\",\"dtype\":\"float64\",\"shape\":[5]},\"mpg_count\":{\"__ndarray__\":\"AAAAAAAAEEAAAAAAAOBoQAAAAAAAAAhAAAAAAADAVEAAAAAAAMBZQA==\",\"dtype\":\"float64\",\"shape\":[5]},\"mpg_max\":{\"__ndarray__\":\"MzMzMzOzN0DNzMzMzExHQDMzMzMzM0JAAAAAAAAAQ0CamZmZmZk6QA==\",\"dtype\":\"float64\",\"shape\":[5]},\"mpg_mean\":{\"__ndarray__\":\"zczMzMyMNEByD2z0rkg9QN3d3d3dXTtA6lu15jb5M0BhwH9VHO0tQA==\",\"dtype\":\"float64\",\"shape\":[5]},\"mpg_min\":{\"__ndarray__\":\"AAAAAAAAMkAAAAAAAAAyQM3MzMzMTDRAAAAAAAAALkAAAAAAAAAiQA==\",\"dtype\":\"float64\",\"shape\":[5]},\"mpg_std\":{\"__ndarray__\":\"ca9eOxmEBECNLXOmo64WQOWG1RfXdCBALURKf2ahDkC3cW7BtbAGQA==\",\"dtype\":\"float64\",\"shape\":[5]},\"weight_25%\":{\"__ndarray__\":\"AAAAAADNoUAAAAAAAP6fQAAAAAAAlKZAAAAAAAACp0AAAAAAAK6tQA==\",\"dtype\":\"float64\",\"shape\":[5]},\"weight_50%\":{\"__ndarray__\":\"AAAAAACOokAAAAAAAGyhQAAAAAAADKdAAAAAAAAUqUAAAAAAACywQA==\",\"dtype\":\"float64\",\"shape\":[5]},\"weight_75%\":{\"__ndarray__\":\"AAAAAAB+o0AAAAAAAAWkQAAAAAAAUKlAAAAAAADOqkAAAAAAgDOxQA==\",\"dtype\":\"float64\",\"shape\":[5]},\"weight_count\":{\"__ndarray__\":\"AAAAAAAAEEAAAAAAAOBoQAAAAAAAAAhAAAAAAADAVEAAAAAAAMBZQA==\",\"dtype\":\"float64\",\"shape\":[5]},\"weight_max\":{\"__ndarray__\":\"AAAAAABApUAAAAAAAIypQAAAAAAAlKtAAAAAAACGrkAAAAAAABS0QA==\",\"dtype\":\"float64\",\"shape\":[5]},\"weight_mean\":{\"__ndarray__\":\"AAAAAAC9okAsMl+aOAKiQKuqqqqqPqhAjqbOrz0EqUBD0x3stxKwQA==\",\"dtype\":\"float64\",\"shape\":[5]},\"weight_min\":{\"__ndarray__\":\"AAAAAACYoEAAAAAAADSZQAAAAAAAHKZAAAAAAABQo0AAAAAAAByoQA==\",\"dtype\":\"float64\",\"shape\":[5]},\"weight_std\":{\"__ndarray__\":\"udhs7B3ybkC7+VSg9G11QA9pSX6AZXdAdmeNgiLGdEC9UR6eVA18QA==\",\"dtype\":\"float64\",\"shape\":[5]},\"yr_25%\":{\"__ndarray__\":\"AAAAAAAwUkAAAAAAAIBSQAAAAAAAoFNAAAAAAACAUkAAAAAAAABSQA==\",\"dtype\":\"float64\",\"shape\":[5]},\"yr_50%\":{\"__ndarray__\":\"AAAAAADAUkAAAAAAAEBTQAAAAAAAwFNAAAAAAAAAU0AAAAAAAEBSQA==\",\"dtype\":\"float64\",\"shape\":[5]},\"yr_75%\":{\"__ndarray__\":\"AAAAAABwU0AAAAAAAABUQAAAAAAA4FNAAAAAAACAU0AAAAAAAABTQA==\",\"dtype\":\"float64\",\"shape\":[5]},\"yr_count\":{\"__ndarray__\":\"AAAAAAAAEEAAAAAAAOBoQAAAAAAAAAhAAAAAAADAVEAAAAAAAMBZQA==\",\"dtype\":\"float64\",\"shape\":[5]},\"yr_max\":{\"__ndarray__\":\"AAAAAAAAVEAAAAAAAIBUQAAAAAAAAFRAAAAAAACAVEAAAAAAAEBUQA==\",\"dtype\":\"float64\",\"shape\":[5]},\"yr_mean\":{\"__ndarray__\":\"AAAAAADgUkDEWG397UFTQAAAAAAAwFNAghLeaOr8UkCL+ARSyXlSQA==\",\"dtype\":\"float64\",\"shape\":[5]},\"yr_min\":{\"__ndarray__\":\"AAAAAAAAUkAAAAAAAIBRQAAAAAAAgFNAAAAAAACAUUAAAAAAAIBRQA==\",\"dtype\":\"float64\",\"shape\":[5]},\"yr_std\":{\"__ndarray__\":\"p1MQvCOTDUAe5PLGXeYNQAAAAAAAAPA/p0OY+nMdCkABv1x2cisIQA==\",\"dtype\":\"float64\",\"shape\":[5]}},\"selected\":{\"id\":\"8862\",\"type\":\"Selection\"},\"selection_policy\":{\"id\":\"8861\",\"type\":\"UnionRenderers\"}},\"id\":\"8516\",\"type\":\"ColumnDataSource\"},{\"attributes\":{},\"id\":\"8859\",\"type\":\"CategoricalTickFormatter\"},{\"attributes\":{\"dimension\":1,\"ticker\":{\"id\":\"8532\",\"type\":\"BasicTicker\"}},\"id\":\"8535\",\"type\":\"Grid\"},{\"attributes\":{\"grid_line_color\":null,\"ticker\":{\"id\":\"8528\",\"type\":\"CategoricalTicker\"}},\"id\":\"8530\",\"type\":\"Grid\"},{\"attributes\":{\"fill_color\":{\"field\":\"cyl\",\"transform\":{\"id\":\"8517\",\"type\":\"CategoricalColorMapper\"}},\"line_color\":{\"value\":\"white\"},\"top\":{\"field\":\"mpg_mean\"},\"width\":{\"value\":1},\"x\":{\"field\":\"cyl\"}},\"id\":\"8550\",\"type\":\"VBar\"},{\"attributes\":{},\"id\":\"8861\",\"type\":\"UnionRenderers\"},{\"attributes\":{\"callback\":null,\"factors\":[\"3\",\"4\",\"5\",\"6\",\"8\"]},\"id\":\"8519\",\"type\":\"FactorRange\"},{\"attributes\":{},\"id\":\"8539\",\"type\":\"SaveTool\"},{\"attributes\":{\"factors\":[\"3\",\"4\",\"5\",\"6\",\"8\"],\"palette\":[\"#2b83ba\",\"#abdda4\",\"#ffffbf\",\"#fdae61\",\"#d7191c\"]},\"id\":\"8517\",\"type\":\"CategoricalColorMapper\"},{\"attributes\":{\"bottom_units\":\"screen\",\"fill_alpha\":{\"value\":0.5},\"fill_color\":{\"value\":\"lightgrey\"},\"left_units\":\"screen\",\"level\":\"overlay\",\"line_alpha\":{\"value\":1.0},\"line_color\":{\"value\":\"black\"},\"line_dash\":[4,4],\"line_width\":{\"value\":2},\"render_mode\":\"css\",\"right_units\":\"screen\",\"top_units\":\"screen\"},\"id\":\"8863\",\"type\":\"BoxAnnotation\"},{\"attributes\":{\"source\":{\"id\":\"8516\",\"type\":\"ColumnDataSource\"}},\"id\":\"8553\",\"type\":\"CDSView\"},{\"attributes\":{},\"id\":\"8532\",\"type\":\"BasicTicker\"},{\"attributes\":{},\"id\":\"8540\",\"type\":\"ResetTool\"},{\"attributes\":{},\"id\":\"8525\",\"type\":\"LinearScale\"},{\"attributes\":{\"callback\":null,\"start\":0},\"id\":\"8521\",\"type\":\"DataRange1d\"},{\"attributes\":{\"axis_label\":\"Mean MPG\",\"formatter\":{\"id\":\"8857\",\"type\":\"BasicTickFormatter\"},\"ticker\":{\"id\":\"8532\",\"type\":\"BasicTicker\"}},\"id\":\"8531\",\"type\":\"LinearAxis\"},{\"attributes\":{\"active_drag\":\"auto\",\"active_inspect\":\"auto\",\"active_multi\":null,\"active_scroll\":\"auto\",\"active_tap\":\"auto\",\"tools\":[{\"id\":\"8536\",\"type\":\"PanTool\"},{\"id\":\"8537\",\"type\":\"WheelZoomTool\"},{\"id\":\"8538\",\"type\":\"BoxZoomTool\"},{\"id\":\"8539\",\"type\":\"SaveTool\"},{\"id\":\"8540\",\"type\":\"ResetTool\"},{\"id\":\"8541\",\"type\":\"HelpTool\"}]},\"id\":\"8542\",\"type\":\"Toolbar\"},{\"attributes\":{\"overlay\":{\"id\":\"8863\",\"type\":\"BoxAnnotation\"}},\"id\":\"8538\",\"type\":\"BoxZoomTool\"}],\"root_ids\":[\"8518\"]},\"title\":\"Bokeh Application\",\"version\":\"1.3.4\"}};\n",
       "  var render_items = [{\"docid\":\"2c2af817-089d-4412-9d91-0119137eb2da\",\"roots\":{\"8518\":\"156b0b5f-19c7-49a6-9365-826a90e32fdc\"}}];\n",
       "  root.Bokeh.embed.embed_items_notebook(docs_json, render_items);\n",
       "\n",
       "  }\n",
       "  if (root.Bokeh !== undefined) {\n",
       "    embed_document(root);\n",
       "  } else {\n",
       "    var attempts = 0;\n",
       "    var timer = setInterval(function(root) {\n",
       "      if (root.Bokeh !== undefined) {\n",
       "        embed_document(root);\n",
       "        clearInterval(timer);\n",
       "      }\n",
       "      attempts++;\n",
       "      if (attempts > 100) {\n",
       "        console.log(\"Bokeh: ERROR: Unable to run BokehJS code because BokehJS library is missing\");\n",
       "        clearInterval(timer);\n",
       "      }\n",
       "    }, 10, root)\n",
       "  }\n",
       "})(window);"
      ],
      "application/vnd.bokehjs_exec.v0+json": ""
     },
     "metadata": {
      "application/vnd.bokehjs_exec.v0+json": {
       "id": "8518"
      }
     },
     "output_type": "display_data"
    }
   ],
   "source": [
    "from bokeh.palettes import Spectral5\n",
    "\n",
    "\n",
    "group = df.groupby(('cyl'))\n",
    "\n",
    "source = ColumnDataSource(group)\n",
    "cyl_cmap = factor_cmap('cyl', palette=Spectral5, factors=sorted(df.cyl.unique()))\n",
    "\n",
    "p = figure(plot_height=350, x_range=group)\n",
    "p.vbar(x='cyl', top='mpg_mean', width=1, line_color=\"white\", \n",
    "       fill_color=cyl_cmap, source=source)\n",
    "\n",
    "p.xgrid.grid_line_color = None\n",
    "p.xaxis.axis_label = \"number of cylinders\"\n",
    "p.yaxis.axis_label = \"Mean MPG\"\n",
    "p.y_range.start = 0\n",
    "\n",
    "show(p)"
   ]
  },
  {
   "cell_type": "code",
   "execution_count": 51,
   "metadata": {},
   "outputs": [],
   "source": [
    "# Exercise: Use the same dataset to make a similar plot of mean horsepower (hp) by origin\n"
   ]
  },
  {
   "cell_type": "markdown",
   "metadata": {},
   "source": [
    "## Catgorical Scatterplots"
   ]
  },
  {
   "cell_type": "code",
   "execution_count": 52,
   "metadata": {},
   "outputs": [
    {
     "data": {
      "text/html": [
       "<div>\n",
       "<style scoped>\n",
       "    .dataframe tbody tr th:only-of-type {\n",
       "        vertical-align: middle;\n",
       "    }\n",
       "\n",
       "    .dataframe tbody tr th {\n",
       "        vertical-align: top;\n",
       "    }\n",
       "\n",
       "    .dataframe thead th {\n",
       "        text-align: right;\n",
       "    }\n",
       "</style>\n",
       "<table border=\"1\" class=\"dataframe\">\n",
       "  <thead>\n",
       "    <tr style=\"text-align: right;\">\n",
       "      <th></th>\n",
       "      <th>day</th>\n",
       "      <th>time</th>\n",
       "    </tr>\n",
       "    <tr>\n",
       "      <th>datetime</th>\n",
       "      <th></th>\n",
       "      <th></th>\n",
       "    </tr>\n",
       "  </thead>\n",
       "  <tbody>\n",
       "    <tr>\n",
       "      <td>2017-04-22 15:11:58-05:00</td>\n",
       "      <td>Sat</td>\n",
       "      <td>15:11:58</td>\n",
       "    </tr>\n",
       "    <tr>\n",
       "      <td>2017-04-21 14:20:57-05:00</td>\n",
       "      <td>Fri</td>\n",
       "      <td>14:20:57</td>\n",
       "    </tr>\n",
       "    <tr>\n",
       "      <td>2017-04-20 14:35:08-05:00</td>\n",
       "      <td>Thu</td>\n",
       "      <td>14:35:08</td>\n",
       "    </tr>\n",
       "    <tr>\n",
       "      <td>2017-04-20 10:34:29-05:00</td>\n",
       "      <td>Thu</td>\n",
       "      <td>10:34:29</td>\n",
       "    </tr>\n",
       "    <tr>\n",
       "      <td>2017-04-20 09:17:23-05:00</td>\n",
       "      <td>Thu</td>\n",
       "      <td>09:17:23</td>\n",
       "    </tr>\n",
       "  </tbody>\n",
       "</table>\n",
       "</div>"
      ],
      "text/plain": [
       "                           day      time\n",
       "datetime                                \n",
       "2017-04-22 15:11:58-05:00  Sat  15:11:58\n",
       "2017-04-21 14:20:57-05:00  Fri  14:20:57\n",
       "2017-04-20 14:35:08-05:00  Thu  14:35:08\n",
       "2017-04-20 10:34:29-05:00  Thu  10:34:29\n",
       "2017-04-20 09:17:23-05:00  Thu  09:17:23"
      ]
     },
     "execution_count": 52,
     "metadata": {},
     "output_type": "execute_result"
    }
   ],
   "source": [
    "from bokeh.sampledata.commits import data\n",
    "\n",
    "data.head()"
   ]
  },
  {
   "cell_type": "code",
   "execution_count": 53,
   "metadata": {},
   "outputs": [
    {
     "data": {
      "text/html": [
       "\n",
       "\n",
       "\n",
       "\n",
       "\n",
       "\n",
       "  <div class=\"bk-root\" id=\"2952870f-c442-494c-897a-20e3bb48df40\" data-root-id=\"8919\"></div>\n"
      ]
     },
     "metadata": {},
     "output_type": "display_data"
    },
    {
     "data": {
      "application/javascript": [
       "(function(root) {\n",
       "  function embed_document(root) {\n",
       "    \n",
       "  var docs_json = {\"9403f628-be9a-4cc9-85b9-85ad93e6dbf6\":{\"roots\":{\"references\":[{\"attributes\":{\"below\":[{\"id\":\"8930\",\"type\":\"DatetimeAxis\"}],\"center\":[{\"id\":\"8934\",\"type\":\"Grid\"},{\"id\":\"8938\",\"type\":\"Grid\"}],\"left\":[{\"id\":\"8935\",\"type\":\"CategoricalAxis\"}],\"plot_height\":300,\"plot_width\":800,\"renderers\":[{\"id\":\"8956\",\"type\":\"GlyphRenderer\"}],\"title\":{\"id\":\"8920\",\"type\":\"Title\"},\"toolbar\":{\"id\":\"8945\",\"type\":\"Toolbar\"},\"x_range\":{\"id\":\"8922\",\"type\":\"DataRange1d\"},\"x_scale\":{\"id\":\"8926\",\"type\":\"LinearScale\"},\"y_range\":{\"id\":\"8924\",\"type\":\"FactorRange\"},\"y_scale\":{\"id\":\"8928\",\"type\":\"CategoricalScale\"}},\"id\":\"8919\",\"subtype\":\"Figure\",\"type\":\"Plot\"},{\"attributes\":{\"dimension\":1,\"grid_line_color\":null,\"ticker\":{\"id\":\"8936\",\"type\":\"CategoricalTicker\"}},\"id\":\"8938\",\"type\":\"Grid\"},{\"attributes\":{\"text\":\"Commits by Time of Day (US/Central) 2012\\u20142016\"},\"id\":\"8920\",\"type\":\"Title\"},{\"attributes\":{\"months\":[0,4,8]},\"id\":\"9283\",\"type\":\"MonthsTicker\"},{\"attributes\":{\"bottom_units\":\"screen\",\"fill_alpha\":{\"value\":0.5},\"fill_color\":{\"value\":\"lightgrey\"},\"left_units\":\"screen\",\"level\":\"overlay\",\"line_alpha\":{\"value\":1.0},\"line_color\":{\"value\":\"black\"},\"line_dash\":[4,4],\"line_width\":{\"value\":2},\"render_mode\":\"css\",\"right_units\":\"screen\",\"top_units\":\"screen\"},\"id\":\"9288\",\"type\":\"BoxAnnotation\"},{\"attributes\":{\"days\":[1,15]},\"id\":\"9280\",\"type\":\"DaysTicker\"},{\"attributes\":{},\"id\":\"9287\",\"type\":\"Selection\"},{\"attributes\":{\"callback\":null,\"data\":{\"datetime\":{\"__ndarray__\":\"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\",\"dtype\":\"float64\",\"shape\":[4916]},\"day\":[\"Sat\",\"Fri\",\"Thu\",\"Thu\",\"Thu\",\"Wed\",\"Wed\",\"Wed\",\"Wed\",\"Wed\",\"Wed\",\"Mon\",\"Sun\",\"Sun\",\"Sun\",\"Sun\",\"Wed\",\"Wed\",\"Wed\",\"Sat\",\"Fri\",\"Fri\",\"Fri\",\"Fri\",\"Fri\",\"Fri\",\"Fri\",\"Fri\",\"Fri\",\"Thu\",\"Thu\",\"Thu\",\"Thu\",\"Thu\",\"Thu\",\"Thu\",\"Thu\",\"Wed\",\"Wed\",\"Wed\",\"Wed\",\"Mon\",\"Mon\",\"Mon\",\"Mon\",\"Mon\",\"Mon\",\"Mon\",\"Sat\",\"Sat\",\"Sat\",\"Thu\",\"Wed\",\"Wed\",\"Wed\",\"Wed\",\"Tue\",\"Thu\",\"Thu\",\"Wed\",\"Wed\",\"Wed\",\"Wed\",\"Mon\",\"Fri\",\"Thu\",\"Sun\",\"Fri\",\"Fri\",\"Fri\",\"Fri\",\"Tue\",\"Tue\",\"Tue\",\"Tue\",\"Tue\",\"Mon\",\"Mon\",\"Mon\",\"Sun\",\"Sat\",\"Sat\",\"Wed\",\"Sat\",\"Sat\",\"Sat\",\"Thu\",\"Thu\",\"Thu\",\"Thu\",\"Thu\",\"Thu\",\"Thu\",\"Thu\",\"Thu\",\"Thu\",\"Thu\",\"Thu\",\"Thu\",\"Thu\",\"Tue\",\"Tue\",\"Mon\",\"Thu\",\"Thu\",\"Thu\",\"Thu\",\"Thu\",\"Thu\",\"Thu\",\"Thu\",\"Thu\",\"Thu\",\"Thu\",\"Thu\",\"Thu\",\"Thu\",\"Thu\",\"Thu\",\"Thu\",\"Thu\",\"Thu\",\"Thu\",\"Thu\",\"Thu\",\"Thu\",\"Thu\",\"Thu\",\"Thu\",\"Thu\",\"Thu\",\"Wed\",\"Wed\",\"Wed\",\"Wed\",\"Wed\",\"Wed\",\"Wed\",\"Wed\",\"Wed\",\"Wed\",\"Wed\",\"Wed\",\"Wed\",\"Wed\",\"Wed\",\"Wed\",\"Wed\",\"Wed\",\"Wed\",\"Wed\",\"Sun\",\"Sat\",\"Wed\",\"Wed\",\"Tue\",\"Tue\",\"Mon\",\"Mon\",\"Mon\",\"Mon\",\"Mon\",\"Mon\",\"Tue\",\"Tue\",\"Tue\",\"Tue\",\"Fri\",\"Thu\",\"Thu\",\"Thu\",\"Thu\",\"Thu\",\"Thu\",\"Thu\",\"Thu\",\"Thu\",\"Thu\",\"Thu\",\"Tue\",\"Tue\",\"Tue\",\"Tue\",\"Tue\",\"Thu\",\"Wed\",\"Wed\",\"Tue\",\"Tue\",\"Tue\",\"Tue\",\"Mon\",\"Mon\",\"Sat\",\"Sat\",\"Fri\",\"Fri\",\"Fri\",\"Fri\",\"Fri\",\"Fri\",\"Wed\",\"Wed\",\"Wed\",\"Wed\",\"Wed\",\"Wed\",\"Wed\",\"Wed\",\"Tue\",\"Tue\",\"Mon\",\"Mon\",\"Mon\",\"Mon\",\"Mon\",\"Mon\",\"Fri\",\"Wed\",\"Wed\",\"Mon\",\"Mon\",\"Mon\",\"Mon\",\"Mon\",\"Mon\",\"Mon\",\"Mon\",\"Sun\",\"Sun\",\"Thu\",\"Wed\",\"Mon\",\"Fri\",\"Fri\",\"Wed\",\"Wed\",\"Wed\",\"Wed\",\"Wed\",\"Tue\",\"Mon\",\"Mon\",\"Fri\",\"Fri\",\"Fri\",\"Fri\",\"Fri\",\"Fri\",\"Fri\",\"Wed\",\"Wed\",\"Wed\",\"Tue\",\"Tue\",\"Tue\",\"Tue\",\"Tue\",\"Tue\",\"Tue\",\"Tue\",\"Tue\",\"Tue\",\"Tue\",\"Tue\",\"Tue\",\"Tue\",\"Tue\",\"Tue\",\"Fri\",\"Wed\",\"Fri\",\"Fri\",\"Fri\",\"Fri\",\"Fri\",\"Fri\",\"Fri\",\"Fri\",\"Fri\",\"Fri\",\"Fri\",\"Fri\",\"Fri\",\"Fri\",\"Fri\",\"Wed\",\"Wed\",\"Wed\",\"Wed\",\"Wed\",\"Wed\",\"Wed\",\"Tue\",\"Tue\",\"Tue\",\"Mon\",\"Mon\",\"Sat\",\"Sat\",\"Wed\",\"Wed\",\"Fri\",\"Fri\",\"Fri\",\"Fri\",\"Fri\",\"Fri\",\"Fri\",\"Fri\",\"Wed\",\"Mon\",\"Mon\",\"Mon\",\"Mon\",\"Mon\",\"Mon\",\"Mon\",\"Sun\",\"Wed\",\"Tue\",\"Thu\",\"Thu\",\"Thu\",\"Fri\",\"Thu\",\"Thu\",\"Thu\",\"Thu\",\"Wed\",\"Wed\",\"Sun\",\"Wed\",\"Wed\",\"Tue\",\"Tue\",\"Mon\",\"Mon\",\"Tue\",\"Tue\",\"Sat\",\"Sat\",\"Fri\",\"Wed\",\"Wed\",\"Tue\",\"Tue\",\"Tue\",\"Tue\",\"Sun\",\"Sun\",\"Sun\",\"Mon\",\"Mon\",\"Mon\",\"Mon\",\"Mon\",\"Mon\",\"Mon\",\"Mon\",\"Sun\",\"Sat\",\"Sat\",\"Sat\",\"Fri\",\"Fri\",\"Wed\",\"Tue\",\"Tue\",\"Tue\",\"Mon\",\"Mon\",\"Sun\",\"Sun\",\"Sun\",\"Sun\",\"Sun\",\"Sat\",\"Fri\",\"Fri\",\"Fri\",\"Fri\",\"Thu\",\"Thu\",\"Thu\",\"Tue\",\"Tue\",\"Mon\",\"Sun\",\"Sun\",\"Sat\",\"Sat\",\"Sat\",\"Sat\",\"Sat\",\"Sat\",\"Sat\",\"Sat\",\"Sat\",\"Sat\",\"Fri\",\"Fri\",\"Fri\",\"Fri\",\"Fri\",\"Fri\",\"Tue\",\"Wed\",\"Wed\",\"Wed\",\"Wed\",\"Tue\",\"Tue\",\"Tue\",\"Tue\",\"Thu\",\"Thu\",\"Sun\",\"Sun\",\"Thu\",\"Sat\",\"Sat\",\"Sat\",\"Thu\",\"Thu\",\"Wed\",\"Wed\",\"Wed\",\"Wed\",\"Wed\",\"Wed\",\"Tue\",\"Mon\",\"Mon\",\"Mon\",\"Sun\",\"Sun\",\"Sat\",\"Sat\",\"Sat\",\"Sat\",\"Fri\",\"Fri\",\"Wed\",\"Wed\",\"Wed\",\"Wed\",\"Wed\",\"Wed\",\"Wed\",\"Wed\",\"Tue\",\"Tue\",\"Tue\",\"Tue\",\"Tue\",\"Tue\",\"Tue\",\"Tue\",\"Sat\",\"Sat\",\"Sat\",\"Fri\",\"Fri\",\"Fri\",\"Fri\",\"Fri\",\"Fri\",\"Fri\",\"Fri\",\"Thu\",\"Wed\",\"Wed\",\"Wed\",\"Wed\",\"Wed\",\"Wed\",\"Wed\",\"Wed\",\"Fri\",\"Fri\",\"Fri\",\"Fri\",\"Fri\",\"Fri\",\"Thu\",\"Thu\",\"Thu\",\"Thu\",\"Wed\",\"Wed\",\"Wed\",\"Tue\",\"Tue\",\"Tue\",\"Tue\",\"Tue\",\"Tue\",\"Tue\",\"Tue\",\"Mon\",\"Mon\",\"Mon\",\"Mon\",\"Mon\",\"Mon\",\"Mon\",\"Mon\",\"Mon\",\"Mon\",\"Mon\",\"Mon\",\"Mon\",\"Mon\",\"Sun\",\"Sat\",\"Sat\",\"Sat\",\"Sat\",\"Fri\",\"Fri\",\"Fri\",\"Fri\",\"Fri\",\"Fri\",\"Fri\",\"Thu\",\"Thu\",\"Thu\",\"Wed\",\"Wed\",\"Wed\",\"Wed\",\"Wed\",\"Wed\",\"Tue\",\"Tue\",\"Tue\",\"Tue\",\"Mon\",\"Mon\",\"Mon\",\"Mon\",\"Mon\",\"Mon\",\"Mon\",\"Mon\",\"Sun\",\"Mon\",\"Sun\",\"Fri\",\"Thu\",\"Thu\",\"Wed\",\"Wed\",\"Tue\",\"Tue\",\"Tue\",\"Sat\",\"Sat\",\"Sat\",\"Sat\",\"Sat\",\"Sat\",\"Fri\",\"Fri\",\"Fri\",\"Mon\",\"Sat\",\"Sat\",\"Sat\",\"Fri\",\"Fri\",\"Fri\",\"Wed\",\"Wed\",\"Wed\",\"Wed\",\"Wed\",\"Wed\",\"Wed\",\"Wed\",\"Tue\",\"Tue\",\"Fri\",\"Fri\",\"Fri\",\"Fri\",\"Fri\",\"Fri\",\"Fri\",\"Fri\",\"Fri\",\"Fri\",\"Thu\",\"Thu\",\"Thu\",\"Wed\",\"Wed\",\"Wed\",\"Mon\",\"Mon\",\"Mon\",\"Mon\",\"Mon\",\"Mon\",\"Mon\",\"Mon\",\"Mon\",\"Mon\",\"Mon\",\"Mon\",\"Wed\",\"Wed\",\"Wed\",\"Tue\",\"Tue\",\"Tue\",\"Tue\",\"Tue\",\"Tue\",\"Tue\",\"Tue\",\"Tue\",\"Mon\",\"Sun\",\"Sun\",\"Sun\",\"Thu\",\"Thu\",\"Thu\",\"Mon\",\"Mon\",\"Mon\",\"Sat\",\"Sat\",\"Sat\",\"Sat\",\"Sat\",\"Sat\",\"Sat\",\"Fri\",\"Fri\",\"Thu\",\"Thu\",\"Thu\",\"Wed\",\"Wed\",\"Wed\",\"Fri\",\"Fri\",\"Fri\",\"Fri\",\"Fri\",\"Thu\",\"Thu\",\"Thu\",\"Thu\",\"Thu\",\"Thu\",\"Thu\",\"Thu\",\"Wed\",\"Wed\",\"Wed\",\"Wed\",\"Wed\",\"Wed\",\"Tue\",\"Tue\",\"Tue\",\"Tue\",\"Tue\",\"Tue\",\"Tue\",\"Tue\",\"Tue\",\"Tue\",\"Mon\",\"Mon\",\"Sun\",\"Sat\",\"Sat\",\"Sat\",\"Sat\",\"Sat\",\"Sat\",\"Sat\",\"Sat\",\"Fri\",\"Fri\",\"Fri\",\"Thu\",\"Thu\",\"Thu\",\"Thu\",\"Thu\",\"Thu\",\"Thu\",\"Thu\",\"Thu\",\"Thu\",\"Thu\",\"Thu\",\"Wed\",\"Wed\",\"Wed\",\"Wed\",\"Wed\",\"Wed\",\"Wed\",\"Wed\",\"Wed\",\"Wed\",\"Wed\",\"Wed\",\"Wed\",\"Tue\",\"Tue\",\"Tue\",\"Tue\",\"Tue\",\"Tue\",\"Tue\",\"Tue\",\"Tue\",\"Tue\",\"Mon\",\"Mon\",\"Mon\",\"Mon\",\"Mon\",\"Mon\",\"Mon\",\"Mon\",\"Mon\",\"Mon\",\"Mon\",\"Sun\",\"Sun\",\"Sun\",\"Sun\",\"Sun\",\"Sun\",\"Sun\",\"Sun\",\"Sun\",\"Sun\",\"Sun\",\"Sun\",\"Sun\",\"Sun\",\"Sun\",\"Wed\",\"Tue\",\"Wed\",\"Tue\",\"Tue\",\"Tue\",\"Tue\",\"Tue\",\"Tue\",\"Tue\",\"Tue\",\"Tue\",\"Tue\",\"Tue\",\"Tue\",\"Tue\",\"Tue\",\"Tue\",\"Tue\",\"Tue\",\"Tue\",\"Tue\",\"Tue\",\"Tue\",\"Tue\",\"Tue\",\"Tue\",\"Mon\",\"Mon\",\"Sun\",\"Sun\",\"Sun\",\"Sun\",\"Sun\",\"Sun\",\"Sun\",\"Sun\",\"Sun\",\"Sun\",\"Sat\",\"Fri\",\"Fri\",\"Fri\",\"Fri\",\"Thu\",\"Thu\",\"Wed\",\"Wed\",\"Wed\",\"Wed\",\"Wed\",\"Wed\",\"Wed\",\"Wed\",\"Wed\",\"Wed\",\"Tue\",\"Tue\",\"Tue\",\"Mon\",\"Mon\",\"Mon\",\"Mon\",\"Mon\",\"Mon\",\"Sat\",\"Sat\",\"Sat\",\"Fri\",\"Fri\",\"Fri\",\"Fri\",\"Fri\",\"Fri\",\"Fri\",\"Fri\",\"Fri\",\"Fri\",\"Fri\",\"Fri\",\"Fri\",\"Fri\",\"Fri\",\"Fri\",\"Fri\",\"Thu\",\"Thu\",\"Thu\",\"Thu\",\"Thu\",\"Wed\",\"Wed\",\"Wed\",\"Wed\",\"Wed\",\"Wed\",\"Wed\",\"Wed\",\"Mon\",\"Mon\",\"Mon\",\"Sun\",\"Sun\",\"Sun\",\"Sun\",\"Sun\",\"Sat\",\"Sat\",\"Fri\",\"Fri\",\"Fri\",\"Fri\",\"Fri\",\"Thu\",\"Thu\",\"Thu\",\"Tue\",\"Tue\",\"Tue\",\"Tue\",\"Tue\",\"Tue\",\"Mon\",\"Mon\",\"Mon\",\"Mon\",\"Mon\",\"Mon\",\"Mon\",\"Mon\",\"Mon\",\"Mon\",\"Mon\",\"Mon\",\"Mon\",\"Mon\",\"Mon\",\"Mon\",\"Mon\",\"Mon\",\"Mon\",\"Sun\",\"Sun\",\"Sun\",\"Sun\",\"Sun\",\"Sun\",\"Sun\",\"Sun\",\"Sun\",\"Sat\",\"Fri\",\"Fri\",\"Fri\",\"Fri\",\"Fri\",\"Fri\",\"Fri\",\"Fri\",\"Fri\",\"Fri\",\"Fri\",\"Fri\",\"Fri\",\"Fri\",\"Fri\",\"Fri\",\"Fri\",\"Fri\",\"Fri\",\"Thu\",\"Thu\",\"Thu\",\"Thu\",\"Thu\",\"Thu\",\"Thu\",\"Thu\",\"Thu\",\"Thu\",\"Thu\",\"Thu\",\"Thu\",\"Thu\",\"Thu\",\"Thu\",\"Thu\",\"Thu\",\"Thu\",\"Thu\",\"Thu\",\"Thu\",\"Thu\",\"Thu\",\"Thu\",\"Thu\",\"Thu\",\"Thu\",\"Thu\",\"Thu\",\"Thu\",\"Thu\",\"Thu\",\"Thu\",\"Thu\",\"Thu\",\"Thu\",\"Thu\",\"Thu\",\"Thu\",\"Thu\",\"Thu\",\"Thu\",\"Thu\",\"Thu\",\"Thu\",\"Wed\",\"Wed\",\"Wed\",\"Wed\",\"Wed\",\"Wed\",\"Wed\",\"Wed\",\"Wed\",\"Wed\",\"Wed\",\"Wed\",\"Wed\",\"Wed\",\"Wed\",\"Wed\",\"Wed\",\"Wed\",\"Wed\",\"Wed\",\"Wed\",\"Wed\",\"Wed\",\"Wed\",\"Tue\",\"Tue\",\"Tue\",\"Tue\",\"Tue\",\"Tue\",\"Tue\",\"Tue\",\"Tue\",\"Tue\",\"Tue\",\"Tue\",\"Tue\",\"Tue\",\"Tue\",\"Mon\",\"Mon\",\"Mon\",\"Mon\",\"Mon\",\"Mon\",\"Mon\",\"Mon\",\"Mon\",\"Mon\",\"Mon\",\"Mon\",\"Mon\",\"Mon\",\"Mon\",\"Mon\",\"Mon\",\"Mon\",\"Mon\",\"Mon\",\"Sun\",\"Sat\",\"Sat\",\"Sat\",\"Sat\",\"Sat\",\"Sat\",\"Sat\",\"Sat\",\"Sat\",\"Sat\",\"Sat\",\"Sat\",\"Sat\",\"Sat\",\"Sat\",\"Sat\",\"Sat\",\"Sat\",\"Sat\",\"Sat\",\"Sat\",\"Fri\",\"Fri\",\"Fri\",\"Fri\",\"Fri\",\"Thu\",\"Thu\",\"Thu\",\"Wed\",\"Thu\",\"Thu\",\"Thu\",\"Wed\",\"Wed\",\"Wed\",\"Wed\",\"Thu\",\"Thu\",\"Wed\",\"Wed\",\"Wed\",\"Fri\",\"Fri\",\"Fri\",\"Thu\",\"Thu\",\"Thu\",\"Wed\",\"Thu\",\"Tue\",\"Tue\",\"Tue\",\"Thu\",\"Thu\",\"Wed\",\"Thu\",\"Thu\",\"Thu\",\"Thu\",\"Thu\",\"Thu\",\"Thu\",\"Thu\",\"Thu\",\"Thu\",\"Wed\",\"Wed\",\"Wed\",\"Wed\",\"Wed\",\"Tue\",\"Tue\",\"Tue\",\"Tue\",\"Tue\",\"Tue\",\"Tue\",\"Tue\",\"Tue\",\"Tue\",\"Tue\",\"Tue\",\"Tue\",\"Tue\",\"Tue\",\"Tue\",\"Tue\",\"Tue\",\"Tue\",\"Tue\",\"Tue\",\"Tue\",\"Tue\",\"Tue\",\"Tue\",\"Tue\",\"Tue\",\"Tue\",\"Tue\",\"Tue\",\"Tue\",\"Tue\",\"Tue\",\"Tue\",\"Tue\",\"Tue\",\"Tue\",\"Tue\",\"Tue\",\"Tue\",\"Tue\",\"Tue\",\"Tue\",\"Tue\",\"Tue\",\"Tue\",\"Tue\",\"Tue\",\"Tue\",\"Tue\",\"Tue\",\"Tue\",\"Tue\",\"Tue\",\"Tue\",\"Tue\",\"Tue\",\"Tue\",\"Tue\",\"Tue\",\"Tue\",\"Tue\",\"Tue\",\"Tue\",\"Tue\",\"Tue\",\"Tue\",\"Tue\",\"Tue\",\"Tue\",\"Tue\",\"Tue\",\"Tue\",\"Tue\",\"Tue\",\"Tue\",\"Mon\",\"Mon\",\"Mon\",\"Mon\",\"Mon\",\"Mon\",\"Mon\",\"Mon\",\"Mon\",\"Mon\",\"Mon\",\"Sun\",\"Sun\",\"Sun\",\"Sun\",\"Sun\",\"Sun\",\"Sun\",\"Sun\",\"Sun\",\"Sun\",\"Sun\",\"Sun\",\"Sun\",\"Sun\",\"Sun\",\"Sun\",\"Sun\",\"Sun\",\"Sun\",\"Sat\",\"Sat\",\"Sat\",\"Sat\",\"Sat\",\"Sat\",\"Sat\",\"Sat\",\"Sat\",\"Sat\",\"Sat\",\"Sat\",\"Sat\",\"Sat\",\"Sat\",\"Sat\",\"Sat\",\"Sat\",\"Sat\",\"Sat\",\"Sat\",\"Sat\",\"Sat\",\"Sat\",\"Sat\",\"Sat\",\"Sat\",\"Sat\",\"Sat\",\"Sat\",\"Sat\",\"Sat\",\"Sat\",\"Sat\",\"Sat\",\"Sat\",\"Sat\",\"Sat\",\"Sat\",\"Fri\",\"Fri\",\"Fri\",\"Fri\",\"Fri\",\"Fri\",\"Fri\",\"Fri\",\"Fri\",\"Fri\",\"Fri\",\"Fri\",\"Thu\",\"Thu\",\"Thu\",\"Thu\",\"Thu\",\"Thu\",\"Thu\",\"Wed\",\"Wed\",\"Wed\",\"Wed\",\"Wed\",\"Wed\",\"Tue\",\"Tue\",\"Tue\",\"Tue\",\"Tue\",\"Tue\",\"Tue\",\"Tue\",\"Tue\",\"Tue\",\"Tue\",\"Tue\",\"Tue\",\"Mon\",\"Mon\",\"Mon\",\"Mon\",\"Mon\",\"Mon\",\"Mon\",\"Mon\",\"Mon\",\"Mon\",\"Mon\",\"Mon\",\"Mon\",\"Mon\",\"Mon\",\"Sun\",\"Sun\",\"Sun\",\"Sun\",\"Sun\",\"Sun\",\"Sun\",\"Sun\",\"Sat\",\"Sat\",\"Sat\",\"Sat\",\"Fri\",\"Fri\",\"Fri\",\"Fri\",\"Fri\",\"Thu\",\"Thu\",\"Thu\",\"Thu\",\"Thu\",\"Thu\",\"Thu\",\"Thu\",\"Thu\",\"Thu\",\"Wed\",\"Wed\",\"Wed\",\"Wed\",\"Wed\",\"Wed\",\"Wed\",\"Wed\",\"Wed\",\"Wed\",\"Wed\",\"Wed\",\"Wed\",\"Wed\",\"Wed\",\"Tue\",\"Tue\",\"Tue\",\"Tue\",\"Tue\",\"Tue\",\"Tue\",\"Tue\",\"Tue\",\"Tue\",\"Tue\",\"Tue\",\"Tue\",\"Tue\",\"Tue\",\"Tue\",\"Tue\",\"Tue\",\"Tue\",\"Tue\",\"Tue\",\"Tue\",\"Tue\",\"Mon\",\"Mon\",\"Mon\",\"Mon\",\"Mon\",\"Mon\",\"Mon\",\"Mon\",\"Mon\",\"Mon\",\"Mon\",\"Mon\",\"Mon\",\"Mon\",\"Mon\",\"Sun\",\"Sun\",\"Sun\",\"Fri\",\"Thu\",\"Thu\",\"Thu\",\"Thu\",\"Thu\",\"Thu\",\"Thu\",\"Thu\",\"Wed\",\"Wed\",\"Wed\",\"Wed\",\"Wed\",\"Wed\",\"Wed\",\"Wed\",\"Wed\",\"Wed\",\"Wed\",\"Wed\",\"Wed\",\"Tue\",\"Tue\",\"Tue\",\"Tue\",\"Tue\",\"Tue\",\"Tue\",\"Tue\",\"Tue\",\"Tue\",\"Tue\",\"Mon\",\"Mon\",\"Mon\",\"Mon\",\"Mon\",\"Mon\",\"Mon\",\"Mon\",\"Mon\",\"Mon\",\"Mon\",\"Mon\",\"Mon\",\"Mon\",\"Mon\",\"Mon\",\"Mon\",\"Mon\",\"Mon\",\"Mon\",\"Mon\",\"Mon\",\"Mon\",\"Mon\",\"Sat\",\"Sat\",\"Sat\",\"Sat\",\"Sat\",\"Sat\",\"Sat\",\"Sat\",\"Sat\",\"Sat\",\"Sat\",\"Sat\",\"Fri\",\"Fri\",\"Fri\",\"Fri\",\"Fri\",\"Fri\",\"Fri\",\"Fri\",\"Fri\",\"Fri\",\"Fri\",\"Fri\",\"Fri\",\"Fri\",\"Fri\",\"Fri\",\"Fri\",\"Wed\",\"Wed\",\"Wed\",\"Wed\",\"Tue\",\"Fri\",\"Fri\",\"Fri\",\"Fri\",\"Fri\",\"Thu\",\"Thu\",\"Wed\",\"Wed\",\"Wed\",\"Wed\",\"Wed\",\"Wed\",\"Wed\",\"Wed\",\"Wed\",\"Wed\",\"Wed\",\"Tue\",\"Tue\",\"Tue\",\"Tue\",\"Mon\",\"Mon\",\"Mon\",\"Mon\",\"Mon\",\"Sun\",\"Sun\",\"Sun\",\"Sat\",\"Sat\",\"Sat\",\"Sat\",\"Sat\",\"Fri\",\"Fri\",\"Fri\",\"Fri\",\"Fri\",\"Fri\",\"Fri\",\"Thu\",\"Thu\",\"Thu\",\"Thu\",\"Thu\",\"Sat\",\"Sat\",\"Thu\",\"Thu\",\"Thu\",\"Thu\",\"Thu\",\"Thu\",\"Thu\",\"Thu\",\"Thu\",\"Thu\",\"Thu\",\"Thu\",\"Thu\",\"Thu\",\"Thu\",\"Thu\",\"Thu\",\"Thu\",\"Thu\",\"Wed\",\"Wed\",\"Wed\",\"Wed\",\"Wed\",\"Wed\",\"Wed\",\"Wed\",\"Tue\",\"Tue\",\"Tue\",\"Tue\",\"Tue\",\"Tue\",\"Tue\",\"Mon\",\"Mon\",\"Mon\",\"Mon\",\"Mon\",\"Mon\",\"Sun\",\"Sat\",\"Sat\",\"Sat\",\"Sat\",\"Sat\",\"Sat\",\"Sat\",\"Sat\",\"Sat\",\"Sat\",\"Fri\",\"Thu\",\"Mon\",\"Sat\",\"Fri\",\"Tue\",\"Tue\",\"Tue\",\"Tue\",\"Sun\",\"Sun\",\"Tue\",\"Sat\",\"Sat\",\"Sat\",\"Mon\",\"Mon\",\"Mon\",\"Fri\",\"Thu\",\"Thu\",\"Thu\",\"Thu\",\"Wed\",\"Wed\",\"Wed\",\"Wed\",\"Wed\",\"Wed\",\"Wed\",\"Tue\",\"Tue\",\"Tue\",\"Tue\",\"Tue\",\"Mon\",\"Mon\",\"Mon\",\"Sat\",\"Mon\",\"Mon\",\"Mon\",\"Mon\",\"Sat\",\"Sat\",\"Sat\",\"Sat\",\"Sat\",\"Sat\",\"Fri\",\"Fri\",\"Fri\",\"Thu\",\"Wed\",\"Tue\",\"Tue\",\"Mon\",\"Mon\",\"Mon\",\"Mon\",\"Mon\",\"Mon\",\"Mon\",\"Mon\",\"Fri\",\"Fri\",\"Fri\",\"Fri\",\"Fri\",\"Fri\",\"Fri\",\"Fri\",\"Fri\",\"Fri\",\"Fri\",\"Fri\",\"Thu\",\"Thu\",\"Thu\",\"Thu\",\"Thu\",\"Thu\",\"Thu\",\"Thu\",\"Thu\",\"Thu\",\"Thu\",\"Thu\",\"Thu\",\"Thu\",\"Thu\",\"Thu\",\"Thu\",\"Thu\",\"Thu\",\"Thu\",\"Thu\",\"Thu\",\"Thu\",\"Thu\",\"Wed\",\"Wed\",\"Wed\",\"Wed\",\"Wed\",\"Mon\",\"Mon\",\"Sat\",\"Thu\",\"Thu\",\"Thu\",\"Thu\",\"Thu\",\"Thu\",\"Thu\",\"Thu\",\"Thu\",\"Thu\",\"Tue\",\"Mon\",\"Fri\",\"Fri\",\"Fri\",\"Thu\",\"Thu\",\"Thu\",\"Thu\",\"Thu\",\"Thu\",\"Wed\",\"Tue\",\"Tue\",\"Tue\",\"Tue\",\"Tue\",\"Tue\",\"Tue\",\"Tue\",\"Fri\",\"Fri\",\"Fri\",\"Thu\",\"Thu\",\"Thu\",\"Thu\",\"Thu\",\"Thu\",\"Thu\",\"Thu\",\"Thu\",\"Thu\",\"Thu\",\"Tue\",\"Mon\",\"Mon\",\"Mon\",\"Mon\",\"Mon\",\"Wed\",\"Wed\",\"Wed\",\"Wed\",\"Wed\",\"Tue\",\"Tue\",\"Sat\",\"Sat\",\"Sat\",\"Fri\",\"Fri\",\"Thu\",\"Thu\",\"Thu\",\"Thu\",\"Wed\",\"Wed\",\"Wed\",\"Wed\",\"Wed\",\"Wed\",\"Wed\",\"Tue\",\"Tue\",\"Tue\",\"Tue\",\"Fri\",\"Thu\",\"Thu\",\"Thu\",\"Thu\",\"Thu\",\"Thu\",\"Thu\",\"Thu\",\"Thu\",\"Thu\",\"Thu\",\"Thu\",\"Thu\",\"Tue\",\"Tue\",\"Mon\",\"Mon\",\"Mon\",\"Sat\",\"Sat\",\"Sat\",\"Sat\",\"Fri\",\"Fri\",\"Fri\",\"Fri\",\"Fri\",\"Fri\",\"Thu\",\"Thu\",\"Thu\",\"Thu\",\"Thu\",\"Thu\",\"Thu\",\"Thu\",\"Wed\",\"Wed\",\"Wed\",\"Tue\",\"Tue\",\"Tue\",\"Tue\",\"Tue\",\"Mon\",\"Mon\",\"Mon\",\"Mon\",\"Mon\",\"Mon\",\"Mon\",\"Mon\",\"Mon\",\"Mon\",\"Mon\",\"Mon\",\"Mon\",\"Mon\",\"Mon\",\"Mon\",\"Mon\",\"Sun\",\"Sun\",\"Sun\",\"Sun\",\"Sun\",\"Sun\",\"Sun\",\"Sun\",\"Sun\",\"Sun\",\"Mon\",\"Fri\",\"Thu\",\"Thu\",\"Thu\",\"Thu\",\"Thu\",\"Thu\",\"Thu\",\"Thu\",\"Thu\",\"Thu\",\"Thu\",\"Thu\",\"Thu\",\"Thu\",\"Thu\",\"Thu\",\"Thu\",\"Wed\",\"Wed\",\"Wed\",\"Wed\",\"Wed\",\"Wed\",\"Wed\",\"Tue\",\"Tue\",\"Tue\",\"Tue\",\"Tue\",\"Tue\",\"Mon\",\"Mon\",\"Mon\",\"Mon\",\"Mon\",\"Mon\",\"Mon\",\"Sun\",\"Sat\",\"Sat\",\"Sat\",\"Sat\",\"Sat\",\"Fri\",\"Fri\",\"Fri\",\"Fri\",\"Fri\",\"Fri\",\"Fri\",\"Fri\",\"Fri\",\"Fri\",\"Fri\",\"Fri\",\"Fri\",\"Thu\",\"Thu\",\"Thu\",\"Thu\",\"Thu\",\"Thu\",\"Thu\",\"Thu\",\"Thu\",\"Thu\",\"Thu\",\"Thu\",\"Thu\",\"Wed\",\"Wed\",\"Wed\",\"Wed\",\"Wed\",\"Wed\",\"Wed\",\"Tue\",\"Tue\",\"Tue\",\"Tue\",\"Tue\",\"Tue\",\"Tue\",\"Sat\",\"Sat\",\"Tue\",\"Tue\",\"Tue\",\"Tue\",\"Tue\",\"Tue\",\"Tue\",\"Wed\",\"Tue\",\"Tue\",\"Wed\",\"Wed\",\"Wed\",\"Wed\",\"Wed\",\"Wed\",\"Wed\",\"Wed\",\"Wed\",\"Tue\",\"Mon\",\"Mon\",\"Mon\",\"Mon\",\"Mon\",\"Mon\",\"Mon\",\"Mon\",\"Sun\",\"Sun\",\"Sun\",\"Thu\",\"Thu\",\"Thu\",\"Wed\",\"Wed\",\"Wed\",\"Wed\",\"Wed\",\"Wed\",\"Wed\",\"Wed\",\"Wed\",\"Wed\",\"Wed\",\"Wed\",\"Wed\",\"Tue\",\"Tue\",\"Tue\",\"Tue\",\"Tue\",\"Mon\",\"Mon\",\"Mon\",\"Mon\",\"Fri\",\"Fri\",\"Thu\",\"Thu\",\"Thu\",\"Thu\",\"Thu\",\"Thu\",\"Thu\",\"Thu\",\"Thu\",\"Wed\",\"Wed\",\"Wed\",\"Wed\",\"Wed\",\"Wed\",\"Wed\",\"Wed\",\"Wed\",\"Wed\",\"Wed\",\"Wed\",\"Tue\",\"Tue\",\"Tue\",\"Tue\",\"Tue\",\"Tue\",\"Tue\",\"Tue\",\"Tue\",\"Tue\",\"Tue\",\"Tue\",\"Tue\",\"Tue\",\"Tue\",\"Tue\",\"Tue\",\"Tue\",\"Mon\",\"Fri\",\"Fri\",\"Fri\",\"Fri\",\"Thu\",\"Thu\",\"Thu\",\"Wed\",\"Wed\",\"Wed\",\"Wed\",\"Tue\",\"Tue\",\"Tue\",\"Mon\",\"Mon\",\"Mon\",\"Sun\",\"Sat\",\"Sat\",\"Sat\",\"Sat\",\"Sat\",\"Sat\",\"Sat\",\"Fri\",\"Fri\",\"Fri\",\"Fri\",\"Fri\",\"Fri\",\"Fri\",\"Fri\",\"Fri\",\"Fri\",\"Fri\",\"Fri\",\"Fri\",\"Fri\",\"Fri\",\"Fri\",\"Fri\",\"Fri\",\"Fri\",\"Fri\",\"Fri\",\"Fri\",\"Fri\",\"Fri\",\"Fri\",\"Fri\",\"Fri\",\"Thu\",\"Thu\",\"Wed\",\"Wed\",\"Wed\",\"Wed\",\"Wed\",\"Tue\",\"Tue\",\"Tue\",\"Tue\",\"Tue\",\"Tue\",\"Tue\",\"Tue\",\"Tue\",\"Tue\",\"Mon\",\"Mon\",\"Mon\",\"Mon\",\"Mon\",\"Mon\",\"Mon\",\"Mon\",\"Mon\",\"Mon\",\"Sat\",\"Fri\",\"Fri\",\"Fri\",\"Fri\",\"Fri\",\"Fri\",\"Fri\",\"Fri\",\"Fri\",\"Thu\",\"Thu\",\"Thu\",\"Thu\",\"Thu\",\"Thu\",\"Wed\",\"Wed\",\"Wed\",\"Wed\",\"Tue\",\"Mon\",\"Mon\",\"Thu\",\"Thu\",\"Thu\",\"Thu\",\"Wed\",\"Sun\",\"Fri\",\"Fri\",\"Fri\",\"Fri\",\"Thu\",\"Thu\",\"Thu\",\"Thu\",\"Wed\",\"Wed\",\"Wed\",\"Wed\",\"Wed\",\"Wed\",\"Wed\",\"Wed\",\"Wed\",\"Wed\",\"Wed\",\"Tue\",\"Tue\",\"Tue\",\"Tue\",\"Tue\",\"Tue\",\"Tue\",\"Tue\",\"Tue\",\"Tue\",\"Tue\",\"Tue\",\"Tue\",\"Tue\",\"Mon\",\"Mon\",\"Mon\",\"Mon\",\"Mon\",\"Mon\",\"Mon\",\"Mon\",\"Mon\",\"Mon\",\"Mon\",\"Mon\",\"Mon\",\"Mon\",\"Mon\",\"Sat\",\"Sat\",\"Sat\",\"Sat\",\"Sat\",\"Fri\",\"Fri\",\"Fri\",\"Fri\",\"Fri\",\"Fri\",\"Fri\",\"Fri\",\"Fri\",\"Fri\",\"Fri\",\"Fri\",\"Fri\",\"Fri\",\"Fri\",\"Fri\",\"Fri\",\"Fri\",\"Fri\",\"Fri\",\"Fri\",\"Thu\",\"Thu\",\"Thu\",\"Thu\",\"Thu\",\"Thu\",\"Thu\",\"Thu\",\"Thu\",\"Thu\",\"Thu\",\"Thu\",\"Thu\",\"Thu\",\"Thu\",\"Thu\",\"Thu\",\"Thu\",\"Thu\",\"Thu\",\"Thu\",\"Thu\",\"Thu\",\"Thu\",\"Thu\",\"Thu\",\"Tue\",\"Tue\",\"Tue\",\"Tue\",\"Tue\",\"Mon\",\"Mon\",\"Mon\",\"Mon\",\"Mon\",\"Sun\",\"Sun\",\"Sun\",\"Sun\",\"Fri\",\"Fri\",\"Fri\",\"Fri\",\"Fri\",\"Fri\",\"Fri\",\"Fri\",\"Thu\",\"Thu\",\"Thu\",\"Thu\",\"Thu\",\"Thu\",\"Sat\",\"Wed\",\"Wed\",\"Tue\",\"Tue\",\"Mon\",\"Mon\",\"Mon\",\"Mon\",\"Mon\",\"Mon\",\"Mon\",\"Mon\",\"Sat\",\"Sat\",\"Sat\",\"Fri\",\"Fri\",\"Fri\",\"Thu\",\"Thu\",\"Thu\",\"Thu\",\"Thu\",\"Thu\",\"Thu\",\"Thu\",\"Thu\",\"Thu\",\"Thu\",\"Thu\",\"Tue\",\"Mon\",\"Mon\",\"Mon\",\"Mon\",\"Mon\",\"Mon\",\"Mon\",\"Fri\",\"Fri\",\"Fri\",\"Fri\",\"Fri\",\"Fri\",\"Fri\",\"Fri\",\"Fri\",\"Fri\",\"Fri\",\"Fri\",\"Fri\",\"Fri\",\"Fri\",\"Fri\",\"Fri\",\"Fri\",\"Thu\",\"Thu\",\"Thu\",\"Thu\",\"Thu\",\"Wed\",\"Wed\",\"Wed\",\"Wed\",\"Wed\",\"Wed\",\"Wed\",\"Wed\",\"Wed\",\"Tue\",\"Tue\",\"Fri\",\"Fri\",\"Fri\",\"Fri\",\"Fri\",\"Fri\",\"Fri\",\"Fri\",\"Fri\",\"Fri\",\"Thu\",\"Thu\",\"Thu\",\"Thu\",\"Thu\",\"Thu\",\"Thu\",\"Thu\",\"Thu\",\"Thu\",\"Thu\",\"Thu\",\"Thu\",\"Wed\",\"Tue\",\"Tue\",\"Tue\",\"Tue\",\"Tue\",\"Tue\",\"Tue\",\"Mon\",\"Mon\",\"Sun\",\"Sat\",\"Sat\",\"Sat\",\"Sat\",\"Thu\",\"Thu\",\"Thu\",\"Thu\",\"Thu\",\"Wed\",\"Wed\",\"Wed\",\"Wed\",\"Wed\",\"Mon\",\"Mon\",\"Mon\",\"Mon\",\"Mon\",\"Mon\",\"Mon\",\"Mon\",\"Mon\",\"Mon\",\"Mon\",\"Mon\",\"Mon\",\"Mon\",\"Mon\",\"Mon\",\"Mon\",\"Mon\",\"Mon\",\"Mon\",\"Mon\",\"Mon\",\"Mon\",\"Mon\",\"Mon\",\"Mon\",\"Mon\",\"Sun\",\"Sun\",\"Sun\",\"Sun\",\"Sun\",\"Sun\",\"Sun\",\"Sun\",\"Fri\",\"Fri\",\"Fri\",\"Thu\",\"Thu\",\"Thu\",\"Wed\",\"Wed\",\"Wed\",\"Wed\",\"Wed\",\"Wed\",\"Wed\",\"Wed\",\"Wed\",\"Wed\",\"Tue\",\"Tue\",\"Tue\",\"Tue\",\"Tue\",\"Tue\",\"Tue\",\"Tue\",\"Tue\",\"Tue\",\"Tue\",\"Tue\",\"Tue\",\"Mon\",\"Mon\",\"Mon\",\"Mon\",\"Mon\",\"Mon\",\"Mon\",\"Mon\",\"Fri\",\"Fri\",\"Fri\",\"Fri\",\"Fri\",\"Fri\",\"Fri\",\"Fri\",\"Fri\",\"Fri\",\"Fri\",\"Fri\",\"Fri\",\"Thu\",\"Thu\",\"Thu\",\"Thu\",\"Thu\",\"Thu\",\"Thu\",\"Thu\",\"Thu\",\"Thu\",\"Wed\",\"Wed\",\"Wed\",\"Wed\",\"Wed\",\"Wed\",\"Wed\",\"Wed\",\"Wed\",\"Wed\",\"Wed\",\"Wed\",\"Wed\",\"Tue\",\"Tue\",\"Tue\",\"Tue\",\"Tue\",\"Tue\",\"Tue\",\"Tue\",\"Tue\",\"Tue\",\"Mon\",\"Mon\",\"Mon\",\"Sat\",\"Sat\",\"Sat\",\"Sat\",\"Sat\",\"Fri\",\"Thu\",\"Thu\",\"Tue\",\"Tue\",\"Tue\",\"Tue\",\"Tue\",\"Tue\",\"Tue\",\"Mon\",\"Mon\",\"Mon\",\"Mon\",\"Mon\",\"Mon\",\"Mon\",\"Mon\",\"Sun\",\"Sun\",\"Sun\",\"Sun\",\"Sun\",\"Sun\",\"Sun\",\"Sun\",\"Sun\",\"Sat\",\"Sat\",\"Sat\",\"Fri\",\"Fri\",\"Fri\",\"Fri\",\"Fri\",\"Fri\",\"Fri\",\"Fri\",\"Fri\",\"Fri\",\"Fri\",\"Fri\",\"Thu\",\"Thu\",\"Thu\",\"Thu\",\"Thu\",\"Thu\",\"Thu\",\"Thu\",\"Thu\",\"Thu\",\"Thu\",\"Wed\",\"Wed\",\"Wed\",\"Wed\",\"Wed\",\"Wed\",\"Tue\",\"Tue\",\"Tue\",\"Tue\",\"Tue\",\"Tue\",\"Tue\",\"Tue\",\"Tue\",\"Tue\",\"Tue\",\"Tue\",\"Tue\",\"Tue\",\"Tue\",\"Tue\",\"Tue\",\"Tue\",\"Mon\",\"Mon\",\"Mon\",\"Sun\",\"Sun\",\"Sun\",\"Sun\",\"Sun\",\"Sun\",\"Sun\",\"Fri\",\"Fri\",\"Tue\",\"Tue\",\"Tue\",\"Tue\",\"Tue\",\"Tue\",\"Tue\",\"Tue\",\"Mon\",\"Mon\",\"Sun\",\"Sun\",\"Sun\",\"Sun\",\"Sun\",\"Sun\",\"Fri\",\"Thu\",\"Thu\",\"Thu\",\"Thu\",\"Wed\",\"Wed\",\"Wed\",\"Wed\",\"Wed\",\"Wed\",\"Wed\",\"Wed\",\"Tue\",\"Tue\",\"Tue\",\"Tue\",\"Tue\",\"Tue\",\"Tue\",\"Tue\",\"Tue\",\"Tue\",\"Tue\",\"Tue\",\"Mon\",\"Mon\",\"Mon\",\"Mon\",\"Mon\",\"Mon\",\"Mon\",\"Mon\",\"Mon\",\"Mon\",\"Mon\",\"Mon\",\"Sun\",\"Fri\",\"Fri\",\"Fri\",\"Fri\",\"Fri\",\"Wed\",\"Wed\",\"Wed\",\"Wed\",\"Wed\",\"Wed\",\"Wed\",\"Wed\",\"Wed\",\"Wed\",\"Wed\",\"Tue\",\"Tue\",\"Tue\",\"Tue\",\"Tue\",\"Tue\",\"Tue\",\"Mon\",\"Mon\",\"Mon\",\"Mon\",\"Mon\",\"Mon\",\"Mon\",\"Wed\",\"Wed\",\"Wed\",\"Wed\",\"Wed\",\"Wed\",\"Wed\",\"Wed\",\"Tue\",\"Tue\",\"Mon\",\"Fri\",\"Fri\",\"Mon\",\"Mon\",\"Mon\",\"Mon\",\"Mon\",\"Mon\",\"Mon\",\"Mon\",\"Mon\",\"Mon\",\"Mon\",\"Mon\",\"Mon\",\"Mon\",\"Mon\",\"Sat\",\"Fri\",\"Fri\",\"Fri\",\"Thu\",\"Thu\",\"Thu\",\"Thu\",\"Wed\",\"Wed\",\"Tue\",\"Tue\",\"Tue\",\"Tue\",\"Tue\",\"Mon\",\"Wed\",\"Wed\",\"Wed\",\"Tue\",\"Tue\",\"Sat\",\"Fri\",\"Fri\",\"Thu\",\"Thu\",\"Thu\",\"Thu\",\"Thu\",\"Thu\",\"Thu\",\"Thu\",\"Thu\",\"Thu\",\"Thu\",\"Thu\",\"Wed\",\"Wed\",\"Wed\",\"Tue\",\"Tue\",\"Tue\",\"Tue\",\"Tue\",\"Tue\",\"Tue\",\"Tue\",\"Tue\",\"Mon\",\"Mon\",\"Mon\",\"Sun\",\"Sun\",\"Sun\",\"Sun\",\"Sun\",\"Sun\",\"Sun\",\"Sun\",\"Sun\",\"Sun\",\"Sun\",\"Sun\",\"Sun\",\"Fri\",\"Fri\",\"Fri\",\"Thu\",\"Thu\",\"Thu\",\"Wed\",\"Wed\",\"Wed\",\"Wed\",\"Wed\",\"Wed\",\"Tue\",\"Tue\",\"Tue\",\"Tue\",\"Mon\",\"Mon\",\"Mon\",\"Mon\",\"Mon\",\"Mon\",\"Mon\",\"Mon\",\"Fri\",\"Fri\",\"Mon\",\"Sat\",\"Sat\",\"Fri\",\"Fri\",\"Fri\",\"Fri\",\"Fri\",\"Fri\",\"Fri\",\"Fri\",\"Fri\",\"Fri\",\"Fri\",\"Thu\",\"Thu\",\"Thu\",\"Thu\",\"Thu\",\"Thu\",\"Wed\",\"Wed\",\"Wed\",\"Wed\",\"Wed\",\"Wed\",\"Wed\",\"Wed\",\"Wed\",\"Wed\",\"Tue\",\"Tue\",\"Mon\",\"Mon\",\"Mon\",\"Mon\",\"Mon\",\"Mon\",\"Mon\",\"Mon\",\"Sun\",\"Sun\",\"Sun\",\"Sun\",\"Fri\",\"Thu\",\"Thu\",\"Thu\",\"Thu\",\"Thu\",\"Wed\",\"Tue\",\"Tue\",\"Mon\",\"Mon\",\"Mon\",\"Mon\",\"Mon\",\"Mon\",\"Mon\",\"Mon\",\"Sun\",\"Fri\",\"Fri\",\"Fri\",\"Fri\",\"Fri\",\"Fri\",\"Fri\",\"Fri\",\"Wed\",\"Wed\",\"Wed\",\"Wed\",\"Wed\",\"Wed\",\"Wed\",\"Wed\",\"Tue\",\"Tue\",\"Tue\",\"Mon\",\"Mon\",\"Mon\",\"Mon\",\"Mon\",\"Mon\",\"Mon\",\"Mon\",\"Mon\",\"Mon\",\"Mon\",\"Mon\",\"Mon\",\"Sat\",\"Sat\",\"Sat\",\"Sat\",\"Fri\",\"Fri\",\"Fri\",\"Fri\",\"Fri\",\"Fri\",\"Fri\",\"Fri\",\"Fri\",\"Fri\",\"Fri\",\"Fri\",\"Fri\",\"Thu\",\"Thu\",\"Thu\",\"Thu\",\"Wed\",\"Wed\",\"Wed\",\"Wed\",\"Wed\",\"Wed\",\"Wed\",\"Wed\",\"Wed\",\"Wed\",\"Wed\",\"Wed\",\"Wed\",\"Mon\",\"Sun\",\"Sun\",\"Sun\",\"Sun\",\"Sun\",\"Sun\",\"Sat\",\"Sat\",\"Fri\",\"Fri\",\"Thu\",\"Wed\",\"Wed\",\"Wed\",\"Wed\",\"Wed\",\"Wed\",\"Wed\",\"Tue\",\"Tue\",\"Tue\",\"Tue\",\"Tue\",\"Tue\",\"Mon\",\"Fri\",\"Fri\",\"Thu\",\"Thu\",\"Thu\",\"Thu\",\"Thu\",\"Thu\",\"Wed\",\"Wed\",\"Mon\",\"Tue\",\"Tue\",\"Tue\",\"Tue\",\"Tue\",\"Tue\",\"Mon\",\"Mon\",\"Fri\",\"Fri\",\"Fri\",\"Thu\",\"Thu\",\"Thu\",\"Thu\",\"Thu\",\"Thu\",\"Thu\",\"Thu\",\"Thu\",\"Thu\",\"Thu\",\"Wed\",\"Wed\",\"Wed\",\"Wed\",\"Wed\",\"Tue\",\"Tue\",\"Tue\",\"Tue\",\"Tue\",\"Tue\",\"Tue\",\"Mon\",\"Sat\",\"Sat\",\"Sat\",\"Sat\",\"Sat\",\"Fri\",\"Fri\",\"Fri\",\"Fri\",\"Fri\",\"Fri\",\"Thu\",\"Thu\",\"Thu\",\"Thu\",\"Wed\",\"Wed\",\"Wed\",\"Tue\",\"Tue\",\"Tue\",\"Tue\",\"Tue\",\"Tue\",\"Tue\",\"Tue\",\"Tue\",\"Tue\",\"Tue\",\"Tue\",\"Tue\",\"Tue\",\"Tue\",\"Tue\",\"Tue\",\"Tue\",\"Tue\",\"Tue\",\"Tue\",\"Tue\",\"Mon\",\"Mon\",\"Mon\",\"Mon\",\"Mon\",\"Mon\",\"Mon\",\"Mon\",\"Mon\",\"Mon\",\"Mon\",\"Mon\",\"Mon\",\"Mon\",\"Mon\",\"Mon\",\"Mon\",\"Mon\",\"Mon\",\"Mon\",\"Mon\",\"Mon\",\"Mon\",\"Mon\",\"Mon\",\"Mon\",\"Mon\",\"Mon\",\"Mon\",\"Mon\",\"Mon\",\"Mon\",\"Sun\",\"Sun\",\"Sun\",\"Sun\",\"Sun\",\"Sun\",\"Sun\",\"Sun\",\"Sat\",\"Sat\",\"Sat\",\"Sat\",\"Fri\",\"Fri\",\"Fri\",\"Fri\",\"Fri\",\"Fri\",\"Fri\",\"Fri\",\"Fri\",\"Fri\",\"Fri\",\"Fri\",\"Fri\",\"Fri\",\"Fri\",\"Fri\",\"Thu\",\"Thu\",\"Thu\",\"Thu\",\"Thu\",\"Thu\",\"Thu\",\"Thu\",\"Thu\",\"Wed\",\"Wed\",\"Wed\",\"Wed\",\"Wed\",\"Wed\",\"Wed\",\"Wed\",\"Wed\",\"Wed\",\"Wed\",\"Wed\",\"Wed\",\"Wed\",\"Wed\",\"Wed\",\"Wed\",\"Wed\",\"Wed\",\"Wed\",\"Wed\",\"Tue\",\"Tue\",\"Tue\",\"Tue\",\"Tue\",\"Tue\",\"Tue\",\"Tue\",\"Tue\",\"Tue\",\"Tue\",\"Tue\",\"Tue\",\"Mon\",\"Mon\",\"Mon\",\"Sun\",\"Sun\",\"Sun\",\"Sun\",\"Sun\",\"Sun\",\"Sun\",\"Sun\",\"Sun\",\"Sat\",\"Sat\",\"Sat\",\"Fri\",\"Fri\",\"Fri\",\"Fri\",\"Fri\",\"Fri\",\"Fri\",\"Fri\",\"Fri\",\"Fri\",\"Thu\",\"Thu\",\"Thu\",\"Thu\",\"Thu\",\"Thu\",\"Thu\",\"Thu\",\"Wed\",\"Wed\",\"Wed\",\"Wed\",\"Wed\",\"Wed\",\"Wed\",\"Wed\",\"Wed\",\"Wed\",\"Wed\",\"Wed\",\"Wed\",\"Wed\",\"Wed\",\"Wed\",\"Tue\",\"Tue\",\"Tue\",\"Tue\",\"Tue\",\"Tue\",\"Tue\",\"Tue\",\"Tue\",\"Tue\",\"Tue\",\"Tue\",\"Tue\",\"Tue\",\"Tue\",\"Tue\",\"Tue\",\"Tue\",\"Mon\",\"Mon\",\"Mon\",\"Mon\",\"Mon\",\"Mon\",\"Mon\",\"Mon\",\"Mon\",\"Mon\",\"Mon\",\"Mon\",\"Mon\",\"Mon\",\"Mon\",\"Mon\",\"Mon\",\"Mon\",\"Mon\",\"Mon\",\"Sun\",\"Sun\",\"Sun\",\"Sun\",\"Sun\",\"Sat\",\"Sat\",\"Sat\",\"Sat\",\"Sat\",\"Sat\",\"Sat\",\"Sat\",\"Fri\",\"Fri\",\"Fri\",\"Fri\",\"Fri\",\"Fri\",\"Fri\",\"Fri\",\"Fri\",\"Fri\",\"Fri\",\"Fri\",\"Thu\",\"Thu\",\"Thu\",\"Wed\",\"Wed\",\"Sun\",\"Sun\",\"Sun\",\"Sun\",\"Sun\",\"Sun\",\"Sun\",\"Sun\",\"Sun\",\"Sun\",\"Sun\",\"Sun\",\"Sun\",\"Sat\",\"Sat\",\"Sat\",\"Sat\",\"Sat\",\"Sat\",\"Sat\",\"Sat\",\"Fri\",\"Fri\",\"Fri\",\"Fri\",\"Fri\",\"Fri\",\"Fri\",\"Fri\",\"Fri\",\"Wed\",\"Wed\",\"Wed\",\"Wed\",\"Wed\",\"Wed\",\"Wed\",\"Wed\",\"Tue\",\"Tue\",\"Tue\",\"Tue\",\"Tue\",\"Tue\",\"Tue\",\"Tue\",\"Tue\",\"Tue\",\"Tue\",\"Tue\",\"Thu\",\"Tue\",\"Tue\",\"Tue\",\"Tue\",\"Tue\",\"Tue\",\"Sat\",\"Fri\",\"Fri\",\"Fri\",\"Fri\",\"Fri\",\"Fri\",\"Fri\",\"Fri\",\"Fri\",\"Thu\",\"Thu\",\"Thu\",\"Thu\",\"Wed\",\"Wed\",\"Wed\",\"Wed\",\"Tue\",\"Tue\",\"Tue\",\"Tue\",\"Tue\",\"Tue\",\"Mon\",\"Mon\",\"Mon\",\"Mon\",\"Mon\",\"Mon\",\"Mon\",\"Sun\",\"Sun\",\"Sun\",\"Sun\",\"Sun\",\"Sun\",\"Sun\",\"Sun\",\"Sun\",\"Sun\",\"Sat\",\"Sat\",\"Sat\",\"Sat\",\"Sat\",\"Sat\",\"Fri\",\"Fri\",\"Fri\",\"Fri\",\"Wed\",\"Wed\",\"Wed\",\"Tue\",\"Sun\",\"Sun\",\"Sun\",\"Sun\",\"Sun\",\"Sun\",\"Sat\",\"Fri\",\"Fri\",\"Fri\",\"Fri\",\"Fri\",\"Fri\",\"Fri\",\"Fri\",\"Fri\",\"Fri\",\"Fri\",\"Fri\",\"Fri\",\"Fri\",\"Thu\",\"Thu\",\"Thu\",\"Thu\",\"Thu\",\"Tue\",\"Mon\",\"Mon\",\"Mon\",\"Mon\",\"Mon\",\"Thu\",\"Thu\",\"Wed\",\"Tue\",\"Tue\",\"Tue\",\"Tue\",\"Tue\",\"Tue\",\"Tue\",\"Mon\",\"Mon\",\"Mon\",\"Mon\",\"Mon\",\"Mon\",\"Mon\",\"Mon\",\"Mon\",\"Mon\",\"Mon\",\"Mon\",\"Mon\",\"Mon\",\"Mon\",\"Mon\",\"Mon\",\"Mon\",\"Mon\",\"Mon\",\"Sun\",\"Sat\",\"Sat\",\"Sat\",\"Fri\",\"Thu\",\"Thu\",\"Thu\",\"Thu\",\"Thu\",\"Thu\",\"Thu\",\"Thu\",\"Thu\",\"Thu\",\"Thu\",\"Thu\",\"Wed\",\"Wed\",\"Wed\",\"Wed\",\"Wed\",\"Tue\",\"Tue\",\"Mon\",\"Mon\",\"Mon\",\"Mon\",\"Mon\",\"Mon\",\"Mon\",\"Mon\",\"Mon\",\"Mon\",\"Mon\",\"Mon\",\"Sun\",\"Sun\",\"Sun\",\"Sun\",\"Fri\",\"Fri\",\"Fri\",\"Fri\",\"Fri\",\"Fri\",\"Fri\",\"Fri\",\"Fri\",\"Thu\",\"Thu\",\"Thu\",\"Thu\",\"Wed\",\"Tue\",\"Tue\",\"Tue\",\"Mon\",\"Thu\",\"Thu\",\"Thu\",\"Thu\",\"Thu\",\"Mon\",\"Fri\",\"Fri\",\"Wed\",\"Wed\",\"Wed\",\"Wed\",\"Wed\",\"Wed\",\"Mon\",\"Mon\",\"Mon\",\"Mon\",\"Mon\",\"Thu\",\"Wed\",\"Wed\",\"Wed\",\"Tue\",\"Tue\",\"Wed\",\"Fri\",\"Fri\",\"Fri\",\"Fri\",\"Fri\",\"Fri\",\"Fri\",\"Fri\",\"Tue\",\"Tue\",\"Tue\",\"Tue\",\"Tue\",\"Mon\",\"Sun\",\"Wed\",\"Wed\",\"Sun\",\"Sun\",\"Sun\",\"Sun\",\"Sun\",\"Sun\",\"Sun\",\"Sun\",\"Sat\",\"Sat\",\"Fri\",\"Fri\",\"Fri\",\"Fri\",\"Thu\",\"Thu\",\"Thu\",\"Thu\",\"Thu\",\"Sun\",\"Sun\",\"Sun\",\"Sat\",\"Sat\",\"Fri\",\"Fri\",\"Fri\",\"Fri\",\"Thu\",\"Thu\",\"Thu\",\"Thu\",\"Thu\",\"Thu\",\"Thu\",\"Thu\",\"Thu\",\"Thu\",\"Thu\",\"Thu\",\"Thu\",\"Wed\",\"Wed\",\"Wed\",\"Wed\",\"Wed\",\"Wed\",\"Wed\",\"Wed\",\"Wed\",\"Wed\",\"Wed\",\"Wed\",\"Tue\",\"Tue\",\"Tue\",\"Tue\",\"Tue\",\"Tue\",\"Tue\",\"Tue\",\"Tue\",\"Mon\",\"Mon\",\"Mon\",\"Mon\",\"Sun\",\"Sun\",\"Sun\",\"Sun\",\"Sun\",\"Sat\",\"Fri\",\"Thu\",\"Thu\",\"Wed\",\"Tue\",\"Tue\",\"Tue\",\"Tue\",\"Tue\",\"Mon\",\"Mon\",\"Mon\",\"Mon\",\"Mon\",\"Mon\",\"Mon\",\"Mon\",\"Mon\",\"Mon\",\"Mon\",\"Mon\",\"Mon\",\"Mon\",\"Mon\",\"Mon\",\"Mon\",\"Mon\",\"Sat\",\"Sat\",\"Sat\",\"Fri\",\"Thu\",\"Thu\",\"Thu\",\"Thu\",\"Thu\",\"Thu\",\"Thu\",\"Wed\",\"Wed\",\"Wed\",\"Wed\",\"Wed\",\"Wed\",\"Wed\",\"Wed\",\"Wed\",\"Wed\",\"Wed\",\"Wed\",\"Wed\",\"Wed\",\"Tue\",\"Tue\",\"Tue\",\"Tue\",\"Tue\",\"Tue\",\"Tue\",\"Tue\",\"Tue\",\"Tue\",\"Tue\",\"Tue\",\"Tue\",\"Tue\",\"Tue\",\"Mon\",\"Mon\",\"Mon\",\"Mon\",\"Mon\",\"Wed\",\"Wed\",\"Wed\",\"Wed\",\"Wed\",\"Wed\",\"Wed\",\"Wed\",\"Tue\",\"Tue\",\"Tue\",\"Tue\",\"Tue\",\"Tue\",\"Tue\",\"Tue\",\"Tue\",\"Tue\",\"Tue\",\"Mon\",\"Mon\",\"Mon\",\"Mon\",\"Mon\",\"Mon\",\"Mon\",\"Mon\",\"Mon\",\"Mon\",\"Mon\",\"Mon\",\"Mon\",\"Mon\",\"Mon\",\"Mon\",\"Mon\",\"Sun\",\"Sun\",\"Sun\",\"Sun\",\"Sun\",\"Sun\",\"Sun\",\"Sun\",\"Fri\",\"Fri\",\"Wed\",\"Wed\",\"Wed\",\"Sat\",\"Mon\",\"Mon\",\"Mon\",\"Fri\",\"Fri\",\"Thu\",\"Thu\",\"Thu\",\"Thu\",\"Thu\",\"Thu\",\"Wed\",\"Wed\",\"Wed\",\"Wed\",\"Wed\",\"Wed\",\"Wed\",\"Wed\",\"Wed\",\"Wed\",\"Wed\",\"Wed\",\"Wed\",\"Wed\",\"Wed\",\"Tue\",\"Tue\",\"Tue\",\"Tue\",\"Mon\",\"Mon\",\"Mon\",\"Mon\",\"Mon\",\"Mon\",\"Sat\",\"Thu\",\"Thu\",\"Thu\",\"Thu\",\"Wed\",\"Mon\",\"Mon\",\"Mon\",\"Mon\",\"Mon\",\"Sun\",\"Sun\",\"Sun\",\"Sun\",\"Sun\",\"Sun\",\"Sun\",\"Sun\",\"Fri\",\"Fri\",\"Fri\",\"Thu\",\"Thu\",\"Thu\",\"Thu\",\"Thu\",\"Thu\",\"Thu\",\"Thu\",\"Thu\",\"Thu\",\"Thu\",\"Thu\",\"Thu\",\"Thu\",\"Thu\",\"Thu\",\"Thu\",\"Thu\",\"Thu\",\"Thu\",\"Thu\",\"Thu\",\"Thu\",\"Thu\",\"Thu\",\"Thu\",\"Thu\",\"Thu\",\"Thu\",\"Thu\",\"Wed\",\"Wed\",\"Wed\",\"Wed\",\"Wed\",\"Wed\",\"Wed\",\"Wed\",\"Wed\",\"Wed\",\"Wed\",\"Wed\",\"Wed\",\"Wed\",\"Tue\",\"Tue\",\"Tue\",\"Tue\",\"Tue\",\"Tue\",\"Mon\",\"Mon\",\"Sun\",\"Sun\",\"Fri\",\"Fri\",\"Fri\",\"Fri\",\"Fri\",\"Thu\",\"Thu\",\"Thu\",\"Thu\",\"Thu\",\"Thu\",\"Thu\",\"Thu\",\"Thu\",\"Thu\",\"Thu\",\"Thu\",\"Thu\",\"Thu\",\"Thu\",\"Thu\",\"Thu\",\"Thu\",\"Thu\",\"Thu\",\"Thu\",\"Thu\",\"Thu\",\"Thu\",\"Thu\",\"Wed\",\"Tue\",\"Tue\",\"Tue\",\"Tue\",\"Sun\",\"Sun\",\"Sun\",\"Sun\",\"Sun\",\"Sun\",\"Sun\",\"Sun\",\"Sun\",\"Sun\",\"Sun\",\"Sat\",\"Tue\",\"Tue\",\"Mon\",\"Mon\",\"Mon\",\"Mon\",\"Mon\",\"Mon\",\"Mon\",\"Mon\",\"Mon\",\"Mon\",\"Mon\",\"Mon\",\"Mon\",\"Mon\",\"Mon\",\"Mon\",\"Mon\",\"Mon\",\"Mon\",\"Mon\",\"Sun\",\"Sun\",\"Sun\",\"Sun\",\"Sun\",\"Sun\",\"Sun\",\"Sun\",\"Sun\",\"Sun\",\"Sun\",\"Sun\",\"Sun\",\"Sun\",\"Sun\",\"Sat\",\"Sat\",\"Sat\",\"Sat\",\"Sat\",\"Sat\",\"Sat\",\"Sat\",\"Fri\",\"Fri\",\"Wed\",\"Tue\",\"Mon\",\"Mon\",\"Mon\",\"Sat\",\"Mon\",\"Mon\",\"Mon\",\"Sun\",\"Sun\",\"Sat\",\"Sat\",\"Sat\",\"Sat\",\"Sat\",\"Sat\",\"Sat\",\"Sat\",\"Sat\",\"Sat\",\"Fri\",\"Fri\",\"Fri\",\"Fri\",\"Fri\",\"Fri\",\"Fri\",\"Fri\",\"Fri\",\"Fri\",\"Fri\",\"Thu\",\"Thu\",\"Thu\",\"Thu\",\"Thu\",\"Thu\",\"Thu\",\"Thu\",\"Wed\",\"Wed\",\"Wed\",\"Wed\",\"Wed\",\"Wed\",\"Wed\",\"Tue\",\"Tue\",\"Tue\",\"Tue\",\"Tue\",\"Tue\",\"Tue\",\"Tue\",\"Tue\",\"Tue\",\"Tue\",\"Tue\",\"Tue\",\"Tue\",\"Mon\",\"Mon\",\"Mon\",\"Mon\",\"Mon\",\"Mon\",\"Mon\",\"Mon\",\"Mon\",\"Mon\",\"Mon\",\"Mon\",\"Mon\",\"Mon\",\"Mon\",\"Mon\",\"Mon\",\"Mon\",\"Sun\",\"Sun\",\"Sun\",\"Sun\",\"Sun\",\"Sun\",\"Sun\",\"Sun\",\"Sun\",\"Sun\",\"Sun\",\"Sun\",\"Sun\",\"Sun\",\"Sun\",\"Sun\",\"Sun\",\"Sat\",\"Sat\",\"Sat\",\"Sat\",\"Sat\",\"Sat\",\"Sat\",\"Sat\",\"Fri\",\"Fri\",\"Fri\",\"Fri\",\"Fri\",\"Fri\",\"Thu\",\"Wed\",\"Wed\",\"Wed\",\"Wed\",\"Wed\",\"Wed\",\"Wed\",\"Tue\",\"Tue\",\"Tue\",\"Tue\",\"Tue\",\"Mon\",\"Mon\",\"Thu\",\"Thu\",\"Wed\",\"Wed\",\"Wed\",\"Wed\",\"Wed\",\"Wed\",\"Wed\",\"Wed\",\"Wed\",\"Wed\",\"Wed\",\"Wed\",\"Wed\",\"Wed\",\"Tue\",\"Tue\",\"Tue\",\"Tue\",\"Tue\",\"Tue\",\"Tue\",\"Tue\",\"Tue\",\"Tue\",\"Sun\",\"Sun\",\"Sun\",\"Sun\",\"Sat\",\"Wed\",\"Wed\",\"Wed\",\"Tue\",\"Tue\",\"Mon\",\"Mon\",\"Mon\",\"Mon\",\"Sun\",\"Sun\",\"Sat\",\"Sat\",\"Sat\",\"Sat\",\"Sat\",\"Sat\",\"Sat\",\"Sat\",\"Sat\",\"Fri\",\"Fri\",\"Fri\",\"Fri\",\"Fri\",\"Fri\",\"Fri\",\"Fri\",\"Fri\",\"Fri\",\"Thu\",\"Thu\",\"Thu\",\"Sat\",\"Sat\",\"Fri\",\"Tue\",\"Tue\",\"Tue\",\"Mon\",\"Mon\",\"Mon\",\"Wed\",\"Mon\",\"Mon\",\"Sat\",\"Sat\",\"Sat\",\"Fri\",\"Fri\",\"Fri\",\"Wed\",\"Wed\",\"Wed\",\"Wed\",\"Wed\",\"Tue\",\"Tue\",\"Tue\",\"Tue\",\"Tue\",\"Tue\",\"Tue\",\"Tue\",\"Tue\",\"Tue\",\"Tue\",\"Tue\",\"Tue\",\"Tue\",\"Tue\",\"Tue\",\"Mon\",\"Mon\",\"Mon\",\"Mon\",\"Mon\",\"Sun\",\"Sun\",\"Sat\",\"Sat\",\"Sat\",\"Thu\",\"Thu\",\"Fri\",\"Thu\",\"Wed\",\"Wed\",\"Wed\",\"Wed\",\"Wed\",\"Wed\",\"Wed\",\"Wed\",\"Tue\",\"Tue\",\"Tue\",\"Tue\",\"Tue\",\"Tue\",\"Tue\",\"Tue\",\"Tue\",\"Mon\",\"Mon\",\"Mon\",\"Mon\",\"Mon\",\"Mon\",\"Mon\",\"Mon\",\"Mon\",\"Mon\",\"Mon\",\"Mon\",\"Mon\",\"Mon\",\"Mon\",\"Mon\",\"Mon\",\"Mon\",\"Mon\",\"Mon\",\"Mon\",\"Mon\",\"Mon\",\"Mon\",\"Mon\",\"Mon\",\"Sun\",\"Sun\",\"Sun\",\"Sun\",\"Sun\",\"Sun\",\"Sun\",\"Sun\",\"Sun\",\"Sun\",\"Sun\",\"Sun\",\"Sun\",\"Sun\",\"Sun\",\"Sun\",\"Sun\",\"Sun\",\"Sun\",\"Sun\",\"Sun\",\"Fri\",\"Fri\",\"Fri\",\"Fri\",\"Fri\",\"Fri\",\"Fri\",\"Fri\",\"Fri\",\"Fri\",\"Fri\",\"Fri\",\"Fri\",\"Thu\",\"Thu\",\"Thu\",\"Thu\",\"Thu\",\"Thu\",\"Thu\",\"Thu\",\"Thu\",\"Thu\",\"Thu\",\"Thu\",\"Wed\",\"Wed\",\"Wed\",\"Wed\",\"Wed\",\"Wed\",\"Wed\",\"Wed\",\"Wed\",\"Wed\",\"Wed\",\"Wed\",\"Wed\",\"Wed\",\"Wed\",\"Wed\",\"Wed\",\"Wed\",\"Wed\",\"Tue\",\"Mon\",\"Mon\",\"Mon\",\"Mon\",\"Fri\",\"Fri\",\"Thu\",\"Thu\",\"Thu\",\"Wed\",\"Wed\",\"Wed\",\"Wed\",\"Wed\",\"Tue\",\"Tue\",\"Tue\",\"Mon\",\"Mon\",\"Mon\",\"Mon\",\"Mon\",\"Mon\",\"Mon\",\"Mon\",\"Mon\",\"Sun\",\"Sun\",\"Sun\",\"Sun\",\"Sun\",\"Sun\",\"Sun\",\"Sun\",\"Sun\",\"Sun\",\"Sun\",\"Sun\",\"Sun\",\"Sun\",\"Sun\",\"Sun\",\"Sun\",\"Sun\",\"Sun\",\"Sun\",\"Sat\",\"Sat\",\"Sat\",\"Sat\",\"Sat\",\"Sat\",\"Sat\",\"Sat\",\"Sat\",\"Sat\",\"Sat\",\"Sat\",\"Sat\",\"Sat\",\"Sat\",\"Fri\",\"Fri\",\"Fri\",\"Fri\",\"Fri\",\"Fri\",\"Thu\",\"Thu\",\"Thu\",\"Thu\",\"Thu\",\"Thu\",\"Thu\",\"Tue\",\"Sat\",\"Sat\",\"Sat\",\"Sat\",\"Sat\",\"Sat\",\"Fri\",\"Sat\",\"Sat\",\"Fri\",\"Fri\",\"Fri\",\"Fri\",\"Fri\",\"Fri\",\"Fri\",\"Fri\",\"Fri\",\"Fri\",\"Thu\",\"Thu\",\"Thu\",\"Thu\",\"Thu\",\"Thu\",\"Thu\",\"Thu\",\"Thu\",\"Thu\",\"Thu\",\"Thu\",\"Thu\",\"Thu\",\"Thu\",\"Thu\",\"Wed\",\"Wed\",\"Wed\",\"Wed\",\"Wed\",\"Wed\",\"Wed\",\"Wed\",\"Wed\",\"Wed\",\"Wed\",\"Wed\",\"Wed\",\"Wed\",\"Wed\",\"Wed\",\"Wed\",\"Wed\",\"Wed\",\"Wed\",\"Wed\",\"Wed\",\"Wed\",\"Wed\",\"Wed\",\"Wed\",\"Wed\",\"Wed\",\"Wed\",\"Tue\",\"Tue\",\"Tue\",\"Tue\",\"Tue\",\"Tue\",\"Tue\",\"Tue\",\"Tue\",\"Tue\",\"Tue\",\"Tue\",\"Tue\",\"Tue\",\"Tue\",\"Tue\",\"Tue\",\"Tue\",\"Tue\",\"Tue\",\"Mon\",\"Mon\",\"Mon\",\"Mon\",\"Mon\",\"Mon\",\"Mon\",\"Mon\",\"Mon\",\"Mon\",\"Mon\",\"Mon\",\"Mon\",\"Mon\",\"Mon\",\"Mon\",\"Mon\",\"Mon\",\"Mon\",\"Mon\",\"Mon\",\"Mon\",\"Mon\",\"Mon\",\"Mon\",\"Mon\",\"Sun\",\"Sun\",\"Sun\",\"Sun\",\"Sun\",\"Sun\",\"Sun\",\"Sun\",\"Sun\",\"Sun\",\"Sun\",\"Sun\",\"Thu\",\"Thu\",\"Thu\",\"Thu\",\"Thu\",\"Thu\",\"Thu\",\"Thu\",\"Thu\",\"Thu\",\"Mon\",\"Fri\",\"Fri\",\"Fri\",\"Fri\",\"Fri\",\"Fri\",\"Fri\",\"Fri\",\"Fri\",\"Fri\",\"Fri\",\"Fri\",\"Fri\",\"Fri\",\"Fri\",\"Fri\",\"Fri\",\"Fri\",\"Fri\",\"Thu\",\"Thu\",\"Thu\",\"Thu\",\"Thu\",\"Thu\",\"Wed\",\"Wed\",\"Wed\",\"Wed\",\"Wed\",\"Wed\",\"Wed\",\"Fri\",\"Fri\",\"Fri\",\"Thu\",\"Thu\",\"Thu\",\"Fri\",\"Thu\",\"Thu\",\"Thu\",\"Thu\",\"Tue\",\"Tue\",\"Tue\",\"Tue\",\"Tue\",\"Tue\",\"Tue\",\"Tue\",\"Tue\",\"Tue\",\"Tue\",\"Tue\",\"Tue\",\"Tue\",\"Tue\",\"Tue\",\"Tue\",\"Tue\",\"Tue\",\"Tue\",\"Tue\",\"Tue\",\"Tue\",\"Tue\",\"Tue\",\"Tue\",\"Tue\",\"Tue\",\"Tue\",\"Tue\",\"Tue\",\"Tue\",\"Mon\",\"Mon\",\"Mon\",\"Mon\",\"Mon\",\"Mon\",\"Mon\",\"Mon\",\"Mon\",\"Mon\",\"Mon\",\"Mon\",\"Mon\",\"Mon\",\"Mon\",\"Mon\",\"Wed\",\"Tue\",\"Thu\",\"Wed\",\"Wed\",\"Tue\",\"Tue\",\"Tue\",\"Tue\",\"Tue\",\"Mon\",\"Mon\",\"Sun\",\"Sun\",\"Sat\",\"Sat\",\"Sat\",\"Sat\",\"Sat\",\"Sat\",\"Sat\",\"Sat\",\"Sat\",\"Sat\",\"Sat\",\"Sat\",\"Sat\",\"Sat\",\"Sat\",\"Sat\",\"Sat\",\"Sat\",\"Fri\",\"Fri\",\"Fri\",\"Fri\",\"Fri\",\"Fri\",\"Fri\",\"Fri\",\"Fri\",\"Fri\",\"Thu\",\"Tue\",\"Tue\",\"Tue\",\"Tue\",\"Tue\",\"Tue\",\"Tue\",\"Tue\",\"Tue\",\"Tue\",\"Tue\",\"Tue\",\"Tue\",\"Tue\",\"Tue\",\"Thu\",\"Thu\",\"Thu\",\"Thu\",\"Thu\",\"Thu\",\"Wed\",\"Tue\",\"Tue\",\"Tue\",\"Tue\",\"Tue\",\"Sun\",\"Sun\",\"Sun\",\"Sun\",\"Fri\",\"Fri\",\"Fri\",\"Fri\",\"Fri\",\"Fri\",\"Fri\",\"Thu\",\"Wed\",\"Tue\",\"Tue\",\"Tue\",\"Tue\",\"Tue\",\"Mon\",\"Mon\",\"Mon\",\"Mon\",\"Mon\",\"Mon\",\"Mon\",\"Wed\",\"Tue\",\"Sun\",\"Thu\",\"Mon\",\"Mon\",\"Wed\",\"Wed\",\"Wed\",\"Wed\",\"Wed\",\"Wed\",\"Wed\",\"Wed\",\"Tue\",\"Tue\",\"Tue\",\"Tue\",\"Mon\",\"Mon\",\"Sun\",\"Sun\",\"Thu\",\"Sun\",\"Sun\",\"Fri\",\"Fri\",\"Wed\",\"Wed\",\"Wed\",\"Tue\",\"Tue\",\"Mon\",\"Mon\",\"Mon\",\"Mon\",\"Mon\",\"Mon\",\"Mon\",\"Fri\",\"Fri\",\"Sun\",\"Sun\",\"Sun\",\"Sun\",\"Sun\",\"Sun\",\"Sun\",\"Sun\",\"Sun\",\"Sun\",\"Sun\",\"Sun\",\"Sun\",\"Sun\",\"Sun\",\"Fri\",\"Fri\",\"Fri\",\"Fri\",\"Fri\",\"Fri\",\"Fri\",\"Fri\",\"Fri\",\"Thu\",\"Thu\",\"Wed\",\"Wed\",\"Wed\",\"Tue\",\"Sat\",\"Wed\",\"Wed\",\"Wed\",\"Wed\",\"Tue\",\"Tue\",\"Tue\",\"Mon\",\"Mon\",\"Mon\",\"Mon\",\"Mon\",\"Mon\",\"Mon\",\"Sun\",\"Sun\",\"Sun\",\"Sun\",\"Sun\",\"Sun\",\"Wed\",\"Wed\",\"Wed\",\"Wed\",\"Wed\",\"Wed\",\"Wed\",\"Wed\",\"Wed\",\"Wed\",\"Wed\",\"Tue\",\"Tue\",\"Tue\",\"Tue\",\"Tue\",\"Mon\",\"Mon\",\"Wed\",\"Wed\",\"Tue\",\"Tue\",\"Tue\",\"Tue\",\"Tue\",\"Tue\",\"Tue\",\"Tue\",\"Tue\",\"Tue\",\"Mon\",\"Mon\",\"Mon\",\"Mon\",\"Wed\",\"Wed\",\"Wed\",\"Tue\",\"Tue\",\"Mon\",\"Mon\",\"Wed\",\"Wed\",\"Tue\",\"Tue\",\"Tue\",\"Tue\",\"Tue\",\"Mon\",\"Mon\",\"Mon\",\"Mon\",\"Sun\",\"Sun\",\"Sat\",\"Sat\",\"Wed\",\"Wed\",\"Tue\",\"Tue\",\"Tue\",\"Thu\",\"Wed\",\"Wed\",\"Wed\",\"Wed\",\"Tue\",\"Tue\",\"Tue\",\"Tue\",\"Tue\",\"Tue\",\"Tue\",\"Tue\",\"Tue\",\"Mon\",\"Mon\",\"Mon\",\"Sun\",\"Sun\",\"Thu\",\"Thu\",\"Wed\",\"Wed\",\"Tue\",\"Tue\",\"Tue\",\"Mon\",\"Mon\",\"Mon\",\"Mon\",\"Mon\",\"Mon\",\"Mon\",\"Mon\",\"Mon\",\"Mon\",\"Mon\",\"Mon\",\"Mon\",\"Mon\",\"Mon\",\"Mon\",\"Mon\",\"Mon\",\"Sun\",\"Sun\",\"Sun\",\"Sun\",\"Sun\",\"Sun\",\"Sun\",\"Sun\",\"Sun\",\"Sun\",\"Sat\",\"Sat\",\"Sat\",\"Sat\",\"Sat\",\"Fri\",\"Fri\",\"Fri\",\"Fri\",\"Fri\",\"Fri\",\"Fri\",\"Fri\",\"Fri\",\"Fri\",\"Fri\",\"Fri\",\"Fri\",\"Thu\",\"Thu\",\"Thu\",\"Tue\",\"Tue\",\"Tue\",\"Tue\",\"Tue\",\"Tue\",\"Tue\",\"Tue\",\"Tue\",\"Tue\",\"Fri\",\"Fri\",\"Thu\",\"Thu\",\"Thu\",\"Thu\",\"Mon\",\"Thu\",\"Wed\",\"Sat\"],\"time\":[54718000.0,51657000.0,52508000.0,38069000.0,33443000.0,81337000.0,80774000.0,80483000.0,74654000.0,72943000.0,72156000.0,79027000.0,73356000.0,60243000.0,59674000.0,54660000.0,47185000.0,46270000.0,42411000.0,41561000.0,76103000.0,75239000.0,75174000.0,69770000.0,69154000.0,68707000.0,68471000.0,68401000.0,51978000.0,80814000.0,80793000.0,80773000.0,80732000.0,78572000.0,78548000.0,78529000.0,78475000.0,81847000.0,81826000.0,81807000.0,67463000.0,70189000.0,70135000.0,52275000.0,52236000.0,52215000.0,39012000.0,38954000.0,47169000.0,36607000.0,36364000.0,34425000.0,71255000.0,71190000.0,71169000.0,68205000.0,33937000.0,40530000.0,37944000.0,46956000.0,46932000.0,46913000.0,45436000.0,53499000.0,58975000.0,31108000.0,54117000.0,40470000.0,40454000.0,40440000.0,40174000.0,70402000.0,70400000.0,70400000.0,59587000.0,40434000.0,45152000.0,43238000.0,35155000.0,70317000.0,47126000.0,37226000.0,31811000.0,48541000.0,48163000.0,42499000.0,75967000.0,75955000.0,75944000.0,75914000.0,68122000.0,68109000.0,68097000.0,67287000.0,62152000.0,62138000.0,62125000.0,61982000.0,43111000.0,36084000.0,50209000.0,44569000.0,75183000.0,85934000.0,85925000.0,85918000.0,85849000.0,71895000.0,71886000.0,71879000.0,71834000.0,68865000.0,68857000.0,68851000.0,68811000.0,63582000.0,63575000.0,63567000.0,62720000.0,59907000.0,59897000.0,59890000.0,59849000.0,56496000.0,56482000.0,56475000.0,56442000.0,53682000.0,53675000.0,53667000.0,53615000.0,69040000.0,69018000.0,69011000.0,67813000.0,55512000.0,55397000.0,51445000.0,51425000.0,51418000.0,51311000.0,51088000.0,51077000.0,51069000.0,51009000.0,47045000.0,46565000.0,44348000.0,44335000.0,44328000.0,44042000.0,2219000.0,45646000.0,49042000.0,48758000.0,61312000.0,50302000.0,41519000.0,37043000.0,36998000.0,36988000.0,36976000.0,36792000.0,43712000.0,43692000.0,43678000.0,41292000.0,42722000.0,43898000.0,43882000.0,43871000.0,43354000.0,40720000.0,40706000.0,40694000.0,40624000.0,38166000.0,38153000.0,38142000.0,59743000.0,59727000.0,59715000.0,59599000.0,53830000.0,62242000.0,56549000.0,56480000.0,66262000.0,66247000.0,66234000.0,50611000.0,71529000.0,54458000.0,71051000.0,47096000.0,61719000.0,52324000.0,52291000.0,52279000.0,52220000.0,50887000.0,63378000.0,56446000.0,47421000.0,46206000.0,46183000.0,44168000.0,43447000.0,41524000.0,62394000.0,59276000.0,57466000.0,57441000.0,57429000.0,57355000.0,52299000.0,46974000.0,44299000.0,58061000.0,49650000.0,56890000.0,54241000.0,48833000.0,44169000.0,43954000.0,43755000.0,43626000.0,40980000.0,52584000.0,50328000.0,56425000.0,61735000.0,56482000.0,64856000.0,46846000.0,43053000.0,52398000.0,52384000.0,52372000.0,31011000.0,61055000.0,53864000.0,53349000.0,64316000.0,61674000.0,49820000.0,48360000.0,48343000.0,48332000.0,48191000.0,37944000.0,37924000.0,37913000.0,53255000.0,53200000.0,53188000.0,53130000.0,52881000.0,52790000.0,46106000.0,46087000.0,46077000.0,46018000.0,45234000.0,44818000.0,39772000.0,37709000.0,36720000.0,34548000.0,27248000.0,60404000.0,36766000.0,36758000.0,36748000.0,36740000.0,35590000.0,35530000.0,34591000.0,34583000.0,34574000.0,34483000.0,34474000.0,34465000.0,34458000.0,34415000.0,33875000.0,63320000.0,62046000.0,60834000.0,9838000.0,9828000.0,7804000.0,7669000.0,54510000.0,54500000.0,37664000.0,78546000.0,78531000.0,69191000.0,65977000.0,85661000.0,41194000.0,80371000.0,80363000.0,78471000.0,78441000.0,75704000.0,75678000.0,65355000.0,65347000.0,57952000.0,85175000.0,44065000.0,44057000.0,43875000.0,41688000.0,41679000.0,39363000.0,56073000.0,3036000.0,33045000.0,52440000.0,47646000.0,29693000.0,37841000.0,46460000.0,46451000.0,46439000.0,44107000.0,48050000.0,47995000.0,50303000.0,75933000.0,63719000.0,75605000.0,65922000.0,81052000.0,39749000.0,43021000.0,41867000.0,80122000.0,78253000.0,74103000.0,66842000.0,64330000.0,49777000.0,42703000.0,35216000.0,35138000.0,59684000.0,56137000.0,3048000.0,68177000.0,68175000.0,68166000.0,63236000.0,63189000.0,12312000.0,10394000.0,9505000.0,66733000.0,65064000.0,51603000.0,36555000.0,60879000.0,21296000.0,38199000.0,63259000.0,40172000.0,13349000.0,83312000.0,77880000.0,82713000.0,78949000.0,45989000.0,45818000.0,45645000.0,60725000.0,80506000.0,76895000.0,67858000.0,38452000.0,58409000.0,57004000.0,47065000.0,54975000.0,47841000.0,35726000.0,56391000.0,33847000.0,74645000.0,53603000.0,51167000.0,44153000.0,44009000.0,43367000.0,43230000.0,34923000.0,34314000.0,31239000.0,67619000.0,66255000.0,64804000.0,64388000.0,63956000.0,63274000.0,58477000.0,48924000.0,47080000.0,40584000.0,35438000.0,43447000.0,41030000.0,34406000.0,34087000.0,41042000.0,40843000.0,27238000.0,27209000.0,15266000.0,40183000.0,36134000.0,33930000.0,32806000.0,32745000.0,48823000.0,22760000.0,21892000.0,21362000.0,15461000.0,14748000.0,72231000.0,47260000.0,47057000.0,38537000.0,3538000.0,3510000.0,35856000.0,34993000.0,4099000.0,2628000.0,53131000.0,52951000.0,61288000.0,59220000.0,57272000.0,47644000.0,47616000.0,39007000.0,38727000.0,38668000.0,58901000.0,58865000.0,49027000.0,47792000.0,44508000.0,44413000.0,44362000.0,40529000.0,41496000.0,38855000.0,38673000.0,62405000.0,62118000.0,58796000.0,58394000.0,57792000.0,50799000.0,50675000.0,34543000.0,43072000.0,66350000.0,63434000.0,62384000.0,62050000.0,50761000.0,50376000.0,48901000.0,39786000.0,44410000.0,44363000.0,39206000.0,38694000.0,38222000.0,37157000.0,43054000.0,41805000.0,40888000.0,37323000.0,66415000.0,34477000.0,1838000.0,85934000.0,85921000.0,83216000.0,83153000.0,82938000.0,54598000.0,36217000.0,32123000.0,55861000.0,53483000.0,47641000.0,47130000.0,45003000.0,44887000.0,42209000.0,41667000.0,41571000.0,36708000.0,31440000.0,31353000.0,31297000.0,31258000.0,66314000.0,60499000.0,51780000.0,51715000.0,3460000.0,81186000.0,76709000.0,73832000.0,72821000.0,61085000.0,50936000.0,44614000.0,40423000.0,39652000.0,36003000.0,53692000.0,53624000.0,49706000.0,46885000.0,43548000.0,38702000.0,53457000.0,52214000.0,45036000.0,37010000.0,67001000.0,64599000.0,63686000.0,51408000.0,49282000.0,41272000.0,40543000.0,35077000.0,4117000.0,55337000.0,49427000.0,48025000.0,38599000.0,37870000.0,50284000.0,50247000.0,43525000.0,43323000.0,41666000.0,80501000.0,80139000.0,58979000.0,58950000.0,48243000.0,48203000.0,48981000.0,41459000.0,41391000.0,53745000.0,49100000.0,48919000.0,46771000.0,58283000.0,56327000.0,55385000.0,82410000.0,81496000.0,53667000.0,52708000.0,52082000.0,50373000.0,50178000.0,49918000.0,50831000.0,30256000.0,81778000.0,80306000.0,64220000.0,46478000.0,46108000.0,46029000.0,45743000.0,45387000.0,43038000.0,43016000.0,48572000.0,42364000.0,41907000.0,44991000.0,32623000.0,32580000.0,75754000.0,57633000.0,57571000.0,55589000.0,53498000.0,53456000.0,48807000.0,48703000.0,48691000.0,46688000.0,38982000.0,34809000.0,57481000.0,54179000.0,45478000.0,63642000.0,60305000.0,52393000.0,49036000.0,48763000.0,48094000.0,33458000.0,31651000.0,31215000.0,61436000.0,60199000.0,60038000.0,59499000.0,54540000.0,50934000.0,50916000.0,43843000.0,43763000.0,43446000.0,67724000.0,67058000.0,64768000.0,59475000.0,57605000.0,56436000.0,50065000.0,70146000.0,62579000.0,40061000.0,39798000.0,39448000.0,63541000.0,64473000.0,63566000.0,36695000.0,34807000.0,31150000.0,31121000.0,31089000.0,85362000.0,81807000.0,73737000.0,71432000.0,64942000.0,64881000.0,51437000.0,38957000.0,58465000.0,56642000.0,48599000.0,46911000.0,38051000.0,35973000.0,71493000.0,66933000.0,66902000.0,60316000.0,58316000.0,58241000.0,58219000.0,50584000.0,36547000.0,36386000.0,41438000.0,35408000.0,53273000.0,70255000.0,66510000.0,57390000.0,54071000.0,55280000.0,54087000.0,52895000.0,52715000.0,39505000.0,39443000.0,31217000.0,75574000.0,75559000.0,73796000.0,73785000.0,71970000.0,66377000.0,47416000.0,47414000.0,47410000.0,47392000.0,47388000.0,42520000.0,73118000.0,70415000.0,68384000.0,68365000.0,51873000.0,51488000.0,49451000.0,48830000.0,46415000.0,46212000.0,44799000.0,43413000.0,43287000.0,60013000.0,42457000.0,42235000.0,42035000.0,41842000.0,41689000.0,41364000.0,40986000.0,39544000.0,38832000.0,64378000.0,64178000.0,60304000.0,54989000.0,54935000.0,54736000.0,52707000.0,50900000.0,38579000.0,38492000.0,37984000.0,85504000.0,84163000.0,84015000.0,81760000.0,77211000.0,72969000.0,71348000.0,63218000.0,62803000.0,62497000.0,61534000.0,60940000.0,59142000.0,58599000.0,57410000.0,60591000.0,33966000.0,54492000.0,84654000.0,83015000.0,82293000.0,82250000.0,80383000.0,79252000.0,79143000.0,78952000.0,78533000.0,78321000.0,62402000.0,62386000.0,60862000.0,59992000.0,57658000.0,52798000.0,46140000.0,44250000.0,43193000.0,42949000.0,42790000.0,34698000.0,34387000.0,33908000.0,78597000.0,65884000.0,75128000.0,71538000.0,69146000.0,68819000.0,66476000.0,62218000.0,62128000.0,61921000.0,61859000.0,61790000.0,43361000.0,62991000.0,62962000.0,49055000.0,41134000.0,78480000.0,36296000.0,66450000.0,66426000.0,66317000.0,63116000.0,49777000.0,49456000.0,44457000.0,44366000.0,39261000.0,34537000.0,55526000.0,54315000.0,32183000.0,69172000.0,67843000.0,62502000.0,39943000.0,36610000.0,36299000.0,68209000.0,62135000.0,61580000.0,64471000.0,63562000.0,63541000.0,62985000.0,62963000.0,56566000.0,52610000.0,49243000.0,47613000.0,47563000.0,46711000.0,46015000.0,45665000.0,45313000.0,41507000.0,39195000.0,32698000.0,46835000.0,44019000.0,41790000.0,39940000.0,35810000.0,70722000.0,70019000.0,68590000.0,63064000.0,56571000.0,56447000.0,54146000.0,54070000.0,58831000.0,56590000.0,49002000.0,52639000.0,51260000.0,48750000.0,48641000.0,47734000.0,32943000.0,32491000.0,77188000.0,56382000.0,53520000.0,42009000.0,35259000.0,56946000.0,56894000.0,56864000.0,51397000.0,42380000.0,42350000.0,37827000.0,37103000.0,1626000.0,75650000.0,75619000.0,75614000.0,75567000.0,75546000.0,75519000.0,75451000.0,75419000.0,62423000.0,62417000.0,50773000.0,50755000.0,50466000.0,45938000.0,42675000.0,42668000.0,39469000.0,37599000.0,35633000.0,78146000.0,69550000.0,69523000.0,67000000.0,66759000.0,63006000.0,62539000.0,61030000.0,55089000.0,79469000.0,76905000.0,69481000.0,62320000.0,60675000.0,57670000.0,55774000.0,55421000.0,55368000.0,54588000.0,43801000.0,40912000.0,40172000.0,40123000.0,36526000.0,33593000.0,33568000.0,33521000.0,33414000.0,33156000.0,74254000.0,73609000.0,70177000.0,69473000.0,65778000.0,65634000.0,62989000.0,61188000.0,60697000.0,60642000.0,52365000.0,49480000.0,49340000.0,48204000.0,46854000.0,42969000.0,41213000.0,40447000.0,40357000.0,40103000.0,39675000.0,39484000.0,39305000.0,38641000.0,38625000.0,38582000.0,38067000.0,37641000.0,37447000.0,37335000.0,37315000.0,37095000.0,37066000.0,36941000.0,36889000.0,36852000.0,36574000.0,36543000.0,36463000.0,34803000.0,32726000.0,32639000.0,1456000.0,1262000.0,1245000.0,653000.0,85584000.0,83938000.0,81599000.0,79689000.0,79396000.0,79230000.0,61797000.0,61068000.0,60027000.0,58779000.0,56751000.0,54757000.0,51564000.0,44277000.0,42766000.0,42733000.0,42565000.0,41520000.0,38004000.0,34280000.0,34251000.0,31324000.0,31308000.0,30483000.0,81978000.0,81473000.0,81356000.0,79956000.0,75803000.0,72347000.0,64663000.0,59235000.0,57699000.0,57132000.0,47349000.0,35117000.0,34674000.0,34623000.0,31243000.0,80745000.0,79775000.0,78932000.0,78700000.0,76236000.0,74565000.0,62517000.0,62390000.0,60955000.0,60883000.0,60045000.0,54419000.0,43005000.0,39161000.0,39069000.0,36292000.0,36268000.0,36245000.0,33873000.0,33863000.0,5625000.0,80727000.0,80698000.0,80661000.0,80260000.0,71981000.0,71968000.0,71567000.0,69805000.0,69745000.0,69478000.0,68675000.0,68395000.0,68224000.0,67905000.0,67805000.0,62721000.0,62649000.0,58871000.0,58710000.0,58227000.0,44051000.0,79332000.0,79309000.0,76725000.0,76612000.0,76029000.0,37024000.0,29983000.0,30043000.0,56111000.0,30623000.0,32348000.0,29882000.0,66331000.0,56735000.0,56524000.0,56263000.0,31145000.0,36987000.0,54137000.0,53221000.0,51304000.0,51003000.0,50925000.0,43370000.0,67542000.0,65628000.0,63774000.0,54917000.0,63398000.0,40162000.0,40023000.0,40235000.0,37009000.0,62354000.0,65348000.0,61807000.0,60051000.0,59381000.0,58626000.0,58382000.0,58297000.0,58129000.0,58034000.0,48235000.0,48179000.0,46169000.0,40550000.0,40533000.0,34668000.0,34646000.0,82399000.0,82066000.0,78591000.0,74304000.0,74298000.0,74204000.0,74151000.0,74132000.0,74110000.0,74091000.0,73425000.0,73336000.0,72955000.0,72756000.0,71539000.0,71207000.0,70896000.0,70779000.0,70270000.0,70157000.0,70127000.0,70023000.0,69630000.0,69300000.0,68689000.0,68019000.0,67924000.0,67598000.0,67381000.0,67035000.0,66202000.0,66109000.0,65606000.0,65557000.0,65529000.0,65235000.0,65085000.0,64528000.0,64415000.0,64268000.0,64177000.0,64063000.0,63823000.0,63518000.0,63402000.0,63395000.0,63300000.0,63127000.0,62813000.0,62670000.0,62181000.0,61980000.0,60258000.0,60122000.0,59627000.0,58725000.0,58624000.0,58520000.0,57980000.0,57558000.0,57471000.0,57426000.0,57387000.0,56283000.0,54360000.0,53684000.0,53372000.0,52650000.0,50303000.0,50183000.0,50166000.0,50104000.0,46274000.0,40235000.0,40162000.0,40023000.0,74850000.0,74559000.0,74545000.0,68860000.0,56380000.0,54557000.0,54335000.0,54311000.0,48824000.0,46204000.0,44930000.0,83471000.0,63219000.0,62156000.0,61845000.0,61188000.0,60370000.0,58748000.0,58013000.0,57705000.0,57690000.0,57252000.0,52513000.0,52360000.0,52280000.0,52224000.0,52166000.0,51053000.0,50848000.0,1664000.0,82507000.0,82413000.0,73496000.0,73355000.0,73333000.0,70149000.0,69647000.0,69540000.0,69491000.0,66395000.0,66354000.0,66336000.0,66282000.0,64636000.0,63380000.0,63270000.0,63160000.0,62709000.0,61853000.0,59626000.0,59152000.0,59144000.0,59133000.0,58143000.0,56444000.0,56432000.0,55414000.0,54727000.0,54248000.0,53156000.0,52881000.0,52277000.0,51032000.0,50877000.0,50492000.0,49047000.0,48469000.0,48257000.0,47629000.0,52750000.0,52734000.0,51375000.0,50561000.0,48458000.0,35521000.0,35294000.0,34483000.0,34407000.0,34335000.0,33207000.0,32845000.0,78033000.0,65236000.0,65190000.0,64798000.0,43056000.0,43038000.0,43026000.0,74091000.0,58215000.0,58000000.0,50740000.0,34569000.0,34230000.0,50905000.0,50447000.0,50249000.0,42024000.0,41933000.0,39483000.0,37185000.0,36402000.0,34967000.0,34694000.0,33989000.0,33814000.0,33604000.0,85040000.0,55743000.0,47096000.0,45266000.0,40874000.0,40070000.0,39406000.0,37564000.0,32709000.0,33195000.0,32811000.0,32683000.0,32664000.0,31219000.0,30791000.0,78739000.0,74202000.0,73551000.0,72010000.0,71595000.0,64746000.0,61483000.0,61226000.0,80293000.0,80242000.0,55851000.0,41152000.0,72135000.0,70482000.0,54614000.0,54261000.0,54210000.0,69066000.0,62106000.0,61920000.0,61456000.0,61434000.0,61387000.0,61340000.0,61310000.0,35433000.0,35392000.0,60046000.0,59319000.0,58782000.0,55561000.0,55514000.0,53587000.0,45509000.0,44572000.0,43846000.0,38772000.0,38683000.0,38372000.0,34996000.0,34861000.0,34751000.0,72313000.0,72156000.0,70425000.0,70417000.0,70409000.0,70402000.0,60296000.0,60193000.0,58089000.0,56907000.0,56894000.0,56881000.0,55636000.0,55594000.0,49708000.0,48929000.0,48925000.0,44313000.0,43558000.0,43350000.0,28283000.0,28257000.0,28183000.0,62998000.0,56450000.0,53039000.0,52216000.0,52116000.0,47057000.0,46238000.0,46115000.0,39001000.0,38974000.0,37546000.0,35856000.0,35779000.0,23962000.0,21516000.0,68476000.0,61136000.0,56309000.0,38420000.0,79754000.0,67698000.0,65292000.0,43106000.0,42062000.0,40951000.0,36310000.0,1451000.0,84323000.0,82362000.0,59279000.0,59260000.0,59235000.0,54814000.0,54770000.0,54297000.0,51535000.0,51479000.0,51143000.0,47415000.0,39472000.0,69349000.0,68923000.0,66212000.0,66039000.0,65914000.0,61325000.0,61301000.0,61055000.0,58355000.0,54670000.0,39693000.0,83879000.0,80221000.0,78185000.0,77892000.0,77851000.0,66337000.0,62072000.0,59746000.0,53063000.0,52953000.0,52573000.0,51820000.0,51805000.0,50894000.0,38338000.0,38211000.0,38116000.0,37823000.0,37663000.0,37577000.0,34142000.0,34127000.0,34038000.0,33935000.0,76572000.0,62996000.0,58614000.0,57797000.0,57566000.0,56880000.0,56546000.0,56525000.0,55215000.0,54764000.0,54547000.0,54506000.0,80079000.0,75988000.0,75534000.0,75186000.0,75171000.0,73936000.0,73864000.0,73505000.0,73128000.0,72372000.0,71724000.0,65245000.0,64610000.0,64519000.0,64406000.0,58443000.0,53031000.0,63665000.0,39648000.0,39545000.0,34276000.0,42453000.0,77756000.0,55106000.0,54356000.0,49890000.0,46122000.0,32160000.0,32114000.0,75995000.0,67265000.0,65916000.0,63345000.0,63135000.0,60580000.0,56203000.0,56014000.0,42091000.0,41627000.0,34357000.0,82151000.0,75136000.0,74693000.0,29586000.0,54924000.0,54030000.0,48968000.0,48866000.0,48603000.0,69892000.0,29698000.0,29205000.0,38278000.0,38076000.0,38009000.0,36355000.0,36143000.0,74007000.0,73571000.0,72441000.0,79616000.0,79524000.0,79471000.0,79433000.0,52942000.0,52714000.0,52305000.0,51883000.0,22707000.0,79347000.0,79231000.0,56735000.0,56626000.0,56069000.0,46967000.0,45729000.0,42597000.0,42237000.0,42148000.0,42112000.0,42010000.0,41947000.0,39606000.0,39467000.0,38931000.0,32984000.0,32949000.0,32921000.0,30965000.0,30809000.0,73767000.0,73748000.0,73664000.0,64933000.0,64917000.0,64885000.0,64800000.0,62743000.0,65825000.0,42466000.0,42453000.0,42450000.0,42399000.0,38935000.0,33929000.0,77339000.0,52896000.0,47264000.0,46204000.0,44368000.0,44361000.0,70833000.0,81986000.0,81922000.0,81909000.0,71810000.0,71704000.0,71358000.0,70369000.0,70173000.0,69795000.0,69681000.0,58735000.0,53158000.0,74845000.0,84769000.0,44666000.0,76156000.0,53548000.0,42763000.0,37445000.0,66513000.0,66799000.0,29431000.0,57385000.0,57466000.0,57448000.0,64898000.0,43645000.0,40850000.0,53141000.0,51489000.0,46595000.0,40185000.0,39710000.0,76221000.0,75794000.0,75054000.0,52535000.0,41700000.0,41640000.0,41556000.0,75023000.0,74110000.0,60349000.0,60132000.0,60117000.0,45237000.0,45144000.0,34576000.0,51417000.0,76882000.0,61403000.0,60513000.0,60445000.0,69411000.0,68982000.0,68962000.0,68935000.0,66894000.0,65906000.0,36042000.0,34848000.0,32759000.0,50167000.0,66579000.0,84240000.0,84183000.0,58745000.0,47595000.0,33124000.0,32611000.0,26014000.0,25507000.0,25435000.0,25416000.0,68835000.0,68338000.0,67433000.0,65494000.0,65064000.0,65001000.0,64414000.0,58659000.0,47205000.0,40796000.0,36386000.0,36368000.0,67306000.0,57702000.0,56284000.0,55117000.0,55049000.0,54713000.0,53674000.0,52735000.0,52443000.0,52347000.0,51083000.0,50479000.0,50452000.0,50346000.0,49847000.0,49527000.0,49363000.0,49233000.0,49018000.0,48431000.0,46519000.0,46506000.0,46488000.0,46461000.0,58067000.0,43360000.0,43247000.0,38556000.0,28887000.0,58580000.0,57355000.0,64525000.0,81718000.0,77707000.0,76039000.0,57798000.0,47075000.0,46625000.0,40736000.0,40602000.0,39602000.0,39509000.0,52618000.0,76203000.0,53724000.0,48095000.0,46267000.0,59510000.0,55925000.0,50273000.0,50100000.0,50012000.0,37995000.0,69249000.0,76804000.0,76569000.0,76561000.0,75790000.0,75523000.0,60654000.0,60409000.0,32706000.0,49570000.0,47845000.0,1018000.0,68415000.0,68097000.0,67901000.0,67842000.0,67686000.0,67231000.0,67203000.0,67182000.0,53295000.0,52882000.0,51224000.0,56782000.0,64002000.0,63982000.0,63951000.0,43342000.0,42797000.0,46291000.0,46139000.0,43724000.0,42879000.0,42414000.0,42934000.0,28953000.0,43683000.0,43577000.0,43378000.0,44727000.0,39358000.0,61384000.0,59580000.0,49860000.0,38910000.0,74879000.0,73013000.0,72767000.0,70901000.0,69737000.0,58491000.0,39774000.0,36390000.0,34227000.0,34141000.0,31202000.0,56320000.0,59405000.0,49217000.0,49073000.0,48714000.0,45153000.0,42208000.0,42139000.0,41846000.0,40043000.0,38474000.0,38394000.0,37683000.0,37615000.0,68834000.0,68772000.0,39008000.0,38967000.0,38938000.0,60630000.0,60532000.0,59928000.0,57568000.0,80394000.0,74312000.0,73534000.0,46392000.0,38725000.0,36497000.0,74341000.0,66550000.0,63874000.0,62789000.0,56989000.0,56819000.0,53298000.0,40612000.0,63002000.0,38672000.0,91000.0,81857000.0,54299000.0,44503000.0,32780000.0,28393000.0,84454000.0,84161000.0,84049000.0,80356000.0,80351000.0,80229000.0,79394000.0,75173000.0,75115000.0,74656000.0,74532000.0,63370000.0,63052000.0,59150000.0,57851000.0,48626000.0,34127000.0,61487000.0,58599000.0,58091000.0,57006000.0,56976000.0,56503000.0,54219000.0,36671000.0,36649000.0,36625000.0,56410000.0,2651000.0,86305000.0,84521000.0,82929000.0,77856000.0,77726000.0,70972000.0,70539000.0,69762000.0,67841000.0,66313000.0,64791000.0,60784000.0,60744000.0,60605000.0,60592000.0,50552000.0,42397000.0,59083000.0,51528000.0,50906000.0,43307000.0,41841000.0,41600000.0,41571000.0,71049000.0,46470000.0,34913000.0,34319000.0,33545000.0,32433000.0,63991000.0,63853000.0,63118000.0,62976000.0,62757000.0,43762000.0,43720000.0,56442000.0,63776000.0,60663000.0,60248000.0,34677000.0,32916000.0,70351000.0,70081000.0,69477000.0,65716000.0,64279000.0,53365000.0,28478000.0,22522000.0,22392000.0,21025000.0,19873000.0,19223000.0,19143000.0,81970000.0,73359000.0,70913000.0,70772000.0,70653000.0,68861000.0,68837000.0,68795000.0,66743000.0,66147000.0,51698000.0,49128000.0,34600000.0,71232000.0,38286000.0,38199000.0,38163000.0,27210000.0,27189000.0,27155000.0,32176000.0,31084000.0,30443000.0,30354000.0,29088000.0,28808000.0,28324000.0,22433000.0,59708000.0,68833000.0,64106000.0,54481000.0,54464000.0,54110000.0,49080000.0,43791000.0,28384000.0,42418000.0,42214000.0,83025000.0,79447000.0,79347000.0,79320000.0,79218000.0,78163000.0,49993000.0,42412000.0,42378000.0,28179000.0,53748000.0,51500000.0,51479000.0,42661000.0,41324000.0,38717000.0,38663000.0,33938000.0,77640000.0,77600000.0,77551000.0,57694000.0,48291000.0,36853000.0,65899000.0,64056000.0,61760000.0,61461000.0,60881000.0,60394000.0,58792000.0,58691000.0,58344000.0,55933000.0,55921000.0,44440000.0,44258000.0,72682000.0,53196000.0,51286000.0,42898000.0,39821000.0,62687000.0,57587000.0,50164000.0,48044000.0,59411000.0,46692000.0,56460000.0,55219000.0,55138000.0,52815000.0,49965000.0,49449000.0,37829000.0,35982000.0,34291000.0,66845000.0,66558000.0,65250000.0,64637000.0,59083000.0,50079000.0,49986000.0,49441000.0,49243000.0,43898000.0,41749000.0,39683000.0,81494000.0,79502000.0,75944000.0,74285000.0,72869000.0,71627000.0,69631000.0,65052000.0,62793000.0,60429000.0,60293000.0,34831000.0,32672000.0,32599000.0,32577000.0,32539000.0,32441000.0,32386000.0,54238000.0,60458000.0,39066000.0,38109000.0,38055000.0,36475000.0,35263000.0,34265000.0,44455000.0,44099000.0,38390000.0,38306000.0,47541000.0,44255000.0,30340000.0,74235000.0,51196000.0,46750000.0,38833000.0,59782000.0,59745000.0,52729000.0,52710000.0,49397000.0,41225000.0,37977000.0,84743000.0,84439000.0,83334000.0,79600000.0,79566000.0,77448000.0,77436000.0,77417000.0,77389000.0,77363000.0,76332000.0,73674000.0,59695000.0,58902000.0,44234000.0,42585000.0,42577000.0,41770000.0,41760000.0,41682000.0,40732000.0,33878000.0,33873000.0,32610000.0,32560000.0,32478000.0,32441000.0,75175000.0,74001000.0,70948000.0,67680000.0,53219000.0,50782000.0,44605000.0,66363000.0,66337000.0,63701000.0,63666000.0,63633000.0,45359000.0,45346000.0,44898000.0,30703000.0,29728000.0,63982000.0,63336000.0,62054000.0,61956000.0,56496000.0,55561000.0,52167000.0,41550000.0,37626000.0,36995000.0,56439000.0,57088000.0,57069000.0,56999000.0,56974000.0,38399000.0,38109000.0,35993000.0,35601000.0,33356000.0,76016000.0,72430000.0,50542000.0,50533000.0,30747000.0,30694000.0,49251000.0,47992000.0,47961000.0,47827000.0,74293000.0,37669000.0,32009000.0,34589000.0,34056000.0,32312000.0,30741000.0,49633000.0,18718000.0,52753000.0,52079000.0,51842000.0,32841000.0,32634000.0,32580000.0,21193000.0,18667000.0,49992000.0,49975000.0,49653000.0,45600000.0,40382000.0,32416000.0,30558000.0,28305000.0,24933000.0,24731000.0,24689000.0,70621000.0,70466000.0,70456000.0,67971000.0,67503000.0,63884000.0,63628000.0,63503000.0,62447000.0,58211000.0,57176000.0,51741000.0,36115000.0,32289000.0,66685000.0,64901000.0,53381000.0,52599000.0,50892000.0,45883000.0,45857000.0,42057000.0,40967000.0,40488000.0,38876000.0,38829000.0,37441000.0,37388000.0,33278000.0,63374000.0,55120000.0,35783000.0,34607000.0,32420000.0,84813000.0,84795000.0,84778000.0,80190000.0,80119000.0,79761000.0,73748000.0,71111000.0,68441000.0,67624000.0,67616000.0,61509000.0,61499000.0,48951000.0,12157000.0,11256000.0,11209000.0,8290000.0,8179000.0,8169000.0,8154000.0,78420000.0,77050000.0,76955000.0,76946000.0,76544000.0,76184000.0,73716000.0,69129000.0,66189000.0,64541000.0,59571000.0,59566000.0,57504000.0,57496000.0,55744000.0,50910000.0,50904000.0,44300000.0,43904000.0,43825000.0,43778000.0,32087000.0,31630000.0,30315000.0,24792000.0,24756000.0,74351000.0,72633000.0,49727000.0,47297000.0,35519000.0,69140000.0,42018000.0,40641000.0,40332000.0,38799000.0,60962000.0,57870000.0,54962000.0,54770000.0,49468000.0,48266000.0,45789000.0,45674000.0,39307000.0,34498000.0,31883000.0,31230000.0,78023000.0,75050000.0,71047000.0,70317000.0,62188000.0,53632000.0,50970000.0,51766000.0,35411000.0,41166000.0,41119000.0,60294000.0,59330000.0,55917000.0,50762000.0,50599000.0,49631000.0,35146000.0,33483000.0,51765000.0,51682000.0,29641000.0,62681000.0,57639000.0,40482000.0,58231000.0,57783000.0,45511000.0,34301000.0,34133000.0,34070000.0,34025000.0,33952000.0,33902000.0,33865000.0,33832000.0,33721000.0,46329000.0,54811000.0,53871000.0,42574000.0,42303000.0,42111000.0,37396000.0,34495000.0,72968000.0,70083000.0,69377000.0,61453000.0,61343000.0,60523000.0,60083000.0,59625000.0,58718000.0,54322000.0,53329000.0,53222000.0,51694000.0,51306000.0,44858000.0,35055000.0,34990000.0,34971000.0,60607000.0,42617000.0,36465000.0,36431000.0,34245000.0,74795000.0,50759000.0,49947000.0,49883000.0,49847000.0,49610000.0,48642000.0,48370000.0,48341000.0,46083000.0,46040000.0,79211000.0,54429000.0,53296000.0,51206000.0,48806000.0,48671000.0,43116000.0,42961000.0,35836000.0,35799000.0,59135000.0,58701000.0,57573000.0,55474000.0,55411000.0,54097000.0,51491000.0,43775000.0,40353000.0,38043000.0,37303000.0,33238000.0,33231000.0,37930000.0,72514000.0,72121000.0,58177000.0,43423000.0,43066000.0,37249000.0,37139000.0,56503000.0,56476000.0,59062000.0,57431000.0,57402000.0,33052000.0,32554000.0,35244000.0,34416000.0,34140000.0,32474000.0,32038000.0,6365000.0,66239000.0,56635000.0,56326000.0,24893000.0,72137000.0,54898000.0,51230000.0,46219000.0,46137000.0,43438000.0,43373000.0,42150000.0,42075000.0,41816000.0,41785000.0,41733000.0,41175000.0,40566000.0,40478000.0,39741000.0,39588000.0,39034000.0,37972000.0,37703000.0,37301000.0,32789000.0,32397000.0,29047000.0,27164000.0,26436000.0,24662000.0,85300000.0,69903000.0,69170000.0,68305000.0,67284000.0,64564000.0,57850000.0,54369000.0,54954000.0,49975000.0,49826000.0,64147000.0,45938000.0,33433000.0,72620000.0,61787000.0,60751000.0,59033000.0,54081000.0,52426000.0,51191000.0,49728000.0,49600000.0,34775000.0,83726000.0,82418000.0,77821000.0,77437000.0,77250000.0,77184000.0,77061000.0,76893000.0,65445000.0,65314000.0,65119000.0,59739000.0,51799000.0,75208000.0,49978000.0,49770000.0,44376000.0,44307000.0,43915000.0,43813000.0,40736000.0,58136000.0,52881000.0,42343000.0,42134000.0,41726000.0,40518000.0,40071000.0,39930000.0,39727000.0,37497000.0,36698000.0,33523000.0,32707000.0,52045000.0,51611000.0,47282000.0,47019000.0,44344000.0,44268000.0,43869000.0,43556000.0,41219000.0,37434000.0,81902000.0,81334000.0,80659000.0,80124000.0,77669000.0,77445000.0,77377000.0,76637000.0,54356000.0,47904000.0,47245000.0,45745000.0,45254000.0,56499000.0,56434000.0,56001000.0,51266000.0,48664000.0,47510000.0,44500000.0,35644000.0,31778000.0,28404000.0,78573000.0,40548000.0,36600000.0,62423000.0,35464000.0,35448000.0,35413000.0,29712000.0,40448000.0,48439000.0,42897000.0,74955000.0,74844000.0,69762000.0,59913000.0,40952000.0,37512000.0,36955000.0,67002000.0,58450000.0,58432000.0,57035000.0,44693000.0,37489000.0,35533000.0,33420000.0,57183000.0,57134000.0,43851000.0,42457000.0,36139000.0,35295000.0,34739000.0,33298000.0,32882000.0,83393000.0,75721000.0,29996000.0,80242000.0,79780000.0,79763000.0,79732000.0,79687000.0,50577000.0,50501000.0,48528000.0,41833000.0,36524000.0,36216000.0,31774000.0,85529000.0,75260000.0,75187000.0,74934000.0,74934000.0,69902000.0,69871000.0,67905000.0,57252000.0,52229000.0,52194000.0,83203000.0,82700000.0,82634000.0,62684000.0,31330000.0,30851000.0,71822000.0,68103000.0,66493000.0,65227000.0,56252000.0,56009000.0,55333000.0,54901000.0,54324000.0,53588000.0,53203000.0,52796000.0,52776000.0,51985000.0,39960000.0,35791000.0,32086000.0,31037000.0,81182000.0,51462000.0,51309000.0,82360000.0,70073000.0,64598000.0,63916000.0,63049000.0,62119000.0,61760000.0,77780000.0,52808000.0,79136000.0,79018000.0,78979000.0,78965000.0,76993000.0,61036000.0,56508000.0,55013000.0,35686000.0,28774000.0,79755000.0,76170000.0,76149000.0,75776000.0,65068000.0,62048000.0,48963000.0,43501000.0,35371000.0,34442000.0,31904000.0,53114000.0,45999000.0,45515000.0,45299000.0,43895000.0,41164000.0,39119000.0,38194000.0,68256000.0,63781000.0,61466000.0,59879000.0,59830000.0,55275000.0,52753000.0,51196000.0,50494000.0,48581000.0,42418000.0,40523000.0,78622000.0,61178000.0,61080000.0,54290000.0,52659000.0,52216000.0,51415000.0,51242000.0,50185000.0,47832000.0,39244000.0,37492000.0,53841000.0,55322000.0,55300000.0,51637000.0,51596000.0,51543000.0,76241000.0,72855000.0,63937000.0,63729000.0,41202000.0,40025000.0,39503000.0,35075000.0,34383000.0,32730000.0,31587000.0,39848000.0,39114000.0,36421000.0,36375000.0,36325000.0,36291000.0,36266000.0,78966000.0,78945000.0,65875000.0,65297000.0,65249000.0,64800000.0,64722000.0,74419000.0,71919000.0,71668000.0,70117000.0,69951000.0,69925000.0,69899000.0,69861000.0,56141000.0,55075000.0,42347000.0,48668000.0,47907000.0,29416000.0,29334000.0,73235000.0,72785000.0,72633000.0,72598000.0,72540000.0,72371000.0,72362000.0,69170000.0,68735000.0,67532000.0,65984000.0,65004000.0,64980000.0,83006000.0,36552000.0,35876000.0,31954000.0,52461000.0,46436000.0,42040000.0,40292000.0,47401000.0,47317000.0,60682000.0,58769000.0,58616000.0,57992000.0,56244000.0,77323000.0,51176000.0,41361000.0,39728000.0,37132000.0,36170000.0,58482000.0,76998000.0,72750000.0,55263000.0,49994000.0,49534000.0,49163000.0,41052000.0,36947000.0,36585000.0,35089000.0,33793000.0,33665000.0,32252000.0,31991000.0,51297000.0,50415000.0,40728000.0,46258000.0,46194000.0,46052000.0,46028000.0,43732000.0,43703000.0,40029000.0,39920000.0,34985000.0,61268000.0,61228000.0,61077000.0,57190000.0,57160000.0,57117000.0,53377000.0,52964000.0,52378000.0,51441000.0,51428000.0,50030000.0,49578000.0,49549000.0,33378000.0,33169000.0,52994000.0,49404000.0,46150000.0,56281000.0,36674000.0,36641000.0,46946000.0,45294000.0,44192000.0,33011000.0,26219000.0,25851000.0,74628000.0,72221000.0,67924000.0,67529000.0,73663000.0,72020000.0,57182000.0,57150000.0,44926000.0,41204000.0,40980000.0,36275000.0,41977000.0,41931000.0,64992000.0,59714000.0,55678000.0,74103000.0,58517000.0,58485000.0,52692000.0,52663000.0,49804000.0,49747000.0,48634000.0,40757000.0,33738000.0,15785000.0,58194000.0,51569000.0,51551000.0,51286000.0,41104000.0,41061000.0,55415000.0,50304000.0,48993000.0,48901000.0,48875000.0,47949000.0,37876000.0,37837000.0,36444000.0,36388000.0,62547000.0,62535000.0,81818000.0,80262000.0,80180000.0,80002000.0,71794000.0,50777000.0,40796000.0,40165000.0,49758000.0,38162000.0,38126000.0,36647000.0,6515000.0,65558000.0,65499000.0,46341000.0,46324000.0,33974000.0,78197000.0,59427000.0,43521000.0,66222000.0,64677000.0,64638000.0,60602000.0,46664000.0,46595000.0,46403000.0,31743000.0,41355000.0,55236000.0,54645000.0,54529000.0,48142000.0,47462000.0,47430000.0,44974000.0,38701000.0,57439000.0,56015000.0,52333000.0,51967000.0,38813000.0,37125000.0,34767000.0,4313000.0,51378000.0,42398000.0,42373000.0,74472000.0,73109000.0,72311000.0,72248000.0,58730000.0,54022000.0,52666000.0,52582000.0,40178000.0,35271000.0,34460000.0,27378000.0,26178000.0,76851000.0,73655000.0,69820000.0,34591000.0,73065000.0,72235000.0,72224000.0,72158000.0,72039000.0,71701000.0,55156000.0,54896000.0,53755000.0,43135000.0,35883000.0,33990000.0,32216000.0,50431000.0,47628000.0,47352000.0,36087000.0,61244000.0,61224000.0,60872000.0,57122000.0,48608000.0,47352000.0,46346000.0,44905000.0,43893000.0,42422000.0,42362000.0,33284000.0,33018000.0,53472000.0,76955000.0,74495000.0,46906000.0,31989000.0,31021000.0,30921000.0,55106000.0,45044000.0,46786000.0,46755000.0,35948000.0,79096000.0,76609000.0,74826000.0,74041000.0,56053000.0,54852000.0,35471000.0,83008000.0,81712000.0,80965000.0,79791000.0,79664000.0,79582000.0,50216000.0,30827000.0,30817000.0,41547000.0,41528000.0,27785000.0,26607000.0,26538000.0,26502000.0,54767000.0,50505000.0,33170000.0,72957000.0,72554000.0,55986000.0,51798000.0,27791000.0,24971000.0,76325000.0,75359000.0,63022000.0,61542000.0,54312000.0,83358000.0,77425000.0,73904000.0,73862000.0,73731000.0,73701000.0,53046000.0,53008000.0,35604000.0,35546000.0,33737000.0,61171000.0,43105000.0,42457000.0,36571000.0,27052000.0,77184000.0,75410000.0,53324000.0,49999000.0,49956000.0,49858000.0,49740000.0,46393000.0,52986000.0,52717000.0,52684000.0,50821000.0,41806000.0,56417000.0,35110000.0,29089000.0,29083000.0,28983000.0,28915000.0,80946000.0,76894000.0,53933000.0,50563000.0,30091000.0,30073000.0,30006000.0,79370000.0,79333000.0,78228000.0,78072000.0,59475000.0,44837000.0,44154000.0,44140000.0,41108000.0,40901000.0,40564000.0,40239000.0,40202000.0,38996000.0,38236000.0,38217000.0,36543000.0,35448000.0,33738000.0,33654000.0,33639000.0,33040000.0,80018000.0,77385000.0,77110000.0,67746000.0,65772000.0,65460000.0,59596000.0,57676000.0,55952000.0,54536000.0,53854000.0,52279000.0,50362000.0,48984000.0,47316000.0,47261000.0,47249000.0,46783000.0,44098000.0,43860000.0,43860000.0,43090000.0,43060000.0,41515000.0,41336000.0,39696000.0,39043000.0,36651000.0,34136000.0,32514000.0,31616000.0,29336000.0,72469000.0,68172000.0,63092000.0,63059000.0,45220000.0,45053000.0,41033000.0,41016000.0,48865000.0,30256000.0,28490000.0,24722000.0,84095000.0,73328000.0,64797000.0,57692000.0,54070000.0,54064000.0,51460000.0,51447000.0,47926000.0,41922000.0,35666000.0,33675000.0,33439000.0,32148000.0,31929000.0,30449000.0,76058000.0,75931000.0,73842000.0,70906000.0,62125000.0,61390000.0,58179000.0,44738000.0,38097000.0,78565000.0,76366000.0,71203000.0,71034000.0,69517000.0,69394000.0,60956000.0,59215000.0,55713000.0,55704000.0,51066000.0,46887000.0,46040000.0,45927000.0,39888000.0,34544000.0,33775000.0,26928000.0,26909000.0,26150000.0,26110000.0,78647000.0,63532000.0,63490000.0,63316000.0,62136000.0,61700000.0,60172000.0,58904000.0,46542000.0,35545000.0,34616000.0,34058000.0,33567000.0,59302000.0,45580000.0,37612000.0,82940000.0,82896000.0,67139000.0,67117000.0,65093000.0,62326000.0,59943000.0,59369000.0,59305000.0,45121000.0,45104000.0,43838000.0,80381000.0,80365000.0,75710000.0,49416000.0,43247000.0,41685000.0,40995000.0,40742000.0,39606000.0,37452000.0,58599000.0,54556000.0,53750000.0,50523000.0,50397000.0,50387000.0,45808000.0,35729000.0,83632000.0,83597000.0,77317000.0,77213000.0,76762000.0,76545000.0,76091000.0,67659000.0,62009000.0,58187000.0,56609000.0,54493000.0,54097000.0,53988000.0,47446000.0,42727000.0,84305000.0,83287000.0,82974000.0,63108000.0,62351000.0,61548000.0,60459000.0,57330000.0,51982000.0,47978000.0,47423000.0,42293000.0,41824000.0,35654000.0,35209000.0,34146000.0,32354000.0,24055000.0,80984000.0,79634000.0,78805000.0,76539000.0,76184000.0,70020000.0,54568000.0,54182000.0,50880000.0,50695000.0,49311000.0,45610000.0,43739000.0,42055000.0,40395000.0,40355000.0,40332000.0,39561000.0,39561000.0,37540000.0,63196000.0,58905000.0,57902000.0,55452000.0,45329000.0,58946000.0,58669000.0,58643000.0,56368000.0,4984000.0,4969000.0,3510000.0,2807000.0,79356000.0,76485000.0,76336000.0,68855000.0,68827000.0,68799000.0,68714000.0,59604000.0,44906000.0,41551000.0,36253000.0,36200000.0,58507000.0,57375000.0,49336000.0,76409000.0,76255000.0,58902000.0,55372000.0,54549000.0,54512000.0,54492000.0,49386000.0,49117000.0,48608000.0,46294000.0,46072000.0,42514000.0,34150000.0,33912000.0,40367000.0,38752000.0,37674000.0,37500000.0,36267000.0,34099000.0,34068000.0,32750000.0,81705000.0,60098000.0,56894000.0,56419000.0,56366000.0,53226000.0,52530000.0,45394000.0,39516000.0,76860000.0,76829000.0,62184000.0,62009000.0,58591000.0,57855000.0,40891000.0,739000.0,85729000.0,85643000.0,85469000.0,84044000.0,82924000.0,81866000.0,81708000.0,74104000.0,59317000.0,58603000.0,57043000.0,55934000.0,43487000.0,48196000.0,34944000.0,32302000.0,29122000.0,21519000.0,19334000.0,26447000.0,47116000.0,43910000.0,43827000.0,33619000.0,32809000.0,31872000.0,25849000.0,25689000.0,22487000.0,11445000.0,9228000.0,67939000.0,67923000.0,53640000.0,49819000.0,48353000.0,45478000.0,67364000.0,67333000.0,64799000.0,64510000.0,64494000.0,63296000.0,58167000.0,57730000.0,13496000.0,12784000.0,11956000.0,11146000.0,4533000.0,55909000.0,55175000.0,31738000.0,30957000.0,20115000.0,19296000.0,13284000.0,6557000.0,6542000.0,6481000.0,41707000.0,41121000.0,33720000.0,15895000.0,15886000.0,10644000.0,72280000.0,72256000.0,69627000.0,69617000.0,45683000.0,42385000.0,36726000.0,38884000.0,112000.0,85146000.0,84839000.0,84695000.0,83565000.0,82950000.0,82159000.0,77905000.0,77880000.0,72767000.0,71059000.0,71007000.0,58635000.0,57041000.0,42451000.0,42419000.0,32323000.0,32238000.0,29183000.0,26365000.0,26180000.0,80698000.0,57837000.0,40554000.0,29410000.0,28882000.0,27650000.0,80121000.0,39791000.0,30511000.0,30506000.0,30403000.0,35188000.0,35181000.0,72450000.0,50755000.0,50217000.0,49901000.0,49892000.0,49845000.0,49686000.0,49621000.0,76587000.0,60008000.0,59873000.0,56157000.0,55501000.0,55409000.0,54526000.0,54205000.0,50747000.0,45945000.0,45032000.0,44144000.0,44099000.0,43364000.0,38917000.0,37918000.0,37820000.0,36614000.0,36222000.0,35593000.0,32905000.0,54507000.0,38502000.0,37737000.0,36158000.0,86226000.0,55318000.0,53664000.0,50055000.0,43471000.0,35253000.0,35015000.0,34914000.0,33759000.0,33753000.0,32858000.0,31147000.0,86102000.0,73764000.0,71389000.0,36189000.0,34207000.0,82292000.0,1524000.0,72547000.0,71214000.0,70568000.0,64061000.0,63622000.0,59887000.0,58809000.0,58618000.0,56178000.0,49833000.0,46536000.0,44954000.0,63853000.0,61672000.0,52521000.0,47261000.0,79389000.0,79034000.0,78995000.0,78944000.0,7643000.0,6316000.0,5834000.0,5002000.0,2968000.0,81908000.0,80383000.0,78372000.0,38563000.0,71443000.0,62222000.0,54813000.0,43153000.0,36962000.0,53193000.0,35747000.0,35738000.0,35490000.0,35301000.0,56218000.0,78037000.0,49752000.0,56620000.0,50390000.0,47973000.0,44406000.0,40521000.0,40490000.0,69215000.0,68922000.0,52275000.0,48689000.0,47192000.0,69394000.0,65213000.0,63776000.0,62789000.0,54609000.0,54579000.0,38467000.0,58631000.0,55948000.0,54732000.0,54469000.0,40347000.0,40019000.0,38220000.0,38188000.0,59033000.0,58954000.0,58626000.0,56535000.0,56423000.0,37559000.0,47884000.0,40827000.0,40377000.0,28812000.0,28797000.0,28770000.0,28090000.0,24100000.0,24021000.0,23947000.0,23896000.0,52598000.0,50604000.0,40206000.0,39343000.0,33040000.0,33001000.0,66689000.0,65681000.0,65668000.0,65640000.0,32501000.0,68916000.0,68665000.0,68644000.0,37672000.0,37663000.0,69821000.0,69815000.0,69799000.0,66859000.0,86290000.0,85789000.0,84028000.0,69123000.0,69116000.0,69097000.0,59416000.0,58632000.0,57116000.0,57099000.0,54527000.0,54158000.0,41708000.0,79853000.0,53563000.0,53116000.0,52742000.0,52459000.0,50959000.0,43589000.0,43047000.0,41032000.0,40886000.0,40838000.0,32461000.0,63693000.0,60689000.0,55857000.0,55851000.0,53105000.0,50411000.0,49522000.0,49254000.0,49094000.0,86233000.0,57294000.0,53244000.0,53228000.0,55732000.0,55515000.0,44473000.0,37828000.0,37821000.0,81973000.0,60480000.0,36487000.0,36423000.0,59732000.0,56659000.0,55100000.0,50949000.0,43744000.0,43262000.0,81918000.0,66986000.0,66193000.0,62374000.0,55516000.0,46693000.0,45753000.0,44567000.0,42491000.0,41876000.0,41428000.0,40703000.0,40239000.0,38502000.0,38483000.0,37038000.0,36241000.0,35646000.0,54484000.0,46667000.0,36335000.0,42411000.0,60637000.0,59782000.0,59756000.0,59626000.0,56561000.0,56520000.0,32840000.0,63410000.0,63386000.0,63344000.0,63232000.0,61926000.0,61813000.0,61790000.0,61753000.0,36891000.0,33460000.0,32465000.0,32135000.0,27736000.0,27720000.0,86032000.0,84089000.0,84050000.0,84003000.0,81543000.0,81122000.0,81119000.0,81102000.0,61825000.0,59620000.0,55794000.0,49289000.0,48297000.0,47797000.0,46758000.0,43503000.0,42923000.0,41991000.0,40234000.0,38783000.0,79109000.0,78351000.0,76279000.0,74857000.0,73416000.0,73214000.0,25160000.0,25126000.0,82385000.0,81899000.0,80547000.0,79668000.0,78051000.0,75802000.0,75309000.0,73747000.0,72380000.0,23725000.0,23317000.0,75875000.0,75843000.0,73795000.0,71146000.0,58385000.0,57988000.0,57908000.0,57482000.0,56673000.0,53675000.0,53644000.0,53320000.0,52324000.0,52304000.0,50930000.0,49442000.0,47952000.0,59034000.0,57860000.0,22927000.0,19298000.0,10643000.0,10507000.0,9088000.0,8384000.0,59273000.0,58781000.0,27137000.0,27111000.0,27013000.0,19671000.0,36677000.0,34856000.0,34722000.0,67534000.0,67513000.0,63058000.0,63001000.0,62970000.0,45707000.0,44276000.0,33295000.0,81979000.0,75713000.0,74061000.0,61369000.0,61319000.0,61243000.0,61210000.0,61143000.0,55967000.0,55509000.0,54960000.0,54928000.0,54826000.0,52195000.0,33627000.0,77719000.0,59383000.0,58451000.0,41668000.0,61138000.0,61070000.0,57086000.0,53665000.0,53626000.0,52010000.0,38108000.0,64100000.0,56185000.0,56125000.0,39216000.0,43698000.0,39611000.0,37993000.0,34634000.0,28727000.0,26693000.0,79127000.0,78719000.0,78695000.0,45447000.0,45442000.0,40252000.0,34805000.0,34576000.0,42049000.0,42025000.0,41739000.0,74553000.0,74070000.0,73483000.0,64675000.0,64151000.0,64067000.0,59289000.0,59158000.0,58180000.0,58072000.0,57330000.0,56703000.0,56653000.0,55366000.0,55024000.0,54833000.0,53381000.0,52498000.0,50852000.0,50838000.0,47967000.0,47499000.0,45198000.0,45094000.0,42976000.0,35734000.0,32284000.0,32265000.0,31905000.0,27790000.0,74363000.0,57760000.0,56937000.0,56864000.0,56858000.0,53944000.0,53802000.0,53545000.0,53528000.0,52474000.0,32767000.0,31896000.0,31792000.0,27501000.0,47251000.0,47017000.0,46463000.0,46442000.0,40339000.0,31051000.0,50750000.0,50599000.0,49578000.0,49554000.0,73500000.0,73475000.0,70621000.0,70614000.0,70586000.0,56388000.0,55535000.0,55528000.0,48308000.0,48281000.0,47245000.0,46978000.0,40198000.0,40014000.0,39776000.0,39024000.0,36546000.0,35742000.0,30924000.0,30526000.0,30435000.0,24963000.0,24620000.0,24168000.0,23729000.0,23686000.0,23636000.0,21645000.0,21299000.0,19977000.0,55604000.0,24595000.0,24299000.0,23375000.0,23269000.0,49089000.0,48249000.0,48241000.0,36382000.0,33153000.0,33127000.0,32806000.0,27653000.0,27634000.0,27589000.0,26947000.0,18320000.0,44018000.0,43230000.0,81764000.0,81676000.0,81586000.0,80755000.0,80211000.0,80184000.0,80175000.0,79955000.0,79901000.0,59168000.0,58252000.0,50757000.0,50749000.0,50189000.0,50151000.0,50020000.0,40623000.0,31877000.0,30722000.0,30656000.0,77259000.0,77021000.0,76988000.0,73108000.0,65320000.0,63270000.0,63231000.0,54727000.0,54716000.0,54648000.0,53347000.0,53302000.0,49285000.0,48227000.0,40139000.0,83071000.0,83035000.0,66583000.0,66545000.0,66424000.0,52594000.0,52372000.0,52327000.0,59947000.0,59923000.0,32204000.0,84194000.0,82425000.0,76388000.0,74825000.0,73729000.0,70470000.0,68899000.0,64203000.0,53992000.0,53625000.0,54554000.0,53632000.0,50358000.0,49921000.0,47637000.0,47526000.0,40643000.0,3917000.0,3153000.0,3127000.0,81053000.0,81020000.0,80358000.0,77986000.0,76563000.0,74807000.0,67486000.0,67471000.0,60115000.0,57414000.0,57407000.0,84293000.0,61519000.0,61511000.0,51456000.0,51322000.0,37148000.0,37013000.0,36948000.0,60065000.0,59609000.0,53798000.0,53288000.0,52834000.0,51805000.0,51610000.0,85784000.0,56799000.0,55419000.0,52873000.0,52842000.0,52809000.0,51258000.0,51200000.0,43811000.0,43802000.0,43777000.0,38214000.0,37902000.0,36933000.0,85876000.0,85836000.0,85319000.0,78959000.0,78765000.0,75720000.0,73593000.0,70916000.0,69733000.0,69713000.0,69630000.0,65614000.0,57332000.0,56598000.0,51852000.0,51754000.0,40586000.0,37457000.0,75153000.0,73337000.0,70551000.0,70121000.0,64818000.0,64790000.0,56418000.0,55193000.0,51519000.0,49186000.0,48787000.0,48701000.0,48667000.0,34436000.0,34391000.0,2749000.0,2254000.0,84792000.0,83476000.0,83196000.0,83162000.0,79492000.0,59597000.0,55819000.0,53468000.0,58280000.0,58273000.0,57142000.0,57106000.0,54679000.0,54655000.0,34278000.0,83411000.0,53820000.0,42068000.0,41153000.0,36890000.0,36635000.0,36179000.0,58922000.0,58595000.0,43580000.0,39588000.0,33646000.0,73218000.0,38810000.0,46672000.0,46332000.0,77175000.0,59963000.0,57307000.0,57303000.0,57279000.0,57174000.0,55784000.0,54912000.0,53559000.0,53342000.0,52983000.0,52977000.0,52948000.0,35352000.0,61961000.0,56662000.0,56562000.0,55779000.0,53456000.0,51856000.0,51761000.0,50343000.0,50331000.0,48743000.0,58610000.0,58570000.0,50932000.0,40855000.0,80639000.0,82783000.0,73741000.0,72741000.0,48247000.0,46986000.0,58202000.0,55449000.0,55255000.0,54996000.0,38285000.0,38252000.0,64791000.0,60054000.0,59837000.0,59283000.0,56943000.0,50335000.0,50242000.0,50224000.0,36745000.0,77982000.0,77860000.0,77749000.0,77676000.0,77609000.0,76843000.0,69350000.0,69308000.0,69064000.0,69022000.0,49919000.0,49389000.0,49330000.0,26581000.0,26581000.0,38699000.0,71775000.0,71775000.0,28481000.0,55517000.0,51548000.0,40124000.0,54399000.0,79978000.0,76335000.0,53610000.0,53590000.0,53541000.0,47291000.0,42229000.0,42203000.0,58174000.0,51371000.0,43404000.0,42330000.0,40242000.0,48990000.0,48670000.0,48230000.0,47018000.0,46681000.0,46550000.0,46454000.0,37557000.0,37530000.0,36264000.0,36212000.0,34387000.0,34368000.0,34348000.0,33723000.0,206000.0,85903000.0,82838000.0,77590000.0,76504000.0,41269000.0,71278000.0,43723000.0,71280000.0,71209000.0,68127000.0,15066000.0,13813000.0,35482000.0,50395000.0,52968000.0,49195000.0,49154000.0,48184000.0,44294000.0,44116000.0,42304000.0,42298000.0,83805000.0,83798000.0,53396000.0,53071000.0,52735000.0,48994000.0,48087000.0,48024000.0,32253000.0,80700000.0,80572000.0,78825000.0,78340000.0,78220000.0,78152000.0,77845000.0,74165000.0,74026000.0,74007000.0,73240000.0,72779000.0,72765000.0,68470000.0,68392000.0,66351000.0,58664000.0,58556000.0,58471000.0,58410000.0,55520000.0,39043000.0,38847000.0,36048000.0,35978000.0,34567000.0,85722000.0,84971000.0,81266000.0,77481000.0,76556000.0,76549000.0,74456000.0,74432000.0,71135000.0,70133000.0,69336000.0,68279000.0,67948000.0,65438000.0,65417000.0,40248000.0,40231000.0,40203000.0,35120000.0,34990000.0,34945000.0,79692000.0,78240000.0,78063000.0,55979000.0,55506000.0,54063000.0,54045000.0,49334000.0,48928000.0,47168000.0,46973000.0,46665000.0,46628000.0,61565000.0,61557000.0,57158000.0,56724000.0,56172000.0,54208000.0,54025000.0,54004000.0,50873000.0,50137000.0,49876000.0,49767000.0,76282000.0,75757000.0,75634000.0,61555000.0,59844000.0,59822000.0,57680000.0,56600000.0,54278000.0,54270000.0,44645000.0,43744000.0,43708000.0,37592000.0,37556000.0,34488000.0,34395000.0,34066000.0,3371000.0,76163000.0,81899000.0,79167000.0,78857000.0,58644000.0,71341000.0,69101000.0,51533000.0,40796000.0,40796000.0,64417000.0,62735000.0,57061000.0,51092000.0,39167000.0,83345000.0,5031000.0,4323000.0,76308000.0,76091000.0,76054000.0,72072000.0,43412000.0,43395000.0,42798000.0,38143000.0,38143000.0,63146000.0,61822000.0,61399000.0,61399000.0,61087000.0,61052000.0,59572000.0,59572000.0,51141000.0,51119000.0,50744000.0,49818000.0,49371000.0,47146000.0,46104000.0,44380000.0,43783000.0,43738000.0,43198000.0,625000.0,85413000.0,79072000.0,67396000.0,65276000.0,65276000.0,65231000.0,65183000.0,65172000.0,63669000.0,58138000.0,58115000.0,44178000.0,41567000.0,5731000.0,5164000.0,85901000.0,84027000.0,83232000.0,83204000.0,66962000.0,64246000.0,30309000.0,30262000.0,25525000.0,19045000.0,16786000.0,14885000.0,14035000.0,74469000.0,16813000.0,13944000.0,1495000.0,636000.0,86131000.0,85834000.0,83399000.0,83005000.0,82969000.0,63672000.0,45993000.0,45903000.0,45154000.0,45011000.0,40972000.0,40022000.0,39507000.0,34603000.0,32580000.0,73855000.0,59956000.0,49214000.0,48780000.0,48687000.0,48417000.0,48042000.0,47967000.0,37772000.0,23070000.0,22212000.0,22212000.0,22207000.0,6301000.0,85578000.0,83806000.0,82348000.0,80754000.0,79868000.0,79369000.0,79079000.0,78594000.0,74387000.0,72603000.0,72411000.0,72298000.0,72243000.0,58032000.0,57687000.0,57183000.0,56232000.0,56232000.0,55851000.0,54433000.0,54433000.0,54075000.0,48724000.0,50857000.0,33694000.0,33675000.0,31727000.0,31693000.0,31318000.0,31303000.0,2661000.0,80838000.0,80529000.0,77748000.0,77717000.0,77649000.0,77649000.0,77633000.0,75795000.0,75134000.0,72702000.0,52416000.0,51092000.0,51085000.0,51005000.0,50972000.0,50921000.0,45532000.0,45571000.0,45532000.0,45532000.0,81515000.0,81487000.0,81487000.0,76745000.0,76707000.0,76707000.0,67691000.0,67626000.0,67626000.0,67275000.0,67275000.0,67241000.0,66456000.0,66456000.0,64142000.0,63946000.0,61167000.0,61167000.0,61133000.0,61097000.0,60953000.0,52826000.0,46569000.0,46569000.0,46535000.0,46467000.0,62317000.0,62003000.0,62003000.0,61986000.0,60916000.0,60916000.0,60886000.0,49334000.0,48415000.0,47429000.0,46990000.0,45503000.0,69735000.0,35737000.0,35737000.0,35223000.0,35223000.0,35030000.0,35002000.0,85167000.0,85049000.0,84687000.0,33359000.0,63046000.0,63032000.0,62772000.0,62772000.0,62751000.0,62751000.0,62711000.0,62711000.0,58236000.0,58236000.0,58219000.0,57297000.0,57297000.0,57123000.0,54419000.0,54356000.0,48560000.0,45573000.0,42332000.0,63906000.0,63436000.0,61720000.0,61720000.0,61716000.0,61250000.0,55424000.0,53272000.0,52281000.0,52281000.0,52277000.0,40071000.0,38028000.0,61703000.0,53345000.0,51975000.0,41524000.0,41415000.0,41323000.0,49644000.0,55157000.0,54822000.0,54249000.0,54217000.0,64432000.0,64432000.0,64416000.0,64409000.0,61838000.0,61773000.0,60755000.0,60755000.0,56076000.0,56076000.0,56076000.0,55886000.0,55337000.0,55337000.0,55300000.0,53314000.0,52410000.0,52393000.0,52360000.0,50150000.0,40355000.0,40355000.0,40355000.0,36397000.0,30988000.0,29905000.0,29892000.0,28336000.0,28336000.0,28336000.0,28270000.0,28235000.0,67199000.0,67199000.0,67199000.0,57981000.0,57028000.0,57028000.0,56979000.0,54608000.0,53834000.0,53777000.0,51719000.0,51139000.0,49757000.0,49715000.0,49083000.0,48312000.0,78007000.0,68975000.0,45100000.0,63842000.0,52473000.0,50129000.0,42009000.0,41784000.0,41784000.0,41784000.0,58122000.0,58083000.0,84858000.0,84858000.0,80007000.0,78298000.0,78210000.0,76316000.0,76316000.0,67772000.0,67772000.0,62663000.0,62663000.0,48674000.0,48374000.0,45002000.0,43522000.0,43423000.0,41122000.0,40894000.0,40367000.0,40334000.0,64888000.0,64888000.0,45996000.0,45818000.0,30657000.0,30006000.0,28261000.0,26749000.0,26621000.0,26471000.0,30559000.0,62093000.0,62093000.0,62075000.0,62075000.0,58420000.0,58420000.0,56039000.0,56039000.0,52777000.0,52765000.0,48024000.0,48024000.0,48024000.0,41543000.0,28149000.0,50594000.0,27602000.0,26763000.0,26357000.0,83769000.0,83761000.0,2628000.0,80945000.0,80707000.0,80696000.0,76922000.0,76904000.0,54485000.0,53794000.0,53014000.0,51085000.0,84398000.0,81980000.0,80332000.0,77740000.0,4253000.0,4067000.0,4042000.0,84846000.0,75533000.0,80035000.0,79998000.0,67907000.0,63188000.0,63182000.0,60625000.0,58662000.0,57946000.0,57068000.0,57068000.0,56934000.0,33638000.0,37885000.0,28196000.0,3423000.0,81697000.0,56334000.0,56138000.0,65209000.0,65176000.0,64135000.0,62472000.0,51618000.0,51182000.0,40855000.0,38331000.0,62068000.0,61284000.0,47947000.0,43909000.0,48434000.0,40596000.0,47419000.0,47415000.0,41514000.0,78888000.0,77918000.0,60773000.0,59130000.0,57409000.0,57369000.0,57357000.0,61475000.0,452000.0,60975000.0,56470000.0,55840000.0,51767000.0,36749000.0,36749000.0,35654000.0,66609000.0,66580000.0,2660000.0,2640000.0,79241000.0,74090000.0,73954000.0,73929000.0,69075000.0,68299000.0,64160000.0,48520000.0,48232000.0,48187000.0,40351000.0,39271000.0,36995000.0,68327000.0,66688000.0,66619000.0,66549000.0,66517000.0,58018000.0,52174000.0,40663000.0,37143000.0,58275000.0,36784000.0,57283000.0,54595000.0,46216000.0,52251000.0,36022000.0,44999000.0,44981000.0,44956000.0,36787000.0,50487000.0,43481000.0,37909000.0,62709000.0,61307000.0,61245000.0,39157000.0,39145000.0,39123000.0,38191000.0,62125000.0,62100000.0,62073000.0,58882000.0,58680000.0,43473000.0,58896000.0,58817000.0,58088000.0,58034000.0,58002000.0,38945000.0,38735000.0,36025000.0,32942000.0,32450000.0,32223000.0,83088000.0,79089000.0,56078000.0,55119000.0,48269000.0,54173000.0,24670000.0,56039000.0,50378000.0,84915000.0,68171000.0,61022000.0,38879000.0,38351000.0,37812000.0,36962000.0,36576000.0,36354000.0,36220000.0,67657000.0,61284000.0,67657000.0,61284000.0,50909000.0,45721000.0,45660000.0,47461000.0,47199000.0,66949000.0,65840000.0,4593000.0,1539000.0,79802000.0,79784000.0,62536000.0,56579000.0,56546000.0,63575000.0,63404000.0,40853000.0,40647000.0,46983000.0,46935000.0,78728000.0,63742000.0,3911000.0,962000.0,82465000.0,82442000.0,73077000.0,37792000.0,74378000.0,36876000.0,3605000.0,34000.0,78431000.0,78329000.0,77662000.0,76448000.0,76407000.0,36622000.0,36615000.0,9103000.0,9092000.0,79647000.0,77109000.0,63049000.0,76929000.0,76060000.0,54967000.0,39283000.0,61304000.0,47123000.0,62197000.0,39102000.0,39081000.0,82004000.0,80813000.0,80773000.0,80714000.0,80653000.0,61876000.0,60136000.0,54458000.0,50655000.0,50578000.0,50364000.0,50345000.0,47927000.0,47654000.0,46104000.0,39062000.0,36291000.0,35773000.0,77004000.0,69883000.0,65543000.0,64924000.0,62284000.0,58566000.0,57673000.0,57648000.0,57618000.0,47624000.0,82306000.0,80716000.0,76243000.0,6217000.0,6045000.0,83173000.0,76451000.0,55319000.0,52787000.0,52188000.0,50328000.0,48660000.0,48607000.0,48217000.0,47833000.0,45455000.0,44825000.0,40637000.0,54712000.0,33404000.0,32280000.0,47359000.0,47340000.0,45452000.0,45276000.0,45209000.0,45045000.0,44990000.0,44848000.0,44793000.0,44730000.0,47379000.0,46358000.0,44532000.0,39204000.0,65908000.0,61737000.0,58959000.0,59329000.0,64003000.0,43070000.0]},\"selected\":{\"id\":\"9287\",\"type\":\"Selection\"},\"selection_policy\":{\"id\":\"9286\",\"type\":\"UnionRenderers\"}},\"id\":\"8918\",\"type\":\"ColumnDataSource\"},{\"attributes\":{\"months\":[0,6]},\"id\":\"9284\",\"type\":\"MonthsTicker\"},{\"attributes\":{\"fill_alpha\":{\"value\":0.1},\"fill_color\":{\"value\":\"#1f77b4\"},\"line_alpha\":{\"value\":0.1},\"line_color\":{\"value\":\"#1f77b4\"},\"x\":{\"field\":\"time\"},\"y\":{\"field\":\"day\",\"transform\":{\"id\":\"8952\",\"type\":\"Jitter\"}}},\"id\":\"8955\",\"type\":\"Circle\"},{\"attributes\":{\"callback\":null,\"range_padding\":0},\"id\":\"8922\",\"type\":\"DataRange1d\"},{\"attributes\":{\"range\":{\"id\":\"8924\",\"type\":\"FactorRange\"},\"width\":0.6},\"id\":\"8952\",\"type\":\"Jitter\"},{\"attributes\":{\"active_drag\":\"auto\",\"active_inspect\":\"auto\",\"active_multi\":null,\"active_scroll\":\"auto\",\"active_tap\":\"auto\",\"tools\":[{\"id\":\"8939\",\"type\":\"PanTool\"},{\"id\":\"8940\",\"type\":\"WheelZoomTool\"},{\"id\":\"8941\",\"type\":\"BoxZoomTool\"},{\"id\":\"8942\",\"type\":\"SaveTool\"},{\"id\":\"8943\",\"type\":\"ResetTool\"},{\"id\":\"8944\",\"type\":\"HelpTool\"}]},\"id\":\"8945\",\"type\":\"Toolbar\"},{\"attributes\":{},\"id\":\"8939\",\"type\":\"PanTool\"},{\"attributes\":{\"months\":[0,2,4,6,8,10]},\"id\":\"9282\",\"type\":\"MonthsTicker\"},{\"attributes\":{\"callback\":null,\"factors\":[\"Sun\",\"Sat\",\"Fri\",\"Thu\",\"Wed\",\"Tue\",\"Mon\"]},\"id\":\"8924\",\"type\":\"FactorRange\"},{\"attributes\":{},\"id\":\"8940\",\"type\":\"WheelZoomTool\"},{\"attributes\":{\"formatter\":{\"id\":\"8958\",\"type\":\"DatetimeTickFormatter\"},\"ticker\":{\"id\":\"8931\",\"type\":\"DatetimeTicker\"}},\"id\":\"8930\",\"type\":\"DatetimeAxis\"},{\"attributes\":{\"overlay\":{\"id\":\"9288\",\"type\":\"BoxAnnotation\"}},\"id\":\"8941\",\"type\":\"BoxZoomTool\"},{\"attributes\":{\"mantissas\":[1,2,5],\"max_interval\":500.0,\"num_minor_ticks\":0},\"id\":\"9274\",\"type\":\"AdaptiveTicker\"},{\"attributes\":{\"days\":[\"%Hh\"]},\"id\":\"8958\",\"type\":\"DatetimeTickFormatter\"},{\"attributes\":{},\"id\":\"8942\",\"type\":\"SaveTool\"},{\"attributes\":{\"fill_alpha\":{\"value\":0.3},\"fill_color\":{\"value\":\"#1f77b4\"},\"line_alpha\":{\"value\":0.3},\"line_color\":{\"value\":\"#1f77b4\"},\"x\":{\"field\":\"time\"},\"y\":{\"field\":\"day\",\"transform\":{\"id\":\"8952\",\"type\":\"Jitter\"}}},\"id\":\"8954\",\"type\":\"Circle\"},{\"attributes\":{},\"id\":\"8928\",\"type\":\"CategoricalScale\"},{\"attributes\":{},\"id\":\"8943\",\"type\":\"ResetTool\"},{\"attributes\":{\"base\":60,\"mantissas\":[1,2,5,10,15,20,30],\"max_interval\":1800000.0,\"min_interval\":1000.0,\"num_minor_ticks\":0},\"id\":\"9275\",\"type\":\"AdaptiveTicker\"},{\"attributes\":{},\"id\":\"9286\",\"type\":\"UnionRenderers\"},{\"attributes\":{},\"id\":\"9270\",\"type\":\"CategoricalTickFormatter\"},{\"attributes\":{},\"id\":\"8926\",\"type\":\"LinearScale\"},{\"attributes\":{\"formatter\":{\"id\":\"9270\",\"type\":\"CategoricalTickFormatter\"},\"ticker\":{\"id\":\"8936\",\"type\":\"CategoricalTicker\"}},\"id\":\"8935\",\"type\":\"CategoricalAxis\"},{\"attributes\":{},\"id\":\"8944\",\"type\":\"HelpTool\"},{\"attributes\":{\"base\":24,\"mantissas\":[1,2,4,6,8,12],\"max_interval\":43200000.0,\"min_interval\":3600000.0,\"num_minor_ticks\":0},\"id\":\"9276\",\"type\":\"AdaptiveTicker\"},{\"attributes\":{\"days\":[1,4,7,10,13,16,19,22,25,28]},\"id\":\"9278\",\"type\":\"DaysTicker\"},{\"attributes\":{\"source\":{\"id\":\"8918\",\"type\":\"ColumnDataSource\"}},\"id\":\"8957\",\"type\":\"CDSView\"},{\"attributes\":{\"days\":[1,8,15,22]},\"id\":\"9279\",\"type\":\"DaysTicker\"},{\"attributes\":{\"days\":[1,2,3,4,5,6,7,8,9,10,11,12,13,14,15,16,17,18,19,20,21,22,23,24,25,26,27,28,29,30,31]},\"id\":\"9277\",\"type\":\"DaysTicker\"},{\"attributes\":{\"months\":[0,1,2,3,4,5,6,7,8,9,10,11]},\"id\":\"9281\",\"type\":\"MonthsTicker\"},{\"attributes\":{},\"id\":\"9285\",\"type\":\"YearsTicker\"},{\"attributes\":{\"num_minor_ticks\":5,\"tickers\":[{\"id\":\"9274\",\"type\":\"AdaptiveTicker\"},{\"id\":\"9275\",\"type\":\"AdaptiveTicker\"},{\"id\":\"9276\",\"type\":\"AdaptiveTicker\"},{\"id\":\"9277\",\"type\":\"DaysTicker\"},{\"id\":\"9278\",\"type\":\"DaysTicker\"},{\"id\":\"9279\",\"type\":\"DaysTicker\"},{\"id\":\"9280\",\"type\":\"DaysTicker\"},{\"id\":\"9281\",\"type\":\"MonthsTicker\"},{\"id\":\"9282\",\"type\":\"MonthsTicker\"},{\"id\":\"9283\",\"type\":\"MonthsTicker\"},{\"id\":\"9284\",\"type\":\"MonthsTicker\"},{\"id\":\"9285\",\"type\":\"YearsTicker\"}]},\"id\":\"8931\",\"type\":\"DatetimeTicker\"},{\"attributes\":{},\"id\":\"8936\",\"type\":\"CategoricalTicker\"},{\"attributes\":{\"ticker\":{\"id\":\"8931\",\"type\":\"DatetimeTicker\"}},\"id\":\"8934\",\"type\":\"Grid\"},{\"attributes\":{\"data_source\":{\"id\":\"8918\",\"type\":\"ColumnDataSource\"},\"glyph\":{\"id\":\"8954\",\"type\":\"Circle\"},\"hover_glyph\":null,\"muted_glyph\":null,\"nonselection_glyph\":{\"id\":\"8955\",\"type\":\"Circle\"},\"selection_glyph\":null,\"view\":{\"id\":\"8957\",\"type\":\"CDSView\"}},\"id\":\"8956\",\"type\":\"GlyphRenderer\"}],\"root_ids\":[\"8919\"]},\"title\":\"Bokeh Application\",\"version\":\"1.3.4\"}};\n",
       "  var render_items = [{\"docid\":\"9403f628-be9a-4cc9-85b9-85ad93e6dbf6\",\"roots\":{\"8919\":\"2952870f-c442-494c-897a-20e3bb48df40\"}}];\n",
       "  root.Bokeh.embed.embed_items_notebook(docs_json, render_items);\n",
       "\n",
       "  }\n",
       "  if (root.Bokeh !== undefined) {\n",
       "    embed_document(root);\n",
       "  } else {\n",
       "    var attempts = 0;\n",
       "    var timer = setInterval(function(root) {\n",
       "      if (root.Bokeh !== undefined) {\n",
       "        embed_document(root);\n",
       "        clearInterval(timer);\n",
       "      }\n",
       "      attempts++;\n",
       "      if (attempts > 100) {\n",
       "        console.log(\"Bokeh: ERROR: Unable to run BokehJS code because BokehJS library is missing\");\n",
       "        clearInterval(timer);\n",
       "      }\n",
       "    }, 10, root)\n",
       "  }\n",
       "})(window);"
      ],
      "application/vnd.bokehjs_exec.v0+json": ""
     },
     "metadata": {
      "application/vnd.bokehjs_exec.v0+json": {
       "id": "8919"
      }
     },
     "output_type": "display_data"
    }
   ],
   "source": [
    "from bokeh.transform import jitter\n",
    "\n",
    "DAYS = ['Sun', 'Sat', 'Fri', 'Thu', 'Wed', 'Tue', 'Mon']\n",
    "\n",
    "source = ColumnDataSource(data)\n",
    "\n",
    "p = figure(plot_width=800, plot_height=300, y_range=DAYS, x_axis_type='datetime', \n",
    "           title=\"Commits by Time of Day (US/Central) 2012—2016\")\n",
    "\n",
    "p.circle(x='time', y=jitter('day', width=0.6, range=p.y_range),  source=source, alpha=0.3)\n",
    "\n",
    "p.xaxis[0].formatter.days = ['%Hh']\n",
    "p.x_range.range_padding = 0\n",
    "p.ygrid.grid_line_color = None\n",
    "\n",
    "show(p)"
   ]
  },
  {
   "cell_type": "code",
   "execution_count": 17,
   "metadata": {
    "collapsed": true,
    "jupyter": {
     "outputs_hidden": true
    }
   },
   "outputs": [],
   "source": [
    "# Exercise:\n"
   ]
  },
  {
   "cell_type": "code",
   "execution_count": null,
   "metadata": {
    "collapsed": true,
    "jupyter": {
     "outputs_hidden": true
    }
   },
   "outputs": [],
   "source": []
  }
 ],
 "metadata": {
  "anaconda-cloud": {},
  "kernelspec": {
   "display_name": "Python 3",
   "language": "python",
   "name": "python3"
  },
  "language_info": {
   "codemirror_mode": {
    "name": "ipython",
    "version": 3
   },
   "file_extension": ".py",
   "mimetype": "text/x-python",
   "name": "python",
   "nbconvert_exporter": "python",
   "pygments_lexer": "ipython3",
   "version": "3.7.4"
  },
  "widgets": {
   "application/vnd.jupyter.widget-state+json": {
    "state": {},
    "version_major": 2,
    "version_minor": 0
   }
  }
 },
 "nbformat": 4,
 "nbformat_minor": 4
}
