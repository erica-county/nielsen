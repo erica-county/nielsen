{
 "cells": [
  {
   "cell_type": "markdown",
   "metadata": {
    "slideshow": {
     "slide_type": "slide"
    }
   },
   "source": [
    "# Introduction to SQL"
   ]
  },
  {
   "cell_type": "markdown",
   "metadata": {
    "slideshow": {
     "slide_type": "subslide"
    }
   },
   "source": [
    "|DATA TYPE | DESCRIPTION |\n",
    "| ------ | ------ |\n",
    "|NULL\t|The value is a NULL value|\n",
    "|INTEGER\t|The value is a signed integer, stored in 1, 2, 3, 4, 6,or 8 bytes depending on the magnitude of the value|\n",
    "|REAL\t|The value is a floating point value, stored in 8-bytes|\n",
    "|TEXT\t|The value is a text string|\n",
    "|BLOB\t|The data is stored exactly as it was input, Used for binary data like images. |"
   ]
  },
  {
   "cell_type": "markdown",
   "metadata": {
    "slideshow": {
     "slide_type": "slide"
    }
   },
   "source": [
    "![](Schema2.png)"
   ]
  },
  {
   "cell_type": "markdown",
   "metadata": {
    "slideshow": {
     "slide_type": "skip"
    }
   },
   "source": [
    "If the \"Passengers\" Table were to be connected to the \"Trips\" table, which column in \"Passengers\" should be used as the \"Foreign Key\". E.g. which column in Passengers will allow it to be related to \"Trips\"\n"
   ]
  },
  {
   "cell_type": "markdown",
   "metadata": {
    "slideshow": {
     "slide_type": "slide"
    }
   },
   "source": [
    "### Using DB Browser\n",
    "\n",
    "<center>\n",
    "    <img src = 'images/dbrowse.png' />\n",
    "</center>"
   ]
  },
  {
   "cell_type": "markdown",
   "metadata": {
    "slideshow": {
     "slide_type": "slide"
    }
   },
   "source": [
    "##### `SELECT`\n",
    "\n",
    "```sql\n",
    "SELECT colnames\n",
    "FROM tablename\n",
    "WHERE conditions\n",
    "GROUP BY colnames\n",
    "HAVING conditions\n",
    "ORDER BY colnames\n",
    "```"
   ]
  },
  {
   "cell_type": "markdown",
   "metadata": {
    "slideshow": {
     "slide_type": "slide"
    }
   },
   "source": [
    "**Return whole table**\n",
    "\n",
    "```sql\n",
    "SELECT *\n",
    "FROM torrents\n",
    "```"
   ]
  },
  {
   "cell_type": "markdown",
   "metadata": {
    "slideshow": {
     "slide_type": "subslide"
    }
   },
   "source": [
    "**Select specific columns**\n",
    "\n",
    "```sql\n",
    "SELECT groupName, artist, groupYear\n",
    "FROM torrents;\n",
    "```"
   ]
  },
  {
   "cell_type": "markdown",
   "metadata": {
    "slideshow": {
     "slide_type": "subslide"
    }
   },
   "source": [
    "**Limit output**\n",
    "\n",
    "```sql\n",
    "SELECT *\n",
    "FROM torrents\n",
    "LIMIT 5;\n",
    "```"
   ]
  },
  {
   "cell_type": "markdown",
   "metadata": {
    "slideshow": {
     "slide_type": "slide"
    }
   },
   "source": [
    "`WHERE` \n",
    "\n",
    "```SQL\n",
    "SELECT groupName, artist, groupYear\n",
    "FROM torrents\n",
    "WHERE groupYear < 1985;\n",
    "```"
   ]
  },
  {
   "cell_type": "markdown",
   "metadata": {
    "slideshow": {
     "slide_type": "subslide"
    }
   },
   "source": [
    "**Combining Conditions**\n",
    "\n",
    "```sql\n",
    "SELECT groupName, artist\n",
    "FROM torrents\n",
    "WHERE groupYear < 1990 AND groupYear > 1985;\n",
    "```"
   ]
  },
  {
   "cell_type": "markdown",
   "metadata": {
    "slideshow": {
     "slide_type": "subslide"
    }
   },
   "source": [
    "**BETWEEN**\n",
    "\n",
    "```sql\n",
    "SELECT groupName, artist\n",
    "FROM torrents\n",
    "WHERE totalSnatched > 500 AND groupYear BETWEEN 1983 AND 1985;\n",
    "```"
   ]
  },
  {
   "cell_type": "markdown",
   "metadata": {
    "slideshow": {
     "slide_type": "subslide"
    }
   },
   "source": [
    "**IN**\n",
    "\n",
    "```sql\n",
    "SELECT groupName, artist\n",
    "FROM torrents\n",
    "WHERE totalSnatched > 500 AND groupYear IN (1980, 1984, 1987);\n",
    "```"
   ]
  },
  {
   "cell_type": "markdown",
   "metadata": {
    "slideshow": {
     "slide_type": "slide"
    }
   },
   "source": [
    "**Sorting Results**\n",
    "\n",
    "```sql\n",
    "SELECT groupName, artist\n",
    "FROM torrents\n",
    "WHERE groupYear = 1984\n",
    "ORDER BY totalSnatched;\n",
    "```"
   ]
  },
  {
   "cell_type": "markdown",
   "metadata": {
    "slideshow": {
     "slide_type": "subslide"
    }
   },
   "source": [
    "**ASC** and **DESC**\n",
    "\n",
    "```sql\n",
    "SELECT groupName, artist\n",
    "FROM torrents\n",
    "WHERE groupYear = 1984\n",
    "ORDER BY totalSnatched DESC;\n",
    "```"
   ]
  },
  {
   "cell_type": "markdown",
   "metadata": {
    "slideshow": {
     "slide_type": "slide"
    }
   },
   "source": [
    "##### PROBLEMS\n",
    "\n",
    "We will use the example from w3schools [here](https://www.w3schools.com/sql/trysql.asp?filename=trysql_op_in).\n",
    "\n",
    "1. Write a `SELECT` statement to select all columns from the `Employees` table.\n",
    "2. What is the name of the customer from Germany in the customers table?\n",
    "3. Write a query to return the orders with quantity between 10 and 20 in the `OrderDetails` table.\n",
    "4. Sort the orders in descending order based on quantity in the `OrderDetails` table and limit the results to 5."
   ]
  },
  {
   "cell_type": "markdown",
   "metadata": {
    "slideshow": {
     "slide_type": "slide"
    }
   },
   "source": [
    "**Create New Columns**\n",
    "\n",
    "```sql\n",
    "SELECT D02_total_plot * 2.4701\n",
    "FROM PLOTS;\n",
    "```"
   ]
  },
  {
   "cell_type": "markdown",
   "metadata": {
    "slideshow": {
     "slide_type": "subslide"
    }
   },
   "source": [
    "**Alias'**\n",
    "\n",
    "```sql\n",
    "SELECT D02_total_plot * 2.4701 AS D02_total_plot_converted\n",
    "FROM Plots;\n",
    "```"
   ]
  },
  {
   "cell_type": "markdown",
   "metadata": {
    "slideshow": {
     "slide_type": "subslide"
    }
   },
   "source": [
    "**Built-in Functions**\n",
    "\n",
    "```sql\n",
    "SELECT ROUND(D02_total_plot * 2.4701, 2) as D02_total_plot_converted\n",
    "FROM Plots;\n",
    "```"
   ]
  },
  {
   "cell_type": "markdown",
   "metadata": {
    "slideshow": {
     "slide_type": "slide"
    }
   },
   "source": [
    "**Dates**\n",
    "\n",
    "yyyy-mm-dd\n",
    "\n",
    "```sql\n",
    "SELECT A01_interview_date,\n",
    "       substr(A01_interview_date,7,4) as year,\n",
    "       substr(A01_interview_date,4,2) as month,\n",
    "       substr(A01_interview_date,1,2) as day\n",
    "FROM Farms;\n",
    "```"
   ]
  },
  {
   "cell_type": "markdown",
   "metadata": {
    "slideshow": {
     "slide_type": "subslide"
    }
   },
   "source": [
    "```sql\n",
    "SELECT A01_interview_date,\n",
    "       substr(A01_interview_date,7,4) || '-' ||\n",
    "       substr(A01_interview_date,4,2) || '-' ||\n",
    "       substr(A01_interview_date,1,2) as converted_date\n",
    "FROM Farms;\n",
    "```"
   ]
  },
  {
   "cell_type": "markdown",
   "metadata": {
    "slideshow": {
     "slide_type": "subslide"
    }
   },
   "source": [
    "```sql\n",
    "SELECT A01_interview_date,\n",
    "       date(\n",
    "       substr(A01_interview_date,7,4) || '-' ||\n",
    "       substr(A01_interview_date,4,2) || '-' ||\n",
    "       substr(A01_interview_date,1,2)\n",
    "       ) as converted_date\n",
    "FROM Farms;\n",
    "```"
   ]
  },
  {
   "cell_type": "markdown",
   "metadata": {
    "slideshow": {
     "slide_type": "subslide"
    }
   },
   "source": [
    "```sql\n",
    "SELECT A01_interview_date,\n",
    "       date(\n",
    "       substr(A01_interview_date,7,4) || '-' ||\n",
    "       substr(A01_interview_date,4,2) || '-' ||\n",
    "       substr(A01_interview_date,1,2)\n",
    "       ) as converted_date\n",
    "FROM Farms\n",
    "ORDER BY converted_date;\n",
    "```"
   ]
  },
  {
   "cell_type": "markdown",
   "metadata": {
    "slideshow": {
     "slide_type": "slide"
    }
   },
   "source": [
    "**CASE**\n",
    "\n",
    "```sql\n",
    "SELECT Id, country,\n",
    "       CASE country\n",
    "           WHEN 'Moz' THEN 'Mozambique'\n",
    "           WHEN 'Taz' THEN 'Tanzania'\n",
    "       ELSE 'Unknown Country'\n",
    "       END AS country_fullname\n",
    "FROM Farms;\n",
    "```"
   ]
  },
  {
   "cell_type": "markdown",
   "metadata": {
    "slideshow": {
     "slide_type": "subslide"
    }
   },
   "source": [
    "```sql\n",
    "SELECT Id, A11_years_farm,\n",
    "       CASE\n",
    "           WHEN  A11_years_farm BETWEEN 1 AND 10 THEN '1-10'\n",
    "           WHEN  A11_years_farm BETWEEN 11 AND 20 THEN '11-20'\n",
    "           WHEN  A11_years_farm BETWEEN 21 AND 30 THEN '21-30'\n",
    "           WHEN  A11_years_farm BETWEEN 31 AND 40 THEN '31-40'\n",
    "           WHEN  A11_years_farm BETWEEN 41 AND 50 THEN '41-50'\n",
    "           WHEN  A11_years_farm BETWEEN 41 AND 50 THEN '51-60'\n",
    "       ELSE '> 60'       \n",
    "       END AS A11_years_farm_range\n",
    "FROM Farms;\n",
    "```"
   ]
  },
  {
   "cell_type": "markdown",
   "metadata": {
    "slideshow": {
     "slide_type": "slide"
    }
   },
   "source": [
    "**distinct**\n",
    "\n",
    "```sql\n",
    "SELECT distinct A06_province\n",
    "from Farms;\n",
    "```"
   ]
  },
  {
   "cell_type": "markdown",
   "metadata": {
    "slideshow": {
     "slide_type": "slide"
    }
   },
   "source": [
    "**group by**\n",
    "\n",
    "\n",
    "```sql\n",
    "SELECT A08_ward, COUNT(*) as How_many\n",
    "FROM Farms\n",
    "GROUP BY A08_ward;\n",
    "```\n"
   ]
  },
  {
   "cell_type": "markdown",
   "metadata": {
    "slideshow": {
     "slide_type": "slide"
    }
   },
   "source": [
    "**aggregation in groups**\n",
    "\n",
    "```sql\n",
    "SELECT A09_village,\n",
    "       min(A11_years_farm) as min\n",
    "FROM Farms\n",
    "GROUP BY A09_village \n",
    "LIMIT 5;\n",
    "```"
   ]
  },
  {
   "cell_type": "markdown",
   "metadata": {
    "slideshow": {
     "slide_type": "slide"
    }
   },
   "source": [
    "**PROBLEM**\n",
    "\n",
    "1. Using the database in W3 schools, write a query that will return a count of the countries in our `Customers` table.\n",
    "2. How many countries have more than 10 records in the Customers table?\n",
    "3. If you wanted the results from:\n",
    "```sql\n",
    "SELECT COUNT(*), Country \n",
    "FROM Customers \n",
    "GROUP BY Country;\n",
    "```\n",
    "to be *ordered by the count*, what could you add to the end of the query?\n",
    "4. What price appears three and only three times in the \"Products\" table?\n",
    "\n"
   ]
  },
  {
   "cell_type": "markdown",
   "metadata": {
    "slideshow": {
     "slide_type": "slide"
    }
   },
   "source": [
    "### JOINS\n",
    "\n",
    "**Which Farms with more than 12 people in the household grow Maize?**"
   ]
  },
  {
   "cell_type": "markdown",
   "metadata": {
    "slideshow": {
     "slide_type": "fragment"
    }
   },
   "source": [
    "```sql\n",
    "SELECT * FROM Crops\n",
    "WHERE D_curr_crop = 'maize';\n",
    "```\n",
    "\n"
   ]
  },
  {
   "cell_type": "markdown",
   "metadata": {
    "slideshow": {
     "slide_type": "fragment"
    }
   },
   "source": [
    "```sql\n",
    "SELECT Id, B_no_membrs \n",
    "FROM Farms\n",
    "WHERE B_no_membrs > 12;\n",
    "```"
   ]
  },
  {
   "cell_type": "markdown",
   "metadata": {
    "slideshow": {
     "slide_type": "fragment"
    }
   },
   "source": [
    "```SQL\n",
    "SELECT a.Id, a.B_no_membrs,\n",
    "       b.Id, b.D_curr_crop\n",
    "FROM Farms AS a\n",
    "JOIN Crops AS b\n",
    "ON a.Id = b.Id AND a.B_no_membrs > 12 AND b.D_curr_crop = 'maize';\n",
    "```"
   ]
  },
  {
   "cell_type": "markdown",
   "metadata": {
    "slideshow": {
     "slide_type": "slide"
    }
   },
   "source": [
    "**PROBLEMS**\n",
    "\n",
    "1. After running the query below, what is the FirstName of the employee responsible for ID 10255.\n",
    "```sql\n",
    "SELECT Orders.OrderID, Employees.FirstName FROM Orders \n",
    "LEFT JOIN Employees ON Orders.EmployeeID = Employees.EmployeeID;\n",
    "```"
   ]
  },
  {
   "cell_type": "markdown",
   "metadata": {
    "slideshow": {
     "slide_type": "slide"
    }
   },
   "source": [
    "EX: See which Employee is reponsible for the most money spent by customers. \n",
    "\n",
    "- Joining Order Detail with Products Table (and start to use aliases).\n",
    "-  multiply our quantity by our price\n",
    "- sum the total cost while grouping by OrderID\n",
    "- Finally, \"Quantity\" will also be summed so that average price per item might be calculated later. OrderID will be kept, as it is needed to relate this information to the employee table.\n",
    "\n"
   ]
  },
  {
   "cell_type": "markdown",
   "metadata": {
    "slideshow": {
     "slide_type": "fragment"
    }
   },
   "source": [
    "- First add a join to the \"Orders\" Table, which provides EmployeeID:\n",
    "- Then add a join with Employees table;\n",
    "- Finally modify the GROUP BY to find the total sales of each employee;"
   ]
  },
  {
   "cell_type": "markdown",
   "metadata": {
    "slideshow": {
     "slide_type": "slide"
    }
   },
   "source": [
    "**PROBLEMS**\n",
    "\n",
    "1. How many orders is the employee with first name \"Laura\" responsible for?\n",
    "2. How many total items is \"Speedy Express\" responsible for shipping?\n",
    "3. What PostalCode (from Customers table) recieved the most expensive order?\n"
   ]
  },
  {
   "cell_type": "markdown",
   "metadata": {
    "slideshow": {
     "slide_type": "slide"
    }
   },
   "source": [
    "### Connecting with Pandas"
   ]
  },
  {
   "cell_type": "code",
   "execution_count": 14,
   "metadata": {
    "slideshow": {
     "slide_type": "fragment"
    }
   },
   "outputs": [],
   "source": [
    "#!pip install sqlalchemy"
   ]
  },
  {
   "cell_type": "code",
   "execution_count": 38,
   "metadata": {
    "slideshow": {
     "slide_type": "fragment"
    }
   },
   "outputs": [],
   "source": [
    "import pandas as pd\n",
    "from sqlalchemy import create_engine"
   ]
  },
  {
   "cell_type": "code",
   "execution_count": 30,
   "metadata": {
    "slideshow": {
     "slide_type": "fragment"
    }
   },
   "outputs": [],
   "source": [
    "engine = create_engine('sqlite:///hiphop.sqlite')"
   ]
  },
  {
   "cell_type": "code",
   "execution_count": 31,
   "metadata": {
    "slideshow": {
     "slide_type": "subslide"
    }
   },
   "outputs": [],
   "source": [
    "sql = \"\"\"\n",
    "SELECT *\n",
    "FROM torrents;\n",
    "\"\"\""
   ]
  },
  {
   "cell_type": "code",
   "execution_count": 34,
   "metadata": {
    "slideshow": {
     "slide_type": "fragment"
    }
   },
   "outputs": [],
   "source": [
    "df = pd.read_sql_query(sql, engine)"
   ]
  },
  {
   "cell_type": "code",
   "execution_count": 37,
   "metadata": {
    "slideshow": {
     "slide_type": "subslide"
    }
   },
   "outputs": [
    {
     "data": {
      "text/html": [
       "<div>\n",
       "<style scoped>\n",
       "    .dataframe tbody tr th:only-of-type {\n",
       "        vertical-align: middle;\n",
       "    }\n",
       "\n",
       "    .dataframe tbody tr th {\n",
       "        vertical-align: top;\n",
       "    }\n",
       "\n",
       "    .dataframe thead th {\n",
       "        text-align: right;\n",
       "    }\n",
       "</style>\n",
       "<table border=\"1\" class=\"dataframe\">\n",
       "  <thead>\n",
       "    <tr style=\"text-align: right;\">\n",
       "      <th></th>\n",
       "      <th>groupName</th>\n",
       "      <th>totalSnatched</th>\n",
       "      <th>artist</th>\n",
       "      <th>groupYear</th>\n",
       "      <th>releaseType</th>\n",
       "      <th>groupId</th>\n",
       "      <th>id</th>\n",
       "    </tr>\n",
       "  </thead>\n",
       "  <tbody>\n",
       "    <tr>\n",
       "      <td>0</td>\n",
       "      <td>superappin&amp;#39;</td>\n",
       "      <td>239</td>\n",
       "      <td>grandmaster flash &amp; the furious five</td>\n",
       "      <td>1979</td>\n",
       "      <td>single</td>\n",
       "      <td>720949</td>\n",
       "      <td>0</td>\n",
       "    </tr>\n",
       "    <tr>\n",
       "      <td>1</td>\n",
       "      <td>spiderap / a corona jam</td>\n",
       "      <td>156</td>\n",
       "      <td>ron hunt &amp; ronnie g &amp; the sm crew</td>\n",
       "      <td>1979</td>\n",
       "      <td>single</td>\n",
       "      <td>728752</td>\n",
       "      <td>1</td>\n",
       "    </tr>\n",
       "    <tr>\n",
       "      <td>2</td>\n",
       "      <td>rapper&amp;#39;s delight</td>\n",
       "      <td>480</td>\n",
       "      <td>sugarhill gang</td>\n",
       "      <td>1979</td>\n",
       "      <td>single</td>\n",
       "      <td>18513</td>\n",
       "      <td>2</td>\n",
       "    </tr>\n",
       "    <tr>\n",
       "      <td>3</td>\n",
       "      <td>rap-o clap-o / el rap-o clap-o</td>\n",
       "      <td>200</td>\n",
       "      <td>joe bataan</td>\n",
       "      <td>1979</td>\n",
       "      <td>single</td>\n",
       "      <td>756236</td>\n",
       "      <td>3</td>\n",
       "    </tr>\n",
       "    <tr>\n",
       "      <td>4</td>\n",
       "      <td>christmas rappin&amp;#39;</td>\n",
       "      <td>109</td>\n",
       "      <td>kurtis blow</td>\n",
       "      <td>1979</td>\n",
       "      <td>single</td>\n",
       "      <td>71818958</td>\n",
       "      <td>4</td>\n",
       "    </tr>\n",
       "  </tbody>\n",
       "</table>\n",
       "</div>"
      ],
      "text/plain": [
       "                        groupName  totalSnatched  \\\n",
       "0                 superappin&#39;            239   \n",
       "1         spiderap / a corona jam            156   \n",
       "2            rapper&#39;s delight            480   \n",
       "3  rap-o clap-o / el rap-o clap-o            200   \n",
       "4           christmas rappin&#39;            109   \n",
       "\n",
       "                                 artist  groupYear releaseType   groupId  id  \n",
       "0  grandmaster flash & the furious five       1979      single    720949   0  \n",
       "1     ron hunt & ronnie g & the sm crew       1979      single    728752   1  \n",
       "2                        sugarhill gang       1979      single     18513   2  \n",
       "3                            joe bataan       1979      single    756236   3  \n",
       "4                           kurtis blow       1979      single  71818958   4  "
      ]
     },
     "execution_count": 37,
     "metadata": {},
     "output_type": "execute_result"
    }
   ],
   "source": [
    "df.head()"
   ]
  },
  {
   "cell_type": "markdown",
   "metadata": {
    "slideshow": {
     "slide_type": "slide"
    }
   },
   "source": [
    "**EXIT**\n",
    "\n",
    "https://docs.google.com/forms/d/e/1FAIpQLSd5SzTaPSgeWj0ZmdltKlUM21cepqCRd2mmb2p52KUqSYCuGw/viewform?usp=sf_link"
   ]
  }
 ],
 "metadata": {
  "celltoolbar": "Slideshow",
  "kernelspec": {
   "display_name": "Python 3",
   "language": "python",
   "name": "python3"
  },
  "language_info": {
   "codemirror_mode": {
    "name": "ipython",
    "version": 3
   },
   "file_extension": ".py",
   "mimetype": "text/x-python",
   "name": "python",
   "nbconvert_exporter": "python",
   "pygments_lexer": "ipython3",
   "version": "3.7.4"
  },
  "widgets": {
   "application/vnd.jupyter.widget-state+json": {
    "state": {},
    "version_major": 2,
    "version_minor": 0
   }
  }
 },
 "nbformat": 4,
 "nbformat_minor": 4
}
